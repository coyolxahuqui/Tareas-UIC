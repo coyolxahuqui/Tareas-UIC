{
  "cells": [
    {
      "cell_type": "markdown",
      "metadata": {
        "id": "view-in-github",
        "colab_type": "text"
      },
      "source": [
        "<a href=\"https://colab.research.google.com/github/coyolxahuqui/Tareas-UIC/blob/main/LDA%20Papers.ipynb\" target=\"_parent\"><img src=\"https://colab.research.google.com/assets/colab-badge.svg\" alt=\"Open In Colab\"/></a>"
      ]
    },
    {
      "cell_type": "code",
      "execution_count": null,
      "metadata": {
        "id": "Cpuys71qAo7R"
      },
      "outputs": [],
      "source": [
        "import pandas as pd\n"
      ]
    },
    {
      "cell_type": "code",
      "source": [
        "!ls /content/workshop/papers.csv"
      ],
      "metadata": {
        "colab": {
          "base_uri": "https://localhost:8080/"
        },
        "id": "z1dQIM_iF08-",
        "outputId": "7a3cf1e8-3c46-46ce-8b5b-f8685a947c43"
      },
      "execution_count": null,
      "outputs": [
        {
          "output_type": "stream",
          "name": "stdout",
          "text": [
            "/content/workshop/papers.csv\n"
          ]
        }
      ]
    },
    {
      "cell_type": "code",
      "source": [
        "papers_location = '/content/workshop/papers.csv'"
      ],
      "metadata": {
        "id": "ffAlQZN_F4vJ"
      },
      "execution_count": null,
      "outputs": []
    },
    {
      "cell_type": "code",
      "source": [
        "papers = pd.read_csv(papers_location)"
      ],
      "metadata": {
        "id": "wycNPLc6GDBh"
      },
      "execution_count": null,
      "outputs": []
    },
    {
      "cell_type": "code",
      "source": [
        "papers.sample(10)"
      ],
      "metadata": {
        "colab": {
          "base_uri": "https://localhost:8080/",
          "height": 835
        },
        "id": "PBFm0_QrGHC1",
        "outputId": "3620da64-dcda-4f91-cb20-6ef5864d60d6"
      },
      "execution_count": null,
      "outputs": [
        {
          "output_type": "execute_result",
          "data": {
            "text/plain": [
              "        id  year                                              title  \\\n",
              "6612  6982  2017  On Tensor Train Rank Minimization : Statistica...   \n",
              "4027  4645  2012  Stochastic optimization and sparse statistical...   \n",
              "4141  4748  2012  Automatic Feature Induction for Stagewise Coll...   \n",
              "2975  3697  2009  Thresholding Procedures for High Dimensional V...   \n",
              "1262   215  1989  Pulse-Firing Neural Chips for Hundreds of Neurons   \n",
              "6963   743  1993  An Analog VLSI Model of Central Pattern Genera...   \n",
              "213   1194  1996                  An Apobayesian Relative of Winnow   \n",
              "740   1677  1999   The Entropy Regularization Information Criterion   \n",
              "1843  2674  2004        Maximising Sensitivity in a Spiking Network   \n",
              "5881  6320  2016  Efficient state-space modularization for plann...   \n",
              "\n",
              "     event_type                                           pdf_name  \\\n",
              "6612     Poster  6982-on-tensor-train-rank-minimization-statist...   \n",
              "4027        NaN  4645-stochastic-optimization-and-sparse-statis...   \n",
              "4141        NaN  4748-automatic-feature-induction-for-stagewise...   \n",
              "2975        NaN  3697-thresholding-procedures-for-high-dimensio...   \n",
              "1262        NaN  215-pulse-firing-neural-chips-for-hundreds-of-...   \n",
              "6963        NaN  743-an-analog-vlsi-model-of-central-pattern-ge...   \n",
              "213         NaN         1194-an-apobayesian-relative-of-winnow.pdf   \n",
              "740         NaN  1677-the-entropy-regularization-information-cr...   \n",
              "1843        NaN  2674-maximising-sensitivity-in-a-spiking-netwo...   \n",
              "5881     Poster  6320-efficient-state-space-modularization-for-...   \n",
              "\n",
              "                                               abstract  \\\n",
              "6612  Tensor train (TT) decomposition provides a spa...   \n",
              "4027  We develop and analyze stochastic optimization...   \n",
              "4141  Recent approaches to collaborative filtering h...   \n",
              "2975  Given $n$ noisy samples with $p$ dimensions, w...   \n",
              "1262                                   Abstract Missing   \n",
              "6963                                   Abstract Missing   \n",
              "213                                    Abstract Missing   \n",
              "740                                    Abstract Missing   \n",
              "1843                                   Abstract Missing   \n",
              "5881  Even in state-spaces of modest size, planning ...   \n",
              "\n",
              "                                             paper_text  \n",
              "6612  On Tensor Train Rank Minimization: Statistical...  \n",
              "4027  Stochastic optimization and sparse statistical...  \n",
              "4141  Automatic Feature Induction\\nfor Stagewise Col...  \n",
              "2975  Thresholding Procedures for High Dimensional\\n...  \n",
              "1262  Pulse-Firing Neural Chips for Hundreds of Neur...  \n",
              "6963  An Analog VLSI Model of Central Pattern\\nGener...  \n",
              "213   An Apobayesian Relative of Winnow\\n\\nNick Litt...  \n",
              "740   The Entropy Regularization\\nInformation Criter...  \n",
              "1843  Maximising Sensitivity in a Spiking Network\\n\\...  \n",
              "5881  Efficient state-space modularization for plann...  "
            ],
            "text/html": [
              "\n",
              "  <div id=\"df-380068c2-7c29-4461-a982-e08549bd4a14\" class=\"colab-df-container\">\n",
              "    <div>\n",
              "<style scoped>\n",
              "    .dataframe tbody tr th:only-of-type {\n",
              "        vertical-align: middle;\n",
              "    }\n",
              "\n",
              "    .dataframe tbody tr th {\n",
              "        vertical-align: top;\n",
              "    }\n",
              "\n",
              "    .dataframe thead th {\n",
              "        text-align: right;\n",
              "    }\n",
              "</style>\n",
              "<table border=\"1\" class=\"dataframe\">\n",
              "  <thead>\n",
              "    <tr style=\"text-align: right;\">\n",
              "      <th></th>\n",
              "      <th>id</th>\n",
              "      <th>year</th>\n",
              "      <th>title</th>\n",
              "      <th>event_type</th>\n",
              "      <th>pdf_name</th>\n",
              "      <th>abstract</th>\n",
              "      <th>paper_text</th>\n",
              "    </tr>\n",
              "  </thead>\n",
              "  <tbody>\n",
              "    <tr>\n",
              "      <th>6612</th>\n",
              "      <td>6982</td>\n",
              "      <td>2017</td>\n",
              "      <td>On Tensor Train Rank Minimization : Statistica...</td>\n",
              "      <td>Poster</td>\n",
              "      <td>6982-on-tensor-train-rank-minimization-statist...</td>\n",
              "      <td>Tensor train (TT) decomposition provides a spa...</td>\n",
              "      <td>On Tensor Train Rank Minimization: Statistical...</td>\n",
              "    </tr>\n",
              "    <tr>\n",
              "      <th>4027</th>\n",
              "      <td>4645</td>\n",
              "      <td>2012</td>\n",
              "      <td>Stochastic optimization and sparse statistical...</td>\n",
              "      <td>NaN</td>\n",
              "      <td>4645-stochastic-optimization-and-sparse-statis...</td>\n",
              "      <td>We develop and analyze stochastic optimization...</td>\n",
              "      <td>Stochastic optimization and sparse statistical...</td>\n",
              "    </tr>\n",
              "    <tr>\n",
              "      <th>4141</th>\n",
              "      <td>4748</td>\n",
              "      <td>2012</td>\n",
              "      <td>Automatic Feature Induction for Stagewise Coll...</td>\n",
              "      <td>NaN</td>\n",
              "      <td>4748-automatic-feature-induction-for-stagewise...</td>\n",
              "      <td>Recent approaches to collaborative filtering h...</td>\n",
              "      <td>Automatic Feature Induction\\nfor Stagewise Col...</td>\n",
              "    </tr>\n",
              "    <tr>\n",
              "      <th>2975</th>\n",
              "      <td>3697</td>\n",
              "      <td>2009</td>\n",
              "      <td>Thresholding Procedures for High Dimensional V...</td>\n",
              "      <td>NaN</td>\n",
              "      <td>3697-thresholding-procedures-for-high-dimensio...</td>\n",
              "      <td>Given $n$ noisy samples with $p$ dimensions, w...</td>\n",
              "      <td>Thresholding Procedures for High Dimensional\\n...</td>\n",
              "    </tr>\n",
              "    <tr>\n",
              "      <th>1262</th>\n",
              "      <td>215</td>\n",
              "      <td>1989</td>\n",
              "      <td>Pulse-Firing Neural Chips for Hundreds of Neurons</td>\n",
              "      <td>NaN</td>\n",
              "      <td>215-pulse-firing-neural-chips-for-hundreds-of-...</td>\n",
              "      <td>Abstract Missing</td>\n",
              "      <td>Pulse-Firing Neural Chips for Hundreds of Neur...</td>\n",
              "    </tr>\n",
              "    <tr>\n",
              "      <th>6963</th>\n",
              "      <td>743</td>\n",
              "      <td>1993</td>\n",
              "      <td>An Analog VLSI Model of Central Pattern Genera...</td>\n",
              "      <td>NaN</td>\n",
              "      <td>743-an-analog-vlsi-model-of-central-pattern-ge...</td>\n",
              "      <td>Abstract Missing</td>\n",
              "      <td>An Analog VLSI Model of Central Pattern\\nGener...</td>\n",
              "    </tr>\n",
              "    <tr>\n",
              "      <th>213</th>\n",
              "      <td>1194</td>\n",
              "      <td>1996</td>\n",
              "      <td>An Apobayesian Relative of Winnow</td>\n",
              "      <td>NaN</td>\n",
              "      <td>1194-an-apobayesian-relative-of-winnow.pdf</td>\n",
              "      <td>Abstract Missing</td>\n",
              "      <td>An Apobayesian Relative of Winnow\\n\\nNick Litt...</td>\n",
              "    </tr>\n",
              "    <tr>\n",
              "      <th>740</th>\n",
              "      <td>1677</td>\n",
              "      <td>1999</td>\n",
              "      <td>The Entropy Regularization Information Criterion</td>\n",
              "      <td>NaN</td>\n",
              "      <td>1677-the-entropy-regularization-information-cr...</td>\n",
              "      <td>Abstract Missing</td>\n",
              "      <td>The Entropy Regularization\\nInformation Criter...</td>\n",
              "    </tr>\n",
              "    <tr>\n",
              "      <th>1843</th>\n",
              "      <td>2674</td>\n",
              "      <td>2004</td>\n",
              "      <td>Maximising Sensitivity in a Spiking Network</td>\n",
              "      <td>NaN</td>\n",
              "      <td>2674-maximising-sensitivity-in-a-spiking-netwo...</td>\n",
              "      <td>Abstract Missing</td>\n",
              "      <td>Maximising Sensitivity in a Spiking Network\\n\\...</td>\n",
              "    </tr>\n",
              "    <tr>\n",
              "      <th>5881</th>\n",
              "      <td>6320</td>\n",
              "      <td>2016</td>\n",
              "      <td>Efficient state-space modularization for plann...</td>\n",
              "      <td>Poster</td>\n",
              "      <td>6320-efficient-state-space-modularization-for-...</td>\n",
              "      <td>Even in state-spaces of modest size, planning ...</td>\n",
              "      <td>Efficient state-space modularization for plann...</td>\n",
              "    </tr>\n",
              "  </tbody>\n",
              "</table>\n",
              "</div>\n",
              "    <div class=\"colab-df-buttons\">\n",
              "\n",
              "  <div class=\"colab-df-container\">\n",
              "    <button class=\"colab-df-convert\" onclick=\"convertToInteractive('df-380068c2-7c29-4461-a982-e08549bd4a14')\"\n",
              "            title=\"Convert this dataframe to an interactive table.\"\n",
              "            style=\"display:none;\">\n",
              "\n",
              "  <svg xmlns=\"http://www.w3.org/2000/svg\" height=\"24px\" viewBox=\"0 -960 960 960\">\n",
              "    <path d=\"M120-120v-720h720v720H120Zm60-500h600v-160H180v160Zm220 220h160v-160H400v160Zm0 220h160v-160H400v160ZM180-400h160v-160H180v160Zm440 0h160v-160H620v160ZM180-180h160v-160H180v160Zm440 0h160v-160H620v160Z\"/>\n",
              "  </svg>\n",
              "    </button>\n",
              "\n",
              "  <style>\n",
              "    .colab-df-container {\n",
              "      display:flex;\n",
              "      gap: 12px;\n",
              "    }\n",
              "\n",
              "    .colab-df-convert {\n",
              "      background-color: #E8F0FE;\n",
              "      border: none;\n",
              "      border-radius: 50%;\n",
              "      cursor: pointer;\n",
              "      display: none;\n",
              "      fill: #1967D2;\n",
              "      height: 32px;\n",
              "      padding: 0 0 0 0;\n",
              "      width: 32px;\n",
              "    }\n",
              "\n",
              "    .colab-df-convert:hover {\n",
              "      background-color: #E2EBFA;\n",
              "      box-shadow: 0px 1px 2px rgba(60, 64, 67, 0.3), 0px 1px 3px 1px rgba(60, 64, 67, 0.15);\n",
              "      fill: #174EA6;\n",
              "    }\n",
              "\n",
              "    .colab-df-buttons div {\n",
              "      margin-bottom: 4px;\n",
              "    }\n",
              "\n",
              "    [theme=dark] .colab-df-convert {\n",
              "      background-color: #3B4455;\n",
              "      fill: #D2E3FC;\n",
              "    }\n",
              "\n",
              "    [theme=dark] .colab-df-convert:hover {\n",
              "      background-color: #434B5C;\n",
              "      box-shadow: 0px 1px 3px 1px rgba(0, 0, 0, 0.15);\n",
              "      filter: drop-shadow(0px 1px 2px rgba(0, 0, 0, 0.3));\n",
              "      fill: #FFFFFF;\n",
              "    }\n",
              "  </style>\n",
              "\n",
              "    <script>\n",
              "      const buttonEl =\n",
              "        document.querySelector('#df-380068c2-7c29-4461-a982-e08549bd4a14 button.colab-df-convert');\n",
              "      buttonEl.style.display =\n",
              "        google.colab.kernel.accessAllowed ? 'block' : 'none';\n",
              "\n",
              "      async function convertToInteractive(key) {\n",
              "        const element = document.querySelector('#df-380068c2-7c29-4461-a982-e08549bd4a14');\n",
              "        const dataTable =\n",
              "          await google.colab.kernel.invokeFunction('convertToInteractive',\n",
              "                                                    [key], {});\n",
              "        if (!dataTable) return;\n",
              "\n",
              "        const docLinkHtml = 'Like what you see? Visit the ' +\n",
              "          '<a target=\"_blank\" href=https://colab.research.google.com/notebooks/data_table.ipynb>data table notebook</a>'\n",
              "          + ' to learn more about interactive tables.';\n",
              "        element.innerHTML = '';\n",
              "        dataTable['output_type'] = 'display_data';\n",
              "        await google.colab.output.renderOutput(dataTable, element);\n",
              "        const docLink = document.createElement('div');\n",
              "        docLink.innerHTML = docLinkHtml;\n",
              "        element.appendChild(docLink);\n",
              "      }\n",
              "    </script>\n",
              "  </div>\n",
              "\n",
              "\n",
              "<div id=\"df-8b1edc08-ff89-470b-8322-d4ac9431982c\">\n",
              "  <button class=\"colab-df-quickchart\" onclick=\"quickchart('df-8b1edc08-ff89-470b-8322-d4ac9431982c')\"\n",
              "            title=\"Suggest charts\"\n",
              "            style=\"display:none;\">\n",
              "\n",
              "<svg xmlns=\"http://www.w3.org/2000/svg\" height=\"24px\"viewBox=\"0 0 24 24\"\n",
              "     width=\"24px\">\n",
              "    <g>\n",
              "        <path d=\"M19 3H5c-1.1 0-2 .9-2 2v14c0 1.1.9 2 2 2h14c1.1 0 2-.9 2-2V5c0-1.1-.9-2-2-2zM9 17H7v-7h2v7zm4 0h-2V7h2v10zm4 0h-2v-4h2v4z\"/>\n",
              "    </g>\n",
              "</svg>\n",
              "  </button>\n",
              "\n",
              "<style>\n",
              "  .colab-df-quickchart {\n",
              "      --bg-color: #E8F0FE;\n",
              "      --fill-color: #1967D2;\n",
              "      --hover-bg-color: #E2EBFA;\n",
              "      --hover-fill-color: #174EA6;\n",
              "      --disabled-fill-color: #AAA;\n",
              "      --disabled-bg-color: #DDD;\n",
              "  }\n",
              "\n",
              "  [theme=dark] .colab-df-quickchart {\n",
              "      --bg-color: #3B4455;\n",
              "      --fill-color: #D2E3FC;\n",
              "      --hover-bg-color: #434B5C;\n",
              "      --hover-fill-color: #FFFFFF;\n",
              "      --disabled-bg-color: #3B4455;\n",
              "      --disabled-fill-color: #666;\n",
              "  }\n",
              "\n",
              "  .colab-df-quickchart {\n",
              "    background-color: var(--bg-color);\n",
              "    border: none;\n",
              "    border-radius: 50%;\n",
              "    cursor: pointer;\n",
              "    display: none;\n",
              "    fill: var(--fill-color);\n",
              "    height: 32px;\n",
              "    padding: 0;\n",
              "    width: 32px;\n",
              "  }\n",
              "\n",
              "  .colab-df-quickchart:hover {\n",
              "    background-color: var(--hover-bg-color);\n",
              "    box-shadow: 0 1px 2px rgba(60, 64, 67, 0.3), 0 1px 3px 1px rgba(60, 64, 67, 0.15);\n",
              "    fill: var(--button-hover-fill-color);\n",
              "  }\n",
              "\n",
              "  .colab-df-quickchart-complete:disabled,\n",
              "  .colab-df-quickchart-complete:disabled:hover {\n",
              "    background-color: var(--disabled-bg-color);\n",
              "    fill: var(--disabled-fill-color);\n",
              "    box-shadow: none;\n",
              "  }\n",
              "\n",
              "  .colab-df-spinner {\n",
              "    border: 2px solid var(--fill-color);\n",
              "    border-color: transparent;\n",
              "    border-bottom-color: var(--fill-color);\n",
              "    animation:\n",
              "      spin 1s steps(1) infinite;\n",
              "  }\n",
              "\n",
              "  @keyframes spin {\n",
              "    0% {\n",
              "      border-color: transparent;\n",
              "      border-bottom-color: var(--fill-color);\n",
              "      border-left-color: var(--fill-color);\n",
              "    }\n",
              "    20% {\n",
              "      border-color: transparent;\n",
              "      border-left-color: var(--fill-color);\n",
              "      border-top-color: var(--fill-color);\n",
              "    }\n",
              "    30% {\n",
              "      border-color: transparent;\n",
              "      border-left-color: var(--fill-color);\n",
              "      border-top-color: var(--fill-color);\n",
              "      border-right-color: var(--fill-color);\n",
              "    }\n",
              "    40% {\n",
              "      border-color: transparent;\n",
              "      border-right-color: var(--fill-color);\n",
              "      border-top-color: var(--fill-color);\n",
              "    }\n",
              "    60% {\n",
              "      border-color: transparent;\n",
              "      border-right-color: var(--fill-color);\n",
              "    }\n",
              "    80% {\n",
              "      border-color: transparent;\n",
              "      border-right-color: var(--fill-color);\n",
              "      border-bottom-color: var(--fill-color);\n",
              "    }\n",
              "    90% {\n",
              "      border-color: transparent;\n",
              "      border-bottom-color: var(--fill-color);\n",
              "    }\n",
              "  }\n",
              "</style>\n",
              "\n",
              "  <script>\n",
              "    async function quickchart(key) {\n",
              "      const quickchartButtonEl =\n",
              "        document.querySelector('#' + key + ' button');\n",
              "      quickchartButtonEl.disabled = true;  // To prevent multiple clicks.\n",
              "      quickchartButtonEl.classList.add('colab-df-spinner');\n",
              "      try {\n",
              "        const charts = await google.colab.kernel.invokeFunction(\n",
              "            'suggestCharts', [key], {});\n",
              "      } catch (error) {\n",
              "        console.error('Error during call to suggestCharts:', error);\n",
              "      }\n",
              "      quickchartButtonEl.classList.remove('colab-df-spinner');\n",
              "      quickchartButtonEl.classList.add('colab-df-quickchart-complete');\n",
              "    }\n",
              "    (() => {\n",
              "      let quickchartButtonEl =\n",
              "        document.querySelector('#df-8b1edc08-ff89-470b-8322-d4ac9431982c button');\n",
              "      quickchartButtonEl.style.display =\n",
              "        google.colab.kernel.accessAllowed ? 'block' : 'none';\n",
              "    })();\n",
              "  </script>\n",
              "</div>\n",
              "\n",
              "    </div>\n",
              "  </div>\n"
            ]
          },
          "metadata": {},
          "execution_count": 5
        }
      ]
    },
    {
      "cell_type": "code",
      "source": [
        "papers.columns"
      ],
      "metadata": {
        "colab": {
          "base_uri": "https://localhost:8080/"
        },
        "id": "18SAQRxnGJDe",
        "outputId": "54f21c1a-1471-4043-dff1-edbddc351d6f"
      },
      "execution_count": null,
      "outputs": [
        {
          "output_type": "execute_result",
          "data": {
            "text/plain": [
              "Index(['id', 'year', 'title', 'event_type', 'pdf_name', 'abstract',\n",
              "       'paper_text'],\n",
              "      dtype='object')"
            ]
          },
          "metadata": {},
          "execution_count": 6
        }
      ]
    },
    {
      "cell_type": "code",
      "source": [
        "papers = papers.drop(columns=['id', 'event_type', 'pdf_name'], axis=1)"
      ],
      "metadata": {
        "id": "CWmN7CvgGMvq"
      },
      "execution_count": null,
      "outputs": []
    },
    {
      "cell_type": "code",
      "source": [
        "papers"
      ],
      "metadata": {
        "colab": {
          "base_uri": "https://localhost:8080/",
          "height": 589
        },
        "id": "7VNlDUkkGUKZ",
        "outputId": "cab916bf-23c7-4013-f5f4-697740c684d7"
      },
      "execution_count": null,
      "outputs": [
        {
          "output_type": "execute_result",
          "data": {
            "text/plain": [
              "      year                                              title  \\\n",
              "0     1987  Self-Organization of Associative Database and ...   \n",
              "1     1987  A Mean Field Theory of Layer IV of Visual Cort...   \n",
              "2     1988  Storing Covariance by the Associative Long-Ter...   \n",
              "3     1994  Bayesian Query Construction for Neural Network...   \n",
              "4     1994  Neural Network Ensembles, Cross Validation, an...   \n",
              "...    ...                                                ...   \n",
              "7236  1994                Single Transistor Learning Synapses   \n",
              "7237  1994  Bias, Variance and the Combination of Least Sq...   \n",
              "7238  1994          A Real Time Clustering CMOS Neural Engine   \n",
              "7239  1994  Learning direction in global motion: two class...   \n",
              "7240  1994  Correlation and Interpolation Networks for Rea...   \n",
              "\n",
              "              abstract                                         paper_text  \n",
              "0     Abstract Missing  767\\n\\nSELF-ORGANIZATION OF ASSOCIATIVE DATABA...  \n",
              "1     Abstract Missing  683\\n\\nA MEAN FIELD THEORY OF LAYER IV OF VISU...  \n",
              "2     Abstract Missing  394\\n\\nSTORING COVARIANCE BY THE ASSOCIATIVE\\n...  \n",
              "3     Abstract Missing  Bayesian Query Construction for Neural\\nNetwor...  \n",
              "4     Abstract Missing  Neural Network Ensembles, Cross\\nValidation, a...  \n",
              "...                ...                                                ...  \n",
              "7236  Abstract Missing  Single Transistor Learning Synapses\\n\\nPaul Ha...  \n",
              "7237  Abstract Missing  Bias, Variance and the Combination of\\nLeast S...  \n",
              "7238  Abstract Missing  A Real Time Clustering CMOS\\nNeural Engine\\nT....  \n",
              "7239  Abstract Missing  Learning direction in global motion: two\\nclas...  \n",
              "7240  Abstract Missing  Correlation and Interpolation Networks for\\nRe...  \n",
              "\n",
              "[7241 rows x 4 columns]"
            ],
            "text/html": [
              "\n",
              "  <div id=\"df-ab80d85b-801f-4742-bb0f-1b151083a005\" class=\"colab-df-container\">\n",
              "    <div>\n",
              "<style scoped>\n",
              "    .dataframe tbody tr th:only-of-type {\n",
              "        vertical-align: middle;\n",
              "    }\n",
              "\n",
              "    .dataframe tbody tr th {\n",
              "        vertical-align: top;\n",
              "    }\n",
              "\n",
              "    .dataframe thead th {\n",
              "        text-align: right;\n",
              "    }\n",
              "</style>\n",
              "<table border=\"1\" class=\"dataframe\">\n",
              "  <thead>\n",
              "    <tr style=\"text-align: right;\">\n",
              "      <th></th>\n",
              "      <th>year</th>\n",
              "      <th>title</th>\n",
              "      <th>abstract</th>\n",
              "      <th>paper_text</th>\n",
              "    </tr>\n",
              "  </thead>\n",
              "  <tbody>\n",
              "    <tr>\n",
              "      <th>0</th>\n",
              "      <td>1987</td>\n",
              "      <td>Self-Organization of Associative Database and ...</td>\n",
              "      <td>Abstract Missing</td>\n",
              "      <td>767\\n\\nSELF-ORGANIZATION OF ASSOCIATIVE DATABA...</td>\n",
              "    </tr>\n",
              "    <tr>\n",
              "      <th>1</th>\n",
              "      <td>1987</td>\n",
              "      <td>A Mean Field Theory of Layer IV of Visual Cort...</td>\n",
              "      <td>Abstract Missing</td>\n",
              "      <td>683\\n\\nA MEAN FIELD THEORY OF LAYER IV OF VISU...</td>\n",
              "    </tr>\n",
              "    <tr>\n",
              "      <th>2</th>\n",
              "      <td>1988</td>\n",
              "      <td>Storing Covariance by the Associative Long-Ter...</td>\n",
              "      <td>Abstract Missing</td>\n",
              "      <td>394\\n\\nSTORING COVARIANCE BY THE ASSOCIATIVE\\n...</td>\n",
              "    </tr>\n",
              "    <tr>\n",
              "      <th>3</th>\n",
              "      <td>1994</td>\n",
              "      <td>Bayesian Query Construction for Neural Network...</td>\n",
              "      <td>Abstract Missing</td>\n",
              "      <td>Bayesian Query Construction for Neural\\nNetwor...</td>\n",
              "    </tr>\n",
              "    <tr>\n",
              "      <th>4</th>\n",
              "      <td>1994</td>\n",
              "      <td>Neural Network Ensembles, Cross Validation, an...</td>\n",
              "      <td>Abstract Missing</td>\n",
              "      <td>Neural Network Ensembles, Cross\\nValidation, a...</td>\n",
              "    </tr>\n",
              "    <tr>\n",
              "      <th>...</th>\n",
              "      <td>...</td>\n",
              "      <td>...</td>\n",
              "      <td>...</td>\n",
              "      <td>...</td>\n",
              "    </tr>\n",
              "    <tr>\n",
              "      <th>7236</th>\n",
              "      <td>1994</td>\n",
              "      <td>Single Transistor Learning Synapses</td>\n",
              "      <td>Abstract Missing</td>\n",
              "      <td>Single Transistor Learning Synapses\\n\\nPaul Ha...</td>\n",
              "    </tr>\n",
              "    <tr>\n",
              "      <th>7237</th>\n",
              "      <td>1994</td>\n",
              "      <td>Bias, Variance and the Combination of Least Sq...</td>\n",
              "      <td>Abstract Missing</td>\n",
              "      <td>Bias, Variance and the Combination of\\nLeast S...</td>\n",
              "    </tr>\n",
              "    <tr>\n",
              "      <th>7238</th>\n",
              "      <td>1994</td>\n",
              "      <td>A Real Time Clustering CMOS Neural Engine</td>\n",
              "      <td>Abstract Missing</td>\n",
              "      <td>A Real Time Clustering CMOS\\nNeural Engine\\nT....</td>\n",
              "    </tr>\n",
              "    <tr>\n",
              "      <th>7239</th>\n",
              "      <td>1994</td>\n",
              "      <td>Learning direction in global motion: two class...</td>\n",
              "      <td>Abstract Missing</td>\n",
              "      <td>Learning direction in global motion: two\\nclas...</td>\n",
              "    </tr>\n",
              "    <tr>\n",
              "      <th>7240</th>\n",
              "      <td>1994</td>\n",
              "      <td>Correlation and Interpolation Networks for Rea...</td>\n",
              "      <td>Abstract Missing</td>\n",
              "      <td>Correlation and Interpolation Networks for\\nRe...</td>\n",
              "    </tr>\n",
              "  </tbody>\n",
              "</table>\n",
              "<p>7241 rows × 4 columns</p>\n",
              "</div>\n",
              "    <div class=\"colab-df-buttons\">\n",
              "\n",
              "  <div class=\"colab-df-container\">\n",
              "    <button class=\"colab-df-convert\" onclick=\"convertToInteractive('df-ab80d85b-801f-4742-bb0f-1b151083a005')\"\n",
              "            title=\"Convert this dataframe to an interactive table.\"\n",
              "            style=\"display:none;\">\n",
              "\n",
              "  <svg xmlns=\"http://www.w3.org/2000/svg\" height=\"24px\" viewBox=\"0 -960 960 960\">\n",
              "    <path d=\"M120-120v-720h720v720H120Zm60-500h600v-160H180v160Zm220 220h160v-160H400v160Zm0 220h160v-160H400v160ZM180-400h160v-160H180v160Zm440 0h160v-160H620v160ZM180-180h160v-160H180v160Zm440 0h160v-160H620v160Z\"/>\n",
              "  </svg>\n",
              "    </button>\n",
              "\n",
              "  <style>\n",
              "    .colab-df-container {\n",
              "      display:flex;\n",
              "      gap: 12px;\n",
              "    }\n",
              "\n",
              "    .colab-df-convert {\n",
              "      background-color: #E8F0FE;\n",
              "      border: none;\n",
              "      border-radius: 50%;\n",
              "      cursor: pointer;\n",
              "      display: none;\n",
              "      fill: #1967D2;\n",
              "      height: 32px;\n",
              "      padding: 0 0 0 0;\n",
              "      width: 32px;\n",
              "    }\n",
              "\n",
              "    .colab-df-convert:hover {\n",
              "      background-color: #E2EBFA;\n",
              "      box-shadow: 0px 1px 2px rgba(60, 64, 67, 0.3), 0px 1px 3px 1px rgba(60, 64, 67, 0.15);\n",
              "      fill: #174EA6;\n",
              "    }\n",
              "\n",
              "    .colab-df-buttons div {\n",
              "      margin-bottom: 4px;\n",
              "    }\n",
              "\n",
              "    [theme=dark] .colab-df-convert {\n",
              "      background-color: #3B4455;\n",
              "      fill: #D2E3FC;\n",
              "    }\n",
              "\n",
              "    [theme=dark] .colab-df-convert:hover {\n",
              "      background-color: #434B5C;\n",
              "      box-shadow: 0px 1px 3px 1px rgba(0, 0, 0, 0.15);\n",
              "      filter: drop-shadow(0px 1px 2px rgba(0, 0, 0, 0.3));\n",
              "      fill: #FFFFFF;\n",
              "    }\n",
              "  </style>\n",
              "\n",
              "    <script>\n",
              "      const buttonEl =\n",
              "        document.querySelector('#df-ab80d85b-801f-4742-bb0f-1b151083a005 button.colab-df-convert');\n",
              "      buttonEl.style.display =\n",
              "        google.colab.kernel.accessAllowed ? 'block' : 'none';\n",
              "\n",
              "      async function convertToInteractive(key) {\n",
              "        const element = document.querySelector('#df-ab80d85b-801f-4742-bb0f-1b151083a005');\n",
              "        const dataTable =\n",
              "          await google.colab.kernel.invokeFunction('convertToInteractive',\n",
              "                                                    [key], {});\n",
              "        if (!dataTable) return;\n",
              "\n",
              "        const docLinkHtml = 'Like what you see? Visit the ' +\n",
              "          '<a target=\"_blank\" href=https://colab.research.google.com/notebooks/data_table.ipynb>data table notebook</a>'\n",
              "          + ' to learn more about interactive tables.';\n",
              "        element.innerHTML = '';\n",
              "        dataTable['output_type'] = 'display_data';\n",
              "        await google.colab.output.renderOutput(dataTable, element);\n",
              "        const docLink = document.createElement('div');\n",
              "        docLink.innerHTML = docLinkHtml;\n",
              "        element.appendChild(docLink);\n",
              "      }\n",
              "    </script>\n",
              "  </div>\n",
              "\n",
              "\n",
              "<div id=\"df-f3c703bb-0741-4b2d-b813-186e286d6c49\">\n",
              "  <button class=\"colab-df-quickchart\" onclick=\"quickchart('df-f3c703bb-0741-4b2d-b813-186e286d6c49')\"\n",
              "            title=\"Suggest charts\"\n",
              "            style=\"display:none;\">\n",
              "\n",
              "<svg xmlns=\"http://www.w3.org/2000/svg\" height=\"24px\"viewBox=\"0 0 24 24\"\n",
              "     width=\"24px\">\n",
              "    <g>\n",
              "        <path d=\"M19 3H5c-1.1 0-2 .9-2 2v14c0 1.1.9 2 2 2h14c1.1 0 2-.9 2-2V5c0-1.1-.9-2-2-2zM9 17H7v-7h2v7zm4 0h-2V7h2v10zm4 0h-2v-4h2v4z\"/>\n",
              "    </g>\n",
              "</svg>\n",
              "  </button>\n",
              "\n",
              "<style>\n",
              "  .colab-df-quickchart {\n",
              "      --bg-color: #E8F0FE;\n",
              "      --fill-color: #1967D2;\n",
              "      --hover-bg-color: #E2EBFA;\n",
              "      --hover-fill-color: #174EA6;\n",
              "      --disabled-fill-color: #AAA;\n",
              "      --disabled-bg-color: #DDD;\n",
              "  }\n",
              "\n",
              "  [theme=dark] .colab-df-quickchart {\n",
              "      --bg-color: #3B4455;\n",
              "      --fill-color: #D2E3FC;\n",
              "      --hover-bg-color: #434B5C;\n",
              "      --hover-fill-color: #FFFFFF;\n",
              "      --disabled-bg-color: #3B4455;\n",
              "      --disabled-fill-color: #666;\n",
              "  }\n",
              "\n",
              "  .colab-df-quickchart {\n",
              "    background-color: var(--bg-color);\n",
              "    border: none;\n",
              "    border-radius: 50%;\n",
              "    cursor: pointer;\n",
              "    display: none;\n",
              "    fill: var(--fill-color);\n",
              "    height: 32px;\n",
              "    padding: 0;\n",
              "    width: 32px;\n",
              "  }\n",
              "\n",
              "  .colab-df-quickchart:hover {\n",
              "    background-color: var(--hover-bg-color);\n",
              "    box-shadow: 0 1px 2px rgba(60, 64, 67, 0.3), 0 1px 3px 1px rgba(60, 64, 67, 0.15);\n",
              "    fill: var(--button-hover-fill-color);\n",
              "  }\n",
              "\n",
              "  .colab-df-quickchart-complete:disabled,\n",
              "  .colab-df-quickchart-complete:disabled:hover {\n",
              "    background-color: var(--disabled-bg-color);\n",
              "    fill: var(--disabled-fill-color);\n",
              "    box-shadow: none;\n",
              "  }\n",
              "\n",
              "  .colab-df-spinner {\n",
              "    border: 2px solid var(--fill-color);\n",
              "    border-color: transparent;\n",
              "    border-bottom-color: var(--fill-color);\n",
              "    animation:\n",
              "      spin 1s steps(1) infinite;\n",
              "  }\n",
              "\n",
              "  @keyframes spin {\n",
              "    0% {\n",
              "      border-color: transparent;\n",
              "      border-bottom-color: var(--fill-color);\n",
              "      border-left-color: var(--fill-color);\n",
              "    }\n",
              "    20% {\n",
              "      border-color: transparent;\n",
              "      border-left-color: var(--fill-color);\n",
              "      border-top-color: var(--fill-color);\n",
              "    }\n",
              "    30% {\n",
              "      border-color: transparent;\n",
              "      border-left-color: var(--fill-color);\n",
              "      border-top-color: var(--fill-color);\n",
              "      border-right-color: var(--fill-color);\n",
              "    }\n",
              "    40% {\n",
              "      border-color: transparent;\n",
              "      border-right-color: var(--fill-color);\n",
              "      border-top-color: var(--fill-color);\n",
              "    }\n",
              "    60% {\n",
              "      border-color: transparent;\n",
              "      border-right-color: var(--fill-color);\n",
              "    }\n",
              "    80% {\n",
              "      border-color: transparent;\n",
              "      border-right-color: var(--fill-color);\n",
              "      border-bottom-color: var(--fill-color);\n",
              "    }\n",
              "    90% {\n",
              "      border-color: transparent;\n",
              "      border-bottom-color: var(--fill-color);\n",
              "    }\n",
              "  }\n",
              "</style>\n",
              "\n",
              "  <script>\n",
              "    async function quickchart(key) {\n",
              "      const quickchartButtonEl =\n",
              "        document.querySelector('#' + key + ' button');\n",
              "      quickchartButtonEl.disabled = true;  // To prevent multiple clicks.\n",
              "      quickchartButtonEl.classList.add('colab-df-spinner');\n",
              "      try {\n",
              "        const charts = await google.colab.kernel.invokeFunction(\n",
              "            'suggestCharts', [key], {});\n",
              "      } catch (error) {\n",
              "        console.error('Error during call to suggestCharts:', error);\n",
              "      }\n",
              "      quickchartButtonEl.classList.remove('colab-df-spinner');\n",
              "      quickchartButtonEl.classList.add('colab-df-quickchart-complete');\n",
              "    }\n",
              "    (() => {\n",
              "      let quickchartButtonEl =\n",
              "        document.querySelector('#df-f3c703bb-0741-4b2d-b813-186e286d6c49 button');\n",
              "      quickchartButtonEl.style.display =\n",
              "        google.colab.kernel.accessAllowed ? 'block' : 'none';\n",
              "    })();\n",
              "  </script>\n",
              "</div>\n",
              "\n",
              "  <div id=\"id_a2edcab5-84de-41ea-b2ef-cb9d708f1d7d\">\n",
              "    <style>\n",
              "      .colab-df-generate {\n",
              "        background-color: #E8F0FE;\n",
              "        border: none;\n",
              "        border-radius: 50%;\n",
              "        cursor: pointer;\n",
              "        display: none;\n",
              "        fill: #1967D2;\n",
              "        height: 32px;\n",
              "        padding: 0 0 0 0;\n",
              "        width: 32px;\n",
              "      }\n",
              "\n",
              "      .colab-df-generate:hover {\n",
              "        background-color: #E2EBFA;\n",
              "        box-shadow: 0px 1px 2px rgba(60, 64, 67, 0.3), 0px 1px 3px 1px rgba(60, 64, 67, 0.15);\n",
              "        fill: #174EA6;\n",
              "      }\n",
              "\n",
              "      [theme=dark] .colab-df-generate {\n",
              "        background-color: #3B4455;\n",
              "        fill: #D2E3FC;\n",
              "      }\n",
              "\n",
              "      [theme=dark] .colab-df-generate:hover {\n",
              "        background-color: #434B5C;\n",
              "        box-shadow: 0px 1px 3px 1px rgba(0, 0, 0, 0.15);\n",
              "        filter: drop-shadow(0px 1px 2px rgba(0, 0, 0, 0.3));\n",
              "        fill: #FFFFFF;\n",
              "      }\n",
              "    </style>\n",
              "    <button class=\"colab-df-generate\" onclick=\"generateWithVariable('papers')\"\n",
              "            title=\"Generate code using this dataframe.\"\n",
              "            style=\"display:none;\">\n",
              "\n",
              "  <svg xmlns=\"http://www.w3.org/2000/svg\" height=\"24px\"viewBox=\"0 0 24 24\"\n",
              "       width=\"24px\">\n",
              "    <path d=\"M7,19H8.4L18.45,9,17,7.55,7,17.6ZM5,21V16.75L18.45,3.32a2,2,0,0,1,2.83,0l1.4,1.43a1.91,1.91,0,0,1,.58,1.4,1.91,1.91,0,0,1-.58,1.4L9.25,21ZM18.45,9,17,7.55Zm-12,3A5.31,5.31,0,0,0,4.9,8.1,5.31,5.31,0,0,0,1,6.5,5.31,5.31,0,0,0,4.9,4.9,5.31,5.31,0,0,0,6.5,1,5.31,5.31,0,0,0,8.1,4.9,5.31,5.31,0,0,0,12,6.5,5.46,5.46,0,0,0,6.5,12Z\"/>\n",
              "  </svg>\n",
              "    </button>\n",
              "    <script>\n",
              "      (() => {\n",
              "      const buttonEl =\n",
              "        document.querySelector('#id_a2edcab5-84de-41ea-b2ef-cb9d708f1d7d button.colab-df-generate');\n",
              "      buttonEl.style.display =\n",
              "        google.colab.kernel.accessAllowed ? 'block' : 'none';\n",
              "\n",
              "      buttonEl.onclick = () => {\n",
              "        google.colab.notebook.generateWithVariable('papers');\n",
              "      }\n",
              "      })();\n",
              "    </script>\n",
              "  </div>\n",
              "\n",
              "    </div>\n",
              "  </div>\n"
            ]
          },
          "metadata": {},
          "execution_count": 8
        }
      ]
    },
    {
      "cell_type": "code",
      "source": [
        "papers = papers.sample(100)"
      ],
      "metadata": {
        "id": "DJxdToQHGXvE",
        "colab": {
          "base_uri": "https://localhost:8080/",
          "height": 174
        },
        "outputId": "b567868e-07c2-48fb-b3bc-b887b117801f"
      },
      "execution_count": null,
      "outputs": [
        {
          "output_type": "error",
          "ename": "NameError",
          "evalue": "name 'papers' is not defined",
          "traceback": [
            "\u001b[0;31m---------------------------------------------------------------------------\u001b[0m",
            "\u001b[0;31mNameError\u001b[0m                                 Traceback (most recent call last)",
            "\u001b[0;32m<ipython-input-5-f17a6b6df408>\u001b[0m in \u001b[0;36m<cell line: 1>\u001b[0;34m()\u001b[0m\n\u001b[0;32m----> 1\u001b[0;31m \u001b[0mpapers\u001b[0m \u001b[0;34m=\u001b[0m \u001b[0mpapers\u001b[0m\u001b[0;34m.\u001b[0m\u001b[0msample\u001b[0m\u001b[0;34m(\u001b[0m\u001b[0;36m100\u001b[0m\u001b[0;34m)\u001b[0m\u001b[0;34m\u001b[0m\u001b[0;34m\u001b[0m\u001b[0m\n\u001b[0m",
            "\u001b[0;31mNameError\u001b[0m: name 'papers' is not defined"
          ]
        }
      ]
    },
    {
      "cell_type": "code",
      "source": [
        "papers.sample(10)"
      ],
      "metadata": {
        "colab": {
          "base_uri": "https://localhost:8080/",
          "height": 583
        },
        "id": "h5hPy4bNGan9",
        "outputId": "ad076ba6-c4db-4eae-c68f-7cbd2fac0790"
      },
      "execution_count": null,
      "outputs": [
        {
          "output_type": "stream",
          "name": "stderr",
          "text": [
            "/usr/local/lib/python3.10/dist-packages/ipykernel/ipkernel.py:283: DeprecationWarning: `should_run_async` will not call `transform_cell` automatically in the future. Please pass the result to `transformed_cell` argument and any exception that happen during thetransform in `preprocessing_exc_tuple` in IPython 7.17 and above.\n",
            "  and should_run_async(code)\n"
          ]
        },
        {
          "output_type": "execute_result",
          "data": {
            "text/plain": [
              "      year                                              title  \\\n",
              "6352  2017  A New Alternating Direction Method for Linear ...   \n",
              "2679  2008  Using Bayesian Dynamical Systems for Motion Te...   \n",
              "1925  2004              Brain Inspired Reinforcement Learning   \n",
              "5272  2015  Deep Generative Image Models using a ?Laplacia...   \n",
              "4924  2014  Robust Classification Under Sample Selection Bias   \n",
              "2362  2006                        Multi-Task Feature Learning   \n",
              "3974  2012  A Linear Time Active Learning Algorithm for Li...   \n",
              "4549  2013  A Latent Source Model for Nonparametric Time S...   \n",
              "5277  2015  Bidirectional Recurrent Convolutional Networks...   \n",
              "289   1996                       Hidden Markov Decision Trees   \n",
              "\n",
              "                                               abstract  \\\n",
              "6352  It is well known that, for a linear program (L...   \n",
              "2679  Motor primitives or motion templates have beco...   \n",
              "1925                                   Abstract Missing   \n",
              "5272  In this paper we introduce a generative model ...   \n",
              "4924  In many important machine learning application...   \n",
              "2362                                   Abstract Missing   \n",
              "3974  We present very efficient active learning algo...   \n",
              "4549  For classifying time series, a nearest-neighbo...   \n",
              "5277  Super resolving a low-resolution video is usua...   \n",
              "289                                    Abstract Missing   \n",
              "\n",
              "                                             paper_text  \n",
              "6352  A New Alternating Direction Method for Linear\\...  \n",
              "2679  Using Bayesian Dynamical Systems for\\nMotion T...  \n",
              "1925  Brain Inspired Reinforcement Learning\\nFran?oi...  \n",
              "5272  Deep Generative Image Models using a\\nLaplacia...  \n",
              "4924  Robust Classi?cation Under Sample Selection Bi...  \n",
              "2362  Multi-Task Feature Learning\\n\\nAndreas Argyrio...  \n",
              "3974  A Linear Time Active Learning Algorithm\\nfor L...  \n",
              "4549  A Latent Source Model for\\nNonparametric Time ...  \n",
              "5277  Bidirectional Recurrent Convolutional Networks...  \n",
              "289   Hidden Markov decision trees\\nMichael I. Jorda...  "
            ],
            "text/html": [
              "\n",
              "  <div id=\"df-e5105017-a3a3-47fa-847a-e2b510c16732\" class=\"colab-df-container\">\n",
              "    <div>\n",
              "<style scoped>\n",
              "    .dataframe tbody tr th:only-of-type {\n",
              "        vertical-align: middle;\n",
              "    }\n",
              "\n",
              "    .dataframe tbody tr th {\n",
              "        vertical-align: top;\n",
              "    }\n",
              "\n",
              "    .dataframe thead th {\n",
              "        text-align: right;\n",
              "    }\n",
              "</style>\n",
              "<table border=\"1\" class=\"dataframe\">\n",
              "  <thead>\n",
              "    <tr style=\"text-align: right;\">\n",
              "      <th></th>\n",
              "      <th>year</th>\n",
              "      <th>title</th>\n",
              "      <th>abstract</th>\n",
              "      <th>paper_text</th>\n",
              "    </tr>\n",
              "  </thead>\n",
              "  <tbody>\n",
              "    <tr>\n",
              "      <th>6352</th>\n",
              "      <td>2017</td>\n",
              "      <td>A New Alternating Direction Method for Linear ...</td>\n",
              "      <td>It is well known that, for a linear program (L...</td>\n",
              "      <td>A New Alternating Direction Method for Linear\\...</td>\n",
              "    </tr>\n",
              "    <tr>\n",
              "      <th>2679</th>\n",
              "      <td>2008</td>\n",
              "      <td>Using Bayesian Dynamical Systems for Motion Te...</td>\n",
              "      <td>Motor primitives or motion templates have beco...</td>\n",
              "      <td>Using Bayesian Dynamical Systems for\\nMotion T...</td>\n",
              "    </tr>\n",
              "    <tr>\n",
              "      <th>1925</th>\n",
              "      <td>2004</td>\n",
              "      <td>Brain Inspired Reinforcement Learning</td>\n",
              "      <td>Abstract Missing</td>\n",
              "      <td>Brain Inspired Reinforcement Learning\\nFran?oi...</td>\n",
              "    </tr>\n",
              "    <tr>\n",
              "      <th>5272</th>\n",
              "      <td>2015</td>\n",
              "      <td>Deep Generative Image Models using a ?Laplacia...</td>\n",
              "      <td>In this paper we introduce a generative model ...</td>\n",
              "      <td>Deep Generative Image Models using a\\nLaplacia...</td>\n",
              "    </tr>\n",
              "    <tr>\n",
              "      <th>4924</th>\n",
              "      <td>2014</td>\n",
              "      <td>Robust Classification Under Sample Selection Bias</td>\n",
              "      <td>In many important machine learning application...</td>\n",
              "      <td>Robust Classi?cation Under Sample Selection Bi...</td>\n",
              "    </tr>\n",
              "    <tr>\n",
              "      <th>2362</th>\n",
              "      <td>2006</td>\n",
              "      <td>Multi-Task Feature Learning</td>\n",
              "      <td>Abstract Missing</td>\n",
              "      <td>Multi-Task Feature Learning\\n\\nAndreas Argyrio...</td>\n",
              "    </tr>\n",
              "    <tr>\n",
              "      <th>3974</th>\n",
              "      <td>2012</td>\n",
              "      <td>A Linear Time Active Learning Algorithm for Li...</td>\n",
              "      <td>We present very efficient active learning algo...</td>\n",
              "      <td>A Linear Time Active Learning Algorithm\\nfor L...</td>\n",
              "    </tr>\n",
              "    <tr>\n",
              "      <th>4549</th>\n",
              "      <td>2013</td>\n",
              "      <td>A Latent Source Model for Nonparametric Time S...</td>\n",
              "      <td>For classifying time series, a nearest-neighbo...</td>\n",
              "      <td>A Latent Source Model for\\nNonparametric Time ...</td>\n",
              "    </tr>\n",
              "    <tr>\n",
              "      <th>5277</th>\n",
              "      <td>2015</td>\n",
              "      <td>Bidirectional Recurrent Convolutional Networks...</td>\n",
              "      <td>Super resolving a low-resolution video is usua...</td>\n",
              "      <td>Bidirectional Recurrent Convolutional Networks...</td>\n",
              "    </tr>\n",
              "    <tr>\n",
              "      <th>289</th>\n",
              "      <td>1996</td>\n",
              "      <td>Hidden Markov Decision Trees</td>\n",
              "      <td>Abstract Missing</td>\n",
              "      <td>Hidden Markov decision trees\\nMichael I. Jorda...</td>\n",
              "    </tr>\n",
              "  </tbody>\n",
              "</table>\n",
              "</div>\n",
              "    <div class=\"colab-df-buttons\">\n",
              "\n",
              "  <div class=\"colab-df-container\">\n",
              "    <button class=\"colab-df-convert\" onclick=\"convertToInteractive('df-e5105017-a3a3-47fa-847a-e2b510c16732')\"\n",
              "            title=\"Convert this dataframe to an interactive table.\"\n",
              "            style=\"display:none;\">\n",
              "\n",
              "  <svg xmlns=\"http://www.w3.org/2000/svg\" height=\"24px\" viewBox=\"0 -960 960 960\">\n",
              "    <path d=\"M120-120v-720h720v720H120Zm60-500h600v-160H180v160Zm220 220h160v-160H400v160Zm0 220h160v-160H400v160ZM180-400h160v-160H180v160Zm440 0h160v-160H620v160ZM180-180h160v-160H180v160Zm440 0h160v-160H620v160Z\"/>\n",
              "  </svg>\n",
              "    </button>\n",
              "\n",
              "  <style>\n",
              "    .colab-df-container {\n",
              "      display:flex;\n",
              "      gap: 12px;\n",
              "    }\n",
              "\n",
              "    .colab-df-convert {\n",
              "      background-color: #E8F0FE;\n",
              "      border: none;\n",
              "      border-radius: 50%;\n",
              "      cursor: pointer;\n",
              "      display: none;\n",
              "      fill: #1967D2;\n",
              "      height: 32px;\n",
              "      padding: 0 0 0 0;\n",
              "      width: 32px;\n",
              "    }\n",
              "\n",
              "    .colab-df-convert:hover {\n",
              "      background-color: #E2EBFA;\n",
              "      box-shadow: 0px 1px 2px rgba(60, 64, 67, 0.3), 0px 1px 3px 1px rgba(60, 64, 67, 0.15);\n",
              "      fill: #174EA6;\n",
              "    }\n",
              "\n",
              "    .colab-df-buttons div {\n",
              "      margin-bottom: 4px;\n",
              "    }\n",
              "\n",
              "    [theme=dark] .colab-df-convert {\n",
              "      background-color: #3B4455;\n",
              "      fill: #D2E3FC;\n",
              "    }\n",
              "\n",
              "    [theme=dark] .colab-df-convert:hover {\n",
              "      background-color: #434B5C;\n",
              "      box-shadow: 0px 1px 3px 1px rgba(0, 0, 0, 0.15);\n",
              "      filter: drop-shadow(0px 1px 2px rgba(0, 0, 0, 0.3));\n",
              "      fill: #FFFFFF;\n",
              "    }\n",
              "  </style>\n",
              "\n",
              "    <script>\n",
              "      const buttonEl =\n",
              "        document.querySelector('#df-e5105017-a3a3-47fa-847a-e2b510c16732 button.colab-df-convert');\n",
              "      buttonEl.style.display =\n",
              "        google.colab.kernel.accessAllowed ? 'block' : 'none';\n",
              "\n",
              "      async function convertToInteractive(key) {\n",
              "        const element = document.querySelector('#df-e5105017-a3a3-47fa-847a-e2b510c16732');\n",
              "        const dataTable =\n",
              "          await google.colab.kernel.invokeFunction('convertToInteractive',\n",
              "                                                    [key], {});\n",
              "        if (!dataTable) return;\n",
              "\n",
              "        const docLinkHtml = 'Like what you see? Visit the ' +\n",
              "          '<a target=\"_blank\" href=https://colab.research.google.com/notebooks/data_table.ipynb>data table notebook</a>'\n",
              "          + ' to learn more about interactive tables.';\n",
              "        element.innerHTML = '';\n",
              "        dataTable['output_type'] = 'display_data';\n",
              "        await google.colab.output.renderOutput(dataTable, element);\n",
              "        const docLink = document.createElement('div');\n",
              "        docLink.innerHTML = docLinkHtml;\n",
              "        element.appendChild(docLink);\n",
              "      }\n",
              "    </script>\n",
              "  </div>\n",
              "\n",
              "\n",
              "<div id=\"df-231efe74-7925-46bc-9a9a-d196771a5b0b\">\n",
              "  <button class=\"colab-df-quickchart\" onclick=\"quickchart('df-231efe74-7925-46bc-9a9a-d196771a5b0b')\"\n",
              "            title=\"Suggest charts\"\n",
              "            style=\"display:none;\">\n",
              "\n",
              "<svg xmlns=\"http://www.w3.org/2000/svg\" height=\"24px\"viewBox=\"0 0 24 24\"\n",
              "     width=\"24px\">\n",
              "    <g>\n",
              "        <path d=\"M19 3H5c-1.1 0-2 .9-2 2v14c0 1.1.9 2 2 2h14c1.1 0 2-.9 2-2V5c0-1.1-.9-2-2-2zM9 17H7v-7h2v7zm4 0h-2V7h2v10zm4 0h-2v-4h2v4z\"/>\n",
              "    </g>\n",
              "</svg>\n",
              "  </button>\n",
              "\n",
              "<style>\n",
              "  .colab-df-quickchart {\n",
              "      --bg-color: #E8F0FE;\n",
              "      --fill-color: #1967D2;\n",
              "      --hover-bg-color: #E2EBFA;\n",
              "      --hover-fill-color: #174EA6;\n",
              "      --disabled-fill-color: #AAA;\n",
              "      --disabled-bg-color: #DDD;\n",
              "  }\n",
              "\n",
              "  [theme=dark] .colab-df-quickchart {\n",
              "      --bg-color: #3B4455;\n",
              "      --fill-color: #D2E3FC;\n",
              "      --hover-bg-color: #434B5C;\n",
              "      --hover-fill-color: #FFFFFF;\n",
              "      --disabled-bg-color: #3B4455;\n",
              "      --disabled-fill-color: #666;\n",
              "  }\n",
              "\n",
              "  .colab-df-quickchart {\n",
              "    background-color: var(--bg-color);\n",
              "    border: none;\n",
              "    border-radius: 50%;\n",
              "    cursor: pointer;\n",
              "    display: none;\n",
              "    fill: var(--fill-color);\n",
              "    height: 32px;\n",
              "    padding: 0;\n",
              "    width: 32px;\n",
              "  }\n",
              "\n",
              "  .colab-df-quickchart:hover {\n",
              "    background-color: var(--hover-bg-color);\n",
              "    box-shadow: 0 1px 2px rgba(60, 64, 67, 0.3), 0 1px 3px 1px rgba(60, 64, 67, 0.15);\n",
              "    fill: var(--button-hover-fill-color);\n",
              "  }\n",
              "\n",
              "  .colab-df-quickchart-complete:disabled,\n",
              "  .colab-df-quickchart-complete:disabled:hover {\n",
              "    background-color: var(--disabled-bg-color);\n",
              "    fill: var(--disabled-fill-color);\n",
              "    box-shadow: none;\n",
              "  }\n",
              "\n",
              "  .colab-df-spinner {\n",
              "    border: 2px solid var(--fill-color);\n",
              "    border-color: transparent;\n",
              "    border-bottom-color: var(--fill-color);\n",
              "    animation:\n",
              "      spin 1s steps(1) infinite;\n",
              "  }\n",
              "\n",
              "  @keyframes spin {\n",
              "    0% {\n",
              "      border-color: transparent;\n",
              "      border-bottom-color: var(--fill-color);\n",
              "      border-left-color: var(--fill-color);\n",
              "    }\n",
              "    20% {\n",
              "      border-color: transparent;\n",
              "      border-left-color: var(--fill-color);\n",
              "      border-top-color: var(--fill-color);\n",
              "    }\n",
              "    30% {\n",
              "      border-color: transparent;\n",
              "      border-left-color: var(--fill-color);\n",
              "      border-top-color: var(--fill-color);\n",
              "      border-right-color: var(--fill-color);\n",
              "    }\n",
              "    40% {\n",
              "      border-color: transparent;\n",
              "      border-right-color: var(--fill-color);\n",
              "      border-top-color: var(--fill-color);\n",
              "    }\n",
              "    60% {\n",
              "      border-color: transparent;\n",
              "      border-right-color: var(--fill-color);\n",
              "    }\n",
              "    80% {\n",
              "      border-color: transparent;\n",
              "      border-right-color: var(--fill-color);\n",
              "      border-bottom-color: var(--fill-color);\n",
              "    }\n",
              "    90% {\n",
              "      border-color: transparent;\n",
              "      border-bottom-color: var(--fill-color);\n",
              "    }\n",
              "  }\n",
              "</style>\n",
              "\n",
              "  <script>\n",
              "    async function quickchart(key) {\n",
              "      const quickchartButtonEl =\n",
              "        document.querySelector('#' + key + ' button');\n",
              "      quickchartButtonEl.disabled = true;  // To prevent multiple clicks.\n",
              "      quickchartButtonEl.classList.add('colab-df-spinner');\n",
              "      try {\n",
              "        const charts = await google.colab.kernel.invokeFunction(\n",
              "            'suggestCharts', [key], {});\n",
              "      } catch (error) {\n",
              "        console.error('Error during call to suggestCharts:', error);\n",
              "      }\n",
              "      quickchartButtonEl.classList.remove('colab-df-spinner');\n",
              "      quickchartButtonEl.classList.add('colab-df-quickchart-complete');\n",
              "    }\n",
              "    (() => {\n",
              "      let quickchartButtonEl =\n",
              "        document.querySelector('#df-231efe74-7925-46bc-9a9a-d196771a5b0b button');\n",
              "      quickchartButtonEl.style.display =\n",
              "        google.colab.kernel.accessAllowed ? 'block' : 'none';\n",
              "    })();\n",
              "  </script>\n",
              "</div>\n",
              "    </div>\n",
              "  </div>\n"
            ]
          },
          "metadata": {},
          "execution_count": 27
        }
      ]
    },
    {
      "cell_type": "code",
      "source": [
        "import re"
      ],
      "metadata": {
        "id": "z7KOehgdGdqv"
      },
      "execution_count": null,
      "outputs": []
    },
    {
      "cell_type": "code",
      "source": [
        "papers['clean_text'] = papers['paper_text'].map(lambda x: re.sub('[,\\.!?]', '', x))"
      ],
      "metadata": {
        "id": "1kXVEAEvGiln"
      },
      "execution_count": null,
      "outputs": []
    },
    {
      "cell_type": "code",
      "source": [
        "papers['clean_text']"
      ],
      "metadata": {
        "colab": {
          "base_uri": "https://localhost:8080/"
        },
        "id": "F88AYhB6Gl0o",
        "outputId": "94984e23-448c-4478-cfb4-d5de62726381"
      },
      "execution_count": null,
      "outputs": [
        {
          "output_type": "execute_result",
          "data": {
            "text/plain": [
              "0       767\\n\\nSELF-ORGANIZATION OF ASSOCIATIVE DATABA...\n",
              "1       683\\n\\nA MEAN FIELD THEORY OF LAYER IV OF VISU...\n",
              "2       394\\n\\nSTORING COVARIANCE BY THE ASSOCIATIVE\\n...\n",
              "3       Bayesian Query Construction for Neural\\nNetwor...\n",
              "4       Neural Network Ensembles Cross\\nValidation and...\n",
              "                              ...                        \n",
              "7236    Single Transistor Learning Synapses\\n\\nPaul Ha...\n",
              "7237    Bias Variance and the Combination of\\nLeast Sq...\n",
              "7238    A Real Time Clustering CMOS\\nNeural Engine\\nT ...\n",
              "7239    Learning direction in global motion: two\\nclas...\n",
              "7240    Correlation and Interpolation Networks for\\nRe...\n",
              "Name: clean_text, Length: 7241, dtype: object"
            ]
          },
          "metadata": {},
          "execution_count": 11
        }
      ]
    },
    {
      "cell_type": "code",
      "source": [
        "papers['clean_text'] = papers['clean_text'].apply(lambda x: re.sub('\\w*\\d\\w*','', x))"
      ],
      "metadata": {
        "id": "VpPZFf_qGoHw"
      },
      "execution_count": null,
      "outputs": []
    },
    {
      "cell_type": "code",
      "source": [
        "papers['clean_text'].sample(10)"
      ],
      "metadata": {
        "colab": {
          "base_uri": "https://localhost:8080/"
        },
        "id": "UGM0cC3kGrvx",
        "outputId": "74cd6ee7-100a-4a10-c43a-e6f94e49c245"
      },
      "execution_count": null,
      "outputs": [
        {
          "output_type": "execute_result",
          "data": {
            "text/plain": [
              "919     Robust Reinforcement Learning\\n\\nJ un Morimoto...\n",
              "7077    Transition Point Dynamic Programming\\n\\nKennet...\n",
              "3566    Manifold Precis: An Annealing Technique for Di...\n",
              "3997    CPRL  An Extension of Compressive Sensing to t...\n",
              "5450    On the consistency theory of high dimensional\\...\n",
              "3504    Probabilistic latent variable models for disti...\n",
              "6160    On Regularizing Rademacher Observation Losses\\...\n",
              "5829    Generalized Correspondence-LDA Models (GC-LDA)...\n",
              "5699    Double Thompson Sampling for Dueling Bandits\\n...\n",
              "2707    Relative Performance Guarantees for\\nApproxima...\n",
              "Name: clean_text, dtype: object"
            ]
          },
          "metadata": {},
          "execution_count": 14
        }
      ]
    },
    {
      "cell_type": "code",
      "source": [
        "from wordcloud import WordCloud\n",
        "def create_word_cloud(target_df, column_name):\n",
        "  print('Joining all words into long text....')\n",
        "  full_text = ','.join(list(target_df[column_name].values))\n",
        "  wordcloud = WordCloud(background_color=\"black\",\n",
        "                        max_words=100,  # top 100 words in the\n",
        "                        contour_width=2,\n",
        "                        contour_color='yellow')\n",
        "  print('Creating word cloud')\n",
        "  wordcloud.generate(full_text)\n",
        "  return wordcloud"
      ],
      "metadata": {
        "id": "0bVk3tqsGx6U"
      },
      "execution_count": null,
      "outputs": []
    },
    {
      "cell_type": "code",
      "source": [
        "wordcloud = create_word_cloud(papers, 'clean_text')\n",
        "wordcloud.to_image()"
      ],
      "metadata": {
        "colab": {
          "base_uri": "https://localhost:8080/",
          "height": 251
        },
        "id": "v1fIIXXjGzWQ",
        "outputId": "5439f7e1-2cdf-4d55-e8d8-86d678337d33"
      },
      "execution_count": null,
      "outputs": [
        {
          "output_type": "stream",
          "name": "stdout",
          "text": [
            "Joining all words into long text....\n",
            "Creating word cloud\n"
          ]
        },
        {
          "output_type": "execute_result",
          "data": {
            "text/plain": [
              "<PIL.Image.Image image mode=RGB size=400x200>"
            ],
            "image/png": "[encoded data removed]"
          },
          "metadata": {},
          "execution_count": 16
        }
      ]
    },
    {
      "cell_type": "code",
      "source": [
        "from sklearn.feature_extraction.text import CountVectorizer\n",
        "def create_document_term_matrix(dataframe, column_name):\n",
        "  cv = CountVectorizer(analyzer='word')\n",
        "  data = cv.fit_transform(dataframe[column_name])\n",
        "  df_dtm = pd.DataFrame(data.toarray(), columns=cv.get_feature_names_out())\n",
        "  df_dtm.index=dataframe.index\n",
        "  return df_dtm"
      ],
      "metadata": {
        "id": "7520VyPeHDiu"
      },
      "execution_count": null,
      "outputs": []
    },
    {
      "cell_type": "code",
      "source": [
        "df_dtm = create_document_term_matrix(papers, 'clean_text')"
      ],
      "metadata": {
        "id": "vXAE0c0BHHjw"
      },
      "execution_count": null,
      "outputs": []
    },
    {
      "cell_type": "code",
      "source": [
        "df_dtm.sample(10)"
      ],
      "metadata": {
        "colab": {
          "base_uri": "https://localhost:8080/",
          "height": 408
        },
        "id": "Kaw3lYiCHKVX",
        "outputId": "76b5559b-79aa-44a9-b710-7c3d9c272710"
      },
      "execution_count": null,
      "outputs": [
        {
          "output_type": "execute_result",
          "data": {
            "text/plain": [
              "      __  ___  ____  _____  ______  _______  ________  _________  __________  \\\n",
              "7221   0    0     0      0       0        0         1          0           0   \n",
              "1093   0    0     0      0       0        0         0          0           0   \n",
              "4242   0    0     0      0       0        0         0          0           0   \n",
              "1887   0    0     0      0       0        0         0          0           0   \n",
              "6427   0    0     0      0       0        0         0          0           0   \n",
              "2363   0    0     0      0       0        0         0          0           0   \n",
              "3024   0    0     0      0       0        0         0          0           0   \n",
              "3919   0    0     0      0       0        0         0          0           0   \n",
              "1700   0    0     0      0       0        0         0          0           0   \n",
              "1110   0    0     0      0       0        0         0          0           0   \n",
              "\n",
              "      ___________  ...  zzrln  zzs  zzt  zztix  zzu  zzwi  zzx  zzyy  zzz  \\\n",
              "7221            0  ...      0    0    3      0    0     0    0     0    0   \n",
              "1093            0  ...      0    0    0      0    0     0    0     0    0   \n",
              "4242            0  ...      0    0    0      0    0     0    0     0    0   \n",
              "1887            0  ...      0    0    0      0    0     0    0     0    0   \n",
              "6427            0  ...      0    0    0      0    0     0    0     0    0   \n",
              "2363            0  ...      0    0    0      0    0     0    0     0    0   \n",
              "3024            0  ...      0    0    0      0    0     0    0     0    0   \n",
              "3919            0  ...      0    0    0      0    0     0    0     0    0   \n",
              "1700            0  ...      0    0    0      0    0     0    0     0    0   \n",
              "1110            0  ...      0    0    0      0    0     0    0     0    0   \n",
              "\n",
              "      zzzz  \n",
              "7221     0  \n",
              "1093     0  \n",
              "4242     0  \n",
              "1887     0  \n",
              "6427     0  \n",
              "2363     0  \n",
              "3024     0  \n",
              "3919     0  \n",
              "1700     0  \n",
              "1110     0  \n",
              "\n",
              "[10 rows x 193077 columns]"
            ],
            "text/html": [
              "\n",
              "  <div id=\"df-b6c15dc0-64d1-453d-965f-586b509f08d0\" class=\"colab-df-container\">\n",
              "    <div>\n",
              "<style scoped>\n",
              "    .dataframe tbody tr th:only-of-type {\n",
              "        vertical-align: middle;\n",
              "    }\n",
              "\n",
              "    .dataframe tbody tr th {\n",
              "        vertical-align: top;\n",
              "    }\n",
              "\n",
              "    .dataframe thead th {\n",
              "        text-align: right;\n",
              "    }\n",
              "</style>\n",
              "<table border=\"1\" class=\"dataframe\">\n",
              "  <thead>\n",
              "    <tr style=\"text-align: right;\">\n",
              "      <th></th>\n",
              "      <th>__</th>\n",
              "      <th>___</th>\n",
              "      <th>____</th>\n",
              "      <th>_____</th>\n",
              "      <th>______</th>\n",
              "      <th>_______</th>\n",
              "      <th>________</th>\n",
              "      <th>_________</th>\n",
              "      <th>__________</th>\n",
              "      <th>___________</th>\n",
              "      <th>...</th>\n",
              "      <th>zzrln</th>\n",
              "      <th>zzs</th>\n",
              "      <th>zzt</th>\n",
              "      <th>zztix</th>\n",
              "      <th>zzu</th>\n",
              "      <th>zzwi</th>\n",
              "      <th>zzx</th>\n",
              "      <th>zzyy</th>\n",
              "      <th>zzz</th>\n",
              "      <th>zzzz</th>\n",
              "    </tr>\n",
              "  </thead>\n",
              "  <tbody>\n",
              "    <tr>\n",
              "      <th>7221</th>\n",
              "      <td>0</td>\n",
              "      <td>0</td>\n",
              "      <td>0</td>\n",
              "      <td>0</td>\n",
              "      <td>0</td>\n",
              "      <td>0</td>\n",
              "      <td>1</td>\n",
              "      <td>0</td>\n",
              "      <td>0</td>\n",
              "      <td>0</td>\n",
              "      <td>...</td>\n",
              "      <td>0</td>\n",
              "      <td>0</td>\n",
              "      <td>3</td>\n",
              "      <td>0</td>\n",
              "      <td>0</td>\n",
              "      <td>0</td>\n",
              "      <td>0</td>\n",
              "      <td>0</td>\n",
              "      <td>0</td>\n",
              "      <td>0</td>\n",
              "    </tr>\n",
              "    <tr>\n",
              "      <th>1093</th>\n",
              "      <td>0</td>\n",
              "      <td>0</td>\n",
              "      <td>0</td>\n",
              "      <td>0</td>\n",
              "      <td>0</td>\n",
              "      <td>0</td>\n",
              "      <td>0</td>\n",
              "      <td>0</td>\n",
              "      <td>0</td>\n",
              "      <td>0</td>\n",
              "      <td>...</td>\n",
              "      <td>0</td>\n",
              "      <td>0</td>\n",
              "      <td>0</td>\n",
              "      <td>0</td>\n",
              "      <td>0</td>\n",
              "      <td>0</td>\n",
              "      <td>0</td>\n",
              "      <td>0</td>\n",
              "      <td>0</td>\n",
              "      <td>0</td>\n",
              "    </tr>\n",
              "    <tr>\n",
              "      <th>4242</th>\n",
              "      <td>0</td>\n",
              "      <td>0</td>\n",
              "      <td>0</td>\n",
              "      <td>0</td>\n",
              "      <td>0</td>\n",
              "      <td>0</td>\n",
              "      <td>0</td>\n",
              "      <td>0</td>\n",
              "      <td>0</td>\n",
              "      <td>0</td>\n",
              "      <td>...</td>\n",
              "      <td>0</td>\n",
              "      <td>0</td>\n",
              "      <td>0</td>\n",
              "      <td>0</td>\n",
              "      <td>0</td>\n",
              "      <td>0</td>\n",
              "      <td>0</td>\n",
              "      <td>0</td>\n",
              "      <td>0</td>\n",
              "      <td>0</td>\n",
              "    </tr>\n",
              "    <tr>\n",
              "      <th>1887</th>\n",
              "      <td>0</td>\n",
              "      <td>0</td>\n",
              "      <td>0</td>\n",
              "      <td>0</td>\n",
              "      <td>0</td>\n",
              "      <td>0</td>\n",
              "      <td>0</td>\n",
              "      <td>0</td>\n",
              "      <td>0</td>\n",
              "      <td>0</td>\n",
              "      <td>...</td>\n",
              "      <td>0</td>\n",
              "      <td>0</td>\n",
              "      <td>0</td>\n",
              "      <td>0</td>\n",
              "      <td>0</td>\n",
              "      <td>0</td>\n",
              "      <td>0</td>\n",
              "      <td>0</td>\n",
              "      <td>0</td>\n",
              "      <td>0</td>\n",
              "    </tr>\n",
              "    <tr>\n",
              "      <th>6427</th>\n",
              "      <td>0</td>\n",
              "      <td>0</td>\n",
              "      <td>0</td>\n",
              "      <td>0</td>\n",
              "      <td>0</td>\n",
              "      <td>0</td>\n",
              "      <td>0</td>\n",
              "      <td>0</td>\n",
              "      <td>0</td>\n",
              "      <td>0</td>\n",
              "      <td>...</td>\n",
              "      <td>0</td>\n",
              "      <td>0</td>\n",
              "      <td>0</td>\n",
              "      <td>0</td>\n",
              "      <td>0</td>\n",
              "      <td>0</td>\n",
              "      <td>0</td>\n",
              "      <td>0</td>\n",
              "      <td>0</td>\n",
              "      <td>0</td>\n",
              "    </tr>\n",
              "    <tr>\n",
              "      <th>2363</th>\n",
              "      <td>0</td>\n",
              "      <td>0</td>\n",
              "      <td>0</td>\n",
              "      <td>0</td>\n",
              "      <td>0</td>\n",
              "      <td>0</td>\n",
              "      <td>0</td>\n",
              "      <td>0</td>\n",
              "      <td>0</td>\n",
              "      <td>0</td>\n",
              "      <td>...</td>\n",
              "      <td>0</td>\n",
              "      <td>0</td>\n",
              "      <td>0</td>\n",
              "      <td>0</td>\n",
              "      <td>0</td>\n",
              "      <td>0</td>\n",
              "      <td>0</td>\n",
              "      <td>0</td>\n",
              "      <td>0</td>\n",
              "      <td>0</td>\n",
              "    </tr>\n",
              "    <tr>\n",
              "      <th>3024</th>\n",
              "      <td>0</td>\n",
              "      <td>0</td>\n",
              "      <td>0</td>\n",
              "      <td>0</td>\n",
              "      <td>0</td>\n",
              "      <td>0</td>\n",
              "      <td>0</td>\n",
              "      <td>0</td>\n",
              "      <td>0</td>\n",
              "      <td>0</td>\n",
              "      <td>...</td>\n",
              "      <td>0</td>\n",
              "      <td>0</td>\n",
              "      <td>0</td>\n",
              "      <td>0</td>\n",
              "      <td>0</td>\n",
              "      <td>0</td>\n",
              "      <td>0</td>\n",
              "      <td>0</td>\n",
              "      <td>0</td>\n",
              "      <td>0</td>\n",
              "    </tr>\n",
              "    <tr>\n",
              "      <th>3919</th>\n",
              "      <td>0</td>\n",
              "      <td>0</td>\n",
              "      <td>0</td>\n",
              "      <td>0</td>\n",
              "      <td>0</td>\n",
              "      <td>0</td>\n",
              "      <td>0</td>\n",
              "      <td>0</td>\n",
              "      <td>0</td>\n",
              "      <td>0</td>\n",
              "      <td>...</td>\n",
              "      <td>0</td>\n",
              "      <td>0</td>\n",
              "      <td>0</td>\n",
              "      <td>0</td>\n",
              "      <td>0</td>\n",
              "      <td>0</td>\n",
              "      <td>0</td>\n",
              "      <td>0</td>\n",
              "      <td>0</td>\n",
              "      <td>0</td>\n",
              "    </tr>\n",
              "    <tr>\n",
              "      <th>1700</th>\n",
              "      <td>0</td>\n",
              "      <td>0</td>\n",
              "      <td>0</td>\n",
              "      <td>0</td>\n",
              "      <td>0</td>\n",
              "      <td>0</td>\n",
              "      <td>0</td>\n",
              "      <td>0</td>\n",
              "      <td>0</td>\n",
              "      <td>0</td>\n",
              "      <td>...</td>\n",
              "      <td>0</td>\n",
              "      <td>0</td>\n",
              "      <td>0</td>\n",
              "      <td>0</td>\n",
              "      <td>0</td>\n",
              "      <td>0</td>\n",
              "      <td>0</td>\n",
              "      <td>0</td>\n",
              "      <td>0</td>\n",
              "      <td>0</td>\n",
              "    </tr>\n",
              "    <tr>\n",
              "      <th>1110</th>\n",
              "      <td>0</td>\n",
              "      <td>0</td>\n",
              "      <td>0</td>\n",
              "      <td>0</td>\n",
              "      <td>0</td>\n",
              "      <td>0</td>\n",
              "      <td>0</td>\n",
              "      <td>0</td>\n",
              "      <td>0</td>\n",
              "      <td>0</td>\n",
              "      <td>...</td>\n",
              "      <td>0</td>\n",
              "      <td>0</td>\n",
              "      <td>0</td>\n",
              "      <td>0</td>\n",
              "      <td>0</td>\n",
              "      <td>0</td>\n",
              "      <td>0</td>\n",
              "      <td>0</td>\n",
              "      <td>0</td>\n",
              "      <td>0</td>\n",
              "    </tr>\n",
              "  </tbody>\n",
              "</table>\n",
              "<p>10 rows × 193077 columns</p>\n",
              "</div>\n",
              "    <div class=\"colab-df-buttons\">\n",
              "\n",
              "  <div class=\"colab-df-container\">\n",
              "    <button class=\"colab-df-convert\" onclick=\"convertToInteractive('df-b6c15dc0-64d1-453d-965f-586b509f08d0')\"\n",
              "            title=\"Convert this dataframe to an interactive table.\"\n",
              "            style=\"display:none;\">\n",
              "\n",
              "  <svg xmlns=\"http://www.w3.org/2000/svg\" height=\"24px\" viewBox=\"0 -960 960 960\">\n",
              "    <path d=\"M120-120v-720h720v720H120Zm60-500h600v-160H180v160Zm220 220h160v-160H400v160Zm0 220h160v-160H400v160ZM180-400h160v-160H180v160Zm440 0h160v-160H620v160ZM180-180h160v-160H180v160Zm440 0h160v-160H620v160Z\"/>\n",
              "  </svg>\n",
              "    </button>\n",
              "\n",
              "  <style>\n",
              "    .colab-df-container {\n",
              "      display:flex;\n",
              "      gap: 12px;\n",
              "    }\n",
              "\n",
              "    .colab-df-convert {\n",
              "      background-color: #E8F0FE;\n",
              "      border: none;\n",
              "      border-radius: 50%;\n",
              "      cursor: pointer;\n",
              "      display: none;\n",
              "      fill: #1967D2;\n",
              "      height: 32px;\n",
              "      padding: 0 0 0 0;\n",
              "      width: 32px;\n",
              "    }\n",
              "\n",
              "    .colab-df-convert:hover {\n",
              "      background-color: #E2EBFA;\n",
              "      box-shadow: 0px 1px 2px rgba(60, 64, 67, 0.3), 0px 1px 3px 1px rgba(60, 64, 67, 0.15);\n",
              "      fill: #174EA6;\n",
              "    }\n",
              "\n",
              "    .colab-df-buttons div {\n",
              "      margin-bottom: 4px;\n",
              "    }\n",
              "\n",
              "    [theme=dark] .colab-df-convert {\n",
              "      background-color: #3B4455;\n",
              "      fill: #D2E3FC;\n",
              "    }\n",
              "\n",
              "    [theme=dark] .colab-df-convert:hover {\n",
              "      background-color: #434B5C;\n",
              "      box-shadow: 0px 1px 3px 1px rgba(0, 0, 0, 0.15);\n",
              "      filter: drop-shadow(0px 1px 2px rgba(0, 0, 0, 0.3));\n",
              "      fill: #FFFFFF;\n",
              "    }\n",
              "  </style>\n",
              "\n",
              "    <script>\n",
              "      const buttonEl =\n",
              "        document.querySelector('#df-b6c15dc0-64d1-453d-965f-586b509f08d0 button.colab-df-convert');\n",
              "      buttonEl.style.display =\n",
              "        google.colab.kernel.accessAllowed ? 'block' : 'none';\n",
              "\n",
              "      async function convertToInteractive(key) {\n",
              "        const element = document.querySelector('#df-b6c15dc0-64d1-453d-965f-586b509f08d0');\n",
              "        const dataTable =\n",
              "          await google.colab.kernel.invokeFunction('convertToInteractive',\n",
              "                                                    [key], {});\n",
              "        if (!dataTable) return;\n",
              "\n",
              "        const docLinkHtml = 'Like what you see? Visit the ' +\n",
              "          '<a target=\"_blank\" href=https://colab.research.google.com/notebooks/data_table.ipynb>data table notebook</a>'\n",
              "          + ' to learn more about interactive tables.';\n",
              "        element.innerHTML = '';\n",
              "        dataTable['output_type'] = 'display_data';\n",
              "        await google.colab.output.renderOutput(dataTable, element);\n",
              "        const docLink = document.createElement('div');\n",
              "        docLink.innerHTML = docLinkHtml;\n",
              "        element.appendChild(docLink);\n",
              "      }\n",
              "    </script>\n",
              "  </div>\n",
              "\n",
              "\n",
              "<div id=\"df-2293b157-e390-4ace-b0eb-265e57c57f6a\">\n",
              "  <button class=\"colab-df-quickchart\" onclick=\"quickchart('df-2293b157-e390-4ace-b0eb-265e57c57f6a')\"\n",
              "            title=\"Suggest charts\"\n",
              "            style=\"display:none;\">\n",
              "\n",
              "<svg xmlns=\"http://www.w3.org/2000/svg\" height=\"24px\"viewBox=\"0 0 24 24\"\n",
              "     width=\"24px\">\n",
              "    <g>\n",
              "        <path d=\"M19 3H5c-1.1 0-2 .9-2 2v14c0 1.1.9 2 2 2h14c1.1 0 2-.9 2-2V5c0-1.1-.9-2-2-2zM9 17H7v-7h2v7zm4 0h-2V7h2v10zm4 0h-2v-4h2v4z\"/>\n",
              "    </g>\n",
              "</svg>\n",
              "  </button>\n",
              "\n",
              "<style>\n",
              "  .colab-df-quickchart {\n",
              "      --bg-color: #E8F0FE;\n",
              "      --fill-color: #1967D2;\n",
              "      --hover-bg-color: #E2EBFA;\n",
              "      --hover-fill-color: #174EA6;\n",
              "      --disabled-fill-color: #AAA;\n",
              "      --disabled-bg-color: #DDD;\n",
              "  }\n",
              "\n",
              "  [theme=dark] .colab-df-quickchart {\n",
              "      --bg-color: #3B4455;\n",
              "      --fill-color: #D2E3FC;\n",
              "      --hover-bg-color: #434B5C;\n",
              "      --hover-fill-color: #FFFFFF;\n",
              "      --disabled-bg-color: #3B4455;\n",
              "      --disabled-fill-color: #666;\n",
              "  }\n",
              "\n",
              "  .colab-df-quickchart {\n",
              "    background-color: var(--bg-color);\n",
              "    border: none;\n",
              "    border-radius: 50%;\n",
              "    cursor: pointer;\n",
              "    display: none;\n",
              "    fill: var(--fill-color);\n",
              "    height: 32px;\n",
              "    padding: 0;\n",
              "    width: 32px;\n",
              "  }\n",
              "\n",
              "  .colab-df-quickchart:hover {\n",
              "    background-color: var(--hover-bg-color);\n",
              "    box-shadow: 0 1px 2px rgba(60, 64, 67, 0.3), 0 1px 3px 1px rgba(60, 64, 67, 0.15);\n",
              "    fill: var(--button-hover-fill-color);\n",
              "  }\n",
              "\n",
              "  .colab-df-quickchart-complete:disabled,\n",
              "  .colab-df-quickchart-complete:disabled:hover {\n",
              "    background-color: var(--disabled-bg-color);\n",
              "    fill: var(--disabled-fill-color);\n",
              "    box-shadow: none;\n",
              "  }\n",
              "\n",
              "  .colab-df-spinner {\n",
              "    border: 2px solid var(--fill-color);\n",
              "    border-color: transparent;\n",
              "    border-bottom-color: var(--fill-color);\n",
              "    animation:\n",
              "      spin 1s steps(1) infinite;\n",
              "  }\n",
              "\n",
              "  @keyframes spin {\n",
              "    0% {\n",
              "      border-color: transparent;\n",
              "      border-bottom-color: var(--fill-color);\n",
              "      border-left-color: var(--fill-color);\n",
              "    }\n",
              "    20% {\n",
              "      border-color: transparent;\n",
              "      border-left-color: var(--fill-color);\n",
              "      border-top-color: var(--fill-color);\n",
              "    }\n",
              "    30% {\n",
              "      border-color: transparent;\n",
              "      border-left-color: var(--fill-color);\n",
              "      border-top-color: var(--fill-color);\n",
              "      border-right-color: var(--fill-color);\n",
              "    }\n",
              "    40% {\n",
              "      border-color: transparent;\n",
              "      border-right-color: var(--fill-color);\n",
              "      border-top-color: var(--fill-color);\n",
              "    }\n",
              "    60% {\n",
              "      border-color: transparent;\n",
              "      border-right-color: var(--fill-color);\n",
              "    }\n",
              "    80% {\n",
              "      border-color: transparent;\n",
              "      border-right-color: var(--fill-color);\n",
              "      border-bottom-color: var(--fill-color);\n",
              "    }\n",
              "    90% {\n",
              "      border-color: transparent;\n",
              "      border-bottom-color: var(--fill-color);\n",
              "    }\n",
              "  }\n",
              "</style>\n",
              "\n",
              "  <script>\n",
              "    async function quickchart(key) {\n",
              "      const quickchartButtonEl =\n",
              "        document.querySelector('#' + key + ' button');\n",
              "      quickchartButtonEl.disabled = true;  // To prevent multiple clicks.\n",
              "      quickchartButtonEl.classList.add('colab-df-spinner');\n",
              "      try {\n",
              "        const charts = await google.colab.kernel.invokeFunction(\n",
              "            'suggestCharts', [key], {});\n",
              "      } catch (error) {\n",
              "        console.error('Error during call to suggestCharts:', error);\n",
              "      }\n",
              "      quickchartButtonEl.classList.remove('colab-df-spinner');\n",
              "      quickchartButtonEl.classList.add('colab-df-quickchart-complete');\n",
              "    }\n",
              "    (() => {\n",
              "      let quickchartButtonEl =\n",
              "        document.querySelector('#df-2293b157-e390-4ace-b0eb-265e57c57f6a button');\n",
              "      quickchartButtonEl.style.display =\n",
              "        google.colab.kernel.accessAllowed ? 'block' : 'none';\n",
              "    })();\n",
              "  </script>\n",
              "</div>\n",
              "\n",
              "    </div>\n",
              "  </div>\n"
            ]
          },
          "metadata": {},
          "execution_count": 19
        }
      ]
    },
    {
      "cell_type": "code",
      "source": [
        "import gensim\n",
        "from gensim.utils import simple_preprocess\n",
        "import nltk"
      ],
      "metadata": {
        "id": "TgPpBe7ZHPLh"
      },
      "execution_count": null,
      "outputs": []
    },
    {
      "cell_type": "code",
      "source": [
        "nltk.download('stopwords')"
      ],
      "metadata": {
        "colab": {
          "base_uri": "https://localhost:8080/"
        },
        "id": "50vp0RCcHTWv",
        "outputId": "2950cc94-db1f-4304-a7d1-64974a3e07e9"
      },
      "execution_count": null,
      "outputs": [
        {
          "output_type": "stream",
          "name": "stderr",
          "text": [
            "[nltk_data] Downloading package stopwords to /root/nltk_data...\n",
            "[nltk_data]   Unzipping corpora/stopwords.zip.\n"
          ]
        },
        {
          "output_type": "execute_result",
          "data": {
            "text/plain": [
              "True"
            ]
          },
          "metadata": {},
          "execution_count": 21
        }
      ]
    },
    {
      "cell_type": "code",
      "source": [
        "from nltk.corpus import stopwords"
      ],
      "metadata": {
        "id": "QMVEshOTHVgf"
      },
      "execution_count": null,
      "outputs": []
    },
    {
      "cell_type": "code",
      "source": [
        "stop_words = stopwords.words('english')\n",
        "stop_words.extend(['has', 'been', 're', 'com', 'edu', 'use'])"
      ],
      "metadata": {
        "id": "oe6-YaLCHadJ"
      },
      "execution_count": null,
      "outputs": []
    },
    {
      "cell_type": "code",
      "source": [
        "def convert_sentences_to_words(sentences):\n",
        "    for sentence in sentences:\n",
        "        yield(gensim.utils.simple_preprocess(str(sentence), deacc=True))"
      ],
      "metadata": {
        "id": "mufKJ9S9HgBZ"
      },
      "execution_count": null,
      "outputs": []
    },
    {
      "cell_type": "code",
      "source": [
        "def remove_all_stop_words(texts):\n",
        "    return [[word for word in simple_preprocess(str(doc))\n",
        "             if word not in stop_words] for doc in texts]"
      ],
      "metadata": {
        "id": "1pST2-SUHi5z"
      },
      "execution_count": null,
      "outputs": []
    },
    {
      "cell_type": "code",
      "source": [
        "text_to_list = papers.clean_text.values.tolist()"
      ],
      "metadata": {
        "id": "sNooZfhPHkap"
      },
      "execution_count": null,
      "outputs": []
    },
    {
      "cell_type": "code",
      "source": [
        "len(text_to_list)"
      ],
      "metadata": {
        "colab": {
          "base_uri": "https://localhost:8080/"
        },
        "id": "YRFyjXq3HoBr",
        "outputId": "e4d4297f-1881-4944-c176-3c16ef3741ad"
      },
      "execution_count": null,
      "outputs": [
        {
          "output_type": "execute_result",
          "data": {
            "text/plain": [
              "7241"
            ]
          },
          "metadata": {},
          "execution_count": 27
        }
      ]
    },
    {
      "cell_type": "code",
      "source": [
        "text_to_list[0]"
      ],
      "metadata": {
        "colab": {
          "base_uri": "https://localhost:8080/",
          "height": 188
        },
        "id": "jsSoazk_HtKU",
        "outputId": "5948922a-c67c-4ff5-90c8-8734a2bf385b"
      },
      "execution_count": null,
      "outputs": [
        {
          "output_type": "execute_result",
          "data": {
            "text/plain": [
              "'\\n\\nSELF-ORGANIZATION OF ASSOCIATIVE DATABASE\\nAND ITS APPLICATIONS\\nHisashi Suzuki and Suguru Arimoto\\nOsaka University Toyonaka Osaka  Japan\\nABSTRACT\\nAn efficient method of self-organizing associative databases is proposed together with\\napplications to robot eyesight systems The proposed databases can associate any input\\nwith some output In the first half part of discussion an algorithm of self-organization is\\nproposed From an aspect of hardware it produces a new style of neural network In the\\nlatter half part an applicability to handwritten letter recognition and that to an autonomous\\nmobile robot system are demonstrated\\n\\nINTRODUCTION\\nLet a mapping f : X -+ Y be given Here X is a finite or infinite set and Y is another\\nfinite or infinite set A learning machine observes any set of pairs (x y) sampled randomly\\nfrom X x Y (X x Y means the Cartesian product of X and Y) And it computes some\\nestimate j : X -+ Y of f to make small the estimation error in some measure\\nUsually we say that: the faster the decrease of estimation error with increase of the number of samples the better the learning machine However such expression on performance\\nis incomplete Since it lacks consideration on the candidates of J of j assumed preliminarily Then how should we find out good learning machines To clarify this conception\\nlet us discuss for a while on some types of learning machines And let us advance the\\nunderstanding of the self-organization of associative database \\n Parameter Type\\nAn ordinary type of learning machine assumes an equation relating x\\'s and y\\'s with\\nparameters being indefinite namely a structure of f It is equivalent to define implicitly a\\nset F of candidates of\\n(F is some subset of mappings from X to Y) And it computes\\nvalues of the parameters based on the observed samples We call such type a parameter\\ntype\\nFor a learning machine defined well if F  f j approaches f as the number of samples\\nincreases In the alternative case however some estimation error remains eternally Thus\\na problem of designing a learning machine returns to find out a proper structure of f in this\\nsense\\nOn the other hand the assumed structure of f is demanded to be as compact as possible\\nto achieve a fast learning In other words the number of parameters should be small Since\\nif the parameters are few some j can be uniquely determined even though the observed\\nsamples are few However this demand of being proper contradicts to that of being compact\\nConsequently in the parameter type the better the compactness of the assumed structure\\nthat is proper the better the learning machine This is the most elementary conception\\nwhen we design learning machines \\n\\n\\n\\n Universality and Ordinary Neural Networks\\nNow suppose that a sufficient knowledge on f is given though J itself is unknown In\\nthis case it is comparatively easy to find out proper and compact structures of J In the\\nalternative case however it is sometimes difficult A possible solution is to give up the\\ncompactness and assume an almighty structure that can cover various \\'s A combination\\nof some orthogonal bases of the infinite dimension is such a structure Neural networks  \\nare its approximations obtained by truncating finitely the dimension for implementation\\n\\n American Institute of Physics \\n\\n\\x0c\\nA main topic in designing neural networks is to establish such desirable structures of \\nThis work includes developing practical procedures that compute values of coefficients from\\nthe observed samples Such discussions are :flourishing since  while many efficient methods have been proposed Recently even hardware units computing coefficients in parallel\\nfor speed-up are sold eg ANZA Mark III Odyssey and E-\\nNevertheless in neural networks there always exists a danger of some error remaining\\neternally in estimating / Precisely speaking suppose that a combination of the bases of a\\nfinite number can define a structure of  essentially In other words suppose that F  / or\\n is located near F In such case the estimation error is none or negligible However if \\nis distant from F the estimation error never becomes negligible Indeed many researches\\nreport that the following situation appears when  is too complex Once the estimation\\nerror converges to some value (> ) as the number of samples increases it decreases hardly\\neven though the dimension is heighten This property sometimes is a considerable defect of\\nneural networks \\n Recursi ve Type\\nThe recursive type is founded on another methodology of learning that should be as\\nfollows At the initial stage of no sample the set Fa (instead of notation F) of candidates\\nof I equals to the set of all mappings from X to Y After observing the first sample\\n(Xl Yl) E X x Y Fa is reduced to Fi so that I(xt) = Yl for any I E F After observing\\nthe second sample (\\' ) E X x Y Fl is further reduced to  so that i(xt) = Yl and\\nI() =  for any I E F Thus the candidate set F becomes gradually small as observation\\nof samples proceeds The after observing i-samples which we write\\nis one of the most\\nlikelihood estimation of  selected in fi; Hence contrarily to the parameter type the\\nrecursive type guarantees surely that j approaches to  as the number of samples increases\\nThe recursive type if observes a sample (x\" yd rewrites values -l(X)S to I(x)\\'s for\\nsome x\\'s correlated to the sample Hence this type has an architecture composed of a rule\\nfor rewriting and a free memory space Such architecture forms naturally a kind of database\\nthat builds up management systems of data in a self-organizing way However this database\\ndiffers from ordinary ones in the following sense It does not only record the samples already\\nobserved but computes some estimation of l(x) for any x E X We call such database an\\nassociative database\\nThe first subject in constructing associative databases is how we establish the rule for\\nrewri ting For this purpose we adap t a measure called the dissimilari ty Here a dissimilari ty\\nmeans a mapping d : X x X -+ {reals > O} such that for any (x x) E X x X d(x x) > \\nwhenever l(x) t /(x) However it is not necessarily defined with a single formula It is\\ndefinable with for example a collection of rules written in forms of \"if  then  \"\\nThe dissimilarity d defines a structure of  locally in X x Y Hence even though\\nthe knowledge on f is imperfect we can re:flect it on d in some heuristic way Hence\\ncontrarily to neural networks it is possible to accelerate the speed of learning by establishing\\nd well Especially we can easily find out simple d\\'s for those l\\'s which process analogically\\ninformation like a human (See the applications in this paper) And for such /\\'s the\\nrecursive type shows strongly its effectiveness\\nWe denote a sequence of observed samples by (Xl Yd (\\' ) One of the simplest\\nconstructions of associative databases after observing i-samples (i = ) is as follows\\n\\ni\\n\\ni\"\\n\\nI\\n\\nAlgorithm  At the initial stage let So be the empty set For every i =\\n\"   let i-l(x) for any x E X equal some y* such that (x*y*) E S-l and\\n\\nd(x x*) =\\n\\nmin\\n(%y)ES-t\\n\\nd(x x) \\n\\nFurthermore add (x\" y) to S;-l to produce Sa ie S = S_l U {(x\"\\n\\n()\\n\\nyn\\n\\n\\x0c\\n\\nAnother version improved to economize the memory is as follows\\n\\nAlgorithm  At the initial stage let So be composed of an arbitrary element\\nin X x Y For every i = \"\" let ii-lex) for any x E X equal some y such\\nthat (x y) E Si-l and\\nd(x x) =\\n\\nmin\\n\\nd(x x) \\n\\n(ii)ES-l\\n\\nFurthermore if ii-l(Xi) # Yi then let Si = Si-l or add (Xi Yi) to Si-l to\\nproduce Si ie Si = Si-l U {(Xi Yi)}\\'\\nIn either construction ii approaches to f as i increases However the computation time\\ngrows proportionally to the size of Si The second subject in constructing associative\\ndatabases is what addressing rule we should employ to economize the computation time In\\nthe subsequent chapters a construction of associative database for this purpose is proposed\\nIt manages data in a form of binary tree\\n\\nSELF-ORGANIZATION OF ASSOCIATIVE DATABASE\\nGiven a sample sequence (Xl Yl) (\\' )  \" the algorithm for constructing associative\\ndatabase is as follows\\n\\nAlgorithm \\'\\n\\nStep I(Initialization): Let (x[root] y[root]) = (Xl Yd Here x[] and y[] are\\nvariables assigned for respective nodes to memorize data Furthermore let t = \\nStep : Increase t by  and put x in After reset a pointer n to the root repeat\\nthe following until n arrives at some terminal node ie leaf\\nNotations nand\\nd(xt x[n)) let n\\n\\nn mean the descendant nodes of n\\n=n Otherwise let n =n\\n\\nIf d(x\" r[n)) ~\\n\\nStep : Display yIn] as the related information Next put y in If yIn] = y\" back\\nto step  Otherwise first establish new descendant nodes n and n Secondly\\nlet\\n\\n(x[n] yIn))\\n(x[n] yIn))\\n\\n(x[n] yIn))\\n(Xt y)\\n\\n()\\n()\\n\\nFinally back to step  Here the loop of step - can be stopped at any time\\nand also can be continued\\nNow suppose that gate elements namely artificial \"synapses\" that play the role of branching by d are prepared Then we obtain a new style of neural network with gate elements\\nbeing randomly connected by this algorithm\\n\\nLETTER RECOGNITION\\nRecen tly the vertical slitting method for recognizing typographic English   the\\nelastic matching method for recognizing hand written discrete English   the global\\ntraining and fuzzy logic search method for recognizing Chinese characters written in square\\nstyleS etc are published The self-organization of associative database realizes the recognition of handwritten continuous English letters\\n\\n\\x0c\\n\\n /wn\"\\n\\nNOV\\n\\n~ ~ ~ -xk :Lat\\n\\n~~ ~ ~~~\\n\\n\\'\\n\\n~~~~~of~~\\n\\n~~~ -~~  Source document\\n~~---------------\\'\\n\\nlOO~---------------\\'\\n\\nH\\n\\no\\n\\no\\nFig  Windowing\\n\\n\\n\\n\\n\\n\\n\\n\\n\\nNumber of samples\\n\\no\\n\\n\\n\\n\\n\\n\\n\\n\\n\\nNUAlber of sampl es\\n\\nFig  An experiment result\\n\\nAn image scanner takes a document image (Fig ) The letter recognizer uses a parallelogram window that at least can cover the maximal letter (Fig ) and processes the\\nsequence of letters while shifting the window That is the recognizer scans a word in a\\nslant direction And it places the window so that its left vicinity may be on the first black\\npoint detected Then the window catches a letter and some part of the succeeding letter\\nIf recognition of the head letter is performed its end position namely the boundary line\\nbetween two letters becomes known Hence by starting the scanning from this boundary\\nand repeating the above operations the recognizer accomplishes recursively the task Thus\\nthe major problem comes to identifying the head letter in the window\\nConsidering it we define the following\\n Regard window images as x\\'s and define X accordingly\\n For a (x x) E X x X denote by B a black point in the left area from the boundary on\\nwindow image X Project each B onto window image x Then measure the Euclidean\\ndistance  between fj and a black point B on x being the closest to B Let d(x x) be\\nthe summation of \\'s for all black points B\\'s on x divided by the number of B\\'s\\n Regard couples of the \"reading\" and the position of boundary as y\\'s and define Y\\naccordingly\\nAn operator teaches the recognizer in interaction the relation between window image and\\nreading& boundary with algorithm  Precisely if the recalled reading is incorrect the\\noperator teaches a correct reading via the console Moreover if the boundary position is\\nincorrect he teaches a correct position via the mouse\\nFig  shows partially a document image used in this experiment Fig  shows the\\nchange of the number of nodes and that of the recognition rate defined as the relative\\nfrequency of correct answers in the past  trials Speciiications of the window are height\\n=  width =  and slant angular =  In this example the levels of tree\\nwere distributed in - at time  and the recognition rate converged to about %\\nExperimentally the recognition rate converges to about -% in most cases and to % at\\na rare case However it does not attain % since eg \"c\" and \"e\" are not distinguishable\\nbecause of excessive lluctuation in writing If the consistency of the x y-relation is not\\nassured like this the number of nodes increases endlessly (d Fig ) Hence it is clever to\\nstop the learning when the recognition rate attains some upper limit To improve further\\nthe recognition rate we must consider the spelling of words It is one of future subjects\\n\\n\\x0c\\n\\nOBSTACLE AVOIDING MOVEMENT\\nVarious systems of camera type autonomous mobile robot are reported -\\nThe system made up by the authors (Fig ) also belongs to this category Now in mathematical methodologies we solve usually the problem of obstacle avoiding movement as\\na cost minimization problem under some cost criterion established artificially Contrarily\\nthe self-organization of associative database reproduces faithfully the cost criterion of an\\noperator Therefore motion of the robot after learning becomes very natural\\nNow the length width and height of the robot are all about  and the weight is\\nabout  The visual angle of camera is about  The robot has the following three\\nfactors of motion It turns less than  advances less than  and controls speed less\\nthan /h The experiment was done on the passageway of wid th  inside a building\\nwhich the authors\\' laboratories exist in (Fig ) Because of an experimental intention we\\narrange boxes smoking stands gas cylinders stools handcarts etc on the passage way at\\nrandom We let the robot take an image through the camera recall a similar image and\\ntrace the route preliminarily recorded on it For this purpose we define the following\\n Let the camera face  downward to take an image and process it through a low\\npass filter Scanning vertically the filtered image from the bottom to the top search\\nthe first point C where the luminance changes excessively Then su bstitu te all points\\nfrom the bottom to C for white and all points from C to the top for black (Fig )\\n(If no obstacle exists just in front of the robot the white area shows the \\'\\'free\\'\\' area\\nwhere the robot can move around) Regard binary  x  images processed thus\\nas x\\'s and define X accordingly\\n For every (x x) E X x X let d(x x) be the number of black points on the exclusive-or\\nimage between x and X\\n Regard as y\\'s the images obtained by drawing routes on images x\\'s and define Y\\naccordingly\\nThe robot superimposes on the current camera image x the route recalled for x and\\ninquires the operator instructions The operator judges subjectively whether the suggested\\nroute is appropriate or not In the negative answer he draws a desirable route on x with the\\nmouse to teach a new y to the robot This operation defines implicitly a sample sequence\\nof (x y) reflecting the cost criterion of the operator\\n\\n::l\" \\n-\\n\\nIibUBe\\n\\n_ -\\n\\n\\n\\n\\n\\nRoan\\n\\n\\n\\n{-\\n\\n\\n\\nStationary uni t\\n\\nFig  Configuration of\\nautonomous mobile robot system\\n\\n~\\n\\nI\\n\\n\\n\\n\\n\\n\\n\\nNorth\\n\\n\\nrmbi Ie unit (robot)\\n\\n-\\n\\nRoan\\n\\ny\\n\\nt\\n\\nFig  Experimental\\nenvironment\\n\\n\\x0c\\n\\nWall\\n\\nCamera image\\n\\nPreprocessing\\n\\nA\\n\\n::: fa\\n\\n\\n\\nPreprocessing\\n\\n\\n\\nO\\n\\nCourse\\nsuggest ion\\n\\n\\n\\n\\n\\nSearch\\n\\nA\\n\\nFig  Processing for\\nobstacle avoiding movement\\n\\nx\\n\\nFig  Processing for\\nposition identification\\nWe define the satisfaction rate by the relative frequency of acceptable suggestions of\\nroute in the past  trials In a typical experiment the change of satisfaction rate showed\\na similar tendency to Fig  and it attains about % around time  Here notice that\\nthe rest % does not mean directly the percentage of collision (In practice we prevent the\\ncollision by adopting some supplementary measure) At time  the number of nodes was\\n and the levels of tree were distributed in -\\nThe proposed method reflects delicately various characters of operator For example a\\nrobot trained by an operator  moves slowly with enough space against obstacles while one\\ntrained by another operator \\' brushes quickly against obstacles This fact gives us a hint\\non a method of printing \"characters\" into machines\\nPOSITION IDENTIFICATION\\nThe robot can identify its position by recalling a similar landscape with the position data\\nto a camera image For this purpose in principle it suffices to regard camera images and\\nposition data as x\\'s and y\\'s respectively However the memory capacity is finite in actual\\ncompu ters Hence we cannot but compress the camera images at a slight loss of information\\nSuch compression is admittable as long as the precision of position identification is in an\\nacceptable area Thus the major problem comes to find out some suitable compression\\nmethod\\nIn the experimental environment (Fig ) juts are on the passageway at intervals of\\n and each section between adjacent juts has at most one door The robot identifies\\nroughly from a surrounding landscape which section itself places in And it uses temporarily\\na triangular surveying technique if an exact measure is necessary To realize the former task\\nwe define the following \\n Turn the camera to take a panorama image of  Scanning horizontally the\\ncenter line substitute the points where the luminance excessively changes for black\\nand the other points for white (Fig ) Regard binary  line images processed\\nthus as x\\'s and define X accordingly\\n For every (x x) E X x X project each black point A on x onto x And measure the\\nEuclidean distance  between A and a black point A on x being the closest to A Let\\nthe summation of  be S Similarly calculate S by exchanging the roles of x and X\\nDenoting the numbers of A\\'s and A\\'s respectively by nand n define\\n\\n\\x0c\\n\\nd(x x) =\\n\\n~(~\\n+ ~)\\n n\\nn\\n\\n()\\n\\n Regard positive integers labeled on sections as y\\'s (cf Fig ) and define Y accordingly\\nIn the learning mode the robot checks exactly its position with a counter that is reset periodically by the operator The robot runs arbitrarily on the passageways within  area\\nand learns the relation between landscapes and position data (Position identification beyond  area is achieved by crossing plural databases one another) This task is automatic\\nexcepting the periodic reset of counter namely it is a kind of learning without teacher\\nWe define the identification rate by the relative frequency of correct recalls of position\\ndata in the past  trials In a typical example it converged to about % around time\\n At time  the number of levels was  and the levels oftree were distributed in  Since the identification failures of % can be rejected by considering the trajectory no\\npro blem arises in practical use In order to improve the identification rate the compression\\nratio of camera images must be loosened Such possibility depends on improvement of the\\nhardware in the future\\nFig  shows an example of actual motion of the robot based on the database for obstacle\\navoiding movement and that for position identification This example corresponds to a case\\nof moving from  to  in Fig  Here the time interval per frame is about \\n\\n~ ~ (\\n;~\"i\\n~\\n\\n\"\\n\\n\"\\n\\n\\n\\nI\\n\\nI\\n\\n\\n\\n\\n\"\\n\\nI\\'\\n\\n\\'\\nt\\n\\n;\\n\\ni\\n\\n-:\\n    \\'II\\n\\nFig  Actual motion of the robot\\n\\n\\x0c\\n\\nCONCLUSION\\nA method of self-organizing associative databases was proposed with the application to\\nrobot eyesight systems The machine decomposes a global structure unknown into a set of\\nlocal structures known and learns universally any input-output response This framework\\nof problem implies a wide application area other than the examples shown in this paper\\nA defect of the algorithm  of self-organization is that the tree is balanced well only\\nfor a subclass of structures of f A subject imposed us is to widen the class A probable\\nsolution is to abolish the addressing rule depending directly on values of d and instead to\\nestablish another rule depending on the distribution function of values of d It is now under\\ninvestigation\\n\\nREFERENCES\\n Hopfield J J and D W Tank \"Computing with Neural Circuit: A Model/\\'\\n\\nScience  () pp -\\n Rumelhart D E et al \"Learning Representations by Back-Propagating Errors\" Nature  () pp -\\n\\n Hull J J \"Hypothesis Generation in a Computational Model for Visual Word\\nRecognition\" IEEE Expert Fall () pp -\\n Kurtzberg J M \"Feature Analysis for Symbol Recognition by Elastic Matching\" IBM J Res Develop - () pp -\\n\\n Wang Q R and C Y Suen \"Large Tree Classifier with Heuristic Search and\\nGlobal Training\" IEEE Trans Pattern Anal & Mach Intell PAMI -\\n() pp -\\n Brooks R A et al \"Self Calibration of Motion and Stereo Vision for Mobile\\nRobots\"  Int Symp of Robotics Research () pp -\\n Goto Y and A Stentz \"The CMU System for Mobile Robot Navigation\" \\nIEEE Int Conf on Robotics & Automation () pp -\\n Madarasz R et al \"The Design of an Autonomous Vehicle for the Disabled\"\\nIEEE Jour of Robotics & Automation RA - () pp -\\n Triendl E and D J Kriegman \"Stereo Vision and Navigation within Buildings\"  IEEE Int Conf on Robotics & Automation () pp -\\n Turk M A et al \"Video Road-Following for the Autonomous Land Vehicle\"\\n IEEE Int Conf on Robotics & Automation () pp -\\n\\n\\x0c'"
            ],
            "application/vnd.google.colaboratory.intrinsic+json": {
              "type": "string"
            }
          },
          "metadata": {},
          "execution_count": 28
        }
      ]
    },
    {
      "cell_type": "code",
      "source": [
        "text_as_words = list(convert_sentences_to_words(text_to_list))"
      ],
      "metadata": {
        "id": "YBY_Uq9ZHvD6",
        "colab": {
          "base_uri": "https://localhost:8080/",
          "height": 174
        },
        "outputId": "5c12e31c-6765-4a90-d18d-d87321561774"
      },
      "execution_count": null,
      "outputs": [
        {
          "output_type": "error",
          "ename": "NameError",
          "evalue": "name 'convert_sentences_to_words' is not defined",
          "traceback": [
            "\u001b[0;31m---------------------------------------------------------------------------\u001b[0m",
            "\u001b[0;31mNameError\u001b[0m                                 Traceback (most recent call last)",
            "\u001b[0;32m<ipython-input-4-84bdf80cfdc0>\u001b[0m in \u001b[0;36m<cell line: 1>\u001b[0;34m()\u001b[0m\n\u001b[0;32m----> 1\u001b[0;31m \u001b[0mtext_as_words\u001b[0m \u001b[0;34m=\u001b[0m \u001b[0mlist\u001b[0m\u001b[0;34m(\u001b[0m\u001b[0mconvert_sentences_to_words\u001b[0m\u001b[0;34m(\u001b[0m\u001b[0mtext_to_list\u001b[0m\u001b[0;34m)\u001b[0m\u001b[0;34m)\u001b[0m\u001b[0;34m\u001b[0m\u001b[0;34m\u001b[0m\u001b[0m\n\u001b[0m",
            "\u001b[0;31mNameError\u001b[0m: name 'convert_sentences_to_words' is not defined"
          ]
        }
      ]
    },
    {
      "cell_type": "code",
      "source": [
        "len(text_as_words)"
      ],
      "metadata": {
        "colab": {
          "base_uri": "https://localhost:8080/"
        },
        "id": "GksEP69NH0I9",
        "outputId": "fb8825f2-018e-44bd-9a4f-675bc094f330"
      },
      "execution_count": null,
      "outputs": [
        {
          "output_type": "execute_result",
          "data": {
            "text/plain": [
              "7241"
            ]
          },
          "metadata": {},
          "execution_count": 30
        }
      ]
    },
    {
      "cell_type": "code",
      "source": [
        "print(text_as_words[0])"
      ],
      "metadata": {
        "colab": {
          "base_uri": "https://localhost:8080/",
          "height": 174
        },
        "id": "2f2hGwZ4H3cY",
        "outputId": "a6c3157b-c9b7-4813-bc2d-9c9a9f90b102"
      },
      "execution_count": null,
      "outputs": [
        {
          "output_type": "error",
          "ename": "NameError",
          "evalue": "name 'text_as_words' is not defined",
          "traceback": [
            "\u001b[0;31m---------------------------------------------------------------------------\u001b[0m",
            "\u001b[0;31mNameError\u001b[0m                                 Traceback (most recent call last)",
            "\u001b[0;32m<ipython-input-3-6fd79103b0f2>\u001b[0m in \u001b[0;36m<cell line: 1>\u001b[0;34m()\u001b[0m\n\u001b[0;32m----> 1\u001b[0;31m \u001b[0mprint\u001b[0m\u001b[0;34m(\u001b[0m\u001b[0mtext_as_words\u001b[0m\u001b[0;34m[\u001b[0m\u001b[0;36m0\u001b[0m\u001b[0;34m]\u001b[0m\u001b[0;34m)\u001b[0m\u001b[0;34m\u001b[0m\u001b[0;34m\u001b[0m\u001b[0m\n\u001b[0m",
            "\u001b[0;31mNameError\u001b[0m: name 'text_as_words' is not defined"
          ]
        }
      ]
    },
    {
      "cell_type": "code",
      "source": [
        "clean_words = remove_all_stop_words(text_as_words)"
      ],
      "metadata": {
        "id": "LLmY7I0yIE-h",
        "colab": {
          "base_uri": "https://localhost:8080/",
          "height": 174
        },
        "outputId": "e7085ff9-ac66-4b7b-b1ea-11398108f671"
      },
      "execution_count": null,
      "outputs": [
        {
          "output_type": "error",
          "ename": "NameError",
          "evalue": "name 'remove_all_stop_words' is not defined",
          "traceback": [
            "\u001b[0;31m---------------------------------------------------------------------------\u001b[0m",
            "\u001b[0;31mNameError\u001b[0m                                 Traceback (most recent call last)",
            "\u001b[0;32m<ipython-input-1-58ffe0272827>\u001b[0m in \u001b[0;36m<cell line: 1>\u001b[0;34m()\u001b[0m\n\u001b[0;32m----> 1\u001b[0;31m \u001b[0mclean_words\u001b[0m \u001b[0;34m=\u001b[0m \u001b[0mremove_all_stop_words\u001b[0m\u001b[0;34m(\u001b[0m\u001b[0mtext_as_words\u001b[0m\u001b[0;34m)\u001b[0m\u001b[0;34m\u001b[0m\u001b[0;34m\u001b[0m\u001b[0m\n\u001b[0m",
            "\u001b[0;31mNameError\u001b[0m: name 'remove_all_stop_words' is not defined"
          ]
        }
      ]
    },
    {
      "cell_type": "code",
      "source": [
        "len(clean_words)"
      ],
      "metadata": {
        "colab": {
          "base_uri": "https://localhost:8080/"
        },
        "id": "oV-GkqkfIG9X",
        "outputId": "c5d4aac3-e79f-4014-8310-6619a4e3ff3a"
      },
      "execution_count": null,
      "outputs": [
        {
          "output_type": "stream",
          "name": "stderr",
          "text": [
            "/usr/local/lib/python3.10/dist-packages/ipykernel/ipkernel.py:283: DeprecationWarning: `should_run_async` will not call `transform_cell` automatically in the future. Please pass the result to `transformed_cell` argument and any exception that happen during thetransform in `preprocessing_exc_tuple` in IPython 7.17 and above.\n",
            "  and should_run_async(code)\n"
          ]
        },
        {
          "output_type": "execute_result",
          "data": {
            "text/plain": [
              "100"
            ]
          },
          "metadata": {},
          "execution_count": 51
        }
      ]
    },
    {
      "cell_type": "code",
      "source": [
        "len(clean_words[0])"
      ],
      "metadata": {
        "colab": {
          "base_uri": "https://localhost:8080/"
        },
        "id": "8W4ePTI2ILp5",
        "outputId": "818386a1-a242-4480-e35f-e65b54644c16"
      },
      "execution_count": null,
      "outputs": [
        {
          "output_type": "stream",
          "name": "stderr",
          "text": [
            "/usr/local/lib/python3.10/dist-packages/ipykernel/ipkernel.py:283: DeprecationWarning: `should_run_async` will not call `transform_cell` automatically in the future. Please pass the result to `transformed_cell` argument and any exception that happen during thetransform in `preprocessing_exc_tuple` in IPython 7.17 and above.\n",
            "  and should_run_async(code)\n"
          ]
        },
        {
          "output_type": "execute_result",
          "data": {
            "text/plain": [
              "1910"
            ]
          },
          "metadata": {},
          "execution_count": 52
        }
      ]
    },
    {
      "cell_type": "code",
      "source": [
        "print(clean_words[:1][0][:20])"
      ],
      "metadata": {
        "colab": {
          "base_uri": "https://localhost:8080/"
        },
        "id": "abLeaqjIIPXH",
        "outputId": "c669c47b-0471-4494-b0db-4a3423d86285"
      },
      "execution_count": null,
      "outputs": [
        {
          "output_type": "stream",
          "name": "stdout",
          "text": [
            "['learning', 'dynamics', 'universal', 'approximator', 'ansgar', 'west', 'david', 'saad', 'ian', 'abneyl', 'ahlwest', 'astonacuk', 'dsaad', 'astonacuk', 'itnabney', 'astonacuk', 'neural', 'computing', 'research', 'group']\n"
          ]
        },
        {
          "output_type": "stream",
          "name": "stderr",
          "text": [
            "/usr/local/lib/python3.10/dist-packages/ipykernel/ipkernel.py:283: DeprecationWarning: `should_run_async` will not call `transform_cell` automatically in the future. Please pass the result to `transformed_cell` argument and any exception that happen during thetransform in `preprocessing_exc_tuple` in IPython 7.17 and above.\n",
            "  and should_run_async(code)\n"
          ]
        }
      ]
    },
    {
      "cell_type": "code",
      "source": [
        "bigram = gensim.models.Phrases(clean_words, min_count=5, threshold=100)\n",
        "trigram = gensim.models.Phrases(bigram[clean_words], threshold=100)"
      ],
      "metadata": {
        "id": "WLY4RXlaIWPw",
        "colab": {
          "base_uri": "https://localhost:8080/"
        },
        "outputId": "0bb6fc54-8786-4460-f338-a77ab28c4088"
      },
      "execution_count": null,
      "outputs": [
        {
          "output_type": "stream",
          "name": "stderr",
          "text": [
            "/usr/local/lib/python3.10/dist-packages/ipykernel/ipkernel.py:283: DeprecationWarning: `should_run_async` will not call `transform_cell` automatically in the future. Please pass the result to `transformed_cell` argument and any exception that happen during thetransform in `preprocessing_exc_tuple` in IPython 7.17 and above.\n",
            "  and should_run_async(code)\n"
          ]
        }
      ]
    },
    {
      "cell_type": "code",
      "source": [
        "bigram_mod = gensim.models.phrases.Phraser(bigram)\n",
        "trigram_mod = gensim.models.phrases.Phraser(trigram)"
      ],
      "metadata": {
        "id": "hVHEPOFdOYsf",
        "colab": {
          "base_uri": "https://localhost:8080/"
        },
        "outputId": "c18f330a-d90b-4b26-ea29-c230e153ccae"
      },
      "execution_count": null,
      "outputs": [
        {
          "output_type": "stream",
          "name": "stderr",
          "text": [
            "/usr/local/lib/python3.10/dist-packages/ipykernel/ipkernel.py:283: DeprecationWarning: `should_run_async` will not call `transform_cell` automatically in the future. Please pass the result to `transformed_cell` argument and any exception that happen during thetransform in `preprocessing_exc_tuple` in IPython 7.17 and above.\n",
            "  and should_run_async(code)\n"
          ]
        }
      ]
    },
    {
      "cell_type": "code",
      "source": [
        "def make_bigrams(texts):\n",
        "    return [bigram_mod[doc] for doc in texts]\n",
        "\n",
        "def make_trigrams(texts):\n",
        "    return [trigram_mod[bigram_mod[doc]] for doc in texts]"
      ],
      "metadata": {
        "id": "0McTz8ifP2K4",
        "colab": {
          "base_uri": "https://localhost:8080/"
        },
        "outputId": "170ab33a-b226-43f0-8b8d-8cd7affc8111"
      },
      "execution_count": null,
      "outputs": [
        {
          "output_type": "stream",
          "name": "stderr",
          "text": [
            "/usr/local/lib/python3.10/dist-packages/ipykernel/ipkernel.py:283: DeprecationWarning: `should_run_async` will not call `transform_cell` automatically in the future. Please pass the result to `transformed_cell` argument and any exception that happen during thetransform in `preprocessing_exc_tuple` in IPython 7.17 and above.\n",
            "  and should_run_async(code)\n"
          ]
        }
      ]
    },
    {
      "cell_type": "code",
      "source": [
        "def lemmatization(texts, allowed_postags=['NOUN', 'ADJ', 'VERB', 'ADV']):\n",
        "    \"\"\"https://spacy.io/api/annotation\"\"\"\n",
        "    texts_out = []\n",
        "    for sent in texts:\n",
        "        doc = nlp(\" \".join(sent))\n",
        "        texts_out.append([token.lemma_ for token in doc if token.pos_ in allowed_postags])\n",
        "    return texts_out"
      ],
      "metadata": {
        "id": "dT1o7S_FP6tN",
        "colab": {
          "base_uri": "https://localhost:8080/"
        },
        "outputId": "fdd590b0-1162-4cbc-84b2-978cf1b4bded"
      },
      "execution_count": null,
      "outputs": [
        {
          "output_type": "stream",
          "name": "stderr",
          "text": [
            "/usr/local/lib/python3.10/dist-packages/ipykernel/ipkernel.py:283: DeprecationWarning: `should_run_async` will not call `transform_cell` automatically in the future. Please pass the result to `transformed_cell` argument and any exception that happen during thetransform in `preprocessing_exc_tuple` in IPython 7.17 and above.\n",
            "  and should_run_async(code)\n"
          ]
        }
      ]
    },
    {
      "cell_type": "code",
      "source": [
        "import spacy\n",
        "nlp = spacy.load('en_core_web_sm',disable=['parser', 'ner'])"
      ],
      "metadata": {
        "id": "aNkTACVgQFYz",
        "colab": {
          "base_uri": "https://localhost:8080/"
        },
        "outputId": "a850eae5-a438-4a7c-8330-682794dc231d"
      },
      "execution_count": null,
      "outputs": [
        {
          "output_type": "stream",
          "name": "stderr",
          "text": [
            "/usr/local/lib/python3.10/dist-packages/ipykernel/ipkernel.py:283: DeprecationWarning: `should_run_async` will not call `transform_cell` automatically in the future. Please pass the result to `transformed_cell` argument and any exception that happen during thetransform in `preprocessing_exc_tuple` in IPython 7.17 and above.\n",
            "  and should_run_async(code)\n",
            "/usr/local/lib/python3.10/dist-packages/tensorflow/python/framework/dtypes.py:35: DeprecationWarning: ml_dtypes.float8_e4m3b11 is deprecated. Use ml_dtypes.float8_e4m3b11fnuz\n",
            "  from tensorflow.tsl.python.lib.core import pywrap_ml_dtypes\n",
            "/usr/local/lib/python3.10/dist-packages/spacy/util.py:910: UserWarning: [W095] Model 'en_core_web_sm' (3.6.0) was trained with spaCy v3.6.0 and may not be 100% compatible with the current version (3.7.2). If you see errors or degraded performance, download a newer compatible model or retrain your custom model with the current spaCy version. For more details and available updates, run: python -m spacy validate\n",
            "  warnings.warn(warn_msg)\n"
          ]
        }
      ]
    },
    {
      "cell_type": "code",
      "source": [
        "clean_words_bigrams = make_bigrams(clean_words)"
      ],
      "metadata": {
        "id": "jOuPCBFMQKeW",
        "colab": {
          "base_uri": "https://localhost:8080/"
        },
        "outputId": "f18e4739-d5af-4dd5-e17f-987f86870d09"
      },
      "execution_count": null,
      "outputs": [
        {
          "output_type": "stream",
          "name": "stderr",
          "text": [
            "/usr/local/lib/python3.10/dist-packages/ipykernel/ipkernel.py:283: DeprecationWarning: `should_run_async` will not call `transform_cell` automatically in the future. Please pass the result to `transformed_cell` argument and any exception that happen during thetransform in `preprocessing_exc_tuple` in IPython 7.17 and above.\n",
            "  and should_run_async(code)\n"
          ]
        }
      ]
    },
    {
      "cell_type": "code",
      "source": [
        "clean_words_lemmatized = lemmatization(clean_words_bigrams, allowed_postags=['NOUN', 'ADJ', 'VERB', 'ADV'])"
      ],
      "metadata": {
        "id": "3vigBbKpQupO",
        "colab": {
          "base_uri": "https://localhost:8080/"
        },
        "outputId": "1d1e9482-39fc-4b76-8505-efd4d86e9afb"
      },
      "execution_count": null,
      "outputs": [
        {
          "output_type": "stream",
          "name": "stderr",
          "text": [
            "/usr/local/lib/python3.10/dist-packages/ipykernel/ipkernel.py:283: DeprecationWarning: `should_run_async` will not call `transform_cell` automatically in the future. Please pass the result to `transformed_cell` argument and any exception that happen during thetransform in `preprocessing_exc_tuple` in IPython 7.17 and above.\n",
            "  and should_run_async(code)\n"
          ]
        }
      ]
    },
    {
      "cell_type": "code",
      "source": [
        "print(clean_words_lemmatized[:1][0][:100])"
      ],
      "metadata": {
        "colab": {
          "base_uri": "https://localhost:8080/"
        },
        "id": "sGiSQSBFQ6MC",
        "outputId": "dd32938f-099a-499a-ed28-95b8a9ce5e33"
      },
      "execution_count": null,
      "outputs": [
        {
          "output_type": "stream",
          "name": "stdout",
          "text": [
            "['learn', 'dynamic', 'universal', 'approximator', 'ansgar', 'abneyl', 'astonacuk', 'astonacuk', 'neural', 'learn', 'property', 'universal', 'approximator', 'normalize', 'adjustable_biase', 'study', 'line', 'back_propagation', 'learning', 'statistical_mechanic', 'show', 'model', 'feature', 'exist', 'previously', 'study', 'layer', 'network', 'model', 'eg', 'attractive', 'suboptimal', 'symmetric', 'phase', 'even', 'realizable', 'case', 'noiseless', 'datum', 'introduction', 'recently', 'much', 'interest', 'theoretical', 'breakthrough', 'understanding', 'line', 'learning', 'dynamic', 'perceptron', 'mlp', 'use', 'statistical_mechanic', 'framework', 'seminal', 'paper', 'solla', 'layer', 'network', 'arbitrary', 'number', 'hidden_unit', 'study', 'allow', 'insight', 'learning', 'behaviour', 'neural', 'network', 'model', 'complexity', 'order', 'use', 'real_world', 'application', 'model', 'study', 'soft_committee', 'machine', 'biehl', 'consist', 'single', 'hidden_layer', 'adjustable', 'input', 'hide', 'fix', 'hidden', 'output', 'weight', 'average', 'learning', 'dynamic', 'network', 'study', 'thermodynamic', 'limit', 'infinite', 'input', 'dimension']\n"
          ]
        },
        {
          "output_type": "stream",
          "name": "stderr",
          "text": [
            "/usr/local/lib/python3.10/dist-packages/ipykernel/ipkernel.py:283: DeprecationWarning: `should_run_async` will not call `transform_cell` automatically in the future. Please pass the result to `transformed_cell` argument and any exception that happen during thetransform in `preprocessing_exc_tuple` in IPython 7.17 and above.\n",
            "  and should_run_async(code)\n"
          ]
        }
      ]
    },
    {
      "cell_type": "code",
      "source": [
        "print(len(clean_words))\n",
        "print(len(clean_words[0]))\n",
        "print(len(clean_words[99]))"
      ],
      "metadata": {
        "colab": {
          "base_uri": "https://localhost:8080/"
        },
        "id": "mjlCv1JIR_lU",
        "outputId": "07783a96-9148-4c03-92d4-b947e2300b9c"
      },
      "execution_count": null,
      "outputs": [
        {
          "output_type": "stream",
          "name": "stdout",
          "text": [
            "100\n",
            "1910\n",
            "1572\n"
          ]
        },
        {
          "output_type": "stream",
          "name": "stderr",
          "text": [
            "/usr/local/lib/python3.10/dist-packages/ipykernel/ipkernel.py:283: DeprecationWarning: `should_run_async` will not call `transform_cell` automatically in the future. Please pass the result to `transformed_cell` argument and any exception that happen during thetransform in `preprocessing_exc_tuple` in IPython 7.17 and above.\n",
            "  and should_run_async(code)\n"
          ]
        }
      ]
    },
    {
      "cell_type": "code",
      "source": [
        "print(len(clean_words_lemmatized))\n",
        "print(len(clean_words_lemmatized[0]))\n",
        "print(len(clean_words_lemmatized[99]))"
      ],
      "metadata": {
        "colab": {
          "base_uri": "https://localhost:8080/"
        },
        "id": "7C-4syrQSBdG",
        "outputId": "8f786817-9cad-4daa-82c7-1aad09706f63"
      },
      "execution_count": null,
      "outputs": [
        {
          "output_type": "stream",
          "name": "stdout",
          "text": [
            "100\n",
            "1520\n",
            "1261\n"
          ]
        },
        {
          "output_type": "stream",
          "name": "stderr",
          "text": [
            "/usr/local/lib/python3.10/dist-packages/ipykernel/ipkernel.py:283: DeprecationWarning: `should_run_async` will not call `transform_cell` automatically in the future. Please pass the result to `transformed_cell` argument and any exception that happen during thetransform in `preprocessing_exc_tuple` in IPython 7.17 and above.\n",
            "  and should_run_async(code)\n"
          ]
        }
      ]
    },
    {
      "cell_type": "code",
      "source": [
        "import gensim.corpora as corpora"
      ],
      "metadata": {
        "id": "wjbBhHMxSZFv",
        "colab": {
          "base_uri": "https://localhost:8080/"
        },
        "outputId": "842f2801-e449-4f78-8be9-af07e34dd523"
      },
      "execution_count": null,
      "outputs": [
        {
          "output_type": "stream",
          "name": "stderr",
          "text": [
            "/usr/local/lib/python3.10/dist-packages/ipykernel/ipkernel.py:283: DeprecationWarning: `should_run_async` will not call `transform_cell` automatically in the future. Please pass the result to `transformed_cell` argument and any exception that happen during thetransform in `preprocessing_exc_tuple` in IPython 7.17 and above.\n",
            "  and should_run_async(code)\n"
          ]
        }
      ]
    },
    {
      "cell_type": "code",
      "source": [
        "id2word = corpora.Dictionary(clean_words_lemmatized)\n",
        "texts = clean_words_lemmatized\n",
        "corpus = [id2word.doc2bow(text) for text in texts]"
      ],
      "metadata": {
        "id": "VSEjNKwaSjta",
        "colab": {
          "base_uri": "https://localhost:8080/"
        },
        "outputId": "6e69bed8-5945-413f-fad5-8cd7f441adbc"
      },
      "execution_count": null,
      "outputs": [
        {
          "output_type": "stream",
          "name": "stderr",
          "text": [
            "/usr/local/lib/python3.10/dist-packages/ipykernel/ipkernel.py:283: DeprecationWarning: `should_run_async` will not call `transform_cell` automatically in the future. Please pass the result to `transformed_cell` argument and any exception that happen during thetransform in `preprocessing_exc_tuple` in IPython 7.17 and above.\n",
            "  and should_run_async(code)\n"
          ]
        }
      ]
    },
    {
      "cell_type": "code",
      "source": [
        "print(corpus[:1][0][:100])"
      ],
      "metadata": {
        "colab": {
          "base_uri": "https://localhost:8080/"
        },
        "id": "dE3Jp3AySoHm",
        "outputId": "55767fa2-d6fc-4d34-c792-dd1b619bb9f9"
      },
      "execution_count": null,
      "outputs": [
        {
          "output_type": "stream",
          "name": "stdout",
          "text": [
            "[(0, 1), (1, 1), (2, 1), (3, 1), (4, 1), (5, 2), (6, 2), (7, 5), (8, 1), (9, 3), (10, 2), (11, 1), (12, 6), (13, 1), (14, 2), (15, 1), (16, 1), (17, 1), (18, 1), (19, 1), (20, 8), (21, 1), (22, 6), (23, 2), (24, 1), (25, 1), (26, 1), (27, 1), (28, 2), (29, 2), (30, 1), (31, 4), (32, 3), (33, 2), (34, 1), (35, 2), (36, 3), (37, 2), (38, 1), (39, 1), (40, 4), (41, 3), (42, 58), (43, 7), (44, 3), (45, 1), (46, 1), (47, 7), (48, 1), (49, 2), (50, 1), (51, 11), (52, 1), (53, 4), (54, 3), (55, 1), (56, 5), (57, 1), (58, 1), (59, 2), (60, 2), (61, 1), (62, 2), (63, 1), (64, 1), (65, 1), (66, 1), (67, 1), (68, 3), (69, 1), (70, 2), (71, 3), (72, 2), (73, 1), (74, 3), (75, 1), (76, 2), (77, 4), (78, 4), (79, 1), (80, 1), (81, 1), (82, 3), (83, 7), (84, 1), (85, 1), (86, 1), (87, 1), (88, 2), (89, 1), (90, 2), (91, 2), (92, 2), (93, 6), (94, 3), (95, 5), (96, 2), (97, 1), (98, 1), (99, 1)]\n"
          ]
        },
        {
          "output_type": "stream",
          "name": "stderr",
          "text": [
            "/usr/local/lib/python3.10/dist-packages/ipykernel/ipkernel.py:283: DeprecationWarning: `should_run_async` will not call `transform_cell` automatically in the future. Please pass the result to `transformed_cell` argument and any exception that happen during thetransform in `preprocessing_exc_tuple` in IPython 7.17 and above.\n",
            "  and should_run_async(code)\n"
          ]
        }
      ]
    },
    {
      "cell_type": "code",
      "source": [
        "print(len(clean_words_lemmatized))\n",
        "print(len(clean_words_lemmatized[0]))\n",
        "print(len(clean_words_lemmatized[99]))"
      ],
      "metadata": {
        "colab": {
          "base_uri": "https://localhost:8080/"
        },
        "id": "lihSrLhBS3E5",
        "outputId": "48a2c53c-f4c6-4f9e-e636-df7d85e8af88"
      },
      "execution_count": null,
      "outputs": [
        {
          "output_type": "stream",
          "name": "stdout",
          "text": [
            "100\n",
            "1520\n",
            "1261\n"
          ]
        },
        {
          "output_type": "stream",
          "name": "stderr",
          "text": [
            "/usr/local/lib/python3.10/dist-packages/ipykernel/ipkernel.py:283: DeprecationWarning: `should_run_async` will not call `transform_cell` automatically in the future. Please pass the result to `transformed_cell` argument and any exception that happen during thetransform in `preprocessing_exc_tuple` in IPython 7.17 and above.\n",
            "  and should_run_async(code)\n"
          ]
        }
      ]
    },
    {
      "cell_type": "code",
      "source": [
        "num_topics = 10"
      ],
      "metadata": {
        "id": "snaFUWVoTIcK",
        "colab": {
          "base_uri": "https://localhost:8080/"
        },
        "outputId": "a3eff4ce-c85b-4c2f-9435-37f0e66073dc"
      },
      "execution_count": null,
      "outputs": [
        {
          "output_type": "stream",
          "name": "stderr",
          "text": [
            "/usr/local/lib/python3.10/dist-packages/ipykernel/ipkernel.py:283: DeprecationWarning: `should_run_async` will not call `transform_cell` automatically in the future. Please pass the result to `transformed_cell` argument and any exception that happen during thetransform in `preprocessing_exc_tuple` in IPython 7.17 and above.\n",
            "  and should_run_async(code)\n"
          ]
        }
      ]
    },
    {
      "cell_type": "code",
      "source": [
        "lda_model = gensim.models.LdaMulticore(corpus=corpus,\n",
        "                                       id2word=id2word,\n",
        "                                       num_topics=num_topics,\n",
        "                                       random_state=100,chunksize=100,passes=10,per_word_topics=True)"
      ],
      "metadata": {
        "colab": {
          "base_uri": "https://localhost:8080/"
        },
        "id": "pBO2XJzxVoj1",
        "outputId": "0c54ed64-4ee2-4ee0-dd7f-49c52a342315"
      },
      "execution_count": null,
      "outputs": [
        {
          "output_type": "stream",
          "name": "stderr",
          "text": [
            "/usr/local/lib/python3.10/dist-packages/ipykernel/ipkernel.py:283: DeprecationWarning: `should_run_async` will not call `transform_cell` automatically in the future. Please pass the result to `transformed_cell` argument and any exception that happen during thetransform in `preprocessing_exc_tuple` in IPython 7.17 and above.\n",
            "  and should_run_async(code)\n"
          ]
        }
      ]
    },
    {
      "cell_type": "code",
      "source": [
        "from pprint import pprint\n",
        "pprint(lda_model.print_topics())"
      ],
      "metadata": {
        "colab": {
          "base_uri": "https://localhost:8080/"
        },
        "id": "jkHUbbRPV14Z",
        "outputId": "ab7d2f76-1377-4506-8de0-10fc08caa7d3"
      },
      "execution_count": null,
      "outputs": [
        {
          "output_type": "stream",
          "name": "stdout",
          "text": [
            "[(0,\n",
            "  '0.014*\"model\" + 0.012*\"distribution\" + 0.010*\"function\" + 0.010*\"learn\" + '\n",
            "  '0.008*\"set\" + 0.008*\"use\" + 0.008*\"sample\" + 0.007*\"datum\" + 0.006*\"label\" '\n",
            "  '+ 0.006*\"method\"'),\n",
            " (1,\n",
            "  '0.022*\"network\" + 0.012*\"rule\" + 0.010*\"neural\" + 0.009*\"model\" + '\n",
            "  '0.007*\"problem\" + 0.007*\"input\" + 0.007*\"show\" + 0.006*\"set\" + '\n",
            "  '0.006*\"order\" + 0.006*\"method\"'),\n",
            " (2,\n",
            "  '0.015*\"model\" + 0.011*\"cluster\" + 0.010*\"datum\" + 0.009*\"use\" + '\n",
            "  '0.008*\"distribution\" + 0.007*\"number\" + 0.007*\"annotation\" + 0.007*\"set\" + '\n",
            "  '0.007*\"method\" + 0.007*\"matrix\"'),\n",
            " (3,\n",
            "  '0.020*\"image\" + 0.011*\"use\" + 0.009*\"model\" + 0.008*\"rule\" + 0.008*\"set\" + '\n",
            "  '0.006*\"function\" + 0.006*\"filter\" + 0.006*\"problem\" + 0.006*\"input\" + '\n",
            "  '0.005*\"weight\"'),\n",
            " (4,\n",
            "  '0.014*\"network\" + 0.009*\"training\" + 0.009*\"error\" + 0.009*\"model\" + '\n",
            "  '0.008*\"use\" + 0.007*\"method\" + 0.007*\"layer\" + 0.007*\"parameter\" + '\n",
            "  '0.006*\"learn\" + 0.006*\"set\"'),\n",
            " (5,\n",
            "  '0.015*\"model\" + 0.010*\"network\" + 0.008*\"function\" + 0.008*\"learn\" + '\n",
            "  '0.008*\"use\" + 0.007*\"method\" + 0.006*\"image\" + 0.006*\"result\" + 0.006*\"set\" '\n",
            "  '+ 0.006*\"layer\"'),\n",
            " (6,\n",
            "  '0.015*\"model\" + 0.008*\"show\" + 0.008*\"figure\" + 0.006*\"value\" + 0.006*\"use\" '\n",
            "  '+ 0.005*\"test\" + 0.005*\"pose\" + 0.005*\"function\" + 0.005*\"time\" + '\n",
            "  '0.005*\"parameter\"'),\n",
            " (7,\n",
            "  '0.015*\"model\" + 0.010*\"problem\" + 0.010*\"weight\" + 0.009*\"set\" + '\n",
            "  '0.007*\"datum\" + 0.007*\"edge\" + 0.007*\"use\" + 0.006*\"point\" + 0.006*\"tree\" + '\n",
            "  '0.005*\"time\"'),\n",
            " (8,\n",
            "  '0.013*\"set\" + 0.011*\"problem\" + 0.010*\"feature\" + 0.009*\"arm\" + '\n",
            "  '0.009*\"class\" + 0.007*\"use\" + 0.006*\"learn\" + 0.006*\"word\" + 0.006*\"result\" '\n",
            "  '+ 0.005*\"show\"'),\n",
            " (9,\n",
            "  '0.023*\"model\" + 0.008*\"sample\" + 0.008*\"image\" + 0.007*\"use\" + '\n",
            "  '0.007*\"distribution\" + 0.006*\"parameter\" + 0.006*\"set\" + 0.006*\"train\" + '\n",
            "  '0.006*\"segment\" + 0.005*\"method\"')]\n"
          ]
        },
        {
          "output_type": "stream",
          "name": "stderr",
          "text": [
            "/usr/local/lib/python3.10/dist-packages/ipykernel/ipkernel.py:283: DeprecationWarning: `should_run_async` will not call `transform_cell` automatically in the future. Please pass the result to `transformed_cell` argument and any exception that happen during thetransform in `preprocessing_exc_tuple` in IPython 7.17 and above.\n",
            "  and should_run_async(code)\n"
          ]
        }
      ]
    },
    {
      "cell_type": "code",
      "source": [
        "doc_lda = lda_model[corpus]"
      ],
      "metadata": {
        "colab": {
          "base_uri": "https://localhost:8080/"
        },
        "id": "EGJYNr36Wnh8",
        "outputId": "47a314dc-5ec5-4ee5-c3a2-4f7b8dba79cc"
      },
      "execution_count": null,
      "outputs": [
        {
          "output_type": "stream",
          "name": "stderr",
          "text": [
            "/usr/local/lib/python3.10/dist-packages/ipykernel/ipkernel.py:283: DeprecationWarning: `should_run_async` will not call `transform_cell` automatically in the future. Please pass the result to `transformed_cell` argument and any exception that happen during thetransform in `preprocessing_exc_tuple` in IPython 7.17 and above.\n",
            "  and should_run_async(code)\n"
          ]
        }
      ]
    },
    {
      "cell_type": "code",
      "source": [
        "doc_lda"
      ],
      "metadata": {
        "colab": {
          "base_uri": "https://localhost:8080/"
        },
        "id": "vptCemFtW29M",
        "outputId": "62c676d5-6d0c-4bb6-f424-572ac54bdfb6"
      },
      "execution_count": null,
      "outputs": [
        {
          "output_type": "stream",
          "name": "stderr",
          "text": [
            "/usr/local/lib/python3.10/dist-packages/ipykernel/ipkernel.py:283: DeprecationWarning: `should_run_async` will not call `transform_cell` automatically in the future. Please pass the result to `transformed_cell` argument and any exception that happen during thetransform in `preprocessing_exc_tuple` in IPython 7.17 and above.\n",
            "  and should_run_async(code)\n"
          ]
        },
        {
          "output_type": "execute_result",
          "data": {
            "text/plain": [
              "<gensim.interfaces.TransformedCorpus at 0x7f6a99bf3010>"
            ]
          },
          "metadata": {},
          "execution_count": 131
        }
      ]
    },
    {
      "cell_type": "code",
      "source": [
        "!pip install pyLDAvis"
      ],
      "metadata": {
        "id": "yAxeio-hscAP"
      },
      "execution_count": null,
      "outputs": []
    },
    {
      "cell_type": "code",
      "source": [
        "!pip install gensim\n",
        "!pip install pyLDAvis\n",
        "!pip install wordcloud\n",
        "!pip install -U pip setuptools wheel\n",
        "!pip install -U spacy"
      ],
      "metadata": {
        "colab": {
          "base_uri": "https://localhost:8080/"
        },
        "id": "xOzgd55c6NGw",
        "outputId": "b9aa56fc-cea3-4fb6-8ba4-9f348db9abc5"
      },
      "execution_count": null,
      "outputs": [
        {
          "output_type": "stream",
          "name": "stdout",
          "text": [
            "Requirement already satisfied: gensim in /usr/local/lib/python3.10/dist-packages (4.3.2)\n",
            "Requirement already satisfied: numpy>=1.18.5 in /usr/local/lib/python3.10/dist-packages (from gensim) (1.26.2)\n",
            "Requirement already satisfied: scipy>=1.7.0 in /usr/local/lib/python3.10/dist-packages (from gensim) (1.11.3)\n",
            "Requirement already satisfied: smart-open>=1.8.1 in /usr/local/lib/python3.10/dist-packages (from gensim) (6.4.0)\n",
            "\u001b[33mWARNING: Running pip as the 'root' user can result in broken permissions and conflicting behaviour with the system package manager. It is recommended to use a virtual environment instead: https://pip.pypa.io/warnings/venv\u001b[0m\u001b[33m\n",
            "\u001b[0mRequirement already satisfied: pyLDAvis in /usr/local/lib/python3.10/dist-packages (3.4.1)\n",
            "Requirement already satisfied: numpy>=1.24.2 in /usr/local/lib/python3.10/dist-packages (from pyLDAvis) (1.26.2)\n",
            "Requirement already satisfied: scipy in /usr/local/lib/python3.10/dist-packages (from pyLDAvis) (1.11.3)\n",
            "Requirement already satisfied: pandas>=2.0.0 in /usr/local/lib/python3.10/dist-packages (from pyLDAvis) (2.1.3)\n",
            "Requirement already satisfied: joblib>=1.2.0 in /usr/local/lib/python3.10/dist-packages (from pyLDAvis) (1.3.2)\n",
            "Requirement already satisfied: jinja2 in /usr/local/lib/python3.10/dist-packages (from pyLDAvis) (3.1.2)\n",
            "Requirement already satisfied: numexpr in /usr/local/lib/python3.10/dist-packages (from pyLDAvis) (2.8.7)\n",
            "Requirement already satisfied: funcy in /usr/local/lib/python3.10/dist-packages (from pyLDAvis) (2.0)\n",
            "Requirement already satisfied: scikit-learn>=1.0.0 in /usr/local/lib/python3.10/dist-packages (from pyLDAvis) (1.2.2)\n",
            "Requirement already satisfied: gensim in /usr/local/lib/python3.10/dist-packages (from pyLDAvis) (4.3.2)\n",
            "Requirement already satisfied: setuptools in /usr/local/lib/python3.10/dist-packages (from pyLDAvis) (69.0.2)\n",
            "Requirement already satisfied: python-dateutil>=2.8.2 in /usr/local/lib/python3.10/dist-packages (from pandas>=2.0.0->pyLDAvis) (2.8.2)\n",
            "Requirement already satisfied: pytz>=2020.1 in /usr/local/lib/python3.10/dist-packages (from pandas>=2.0.0->pyLDAvis) (2023.3.post1)\n",
            "Requirement already satisfied: tzdata>=2022.1 in /usr/local/lib/python3.10/dist-packages (from pandas>=2.0.0->pyLDAvis) (2023.3)\n",
            "Requirement already satisfied: threadpoolctl>=2.0.0 in /usr/local/lib/python3.10/dist-packages (from scikit-learn>=1.0.0->pyLDAvis) (3.2.0)\n",
            "Requirement already satisfied: smart-open>=1.8.1 in /usr/local/lib/python3.10/dist-packages (from gensim->pyLDAvis) (6.4.0)\n",
            "Requirement already satisfied: MarkupSafe>=2.0 in /usr/local/lib/python3.10/dist-packages (from jinja2->pyLDAvis) (2.1.3)\n",
            "Requirement already satisfied: six>=1.5 in /usr/local/lib/python3.10/dist-packages (from python-dateutil>=2.8.2->pandas>=2.0.0->pyLDAvis) (1.16.0)\n",
            "\u001b[33mWARNING: Running pip as the 'root' user can result in broken permissions and conflicting behaviour with the system package manager. It is recommended to use a virtual environment instead: https://pip.pypa.io/warnings/venv\u001b[0m\u001b[33m\n",
            "\u001b[0mRequirement already satisfied: wordcloud in /usr/local/lib/python3.10/dist-packages (1.9.2)\n",
            "Requirement already satisfied: numpy>=1.6.1 in /usr/local/lib/python3.10/dist-packages (from wordcloud) (1.26.2)\n",
            "Requirement already satisfied: pillow in /usr/local/lib/python3.10/dist-packages (from wordcloud) (9.4.0)\n",
            "Requirement already satisfied: matplotlib in /usr/local/lib/python3.10/dist-packages (from wordcloud) (3.7.1)\n",
            "Requirement already satisfied: contourpy>=1.0.1 in /usr/local/lib/python3.10/dist-packages (from matplotlib->wordcloud) (1.2.0)\n",
            "Requirement already satisfied: cycler>=0.10 in /usr/local/lib/python3.10/dist-packages (from matplotlib->wordcloud) (0.12.1)\n",
            "Requirement already satisfied: fonttools>=4.22.0 in /usr/local/lib/python3.10/dist-packages (from matplotlib->wordcloud) (4.44.3)\n",
            "Requirement already satisfied: kiwisolver>=1.0.1 in /usr/local/lib/python3.10/dist-packages (from matplotlib->wordcloud) (1.4.5)\n",
            "Requirement already satisfied: packaging>=20.0 in /usr/local/lib/python3.10/dist-packages (from matplotlib->wordcloud) (23.2)\n",
            "Requirement already satisfied: pyparsing>=2.3.1 in /usr/local/lib/python3.10/dist-packages (from matplotlib->wordcloud) (3.1.1)\n",
            "Requirement already satisfied: python-dateutil>=2.7 in /usr/local/lib/python3.10/dist-packages (from matplotlib->wordcloud) (2.8.2)\n",
            "Requirement already satisfied: six>=1.5 in /usr/local/lib/python3.10/dist-packages (from python-dateutil>=2.7->matplotlib->wordcloud) (1.16.0)\n",
            "\u001b[33mWARNING: Running pip as the 'root' user can result in broken permissions and conflicting behaviour with the system package manager. It is recommended to use a virtual environment instead: https://pip.pypa.io/warnings/venv\u001b[0m\u001b[33m\n",
            "\u001b[0mRequirement already satisfied: pip in /usr/local/lib/python3.10/dist-packages (23.3.1)\n",
            "Requirement already satisfied: setuptools in /usr/local/lib/python3.10/dist-packages (69.0.2)\n",
            "Requirement already satisfied: wheel in /usr/local/lib/python3.10/dist-packages (0.42.0)\n",
            "\u001b[33mWARNING: Running pip as the 'root' user can result in broken permissions and conflicting behaviour with the system package manager. It is recommended to use a virtual environment instead: https://pip.pypa.io/warnings/venv\u001b[0m\u001b[33m\n",
            "\u001b[0mRequirement already satisfied: spacy in /usr/local/lib/python3.10/dist-packages (3.7.2)\n",
            "Requirement already satisfied: spacy-legacy<3.1.0,>=3.0.11 in /usr/local/lib/python3.10/dist-packages (from spacy) (3.0.12)\n",
            "Requirement already satisfied: spacy-loggers<2.0.0,>=1.0.0 in /usr/local/lib/python3.10/dist-packages (from spacy) (1.0.5)\n",
            "Requirement already satisfied: murmurhash<1.1.0,>=0.28.0 in /usr/local/lib/python3.10/dist-packages (from spacy) (1.0.10)\n",
            "Requirement already satisfied: cymem<2.1.0,>=2.0.2 in /usr/local/lib/python3.10/dist-packages (from spacy) (2.0.8)\n",
            "Requirement already satisfied: preshed<3.1.0,>=3.0.2 in /usr/local/lib/python3.10/dist-packages (from spacy) (3.0.9)\n",
            "Requirement already satisfied: thinc<8.3.0,>=8.1.8 in /usr/local/lib/python3.10/dist-packages (from spacy) (8.1.12)\n",
            "Requirement already satisfied: wasabi<1.2.0,>=0.9.1 in /usr/local/lib/python3.10/dist-packages (from spacy) (1.1.2)\n",
            "Requirement already satisfied: srsly<3.0.0,>=2.4.3 in /usr/local/lib/python3.10/dist-packages (from spacy) (2.4.8)\n",
            "Requirement already satisfied: catalogue<2.1.0,>=2.0.6 in /usr/local/lib/python3.10/dist-packages (from spacy) (2.0.10)\n",
            "Requirement already satisfied: weasel<0.4.0,>=0.1.0 in /usr/local/lib/python3.10/dist-packages (from spacy) (0.3.4)\n",
            "Requirement already satisfied: typer<0.10.0,>=0.3.0 in /usr/local/lib/python3.10/dist-packages (from spacy) (0.9.0)\n",
            "Requirement already satisfied: smart-open<7.0.0,>=5.2.1 in /usr/local/lib/python3.10/dist-packages (from spacy) (6.4.0)\n",
            "Requirement already satisfied: tqdm<5.0.0,>=4.38.0 in /usr/local/lib/python3.10/dist-packages (from spacy) (4.66.1)\n",
            "Requirement already satisfied: requests<3.0.0,>=2.13.0 in /usr/local/lib/python3.10/dist-packages (from spacy) (2.31.0)\n",
            "Requirement already satisfied: pydantic!=1.8,!=1.8.1,<3.0.0,>=1.7.4 in /usr/local/lib/python3.10/dist-packages (from spacy) (1.10.13)\n",
            "Requirement already satisfied: jinja2 in /usr/local/lib/python3.10/dist-packages (from spacy) (3.1.2)\n",
            "Requirement already satisfied: setuptools in /usr/local/lib/python3.10/dist-packages (from spacy) (69.0.2)\n",
            "Requirement already satisfied: packaging>=20.0 in /usr/local/lib/python3.10/dist-packages (from spacy) (23.2)\n",
            "Requirement already satisfied: langcodes<4.0.0,>=3.2.0 in /usr/local/lib/python3.10/dist-packages (from spacy) (3.3.0)\n",
            "Requirement already satisfied: numpy>=1.19.0 in /usr/local/lib/python3.10/dist-packages (from spacy) (1.26.2)\n",
            "Requirement already satisfied: typing-extensions>=4.2.0 in /usr/local/lib/python3.10/dist-packages (from pydantic!=1.8,!=1.8.1,<3.0.0,>=1.7.4->spacy) (4.5.0)\n",
            "Requirement already satisfied: charset-normalizer<4,>=2 in /usr/local/lib/python3.10/dist-packages (from requests<3.0.0,>=2.13.0->spacy) (3.3.2)\n",
            "Requirement already satisfied: idna<4,>=2.5 in /usr/local/lib/python3.10/dist-packages (from requests<3.0.0,>=2.13.0->spacy) (3.4)\n",
            "Requirement already satisfied: urllib3<3,>=1.21.1 in /usr/local/lib/python3.10/dist-packages (from requests<3.0.0,>=2.13.0->spacy) (2.0.7)\n",
            "Requirement already satisfied: certifi>=2017.4.17 in /usr/local/lib/python3.10/dist-packages (from requests<3.0.0,>=2.13.0->spacy) (2023.7.22)\n",
            "Requirement already satisfied: blis<0.8.0,>=0.7.8 in /usr/local/lib/python3.10/dist-packages (from thinc<8.3.0,>=8.1.8->spacy) (0.7.11)\n",
            "Requirement already satisfied: confection<1.0.0,>=0.0.1 in /usr/local/lib/python3.10/dist-packages (from thinc<8.3.0,>=8.1.8->spacy) (0.1.3)\n",
            "Requirement already satisfied: click<9.0.0,>=7.1.1 in /usr/local/lib/python3.10/dist-packages (from typer<0.10.0,>=0.3.0->spacy) (8.1.7)\n",
            "Requirement already satisfied: cloudpathlib<0.17.0,>=0.7.0 in /usr/local/lib/python3.10/dist-packages (from weasel<0.4.0,>=0.1.0->spacy) (0.16.0)\n",
            "Requirement already satisfied: MarkupSafe>=2.0 in /usr/local/lib/python3.10/dist-packages (from jinja2->spacy) (2.1.3)\n",
            "\u001b[33mWARNING: Running pip as the 'root' user can result in broken permissions and conflicting behaviour with the system package manager. It is recommended to use a virtual environment instead: https://pip.pypa.io/warnings/venv\u001b[0m\u001b[33m\n",
            "\u001b[0m"
          ]
        }
      ]
    },
    {
      "cell_type": "code",
      "source": [
        "import pyLDAvis.gensim_models as gensimvis\n",
        "import pickle\n",
        "import pyLDAvis\n",
        "import os"
      ],
      "metadata": {
        "id": "FL72S8PMfSJQ"
      },
      "execution_count": null,
      "outputs": []
    },
    {
      "cell_type": "code",
      "source": [
        "pyLDAvis.enable_notebook()"
      ],
      "metadata": {
        "colab": {
          "base_uri": "https://localhost:8080/"
        },
        "id": "RBTJshzTfUah",
        "outputId": "6fc34b27-a1c9-4709-cb34-3ba8c86cb3f3"
      },
      "execution_count": null,
      "outputs": [
        {
          "output_type": "stream",
          "name": "stderr",
          "text": [
            "/usr/local/lib/python3.10/dist-packages/ipykernel/ipkernel.py:283: DeprecationWarning: `should_run_async` will not call `transform_cell` automatically in the future. Please pass the result to `transformed_cell` argument and any exception that happen during thetransform in `preprocessing_exc_tuple` in IPython 7.17 and above.\n",
            "  and should_run_async(code)\n"
          ]
        }
      ]
    },
    {
      "cell_type": "code",
      "source": [
        "LDAvis_data_filepath = os.path.join('/content/workshop/resultado_'+str(num_topics))"
      ],
      "metadata": {
        "colab": {
          "base_uri": "https://localhost:8080/"
        },
        "id": "embPmaDMtn62",
        "outputId": "a384d133-45f9-4169-82ed-f8cd625c51b8"
      },
      "execution_count": null,
      "outputs": [
        {
          "output_type": "stream",
          "name": "stderr",
          "text": [
            "/usr/local/lib/python3.10/dist-packages/ipykernel/ipkernel.py:283: DeprecationWarning: `should_run_async` will not call `transform_cell` automatically in the future. Please pass the result to `transformed_cell` argument and any exception that happen during thetransform in `preprocessing_exc_tuple` in IPython 7.17 and above.\n",
            "  and should_run_async(code)\n"
          ]
        }
      ]
    },
    {
      "cell_type": "code",
      "source": [
        "pyLDAvis.enable_notebook()"
      ],
      "metadata": {
        "colab": {
          "base_uri": "https://localhost:8080/"
        },
        "id": "M4A8-CYm7mwT",
        "outputId": "5d25191f-7f95-42be-e317-ac14dd936b5b"
      },
      "execution_count": null,
      "outputs": [
        {
          "output_type": "stream",
          "name": "stderr",
          "text": [
            "/usr/local/lib/python3.10/dist-packages/ipykernel/ipkernel.py:283: DeprecationWarning: `should_run_async` will not call `transform_cell` automatically in the future. Please pass the result to `transformed_cell` argument and any exception that happen during thetransform in `preprocessing_exc_tuple` in IPython 7.17 and above.\n",
            "  and should_run_async(code)\n"
          ]
        }
      ]
    },
    {
      "cell_type": "code",
      "source": [
        "vis = pyLDAvis.gensim_models.prepare(lda_model, corpus, id2word)"
      ],
      "metadata": {
        "colab": {
          "base_uri": "https://localhost:8080/"
        },
        "id": "d__j2Ztu7wtG",
        "outputId": "02a87cea-da28-45dd-a714-dd5f1b021f2c"
      },
      "execution_count": null,
      "outputs": [
        {
          "output_type": "stream",
          "name": "stderr",
          "text": [
            "/usr/local/lib/python3.10/dist-packages/ipykernel/ipkernel.py:283: DeprecationWarning: `should_run_async` will not call `transform_cell` automatically in the future. Please pass the result to `transformed_cell` argument and any exception that happen during thetransform in `preprocessing_exc_tuple` in IPython 7.17 and above.\n",
            "  and should_run_async(code)\n"
          ]
        }
      ]
    },
    {
      "cell_type": "code",
      "source": [
        "vis\n"
      ],
      "metadata": {
        "id": "tNbITa0w9UIE",
        "outputId": "990ea965-57a3-478d-9569-a91a108df9c9",
        "colab": {
          "base_uri": "https://localhost:8080/",
          "height": 915
        }
      },
      "execution_count": null,
      "outputs": [
        {
          "output_type": "stream",
          "name": "stderr",
          "text": [
            "/usr/local/lib/python3.10/dist-packages/ipykernel/ipkernel.py:283: DeprecationWarning: `should_run_async` will not call `transform_cell` automatically in the future. Please pass the result to `transformed_cell` argument and any exception that happen during thetransform in `preprocessing_exc_tuple` in IPython 7.17 and above.\n",
            "  and should_run_async(code)\n"
          ]
        },
        {
          "output_type": "execute_result",
          "data": {
            "text/plain": [
              "PreparedData(topic_coordinates=              x         y  topics  cluster       Freq\n",
              "topic                                                \n",
              "6      0.044950  0.004406       1        1  19.714259\n",
              "0      0.043040 -0.002034       2        1  15.340194\n",
              "4      0.042826  0.005565       3        1  15.054132\n",
              "9     -0.043319  0.028845       4        1  13.120261\n",
              "5      0.048838  0.005120       5        1  10.649400\n",
              "1      0.022784  0.050348       6        1   9.094210\n",
              "8      0.003925  0.053378       7        1   6.203132\n",
              "7      0.048679  0.017110       8        1   6.035979\n",
              "2     -0.018155 -0.188354       9        1   2.490164\n",
              "3     -0.193567  0.025616      10        1   2.298269, topic_info=        Term         Freq        Total Category  logprob  loglift\n",
              "274    model  2207.000000  2207.000000  Default  30.0000  30.0000\n",
              "757    image   856.000000   856.000000  Default  29.0000  29.0000\n",
              "233    label   537.000000   537.000000  Default  28.0000  28.0000\n",
              "397      set  1444.000000  1444.000000  Default  27.0000  27.0000\n",
              "3164    edge   185.000000   185.000000  Default  26.0000  26.0000\n",
              "...      ...          ...          ...      ...      ...      ...\n",
              "303   output    15.507822   405.427581  Topic10  -5.5918   0.5094\n",
              "233    label    15.716306   537.342325  Topic10  -5.5785   0.2411\n",
              "503     well    15.363866   536.695261  Topic10  -5.6012   0.2196\n",
              "402     show    15.410702   910.723377  Topic10  -5.5981  -0.3062\n",
              "162     find    14.883884   383.198682  Topic10  -5.6329   0.5247\n",
              "\n",
              "[775 rows x 6 columns], token_table=      Topic      Freq    Term\n",
              "term                         \n",
              "3275      1  0.122452  active\n",
              "3275      2  0.201171  active\n",
              "3275      3  0.096212  active\n",
              "3275      4  0.078719  active\n",
              "3275      5  0.314877  active\n",
              "...     ...       ...     ...\n",
              "5576      8  0.916261   yeast\n",
              "5863      9  0.902631  ytrain\n",
              "6788      6  0.921048      zb\n",
              "8448      1  0.060900      zm\n",
              "8448      3  0.852596      zm\n",
              "\n",
              "[2099 rows x 3 columns], R=30, lambda_step=0.01, plot_opts={'xlab': 'PC1', 'ylab': 'PC2'}, topic_order=[7, 1, 5, 10, 6, 2, 9, 8, 3, 4])"
            ],
            "text/html": [
              "\n",
              "<link rel=\"stylesheet\" type=\"text/css\" href=\"https://cdn.jsdelivr.net/gh/bmabey/pyLDAvis@3.4.0/pyLDAvis/js/ldavis.v1.0.0.css\">\n",
              "\n",
              "\n",
              "<div id=\"ldavis_el196751356844126317288924395170\" style=\"background-color:white;\"></div>\n",
              "<script type=\"text/javascript\">\n",
              "\n",
              "var ldavis_el196751356844126317288924395170_data = {\"mdsDat\": {\"x\": [0.04495037089452572, 0.04304046808129693, 0.042825691821315195, -0.04331858866810217, 0.048837611696590295, 0.022783708480799497, 0.003924541105671461, 0.048678559270580055, -0.018154970602651303, -0.19356739208002594], \"y\": [0.004406174434931294, -0.00203416807735931, 0.0055646927621359026, 0.02884498496123309, 0.005120029620318418, 0.05034764984450851, 0.05337813168564731, 0.017110426780268032, -0.18835383536068379, 0.025615913349000513], \"topics\": [1, 2, 3, 4, 5, 6, 7, 8, 9, 10], \"cluster\": [1, 1, 1, 1, 1, 1, 1, 1, 1, 1], \"Freq\": [19.71425928320262, 15.340193687896054, 15.054132020130645, 13.12026106956188, 10.649400221970128, 9.094209698648214, 6.203131551632529, 6.035979292681274, 2.490164385630036, 2.29826878864661]}, \"tinfo\": {\"Term\": [\"model\", \"image\", \"label\", \"set\", \"edge\", \"input\", \"graph\", \"use\", \"layer\", \"network\", \"inference\", \"classification\", \"sequence\", \"time_serie\", \"word\", \"result\", \"query\", \"matrix\", \"cluster\", \"dataset\", \"document\", \"experiment\", \"time\", \"method\", \"datum\", \"function\", \"dynamic\", \"recurrent\", \"learn\", \"task\", \"quantile\", \"transduction\", \"nnbm\", \"mixture_tree\", \"auction\", \"hash_function\", \"logloss\", \"dpds\", \"classier\", \"convex_repeate\", \"saga\", \"phmm\", \"sample_reweighte\", \"query_vs\", \"psrc\", \"algorithmic_framework\", \"inter_modality\", \"bid\", \"bidding\", \"quantile_regression\", \"fractional_covere\", \"epsrc\", \"dipole\", \"function_suboptimality\", \"rba\", \"square_lattice\", \"beamformer\", \"source_correlation\", \"proximal_operator\", \"packet\", \"hash\", \"price\", \"market\", \"source\", \"stereo\", \"multimodal\", \"loss\", \"minimax\", \"gla\", \"regret\", \"game\", \"period\", \"crossing\", \"distribution\", \"problem\", \"regularize\", \"target\", \"set\", \"database\", \"learn\", \"approach\", \"use\", \"function\", \"value\", \"datum\", \"method\", \"minimize\", \"case\", \"task\", \"constraint\", \"estimate\", \"give\", \"feature\", \"sample\", \"probability\", \"solution\", \"obtain\", \"show\", \"define\", \"follow\", \"also\", \"result\", \"vector\", \"time\", \"model\", \"network\", \"well\", \"number\", \"fairness\", \"bregman_distance\", \"contextual_bandit\", \"mean_shift\", \"reference_vector\", \"compressive\", \"denoising_inpainte\", \"purity\", \"ptrain\", \"fair_bandit\", \"nlk\", \"lapgan\", \"daw\", \"distortion_error\", \"beta_process\", \"triangulate\", \"frontal_cortex\", \"inpainte\", \"cs_inversion\", \"mw\", \"preservation\", \"mds\", \"distance_metric\", \"nanostructure\", \"purity_coverage\", \"percentile_percentile\", \"psbp\", \"hmdt\", \"pie\", \"topic_facultystudent\", \"subspace\", \"arm\", \"dictionary\", \"boolean\", \"fair\", \"mnist\", \"gsn\", \"dimensionality_reduction\", \"fluctuation\", \"distance\", \"element\", \"triangulation\", \"vector\", \"permutation\", \"cluster\", \"learn\", \"projection\", \"embed\", \"patch\", \"cost\", \"constraint\", \"graph\", \"round\", \"matrix\", \"dataset\", \"function\", \"result\", \"algorithm\", \"use\", \"datum\", \"image\", \"show\", \"set\", \"method\", \"number\", \"learning\", \"figure\", \"approach\", \"also\", \"give\", \"training\", \"problem\", \"model\", \"follow\", \"time\", \"sample\", \"sleec\", \"speaker\", \"semi_tie\", \"msvm\", \"scoring\", \"ecoc\", \"wikilshtc\", \"phonetic\", \"co_training\", \"co_traine\", \"generalized_suffix\", \"multilabel_classification\", \"gp\", \"fastxml\", \"tap\", \"dba\", \"complex_interaction\", \"wnd\", \"pauses_letter\", \"suffix\", \"speech_frame\", \"fanty\", \"fdual\", \"transportation\", \"stochastic_kinetic\", \"hierarchical_penalization\", \"leml\", \"class_halfspace\", \"score_generate\", \"micro_averaged\", \"consensus\", \"multilabel\", \"tp\", \"leaf\", \"similarity_measure\", \"disambiguation\", \"phone\", \"group\", \"zm\", \"population\", \"multiclass\", \"name\", \"label\", \"kernel\", \"metric\", \"letter\", \"transform\", \"binary\", \"classifier\", \"class\", \"dimension\", \"instance\", \"classification\", \"view\", \"error\", \"datum\", \"hypothesis\", \"variable\", \"set\", \"cluster\", \"system\", \"rank\", \"function\", \"use\", \"tree\", \"large\", \"method\", \"model\", \"feature\", \"base\", \"training\", \"learn\", \"problem\", \"also\", \"number\", \"performance\", \"result\", \"approach\", \"sample\", \"show\", \"distribution\", \"active_memory\", \"cggm\", \"disentangle\", \"deeplift\", \"chain_graph\", \"shap\", \"shap_value\", \"animation\", \"lime\", \"dasnet\", \"ldeep\", \"temporal_dependency\", \"structured_sparsity\", \"segregation\", \"brightness\", \"analogy_make\", \"conditional_convolution\", \"shapley\", \"ocular_dominance\", \"sne\", \"topographic\", \"svae\", \"bidirectional_recurrent\", \"contralateral\", \"retinal_wave\", \"lon\", \"shapley_value\", \"feature_attribution\", \"attribution\", \"topography\", \"tensor\", \"analogy\", \"convolutional\", \"slda\", \"texture\", \"explanation\", \"convolution\", \"decoder\", \"layer\", \"deep\", \"eye\", \"video\", \"image\", \"attention\", \"model\", \"object\", \"frame\", \"filter\", \"input\", \"network\", \"output\", \"spatial\", \"natural\", \"structure\", \"figure\", \"use\", \"train\", \"patch\", \"document\", \"learn\", \"feature\", \"show\", \"map\", \"prediction\", \"method\", \"sample\", \"value\", \"word\", \"result\", \"well\", \"set\", \"training\", \"datum\", \"class\", \"also\", \"problem\", \"dyad\", \"pareto\", \"pareto_front\", \"preconditioner\", \"pda\", \"anomalous\", \"sfds\", \"bvm\", \"scalarization\", \"generalized_risk\", \"fused_sparsity\", \"non_markovian\", \"map_assignment\", \"leveraged_vector\", \"cec\", \"lag\", \"dantzig_selector\", \"anomaly_score\", \"nominal\", \"poo_error\", \"activeerr\", \"hha_ii\", \"multiview_geometry\", \"anomaly\", \"lpe\", \"labeling_cost\", \"environmental\", \"history_window\", \"century\", \"event_probabilitie\", \"dissimilarity\", \"outlier\", \"pole\", \"terence\", \"anomaly_detection\", \"manuscript\", \"instrumental\", \"link_prediction\", \"front\", \"topic\", \"search\", \"criterion\", \"word\", \"instance\", \"agent\", \"estimation\", \"problem\", \"matrix\", \"estimator\", \"procedure\", \"graph\", \"risk\", \"correspond\", \"use\", \"error\", \"distribution\", \"support\", \"sample\", \"document\", \"set\", \"let\", \"theorem\", \"log\", \"give\", \"estimate\", \"result\", \"point\", \"test\", \"number\", \"model\", \"function\", \"method\", \"show\", \"follow\", \"time\", \"learn\", \"large\", \"feature\", \"datum\", \"log_supermodular\", \"principal_neuron\", \"interneuron\", \"pairwise_comparison\", \"luce\", \"transistor\", \"vmos\", \"predictive_code\", \"transition_rate\", \"dynamic_synapse\", \"feedback_circuit\", \"alcd\", \"aide\", \"partial_ranking\", \"early_sensory\", \"bethe_partition\", \"graph_cover\", \"bethe\", \"zb\", \"transmit\", \"shibata\", \"smc\", \"converges_globally\", \"usd\", \"negative_feedback\", \"plackettluce\", \"meta_inference\", \"synapse\", \"thresh\", \"ishii\", \"aide_estimate\", \"stimulus\", \"hardware\", \"circuit\", \"lp\", \"gold_standard\", \"sampler\", \"floating_gate\", \"particle\", \"inference\", \"markov_chain\", \"dynamic\", \"logic\", \"factorization\", \"neuron\", \"posterior\", \"proposal\", \"time\", \"stationary\", \"function\", \"algorithm\", \"model\", \"parameter\", \"likelihood\", \"activity\", \"approximate\", \"distribution\", \"fig\", \"network\", \"show\", \"cell\", \"give\", \"output\", \"number\", \"use\", \"variable\", \"input\", \"problem\", \"result\", \"method\", \"set\", \"sample\", \"estimate\", \"log\", \"datum\", \"discriminator\", \"strata\", \"stratum\", \"copula\", \"stratie\", \"vine\", \"hyper_cubic\", \"efcient\", \"bonus\", \"sub_strata\", \"atari_game\", \"stratication\", \"musical\", \"strata_measure\", \"sub_stratum\", \"pair_copula\", \"spike_count\", \"optimal_oracle\", \"concert\", \"vizdoom\", \"spreading_activation\", \"novelty\", \"stratify\", \"implicit_density\", \"vine_base\", \"biases_oi\", \"soft_committee\", \"pseudo_risk\", \"dene\", \"contingency\", \"exemplar\", \"amortize\", \"allocate\", \"mixed\", \"teacher\", \"student\", \"exploration\", \"connectionist\", \"margin\", \"bias\", \"continuous\", \"density\", \"strategy\", \"domain\", \"model\", \"hidden_unit\", \"sample\", \"state\", \"base\", \"estimate\", \"network\", \"net\", \"discrete\", \"learn\", \"unit\", \"function\", \"task\", \"provide\", \"method\", \"time\", \"distribution\", \"number\", \"use\", \"also\", \"show\", \"weight\", \"error\", \"result\", \"input\", \"point\", \"latent_source\", \"forgetting_factor\", \"motion_template\", \"weighted_majority\", \"minimise\", \"lgssm\", \"residual_gradient\", \"rakel\", \"balero\", \"voting\", \"forecast\", \"twitter\", \"trending_topic\", \"adaptive_forgette\", \"vote\", \"orthogonal_projection\", \"btk\", \"lyapunov_stability\", \"fixed_forge\", \"mlknn\", \"constraint_generation\", \"movement\", \"spline_basis\", \"diagonal_thresholde\", \"fpr\", \"tpr\", \"ng_fac\", \"emotion\", \"medical_enron\", \"yeast\", \"covariance_thresholding\", \"supp_vq\", \"execution\", \"time_serie\", \"trend\", \"optimise\", \"covariate\", \"forecasting\", \"robot\", \"dp\", \"spline\", \"macro\", \"additive\", \"solution\", \"model\", \"mixture\", \"human\", \"label\", \"datum\", \"method\", \"result\", \"classification\", \"time\", \"learn\", \"function\", \"use\", \"matrix\", \"different\", \"training\", \"show\", \"approach\", \"set\", \"sample\", \"performance\", \"error\", \"give\", \"problem\", \"distribution\", \"follow\", \"parameter\", \"log\", \"number\", \"state\", \"treecutter\", \"loop_closure\", \"keyframe\", \"optimality_factor\", \"topological_map\", \"low_stretch\", \"patht\", \"subtree\", \"epinion\", \"slashdot\", \"asymexp\", \"breadth\", \"ytrain\", \"fab_map\", \"movielen\", \"fabmap\", \"minimum_dominate\", \"treeletstar\", \"extracttreelet\", \"odometry\", \"omnidirectional\", \"epipolar\", \"college\", \"cccc\", \"unbalance\", \"eflip\", \"starmaker\", \"distrust\", \"cyclical\", \"mount\", \"mistake\", \"edge\", \"mij\", \"topological\", \"query\", \"mrf\", \"sign\", \"path\", \"sift\", \"et\", \"flip\", \"score\", \"social\", \"node\", \"graph\", \"label\", \"similarity\", \"set\", \"image\", \"use\", \"sequence\", \"robotic\", \"visit\", \"size\", \"predict\", \"location\", \"feature\", \"matrix\", \"active\", \"result\", \"link\", \"define\", \"tree\", \"network\", \"number\", \"follow\", \"cluster\", \"make\", \"model\", \"order\", \"algorithm\", \"sequence_autoencoder\", \"dendritic\", \"calcium\", \"apical\", \"sentiment\", \"imdb\", \"soma\", \"somatic\", \"song\", \"rotten_tomatoe\", \"distal\", \"gca\", \"superficial\", \"amplification\", \"potassium_conductance\", \"connor\", \"pyramidal_cell\", \"compartment\", \"amplify\", \"tuft\", \"dbpedia\", \"conductance\", \"isoma\", \"tank\", \"inactivate\", \"sa_lstm\", \"lstms\", \"newsgroup\", \"saturation\", \"short_range\", \"long_range\", \"dendrite\", \"lstm\", \"bird\", \"pretraine\", \"synaptic\", \"voltage\", \"linearize\", \"recurrent\", \"unlabeled\", \"spike\", \"dropout\", \"input\", \"current\", \"layer\", \"experiment\", \"model\", \"dataset\", \"word\", \"sequence\", \"document\", \"result\", \"method\", \"classification\", \"network\", \"datum\", \"use\", \"task\", \"set\", \"learn\", \"train\", \"output\", \"label\", \"well\", \"show\", \"find\"], \"Freq\": [2207.0, 856.0, 537.0, 1444.0, 185.0, 546.0, 313.0, 1684.0, 267.0, 720.0, 415.0, 409.0, 280.0, 132.0, 264.0, 977.0, 101.0, 638.0, 318.0, 402.0, 211.0, 313.0, 771.0, 1073.0, 1065.0, 1275.0, 230.0, 93.0, 1380.0, 403.0, 41.004038153808565, 30.524351296540978, 27.702314007126677, 29.462211778271556, 21.980269733957712, 21.976142891767726, 21.048870320880773, 21.027727264265742, 19.156323754069028, 18.184683995027825, 19.994022872530344, 19.055964850464427, 15.342131917625805, 15.30912652625078, 14.372866079381357, 13.421295608755775, 13.416747151586138, 44.82212940958329, 13.410317003916184, 13.40005389838935, 14.295865268725766, 12.473256942430181, 12.455291575070651, 12.415262036596214, 11.51622416935887, 11.514573017098659, 11.50427356545289, 11.499333608659288, 11.455116997283486, 10.569425424919244, 41.15282878012494, 55.443105054218975, 23.898628275976883, 165.66158918862757, 19.41153373970736, 23.904296193609735, 199.60934612004147, 47.687561888085455, 30.30717804359888, 81.92480838759653, 41.060480561133716, 32.38437535612927, 18.16796478031751, 336.00914433789194, 374.84481042059025, 38.405228342290464, 94.55051133744745, 426.8643727631449, 45.73153007455941, 329.7093940811519, 189.65868429310333, 352.05945753684335, 285.9036724645329, 171.37131108901687, 241.37958538406258, 239.60737354782236, 72.26728320217562, 140.82475335226687, 124.98409287501954, 100.05896296961973, 153.11148616616242, 168.73465146769993, 156.74897251848628, 184.06653274132537, 126.28884792948588, 121.13563287918342, 111.5021085937864, 172.99657660486156, 124.55173605953192, 135.77258466644716, 140.3894805395801, 165.70746422148738, 136.97037828518913, 141.98359223919437, 189.51555950749872, 133.44451397949769, 119.83646889626989, 122.75934485805874, 35.308798173103504, 31.55491226259839, 22.941906822166164, 22.006526151044397, 16.2699731175907, 14.346116163896586, 14.330367191668367, 13.433629278365885, 13.425546314322844, 13.42179047938612, 16.100763380265, 16.940623989452558, 11.520114607665564, 11.50886407198914, 11.50005143519484, 10.571323472557163, 10.553072765181764, 10.542517155935112, 10.536099591161562, 9.623579575417349, 9.612726602303075, 9.610582835072625, 30.592781772254305, 9.600005408368297, 8.667771299476222, 8.64346665162192, 8.639462744110846, 9.500143672355987, 7.71234846528742, 7.70960269783583, 78.21590900047671, 99.29880035317048, 54.28615294563298, 29.114156101575613, 56.20619265228727, 28.14333095031949, 18.808112713044256, 23.911232225220356, 12.461696285092069, 117.76699061114546, 99.64822229092395, 21.89553508745388, 225.67243863596974, 21.817599896408872, 126.14067955024376, 357.0819275525431, 63.41267023107572, 79.86122974447011, 57.32785562539547, 46.071863968444745, 98.66160776474021, 105.10221823803211, 51.53004563521131, 160.77834686741647, 117.93925479254621, 245.54614507199537, 206.01501916261694, 141.8813255901687, 267.3721358010168, 198.89161599823785, 162.99370768121244, 163.60526879713996, 203.79656835037045, 163.92904633352683, 133.3234649861009, 84.8350670829809, 117.46645917188846, 115.02792031100905, 112.63838184396849, 116.2931130657009, 110.03615063839419, 132.6624380372374, 164.84853419881048, 98.66666941492171, 105.43271878360005, 100.52122442637976, 63.79861568507342, 55.15789023867023, 22.319855657406663, 21.340781815595115, 39.65246997574419, 17.468305242025306, 17.468386126548, 16.5212791168817, 16.495561010607275, 33.85990426543507, 18.281278751558435, 20.94824922696419, 33.64579500401055, 13.599468471976698, 13.531737993032717, 12.62217329667889, 11.687268748142056, 11.670026071069069, 10.722318771366702, 10.660683972088837, 9.757118211168102, 9.754795556589976, 9.755080238390436, 9.754566383775677, 9.752693351985464, 9.744306737161885, 9.738236433032299, 8.784818051639366, 8.768925828901153, 9.599247482580976, 23.271241616920545, 18.954758178866165, 10.463193308135741, 16.041545082932156, 26.118893842283992, 13.595616148337047, 13.620260552221994, 81.4148016241477, 14.245145827072372, 44.57356363496048, 33.40517465079501, 31.749087838213757, 231.79847181384343, 104.94813129818924, 97.86631387527879, 63.95646421006608, 54.763497306017356, 84.38958211559067, 105.28475047804457, 182.17634368384398, 85.03970970540551, 121.4499061433046, 142.53130556836138, 94.48660325963836, 165.3237647339523, 250.52269958720728, 65.08788960126921, 132.9071385159212, 282.16733854511637, 108.62672132697891, 126.51874569203204, 69.66071988130437, 225.35727249843274, 253.35247791902654, 78.72222247446881, 122.1367584783643, 174.86299986562238, 245.2644824093471, 129.8571259025472, 125.38728858140826, 122.92168726211729, 163.5185236895824, 148.16839219440143, 120.38013696198828, 123.00925823868664, 105.26247075697013, 125.85429995572945, 113.59961597208168, 113.53573305886425, 108.66609147190714, 107.2746493017524, 40.794476939540054, 35.948818573563365, 35.917756979938346, 32.11905345683095, 30.128521155713884, 28.23825068065522, 27.269665819779124, 27.20752051676289, 23.380154960662953, 22.410594241603373, 16.54616481230589, 15.598266486237202, 16.457562141739974, 13.679989157759609, 13.67269371938506, 13.653874584585996, 13.651526166662851, 27.267722396824478, 11.744624635423326, 11.737206178099303, 11.734499761210829, 11.727743394637356, 10.738867318274645, 9.807536465558993, 9.803730480419864, 9.799992915932412, 9.799343265300347, 9.798953474921108, 9.797359757519468, 9.794673383044112, 20.44352953289311, 72.74190099279183, 57.0324198472867, 22.931597461694626, 37.08852693986685, 34.004237305664084, 30.194075051195377, 25.28971038384623, 186.44409188219282, 82.97931128158804, 25.344496665660095, 65.79940260205531, 415.7765814475474, 61.02068866035981, 771.5767973014267, 66.09177303119219, 48.248192323825236, 76.48192033029298, 190.12063897070587, 219.08868782012718, 145.14635962493537, 46.33090744035578, 69.81098696164261, 124.51298006158676, 173.27205211352614, 283.7628181222647, 105.06792484758627, 61.07802931316954, 76.00971001937594, 182.90794673538747, 124.78923915504842, 144.59492511055575, 64.89434251511204, 86.6045332056972, 129.86319304654498, 116.13258642889983, 101.874673597797, 74.13656544076682, 115.4625561182837, 87.6297261346277, 105.8888178573217, 86.26150108514237, 83.13141799255598, 72.95813789679227, 72.78192500066856, 73.33310518373692, 48.78043902604373, 32.85323505366979, 26.303264712567778, 30.839487911986016, 24.428977610273304, 13.194111886076954, 14.05295277175005, 12.21909880402527, 10.386178279735711, 10.372472816989703, 11.235531027029387, 10.36094950265897, 11.229375012451182, 10.354599394674162, 10.33821589168792, 9.425417038979257, 10.253271417155464, 8.514685898110876, 8.512677087448898, 7.568976993710987, 7.562822101059989, 7.558567192132006, 8.350380219785611, 6.643696139874238, 6.6421978060908975, 6.635205394780772, 6.615337185893325, 6.614979291114676, 6.6154948166657395, 6.609638356651483, 23.094404809599197, 34.29504390052832, 12.218115995792992, 12.214636899527818, 20.82355234172632, 23.399436622165506, 9.432968731001472, 11.231315946517212, 16.004797579854017, 97.21615918654332, 63.595882696960295, 61.803370624841904, 91.14557263349718, 93.52336720262656, 24.518024972597356, 92.89042972562217, 191.37706825542685, 134.26779618254844, 52.3463365552761, 62.319519967431724, 74.23741160873524, 26.258286650887406, 72.16725845485286, 182.264021554867, 98.70216523374698, 127.08906866521082, 53.4461976967888, 119.18519022997, 54.84140841908178, 153.76872200448796, 68.84703605743694, 60.55281670875547, 75.66323748062, 97.26669078789239, 87.68124990576878, 110.33485400391943, 77.5367571847057, 72.92864762150327, 92.65414288066383, 141.8310216164389, 113.79218488130131, 105.17146676489783, 98.00425470840051, 84.05992917257008, 91.39247739753118, 105.15077842722295, 76.40380816603967, 77.46754773923455, 82.61347779093396, 38.601894339686886, 21.28079356832644, 55.047846782431286, 20.230675741788072, 14.486935792018157, 19.910406753235236, 12.572660799471967, 25.117485368258837, 11.601463391128116, 10.65186315742815, 9.734456529547712, 9.706242812978058, 52.951888025264864, 9.667943325071514, 8.767111585015549, 8.766004995683915, 8.760374324253602, 7.799830353202478, 7.7978734625445885, 16.463916555270924, 7.77184418205816, 17.08150262412671, 7.763402486299697, 6.845760169262912, 6.840687582928423, 6.80834930612268, 20.07713479537339, 21.18654281602329, 5.87833570359263, 5.85481852460191, 13.135886984779502, 62.351562479510314, 24.707872943902096, 76.78718222720671, 29.583806378084805, 18.852363639293166, 14.364622700733577, 13.111419384475377, 36.04258603051639, 212.6126662591441, 37.95683419665454, 120.2625649656007, 16.750688941042306, 21.2216336739111, 46.51353859872744, 53.19618462624954, 20.502450249293314, 158.35922989798968, 25.510593803155214, 188.25013349827987, 111.7679138776674, 246.67584277839416, 97.8543053716697, 49.97640631879994, 43.20263481551131, 59.46981990742378, 116.22202503949134, 51.76473899028819, 88.88048098333296, 89.26366173108268, 37.22453840702139, 78.14335679455293, 62.918653583747556, 77.89938977515274, 106.58509016785561, 61.78055088735529, 65.87508854050436, 80.01078904631797, 74.53894528097547, 72.20762311670155, 76.71135546871076, 62.66797996233747, 58.54824081500718, 54.7460343626097, 58.43880823192562, 39.3933330893396, 33.05093118835742, 31.221235889646056, 25.544125453056335, 17.487878127491218, 19.168262665225978, 13.826666858400225, 12.910359273471348, 12.887319215920485, 11.996218719142616, 11.984628111565973, 11.084752317170876, 10.156000643976638, 9.247129973471656, 9.239874734110138, 9.191666145345966, 9.182500050292404, 8.3333887121757, 8.327177124161718, 8.317481034591655, 8.28521737333439, 14.72400573699624, 6.499298576074122, 6.4917917363564355, 6.446539615154101, 6.44116517014337, 6.407846747912453, 5.586385308677558, 5.58528610919944, 5.581797686598846, 43.98421224902573, 11.064886998659668, 15.68398460868181, 30.367621885415062, 18.169077269467724, 37.20819249161119, 49.17758342420463, 11.035174630364695, 53.00065933178391, 53.4806736009086, 57.242236162188036, 52.22992836644164, 38.62050305816872, 40.64930115509617, 188.13527075265557, 20.156206426369128, 103.42961535757738, 72.92626782340399, 78.8685480442026, 75.03265293509966, 80.79569436917855, 24.37996995155651, 31.781281291284618, 89.13511822236521, 40.84160747615861, 82.17370102431788, 51.43640306233791, 49.480565147654865, 66.64443560400917, 57.777343720732055, 56.55564035594856, 51.34090733026982, 60.07188668839678, 47.13538319713612, 47.81949567518483, 42.877599382750226, 43.33779669291269, 44.5321808335682, 42.20542256419519, 41.600128308891385, 34.08271658327267, 22.58250621252373, 18.03984235706672, 34.94008985617045, 13.597872906487131, 13.552679655115877, 11.805938551145374, 9.978999297794823, 9.050749500279222, 29.641596692054726, 8.182406991611721, 28.701147196670018, 8.129157551952547, 7.290494933738146, 15.281861079286665, 6.3961333978248645, 6.390559754258394, 6.3884256814906735, 6.387717927321879, 6.381322067995974, 6.380076344351169, 36.831585446642286, 5.493430155544788, 10.982346709031981, 5.462508356833236, 5.455519840826903, 4.590252851510141, 4.5867503268365395, 4.585269003084332, 4.583561935639474, 8.340662222729106, 7.552879689247619, 15.357681708722435, 95.28318993883893, 29.652946194664466, 17.955107713310955, 9.990428923518012, 9.973258413126473, 19.428214395105197, 20.865249142506784, 10.887418624731946, 16.780500326566465, 31.441550989514035, 76.40256233694915, 189.706829290967, 30.641983363480648, 26.12443873998744, 68.28407642063065, 91.08278531632901, 89.7629058223344, 84.27602922875153, 54.39450832475963, 72.56490430031555, 84.0586081655343, 80.55662273320414, 88.44120511725316, 57.405133040787916, 45.67870078229694, 51.006170533981056, 56.06536775311269, 49.66265599331462, 60.28412692757954, 50.312772392244064, 42.167133643034724, 43.76875907059565, 44.548140759221845, 44.830677749559044, 42.8340606342429, 40.4247331769404, 38.75117245504822, 37.24629505107851, 37.970277329834666, 36.55812907582924, 24.403051966764764, 21.893865668880196, 13.785658251390988, 11.429288169775479, 8.963882526295391, 7.380608640763306, 7.375903802336076, 7.374390614645194, 6.565062912734406, 5.757962492983045, 5.755559966479388, 5.755399937961455, 5.753623883754231, 5.733568900013399, 4.946001928439508, 4.116195036044449, 4.111593560299292, 3.325399685877634, 3.3197055563993776, 3.3106043935401446, 3.3099338478158216, 3.303611671990137, 5.7320137376292895, 2.514435757956438, 2.5134438434870856, 2.513451189058401, 2.5120135558153303, 2.511899961801781, 2.50824265431243, 2.5067273678868873, 15.641545177033127, 95.37093554237764, 4.106270644514274, 6.00142883079901, 44.055139515910135, 5.010445674952968, 26.833791760474902, 23.3136030014927, 16.262548170938345, 11.405996412503077, 8.293046127222166, 28.182251866516378, 13.44043423883257, 21.37716139270874, 49.887590299496175, 54.55379102161028, 22.94284473367616, 74.80182477153821, 57.87682674523366, 63.350746489140576, 24.95826802397322, 8.278974636001031, 9.003453118969071, 21.492954880183078, 16.149450508136596, 14.767135713271808, 22.783724967851533, 22.304260639512254, 13.934125889441592, 22.40269759133668, 11.919576722131016, 18.881923285383944, 15.681936374959422, 19.372976826523566, 19.04988502033712, 17.44721672779888, 15.705252267680429, 15.76703062117389, 17.1782523378977, 15.731705768720255, 15.757094161919413, 20.04533517218277, 13.152764991563778, 13.14905369344451, 11.616947119774009, 11.583813711642927, 10.82538979613715, 10.08248805572467, 8.535011361711582, 16.27708528501074, 6.984596718104339, 6.233237053246252, 6.232041922275694, 5.464150903660351, 10.846817893968261, 4.692292418253364, 4.691919545138562, 4.691813978464502, 4.686942899682962, 8.533577010846594, 3.9192293589852487, 3.9096278762791163, 20.846357661926, 3.1559767366427947, 3.1544278604639744, 3.1538065666895716, 3.148357050329291, 12.34368553703605, 5.452846068770695, 5.445113067770355, 6.672600708178561, 9.69010641325732, 9.303055403579233, 14.653492113495158, 8.563023333398329, 8.51557740866846, 27.614550930469644, 11.623702418412291, 8.532200770077418, 25.793022182093594, 16.184789019830664, 10.850512727560384, 10.057060046298417, 48.81156621756753, 23.980202200076747, 27.05342241226879, 28.614873615823353, 52.278588864069555, 27.02889026681966, 23.17092613972485, 22.2620358161268, 20.02328432782486, 27.938539895669667, 28.05926361972156, 21.052822832350245, 23.847943622005936, 25.805573962789243, 27.266444338503955, 19.44166812684347, 24.022779467279065, 22.416800434306055, 16.375891817925094, 15.507821899632614, 15.716306395886365, 15.363865759274612, 15.410702496500038, 14.883884115870481], \"Total\": [2207.0, 856.0, 537.0, 1444.0, 185.0, 546.0, 313.0, 1684.0, 267.0, 720.0, 415.0, 409.0, 280.0, 132.0, 264.0, 977.0, 101.0, 638.0, 318.0, 402.0, 211.0, 313.0, 771.0, 1073.0, 1065.0, 1275.0, 230.0, 93.0, 1380.0, 403.0, 42.09594708885898, 31.560849900975228, 28.690584170564833, 30.603389921055477, 22.94354082492302, 22.940802401215322, 21.987230341115158, 21.985540843376572, 20.072113126751418, 19.110490535007642, 21.025022423364813, 20.068145801930214, 16.240527014397276, 16.235986618686184, 15.28236584746398, 14.32309206317815, 14.321787262356509, 47.86912122293739, 14.32355585282872, 14.32273202097926, 15.280434581541979, 13.366898893686265, 13.365641111400965, 13.36462375246863, 12.408909376146273, 12.407936501693406, 12.408118021889074, 12.407734786580413, 12.406667862626444, 11.449645440031132, 45.81832100958588, 62.20777223385092, 26.739675266106765, 215.38563743445815, 21.97722392447218, 27.654818918597275, 300.4880968838185, 61.92866405598666, 37.283825749020764, 124.4803129979604, 59.28627582595969, 43.764153670280024, 21.04513436772206, 903.2774906590204, 1075.661656615297, 55.46729875401114, 186.70962832560178, 1444.303860416529, 72.92126436436303, 1380.0473276078153, 644.8906896646727, 1684.5262837351688, 1275.9052710901094, 606.119666333594, 1065.3296939479085, 1073.959536981538, 158.60933534500163, 473.9774271054985, 403.4223754074627, 283.36535597653335, 576.4762407386548, 699.442395369648, 640.7543220643961, 855.8491226639098, 444.4344905988366, 416.512233430615, 372.05379705607845, 910.723377139635, 478.36774259662235, 580.2618174195679, 639.2781329593133, 977.0625862923384, 638.9997200101715, 771.1389839745426, 2207.011179057506, 720.9581134351879, 536.6952608482818, 713.6830558877674, 36.3776274801864, 32.543881379742594, 23.917659414192507, 22.960113260619888, 17.209929277700567, 15.293258432190349, 15.289389266099906, 14.334126322311201, 14.333861211081432, 14.33400902838574, 17.20686545233895, 18.169476736824983, 12.417081804376359, 12.417341387754602, 12.41576607826904, 11.4584538146276, 11.457718045334445, 11.45663078431536, 11.456605418138285, 10.50034686739183, 10.501232107661965, 10.500019173524947, 33.45744437532918, 10.500713884077378, 9.542347782867793, 9.54285366883819, 9.540113098455116, 10.499623731863842, 8.584240877694194, 8.583469487970053, 90.05363866960253, 125.01127321488171, 67.9380837621285, 35.28731102414701, 72.62178282728625, 34.55964737770281, 23.019832106346833, 30.619882341041748, 14.280879224501795, 207.41046059061455, 199.52281419491618, 29.55134334911698, 638.9997200101715, 29.7125930005471, 318.3322903559003, 1380.0473276078153, 133.02491380587998, 186.43216250114693, 121.72241683856501, 88.5725049444893, 283.36535597653335, 313.9693992907926, 109.80093995170276, 638.1053457456072, 402.4065923158533, 1275.9052710901094, 977.0625862923384, 558.2943363325512, 1684.5262837351688, 1065.3296939479085, 856.1155065779716, 910.723377139635, 1444.303860416529, 1073.959536981538, 713.6830558877674, 323.1921070116508, 658.3942447717153, 644.8906896646727, 639.2781329593133, 699.442395369648, 612.9712932103934, 1075.661656615297, 2207.011179057506, 580.2618174195679, 771.1389839745426, 855.8491226639098, 65.06076886466391, 57.24767399375369, 23.27094779805422, 22.298281346004824, 41.72944141731369, 18.40998800396174, 18.410331580773725, 17.436772496417195, 17.438800537702715, 35.87116181689024, 19.378787908112226, 22.27589558130323, 35.83341196787275, 14.522385025301128, 14.521223395978732, 13.550999644355231, 12.57967157841826, 12.578489682256999, 11.606268030556897, 11.606278215911683, 10.634664149491563, 10.634012431904464, 10.635800335759887, 10.635578251676728, 10.635685096844602, 10.636254034642521, 10.63494938106259, 9.663367579727272, 9.662494054294902, 10.626256454663123, 26.10167258007431, 21.280733994043462, 11.59321067566931, 18.24486114563832, 30.69936208755624, 15.443559368083474, 15.494017245713858, 118.22860590911478, 16.420433776139127, 61.84828924670496, 46.38384175347633, 44.455196625576626, 537.3423249647284, 201.5893734547101, 187.53604562488448, 111.5253142645198, 96.43219064051905, 173.91736892660012, 233.66287883116954, 510.3311488446203, 181.76191479830965, 299.43073923265416, 409.59971174199165, 229.8528455532207, 564.2532077650735, 1065.3296939479085, 140.03248119042524, 436.98676042374615, 1444.303860416529, 318.3322903559003, 422.1291204720428, 158.4610220337916, 1275.9052710901094, 1684.5262837351688, 213.7465869787315, 497.99093546315487, 1073.959536981538, 2207.011179057506, 640.7543220643961, 619.0853145136051, 612.9712932103934, 1380.0473276078153, 1075.661656615297, 639.2781329593133, 713.6830558877674, 468.4902832677637, 977.0625862923384, 644.8906896646727, 855.8491226639098, 910.723377139635, 903.2774906590204, 41.92811908238521, 37.04310921567102, 37.02916360878746, 33.138674319581035, 31.18380529146832, 29.23290250046236, 28.25680408351901, 28.2443893452265, 24.350125314129286, 23.373509541134727, 17.50752442673303, 16.538385421787332, 17.511108849803914, 14.586381137277833, 14.586757762735626, 14.581515978053066, 14.586347671555554, 29.183317883792263, 12.633875936682928, 12.633661797212765, 12.633661906873968, 12.633222225160049, 11.656912026743464, 10.68150954299424, 10.681331461347078, 10.681230325739977, 10.681272548066392, 10.681217850374825, 10.681203963175015, 10.680467393086184, 22.37067843480177, 81.60027314248244, 64.11613662464416, 25.3205115012765, 41.849731523597384, 38.941858529018425, 34.63567902858096, 28.778125420167342, 267.84909437397624, 113.20395769202881, 30.092746594807235, 89.63588274007725, 856.1155065779716, 88.5437818332802, 2207.011179057506, 117.4210778221943, 78.50191204463222, 151.12247074877388, 546.9115210513037, 720.9581134351879, 405.42758054866937, 74.81317434610374, 143.65364074792686, 361.0211832461406, 658.3942447717153, 1684.5262837351688, 305.3855492591677, 121.72241683856501, 211.55689307540632, 1380.0473276078153, 640.7543220643961, 910.723377139635, 174.63117697073832, 365.46601615839865, 1073.959536981538, 855.8491226639098, 606.119666333594, 264.3500464894208, 977.0625862923384, 536.6952608482818, 1444.303860416529, 612.9712932103934, 1065.3296939479085, 510.3311488446203, 639.2781329593133, 1075.661656615297, 49.911371325759866, 33.89504375159599, 27.297632628554247, 32.00932710652564, 25.41369717986248, 14.107720007645502, 15.05117279745248, 13.165632942957425, 11.281533793132288, 11.280911249259681, 12.224473881123085, 11.27806769841657, 12.225754847796356, 11.281459312491062, 11.27560209608462, 10.336194636168424, 11.28287428234444, 9.39702970815106, 9.396841985738359, 8.454938343682887, 8.454367656128749, 8.45482267988646, 9.399285316859968, 7.512935626908949, 7.512435452952255, 7.512470084988617, 7.509317318881168, 7.509826152073341, 7.512486478983363, 7.512399505962648, 26.407449207083104, 40.552419794053286, 14.114137078989918, 14.118688322958581, 24.5515442875287, 28.303772665285393, 11.292110415095733, 13.989346759320412, 21.67756271572878, 232.05022755643475, 146.12292795969682, 147.7244982824258, 264.3500464894208, 299.43073923265416, 43.42366531163713, 313.58362626280916, 1075.661656615297, 638.1053457456072, 143.7121305440601, 192.2653998595515, 313.9693992907926, 54.113390661505484, 311.7659389597565, 1684.5262837351688, 564.2532077650735, 903.2774906590204, 192.3789866955145, 855.8491226639098, 211.55689307540632, 1444.303860416529, 333.63584383014893, 259.4316907449893, 410.346987963787, 699.442395369648, 576.4762407386548, 977.0625862923384, 442.69938763810825, 387.93595892468124, 713.6830558877674, 2207.011179057506, 1275.9052710901094, 1073.959536981538, 910.723377139635, 580.2618174195679, 771.1389839745426, 1380.0473276078153, 497.99093546315487, 640.7543220643961, 1065.3296939479085, 39.755940590775076, 22.281653184222826, 57.96815075714062, 21.305602556003578, 15.481197694805488, 21.295596579894195, 13.53527358184605, 27.13770942476876, 12.568109956638818, 11.60162266681735, 10.628847322797466, 10.627901807654201, 58.167117396224484, 10.625353602542745, 9.657668577496121, 9.65693397582698, 9.656444058821194, 8.68528113537594, 8.68575448414311, 18.346046246694165, 8.68186494925964, 19.096789924811144, 8.6853320698775, 7.716265994833147, 7.715745043785237, 7.7139378735713535, 22.808382142398468, 24.228805082298024, 6.744400333260136, 6.741008622434984, 15.195702829315382, 75.09499936827021, 29.83088271588393, 99.93225148417315, 36.727740691884485, 22.751277407018332, 16.996004171714215, 15.452950592524656, 48.11658992294087, 415.6214268552397, 54.86296837158325, 230.10269838808654, 21.277935860825117, 29.93787396153704, 95.44682087437307, 121.36768577273511, 30.434669497136422, 771.1389839745426, 45.09170685372832, 1275.9052710901094, 558.2943363325512, 2207.011179057506, 557.426422118822, 160.9962079079104, 124.61594117436799, 233.3017078680823, 903.2774906590204, 180.54094042282932, 720.9581134351879, 910.723377139635, 104.44320678990037, 699.442395369648, 405.42758054866937, 713.6830558877674, 1684.5262837351688, 436.98676042374615, 546.9115210513037, 1075.661656615297, 977.0625862923384, 1073.959536981538, 1444.303860416529, 855.8491226639098, 576.4762407386548, 410.346987963787, 1065.3296939479085, 40.56014829310338, 34.105265902661884, 32.26202323013171, 26.741238952114962, 18.43383790956915, 20.286772378940334, 14.746171786295788, 13.824139742806578, 13.825044225955626, 12.902739359501924, 12.90297969499768, 11.980552940233318, 11.059731165548905, 10.137043738013096, 10.137150663024416, 10.140364994197336, 10.140951911800725, 9.214971946002867, 9.215852080161886, 9.21540518347654, 9.218965712294692, 16.619222071371556, 7.371472820124502, 7.371473929073272, 7.374538845341574, 7.374058171511726, 7.37525759229265, 6.449625970011393, 6.449648834355699, 6.450000719270706, 51.89026363705548, 12.94466820184469, 18.50683429128678, 40.000273022690344, 23.268839150858547, 52.20496063483196, 83.3086453484466, 13.922383811300193, 115.52165981429954, 119.15582030942201, 138.0940630437149, 163.6510926779305, 107.6026231169941, 126.2307673845836, 2207.011179057506, 41.10323140150185, 855.8491226639098, 451.6010779333751, 619.0853145136051, 576.4762407386548, 720.9581134351879, 61.1232082551726, 113.11455660569396, 1380.0473276078153, 228.50947839734874, 1275.9052710901094, 403.4223754074627, 389.58947521324774, 1073.959536981538, 771.1389839745426, 903.2774906590204, 713.6830558877674, 1684.5262837351688, 639.2781329593133, 910.723377139635, 432.46484113101417, 564.2532077650735, 977.0625862923384, 546.9115210513037, 442.69938763810825, 35.41990147192479, 23.611165745300447, 19.075839309763058, 37.28391925783134, 14.532695766363924, 14.53647462755011, 12.717053605088381, 10.903164950066147, 9.998267556403714, 32.79654230784947, 9.088262248883572, 31.922383141508345, 9.090126288109802, 8.180247605928328, 17.306857721477332, 7.27156161682383, 7.272358978597549, 7.272662465673585, 7.272403559163912, 7.272604518418258, 7.272566968901882, 41.994036889709676, 6.364860207717045, 12.750373407822707, 6.36542531086969, 6.365854041396709, 5.456984894367912, 5.456839561469389, 5.457091724235894, 5.456963323246854, 10.023707835500858, 9.111620593524204, 19.018882850641617, 132.80499856166688, 42.32626186459426, 24.889778342659792, 12.81414936875013, 12.844608909636687, 29.61994896002278, 39.05742277672931, 15.612615874814665, 29.842412822328257, 80.12974935886629, 416.512233430615, 2207.011179057506, 99.13677915662561, 82.97658763373781, 537.3423249647284, 1065.3296939479085, 1073.959536981538, 977.0625862923384, 409.59971174199165, 771.1389839745426, 1380.0473276078153, 1275.9052710901094, 1684.5262837351688, 638.1053457456072, 446.6155520838226, 612.9712932103934, 910.723377139635, 644.8906896646727, 1444.303860416529, 855.8491226639098, 468.4902832677637, 564.2532077650735, 699.442395369648, 1075.661656615297, 903.2774906590204, 580.2618174195679, 557.426422118822, 410.346987963787, 713.6830558877674, 451.6010779333751, 25.464169076022355, 23.021921630040264, 14.84082561171789, 12.374521954706552, 9.924690711155018, 8.28258325893626, 8.282989867989098, 8.283297066325149, 7.4649450236496655, 6.646486176868604, 6.646677955688128, 6.646741325417834, 6.647232363654572, 6.650226705908973, 5.82846364209008, 5.01319884668817, 5.013904147058155, 4.191823786899915, 4.192385324621246, 4.194019007205263, 4.194203230608687, 4.195329388867546, 7.6173515706072426, 3.373732955729334, 3.373766818229344, 3.3737829182979278, 3.3738136746034404, 3.373886173083975, 3.374388341829946, 3.374729360453696, 23.160322628986854, 185.0566305901037, 5.982014326473822, 9.443073515006432, 101.93931683625871, 7.705232615869146, 64.2191546539376, 61.054351081587065, 42.14478196244779, 26.42299946554496, 16.681988690916086, 107.67869024787652, 34.97753308683481, 78.65011337441682, 313.9693992907926, 537.3423249647284, 124.58566385211329, 1444.303860416529, 856.1155065779716, 1684.5262837351688, 280.85064175805314, 17.607414304577983, 22.781982836680182, 285.8250720875876, 153.2874748993878, 115.1860832735558, 640.7543220643961, 638.1053457456072, 114.33042787107605, 977.0625862923384, 64.30783494496103, 478.36774259662235, 213.7465869787315, 720.9581134351879, 713.6830558877674, 580.2618174195679, 318.3322903559003, 361.7071339589312, 2207.011179057506, 369.6333375593437, 558.2943363325512, 21.140143495277098, 14.139536282124023, 14.140246314659873, 12.58345869543988, 12.588296505139162, 11.8083441946622, 11.026944685200082, 9.474162000470601, 18.15548615389003, 7.919786469012579, 7.1396713544647294, 7.1401635126639675, 6.362160433609493, 12.774242684223287, 5.585065189396348, 5.5852259626332295, 5.5852431618539145, 5.586525674094813, 10.428423110197329, 4.8084061863105845, 4.809301746849137, 25.790618652495123, 4.029269506409463, 4.029717684743233, 4.029824290975418, 4.030393889750083, 16.281013399837967, 7.316900114668271, 7.3166197708177805, 8.969791108461042, 13.052692689641765, 13.162985548814975, 25.182796293214302, 13.35891847161092, 13.351991920529738, 73.7052245342233, 25.163877778385064, 15.225369466095403, 93.94560555119835, 46.149897730281765, 25.718667891469305, 23.66824494073896, 546.9115210513037, 133.1063385921473, 267.84909437397624, 313.0164720781043, 2207.011179057506, 402.4065923158533, 264.3500464894208, 280.85064175805314, 211.55689307540632, 977.0625862923384, 1073.959536981538, 409.59971174199165, 720.9581134351879, 1065.3296939479085, 1684.5262837351688, 403.4223754074627, 1444.303860416529, 1380.0473276078153, 305.3855492591677, 405.42758054866937, 537.3423249647284, 536.6952608482818, 910.723377139635, 383.19868167724627], \"Category\": [\"Default\", \"Default\", \"Default\", \"Default\", \"Default\", \"Default\", \"Default\", \"Default\", \"Default\", \"Default\", \"Default\", \"Default\", \"Default\", \"Default\", \"Default\", \"Default\", \"Default\", \"Default\", \"Default\", \"Default\", \"Default\", \"Default\", \"Default\", \"Default\", \"Default\", \"Default\", \"Default\", \"Default\", \"Default\", \"Default\", \"Topic1\", \"Topic1\", \"Topic1\", \"Topic1\", \"Topic1\", \"Topic1\", \"Topic1\", \"Topic1\", \"Topic1\", \"Topic1\", \"Topic1\", \"Topic1\", \"Topic1\", \"Topic1\", \"Topic1\", \"Topic1\", \"Topic1\", \"Topic1\", \"Topic1\", \"Topic1\", \"Topic1\", \"Topic1\", \"Topic1\", \"Topic1\", \"Topic1\", \"Topic1\", \"Topic1\", \"Topic1\", \"Topic1\", \"Topic1\", \"Topic1\", \"Topic1\", \"Topic1\", \"Topic1\", \"Topic1\", \"Topic1\", \"Topic1\", \"Topic1\", \"Topic1\", \"Topic1\", \"Topic1\", \"Topic1\", \"Topic1\", \"Topic1\", \"Topic1\", \"Topic1\", \"Topic1\", \"Topic1\", \"Topic1\", \"Topic1\", \"Topic1\", \"Topic1\", \"Topic1\", \"Topic1\", \"Topic1\", \"Topic1\", \"Topic1\", \"Topic1\", \"Topic1\", \"Topic1\", \"Topic1\", \"Topic1\", \"Topic1\", \"Topic1\", \"Topic1\", \"Topic1\", \"Topic1\", \"Topic1\", \"Topic1\", \"Topic1\", \"Topic1\", \"Topic1\", \"Topic1\", \"Topic1\", \"Topic1\", \"Topic1\", \"Topic1\", \"Topic1\", \"Topic2\", \"Topic2\", \"Topic2\", \"Topic2\", \"Topic2\", \"Topic2\", \"Topic2\", \"Topic2\", \"Topic2\", \"Topic2\", \"Topic2\", \"Topic2\", \"Topic2\", \"Topic2\", \"Topic2\", \"Topic2\", \"Topic2\", \"Topic2\", \"Topic2\", \"Topic2\", \"Topic2\", \"Topic2\", \"Topic2\", \"Topic2\", \"Topic2\", \"Topic2\", \"Topic2\", \"Topic2\", \"Topic2\", \"Topic2\", \"Topic2\", \"Topic2\", \"Topic2\", \"Topic2\", \"Topic2\", \"Topic2\", \"Topic2\", \"Topic2\", \"Topic2\", \"Topic2\", \"Topic2\", \"Topic2\", \"Topic2\", \"Topic2\", \"Topic2\", \"Topic2\", \"Topic2\", \"Topic2\", \"Topic2\", \"Topic2\", \"Topic2\", \"Topic2\", \"Topic2\", \"Topic2\", \"Topic2\", \"Topic2\", \"Topic2\", \"Topic2\", \"Topic2\", \"Topic2\", \"Topic2\", \"Topic2\", \"Topic2\", \"Topic2\", \"Topic2\", \"Topic2\", \"Topic2\", \"Topic2\", \"Topic2\", \"Topic2\", \"Topic2\", \"Topic2\", \"Topic2\", \"Topic2\", \"Topic2\", \"Topic2\", \"Topic3\", \"Topic3\", \"Topic3\", \"Topic3\", \"Topic3\", \"Topic3\", \"Topic3\", \"Topic3\", \"Topic3\", \"Topic3\", \"Topic3\", \"Topic3\", \"Topic3\", \"Topic3\", \"Topic3\", \"Topic3\", \"Topic3\", \"Topic3\", \"Topic3\", \"Topic3\", \"Topic3\", \"Topic3\", \"Topic3\", \"Topic3\", \"Topic3\", \"Topic3\", \"Topic3\", \"Topic3\", \"Topic3\", \"Topic3\", \"Topic3\", \"Topic3\", \"Topic3\", \"Topic3\", \"Topic3\", \"Topic3\", \"Topic3\", \"Topic3\", \"Topic3\", \"Topic3\", \"Topic3\", \"Topic3\", \"Topic3\", \"Topic3\", \"Topic3\", \"Topic3\", \"Topic3\", \"Topic3\", \"Topic3\", \"Topic3\", \"Topic3\", \"Topic3\", \"Topic3\", \"Topic3\", \"Topic3\", \"Topic3\", \"Topic3\", \"Topic3\", \"Topic3\", \"Topic3\", \"Topic3\", \"Topic3\", \"Topic3\", \"Topic3\", \"Topic3\", \"Topic3\", \"Topic3\", \"Topic3\", \"Topic3\", \"Topic3\", \"Topic3\", \"Topic3\", \"Topic3\", \"Topic3\", \"Topic3\", \"Topic3\", \"Topic3\", \"Topic3\", \"Topic3\", \"Topic3\", \"Topic3\", \"Topic4\", \"Topic4\", \"Topic4\", \"Topic4\", \"Topic4\", \"Topic4\", \"Topic4\", \"Topic4\", \"Topic4\", \"Topic4\", \"Topic4\", \"Topic4\", \"Topic4\", \"Topic4\", \"Topic4\", \"Topic4\", \"Topic4\", \"Topic4\", \"Topic4\", \"Topic4\", \"Topic4\", \"Topic4\", \"Topic4\", \"Topic4\", \"Topic4\", \"Topic4\", \"Topic4\", \"Topic4\", \"Topic4\", \"Topic4\", \"Topic4\", \"Topic4\", \"Topic4\", \"Topic4\", \"Topic4\", \"Topic4\", \"Topic4\", \"Topic4\", \"Topic4\", \"Topic4\", \"Topic4\", \"Topic4\", \"Topic4\", \"Topic4\", \"Topic4\", \"Topic4\", \"Topic4\", \"Topic4\", \"Topic4\", \"Topic4\", \"Topic4\", \"Topic4\", \"Topic4\", \"Topic4\", \"Topic4\", \"Topic4\", \"Topic4\", \"Topic4\", \"Topic4\", \"Topic4\", \"Topic4\", \"Topic4\", \"Topic4\", \"Topic4\", \"Topic4\", \"Topic4\", \"Topic4\", \"Topic4\", \"Topic4\", \"Topic4\", \"Topic4\", \"Topic4\", \"Topic4\", \"Topic4\", \"Topic4\", \"Topic4\", \"Topic5\", \"Topic5\", \"Topic5\", \"Topic5\", \"Topic5\", \"Topic5\", \"Topic5\", \"Topic5\", \"Topic5\", \"Topic5\", \"Topic5\", \"Topic5\", \"Topic5\", \"Topic5\", \"Topic5\", \"Topic5\", \"Topic5\", \"Topic5\", \"Topic5\", \"Topic5\", \"Topic5\", \"Topic5\", \"Topic5\", \"Topic5\", \"Topic5\", \"Topic5\", \"Topic5\", \"Topic5\", \"Topic5\", \"Topic5\", \"Topic5\", \"Topic5\", \"Topic5\", \"Topic5\", \"Topic5\", \"Topic5\", \"Topic5\", \"Topic5\", \"Topic5\", \"Topic5\", \"Topic5\", \"Topic5\", \"Topic5\", \"Topic5\", \"Topic5\", \"Topic5\", \"Topic5\", \"Topic5\", \"Topic5\", \"Topic5\", \"Topic5\", \"Topic5\", \"Topic5\", \"Topic5\", \"Topic5\", \"Topic5\", \"Topic5\", \"Topic5\", \"Topic5\", \"Topic5\", \"Topic5\", \"Topic5\", \"Topic5\", \"Topic5\", \"Topic5\", \"Topic5\", \"Topic5\", \"Topic5\", \"Topic5\", \"Topic5\", \"Topic5\", \"Topic5\", \"Topic5\", \"Topic5\", \"Topic5\", \"Topic5\", \"Topic5\", \"Topic5\", \"Topic5\", \"Topic6\", \"Topic6\", \"Topic6\", \"Topic6\", \"Topic6\", \"Topic6\", \"Topic6\", \"Topic6\", \"Topic6\", \"Topic6\", \"Topic6\", \"Topic6\", \"Topic6\", \"Topic6\", \"Topic6\", \"Topic6\", \"Topic6\", \"Topic6\", \"Topic6\", \"Topic6\", \"Topic6\", \"Topic6\", \"Topic6\", \"Topic6\", \"Topic6\", \"Topic6\", \"Topic6\", \"Topic6\", \"Topic6\", \"Topic6\", \"Topic6\", \"Topic6\", \"Topic6\", \"Topic6\", \"Topic6\", \"Topic6\", \"Topic6\", \"Topic6\", \"Topic6\", \"Topic6\", \"Topic6\", \"Topic6\", \"Topic6\", \"Topic6\", \"Topic6\", \"Topic6\", \"Topic6\", \"Topic6\", \"Topic6\", \"Topic6\", \"Topic6\", \"Topic6\", \"Topic6\", \"Topic6\", \"Topic6\", \"Topic6\", \"Topic6\", \"Topic6\", \"Topic6\", \"Topic6\", \"Topic6\", \"Topic6\", \"Topic6\", \"Topic6\", \"Topic6\", \"Topic6\", \"Topic6\", \"Topic6\", \"Topic6\", \"Topic6\", \"Topic6\", \"Topic6\", \"Topic6\", \"Topic6\", \"Topic6\", \"Topic7\", \"Topic7\", \"Topic7\", \"Topic7\", \"Topic7\", \"Topic7\", \"Topic7\", \"Topic7\", \"Topic7\", \"Topic7\", \"Topic7\", \"Topic7\", \"Topic7\", \"Topic7\", \"Topic7\", \"Topic7\", \"Topic7\", \"Topic7\", \"Topic7\", \"Topic7\", \"Topic7\", \"Topic7\", \"Topic7\", \"Topic7\", \"Topic7\", \"Topic7\", \"Topic7\", \"Topic7\", \"Topic7\", \"Topic7\", \"Topic7\", \"Topic7\", \"Topic7\", \"Topic7\", \"Topic7\", \"Topic7\", \"Topic7\", \"Topic7\", \"Topic7\", \"Topic7\", \"Topic7\", \"Topic7\", \"Topic7\", \"Topic7\", \"Topic7\", \"Topic7\", \"Topic7\", \"Topic7\", \"Topic7\", \"Topic7\", \"Topic7\", \"Topic7\", \"Topic7\", \"Topic7\", \"Topic7\", \"Topic7\", \"Topic7\", \"Topic7\", \"Topic7\", \"Topic7\", \"Topic7\", \"Topic7\", \"Topic7\", \"Topic7\", \"Topic7\", \"Topic7\", \"Topic7\", \"Topic7\", \"Topic7\", \"Topic7\", \"Topic8\", \"Topic8\", \"Topic8\", \"Topic8\", \"Topic8\", \"Topic8\", \"Topic8\", \"Topic8\", \"Topic8\", \"Topic8\", \"Topic8\", \"Topic8\", \"Topic8\", \"Topic8\", \"Topic8\", \"Topic8\", \"Topic8\", \"Topic8\", \"Topic8\", \"Topic8\", \"Topic8\", \"Topic8\", \"Topic8\", \"Topic8\", \"Topic8\", \"Topic8\", \"Topic8\", \"Topic8\", \"Topic8\", \"Topic8\", \"Topic8\", \"Topic8\", \"Topic8\", \"Topic8\", \"Topic8\", \"Topic8\", \"Topic8\", \"Topic8\", \"Topic8\", \"Topic8\", \"Topic8\", \"Topic8\", \"Topic8\", \"Topic8\", \"Topic8\", \"Topic8\", \"Topic8\", \"Topic8\", \"Topic8\", \"Topic8\", \"Topic8\", \"Topic8\", \"Topic8\", \"Topic8\", \"Topic8\", \"Topic8\", \"Topic8\", \"Topic8\", \"Topic8\", \"Topic8\", \"Topic8\", \"Topic8\", \"Topic8\", \"Topic8\", \"Topic8\", \"Topic8\", \"Topic8\", \"Topic8\", \"Topic8\", \"Topic8\", \"Topic8\", \"Topic8\", \"Topic8\", \"Topic9\", \"Topic9\", \"Topic9\", \"Topic9\", \"Topic9\", \"Topic9\", \"Topic9\", \"Topic9\", \"Topic9\", \"Topic9\", \"Topic9\", \"Topic9\", \"Topic9\", \"Topic9\", \"Topic9\", \"Topic9\", \"Topic9\", \"Topic9\", \"Topic9\", \"Topic9\", \"Topic9\", \"Topic9\", \"Topic9\", \"Topic9\", \"Topic9\", \"Topic9\", \"Topic9\", \"Topic9\", \"Topic9\", \"Topic9\", \"Topic9\", \"Topic9\", \"Topic9\", \"Topic9\", \"Topic9\", \"Topic9\", \"Topic9\", \"Topic9\", \"Topic9\", \"Topic9\", \"Topic9\", \"Topic9\", \"Topic9\", \"Topic9\", \"Topic9\", \"Topic9\", \"Topic9\", \"Topic9\", \"Topic9\", \"Topic9\", \"Topic9\", \"Topic9\", \"Topic9\", \"Topic9\", \"Topic9\", \"Topic9\", \"Topic9\", \"Topic9\", \"Topic9\", \"Topic9\", \"Topic9\", \"Topic9\", \"Topic9\", \"Topic9\", \"Topic9\", \"Topic9\", \"Topic9\", \"Topic9\", \"Topic9\", \"Topic9\", \"Topic9\", \"Topic10\", \"Topic10\", \"Topic10\", \"Topic10\", \"Topic10\", \"Topic10\", \"Topic10\", \"Topic10\", \"Topic10\", \"Topic10\", \"Topic10\", \"Topic10\", \"Topic10\", \"Topic10\", \"Topic10\", \"Topic10\", \"Topic10\", \"Topic10\", \"Topic10\", \"Topic10\", \"Topic10\", \"Topic10\", \"Topic10\", \"Topic10\", \"Topic10\", \"Topic10\", \"Topic10\", \"Topic10\", \"Topic10\", \"Topic10\", \"Topic10\", \"Topic10\", \"Topic10\", \"Topic10\", \"Topic10\", \"Topic10\", \"Topic10\", \"Topic10\", \"Topic10\", \"Topic10\", \"Topic10\", \"Topic10\", \"Topic10\", \"Topic10\", \"Topic10\", \"Topic10\", \"Topic10\", \"Topic10\", \"Topic10\", \"Topic10\", \"Topic10\", \"Topic10\", \"Topic10\", \"Topic10\", \"Topic10\", \"Topic10\", \"Topic10\", \"Topic10\", \"Topic10\", \"Topic10\", \"Topic10\", \"Topic10\", \"Topic10\", \"Topic10\", \"Topic10\", \"Topic10\"], \"logprob\": [30.0, 29.0, 28.0, 27.0, 26.0, 25.0, 24.0, 23.0, 22.0, 21.0, 20.0, 19.0, 18.0, 17.0, 16.0, 15.0, 14.0, 13.0, 12.0, 11.0, 10.0, 9.0, 8.0, 7.0, 6.0, 5.0, 4.0, 3.0, 2.0, 1.0, -6.7687, -7.0639, -7.1609, -7.0993, -7.3922, -7.3924, -7.4355, -7.4365, -7.5297, -7.5818, -7.4869, -7.535, -7.7518, -7.7539, -7.817, -7.8855, -7.8859, -6.6797, -7.8864, -7.8871, -7.8224, -7.9588, -7.9602, -7.9635, -8.0386, -8.0388, -8.0397, -8.0401, -8.0439, -8.1244, -6.7651, -6.467, -7.3086, -5.3724, -7.5165, -7.3083, -5.186, -6.6177, -7.071, -6.0766, -6.7673, -7.0047, -7.5827, -4.6652, -4.5559, -6.8342, -5.9332, -4.4259, -6.6596, -4.6842, -5.2372, -4.6186, -4.8267, -5.3385, -4.996, -5.0034, -6.202, -5.5349, -5.6542, -5.8766, -5.4512, -5.3541, -5.4277, -5.2671, -5.6438, -5.6855, -5.7683, -5.3291, -5.6577, -5.5714, -5.538, -5.3722, -5.5626, -5.5267, -5.2379, -5.5887, -5.6963, -5.6722, -6.6674, -6.7798, -7.0985, -7.1402, -7.4422, -7.568, -7.5691, -7.6338, -7.6344, -7.6346, -7.4526, -7.4018, -7.7874, -7.7884, -7.7892, -7.8734, -7.8751, -7.8761, -7.8767, -7.9673, -7.9684, -7.9686, -6.8108, -7.9698, -8.0719, -8.0747, -8.0752, -7.9802, -8.1887, -8.189, -5.872, -5.6334, -6.2372, -6.8603, -6.2025, -6.8942, -7.2972, -7.0572, -7.7089, -5.4628, -5.6299, -7.1452, -4.8124, -7.1488, -5.3941, -4.3535, -6.0819, -5.8512, -6.1827, -6.4013, -5.6398, -5.5766, -6.2893, -5.1515, -5.4613, -4.728, -4.9036, -5.2765, -4.6429, -4.9388, -5.1378, -5.1341, -4.9144, -5.1321, -5.3387, -5.7908, -5.4654, -5.4863, -5.5073, -5.4754, -5.5307, -5.3437, -5.1265, -5.6398, -5.5734, -5.6211, -6.057, -6.2025, -7.1072, -7.1521, -6.5325, -7.3523, -7.3523, -7.408, -7.4096, -6.6905, -7.3068, -7.1706, -6.6968, -7.6027, -7.6077, -7.6772, -7.7542, -7.7557, -7.8404, -7.8461, -7.9347, -7.9349, -7.9349, -7.935, -7.9351, -7.936, -7.9366, -8.0397, -8.0415, -7.951, -7.0655, -7.2706, -7.8648, -7.4375, -6.95, -7.6029, -7.6011, -5.8131, -7.5563, -6.4155, -6.704, -6.7548, -4.7668, -5.5592, -5.6291, -6.0545, -6.2097, -5.7772, -5.556, -5.0077, -5.7696, -5.4132, -5.2531, -5.6642, -5.1048, -4.6891, -6.037, -5.323, -4.5702, -5.5248, -5.3723, -5.9691, -4.795, -4.6779, -5.8468, -5.4075, -5.0487, -4.7104, -5.3463, -5.3813, -5.4011, -5.1158, -5.2143, -5.422, -5.4004, -5.5562, -5.3776, -5.48, -5.4806, -5.5244, -5.5373, -6.3666, -6.4931, -6.494, -6.6057, -6.6697, -6.7345, -6.7694, -6.7717, -6.9233, -6.9657, -7.269, -7.328, -7.2744, -7.4593, -7.4598, -7.4612, -7.4613, -6.7695, -7.6118, -7.6124, -7.6127, -7.6132, -7.7013, -7.792, -7.7924, -7.7928, -7.7929, -7.7929, -7.7931, -7.7934, -7.0575, -5.7883, -6.0316, -6.9427, -6.4619, -6.5487, -6.6675, -6.8448, -4.8471, -5.6566, -6.8426, -5.8886, -4.045, -5.964, -3.4268, -5.8842, -6.1988, -5.7381, -4.8275, -4.6857, -5.0975, -6.2394, -5.8294, -5.2508, -4.9203, -4.4271, -5.4206, -5.963, -5.7443, -4.8662, -5.2486, -5.1013, -5.9024, -5.6138, -5.2087, -5.3205, -5.4515, -5.7693, -5.3262, -5.6021, -5.4128, -5.6178, -5.6548, -5.7853, -5.7877, -5.7802, -5.9792, -6.3745, -6.5968, -6.4377, -6.6708, -7.2868, -7.2237, -7.3635, -7.5261, -7.5274, -7.4475, -7.5285, -7.448, -7.5291, -7.5307, -7.6231, -7.5389, -7.7247, -7.725, -7.8425, -7.8433, -7.8439, -7.7442, -7.9729, -7.9731, -7.9742, -7.9772, -7.9772, -7.9771, -7.978, -6.727, -6.3315, -7.3636, -7.3639, -6.8305, -6.7138, -7.6223, -7.4478, -7.0937, -5.2896, -5.714, -5.7426, -5.3541, -5.3283, -6.6671, -5.3351, -4.6123, -4.9667, -5.9087, -5.7343, -5.5593, -6.5986, -5.5876, -4.6611, -5.2744, -5.0217, -5.8879, -5.0859, -5.8621, -4.8311, -5.6347, -5.763, -5.5402, -5.2891, -5.3928, -5.163, -5.5158, -5.5771, -5.3377, -4.9119, -5.1322, -5.2109, -5.2815, -5.435, -5.3514, -5.2111, -5.5305, -5.5167, -5.4524, -6.0554, -6.6509, -5.7005, -6.7015, -7.0354, -6.7174, -7.1772, -6.4851, -7.2575, -7.3429, -7.433, -7.4359, -5.7393, -7.4399, -7.5377, -7.5378, -7.5384, -7.6546, -7.6548, -6.9075, -7.6582, -6.8707, -7.6593, -7.785, -7.7858, -7.7905, -6.7091, -6.6553, -7.9374, -7.9414, -7.1333, -5.5759, -6.5016, -5.3676, -6.3214, -6.772, -7.0439, -7.1352, -6.124, -4.3492, -6.0722, -4.919, -6.8902, -6.6537, -5.8689, -5.7347, -6.6881, -4.6438, -6.4696, -4.4709, -4.9923, -4.2006, -5.1252, -5.7971, -5.9428, -5.6232, -4.9532, -5.762, -5.2214, -5.2171, -6.0917, -5.3501, -5.5668, -5.3533, -5.0397, -5.5851, -5.5209, -5.3265, -5.3974, -5.4291, -5.3686, -5.5708, -5.6388, -5.706, -5.6407, -5.6525, -5.828, -5.885, -6.0857, -6.4646, -6.3728, -6.6995, -6.7681, -6.7698, -6.8415, -6.8425, -6.9205, -7.008, -7.1018, -7.1026, -7.1078, -7.1088, -7.2058, -7.2066, -7.2077, -7.2116, -6.6366, -7.4544, -7.4556, -7.4625, -7.4634, -7.4686, -7.6058, -7.606, -7.6066, -5.5423, -6.9223, -6.5735, -5.9127, -6.4264, -5.7096, -5.4307, -6.925, -5.3558, -5.3468, -5.2788, -5.3704, -5.6723, -5.6211, -4.0889, -6.3226, -4.6872, -5.0366, -4.9583, -5.0082, -4.9342, -6.1323, -5.8672, -4.8359, -5.6164, -4.9173, -5.3857, -5.4245, -5.1267, -5.2695, -5.2909, -5.3876, -5.2306, -5.4731, -5.4587, -5.5677, -5.5571, -5.5299, -5.5835, -5.598, -5.77, -6.1816, -6.4062, -5.7451, -6.6889, -6.6922, -6.8302, -6.9983, -7.0959, -5.9096, -7.1968, -5.9418, -7.2033, -7.3122, -6.5721, -7.4431, -7.444, -7.4443, -7.4444, -7.4454, -7.4456, -5.6924, -7.5952, -6.9025, -7.6009, -7.6021, -7.7748, -7.7756, -7.7759, -7.7763, -7.1776, -7.2768, -6.5672, -4.7419, -5.9092, -6.4109, -6.9971, -6.9989, -6.332, -6.2607, -6.9112, -6.4786, -5.8506, -4.9628, -4.0533, -5.8764, -6.0359, -5.0751, -4.787, -4.8016, -4.8647, -5.3025, -5.0143, -4.8673, -4.9098, -4.8164, -5.2486, -5.4771, -5.3668, -5.2723, -5.3935, -5.1997, -5.3805, -5.5571, -5.5199, -5.5022, -5.4959, -5.5414, -5.5993, -5.6416, -5.6812, -5.662, -5.6999, -5.2187, -5.3272, -5.7898, -5.9772, -6.2202, -6.4145, -6.4152, -6.4154, -6.5316, -6.6628, -6.6632, -6.6632, -6.6636, -6.667, -6.8148, -6.9985, -6.9996, -7.2118, -7.2135, -7.2163, -7.2165, -7.2184, -6.6673, -7.4913, -7.4917, -7.4917, -7.4923, -7.4923, -7.4938, -7.4944, -5.6635, -3.8556, -7.0009, -6.6214, -4.6279, -6.8019, -5.1237, -5.2643, -5.6245, -5.9792, -6.298, -5.0747, -5.8151, -5.3511, -4.5036, -4.4142, -5.2804, -4.0985, -4.3551, -4.2647, -5.1962, -6.2997, -6.2158, -5.3457, -5.6315, -5.721, -5.2873, -5.3086, -5.779, -5.3042, -5.9352, -5.4752, -5.6609, -5.4495, -5.4663, -5.5542, -5.6594, -5.6555, -5.5697, -5.6577, -5.6561, -5.3352, -5.7566, -5.7568, -5.8807, -5.8836, -5.9513, -6.0224, -6.189, -5.5434, -6.3895, -6.5033, -6.5035, -6.635, -5.9493, -6.7873, -6.7874, -6.7874, -6.7884, -6.1892, -6.9673, -6.9698, -5.296, -7.1839, -7.1844, -7.1846, -7.1863, -5.82, -6.6371, -6.6385, -6.4352, -6.0621, -6.1029, -5.6485, -6.1857, -6.1913, -5.0149, -5.8801, -6.1893, -5.0831, -5.5491, -5.949, -6.0249, -4.4452, -5.156, -5.0354, -4.9793, -4.3766, -5.0363, -5.1903, -5.2303, -5.3363, -5.0032, -4.9989, -5.2862, -5.1615, -5.0826, -5.0275, -5.3658, -5.1542, -5.2234, -5.5374, -5.5918, -5.5785, -5.6012, -5.5981, -5.6329], \"loglift\": [30.0, 29.0, 28.0, 27.0, 26.0, 25.0, 24.0, 23.0, 22.0, 21.0, 20.0, 19.0, 18.0, 17.0, 16.0, 15.0, 14.0, 13.0, 12.0, 11.0, 10.0, 9.0, 8.0, 7.0, 6.0, 5.0, 4.0, 3.0, 2.0, 1.0, 1.5975, 1.5904, 1.5888, 1.5858, 1.5809, 1.5809, 1.5802, 1.5793, 1.5771, 1.5742, 1.5735, 1.5721, 1.5669, 1.565, 1.5625, 1.5588, 1.5585, 1.5581, 1.5579, 1.5572, 1.5572, 1.5546, 1.5533, 1.5501, 1.5492, 1.5491, 1.5482, 1.5478, 1.544, 1.5438, 1.5164, 1.5087, 1.5115, 1.3613, 1.4997, 1.4781, 1.2148, 1.3625, 1.4167, 1.2055, 1.2565, 1.3227, 1.4768, 0.6349, 0.5696, 1.2562, 0.9434, 0.4049, 1.1572, 0.1922, 0.4, 0.0584, 0.1281, 0.3606, 0.1392, 0.1237, 0.8378, 0.4102, 0.452, 0.5829, 0.2981, 0.2019, 0.2158, 0.087, 0.3656, 0.3888, 0.4188, -0.0371, 0.2782, 0.1713, 0.1079, -0.1505, 0.0837, -0.0683, -0.8311, -0.0631, 0.1245, -0.1364, 1.8449, 1.8438, 1.833, 1.8323, 1.8185, 1.8108, 1.8099, 1.8098, 1.8092, 1.8089, 1.8083, 1.8047, 1.7997, 1.7987, 1.7981, 1.7941, 1.7924, 1.7915, 1.7909, 1.7875, 1.7863, 1.7862, 1.7852, 1.785, 1.7786, 1.7757, 1.7755, 1.7747, 1.7676, 1.7673, 1.7338, 1.6444, 1.6504, 1.6824, 1.6185, 1.6693, 1.6726, 1.6274, 1.7384, 1.3087, 1.1804, 1.5748, 0.8339, 1.5658, 0.949, 0.5228, 1.1338, 1.0269, 1.1217, 1.2211, 0.8197, 0.7803, 1.1182, 0.4962, 0.6474, 0.2268, 0.3181, 0.5048, 0.0341, 0.1964, 0.216, 0.1579, -0.0836, -0.005, 0.197, 0.5372, 0.151, 0.1508, 0.1385, 0.0805, 0.1572, -0.2182, -0.7197, 0.103, -0.1151, -0.267, 1.8739, 1.8563, 1.8518, 1.8496, 1.8425, 1.841, 1.841, 1.8396, 1.8379, 1.8358, 1.8352, 1.8321, 1.8305, 1.8279, 1.8229, 1.8225, 1.8199, 1.8186, 1.8143, 1.8085, 1.8074, 1.8072, 1.8071, 1.807, 1.8068, 1.8059, 1.8054, 1.7982, 1.7965, 1.7919, 1.7787, 1.7778, 1.791, 1.7648, 1.7319, 1.7661, 1.7646, 1.5205, 1.7514, 1.566, 1.5653, 1.5569, 1.0528, 1.2408, 1.2431, 1.3375, 1.3277, 1.1704, 1.0963, 0.8634, 1.1339, 0.9911, 0.8379, 1.0045, 0.6659, 0.446, 1.1274, 0.7033, 0.2606, 0.8183, 0.6886, 1.0716, 0.1598, -0.0009, 0.8947, 0.4881, 0.0784, -0.3035, 0.2973, 0.2967, 0.2867, -0.2394, -0.0888, 0.2238, 0.1353, 0.4005, -0.1559, 0.1571, -0.1265, -0.2324, -0.2371, 2.0036, 2.001, 2.0005, 1.9998, 1.9966, 1.9964, 1.9955, 1.9936, 1.9904, 1.9889, 1.9745, 1.9725, 1.969, 1.9669, 1.9663, 1.9653, 1.9648, 1.9631, 1.958, 1.9574, 1.9572, 1.9566, 1.949, 1.9456, 1.9453, 1.9449, 1.9448, 1.9448, 1.9446, 1.9444, 1.9409, 1.9161, 1.9139, 1.9319, 1.9102, 1.8954, 1.8938, 1.9018, 1.6687, 1.7204, 1.8593, 1.7219, 1.3088, 1.6587, 0.9801, 1.4563, 1.5442, 1.35, 0.9744, 0.8399, 1.0038, 1.5518, 1.3094, 0.9665, 0.6961, 0.2499, 0.964, 1.3414, 1.0074, 0.0101, 0.395, 0.1907, 1.0411, 0.5912, -0.0816, 0.0337, 0.2477, 0.7596, -0.1046, 0.2187, -0.582, 0.0701, -0.5196, 0.0858, -0.1419, -0.6547, 2.2167, 2.2084, 2.2026, 2.2024, 2.2001, 2.1727, 2.171, 2.1651, 2.157, 2.1557, 2.1553, 2.1549, 2.1547, 2.1539, 2.1529, 2.1474, 2.144, 2.1411, 2.1408, 2.129, 2.1282, 2.1276, 2.1213, 2.1167, 2.1165, 2.1155, 2.1129, 2.1128, 2.1125, 2.1116, 2.1056, 2.0721, 2.0954, 2.0948, 2.075, 2.0494, 2.0598, 2.0201, 1.9363, 1.3696, 1.4078, 1.3683, 1.1749, 1.076, 1.6681, 1.023, 0.5132, 0.681, 1.2297, 1.1131, 0.7976, 1.5166, 0.7764, 0.0159, 0.4963, 0.2785, 0.9589, 0.2683, 0.8896, -0.0003, 0.6615, 0.7847, 0.549, 0.2668, 0.3564, 0.0586, 0.4975, 0.5683, 0.1981, -0.5051, -0.1774, -0.0838, 0.0104, 0.3077, 0.107, -0.3348, 0.3651, 0.1269, -0.3172, 2.3681, 2.3516, 2.3458, 2.3458, 2.3312, 2.3303, 2.3238, 2.3202, 2.3175, 2.3121, 2.3096, 2.3068, 2.3036, 2.3031, 2.3008, 2.3007, 2.3001, 2.29, 2.2897, 2.2893, 2.2868, 2.286, 2.2853, 2.2778, 2.2772, 2.2727, 2.27, 2.2634, 2.2601, 2.2566, 2.2519, 2.2116, 2.2091, 2.1341, 2.1812, 2.2095, 2.2293, 2.2332, 2.1086, 1.7272, 2.0291, 1.7487, 2.1583, 2.0534, 1.6787, 1.5727, 2.0025, 0.8145, 1.8279, 0.4839, 0.7891, 0.2062, 0.6577, 1.2277, 1.3382, 1.0307, 0.347, 1.1483, 0.3042, 0.0749, 1.3659, 0.2058, 0.5344, 0.1825, -0.3628, 0.4412, 0.281, -0.201, -0.1757, -0.302, -0.5378, -0.2167, 0.1104, 0.3832, -0.5055, 2.7509, 2.7487, 2.7473, 2.7343, 2.7274, 2.7234, 2.7157, 2.7117, 2.7099, 2.7073, 2.7063, 2.7024, 2.6949, 2.6882, 2.6874, 2.6819, 2.6808, 2.6796, 2.6787, 2.6776, 2.6733, 2.659, 2.6542, 2.653, 2.6456, 2.6449, 2.6395, 2.6364, 2.6362, 2.6355, 2.6148, 2.6232, 2.6146, 2.5046, 2.5327, 2.4415, 2.253, 2.5477, 2.001, 1.979, 1.8995, 1.638, 1.7555, 1.647, 0.3179, 2.0675, 0.6669, 0.9568, 0.7197, 0.7411, 0.5915, 1.861, 1.5106, 0.0404, 1.0582, 0.0375, 0.7205, 0.7166, 0.0004, 0.1888, 0.0093, 0.1482, -0.5536, 0.1728, -0.1667, 0.469, 0.2136, -0.3082, 0.2184, 0.4153, 2.7689, 2.7629, 2.7516, 2.7425, 2.7409, 2.7374, 2.7331, 2.7189, 2.7079, 2.7063, 2.7024, 2.7011, 2.6957, 2.6923, 2.683, 2.6792, 2.6782, 2.6778, 2.6777, 2.6767, 2.6765, 2.6763, 2.6602, 2.6582, 2.6545, 2.6531, 2.6345, 2.6337, 2.6334, 2.633, 2.6236, 2.6198, 2.5936, 2.4754, 2.4516, 2.4808, 2.5585, 2.5544, 2.3857, 2.1805, 2.447, 2.2317, 1.8719, 1.1115, 0.3535, 1.6333, 1.6517, 0.7445, 0.3482, 0.3255, 0.357, 0.7885, 0.444, 0.0091, 0.045, -0.1395, 0.3991, 0.5274, 0.3211, 0.0197, 0.2436, -0.3689, -0.0264, 0.3996, 0.2508, 0.0537, -0.3704, -0.2413, 0.1434, 0.1413, 0.408, -0.1262, 0.2935, 3.6503, 3.6426, 3.6191, 3.6134, 3.591, 3.5775, 3.5768, 3.5766, 3.5644, 3.5493, 3.5489, 3.5488, 3.5485, 3.5445, 3.5286, 3.4957, 3.4944, 3.4613, 3.4594, 3.4563, 3.456, 3.4539, 3.4085, 3.3989, 3.3984, 3.3984, 3.3979, 3.3978, 3.3962, 3.3955, 3.3003, 3.0299, 3.3166, 3.2395, 2.8539, 3.2624, 2.8202, 2.7301, 2.7406, 2.8527, 2.9939, 2.3524, 2.7364, 2.3901, 1.8533, 1.4054, 2.0008, 0.7323, 0.9987, 0.4123, 1.2722, 2.9382, 2.7645, 1.1052, 1.4424, 1.6387, 0.3562, 0.3391, 1.5881, -0.0825, 2.0073, 0.4606, 1.0805, 0.0761, 0.0694, 0.1885, 0.6837, 0.5599, -1.1629, 0.536, 0.1252, 3.7198, 3.7007, 3.7003, 3.6931, 3.6899, 3.6861, 3.6835, 3.6686, 3.6638, 3.6474, 3.6372, 3.637, 3.6209, 3.6095, 3.5988, 3.5987, 3.5987, 3.5974, 3.5725, 3.5685, 3.5659, 3.5602, 3.5287, 3.5281, 3.5279, 3.526, 3.4962, 3.479, 3.4776, 3.4772, 3.4751, 3.4259, 3.2315, 3.3283, 3.3232, 2.7913, 3.0007, 3.1939, 2.4804, 2.7252, 2.91, 2.9172, 1.3567, 2.0591, 1.4804, 1.3807, 0.0302, 1.0725, 1.3386, 1.2381, 1.4154, 0.2185, 0.1282, 0.8049, 0.3641, 0.0526, -0.3506, 0.7404, -0.3234, -0.347, 0.8472, 0.5094, 0.2411, 0.2196, -0.3062, 0.5247]}, \"token.table\": {\"Topic\": [1, 2, 3, 4, 5, 6, 7, 8, 9, 10, 4, 5, 1, 2, 3, 4, 6, 7, 8, 10, 8, 1, 2, 3, 4, 5, 6, 8, 2, 3, 4, 5, 7, 6, 10, 6, 10, 6, 1, 2, 3, 4, 5, 6, 7, 8, 9, 10, 1, 1, 6, 7, 1, 2, 3, 4, 5, 6, 7, 8, 9, 10, 6, 7, 6, 10, 2, 10, 1, 3, 4, 5, 6, 10, 4, 4, 5, 5, 3, 5, 5, 10, 1, 2, 3, 4, 5, 6, 7, 8, 9, 10, 1, 2, 3, 4, 5, 6, 7, 8, 9, 10, 1, 2, 3, 4, 8, 9, 7, 1, 2, 3, 4, 5, 6, 7, 8, 10, 4, 1, 8, 1, 2, 3, 4, 5, 6, 7, 8, 9, 10, 1, 2, 6, 6, 1, 2, 3, 4, 5, 6, 7, 8, 9, 7, 1, 3, 1, 4, 1, 2, 3, 4, 5, 6, 8, 9, 10, 3, 4, 10, 7, 2, 3, 5, 6, 9, 9, 2, 4, 8, 5, 10, 1, 2, 3, 4, 5, 6, 7, 8, 9, 10, 9, 5, 2, 3, 4, 5, 6, 7, 9, 10, 5, 4, 4, 1, 2, 4, 6, 9, 1, 2, 3, 4, 5, 6, 7, 8, 9, 10, 3, 1, 1, 2, 3, 4, 5, 6, 7, 8, 9, 10, 1, 2, 3, 4, 5, 7, 8, 10, 1, 2, 3, 4, 5, 6, 8, 9, 10, 3, 5, 3, 3, 9, 10, 3, 2, 7, 4, 6, 10, 3, 4, 7, 10, 3, 5, 7, 1, 2, 3, 4, 5, 6, 7, 8, 9, 8, 2, 7, 1, 2, 3, 4, 5, 6, 7, 8, 10, 4, 6, 1, 3, 4, 7, 10, 4, 7, 10, 7, 1, 2, 3, 4, 5, 6, 7, 8, 9, 10, 1, 2, 3, 4, 5, 6, 8, 9, 5, 8, 4, 5, 8, 1, 2, 3, 4, 5, 6, 7, 8, 1, 3, 6, 2, 1, 2, 3, 4, 5, 6, 7, 8, 10, 9, 5, 4, 1, 2, 3, 4, 5, 6, 1, 2, 3, 4, 5, 6, 7, 8, 9, 10, 1, 2, 3, 4, 5, 6, 7, 8, 9, 10, 2, 3, 10, 4, 7, 10, 2, 3, 4, 5, 7, 10, 4, 1, 2, 3, 4, 5, 6, 7, 8, 9, 10, 6, 10, 10, 7, 2, 1, 2, 3, 4, 5, 6, 7, 8, 9, 10, 5, 8, 1, 2, 4, 5, 6, 7, 8, 1, 2, 3, 4, 5, 6, 7, 8, 9, 10, 1, 2, 3, 4, 5, 6, 7, 8, 10, 2, 3, 5, 8, 1, 3, 7, 1, 2, 3, 4, 5, 6, 7, 8, 9, 7, 4, 2, 3, 5, 10, 1, 2, 3, 4, 5, 6, 7, 8, 9, 2, 3, 8, 2, 1, 2, 3, 4, 5, 6, 7, 8, 9, 10, 9, 1, 2, 3, 4, 5, 8, 10, 1, 2, 3, 4, 5, 6, 7, 8, 9, 2, 3, 8, 1, 2, 4, 10, 5, 1, 2, 3, 4, 5, 6, 7, 8, 10, 6, 6, 3, 1, 2, 3, 4, 5, 6, 7, 9, 7, 9, 1, 2, 3, 4, 5, 6, 7, 8, 1, 2, 3, 4, 5, 6, 10, 8, 5, 9, 9, 1, 1, 2, 3, 4, 5, 6, 7, 8, 9, 10, 1, 2, 3, 4, 5, 6, 7, 8, 9, 10, 1, 2, 3, 4, 5, 6, 7, 8, 1, 2, 3, 4, 5, 6, 7, 8, 10, 1, 2, 3, 4, 9, 10, 5, 5, 6, 8, 10, 2, 4, 7, 1, 2, 3, 4, 5, 6, 7, 8, 9, 10, 2, 3, 4, 1, 2, 3, 5, 7, 9, 1, 4, 7, 9, 9, 1, 2, 3, 4, 5, 6, 1, 2, 3, 4, 5, 6, 7, 8, 2, 2, 3, 3, 3, 1, 2, 3, 4, 5, 6, 7, 8, 9, 10, 4, 6, 1, 2, 3, 4, 5, 6, 7, 8, 10, 1, 2, 3, 4, 5, 6, 7, 8, 9, 10, 1, 2, 3, 4, 5, 6, 7, 8, 1, 2, 3, 4, 5, 6, 7, 8, 9, 10, 8, 1, 2, 5, 7, 9, 2, 6, 2, 8, 1, 2, 3, 4, 5, 6, 7, 8, 9, 10, 8, 4, 6, 8, 8, 8, 1, 1, 3, 4, 5, 7, 8, 9, 1, 2, 3, 5, 7, 2, 1, 2, 3, 4, 5, 6, 7, 8, 9, 10, 1, 5, 1, 3, 4, 7, 8, 10, 5, 3, 1, 2, 3, 4, 5, 6, 7, 8, 9, 10, 1, 2, 3, 6, 10, 3, 8, 1, 2, 3, 4, 5, 6, 7, 8, 9, 6, 1, 2, 3, 4, 5, 6, 7, 2, 4, 1, 2, 6, 9, 1, 3, 7, 1, 5, 1, 2, 3, 4, 5, 6, 7, 10, 3, 5, 2, 1, 2, 3, 4, 7, 8, 9, 10, 7, 1, 3, 4, 5, 6, 8, 9, 10, 1, 2, 3, 4, 5, 6, 7, 8, 9, 10, 10, 7, 10, 1, 2, 3, 4, 5, 6, 7, 8, 9, 10, 2, 1, 2, 3, 4, 5, 6, 7, 8, 9, 10, 1, 2, 3, 4, 5, 6, 7, 8, 9, 2, 5, 1, 6, 7, 10, 6, 10, 1, 2, 3, 4, 5, 6, 7, 8, 9, 1, 2, 3, 4, 5, 6, 7, 8, 9, 10, 5, 5, 2, 1, 2, 3, 4, 5, 6, 7, 8, 9, 10, 8, 1, 2, 3, 4, 6, 7, 10, 4, 3, 9, 1, 2, 3, 4, 5, 6, 7, 8, 9, 10, 1, 2, 3, 4, 5, 6, 7, 8, 9, 10, 3, 1, 2, 3, 4, 5, 6, 7, 8, 9, 1, 2, 3, 4, 5, 6, 7, 5, 8, 1, 2, 3, 4, 5, 6, 7, 8, 4, 4, 5, 10, 1, 2, 3, 5, 6, 7, 9, 10, 1, 5, 9, 1, 2, 3, 4, 5, 6, 7, 9, 10, 1, 2, 3, 4, 5, 6, 7, 8, 9, 10, 6, 2, 3, 6, 1, 4, 4, 6, 10, 9, 1, 2, 3, 4, 5, 6, 7, 8, 10, 9, 1, 4, 5, 6, 5, 4, 5, 10, 2, 4, 10, 6, 8, 3, 8, 1, 2, 3, 4, 5, 6, 7, 8, 9, 10, 3, 4, 5, 7, 1, 2, 3, 4, 5, 6, 7, 8, 9, 5, 1, 2, 3, 4, 5, 6, 7, 8, 1, 5, 2, 4, 5, 6, 8, 1, 2, 3, 4, 5, 6, 7, 8, 9, 10, 2, 2, 8, 6, 10, 1, 2, 3, 4, 5, 6, 7, 8, 9, 10, 1, 2, 3, 5, 6, 7, 8, 9, 3, 3, 9, 1, 2, 5, 6, 7, 8, 8, 1, 2, 3, 4, 5, 6, 7, 8, 9, 1, 2, 3, 9, 1, 2, 3, 4, 7, 1, 2, 3, 4, 5, 6, 8, 1, 8, 2, 4, 1, 2, 3, 4, 5, 6, 7, 8, 9, 10, 8, 9, 1, 3, 8, 9, 1, 5, 9, 3, 1, 3, 5, 6, 1, 3, 7, 3, 1, 2, 7, 5, 7, 2, 1, 2, 3, 6, 7, 2, 1, 2, 3, 4, 5, 6, 7, 8, 9, 6, 1, 2, 3, 4, 5, 6, 7, 10, 1, 2, 3, 4, 5, 6, 7, 8, 9, 10, 1, 2, 3, 4, 6, 7, 10, 2, 10, 8, 2, 1, 1, 2, 3, 4, 5, 6, 7, 9, 5, 5, 1, 7, 1, 2, 3, 4, 5, 6, 7, 8, 9, 10, 1, 2, 3, 4, 5, 6, 7, 10, 1, 2, 3, 4, 5, 6, 7, 8, 9, 10, 4, 9, 9, 7, 9, 1, 3, 8, 1, 2, 3, 4, 5, 6, 7, 8, 9, 10, 8, 1, 3, 5, 8, 1, 2, 3, 4, 5, 6, 7, 8, 9, 10, 1, 7, 6, 1, 2, 3, 4, 5, 6, 7, 8, 9, 10, 5, 5, 6, 3, 4, 6, 10, 2, 4, 6, 9, 1, 2, 3, 4, 5, 6, 7, 9, 9, 3, 5, 2, 1, 2, 3, 4, 5, 6, 7, 8, 9, 10, 1, 2, 3, 4, 5, 6, 7, 10, 2, 3, 4, 6, 7, 1, 3, 4, 3, 2, 6, 1, 2, 3, 4, 5, 6, 7, 8, 9, 10, 2, 5, 5, 2, 3, 4, 6, 7, 1, 2, 3, 4, 5, 6, 8, 10, 10, 5, 1, 2, 3, 4, 5, 6, 7, 8, 9, 10, 1, 2, 3, 4, 5, 6, 7, 8, 9, 10, 4, 6, 2, 1, 4, 10, 1, 3, 5, 7, 6, 1, 2, 3, 4, 5, 6, 7, 8, 9, 1, 2, 3, 4, 5, 6, 7, 8, 9, 10, 1, 2, 3, 4, 5, 6, 7, 8, 9, 10, 1, 2, 3, 4, 5, 6, 8, 10, 3, 5, 6, 10, 1, 2, 3, 4, 5, 6, 7, 8, 9, 10, 1, 2, 7, 1, 2, 2, 2, 10, 1, 1, 1, 2, 3, 4, 5, 6, 7, 8, 9, 1, 8, 1, 2, 3, 5, 6, 7, 8, 10, 1, 1, 3, 4, 5, 6, 7, 8, 10, 2, 1, 2, 3, 7, 1, 2, 3, 5, 6, 7, 8, 8, 1, 2, 3, 4, 5, 6, 7, 8, 9, 10, 4, 1, 3, 5, 7, 8, 1, 2, 3, 7, 8, 9, 1, 6, 8, 9, 10, 1, 2, 5, 7, 10, 1, 1, 2, 3, 4, 5, 6, 7, 8, 9, 10, 1, 6, 10, 1, 10, 5, 1, 2, 3, 4, 5, 6, 7, 8, 9, 3, 3, 6, 1, 2, 3, 4, 5, 6, 7, 8, 9, 10, 4, 3, 10, 1, 2, 3, 4, 5, 6, 7, 8, 9, 10, 10, 1, 2, 3, 4, 5, 6, 7, 8, 9, 10, 5, 4, 4, 4, 6, 4, 6, 6, 10, 1, 2, 3, 4, 5, 6, 7, 8, 9, 10, 1, 2, 5, 9, 1, 2, 3, 4, 5, 6, 7, 9, 10, 1, 2, 3, 4, 5, 6, 8, 9, 1, 2, 3, 9, 1, 2, 3, 4, 5, 6, 7, 8, 9, 10, 9, 3, 4, 3, 6, 10, 4, 1, 2, 3, 5, 6, 8, 9, 7, 1, 2, 3, 4, 5, 6, 7, 8, 9, 10, 10, 10, 7, 10, 1, 2, 3, 4, 5, 6, 7, 8, 1, 1, 2, 3, 4, 5, 6, 8, 9, 10, 3, 5, 3, 1, 5, 6, 7, 8, 10, 7, 1, 5, 6, 8, 8, 7, 1, 9, 1, 2, 3, 4, 5, 6, 7, 8, 10, 1, 2, 3, 6, 8, 1, 4, 5, 1, 4, 6, 7, 10, 3, 7, 7, 1, 2, 3, 4, 5, 6, 7, 8, 9, 7, 7, 7, 7, 1, 2, 3, 4, 5, 6, 7, 8, 9, 10, 4, 1, 2, 3, 5, 6, 7, 7, 7, 1, 2, 3, 4, 5, 8, 9, 3, 10, 5, 8, 1, 2, 3, 4, 5, 6, 7, 8, 9, 10, 4, 4, 6, 4, 6, 10, 1, 2, 3, 4, 5, 6, 7, 8, 9, 10, 10, 3, 1, 2, 3, 4, 5, 6, 7, 8, 10, 1, 2, 3, 4, 5, 6, 7, 8, 9, 10, 4, 7, 4, 1, 4, 2, 5, 1, 2, 3, 4, 5, 6, 7, 8, 9, 10, 1, 2, 4, 1, 2, 3, 4, 5, 6, 7, 8, 9, 6, 1, 2, 3, 4, 5, 6, 7, 8, 9, 10, 1, 2, 3, 4, 5, 6, 8, 1, 2, 3, 4, 5, 8, 10, 2, 4, 4, 1, 5, 9, 9, 3, 8, 1, 2, 3, 4, 5, 6, 7, 8, 9, 10, 1, 2, 3, 4, 5, 6, 7, 8, 9, 10, 1, 1, 2, 3, 4, 5, 6, 9, 2, 6, 6, 6, 7, 3, 1, 2, 3, 4, 5, 6, 7, 9, 10, 9, 9, 1, 3, 4, 6, 7, 8, 8, 2, 2, 5, 10, 4, 8, 9, 1, 2, 3, 4, 5, 6, 7, 8, 9, 10, 1, 2, 3, 5, 10, 6, 1, 2, 3, 4, 5, 6, 7, 8, 9, 10, 1, 2, 3, 4, 5, 6, 7, 8, 9, 10, 1, 2, 3, 4, 5, 6, 7, 8, 9, 10, 1, 2, 3, 4, 5, 6, 7, 8, 9, 10, 1, 2, 3, 4, 5, 7, 8, 9, 10, 1, 2, 3, 4, 5, 6, 7, 8, 9, 10, 7, 7, 1, 7, 8, 9, 7, 6, 2, 6, 10, 1, 8, 1, 3, 8, 1, 2, 3, 4, 5, 6, 7, 8, 9, 10, 1, 8, 1, 2, 3, 4, 5, 6, 7, 8, 9, 10, 3, 3, 1, 2, 3, 4, 5, 6, 7, 8, 9, 10, 8, 9, 6, 1, 3], \"Freq\": [0.1224520913696484, 0.20117129296442235, 0.09621235750472373, 0.07871920159477397, 0.3148768063790959, 0.01749315590994977, 0.008746577954974886, 0.008746577954974886, 0.1224520913696484, 0.026239733864924654, 0.9778640420152993, 0.9462564588376555, 0.17654242140029783, 0.056172588627367494, 0.008024655518195357, 0.24876432106405605, 0.34506018728240034, 0.11234517725473499, 0.04012327759097678, 0.008024655518195357, 0.8557198189119621, 0.03743927847027582, 0.04991903796036775, 0.04991903796036775, 0.34943326572257427, 0.08735831643064357, 0.024959518980183875, 0.3868725441928501, 0.09211566944644901, 0.04605783472322451, 0.11514458680806126, 0.5757229340403063, 0.16120242153128575, 0.9111677245233426, 0.06876737543572398, 0.8555050165182583, 0.06580807819371218, 0.9409194948336852, 0.1826993278671613, 0.25434612310918536, 0.12538189167354208, 0.03582339762101202, 0.07164679524202404, 0.2006110266776673, 0.03044988797786022, 0.06448211571782164, 0.028658718096809616, 0.007164679524202404, 0.9076252489796139, 0.0540340927173488, 0.0540340927173488, 0.8645454834775808, 0.21899701050608322, 0.1767618727656243, 0.18771172329092847, 0.11419129833531481, 0.08603453984167554, 0.06569910315182496, 0.07352042495561364, 0.03910660901894343, 0.014078379246819634, 0.02346396541136606, 0.07725188350965181, 0.8497707186061699, 0.07828252716969601, 0.8611077988666561, 0.09589177476143637, 0.8630259728529274, 0.02450972187933483, 0.012254860939667414, 0.8946048485957213, 0.012254860939667414, 0.036764582819002245, 0.012254860939667414, 0.9601196488123513, 0.9559420694136264, 0.921481287759809, 0.9317263380945556, 0.12219190633657583, 0.8553433443560308, 0.9577494463163533, 0.9536328834892334, 0.294623574266199, 0.17832479495059414, 0.17677414455971943, 0.07598186915286186, 0.08218447071636079, 0.048070162117116684, 0.038766259771868296, 0.07753251954373659, 0.012405203126997853, 0.01705715429962205, 0.12001626672974151, 0.17573810485426436, 0.09858479052800195, 0.08143960956661031, 0.12001626672974151, 0.25289141918052677, 0.021431476201739557, 0.10287108576834987, 0.017145180961391646, 0.004286295240347912, 0.10399062153102238, 0.791928579351632, 0.007999278579309415, 0.01599855715861883, 0.07199350721378472, 0.902706591172405, 0.9300177388213862, 0.04517539139599472, 0.01129384784899868, 0.04517539139599472, 0.6889247187889195, 0.10164463064098811, 0.03388154354699604, 0.01129384784899868, 0.04517539139599472, 0.02258769569799736, 0.9362240468842685, 0.9588755357282049, 0.9001559469405935, 0.15829805311566042, 0.15506748060309591, 0.20191078203528115, 0.10014774788949946, 0.11307003793975745, 0.06622673650757221, 0.12760761424629768, 0.05007387394474973, 0.01938343507538699, 0.008076431281411245, 0.9671087894901454, 0.9665130548008033, 0.9210985661034359, 0.9319728210349782, 0.19302456179038466, 0.05874660576229098, 0.025177116755267563, 0.04196186125877927, 0.08392372251755854, 0.06713897801404684, 0.4447957293430603, 0.025177116755267563, 0.05874660576229098, 0.813663231350664, 0.9400632150823234, 0.04178058733699215, 0.907595860523186, 0.9436461367095876, 0.1954951377763156, 0.09199771189473675, 0.48298798744736793, 0.03449914196052628, 0.045998855947368376, 0.09199771189473675, 0.03449914196052628, 0.011499713986842094, 0.005749856993421047, 0.07485635922736583, 0.2245690776820975, 0.6737072330462925, 0.9403224892108006, 0.821825159195479, 0.028338798592947554, 0.028338798592947554, 0.05667759718589511, 0.028338798592947554, 0.9026979848087924, 0.9832877531294979, 0.9597746276259829, 0.8250417804811225, 0.9114639647020581, 0.919361637040387, 0.29748252118473995, 0.1666746040680458, 0.1434667478054065, 0.059074543213990915, 0.13291772223147955, 0.08650200970620098, 0.05485493298442013, 0.048525517640063964, 0.008439220459141559, 0.0021098051147853897, 0.8892227213494613, 0.8868706003267387, 0.019149163085572737, 0.009574581542786368, 0.37340868016866835, 0.09574581542786369, 0.3542595170830956, 0.019149163085572737, 0.009574581542786368, 0.11489497851343641, 0.931782043080267, 0.9718406678662455, 0.962037818014718, 0.010006779444555752, 0.16010847111289203, 0.010006779444555752, 0.7705220172307929, 0.04002711777822301, 0.10189462296731637, 0.18027510217294435, 0.3566311803856073, 0.14304437455027105, 0.11561120682830127, 0.045068775543236086, 0.015676095841125597, 0.025473655741829093, 0.009797559900703497, 0.007838047920562799, 0.9313523392074056, 0.946586932826592, 0.0952149107579603, 0.12451180637579425, 0.34912133944585444, 0.1391602541847112, 0.07080083107643202, 0.009765631872611313, 0.0024414079681528283, 0.13183603028025273, 0.026855487649681112, 0.051269567331209395, 0.21398349729366697, 0.034237359566986716, 0.44936534431670067, 0.021398349729366696, 0.13694943826794687, 0.04707636940460674, 0.08559339891746678, 0.012839009837620019, 0.009424114646509642, 0.395812815153405, 0.34240949882318367, 0.07539291717207713, 0.009424114646509642, 0.01256548619534619, 0.10680663266044262, 0.05026194478138476, 0.0031413715488365474, 0.9478365984786924, 0.027877547014079188, 0.9174942947141332, 0.13127922358981806, 0.7876753415389084, 0.8950106545084754, 0.9539199751913439, 0.9154360440631667, 0.8680694883570084, 0.9598016114274462, 0.15509515509869393, 0.8142495642681432, 0.07182678006537527, 0.07182678006537527, 0.7900945807191279, 0.8952189281958224, 0.8811695851842809, 0.038311721094968734, 0.038311721094968734, 0.3529012911807095, 0.34937227826890244, 0.1305734777368625, 0.017645064559035476, 0.04587716785349224, 0.05999321950072062, 0.014116051647228381, 0.024703090382649666, 0.007058025823614191, 0.8250181848660195, 0.9616325578393354, 0.9302324544048133, 0.14482881855441404, 0.16655314133757615, 0.03620720463860351, 0.07241440927720702, 0.03620720463860351, 0.07965585020492773, 0.41276213288008007, 0.03620720463860351, 0.014482881855441405, 0.936197263106765, 0.9210931643875343, 0.9418910502075609, 0.028871961747157074, 0.8661588524147122, 0.028871961747157074, 0.05774392349431415, 0.8890117683430578, 0.015596697690229085, 0.07798348845114543, 0.9722810542382765, 0.14433905175834075, 0.1571691896924155, 0.16358425865945286, 0.08981096553852314, 0.2309424828133452, 0.06735822415389235, 0.06094315518685499, 0.06415068967037367, 0.012830137934074734, 0.0032075344835186836, 0.07903129762884185, 0.5193485272752465, 0.13548222450658604, 0.045160741502195345, 0.11290185375548836, 0.05645092687774418, 0.011290185375548836, 0.03387055612664651, 0.09976348237708114, 0.7981078590166492, 0.07803873446634704, 0.07803873446634704, 0.7803873446634705, 0.08123229484291701, 0.06769357903576417, 0.3046211056609388, 0.040616147421458505, 0.41970019002173786, 0.02707743161430567, 0.020308073710729253, 0.040616147421458505, 0.855304588960357, 0.047516921608908726, 0.047516921608908726, 0.9601447897109749, 0.17279417526820096, 0.0976662729776788, 0.11269185343578322, 0.16528138503914874, 0.08264069251957437, 0.07512790229052216, 0.04507674137431329, 0.06761511206146993, 0.18030696549725317, 0.8890500132456854, 0.8862989828441237, 0.9412364865996051, 0.63081736721066, 0.16456105231582432, 0.15084763128950562, 0.013713421026318694, 0.013713421026318694, 0.013713421026318694, 0.20128894890574314, 0.29323575272688507, 0.1491029251153653, 0.11928234009229223, 0.03230563377499581, 0.06709631630191437, 0.007455146255768264, 0.05218602379037785, 0.014910292511536529, 0.06709631630191437, 0.22622104815918537, 0.18679663312729414, 0.23560781364296898, 0.07791015351540409, 0.07791015351540409, 0.05444323980594502, 0.024405590257837423, 0.08541956590243098, 0.006570735838648537, 0.024405590257837423, 0.96641064213418, 0.9593388193626915, 0.8317215701053985, 0.8687153744378472, 0.034748614977513886, 0.06949722995502777, 0.026500840263566538, 0.026500840263566538, 0.7331899139586743, 0.04416806710594423, 0.1325042013178327, 0.026500840263566538, 0.9656391107079315, 0.2613052446251684, 0.150511820904097, 0.18186845025911721, 0.06271325871004042, 0.12960740133408352, 0.10870298176407006, 0.018813977613012126, 0.04598972305402964, 0.0397183971830256, 0.0020904419570013473, 0.22791182052692302, 0.6837354615807691, 0.9194078038072092, 0.9302832067444463, 0.9156677062988526, 0.12832178298576064, 0.17109571064768084, 0.02444224437824012, 0.05499504985104027, 0.11610066079664058, 0.1405429051748807, 0.31774917691712157, 0.01833168328368009, 0.01833168328368009, 0.01222112218912006, 0.07842907560546206, 0.8627198316600826, 0.05887713898444933, 0.794841376290066, 0.044157854238337, 0.029438569492224665, 0.029438569492224665, 0.014719284746112333, 0.014719284746112333, 0.17912497589198434, 0.17464685149468473, 0.14777810511088707, 0.1455390429122373, 0.09180155014464197, 0.07164999035679374, 0.06717186595949413, 0.102996861137891, 0.017912497589198436, 0.006717186595949413, 0.10453234948082037, 0.1595493755233574, 0.4676447213615648, 0.04401362083402963, 0.07152213385529815, 0.03851191822977593, 0.07702383645955185, 0.01650510781276111, 0.01650510781276111, 0.7838044487790632, 0.13063407479651054, 0.032658518699127635, 0.032658518699127635, 0.89782449640698, 0.9065267705664528, 0.06475191218331806, 0.2121742834890968, 0.04420297572689517, 0.07072476116303228, 0.23869606892523393, 0.06188416601765324, 0.0795653563084113, 0.2828990446521291, 0.008840595145379035, 0.008840595145379035, 0.9615349460305435, 0.9722066741863101, 0.037868102752301284, 0.07573620550460257, 0.8709663633029295, 0.840374815886722, 0.10606986714823155, 0.5689201965223328, 0.1687475159176411, 0.019285430390587555, 0.06267764876940955, 0.024106787988234443, 0.009642715195293777, 0.019285430390587555, 0.014464072792940666, 0.9265501468743007, 0.029888714415300024, 0.029888714415300024, 0.9663904394086995, 0.37197871470798904, 0.06863892949968846, 0.11845750736236557, 0.05867521392715304, 0.1405990975235554, 0.128421222934901, 0.063103531959391, 0.047604418846558125, 0.0011070795080594914, 0.0011070795080594914, 0.8891823393252725, 0.051995469587839016, 0.05672233045946075, 0.15125954789189533, 0.3592414262432514, 0.2599773479391951, 0.023634304358108645, 0.09453721743243458, 0.08714198786803395, 0.15843997794187992, 0.1901279735302559, 0.01584399779418799, 0.13467398125059793, 0.023765996691281988, 0.32480195478085383, 0.047531993382563975, 0.01584399779418799, 0.38404991762377894, 0.05120665568317053, 0.5376698846732906, 0.9551732272406899, 0.12675211058156033, 0.4225070352718677, 0.4225070352718677, 0.981740206659289, 0.06518828377536584, 0.004345885585024389, 0.06953416936039022, 0.1216847963806829, 0.078225940530439, 0.5215062702029267, 0.09560948287053656, 0.03476708468019511, 0.013037656755073167, 0.9481432309862916, 0.9319019313803549, 0.9234117912701346, 0.08105626884142651, 0.10807502512190202, 0.032422507536570604, 0.15130503517066282, 0.08105626884142651, 0.016211253768285302, 0.005403751256095101, 0.5133563693290346, 0.9403840124492795, 0.8892095527928925, 0.060143498117849616, 0.5011958176487468, 0.04510762358838721, 0.07517937264731202, 0.12028699623569923, 0.09522720535326189, 0.05011958176487468, 0.05011958176487468, 0.0053638813527888355, 0.4291105082231068, 0.35938005063685197, 0.1501886778780874, 0.016091644058366505, 0.0053638813527888355, 0.042911050822310684, 0.9162812913366334, 0.9321752834175008, 0.9377162159698866, 0.7150809202158489, 0.8977400140034045, 0.13823581138146626, 0.10456298553213474, 0.29242190869156326, 0.05493987375417249, 0.17545314521493796, 0.05316761976210241, 0.07620692165901345, 0.07797917565108353, 0.0017722539920700803, 0.024811555888981124, 0.2654055608674469, 0.11969270392061329, 0.07632578221024615, 0.08499916655231958, 0.1526515644204923, 0.10234593523646643, 0.1301007651311014, 0.060713690394513985, 0.0034693537368293706, 0.0052040306052440555, 0.2742490130142345, 0.022322594082553972, 0.15944710058967124, 0.08610143431842246, 0.2965716070967885, 0.05421201420048822, 0.08929037633021589, 0.015944710058967124, 0.16700051630395904, 0.0974169678439761, 0.05566683876798635, 0.006958354845998294, 0.3618344519919113, 0.2226673550719454, 0.04175012907598976, 0.03479177422999147, 0.006958354845998294, 0.26492071837369763, 0.11353745073158471, 0.037845816910528234, 0.07569163382105647, 0.4163039860158106, 0.07569163382105647, 0.9317928305655266, 0.05257932381481934, 0.05257932381481934, 0.7886898572222901, 0.05257932381481934, 0.1156286281751578, 0.019271438029192966, 0.8479432732844906, 0.23960400391096956, 0.11181520182511913, 0.16612544271160556, 0.12139936198155792, 0.13737296224228923, 0.03194720052146261, 0.05111552083434018, 0.03514192057360887, 0.015973600260731306, 0.09264688151224157, 0.0513586170652244, 0.0513586170652244, 0.8730964901088147, 0.1680497857268429, 0.024007112246691845, 0.13203911735680515, 0.08402489286342145, 0.5881742500439502, 0.7155830792511969, 0.0996917975083629, 0.8307649792363575, 0.0332305991694543, 0.9022248812463457, 0.7978937445584247, 0.13361002204562145, 0.03340250551140536, 0.03340250551140536, 0.03340250551140536, 0.03340250551140536, 0.7014526157395126, 0.055079892620001555, 0.7711184966800219, 0.027539946310000778, 0.013769973155000389, 0.06884986577500195, 0.013769973155000389, 0.013769973155000389, 0.027539946310000778, 0.9069339899434978, 0.9621298150645822, 0.9403788141151422, 0.9640289784087792, 0.9402207341536689, 0.24502370814163846, 0.12953482659717191, 0.2028858729835223, 0.19508257017646374, 0.12017086322870167, 0.03433453235105762, 0.01404594505270539, 0.02028858729835223, 0.03589519291246933, 0.0031213211228234197, 0.9362228296513099, 0.9408357930357442, 0.22709530538601075, 0.044311279099709416, 0.08862255819941883, 0.10523928786180986, 0.0720058285370278, 0.2880233141481112, 0.09416146808688251, 0.005538909887463677, 0.06646691864956412, 0.14884698761906628, 0.17770507705541586, 0.10024388962100382, 0.26276049855202516, 0.10935697049564053, 0.08049888105929094, 0.039490017123425744, 0.044046557560744104, 0.02278270218659178, 0.015188468124394517, 0.05955434658662779, 0.006617149620736422, 0.06617149620736422, 0.5029033711759681, 0.03308574810368211, 0.2779202840709297, 0.006617149620736422, 0.039702897724418526, 0.2244266593600511, 0.1800632499516689, 0.15135751445212747, 0.06524030795350322, 0.1539671267702676, 0.07567875722606374, 0.039144184772101936, 0.05219224636280258, 0.020876898545121033, 0.039144184772101936, 0.8250367228919022, 0.2997244568762159, 0.059944891375243184, 0.059944891375243184, 0.059944891375243184, 0.47955913100194547, 0.06471256049208807, 0.8412632863971449, 0.840284397854967, 0.07002369982124726, 0.23437695867150765, 0.17061263903293572, 0.13097535925760723, 0.079274559550657, 0.14476223917946063, 0.08789135950181537, 0.044807359746023526, 0.06893439960926696, 0.029297119833938456, 0.00861679995115837, 0.8802562889272636, 0.0778536744119744, 0.0778536744119744, 0.7785367441197439, 0.9741153930350901, 0.7854934675711188, 0.916204308541808, 0.025477086454440766, 0.2929864942260688, 0.6114500749065784, 0.012738543227220383, 0.03821562968166115, 0.012738543227220383, 0.012738543227220383, 0.04613064730171078, 0.09226129460342156, 0.04613064730171078, 0.7380903568273725, 0.04613064730171078, 0.9600515527155229, 0.22415457203625078, 0.19280428224097093, 0.17634538009844902, 0.03448531877480781, 0.08934832591654751, 0.1473463620378152, 0.06426809408032365, 0.06348433683544165, 0.0015675144897639914, 0.006270057959055966, 0.8978928417482337, 0.8998342265662732, 0.6915597147704009, 0.01686731011635124, 0.18554041127986368, 0.05060193034905373, 0.05060193034905373, 0.8403168904126991, 0.8864532110077773, 0.9288506631761501, 0.2416210414450003, 0.16584639531136114, 0.1415413201364203, 0.08578261826449714, 0.1386818995276037, 0.11151740374384629, 0.03145362669698228, 0.06433696369837286, 0.014297103044082857, 0.004289130913224857, 0.8046384564166656, 0.16092769128333312, 0.043953575973343775, 0.8351179434935317, 0.08790715194668755, 0.9488351271289339, 0.027906915503792172, 0.022295166394597363, 0.3344274959189604, 0.028665213935910896, 0.09236568934904622, 0.2356917590286007, 0.11147583197298681, 0.009555071311970299, 0.003185023770656766, 0.15925118853283832, 0.9320201044170572, 0.08458189896688154, 0.05920732927681708, 0.6851133816317405, 0.13533103834701046, 0.016916379793376308, 0.008458189896688154, 0.008458189896688154, 0.8253752639126104, 0.1303224100914648, 0.06704461343127027, 0.033522306715635136, 0.8380576678908784, 0.033522306715635136, 0.8948385514044084, 0.02182533052205874, 0.06547599156617623, 0.9589899958701757, 0.9462055329713233, 0.07298696228273635, 0.09731594971031514, 0.07298696228273635, 0.07298696228273635, 0.024328987427578785, 0.1459739245654727, 0.48657974855157565, 0.04865797485515757, 0.9401806282014112, 0.9321121232703121, 0.9524150822331277, 0.04820636897791182, 0.04820636897791182, 0.18077388366716934, 0.33744458284538276, 0.03615477673343387, 0.3133413983564268, 0.02410318448895591, 0.012051592244477955, 0.9493989492927761, 0.3713424168303283, 0.4641780210379104, 0.00714120032366016, 0.1071180048549024, 0.00714120032366016, 0.02142360097098048, 0.00714120032366016, 0.00714120032366016, 0.12965540180867002, 0.19039486932264157, 0.023361333659219826, 0.48591574011177235, 0.04555460063547866, 0.014016800195531896, 0.022193266976258834, 0.012848733512570903, 0.0677478676117375, 0.008176466780726938, 0.9315446618648193, 0.8139484800096565, 0.7444493316292584, 0.04330864300282904, 0.07458710739376113, 0.050526750169967216, 0.1347380004532459, 0.10827160750707261, 0.5124856088668104, 0.026466392946173305, 0.01684225005665574, 0.019248285779035132, 0.014436214334276349, 0.960142663850134, 0.0676526249234548, 0.1499328444249539, 0.05302503034541051, 0.34740537122855164, 0.05851037831217712, 0.12067765526886531, 0.07679487153473247, 0.023769841189321954, 0.01462759457804428, 0.08959401679052122, 0.060114068602736916, 0.07347275051445623, 0.40410012782950927, 0.016698352389649142, 0.31392902492540387, 0.040076045735157946, 0.016698352389649142, 0.056774398124807085, 0.010019011433789487, 0.08855740541317778, 0.7970166487186, 0.9077079390900671, 0.9487968700334123, 0.01725085218242568, 0.01725085218242568, 0.8900745179335912, 0.7445518338318702, 0.15377794706507478, 0.08432984193891196, 0.520860788446221, 0.054566368313413625, 0.04960578937583057, 0.09425099981407808, 0.024802894687915286, 0.014881736812749171, 0.9433437442284883, 0.09491156313314363, 0.08746751896583825, 0.4317545617037122, 0.06141336438026941, 0.05955235333844306, 0.0037220220836526913, 0.007444044167305383, 0.1265487508441915, 0.10235560730044901, 0.02977617666922153, 0.9317840764500838, 0.870726637490667, 0.9356350898947604, 0.17671004376446306, 0.14257287621905543, 0.24498437885527835, 0.058233991695107144, 0.15261321961476357, 0.07630660980738178, 0.056225923015965525, 0.050201716978540645, 0.02409682414969951, 0.018072618112274633, 0.9599123257570251, 0.007466891029347891, 0.06346857374945708, 0.03360100963206551, 0.6944208657293539, 0.029867564117391564, 0.06720201926413102, 0.10080302889619654, 0.9710110684776159, 0.8769592638870268, 0.05480995399293918, 0.23912223399760105, 0.25868678041558657, 0.11883650416850476, 0.13260414794412423, 0.07608434718105488, 0.027535287551238907, 0.06449054189632271, 0.060867477744843905, 0.005796902642366086, 0.015941482266506737, 0.2134953128589635, 0.2630014723624913, 0.1485184785105833, 0.1268595337277899, 0.061882699379409704, 0.0216589447827934, 0.052600294472498255, 0.08354164416220311, 0.018564809813822913, 0.009282404906911457, 0.9402959658469809, 0.1888286320700984, 0.1708449528253271, 0.16784767295119857, 0.02997279874128546, 0.20681231131486968, 0.10190751572037056, 0.05994559748257092, 0.05994559748257092, 0.017983679244771275, 0.06276601905283266, 0.026899722451213998, 0.5738607456258986, 0.017933148300809332, 0.26899722451214, 0.035866296601618664, 0.008966574150404666, 0.8864101463298987, 0.9630945850836927, 0.12422652843748949, 0.05590193779687027, 0.18012846623435977, 0.0745359170624937, 0.09316989632811712, 0.31056632109372373, 0.13664918128123843, 0.012422652843748948, 0.9445536605371855, 0.19703955340332113, 0.19703955340332113, 0.5911186602099634, 0.062200818973667346, 0.24880327589466938, 0.12440163794733469, 0.23325307115125254, 0.031100409486833673, 0.07775102371708419, 0.18660245692100202, 0.031100409486833673, 0.071482966088731, 0.7863126269760411, 0.071482966088731, 0.5035330514907397, 0.04340802168023618, 0.18231369105699197, 0.06077123035233065, 0.034726417344188944, 0.008681604336047236, 0.017363208672094472, 0.13022406504070855, 0.017363208672094472, 0.2266374622645146, 0.07067189683517122, 0.14378075563017592, 0.09016759251383914, 0.18520910894734527, 0.13403290779084195, 0.03655442939750236, 0.09016759251383914, 0.0243696195983349, 0.00243696195983349, 0.9809854683465725, 0.09399407973976494, 0.09399407973976494, 0.798949677788002, 0.9550998317751245, 0.9362217361703805, 0.07661254453600756, 0.15322508907201512, 0.7661254453600757, 0.9556109326379252, 0.6655837687884473, 0.0366071072833646, 0.09983756531826708, 0.05324670150307578, 0.05990253919096025, 0.0033279188439422364, 0.0033279188439422364, 0.0732142145667292, 0.006655837687884473, 0.8451469524858138, 0.1089095034066132, 0.0272273758516533, 0.0272273758516533, 0.816821275549599, 0.9317883719385732, 0.07941929786959026, 0.31767719147836104, 0.5956447340219269, 0.06142123806678718, 0.18426371420036156, 0.7370548568014462, 0.9043227969821428, 0.8250073516156626, 0.4021122578607831, 0.5696590319694428, 0.20735007125548047, 0.12993937798676775, 0.14929205130394593, 0.12441004275328828, 0.11058670466958959, 0.09399869896915114, 0.06911669041849348, 0.063587355185014, 0.04423468186783583, 0.008294002850219218, 0.07066195816549227, 0.035330979082746135, 0.8126125189031611, 0.035330979082746135, 0.18324333921978897, 0.02290541740247362, 0.057263543506184046, 0.3722130327901963, 0.16606427616793373, 0.04008448045432884, 0.01145270870123681, 0.09162166960989448, 0.05153718915556564, 0.8997399454629753, 0.19909686232843588, 0.17312770637255295, 0.06925108254902118, 0.017312770637255295, 0.025969155955882943, 0.008656385318627648, 0.4587884218872653, 0.04328192659313824, 0.8975426874544219, 0.07479522395453515, 0.2004995414301634, 0.018227231039105764, 0.018227231039105764, 0.692634779486019, 0.05468169311731729, 0.18492244389853918, 0.2523094361666509, 0.11440117292028272, 0.026641369036230222, 0.20999667357969704, 0.08149124646376303, 0.003134278710144732, 0.08932694323912486, 0.03447706581159205, 0.003134278710144732, 0.9523792132888947, 0.9581834266355023, 0.9162389515635463, 0.8768706116521097, 0.08768706116521097, 0.22347210647669472, 0.1527059394257414, 0.1629484109725899, 0.12104739100820965, 0.09776904658355394, 0.06704163194300841, 0.062385963058077275, 0.08380203992876052, 0.003724535107944912, 0.026071745755614384, 0.13330770581569043, 0.2559507951661256, 0.5225662067975065, 0.01599692469788285, 0.01599692469788285, 0.026661541163138087, 0.01599692469788285, 0.010664616465255235, 0.9410651853420776, 0.16716777082502632, 0.6686710833001053, 0.7750853458845094, 0.016147611372593944, 0.06459044549037578, 0.04844283411778184, 0.06459044549037578, 0.03229522274518789, 0.9633450135523477, 0.4539455375901302, 0.17653437572949507, 0.10087678613114004, 0.018914397399588757, 0.1450103800635138, 0.05043839306557002, 0.02521919653278501, 0.02521919653278501, 0.7977815057248251, 0.1295318743204932, 0.08635458288032881, 0.08635458288032881, 0.6908366630426305, 0.07499948808594971, 0.07499948808594971, 0.024999829361983236, 0.04999965872396647, 0.7499948808594971, 0.2723509905172818, 0.06052244233717373, 0.1815673270115212, 0.08069658978289831, 0.05043536861431144, 0.04034829489144916, 0.31269928540873093, 0.9476074407053734, 0.825013925176968, 0.8101934517441007, 0.17361288251659301, 0.08608927847893304, 0.07476174183696817, 0.11100985909125577, 0.3497943315038753, 0.06434040812636048, 0.11191606202261296, 0.08518307554757586, 0.08608927847893304, 0.007702724916536115, 0.023561276215286937, 0.9436019934801799, 0.8889601741565084, 0.047625809475108714, 0.047625809475108714, 0.8810774752895112, 0.8578590014515397, 0.1297819351930364, 0.1297819351930364, 0.6489096759651821, 0.9417766183025834, 0.21559231883267904, 0.7114546521478409, 0.021559231883267905, 0.021559231883267905, 0.04699086038479231, 0.8928263473110539, 0.04699086038479231, 0.9427230399493286, 0.8678415169032444, 0.03616006320430185, 0.0723201264086037, 0.8511285411934458, 0.9041811098582603, 0.9523494915253109, 0.13496734814907985, 0.06748367407453992, 0.7198258567950925, 0.04498911604969328, 0.02249455802484664, 0.9523162053927944, 0.1392237599817924, 0.0696118799908962, 0.09745663198725467, 0.48728315993627336, 0.0696118799908962, 0.0696118799908962, 0.02784475199635848, 0.0348059399954481, 0.00696118799908962, 0.9072357834890171, 0.09816238661674381, 0.17996437546403032, 0.016360397769457302, 0.19632477323348763, 0.032720795538914604, 0.032720795538914604, 0.39264954646697525, 0.032720795538914604, 0.18447673661135144, 0.08183554481255441, 0.09570597613671616, 0.3037624459991426, 0.03606312144282058, 0.12344683878503969, 0.11235049372571028, 0.0013870431324161762, 0.02635381951590735, 0.03328903517798823, 0.05238519160927309, 0.10477038321854618, 0.05238519160927309, 0.10477038321854618, 0.4924208011271671, 0.07333926825298233, 0.12572445986225542, 0.13666989904581162, 0.6833494952290581, 0.9162568885174008, 0.9298614000509373, 0.9759299369277625, 0.025429079682046038, 0.2670053366614834, 0.17800355777432225, 0.012714539841023019, 0.050858159364092076, 0.10171631872818415, 0.08900177888716113, 0.2670053366614834, 0.9577685794503464, 0.8866767133703223, 0.060171288144865116, 0.9025693221729767, 0.17234541157348532, 0.18635723365263046, 0.17234541157348532, 0.06865792818781123, 0.13030994533604986, 0.10929221221733215, 0.07146029260364026, 0.05324492390075156, 0.02662246195037578, 0.009808275455401604, 0.05961450984634802, 0.19587624663800066, 0.06813086839582631, 0.5620796642655671, 0.025549075648434866, 0.01703271709895658, 0.05109815129686973, 0.01703271709895658, 0.3010317348894537, 0.11557468393077239, 0.1290136006669087, 0.11557468393077239, 0.14782808409749956, 0.0456923169028635, 0.04031675020840897, 0.06450680033345435, 0.021502266777818118, 0.02419005012504538, 0.9498272786704794, 0.7153043405015677, 0.71527292194771, 0.8681523988220192, 0.8889232279244724, 0.04017713561900436, 0.2008856780950218, 0.7231884411420785, 0.2543060661699881, 0.11092073098903735, 0.12444764940233459, 0.08116151047978343, 0.10550996362371845, 0.08657227784510232, 0.10550996362371845, 0.07304535943180508, 0.04328613892255116, 0.013526918413297237, 0.825132250288317, 0.02465944091816298, 0.09863776367265192, 0.8384209912175413, 0.02465944091816298, 0.07152942076795564, 0.10606086527662388, 0.10606086527662388, 0.3576471038397782, 0.06412982551609817, 0.15539150028900708, 0.06906288901733648, 0.02959838100742992, 0.0024665317506191602, 0.039464508009906564, 0.9607284398118524, 0.8875420169934818, 0.9387202238203922, 0.177601914928419, 0.10584356546239113, 0.15069253387865855, 0.1255771115655488, 0.1273710703021995, 0.1758079561917683, 0.04305500967961673, 0.06996439072937718, 0.01255771115655488, 0.010763752419904182, 0.97359366879254, 0.9524635470697602, 0.9411451490524426, 0.1662628214678569, 0.041565705366964224, 0.7481826966053561, 0.041565705366964224, 0.4682785757992018, 0.501140230241251, 0.008215413610512312, 0.008215413610512312, 0.1801673395119813, 0.09827309427926254, 0.09827309427926254, 0.04913654713963127, 0.11465194332580629, 0.03275769809308751, 0.03275769809308751, 0.3767135280705064, 0.8451054645198334, 0.9477637403374867, 0.9443726282776881, 0.9431141157900329, 0.1686267630759972, 0.1451470872046558, 0.224124178771895, 0.1238019273216182, 0.10032225145027682, 0.0725735436023279, 0.044824835754379004, 0.08964967150875801, 0.008538063953215047, 0.02134515988303762, 0.7311920216963091, 0.02284975067800966, 0.04569950135601932, 0.02284975067800966, 0.04569950135601932, 0.04569950135601932, 0.04569950135601932, 0.02284975067800966, 0.7404267947800757, 0.10096729019728305, 0.0673115267981887, 0.03365576339909435, 0.03365576339909435, 0.9467740661009411, 0.9035745719124489, 0.06454104085088921, 0.9749510698435194, 0.9319402978063768, 0.9074483246724907, 0.23040465572855398, 0.153603103819036, 0.17619179555712952, 0.02484756091190288, 0.17619179555712952, 0.09713137447380217, 0.09487250529999282, 0.04065964512856835, 0.004517738347618706, 0.004517738347618706, 0.07085094854920916, 0.85021138259051, 0.9461925888527863, 0.03233719193140904, 0.7275868184567034, 0.04850578789711356, 0.09701157579422712, 0.0808429798285226, 0.041197127292701786, 0.12359138187810535, 0.12359138187810535, 0.016478850917080713, 0.14830965825372644, 0.4366895493026389, 0.08239425458540357, 0.016478850917080713, 0.8952446982163903, 0.9684677187006574, 0.22180546729154704, 0.03261845107228633, 0.13699749450360257, 0.1565685651469744, 0.13047380428914532, 0.0391421412867436, 0.08480797278794446, 0.04566583150120086, 0.10437904343131625, 0.04566583150120086, 0.27362325244670205, 0.035571022818071264, 0.18059134661482334, 0.23805222962863076, 0.05472465048934041, 0.07114204563614253, 0.04377972039147233, 0.07387827816060955, 0.019153627671269144, 0.008208697573401062, 0.036849093795930085, 0.9212273448982522, 0.9522692096962362, 0.07489519211455044, 0.22468557634365133, 0.6740567290309539, 0.8841338955724773, 0.06430064695072563, 0.016075161737681407, 0.016075161737681407, 0.9424794393115167, 0.2835063494514704, 0.18900423296764693, 0.15075337629562316, 0.09225206609135148, 0.14850332590315116, 0.031500705494607824, 0.038250856672023784, 0.05400120941932769, 0.009000201569887949, 0.3486226339795211, 0.12364482751807014, 0.137589732877251, 0.06786520608134677, 0.17756512824023607, 0.07437282858229784, 0.023241508931968073, 0.04183471607754253, 0.002788981071836169, 0.0018593207145574458, 0.21324689741342023, 0.1612354590199031, 0.09362058910833083, 0.08841944526897912, 0.3224709180398062, 0.06241372607222055, 0.031206863036110276, 0.010402287678703426, 0.010402287678703426, 0.005201143839351713, 0.09772605467702526, 0.4735954957425071, 0.1277956099622638, 0.1277956099622638, 0.022552166463928908, 0.07517388821309635, 0.07517388821309635, 0.007517388821309636, 0.19714358983147612, 0.032857264971912686, 0.6900025644101664, 0.06571452994382537, 0.2284455963582807, 0.09753856923162547, 0.16170868056822119, 0.11550620040587227, 0.09753856923162547, 0.09240496032469782, 0.1257734182197276, 0.038502066801957426, 0.03080165344156594, 0.010267217813855313, 0.8866200112550883, 0.9433850424118578, 0.9302865046590293, 0.9160885258039558, 0.9069433426598109, 0.9069265686437672, 0.9431641148270117, 0.8952161714549857, 0.9739654963328043, 0.9076480646959124, 0.06866830401898648, 0.08828781945298261, 0.17657563890596523, 0.14714636575497103, 0.05885854630198841, 0.009809757716998067, 0.009809757716998067, 0.009809757716998067, 0.431629339547915, 0.9238736365264263, 0.9171648824719774, 0.12621400356571616, 0.0820391023177155, 0.44174901248000653, 0.13883540392228777, 0.164078204635431, 0.006310700178285808, 0.037864201069714845, 0.006310700178285808, 0.9670471139927638, 0.0425778297615005, 0.010644457440375125, 0.4577116699361304, 0.06386674464225076, 0.0425778297615005, 0.085155659523001, 0.010644457440375125, 0.27675589344975327, 0.9296958599784423, 0.6587387035357436, 0.29723575647344525, 0.024100196470819887, 0.00803339882360663, 0.6850883467126118, 0.07211456281185387, 0.12620048492074426, 0.036057281405926934, 0.018028640702963467, 0.018028640702963467, 0.018028640702963467, 0.9436148004596385, 0.1698969977244964, 0.2108360333207606, 0.1289579621282322, 0.11769972733925955, 0.11258234788972654, 0.07676069174299537, 0.04605641504579722, 0.0859719747521548, 0.022516469577945307, 0.028657324917384937, 0.9362128716056948, 0.2032768574567449, 0.22175657177099442, 0.4804725721704879, 0.018479714314249534, 0.055439142942748605, 0.0675220609832699, 0.03376103049163495, 0.03376103049163495, 0.03376103049163495, 0.6414595793410641, 0.16880515245817476, 0.22717702501951054, 0.1703827687646329, 0.11358851250975527, 0.4543540500390211, 0.8838622136327299, 0.3734029965320364, 0.47358428828453397, 0.11839607207113349, 0.02732217047795388, 0.7443441217071775, 0.9512474991595862, 0.21499116506339683, 0.1180114547358863, 0.13320104791971324, 0.13553790840953278, 0.13904319914426208, 0.07361110542931522, 0.12034831522570584, 0.05842151224548827, 0.0011684302449097655, 0.005842151224548827, 0.9236153473777332, 0.8237230268100105, 0.1176747181157158, 0.13667513569428383, 0.6833756784714191, 0.8864042942536385, 0.06500822013980657, 0.08358199732260846, 0.17645088323661784, 0.16716399464521692, 0.0464344429570047, 0.009286888591400939, 0.037147554365603755, 0.14859021746241502, 0.2600328805592263, 0.9314365369259474, 0.9585558454996204, 0.02396389613749051, 0.10949684778019964, 0.16424527167029945, 0.1505581656977745, 0.06843552986262477, 0.43798739112079854, 0.013687105972524954, 0.013687105972524954, 0.013687105972524954, 0.02053065895878743, 0.006843552986262477, 0.9597994093422362, 0.9453847858246458, 0.9532663927244651, 0.18515179340340226, 0.05696978258566224, 0.20295485046142173, 0.15310629069896728, 0.05340917117405835, 0.04984855976245446, 0.1103789537597206, 0.01780305705801945, 0.08901528529009725, 0.07833345105528558, 0.9460673719867694, 0.2956441588938602, 0.14124451619285125, 0.19524977238423555, 0.07339175841393251, 0.10662576222401515, 0.053312881112007576, 0.024925502857561985, 0.04154250476260331, 0.05192813095325414, 0.016617001905041322, 0.930160073796349, 0.9578248345184726, 0.9555220724960877, 0.9251860980137276, 0.03426615177828621, 0.9362180353510667, 0.9214610048365487, 0.11148531642578811, 0.7803972149805168, 0.18995888800323954, 0.18007663371405366, 0.11968507972458445, 0.15921409688132793, 0.1076067689266906, 0.09772451463750473, 0.05270535620899132, 0.0614895822438232, 0.0153723955609558, 0.016470423815309786, 0.427099136876269, 0.14236637895875634, 0.04745545965291878, 0.37964367722335024, 0.21800349250068476, 0.015571678035763198, 0.18686013642915839, 0.015571678035763198, 0.07785839017881599, 0.031143356071526396, 0.015571678035763198, 0.4204353069656064, 0.015571678035763198, 0.1444789026558185, 0.33711743953024315, 0.21671835398372774, 0.016053211406202056, 0.016053211406202056, 0.04013302851550514, 0.04013302851550514, 0.18461193117132363, 0.03257396675370472, 0.03257396675370472, 0.8469231355963227, 0.06514793350740944, 0.2693955412575013, 0.0944633716097732, 0.09796201500272776, 0.20991860357727377, 0.11545523196750057, 0.034986433929545625, 0.034986433929545625, 0.05247965089431844, 0.07347151125204582, 0.010495930178863688, 0.9027326380187874, 0.07898734588750993, 0.9083544777063641, 0.9836957219661748, 0.8902019693850782, 0.05236482172853401, 0.9498433781603555, 0.08576934206744184, 0.028589780689147283, 0.22871824551317826, 0.11435912275658913, 0.057179561378294566, 0.057179561378294566, 0.3716671489589147, 0.8135309072147077, 0.2905076736963522, 0.14405339191554656, 0.08643203514932793, 0.043216017574663965, 0.1296480527239919, 0.1008373743408826, 0.007202669595777328, 0.1824676297596923, 0.0024008898652591094, 0.009603559461036438, 0.906869516940771, 0.9499520907023704, 0.055079769912178195, 0.8812763185948511, 0.7707106285140011, 0.023214175557650634, 0.009285670223060254, 0.037142680892241015, 0.02785701066918076, 0.023214175557650634, 0.004642835111530127, 0.09285670223060254, 0.8865437720265468, 0.08019977834709376, 0.12029966752064063, 0.04009988917354688, 0.6148649673277188, 0.013366629724515624, 0.0534665188980625, 0.013366629724515624, 0.04009988917354688, 0.013366629724515624, 0.9607377237021204, 0.017467958612765826, 0.9403211854582257, 0.03888226265139077, 0.03888226265139077, 0.07776452530278154, 0.23329357590834462, 0.15552905060556307, 0.4277048891652985, 0.8874906496230366, 0.06405076561277216, 0.12810153122554432, 0.06405076561277216, 0.7045584217404939, 0.7855632074900519, 0.8677763048116078, 0.9671229376747913, 0.8892014465951862, 0.1926479015464953, 0.17050446458712804, 0.11736021588464657, 0.09078809153340583, 0.09521677892527929, 0.06643031087810183, 0.1616470898033811, 0.08193071674965892, 0.024357780655304005, 0.08870810796706996, 0.04435405398353498, 0.15523918894237243, 0.5766027017859547, 0.13306216195060494, 0.8645313923767701, 0.04550165223035633, 0.04550165223035633, 0.02663293184399516, 0.02663293184399516, 0.82562088716385, 0.09321526145398305, 0.01331646592199758, 0.9402309215573524, 0.9675925147214401, 0.8878328073352122, 0.28809706587073014, 0.06505417616435842, 0.10222799111542039, 0.046467268688827446, 0.03717381495106196, 0.0836410836398894, 0.3624446957728541, 0.00929345373776549, 0.01858690747553098, 0.9181546173098233, 0.9222170707693577, 0.8139486024583431, 0.9608820804222526, 0.07201793469906574, 0.17727491618231567, 0.12741634600603938, 0.3462400706685853, 0.05262849074162496, 0.0775577758297631, 0.10248706091790125, 0.02492928508813814, 0.016619523392092096, 0.0027699205653486823, 0.9137057017482456, 0.019155267772250448, 0.13408687440575315, 0.09577633886125224, 0.019155267772250448, 0.019155267772250448, 0.7087449075732666, 0.930035061985723, 0.8878234426196101, 0.01110449299743341, 0.866150453799806, 0.06662695798460047, 0.01110449299743341, 0.02220898599486682, 0.01110449299743341, 0.8450741225324087, 0.947762908605749, 0.7858965601663258, 0.1097499604747281, 0.8779996837978248, 0.17153640616805177, 0.09876338536948434, 0.16633833325386838, 0.08836723954111757, 0.2754978644517195, 0.03638651039928371, 0.03118843748510032, 0.11435760411203451, 0.005198072914183387, 0.010396145828366773, 0.9498764278919326, 0.08254637375663375, 0.8667369244446543, 0.20351338856630305, 0.4070267771326061, 0.379891658657099, 0.1587192087697663, 0.07580618926317197, 0.3008558136382138, 0.13266083121055094, 0.10186456682238734, 0.09001984975001671, 0.03553415121711186, 0.07106830243422373, 0.030796264388163613, 0.004737886828948248, 0.7444690260457179, 0.9641060961762306, 0.5088114675817901, 0.12318593425664391, 0.03749137129550032, 0.0803386527760721, 0.010711820370142948, 0.203524587032716, 0.010711820370142948, 0.005355910185071474, 0.021423640740285896, 0.3098489514215668, 0.12393958056862672, 0.09915166445490138, 0.14129112184823447, 0.09171528962078378, 0.01735154127960774, 0.12641837217999927, 0.03718187417058802, 0.004957583222745069, 0.047097040616078154, 0.17190371956533176, 0.7735667380439929, 0.9674463130434683, 0.04470137116826609, 0.8940274233653219, 0.07082810932045912, 0.8499373118455094, 0.20106411433528362, 0.17528666377947802, 0.1701311736683169, 0.10826529233438349, 0.18817538905738082, 0.03351068572254727, 0.023199705500225033, 0.03351068572254727, 0.03093294066696671, 0.03608843077812783, 0.023895015896007364, 0.0716850476880221, 0.8841155881522725, 0.2428384898509813, 0.1541831681593532, 0.11949195532349874, 0.034691212835854475, 0.23512933144301365, 0.15803774736333703, 0.02312747522390298, 0.01156373761195149, 0.01927289601991915, 0.8896269058067162, 0.18414319980052754, 0.13616222520461543, 0.09855551538619783, 0.06483915485934068, 0.11800726184400004, 0.20489172935551656, 0.07521341963683519, 0.09466516609463739, 0.019451746457802205, 0.0038903492915604407, 0.10541771884812919, 0.030119348242322624, 0.015059674121161312, 0.02258951118174197, 0.007529837060580656, 0.09788788178754854, 0.7153345207551624, 0.025856471088961965, 0.07326000141872556, 0.19392353316721472, 0.19823294501537506, 0.41801294927155175, 0.07756941326688589, 0.008618823696320655, 0.9320240505558038, 0.9498433699156384, 0.9362886128441651, 0.10589772476205475, 0.2117954495241095, 0.6353863485723285, 0.9068292667180352, 0.8625738183976089, 0.7854405657882423, 0.08841282786791674, 0.10478557376938279, 0.15062926229348778, 0.3438276639307873, 0.07531463114674389, 0.013098196721172848, 0.12443286885114206, 0.03602004098322534, 0.009823647540879638, 0.05239278688469139, 0.1925049367026365, 0.1794537545533052, 0.20066192554596854, 0.14030020810531132, 0.09951526388865106, 0.016313977686664108, 0.042416341985326685, 0.08320128620198695, 0.024470966529996162, 0.021208170992663342, 0.9822295691423095, 0.1348097550584694, 0.0829598492667504, 0.5703489637089091, 0.0829598492667504, 0.0207399623166876, 0.0829598492667504, 0.0207399623166876, 0.04695806460496766, 0.9391612920993533, 0.9547975026794918, 0.872122515383013, 0.05450765721143831, 0.9402403671303413, 0.3462043583758521, 0.06081968457954158, 0.36959654475259884, 0.02339218637674676, 0.05614124730419223, 0.009356874550698705, 0.042105935478144174, 0.07485499640558964, 0.014035311826048058, 0.9425008107803898, 0.7156789389323699, 0.16538195653548773, 0.023625993790783964, 0.023625993790783964, 0.023625993790783964, 0.04725198758156793, 0.708779813723519, 0.8800757818364169, 0.9599899059642455, 0.7444670023996516, 0.23687586439988917, 0.8318764773633107, 0.0626519640195478, 0.908453478283443, 0.8892137962203599, 0.297580653883235, 0.14003795476858116, 0.008752372173036323, 0.20130455997983543, 0.0918999078168814, 0.043761860865181614, 0.17942362954724464, 0.013128558259554486, 0.004376186086518161, 0.021880930432590807, 0.10834260195378927, 0.151679642735305, 0.3250278058613678, 0.06500556117227356, 0.34669632625212565, 0.9071745329524976, 0.20896082382252656, 0.15850153397901873, 0.15019059212244096, 0.1685933919477203, 0.10804224413551089, 0.06351934133241574, 0.035618322242476116, 0.05224020595563164, 0.03739923835459993, 0.016028245009114254, 0.28212250731670807, 0.15673472628706003, 0.09734051422038464, 0.16828360085558025, 0.11548874568520212, 0.047845337498155165, 0.04619549827408085, 0.05774437284260106, 0.023097749137040425, 0.0065993568962972645, 0.12357353789766122, 0.13959232984735806, 0.30435704704423966, 0.14188072869731475, 0.03890278044926372, 0.14188072869731475, 0.05034477469904716, 0.059498370098873925, 0.0022883988499566893, 0.0022883988499566893, 0.21439759002996003, 0.3536777762538027, 0.11893588935968587, 0.07824729563137228, 0.10798126797129375, 0.05790299876721549, 0.01877935095152935, 0.031298918252548914, 0.0015649459126274455, 0.0172144050389019, 0.04462498586195719, 0.022312492930978596, 0.0334687393964679, 0.7363122667222937, 0.022312492930978596, 0.055781232327446494, 0.011156246465489298, 0.055781232327446494, 0.022312492930978596, 0.1305182884631886, 0.1044146307705509, 0.40895730385132434, 0.07831097307791317, 0.11746645961686976, 0.08701219230879241, 0.03480487692351696, 0.013051828846318862, 0.021753048077198103, 0.00435060961543962, 0.9365708672180829, 0.813610196628111, 0.04389433558829426, 0.30726034911805983, 0.21947167794147132, 0.3950490202946484, 0.8681115849734103, 0.9604534346048257, 0.11921850942134604, 0.3973950314044868, 0.47687403768538417, 0.05778056398759364, 0.8667084598139045, 0.030491019163342157, 0.030491019163342157, 0.9147305749002647, 0.17111217597821293, 0.18267380949025436, 0.11561633512041415, 0.09943004820355617, 0.13180262203727214, 0.10405470160837274, 0.09943004820355617, 0.07861910788188162, 0.006936980107224849, 0.01618628691685798, 0.026821214612247447, 0.9387425114286606, 0.22359057132409216, 0.14347061659962582, 0.1397441070775576, 0.16396641897100092, 0.11179528566204608, 0.06148740711412534, 0.052171133308954835, 0.06335066187515945, 0.013042783327238709, 0.02794882141551152, 0.9233945583985808, 0.9540096071253287, 0.09835443702500167, 0.011348588887500193, 0.11348588887500193, 0.27993185922500474, 0.34424052958750584, 0.022697177775000386, 0.02648004073750045, 0.003782862962500064, 0.011348588887500193, 0.08700584813750148, 0.916260510438072, 0.90263130153333, 0.9210483688670872, 0.06089973100790557, 0.852596234110678], \"Term\": [\"active\", \"active\", \"active\", \"active\", \"active\", \"active\", \"active\", \"active\", \"active\", \"active\", \"active_memory\", \"activeerr\", \"activity\", \"activity\", \"activity\", \"activity\", \"activity\", \"activity\", \"activity\", \"activity\", \"adaptive_forgette\", \"additive\", \"additive\", \"additive\", \"additive\", \"additive\", \"additive\", \"additive\", \"agent\", \"agent\", \"agent\", \"agent\", \"agent\", \"aide\", \"aide\", \"aide_estimate\", \"aide_estimate\", \"alcd\", \"algorithm\", \"algorithm\", \"algorithm\", \"algorithm\", \"algorithm\", \"algorithm\", \"algorithm\", \"algorithm\", \"algorithm\", \"algorithm\", \"algorithmic_framework\", \"allocate\", \"allocate\", \"allocate\", \"also\", \"also\", \"also\", \"also\", \"also\", \"also\", \"also\", \"also\", \"also\", \"also\", \"amortize\", \"amortize\", \"amplification\", \"amplification\", \"amplify\", \"amplify\", \"analogy\", \"analogy\", \"analogy\", \"analogy\", \"analogy\", \"analogy\", \"analogy_make\", \"animation\", \"anomalous\", \"anomaly\", \"anomaly_detection\", \"anomaly_detection\", \"anomaly_score\", \"apical\", \"approach\", \"approach\", \"approach\", \"approach\", \"approach\", \"approach\", \"approach\", \"approach\", \"approach\", \"approach\", \"approximate\", \"approximate\", \"approximate\", \"approximate\", \"approximate\", \"approximate\", \"approximate\", \"approximate\", \"approximate\", \"approximate\", \"arm\", \"arm\", \"arm\", \"arm\", \"arm\", \"asymexp\", \"atari_game\", \"attention\", \"attention\", \"attention\", \"attention\", \"attention\", \"attention\", \"attention\", \"attention\", \"attention\", \"attribution\", \"auction\", \"balero\", \"base\", \"base\", \"base\", \"base\", \"base\", \"base\", \"base\", \"base\", \"base\", \"base\", \"beamformer\", \"beta_process\", \"bethe\", \"bethe_partition\", \"bias\", \"bias\", \"bias\", \"bias\", \"bias\", \"bias\", \"bias\", \"bias\", \"bias\", \"biases_oi\", \"bid\", \"bid\", \"bidding\", \"bidirectional_recurrent\", \"binary\", \"binary\", \"binary\", \"binary\", \"binary\", \"binary\", \"binary\", \"binary\", \"binary\", \"bird\", \"bird\", \"bird\", \"bonus\", \"boolean\", \"boolean\", \"boolean\", \"boolean\", \"boolean\", \"breadth\", \"bregman_distance\", \"brightness\", \"btk\", \"bvm\", \"calcium\", \"case\", \"case\", \"case\", \"case\", \"case\", \"case\", \"case\", \"case\", \"case\", \"case\", \"cccc\", \"cec\", \"cell\", \"cell\", \"cell\", \"cell\", \"cell\", \"cell\", \"cell\", \"cell\", \"century\", \"cggm\", \"chain_graph\", \"circuit\", \"circuit\", \"circuit\", \"circuit\", \"circuit\", \"class\", \"class\", \"class\", \"class\", \"class\", \"class\", \"class\", \"class\", \"class\", \"class\", \"class_halfspace\", \"classier\", \"classification\", \"classification\", \"classification\", \"classification\", \"classification\", \"classification\", \"classification\", \"classification\", \"classification\", \"classification\", \"classifier\", \"classifier\", \"classifier\", \"classifier\", \"classifier\", \"classifier\", \"classifier\", \"classifier\", \"cluster\", \"cluster\", \"cluster\", \"cluster\", \"cluster\", \"cluster\", \"cluster\", \"cluster\", \"cluster\", \"co_traine\", \"co_traine\", \"co_training\", \"college\", \"college\", \"compartment\", \"complex_interaction\", \"compressive\", \"concert\", \"conditional_convolution\", \"conductance\", \"conductance\", \"connectionist\", \"connectionist\", \"connectionist\", \"connor\", \"consensus\", \"consensus\", \"consensus\", \"constraint\", \"constraint\", \"constraint\", \"constraint\", \"constraint\", \"constraint\", \"constraint\", \"constraint\", \"constraint\", \"constraint_generation\", \"contextual_bandit\", \"contingency\", \"continuous\", \"continuous\", \"continuous\", \"continuous\", \"continuous\", \"continuous\", \"continuous\", \"continuous\", \"continuous\", \"contralateral\", \"converges_globally\", \"convex_repeate\", \"convolution\", \"convolution\", \"convolution\", \"convolution\", \"convolutional\", \"convolutional\", \"convolutional\", \"copula\", \"correspond\", \"correspond\", \"correspond\", \"correspond\", \"correspond\", \"correspond\", \"correspond\", \"correspond\", \"correspond\", \"correspond\", \"cost\", \"cost\", \"cost\", \"cost\", \"cost\", \"cost\", \"cost\", \"cost\", \"covariance_thresholding\", \"covariance_thresholding\", \"covariate\", \"covariate\", \"covariate\", \"criterion\", \"criterion\", \"criterion\", \"criterion\", \"criterion\", \"criterion\", \"criterion\", \"criterion\", \"crossing\", \"crossing\", \"crossing\", \"cs_inversion\", \"current\", \"current\", \"current\", \"current\", \"current\", \"current\", \"current\", \"current\", \"current\", \"cyclical\", \"dantzig_selector\", \"dasnet\", \"database\", \"database\", \"database\", \"database\", \"database\", \"database\", \"dataset\", \"dataset\", \"dataset\", \"dataset\", \"dataset\", \"dataset\", \"dataset\", \"dataset\", \"dataset\", \"dataset\", \"datum\", \"datum\", \"datum\", \"datum\", \"datum\", \"datum\", \"datum\", \"datum\", \"datum\", \"datum\", \"daw\", \"dba\", \"dbpedia\", \"decoder\", \"decoder\", \"decoder\", \"deep\", \"deep\", \"deep\", \"deep\", \"deep\", \"deep\", \"deeplift\", \"define\", \"define\", \"define\", \"define\", \"define\", \"define\", \"define\", \"define\", \"define\", \"define\", \"dendrite\", \"dendrite\", \"dendritic\", \"dene\", \"denoising_inpainte\", \"density\", \"density\", \"density\", \"density\", \"density\", \"density\", \"density\", \"density\", \"density\", \"density\", \"diagonal_thresholde\", \"diagonal_thresholde\", \"dictionary\", \"dictionary\", \"dictionary\", \"dictionary\", \"dictionary\", \"dictionary\", \"dictionary\", \"different\", \"different\", \"different\", \"different\", \"different\", \"different\", \"different\", \"different\", \"different\", \"different\", \"dimension\", \"dimension\", \"dimension\", \"dimension\", \"dimension\", \"dimension\", \"dimension\", \"dimension\", \"dimension\", \"dimensionality_reduction\", \"dimensionality_reduction\", \"dimensionality_reduction\", \"dimensionality_reduction\", \"dipole\", \"disambiguation\", \"disambiguation\", \"discrete\", \"discrete\", \"discrete\", \"discrete\", \"discrete\", \"discrete\", \"discrete\", \"discrete\", \"discrete\", \"discriminator\", \"disentangle\", \"dissimilarity\", \"dissimilarity\", \"dissimilarity\", \"distal\", \"distance\", \"distance\", \"distance\", \"distance\", \"distance\", \"distance\", \"distance\", \"distance\", \"distance\", \"distance_metric\", \"distance_metric\", \"distance_metric\", \"distortion_error\", \"distribution\", \"distribution\", \"distribution\", \"distribution\", \"distribution\", \"distribution\", \"distribution\", \"distribution\", \"distribution\", \"distribution\", \"distrust\", \"document\", \"document\", \"document\", \"document\", \"document\", \"document\", \"document\", \"domain\", \"domain\", \"domain\", \"domain\", \"domain\", \"domain\", \"domain\", \"domain\", \"domain\", \"dp\", \"dp\", \"dp\", \"dpds\", \"dropout\", \"dropout\", \"dropout\", \"dyad\", \"dynamic\", \"dynamic\", \"dynamic\", \"dynamic\", \"dynamic\", \"dynamic\", \"dynamic\", \"dynamic\", \"dynamic\", \"dynamic_synapse\", \"early_sensory\", \"ecoc\", \"edge\", \"edge\", \"edge\", \"edge\", \"edge\", \"edge\", \"edge\", \"edge\", \"efcient\", \"eflip\", \"element\", \"element\", \"element\", \"element\", \"element\", \"element\", \"element\", \"element\", \"embed\", \"embed\", \"embed\", \"embed\", \"embed\", \"embed\", \"embed\", \"emotion\", \"environmental\", \"epinion\", \"epipolar\", \"epsrc\", \"error\", \"error\", \"error\", \"error\", \"error\", \"error\", \"error\", \"error\", \"error\", \"error\", \"estimate\", \"estimate\", \"estimate\", \"estimate\", \"estimate\", \"estimate\", \"estimate\", \"estimate\", \"estimate\", \"estimate\", \"estimation\", \"estimation\", \"estimation\", \"estimation\", \"estimation\", \"estimation\", \"estimation\", \"estimation\", \"estimator\", \"estimator\", \"estimator\", \"estimator\", \"estimator\", \"estimator\", \"estimator\", \"estimator\", \"estimator\", \"et\", \"et\", \"et\", \"et\", \"et\", \"et\", \"event_probabilitie\", \"execution\", \"execution\", \"execution\", \"execution\", \"exemplar\", \"exemplar\", \"exemplar\", \"experiment\", \"experiment\", \"experiment\", \"experiment\", \"experiment\", \"experiment\", \"experiment\", \"experiment\", \"experiment\", \"experiment\", \"explanation\", \"explanation\", \"explanation\", \"exploration\", \"exploration\", \"exploration\", \"exploration\", \"exploration\", \"extracttreelet\", \"eye\", \"eye\", \"eye\", \"fab_map\", \"fabmap\", \"factorization\", \"factorization\", \"factorization\", \"factorization\", \"factorization\", \"factorization\", \"fair\", \"fair\", \"fair\", \"fair\", \"fair\", \"fair\", \"fair\", \"fair\", \"fair_bandit\", \"fairness\", \"fanty\", \"fastxml\", \"fdual\", \"feature\", \"feature\", \"feature\", \"feature\", \"feature\", \"feature\", \"feature\", \"feature\", \"feature\", \"feature\", \"feature_attribution\", \"feedback_circuit\", \"fig\", \"fig\", \"fig\", \"fig\", \"fig\", \"fig\", \"fig\", \"fig\", \"fig\", \"figure\", \"figure\", \"figure\", \"figure\", \"figure\", \"figure\", \"figure\", \"figure\", \"figure\", \"figure\", \"filter\", \"filter\", \"filter\", \"filter\", \"filter\", \"filter\", \"filter\", \"filter\", \"find\", \"find\", \"find\", \"find\", \"find\", \"find\", \"find\", \"find\", \"find\", \"find\", \"fixed_forge\", \"flip\", \"flip\", \"flip\", \"flip\", \"flip\", \"floating_gate\", \"floating_gate\", \"fluctuation\", \"fluctuation\", \"follow\", \"follow\", \"follow\", \"follow\", \"follow\", \"follow\", \"follow\", \"follow\", \"follow\", \"follow\", \"forecast\", \"forecasting\", \"forecasting\", \"forecasting\", \"forgetting_factor\", \"fpr\", \"fractional_covere\", \"frame\", \"frame\", \"frame\", \"frame\", \"frame\", \"frame\", \"frame\", \"front\", \"front\", \"front\", \"front\", \"front\", \"frontal_cortex\", \"function\", \"function\", \"function\", \"function\", \"function\", \"function\", \"function\", \"function\", \"function\", \"function\", \"function_suboptimality\", \"fused_sparsity\", \"game\", \"game\", \"game\", \"game\", \"game\", \"gca\", \"generalized_risk\", \"generalized_suffix\", \"give\", \"give\", \"give\", \"give\", \"give\", \"give\", \"give\", \"give\", \"give\", \"give\", \"gla\", \"gla\", \"gold_standard\", \"gold_standard\", \"gold_standard\", \"gp\", \"gp\", \"graph\", \"graph\", \"graph\", \"graph\", \"graph\", \"graph\", \"graph\", \"graph\", \"graph\", \"graph_cover\", \"group\", \"group\", \"group\", \"group\", \"group\", \"group\", \"group\", \"gsn\", \"gsn\", \"hardware\", \"hardware\", \"hardware\", \"hardware\", \"hash\", \"hash\", \"hash\", \"hash_function\", \"hha_ii\", \"hidden_unit\", \"hidden_unit\", \"hidden_unit\", \"hidden_unit\", \"hidden_unit\", \"hidden_unit\", \"hidden_unit\", \"hidden_unit\", \"hierarchical_penalization\", \"history_window\", \"hmdt\", \"human\", \"human\", \"human\", \"human\", \"human\", \"human\", \"human\", \"human\", \"hyper_cubic\", \"hypothesis\", \"hypothesis\", \"hypothesis\", \"hypothesis\", \"hypothesis\", \"hypothesis\", \"hypothesis\", \"hypothesis\", \"image\", \"image\", \"image\", \"image\", \"image\", \"image\", \"image\", \"image\", \"image\", \"image\", \"imdb\", \"implicit_density\", \"inactivate\", \"inference\", \"inference\", \"inference\", \"inference\", \"inference\", \"inference\", \"inference\", \"inference\", \"inference\", \"inference\", \"inpainte\", \"input\", \"input\", \"input\", \"input\", \"input\", \"input\", \"input\", \"input\", \"input\", \"input\", \"instance\", \"instance\", \"instance\", \"instance\", \"instance\", \"instance\", \"instance\", \"instance\", \"instance\", \"instrumental\", \"instrumental\", \"inter_modality\", \"interneuron\", \"interneuron\", \"interneuron\", \"ishii\", \"isoma\", \"kernel\", \"kernel\", \"kernel\", \"kernel\", \"kernel\", \"kernel\", \"kernel\", \"kernel\", \"keyframe\", \"label\", \"label\", \"label\", \"label\", \"label\", \"label\", \"label\", \"label\", \"label\", \"label\", \"labeling_cost\", \"lag\", \"lapgan\", \"large\", \"large\", \"large\", \"large\", \"large\", \"large\", \"large\", \"large\", \"large\", \"large\", \"latent_source\", \"layer\", \"layer\", \"layer\", \"layer\", \"layer\", \"layer\", \"layer\", \"ldeep\", \"leaf\", \"leaf\", \"learn\", \"learn\", \"learn\", \"learn\", \"learn\", \"learn\", \"learn\", \"learn\", \"learn\", \"learn\", \"learning\", \"learning\", \"learning\", \"learning\", \"learning\", \"learning\", \"learning\", \"learning\", \"learning\", \"learning\", \"leml\", \"let\", \"let\", \"let\", \"let\", \"let\", \"let\", \"let\", \"let\", \"let\", \"letter\", \"letter\", \"letter\", \"letter\", \"letter\", \"letter\", \"letter\", \"leveraged_vector\", \"lgssm\", \"likelihood\", \"likelihood\", \"likelihood\", \"likelihood\", \"likelihood\", \"likelihood\", \"likelihood\", \"likelihood\", \"lime\", \"linearize\", \"linearize\", \"linearize\", \"link\", \"link\", \"link\", \"link\", \"link\", \"link\", \"link\", \"link\", \"link_prediction\", \"link_prediction\", \"link_prediction\", \"location\", \"location\", \"location\", \"location\", \"location\", \"location\", \"location\", \"location\", \"location\", \"log\", \"log\", \"log\", \"log\", \"log\", \"log\", \"log\", \"log\", \"log\", \"log\", \"log_supermodular\", \"logic\", \"logic\", \"logic\", \"logloss\", \"lon\", \"long_range\", \"long_range\", \"long_range\", \"loop_closure\", \"loss\", \"loss\", \"loss\", \"loss\", \"loss\", \"loss\", \"loss\", \"loss\", \"loss\", \"low_stretch\", \"lp\", \"lp\", \"lp\", \"lp\", \"lpe\", \"lstm\", \"lstm\", \"lstm\", \"lstms\", \"lstms\", \"lstms\", \"luce\", \"lyapunov_stability\", \"macro\", \"macro\", \"make\", \"make\", \"make\", \"make\", \"make\", \"make\", \"make\", \"make\", \"make\", \"make\", \"manuscript\", \"manuscript\", \"manuscript\", \"manuscript\", \"map\", \"map\", \"map\", \"map\", \"map\", \"map\", \"map\", \"map\", \"map\", \"map_assignment\", \"margin\", \"margin\", \"margin\", \"margin\", \"margin\", \"margin\", \"margin\", \"margin\", \"market\", \"market\", \"markov_chain\", \"markov_chain\", \"markov_chain\", \"markov_chain\", \"markov_chain\", \"matrix\", \"matrix\", \"matrix\", \"matrix\", \"matrix\", \"matrix\", \"matrix\", \"matrix\", \"matrix\", \"matrix\", \"mds\", \"mean_shift\", \"medical_enron\", \"meta_inference\", \"meta_inference\", \"method\", \"method\", \"method\", \"method\", \"method\", \"method\", \"method\", \"method\", \"method\", \"method\", \"metric\", \"metric\", \"metric\", \"metric\", \"metric\", \"metric\", \"metric\", \"metric\", \"micro_averaged\", \"mij\", \"mij\", \"minimax\", \"minimax\", \"minimax\", \"minimax\", \"minimax\", \"minimax\", \"minimise\", \"minimize\", \"minimize\", \"minimize\", \"minimize\", \"minimize\", \"minimize\", \"minimize\", \"minimize\", \"minimum_dominate\", \"mistake\", \"mistake\", \"mistake\", \"mistake\", \"mixed\", \"mixed\", \"mixed\", \"mixed\", \"mixed\", \"mixture\", \"mixture\", \"mixture\", \"mixture\", \"mixture\", \"mixture\", \"mixture\", \"mixture_tree\", \"mlknn\", \"mnist\", \"mnist\", \"model\", \"model\", \"model\", \"model\", \"model\", \"model\", \"model\", \"model\", \"model\", \"model\", \"motion_template\", \"mount\", \"movement\", \"movement\", \"movement\", \"movielen\", \"mrf\", \"mrf\", \"mrf\", \"msvm\", \"multiclass\", \"multiclass\", \"multiclass\", \"multiclass\", \"multilabel\", \"multilabel\", \"multilabel\", \"multilabel_classification\", \"multimodal\", \"multimodal\", \"multimodal\", \"multiview_geometry\", \"musical\", \"mw\", \"name\", \"name\", \"name\", \"name\", \"name\", \"nanostructure\", \"natural\", \"natural\", \"natural\", \"natural\", \"natural\", \"natural\", \"natural\", \"natural\", \"natural\", \"negative_feedback\", \"net\", \"net\", \"net\", \"net\", \"net\", \"net\", \"net\", \"net\", \"network\", \"network\", \"network\", \"network\", \"network\", \"network\", \"network\", \"network\", \"network\", \"network\", \"neuron\", \"neuron\", \"neuron\", \"neuron\", \"neuron\", \"neuron\", \"neuron\", \"newsgroup\", \"newsgroup\", \"ng_fac\", \"nlk\", \"nnbm\", \"node\", \"node\", \"node\", \"node\", \"node\", \"node\", \"node\", \"node\", \"nominal\", \"non_markovian\", \"novelty\", \"novelty\", \"number\", \"number\", \"number\", \"number\", \"number\", \"number\", \"number\", \"number\", \"number\", \"number\", \"object\", \"object\", \"object\", \"object\", \"object\", \"object\", \"object\", \"object\", \"obtain\", \"obtain\", \"obtain\", \"obtain\", \"obtain\", \"obtain\", \"obtain\", \"obtain\", \"obtain\", \"obtain\", \"ocular_dominance\", \"odometry\", \"omnidirectional\", \"optimal_oracle\", \"optimality_factor\", \"optimise\", \"optimise\", \"optimise\", \"order\", \"order\", \"order\", \"order\", \"order\", \"order\", \"order\", \"order\", \"order\", \"order\", \"orthogonal_projection\", \"outlier\", \"outlier\", \"outlier\", \"outlier\", \"output\", \"output\", \"output\", \"output\", \"output\", \"output\", \"output\", \"output\", \"output\", \"output\", \"packet\", \"pair_copula\", \"pairwise_comparison\", \"parameter\", \"parameter\", \"parameter\", \"parameter\", \"parameter\", \"parameter\", \"parameter\", \"parameter\", \"parameter\", \"parameter\", \"pareto\", \"pareto_front\", \"partial_ranking\", \"particle\", \"particle\", \"particle\", \"particle\", \"patch\", \"patch\", \"patch\", \"patch\", \"path\", \"path\", \"path\", \"path\", \"path\", \"path\", \"path\", \"path\", \"patht\", \"pauses_letter\", \"pda\", \"percentile_percentile\", \"performance\", \"performance\", \"performance\", \"performance\", \"performance\", \"performance\", \"performance\", \"performance\", \"performance\", \"performance\", \"period\", \"period\", \"period\", \"period\", \"period\", \"period\", \"period\", \"period\", \"permutation\", \"permutation\", \"permutation\", \"permutation\", \"permutation\", \"phmm\", \"phone\", \"phone\", \"phonetic\", \"pie\", \"plackettluce\", \"point\", \"point\", \"point\", \"point\", \"point\", \"point\", \"point\", \"point\", \"point\", \"point\", \"pole\", \"pole\", \"poo_error\", \"population\", \"population\", \"population\", \"population\", \"population\", \"posterior\", \"posterior\", \"posterior\", \"posterior\", \"posterior\", \"posterior\", \"posterior\", \"posterior\", \"potassium_conductance\", \"preconditioner\", \"predict\", \"predict\", \"predict\", \"predict\", \"predict\", \"predict\", \"predict\", \"predict\", \"predict\", \"predict\", \"prediction\", \"prediction\", \"prediction\", \"prediction\", \"prediction\", \"prediction\", \"prediction\", \"prediction\", \"prediction\", \"prediction\", \"predictive_code\", \"predictive_code\", \"preservation\", \"pretraine\", \"pretraine\", \"pretraine\", \"price\", \"price\", \"price\", \"price\", \"principal_neuron\", \"probability\", \"probability\", \"probability\", \"probability\", \"probability\", \"probability\", \"probability\", \"probability\", \"probability\", \"problem\", \"problem\", \"problem\", \"problem\", \"problem\", \"problem\", \"problem\", \"problem\", \"problem\", \"problem\", \"procedure\", \"procedure\", \"procedure\", \"procedure\", \"procedure\", \"procedure\", \"procedure\", \"procedure\", \"procedure\", \"procedure\", \"projection\", \"projection\", \"projection\", \"projection\", \"projection\", \"projection\", \"projection\", \"projection\", \"proposal\", \"proposal\", \"proposal\", \"proposal\", \"provide\", \"provide\", \"provide\", \"provide\", \"provide\", \"provide\", \"provide\", \"provide\", \"provide\", \"provide\", \"proximal_operator\", \"psbp\", \"pseudo_risk\", \"psrc\", \"ptrain\", \"purity\", \"purity_coverage\", \"pyramidal_cell\", \"quantile\", \"quantile_regression\", \"query\", \"query\", \"query\", \"query\", \"query\", \"query\", \"query\", \"query\", \"query\", \"query_vs\", \"rakel\", \"rank\", \"rank\", \"rank\", \"rank\", \"rank\", \"rank\", \"rank\", \"rank\", \"rba\", \"recurrent\", \"recurrent\", \"recurrent\", \"recurrent\", \"recurrent\", \"recurrent\", \"recurrent\", \"recurrent\", \"reference_vector\", \"regret\", \"regret\", \"regret\", \"regret\", \"regularize\", \"regularize\", \"regularize\", \"regularize\", \"regularize\", \"regularize\", \"regularize\", \"residual_gradient\", \"result\", \"result\", \"result\", \"result\", \"result\", \"result\", \"result\", \"result\", \"result\", \"result\", \"retinal_wave\", \"risk\", \"risk\", \"risk\", \"risk\", \"risk\", \"robot\", \"robot\", \"robot\", \"robot\", \"robot\", \"robot\", \"robotic\", \"robotic\", \"robotic\", \"robotic\", \"rotten_tomatoe\", \"round\", \"round\", \"round\", \"round\", \"sa_lstm\", \"saga\", \"sample\", \"sample\", \"sample\", \"sample\", \"sample\", \"sample\", \"sample\", \"sample\", \"sample\", \"sample\", \"sample_reweighte\", \"sampler\", \"sampler\", \"saturation\", \"saturation\", \"scalarization\", \"score\", \"score\", \"score\", \"score\", \"score\", \"score\", \"score\", \"score\", \"score\", \"score_generate\", \"scoring\", \"scoring\", \"search\", \"search\", \"search\", \"search\", \"search\", \"search\", \"search\", \"search\", \"search\", \"search\", \"segregation\", \"semi_tie\", \"sentiment\", \"sequence\", \"sequence\", \"sequence\", \"sequence\", \"sequence\", \"sequence\", \"sequence\", \"sequence\", \"sequence\", \"sequence\", \"sequence_autoencoder\", \"set\", \"set\", \"set\", \"set\", \"set\", \"set\", \"set\", \"set\", \"set\", \"set\", \"sfds\", \"shap\", \"shap_value\", \"shapley\", \"shapley\", \"shapley_value\", \"shibata\", \"short_range\", \"short_range\", \"show\", \"show\", \"show\", \"show\", \"show\", \"show\", \"show\", \"show\", \"show\", \"show\", \"sift\", \"sift\", \"sift\", \"sift\", \"sign\", \"sign\", \"sign\", \"sign\", \"sign\", \"sign\", \"sign\", \"sign\", \"sign\", \"similarity\", \"similarity\", \"similarity\", \"similarity\", \"similarity\", \"similarity\", \"similarity\", \"similarity\", \"similarity_measure\", \"similarity_measure\", \"similarity_measure\", \"similarity_measure\", \"size\", \"size\", \"size\", \"size\", \"size\", \"size\", \"size\", \"size\", \"size\", \"size\", \"slashdot\", \"slda\", \"slda\", \"sleec\", \"smc\", \"smc\", \"sne\", \"social\", \"social\", \"social\", \"social\", \"social\", \"social\", \"social\", \"soft_committee\", \"solution\", \"solution\", \"solution\", \"solution\", \"solution\", \"solution\", \"solution\", \"solution\", \"solution\", \"solution\", \"soma\", \"somatic\", \"song\", \"song\", \"source\", \"source\", \"source\", \"source\", \"source\", \"source\", \"source\", \"source\", \"source_correlation\", \"spatial\", \"spatial\", \"spatial\", \"spatial\", \"spatial\", \"spatial\", \"spatial\", \"spatial\", \"spatial\", \"speaker\", \"speaker\", \"speech_frame\", \"spike\", \"spike\", \"spike\", \"spike\", \"spike\", \"spike\", \"spike_count\", \"spline\", \"spline\", \"spline\", \"spline\", \"spline_basis\", \"spreading_activation\", \"square_lattice\", \"starmaker\", \"state\", \"state\", \"state\", \"state\", \"state\", \"state\", \"state\", \"state\", \"state\", \"stationary\", \"stationary\", \"stationary\", \"stationary\", \"stationary\", \"stereo\", \"stereo\", \"stereo\", \"stimulus\", \"stimulus\", \"stimulus\", \"stimulus\", \"stimulus\", \"stochastic_kinetic\", \"strata\", \"strata_measure\", \"strategy\", \"strategy\", \"strategy\", \"strategy\", \"strategy\", \"strategy\", \"strategy\", \"strategy\", \"strategy\", \"stratication\", \"stratie\", \"stratify\", \"stratum\", \"structure\", \"structure\", \"structure\", \"structure\", \"structure\", \"structure\", \"structure\", \"structure\", \"structure\", \"structure\", \"structured_sparsity\", \"student\", \"student\", \"student\", \"student\", \"student\", \"student\", \"sub_strata\", \"sub_stratum\", \"subspace\", \"subspace\", \"subspace\", \"subspace\", \"subspace\", \"subspace\", \"subtree\", \"suffix\", \"superficial\", \"supp_vq\", \"supp_vq\", \"support\", \"support\", \"support\", \"support\", \"support\", \"support\", \"support\", \"support\", \"support\", \"support\", \"svae\", \"synapse\", \"synapse\", \"synaptic\", \"synaptic\", \"synaptic\", \"system\", \"system\", \"system\", \"system\", \"system\", \"system\", \"system\", \"system\", \"system\", \"system\", \"tank\", \"tap\", \"target\", \"target\", \"target\", \"target\", \"target\", \"target\", \"target\", \"target\", \"target\", \"task\", \"task\", \"task\", \"task\", \"task\", \"task\", \"task\", \"task\", \"task\", \"task\", \"teacher\", \"teacher\", \"temporal_dependency\", \"tensor\", \"tensor\", \"terence\", \"terence\", \"test\", \"test\", \"test\", \"test\", \"test\", \"test\", \"test\", \"test\", \"test\", \"test\", \"texture\", \"texture\", \"texture\", \"theorem\", \"theorem\", \"theorem\", \"theorem\", \"theorem\", \"theorem\", \"theorem\", \"theorem\", \"theorem\", \"thresh\", \"time\", \"time\", \"time\", \"time\", \"time\", \"time\", \"time\", \"time\", \"time\", \"time\", \"time_serie\", \"time_serie\", \"time_serie\", \"time_serie\", \"time_serie\", \"time_serie\", \"time_serie\", \"topic\", \"topic\", \"topic\", \"topic\", \"topic\", \"topic\", \"topic\", \"topic_facultystudent\", \"topographic\", \"topography\", \"topological\", \"topological\", \"topological\", \"topological_map\", \"tp\", \"tpr\", \"train\", \"train\", \"train\", \"train\", \"train\", \"train\", \"train\", \"train\", \"train\", \"train\", \"training\", \"training\", \"training\", \"training\", \"training\", \"training\", \"training\", \"training\", \"training\", \"training\", \"transduction\", \"transform\", \"transform\", \"transform\", \"transform\", \"transform\", \"transform\", \"transform\", \"transistor\", \"transistor\", \"transition_rate\", \"transmit\", \"transmit\", \"transportation\", \"tree\", \"tree\", \"tree\", \"tree\", \"tree\", \"tree\", \"tree\", \"tree\", \"tree\", \"treecutter\", \"treeletstar\", \"trend\", \"trend\", \"trend\", \"trend\", \"trend\", \"trend\", \"trending_topic\", \"triangulate\", \"triangulation\", \"triangulation\", \"tuft\", \"twitter\", \"twitter\", \"unbalance\", \"unit\", \"unit\", \"unit\", \"unit\", \"unit\", \"unit\", \"unit\", \"unit\", \"unit\", \"unit\", \"unlabeled\", \"unlabeled\", \"unlabeled\", \"unlabeled\", \"unlabeled\", \"usd\", \"use\", \"use\", \"use\", \"use\", \"use\", \"use\", \"use\", \"use\", \"use\", \"use\", \"value\", \"value\", \"value\", \"value\", \"value\", \"value\", \"value\", \"value\", \"value\", \"value\", \"variable\", \"variable\", \"variable\", \"variable\", \"variable\", \"variable\", \"variable\", \"variable\", \"variable\", \"variable\", \"vector\", \"vector\", \"vector\", \"vector\", \"vector\", \"vector\", \"vector\", \"vector\", \"vector\", \"vector\", \"video\", \"video\", \"video\", \"video\", \"video\", \"video\", \"video\", \"video\", \"video\", \"view\", \"view\", \"view\", \"view\", \"view\", \"view\", \"view\", \"view\", \"view\", \"view\", \"vine\", \"vine_base\", \"visit\", \"visit\", \"visit\", \"visit\", \"vizdoom\", \"vmos\", \"voltage\", \"voltage\", \"voltage\", \"vote\", \"vote\", \"voting\", \"voting\", \"voting\", \"weight\", \"weight\", \"weight\", \"weight\", \"weight\", \"weight\", \"weight\", \"weight\", \"weight\", \"weight\", \"weighted_majority\", \"weighted_majority\", \"well\", \"well\", \"well\", \"well\", \"well\", \"well\", \"well\", \"well\", \"well\", \"well\", \"wikilshtc\", \"wnd\", \"word\", \"word\", \"word\", \"word\", \"word\", \"word\", \"word\", \"word\", \"word\", \"word\", \"yeast\", \"ytrain\", \"zb\", \"zm\", \"zm\"]}, \"R\": 30, \"lambda.step\": 0.01, \"plot.opts\": {\"xlab\": \"PC1\", \"ylab\": \"PC2\"}, \"topic.order\": [7, 1, 5, 10, 6, 2, 9, 8, 3, 4]};\n",
              "\n",
              "function LDAvis_load_lib(url, callback){\n",
              "  var s = document.createElement('script');\n",
              "  s.src = url;\n",
              "  s.async = true;\n",
              "  s.onreadystatechange = s.onload = callback;\n",
              "  s.onerror = function(){console.warn(\"failed to load library \" + url);};\n",
              "  document.getElementsByTagName(\"head\")[0].appendChild(s);\n",
              "}\n",
              "\n",
              "if(typeof(LDAvis) !== \"undefined\"){\n",
              "   // already loaded: just create the visualization\n",
              "   !function(LDAvis){\n",
              "       new LDAvis(\"#\" + \"ldavis_el196751356844126317288924395170\", ldavis_el196751356844126317288924395170_data);\n",
              "   }(LDAvis);\n",
              "}else if(typeof define === \"function\" && define.amd){\n",
              "   // require.js is available: use it to load d3/LDAvis\n",
              "   require.config({paths: {d3: \"https://d3js.org/d3.v5\"}});\n",
              "   require([\"d3\"], function(d3){\n",
              "      window.d3 = d3;\n",
              "      LDAvis_load_lib(\"https://cdn.jsdelivr.net/gh/bmabey/pyLDAvis@3.4.0/pyLDAvis/js/ldavis.v3.0.0.js\", function(){\n",
              "        new LDAvis(\"#\" + \"ldavis_el196751356844126317288924395170\", ldavis_el196751356844126317288924395170_data);\n",
              "      });\n",
              "    });\n",
              "}else{\n",
              "    // require.js not available: dynamically load d3 & LDAvis\n",
              "    LDAvis_load_lib(\"https://d3js.org/d3.v5.js\", function(){\n",
              "         LDAvis_load_lib(\"https://cdn.jsdelivr.net/gh/bmabey/pyLDAvis@3.4.0/pyLDAvis/js/ldavis.v3.0.0.js\", function(){\n",
              "                 new LDAvis(\"#\" + \"ldavis_el196751356844126317288924395170\", ldavis_el196751356844126317288924395170_data);\n",
              "            })\n",
              "         });\n",
              "}\n",
              "</script>"
            ]
          },
          "metadata": {},
          "execution_count": 72
        }
      ]
    }
  ],
  "metadata": {
    "colab": {
      "provenance": [],
      "mount_file_id": "1doiAWwiuzDyOANtelhGgbDm-K0vEMAG7",
      "authorship_tag": "ABX9TyOqCF6yTFBXbA3d04THAh1h",
      "include_colab_link": true
    },
    "kernelspec": {
      "display_name": "Python 3",
      "name": "python3"
    },
    "language_info": {
      "name": "python"
    }
  },
  "nbformat": 4,
  "nbformat_minor": 0
}