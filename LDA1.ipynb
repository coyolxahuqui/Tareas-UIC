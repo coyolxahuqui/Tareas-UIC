{
  "cells": [
    {
      "cell_type": "markdown",
      "metadata": {
        "id": "view-in-github",
        "colab_type": "text"
      },
      "source": [
        "<a href=\"https://colab.research.google.com/github/coyolxahuqui/Tareas-UIC/blob/main/LDA1.ipynb\" target=\"_parent\"><img src=\"https://colab.research.google.com/assets/colab-badge.svg\" alt=\"Open In Colab\"/></a>"
      ]
    },
    {
      "cell_type": "code",
      "execution_count": null,
      "metadata": {
        "id": "Cpuys71qAo7R",
        "colab": {
          "base_uri": "https://localhost:8080/"
        },
        "outputId": "e5a63beb-f073-456d-d0c1-603208db17f0"
      },
      "outputs": [
        {
          "output_type": "stream",
          "name": "stderr",
          "text": [
            "/usr/local/lib/python3.10/dist-packages/ipykernel/ipkernel.py:283: DeprecationWarning: `should_run_async` will not call `transform_cell` automatically in the future. Please pass the result to `transformed_cell` argument and any exception that happen during thetransform in `preprocessing_exc_tuple` in IPython 7.17 and above.\n",
            "  and should_run_async(code)\n"
          ]
        }
      ],
      "source": [
        "import pandas as pd\n"
      ]
    },
    {
      "cell_type": "code",
      "source": [
        "!ls /content/Lit1_file-2"
      ],
      "metadata": {
        "colab": {
          "base_uri": "https://localhost:8080/"
        },
        "id": "z1dQIM_iF08-",
        "outputId": "f49324cf-195c-484e-8b96-d94c225161a0"
      },
      "execution_count": null,
      "outputs": [
        {
          "output_type": "stream",
          "name": "stdout",
          "text": [
            "/content/Lit1_file-2\n"
          ]
        },
        {
          "output_type": "stream",
          "name": "stderr",
          "text": [
            "/usr/local/lib/python3.10/dist-packages/ipykernel/ipkernel.py:283: DeprecationWarning: `should_run_async` will not call `transform_cell` automatically in the future. Please pass the result to `transformed_cell` argument and any exception that happen during thetransform in `preprocessing_exc_tuple` in IPython 7.17 and above.\n",
            "  and should_run_async(code)\n"
          ]
        }
      ]
    },
    {
      "cell_type": "code",
      "source": [
        "papers_location = '/content/Lit1_file-2'"
      ],
      "metadata": {
        "id": "ffAlQZN_F4vJ",
        "colab": {
          "base_uri": "https://localhost:8080/"
        },
        "outputId": "a83d5631-21c1-4762-a19a-4f2cd0ce52d9"
      },
      "execution_count": null,
      "outputs": [
        {
          "output_type": "stream",
          "name": "stderr",
          "text": [
            "/usr/local/lib/python3.10/dist-packages/ipykernel/ipkernel.py:283: DeprecationWarning: `should_run_async` will not call `transform_cell` automatically in the future. Please pass the result to `transformed_cell` argument and any exception that happen during thetransform in `preprocessing_exc_tuple` in IPython 7.17 and above.\n",
            "  and should_run_async(code)\n"
          ]
        }
      ]
    },
    {
      "cell_type": "code",
      "source": [
        "papers = pd.read_csv(papers_location)"
      ],
      "metadata": {
        "id": "wycNPLc6GDBh",
        "colab": {
          "base_uri": "https://localhost:8080/"
        },
        "outputId": "b10e6346-a925-4b52-9079-daba21cdaafe"
      },
      "execution_count": null,
      "outputs": [
        {
          "output_type": "stream",
          "name": "stderr",
          "text": [
            "/usr/local/lib/python3.10/dist-packages/ipykernel/ipkernel.py:283: DeprecationWarning: `should_run_async` will not call `transform_cell` automatically in the future. Please pass the result to `transformed_cell` argument and any exception that happen during thetransform in `preprocessing_exc_tuple` in IPython 7.17 and above.\n",
            "  and should_run_async(code)\n"
          ]
        }
      ]
    },
    {
      "cell_type": "code",
      "source": [
        "papers.sample(10)"
      ],
      "metadata": {
        "colab": {
          "base_uri": "https://localhost:8080/",
          "height": 413
        },
        "id": "PBFm0_QrGHC1",
        "outputId": "1fa2a911-5069-40a3-be79-09817e88a7d3"
      },
      "execution_count": null,
      "outputs": [
        {
          "output_type": "stream",
          "name": "stderr",
          "text": [
            "/usr/local/lib/python3.10/dist-packages/ipykernel/ipkernel.py:283: DeprecationWarning: `should_run_async` will not call `transform_cell` automatically in the future. Please pass the result to `transformed_cell` argument and any exception that happen during thetransform in `preprocessing_exc_tuple` in IPython 7.17 and above.\n",
            "  and should_run_async(code)\n"
          ]
        },
        {
          "output_type": "execute_result",
          "data": {
            "text/plain": [
              "                                                  file  \\\n",
              "204  Melvin y Mohan - 2003 - Response to Immunizati...   \n",
              "197  Dagan et al. - 1999 - Reactogenicity and immun...   \n",
              "76   Knuutila et al. - 2020 - Differences in epitop...   \n",
              "84   Myléus et al. - 2012 - Early Vaccinations Are...   \n",
              "7    Cherry et al. - 1998 - A search for serologic ...   \n",
              "57   Heininger et al. - 1997 - Clinical Findings in...   \n",
              "257  Cordova et al. - The outbreak that had to happ...   \n",
              "238  Lawrence et al. - 2004 - Surveillance of adver...   \n",
              "81   Auerbach et al. - 1992 - Dose-response to acel...   \n",
              "261  Moraga-Llop et al. - 2014 - Tos ferina en lact...   \n",
              "\n",
              "                                                  text  \n",
              "204  Response to Immunization With Measles, Tetanus...  \n",
              "197  Vaccine 17 (1999) 2620–2627\\n\\nReactogenicity ...  \n",
              "76   Clinical & Translational Immunology 2020; e116...  \n",
              "84   ARTICLE\\n\\nEarly Vaccinations Are Not Risk Fac...  \n",
              "7    PII:  SO264-410X(98)00226-6 \\n\\nVaccine,  Vol....  \n",
              "57   Clinical Findings in Bordetella pertussis Infe...  \n",
              "257  Article\\n\\nThe outbreak that had to happen:\\nB...  \n",
              "238  Article\\n\\nSurveillance of adverse events foll...  \n",
              "81   P\\na\\np\\ne\\nr\\ns\\n.\\n \\nD\\no\\ns\\ne\\n-\\nr\\ne\\ns...  \n",
              "261  Enferm  Infecc  Microbiol  Clin.  2014;32(4):2...  "
            ],
            "text/html": [
              "\n",
              "  <div id=\"df-a6b4436e-8266-4da8-8066-d7baf88587fc\" class=\"colab-df-container\">\n",
              "    <div>\n",
              "<style scoped>\n",
              "    .dataframe tbody tr th:only-of-type {\n",
              "        vertical-align: middle;\n",
              "    }\n",
              "\n",
              "    .dataframe tbody tr th {\n",
              "        vertical-align: top;\n",
              "    }\n",
              "\n",
              "    .dataframe thead th {\n",
              "        text-align: right;\n",
              "    }\n",
              "</style>\n",
              "<table border=\"1\" class=\"dataframe\">\n",
              "  <thead>\n",
              "    <tr style=\"text-align: right;\">\n",
              "      <th></th>\n",
              "      <th>file</th>\n",
              "      <th>text</th>\n",
              "    </tr>\n",
              "  </thead>\n",
              "  <tbody>\n",
              "    <tr>\n",
              "      <th>204</th>\n",
              "      <td>Melvin y Mohan - 2003 - Response to Immunizati...</td>\n",
              "      <td>Response to Immunization With Measles, Tetanus...</td>\n",
              "    </tr>\n",
              "    <tr>\n",
              "      <th>197</th>\n",
              "      <td>Dagan et al. - 1999 - Reactogenicity and immun...</td>\n",
              "      <td>Vaccine 17 (1999) 2620–2627\\n\\nReactogenicity ...</td>\n",
              "    </tr>\n",
              "    <tr>\n",
              "      <th>76</th>\n",
              "      <td>Knuutila et al. - 2020 - Differences in epitop...</td>\n",
              "      <td>Clinical &amp; Translational Immunology 2020; e116...</td>\n",
              "    </tr>\n",
              "    <tr>\n",
              "      <th>84</th>\n",
              "      <td>Myléus et al. - 2012 - Early Vaccinations Are...</td>\n",
              "      <td>ARTICLE\\n\\nEarly Vaccinations Are Not Risk Fac...</td>\n",
              "    </tr>\n",
              "    <tr>\n",
              "      <th>7</th>\n",
              "      <td>Cherry et al. - 1998 - A search for serologic ...</td>\n",
              "      <td>PII:  SO264-410X(98)00226-6 \\n\\nVaccine,  Vol....</td>\n",
              "    </tr>\n",
              "    <tr>\n",
              "      <th>57</th>\n",
              "      <td>Heininger et al. - 1997 - Clinical Findings in...</td>\n",
              "      <td>Clinical Findings in Bordetella pertussis Infe...</td>\n",
              "    </tr>\n",
              "    <tr>\n",
              "      <th>257</th>\n",
              "      <td>Cordova et al. - The outbreak that had to happ...</td>\n",
              "      <td>Article\\n\\nThe outbreak that had to happen:\\nB...</td>\n",
              "    </tr>\n",
              "    <tr>\n",
              "      <th>238</th>\n",
              "      <td>Lawrence et al. - 2004 - Surveillance of adver...</td>\n",
              "      <td>Article\\n\\nSurveillance of adverse events foll...</td>\n",
              "    </tr>\n",
              "    <tr>\n",
              "      <th>81</th>\n",
              "      <td>Auerbach et al. - 1992 - Dose-response to acel...</td>\n",
              "      <td>P\\na\\np\\ne\\nr\\ns\\n.\\n \\nD\\no\\ns\\ne\\n-\\nr\\ne\\ns...</td>\n",
              "    </tr>\n",
              "    <tr>\n",
              "      <th>261</th>\n",
              "      <td>Moraga-Llop et al. - 2014 - Tos ferina en lact...</td>\n",
              "      <td>Enferm  Infecc  Microbiol  Clin.  2014;32(4):2...</td>\n",
              "    </tr>\n",
              "  </tbody>\n",
              "</table>\n",
              "</div>\n",
              "    <div class=\"colab-df-buttons\">\n",
              "\n",
              "  <div class=\"colab-df-container\">\n",
              "    <button class=\"colab-df-convert\" onclick=\"convertToInteractive('df-a6b4436e-8266-4da8-8066-d7baf88587fc')\"\n",
              "            title=\"Convert this dataframe to an interactive table.\"\n",
              "            style=\"display:none;\">\n",
              "\n",
              "  <svg xmlns=\"http://www.w3.org/2000/svg\" height=\"24px\" viewBox=\"0 -960 960 960\">\n",
              "    <path d=\"M120-120v-720h720v720H120Zm60-500h600v-160H180v160Zm220 220h160v-160H400v160Zm0 220h160v-160H400v160ZM180-400h160v-160H180v160Zm440 0h160v-160H620v160ZM180-180h160v-160H180v160Zm440 0h160v-160H620v160Z\"/>\n",
              "  </svg>\n",
              "    </button>\n",
              "\n",
              "  <style>\n",
              "    .colab-df-container {\n",
              "      display:flex;\n",
              "      gap: 12px;\n",
              "    }\n",
              "\n",
              "    .colab-df-convert {\n",
              "      background-color: #E8F0FE;\n",
              "      border: none;\n",
              "      border-radius: 50%;\n",
              "      cursor: pointer;\n",
              "      display: none;\n",
              "      fill: #1967D2;\n",
              "      height: 32px;\n",
              "      padding: 0 0 0 0;\n",
              "      width: 32px;\n",
              "    }\n",
              "\n",
              "    .colab-df-convert:hover {\n",
              "      background-color: #E2EBFA;\n",
              "      box-shadow: 0px 1px 2px rgba(60, 64, 67, 0.3), 0px 1px 3px 1px rgba(60, 64, 67, 0.15);\n",
              "      fill: #174EA6;\n",
              "    }\n",
              "\n",
              "    .colab-df-buttons div {\n",
              "      margin-bottom: 4px;\n",
              "    }\n",
              "\n",
              "    [theme=dark] .colab-df-convert {\n",
              "      background-color: #3B4455;\n",
              "      fill: #D2E3FC;\n",
              "    }\n",
              "\n",
              "    [theme=dark] .colab-df-convert:hover {\n",
              "      background-color: #434B5C;\n",
              "      box-shadow: 0px 1px 3px 1px rgba(0, 0, 0, 0.15);\n",
              "      filter: drop-shadow(0px 1px 2px rgba(0, 0, 0, 0.3));\n",
              "      fill: #FFFFFF;\n",
              "    }\n",
              "  </style>\n",
              "\n",
              "    <script>\n",
              "      const buttonEl =\n",
              "        document.querySelector('#df-a6b4436e-8266-4da8-8066-d7baf88587fc button.colab-df-convert');\n",
              "      buttonEl.style.display =\n",
              "        google.colab.kernel.accessAllowed ? 'block' : 'none';\n",
              "\n",
              "      async function convertToInteractive(key) {\n",
              "        const element = document.querySelector('#df-a6b4436e-8266-4da8-8066-d7baf88587fc');\n",
              "        const dataTable =\n",
              "          await google.colab.kernel.invokeFunction('convertToInteractive',\n",
              "                                                    [key], {});\n",
              "        if (!dataTable) return;\n",
              "\n",
              "        const docLinkHtml = 'Like what you see? Visit the ' +\n",
              "          '<a target=\"_blank\" href=https://colab.research.google.com/notebooks/data_table.ipynb>data table notebook</a>'\n",
              "          + ' to learn more about interactive tables.';\n",
              "        element.innerHTML = '';\n",
              "        dataTable['output_type'] = 'display_data';\n",
              "        await google.colab.output.renderOutput(dataTable, element);\n",
              "        const docLink = document.createElement('div');\n",
              "        docLink.innerHTML = docLinkHtml;\n",
              "        element.appendChild(docLink);\n",
              "      }\n",
              "    </script>\n",
              "  </div>\n",
              "\n",
              "\n",
              "<div id=\"df-b4828dcf-a8e1-4019-96b5-e425f90ee94a\">\n",
              "  <button class=\"colab-df-quickchart\" onclick=\"quickchart('df-b4828dcf-a8e1-4019-96b5-e425f90ee94a')\"\n",
              "            title=\"Suggest charts\"\n",
              "            style=\"display:none;\">\n",
              "\n",
              "<svg xmlns=\"http://www.w3.org/2000/svg\" height=\"24px\"viewBox=\"0 0 24 24\"\n",
              "     width=\"24px\">\n",
              "    <g>\n",
              "        <path d=\"M19 3H5c-1.1 0-2 .9-2 2v14c0 1.1.9 2 2 2h14c1.1 0 2-.9 2-2V5c0-1.1-.9-2-2-2zM9 17H7v-7h2v7zm4 0h-2V7h2v10zm4 0h-2v-4h2v4z\"/>\n",
              "    </g>\n",
              "</svg>\n",
              "  </button>\n",
              "\n",
              "<style>\n",
              "  .colab-df-quickchart {\n",
              "      --bg-color: #E8F0FE;\n",
              "      --fill-color: #1967D2;\n",
              "      --hover-bg-color: #E2EBFA;\n",
              "      --hover-fill-color: #174EA6;\n",
              "      --disabled-fill-color: #AAA;\n",
              "      --disabled-bg-color: #DDD;\n",
              "  }\n",
              "\n",
              "  [theme=dark] .colab-df-quickchart {\n",
              "      --bg-color: #3B4455;\n",
              "      --fill-color: #D2E3FC;\n",
              "      --hover-bg-color: #434B5C;\n",
              "      --hover-fill-color: #FFFFFF;\n",
              "      --disabled-bg-color: #3B4455;\n",
              "      --disabled-fill-color: #666;\n",
              "  }\n",
              "\n",
              "  .colab-df-quickchart {\n",
              "    background-color: var(--bg-color);\n",
              "    border: none;\n",
              "    border-radius: 50%;\n",
              "    cursor: pointer;\n",
              "    display: none;\n",
              "    fill: var(--fill-color);\n",
              "    height: 32px;\n",
              "    padding: 0;\n",
              "    width: 32px;\n",
              "  }\n",
              "\n",
              "  .colab-df-quickchart:hover {\n",
              "    background-color: var(--hover-bg-color);\n",
              "    box-shadow: 0 1px 2px rgba(60, 64, 67, 0.3), 0 1px 3px 1px rgba(60, 64, 67, 0.15);\n",
              "    fill: var(--button-hover-fill-color);\n",
              "  }\n",
              "\n",
              "  .colab-df-quickchart-complete:disabled,\n",
              "  .colab-df-quickchart-complete:disabled:hover {\n",
              "    background-color: var(--disabled-bg-color);\n",
              "    fill: var(--disabled-fill-color);\n",
              "    box-shadow: none;\n",
              "  }\n",
              "\n",
              "  .colab-df-spinner {\n",
              "    border: 2px solid var(--fill-color);\n",
              "    border-color: transparent;\n",
              "    border-bottom-color: var(--fill-color);\n",
              "    animation:\n",
              "      spin 1s steps(1) infinite;\n",
              "  }\n",
              "\n",
              "  @keyframes spin {\n",
              "    0% {\n",
              "      border-color: transparent;\n",
              "      border-bottom-color: var(--fill-color);\n",
              "      border-left-color: var(--fill-color);\n",
              "    }\n",
              "    20% {\n",
              "      border-color: transparent;\n",
              "      border-left-color: var(--fill-color);\n",
              "      border-top-color: var(--fill-color);\n",
              "    }\n",
              "    30% {\n",
              "      border-color: transparent;\n",
              "      border-left-color: var(--fill-color);\n",
              "      border-top-color: var(--fill-color);\n",
              "      border-right-color: var(--fill-color);\n",
              "    }\n",
              "    40% {\n",
              "      border-color: transparent;\n",
              "      border-right-color: var(--fill-color);\n",
              "      border-top-color: var(--fill-color);\n",
              "    }\n",
              "    60% {\n",
              "      border-color: transparent;\n",
              "      border-right-color: var(--fill-color);\n",
              "    }\n",
              "    80% {\n",
              "      border-color: transparent;\n",
              "      border-right-color: var(--fill-color);\n",
              "      border-bottom-color: var(--fill-color);\n",
              "    }\n",
              "    90% {\n",
              "      border-color: transparent;\n",
              "      border-bottom-color: var(--fill-color);\n",
              "    }\n",
              "  }\n",
              "</style>\n",
              "\n",
              "  <script>\n",
              "    async function quickchart(key) {\n",
              "      const quickchartButtonEl =\n",
              "        document.querySelector('#' + key + ' button');\n",
              "      quickchartButtonEl.disabled = true;  // To prevent multiple clicks.\n",
              "      quickchartButtonEl.classList.add('colab-df-spinner');\n",
              "      try {\n",
              "        const charts = await google.colab.kernel.invokeFunction(\n",
              "            'suggestCharts', [key], {});\n",
              "      } catch (error) {\n",
              "        console.error('Error during call to suggestCharts:', error);\n",
              "      }\n",
              "      quickchartButtonEl.classList.remove('colab-df-spinner');\n",
              "      quickchartButtonEl.classList.add('colab-df-quickchart-complete');\n",
              "    }\n",
              "    (() => {\n",
              "      let quickchartButtonEl =\n",
              "        document.querySelector('#df-b4828dcf-a8e1-4019-96b5-e425f90ee94a button');\n",
              "      quickchartButtonEl.style.display =\n",
              "        google.colab.kernel.accessAllowed ? 'block' : 'none';\n",
              "    })();\n",
              "  </script>\n",
              "</div>\n",
              "\n",
              "    </div>\n",
              "  </div>\n"
            ]
          },
          "metadata": {},
          "execution_count": 10
        }
      ]
    },
    {
      "cell_type": "code",
      "source": [
        "papers.columns"
      ],
      "metadata": {
        "colab": {
          "base_uri": "https://localhost:8080/"
        },
        "id": "18SAQRxnGJDe",
        "outputId": "9b1eef44-5357-4f42-aaca-c4adf58aceb2"
      },
      "execution_count": null,
      "outputs": [
        {
          "output_type": "stream",
          "name": "stderr",
          "text": [
            "/usr/local/lib/python3.10/dist-packages/ipykernel/ipkernel.py:283: DeprecationWarning: `should_run_async` will not call `transform_cell` automatically in the future. Please pass the result to `transformed_cell` argument and any exception that happen during thetransform in `preprocessing_exc_tuple` in IPython 7.17 and above.\n",
            "  and should_run_async(code)\n"
          ]
        },
        {
          "output_type": "execute_result",
          "data": {
            "text/plain": [
              "Index(['file', 'text'], dtype='object')"
            ]
          },
          "metadata": {},
          "execution_count": 11
        }
      ]
    },
    {
      "cell_type": "code",
      "source": [
        "papers"
      ],
      "metadata": {
        "colab": {
          "base_uri": "https://localhost:8080/",
          "height": 473
        },
        "id": "7VNlDUkkGUKZ",
        "outputId": "fe7b1cbf-72c5-480c-82f8-35b550d7e8d4"
      },
      "execution_count": null,
      "outputs": [
        {
          "output_type": "stream",
          "name": "stderr",
          "text": [
            "/usr/local/lib/python3.10/dist-packages/ipykernel/ipkernel.py:283: DeprecationWarning: `should_run_async` will not call `transform_cell` automatically in the future. Please pass the result to `transformed_cell` argument and any exception that happen during thetransform in `preprocessing_exc_tuple` in IPython 7.17 and above.\n",
            "  and should_run_async(code)\n"
          ]
        },
        {
          "output_type": "execute_result",
          "data": {
            "text/plain": [
              "                                                  file  \\\n",
              "0    Rohde et al. - 2014 - A cross‐sectional study ...   \n",
              "1    Huang et al. - 2018 - A big pertussis outbreak...   \n",
              "2    Nakayama et al. - 1999 - A clinical analysis o...   \n",
              "3    Hochwald et al. - 2010 - A Pertussis Outbreak ...   \n",
              "4    Hori et al. - 1994 - A randomized controlled t...   \n",
              "..                                                 ...   \n",
              "279  Kuno-Sakai et al. - 2004 - Verification of com...   \n",
              "280  Van Der Lee et al. - 2018 - Whole-Cell or Acel...   \n",
              "281  Van Der Lee et al. - 2018 - Whole-cell or acel...   \n",
              "282  Estcourt et al. - 2020 - Whole-Cell Pertussis ...   \n",
              "283  Tomoda y Ogura - Wo primary doses of diphtheri...   \n",
              "\n",
              "                                                  text  \n",
              "0    © 2014 John Wiley & Sons A/S.\\nPublished by Jo...  \n",
              "1    Vaccine xxx (2018) xxx–xxx\\n\\nContents lists a...  \n",
              "2    Food and drug reactions and anaphylaxis\\n\\nA c...  \n",
              "3    IMAJ • VOL 12 • MAy 2010\\n\\nOriginal articles\\...  \n",
              "4    Annals of Tropical Paediatrics\\nInternational ...  \n",
              "..                                                 ...  \n",
              "279  Biologicals 32 (2004) 29–35\\n\\nBIOLOGICALS\\n\\n...  \n",
              "280  CliniCal Trial\\npublished: 24 January 2018\\ndo...  \n",
              "281  Vaccine xxx (2017) xxx–xxx\\n\\nContents lists a...  \n",
              "282  Original Article\\n\\nWhole-Cell Pertussis Vacci...  \n",
              "283  PII:  SO264-410X(97)00122-9 \\n\\nVaccine. V\\n0 ...  \n",
              "\n",
              "[284 rows x 2 columns]"
            ],
            "text/html": [
              "\n",
              "  <div id=\"df-22793837-f0ad-4476-a9f1-8404677260b6\" class=\"colab-df-container\">\n",
              "    <div>\n",
              "<style scoped>\n",
              "    .dataframe tbody tr th:only-of-type {\n",
              "        vertical-align: middle;\n",
              "    }\n",
              "\n",
              "    .dataframe tbody tr th {\n",
              "        vertical-align: top;\n",
              "    }\n",
              "\n",
              "    .dataframe thead th {\n",
              "        text-align: right;\n",
              "    }\n",
              "</style>\n",
              "<table border=\"1\" class=\"dataframe\">\n",
              "  <thead>\n",
              "    <tr style=\"text-align: right;\">\n",
              "      <th></th>\n",
              "      <th>file</th>\n",
              "      <th>text</th>\n",
              "    </tr>\n",
              "  </thead>\n",
              "  <tbody>\n",
              "    <tr>\n",
              "      <th>0</th>\n",
              "      <td>Rohde et al. - 2014 - A cross‐sectional study ...</td>\n",
              "      <td>© 2014 John Wiley &amp; Sons A/S.\\nPublished by Jo...</td>\n",
              "    </tr>\n",
              "    <tr>\n",
              "      <th>1</th>\n",
              "      <td>Huang et al. - 2018 - A big pertussis outbreak...</td>\n",
              "      <td>Vaccine xxx (2018) xxx–xxx\\n\\nContents lists a...</td>\n",
              "    </tr>\n",
              "    <tr>\n",
              "      <th>2</th>\n",
              "      <td>Nakayama et al. - 1999 - A clinical analysis o...</td>\n",
              "      <td>Food and drug reactions and anaphylaxis\\n\\nA c...</td>\n",
              "    </tr>\n",
              "    <tr>\n",
              "      <th>3</th>\n",
              "      <td>Hochwald et al. - 2010 - A Pertussis Outbreak ...</td>\n",
              "      <td>IMAJ • VOL 12 • MAy 2010\\n\\nOriginal articles\\...</td>\n",
              "    </tr>\n",
              "    <tr>\n",
              "      <th>4</th>\n",
              "      <td>Hori et al. - 1994 - A randomized controlled t...</td>\n",
              "      <td>Annals of Tropical Paediatrics\\nInternational ...</td>\n",
              "    </tr>\n",
              "    <tr>\n",
              "      <th>...</th>\n",
              "      <td>...</td>\n",
              "      <td>...</td>\n",
              "    </tr>\n",
              "    <tr>\n",
              "      <th>279</th>\n",
              "      <td>Kuno-Sakai et al. - 2004 - Verification of com...</td>\n",
              "      <td>Biologicals 32 (2004) 29–35\\n\\nBIOLOGICALS\\n\\n...</td>\n",
              "    </tr>\n",
              "    <tr>\n",
              "      <th>280</th>\n",
              "      <td>Van Der Lee et al. - 2018 - Whole-Cell or Acel...</td>\n",
              "      <td>CliniCal Trial\\npublished: 24 January 2018\\ndo...</td>\n",
              "    </tr>\n",
              "    <tr>\n",
              "      <th>281</th>\n",
              "      <td>Van Der Lee et al. - 2018 - Whole-cell or acel...</td>\n",
              "      <td>Vaccine xxx (2017) xxx–xxx\\n\\nContents lists a...</td>\n",
              "    </tr>\n",
              "    <tr>\n",
              "      <th>282</th>\n",
              "      <td>Estcourt et al. - 2020 - Whole-Cell Pertussis ...</td>\n",
              "      <td>Original Article\\n\\nWhole-Cell Pertussis Vacci...</td>\n",
              "    </tr>\n",
              "    <tr>\n",
              "      <th>283</th>\n",
              "      <td>Tomoda y Ogura - Wo primary doses of diphtheri...</td>\n",
              "      <td>PII:  SO264-410X(97)00122-9 \\n\\nVaccine. V\\n0 ...</td>\n",
              "    </tr>\n",
              "  </tbody>\n",
              "</table>\n",
              "<p>284 rows × 2 columns</p>\n",
              "</div>\n",
              "    <div class=\"colab-df-buttons\">\n",
              "\n",
              "  <div class=\"colab-df-container\">\n",
              "    <button class=\"colab-df-convert\" onclick=\"convertToInteractive('df-22793837-f0ad-4476-a9f1-8404677260b6')\"\n",
              "            title=\"Convert this dataframe to an interactive table.\"\n",
              "            style=\"display:none;\">\n",
              "\n",
              "  <svg xmlns=\"http://www.w3.org/2000/svg\" height=\"24px\" viewBox=\"0 -960 960 960\">\n",
              "    <path d=\"M120-120v-720h720v720H120Zm60-500h600v-160H180v160Zm220 220h160v-160H400v160Zm0 220h160v-160H400v160ZM180-400h160v-160H180v160Zm440 0h160v-160H620v160ZM180-180h160v-160H180v160Zm440 0h160v-160H620v160Z\"/>\n",
              "  </svg>\n",
              "    </button>\n",
              "\n",
              "  <style>\n",
              "    .colab-df-container {\n",
              "      display:flex;\n",
              "      gap: 12px;\n",
              "    }\n",
              "\n",
              "    .colab-df-convert {\n",
              "      background-color: #E8F0FE;\n",
              "      border: none;\n",
              "      border-radius: 50%;\n",
              "      cursor: pointer;\n",
              "      display: none;\n",
              "      fill: #1967D2;\n",
              "      height: 32px;\n",
              "      padding: 0 0 0 0;\n",
              "      width: 32px;\n",
              "    }\n",
              "\n",
              "    .colab-df-convert:hover {\n",
              "      background-color: #E2EBFA;\n",
              "      box-shadow: 0px 1px 2px rgba(60, 64, 67, 0.3), 0px 1px 3px 1px rgba(60, 64, 67, 0.15);\n",
              "      fill: #174EA6;\n",
              "    }\n",
              "\n",
              "    .colab-df-buttons div {\n",
              "      margin-bottom: 4px;\n",
              "    }\n",
              "\n",
              "    [theme=dark] .colab-df-convert {\n",
              "      background-color: #3B4455;\n",
              "      fill: #D2E3FC;\n",
              "    }\n",
              "\n",
              "    [theme=dark] .colab-df-convert:hover {\n",
              "      background-color: #434B5C;\n",
              "      box-shadow: 0px 1px 3px 1px rgba(0, 0, 0, 0.15);\n",
              "      filter: drop-shadow(0px 1px 2px rgba(0, 0, 0, 0.3));\n",
              "      fill: #FFFFFF;\n",
              "    }\n",
              "  </style>\n",
              "\n",
              "    <script>\n",
              "      const buttonEl =\n",
              "        document.querySelector('#df-22793837-f0ad-4476-a9f1-8404677260b6 button.colab-df-convert');\n",
              "      buttonEl.style.display =\n",
              "        google.colab.kernel.accessAllowed ? 'block' : 'none';\n",
              "\n",
              "      async function convertToInteractive(key) {\n",
              "        const element = document.querySelector('#df-22793837-f0ad-4476-a9f1-8404677260b6');\n",
              "        const dataTable =\n",
              "          await google.colab.kernel.invokeFunction('convertToInteractive',\n",
              "                                                    [key], {});\n",
              "        if (!dataTable) return;\n",
              "\n",
              "        const docLinkHtml = 'Like what you see? Visit the ' +\n",
              "          '<a target=\"_blank\" href=https://colab.research.google.com/notebooks/data_table.ipynb>data table notebook</a>'\n",
              "          + ' to learn more about interactive tables.';\n",
              "        element.innerHTML = '';\n",
              "        dataTable['output_type'] = 'display_data';\n",
              "        await google.colab.output.renderOutput(dataTable, element);\n",
              "        const docLink = document.createElement('div');\n",
              "        docLink.innerHTML = docLinkHtml;\n",
              "        element.appendChild(docLink);\n",
              "      }\n",
              "    </script>\n",
              "  </div>\n",
              "\n",
              "\n",
              "<div id=\"df-4f09c894-fe29-4958-b929-7c45fdae21b2\">\n",
              "  <button class=\"colab-df-quickchart\" onclick=\"quickchart('df-4f09c894-fe29-4958-b929-7c45fdae21b2')\"\n",
              "            title=\"Suggest charts\"\n",
              "            style=\"display:none;\">\n",
              "\n",
              "<svg xmlns=\"http://www.w3.org/2000/svg\" height=\"24px\"viewBox=\"0 0 24 24\"\n",
              "     width=\"24px\">\n",
              "    <g>\n",
              "        <path d=\"M19 3H5c-1.1 0-2 .9-2 2v14c0 1.1.9 2 2 2h14c1.1 0 2-.9 2-2V5c0-1.1-.9-2-2-2zM9 17H7v-7h2v7zm4 0h-2V7h2v10zm4 0h-2v-4h2v4z\"/>\n",
              "    </g>\n",
              "</svg>\n",
              "  </button>\n",
              "\n",
              "<style>\n",
              "  .colab-df-quickchart {\n",
              "      --bg-color: #E8F0FE;\n",
              "      --fill-color: #1967D2;\n",
              "      --hover-bg-color: #E2EBFA;\n",
              "      --hover-fill-color: #174EA6;\n",
              "      --disabled-fill-color: #AAA;\n",
              "      --disabled-bg-color: #DDD;\n",
              "  }\n",
              "\n",
              "  [theme=dark] .colab-df-quickchart {\n",
              "      --bg-color: #3B4455;\n",
              "      --fill-color: #D2E3FC;\n",
              "      --hover-bg-color: #434B5C;\n",
              "      --hover-fill-color: #FFFFFF;\n",
              "      --disabled-bg-color: #3B4455;\n",
              "      --disabled-fill-color: #666;\n",
              "  }\n",
              "\n",
              "  .colab-df-quickchart {\n",
              "    background-color: var(--bg-color);\n",
              "    border: none;\n",
              "    border-radius: 50%;\n",
              "    cursor: pointer;\n",
              "    display: none;\n",
              "    fill: var(--fill-color);\n",
              "    height: 32px;\n",
              "    padding: 0;\n",
              "    width: 32px;\n",
              "  }\n",
              "\n",
              "  .colab-df-quickchart:hover {\n",
              "    background-color: var(--hover-bg-color);\n",
              "    box-shadow: 0 1px 2px rgba(60, 64, 67, 0.3), 0 1px 3px 1px rgba(60, 64, 67, 0.15);\n",
              "    fill: var(--button-hover-fill-color);\n",
              "  }\n",
              "\n",
              "  .colab-df-quickchart-complete:disabled,\n",
              "  .colab-df-quickchart-complete:disabled:hover {\n",
              "    background-color: var(--disabled-bg-color);\n",
              "    fill: var(--disabled-fill-color);\n",
              "    box-shadow: none;\n",
              "  }\n",
              "\n",
              "  .colab-df-spinner {\n",
              "    border: 2px solid var(--fill-color);\n",
              "    border-color: transparent;\n",
              "    border-bottom-color: var(--fill-color);\n",
              "    animation:\n",
              "      spin 1s steps(1) infinite;\n",
              "  }\n",
              "\n",
              "  @keyframes spin {\n",
              "    0% {\n",
              "      border-color: transparent;\n",
              "      border-bottom-color: var(--fill-color);\n",
              "      border-left-color: var(--fill-color);\n",
              "    }\n",
              "    20% {\n",
              "      border-color: transparent;\n",
              "      border-left-color: var(--fill-color);\n",
              "      border-top-color: var(--fill-color);\n",
              "    }\n",
              "    30% {\n",
              "      border-color: transparent;\n",
              "      border-left-color: var(--fill-color);\n",
              "      border-top-color: var(--fill-color);\n",
              "      border-right-color: var(--fill-color);\n",
              "    }\n",
              "    40% {\n",
              "      border-color: transparent;\n",
              "      border-right-color: var(--fill-color);\n",
              "      border-top-color: var(--fill-color);\n",
              "    }\n",
              "    60% {\n",
              "      border-color: transparent;\n",
              "      border-right-color: var(--fill-color);\n",
              "    }\n",
              "    80% {\n",
              "      border-color: transparent;\n",
              "      border-right-color: var(--fill-color);\n",
              "      border-bottom-color: var(--fill-color);\n",
              "    }\n",
              "    90% {\n",
              "      border-color: transparent;\n",
              "      border-bottom-color: var(--fill-color);\n",
              "    }\n",
              "  }\n",
              "</style>\n",
              "\n",
              "  <script>\n",
              "    async function quickchart(key) {\n",
              "      const quickchartButtonEl =\n",
              "        document.querySelector('#' + key + ' button');\n",
              "      quickchartButtonEl.disabled = true;  // To prevent multiple clicks.\n",
              "      quickchartButtonEl.classList.add('colab-df-spinner');\n",
              "      try {\n",
              "        const charts = await google.colab.kernel.invokeFunction(\n",
              "            'suggestCharts', [key], {});\n",
              "      } catch (error) {\n",
              "        console.error('Error during call to suggestCharts:', error);\n",
              "      }\n",
              "      quickchartButtonEl.classList.remove('colab-df-spinner');\n",
              "      quickchartButtonEl.classList.add('colab-df-quickchart-complete');\n",
              "    }\n",
              "    (() => {\n",
              "      let quickchartButtonEl =\n",
              "        document.querySelector('#df-4f09c894-fe29-4958-b929-7c45fdae21b2 button');\n",
              "      quickchartButtonEl.style.display =\n",
              "        google.colab.kernel.accessAllowed ? 'block' : 'none';\n",
              "    })();\n",
              "  </script>\n",
              "</div>\n",
              "\n",
              "  <div id=\"id_08e47a6a-4c72-419a-b7d5-215caf6d3ed4\">\n",
              "    <style>\n",
              "      .colab-df-generate {\n",
              "        background-color: #E8F0FE;\n",
              "        border: none;\n",
              "        border-radius: 50%;\n",
              "        cursor: pointer;\n",
              "        display: none;\n",
              "        fill: #1967D2;\n",
              "        height: 32px;\n",
              "        padding: 0 0 0 0;\n",
              "        width: 32px;\n",
              "      }\n",
              "\n",
              "      .colab-df-generate:hover {\n",
              "        background-color: #E2EBFA;\n",
              "        box-shadow: 0px 1px 2px rgba(60, 64, 67, 0.3), 0px 1px 3px 1px rgba(60, 64, 67, 0.15);\n",
              "        fill: #174EA6;\n",
              "      }\n",
              "\n",
              "      [theme=dark] .colab-df-generate {\n",
              "        background-color: #3B4455;\n",
              "        fill: #D2E3FC;\n",
              "      }\n",
              "\n",
              "      [theme=dark] .colab-df-generate:hover {\n",
              "        background-color: #434B5C;\n",
              "        box-shadow: 0px 1px 3px 1px rgba(0, 0, 0, 0.15);\n",
              "        filter: drop-shadow(0px 1px 2px rgba(0, 0, 0, 0.3));\n",
              "        fill: #FFFFFF;\n",
              "      }\n",
              "    </style>\n",
              "    <button class=\"colab-df-generate\" onclick=\"generateWithVariable('papers')\"\n",
              "            title=\"Generate code using this dataframe.\"\n",
              "            style=\"display:none;\">\n",
              "\n",
              "  <svg xmlns=\"http://www.w3.org/2000/svg\" height=\"24px\"viewBox=\"0 0 24 24\"\n",
              "       width=\"24px\">\n",
              "    <path d=\"M7,19H8.4L18.45,9,17,7.55,7,17.6ZM5,21V16.75L18.45,3.32a2,2,0,0,1,2.83,0l1.4,1.43a1.91,1.91,0,0,1,.58,1.4,1.91,1.91,0,0,1-.58,1.4L9.25,21ZM18.45,9,17,7.55Zm-12,3A5.31,5.31,0,0,0,4.9,8.1,5.31,5.31,0,0,0,1,6.5,5.31,5.31,0,0,0,4.9,4.9,5.31,5.31,0,0,0,6.5,1,5.31,5.31,0,0,0,8.1,4.9,5.31,5.31,0,0,0,12,6.5,5.46,5.46,0,0,0,6.5,12Z\"/>\n",
              "  </svg>\n",
              "    </button>\n",
              "    <script>\n",
              "      (() => {\n",
              "      const buttonEl =\n",
              "        document.querySelector('#id_08e47a6a-4c72-419a-b7d5-215caf6d3ed4 button.colab-df-generate');\n",
              "      buttonEl.style.display =\n",
              "        google.colab.kernel.accessAllowed ? 'block' : 'none';\n",
              "\n",
              "      buttonEl.onclick = () => {\n",
              "        google.colab.notebook.generateWithVariable('papers');\n",
              "      }\n",
              "      })();\n",
              "    </script>\n",
              "  </div>\n",
              "\n",
              "    </div>\n",
              "  </div>\n"
            ]
          },
          "metadata": {},
          "execution_count": 12
        }
      ]
    },
    {
      "cell_type": "code",
      "source": [
        "import re"
      ],
      "metadata": {
        "id": "z7KOehgdGdqv",
        "colab": {
          "base_uri": "https://localhost:8080/"
        },
        "outputId": "468e04da-c499-48ce-ad53-b968effd6c9f"
      },
      "execution_count": null,
      "outputs": [
        {
          "output_type": "stream",
          "name": "stderr",
          "text": [
            "/usr/local/lib/python3.10/dist-packages/ipykernel/ipkernel.py:283: DeprecationWarning: `should_run_async` will not call `transform_cell` automatically in the future. Please pass the result to `transformed_cell` argument and any exception that happen during thetransform in `preprocessing_exc_tuple` in IPython 7.17 and above.\n",
            "  and should_run_async(code)\n"
          ]
        }
      ]
    },
    {
      "cell_type": "code",
      "source": [
        "papers['clean_text'] = papers['text'].map(lambda x: re.sub('[,\\.!?]', '', x))"
      ],
      "metadata": {
        "id": "1kXVEAEvGiln",
        "colab": {
          "base_uri": "https://localhost:8080/"
        },
        "outputId": "9d75463f-b54a-4f69-f563-2ac5ecd7c6aa"
      },
      "execution_count": null,
      "outputs": [
        {
          "output_type": "stream",
          "name": "stderr",
          "text": [
            "/usr/local/lib/python3.10/dist-packages/ipykernel/ipkernel.py:283: DeprecationWarning: `should_run_async` will not call `transform_cell` automatically in the future. Please pass the result to `transformed_cell` argument and any exception that happen during thetransform in `preprocessing_exc_tuple` in IPython 7.17 and above.\n",
            "  and should_run_async(code)\n",
            "<>:1: DeprecationWarning: invalid escape sequence '\\.'\n",
            "<>:1: DeprecationWarning: invalid escape sequence '\\.'\n",
            "<ipython-input-14-096639a3dac0>:1: DeprecationWarning: invalid escape sequence '\\.'\n",
            "  papers['clean_text'] = papers['text'].map(lambda x: re.sub('[,\\.!?]', '', x))\n"
          ]
        }
      ]
    },
    {
      "cell_type": "code",
      "source": [
        "papers['clean_text']"
      ],
      "metadata": {
        "colab": {
          "base_uri": "https://localhost:8080/"
        },
        "id": "F88AYhB6Gl0o",
        "outputId": "88f034ec-a2c0-4467-8657-176a54fe807d"
      },
      "execution_count": null,
      "outputs": [
        {
          "output_type": "stream",
          "name": "stderr",
          "text": [
            "/usr/local/lib/python3.10/dist-packages/ipykernel/ipkernel.py:283: DeprecationWarning: `should_run_async` will not call `transform_cell` automatically in the future. Please pass the result to `transformed_cell` argument and any exception that happen during thetransform in `preprocessing_exc_tuple` in IPython 7.17 and above.\n",
            "  and should_run_async(code)\n"
          ]
        },
        {
          "output_type": "execute_result",
          "data": {
            "text/plain": [
              "0      © 2014 John Wiley & Sons A/S\\nPublished by Joh...\n",
              "1      Vaccine xxx (2018) xxx–xxx\\n\\nContents lists a...\n",
              "2      Food and drug reactions and anaphylaxis\\n\\nA c...\n",
              "3      IMAJ • VOL 12 • MAy 2010\\n\\nOriginal articles\\...\n",
              "4      Annals of Tropical Paediatrics\\nInternational ...\n",
              "                             ...                        \n",
              "279    Biologicals 32 (2004) 29–35\\n\\nBIOLOGICALS\\n\\n...\n",
              "280    CliniCal Trial\\npublished: 24 January 2018\\ndo...\n",
              "281    Vaccine xxx (2017) xxx–xxx\\n\\nContents lists a...\n",
              "282    Original Article\\n\\nWhole-Cell Pertussis Vacci...\n",
              "283    PII:  SO264-410X(97)00122-9 \\n\\nVaccine V\\n0 1...\n",
              "Name: clean_text, Length: 284, dtype: object"
            ]
          },
          "metadata": {},
          "execution_count": 15
        }
      ]
    },
    {
      "cell_type": "code",
      "source": [
        "papers['clean_text'] = papers['clean_text'].apply(lambda x: re.sub('\\w*\\d\\w*','', x))"
      ],
      "metadata": {
        "id": "VpPZFf_qGoHw",
        "colab": {
          "base_uri": "https://localhost:8080/"
        },
        "outputId": "d14f9705-c36f-4503-c8e3-d188d8b1913a"
      },
      "execution_count": null,
      "outputs": [
        {
          "output_type": "stream",
          "name": "stderr",
          "text": [
            "/usr/local/lib/python3.10/dist-packages/ipykernel/ipkernel.py:283: DeprecationWarning: `should_run_async` will not call `transform_cell` automatically in the future. Please pass the result to `transformed_cell` argument and any exception that happen during thetransform in `preprocessing_exc_tuple` in IPython 7.17 and above.\n",
            "  and should_run_async(code)\n",
            "<>:1: DeprecationWarning: invalid escape sequence '\\w'\n",
            "<>:1: DeprecationWarning: invalid escape sequence '\\w'\n",
            "<ipython-input-16-19470aad1fa3>:1: DeprecationWarning: invalid escape sequence '\\w'\n",
            "  papers['clean_text'] = papers['clean_text'].apply(lambda x: re.sub('\\w*\\d\\w*','', x))\n"
          ]
        }
      ]
    },
    {
      "cell_type": "code",
      "source": [
        "papers['clean_text'].sample(10)"
      ],
      "metadata": {
        "colab": {
          "base_uri": "https://localhost:8080/"
        },
        "id": "UGM0cC3kGrvx",
        "outputId": "b67de0e8-0597-4bfb-c0c4-3f36023bb91c"
      },
      "execution_count": null,
      "outputs": [
        {
          "output_type": "stream",
          "name": "stderr",
          "text": [
            "/usr/local/lib/python3.10/dist-packages/ipykernel/ipkernel.py:283: DeprecationWarning: `should_run_async` will not call `transform_cell` automatically in the future. Please pass the result to `transformed_cell` argument and any exception that happen during thetransform in `preprocessing_exc_tuple` in IPython 7.17 and above.\n",
            "  and should_run_async(code)\n"
          ]
        },
        {
          "output_type": "execute_result",
          "data": {
            "text/plain": [
              "141    Eur J Pediatr () : –\\n\\nO R I G I N A L P A P ...\n",
              "100    ORIGINAL STUDIES\\n\\nEncephalopathy After Whole...\n",
              "251    Scandinavian Journal of Infectious Diseases\\n\\...\n",
              "173    The Pediatric Infectious Disease Journal Publi...\n",
              "228     Clinical Microbiology and Infection Volume  N...\n",
              "208    Vaccine  () –\\n\\nContents lists available at S...\n",
              "11     Geier et al Translational Neurodegeneration  :...\n",
              "103    THE JOURNAL OF INFECTIOUS DISEASES • VOL  · NO...\n",
              "111    Vaccine  () –\\n\\nHospital-based active surveil...\n",
              "54     Pediatr Infect Dis J ;:–\\nCopyright ©  by Lipp...\n",
              "Name: clean_text, dtype: object"
            ]
          },
          "metadata": {},
          "execution_count": 17
        }
      ]
    },
    {
      "cell_type": "code",
      "source": [
        "from wordcloud import WordCloud\n",
        "def create_word_cloud(target_df, column_name):\n",
        "  print('Joining all words into long text....')\n",
        "  full_text = ','.join(list(target_df[column_name].values))\n",
        "  wordcloud = WordCloud(background_color=\"black\",\n",
        "                        max_words=100,  # top 100 words in the\n",
        "                        contour_width=2,\n",
        "                        contour_color='yellow')\n",
        "  print('Creating word cloud')\n",
        "  wordcloud.generate(full_text)\n",
        "  return wordcloud"
      ],
      "metadata": {
        "id": "0bVk3tqsGx6U",
        "colab": {
          "base_uri": "https://localhost:8080/"
        },
        "outputId": "c7b7a118-2a4b-4397-f432-296d5179fb6a"
      },
      "execution_count": null,
      "outputs": [
        {
          "output_type": "stream",
          "name": "stderr",
          "text": [
            "/usr/local/lib/python3.10/dist-packages/ipykernel/ipkernel.py:283: DeprecationWarning: `should_run_async` will not call `transform_cell` automatically in the future. Please pass the result to `transformed_cell` argument and any exception that happen during thetransform in `preprocessing_exc_tuple` in IPython 7.17 and above.\n",
            "  and should_run_async(code)\n"
          ]
        }
      ]
    },
    {
      "cell_type": "code",
      "source": [
        "wordcloud = create_word_cloud(papers, 'clean_text')\n",
        "wordcloud.to_image()"
      ],
      "metadata": {
        "colab": {
          "base_uri": "https://localhost:8080/",
          "height": 305
        },
        "id": "v1fIIXXjGzWQ",
        "outputId": "7a45861f-c214-4fcb-e79f-a0c0a75f013e"
      },
      "execution_count": null,
      "outputs": [
        {
          "output_type": "stream",
          "name": "stderr",
          "text": [
            "/usr/local/lib/python3.10/dist-packages/ipykernel/ipkernel.py:283: DeprecationWarning: `should_run_async` will not call `transform_cell` automatically in the future. Please pass the result to `transformed_cell` argument and any exception that happen during thetransform in `preprocessing_exc_tuple` in IPython 7.17 and above.\n",
            "  and should_run_async(code)\n"
          ]
        },
        {
          "output_type": "stream",
          "name": "stdout",
          "text": [
            "Joining all words into long text....\n",
            "Creating word cloud\n"
          ]
        },
        {
          "output_type": "execute_result",
          "data": {
            "text/plain": [
              "<PIL.Image.Image image mode=RGB size=400x200>"
            ],
            "image/png": "[encoded data removed]"
          },
          "metadata": {},
          "execution_count": 19
        }
      ]
    },
    {
      "cell_type": "code",
      "source": [
        "from sklearn.feature_extraction.text import CountVectorizer\n",
        "def create_document_term_matrix(dataframe, column_name):\n",
        "  cv = CountVectorizer(analyzer='word')\n",
        "  data = cv.fit_transform(dataframe[column_name])\n",
        "  df_dtm = pd.DataFrame(data.toarray(), columns=cv.get_feature_names_out())\n",
        "  df_dtm.index=dataframe.index\n",
        "  return df_dtm"
      ],
      "metadata": {
        "id": "7520VyPeHDiu",
        "colab": {
          "base_uri": "https://localhost:8080/"
        },
        "outputId": "78d641cc-975d-4db1-d71c-7b64df5a19e7"
      },
      "execution_count": null,
      "outputs": [
        {
          "output_type": "stream",
          "name": "stderr",
          "text": [
            "/usr/local/lib/python3.10/dist-packages/ipykernel/ipkernel.py:283: DeprecationWarning: `should_run_async` will not call `transform_cell` automatically in the future. Please pass the result to `transformed_cell` argument and any exception that happen during thetransform in `preprocessing_exc_tuple` in IPython 7.17 and above.\n",
            "  and should_run_async(code)\n"
          ]
        }
      ]
    },
    {
      "cell_type": "code",
      "source": [
        "df_dtm = create_document_term_matrix(papers, 'clean_text')"
      ],
      "metadata": {
        "id": "vXAE0c0BHHjw",
        "colab": {
          "base_uri": "https://localhost:8080/"
        },
        "outputId": "ae3bc8a1-43b3-4c74-a5f3-fcb5797daae4"
      },
      "execution_count": null,
      "outputs": [
        {
          "output_type": "stream",
          "name": "stderr",
          "text": [
            "/usr/local/lib/python3.10/dist-packages/ipykernel/ipkernel.py:283: DeprecationWarning: `should_run_async` will not call `transform_cell` automatically in the future. Please pass the result to `transformed_cell` argument and any exception that happen during thetransform in `preprocessing_exc_tuple` in IPython 7.17 and above.\n",
            "  and should_run_async(code)\n"
          ]
        }
      ]
    },
    {
      "cell_type": "code",
      "source": [
        "df_dtm.sample(10)"
      ],
      "metadata": {
        "colab": {
          "base_uri": "https://localhost:8080/",
          "height": 442
        },
        "id": "Kaw3lYiCHKVX",
        "outputId": "770c4341-e7b3-4794-8c95-dbf5f3ca4754"
      },
      "execution_count": null,
      "outputs": [
        {
          "output_type": "stream",
          "name": "stderr",
          "text": [
            "/usr/local/lib/python3.10/dist-packages/ipykernel/ipkernel.py:283: DeprecationWarning: `should_run_async` will not call `transform_cell` automatically in the future. Please pass the result to `transformed_cell` argument and any exception that happen during thetransform in `preprocessing_exc_tuple` in IPython 7.17 and above.\n",
            "  and should_run_async(code)\n"
          ]
        },
        {
          "output_type": "execute_result",
          "data": {
            "text/plain": [
              "     __  ___  _i  _l  _l_  _l_l  _ma  _rre  _u  a__l  ...  ﬂuctuating  \\\n",
              "233   0    0   0   0    0     0    0     0   0     0  ...           0   \n",
              "109   1    0   0   0    0     0    0     0   0     0  ...           0   \n",
              "139   0    0   0   0    0     0    0     0   0     0  ...           0   \n",
              "131   0    0   0   0    0     0    0     0   0     0  ...           0   \n",
              "1     0    0   0   0    0     0    0     0   0     0  ...           0   \n",
              "208   0    0   0   0    0     0    0     0   0     0  ...           0   \n",
              "10    0    0   0   0    0     0    0     0   0     0  ...           0   \n",
              "56    0    0   0   0    0     0    0     0   0     0  ...           0   \n",
              "165   0    0   0   0    0     0    0     0   0     0  ...           0   \n",
              "100   0    0   0   0    0     0    0     0   0     0  ...           0   \n",
              "\n",
              "     ﬂuctuations  ﬂuenzae  ﬂuid  ﬂuo  ﬂuorenscence  ﬂuorescence  ﬂuorescent  \\\n",
              "233            0        0     0    0             0            0           0   \n",
              "109            0        0     0    0             0            0           0   \n",
              "139            0        0     1    0             0            0           0   \n",
              "131            0        0     0    0             0            0           0   \n",
              "1              0        0     0    0             0            0           0   \n",
              "208            0        0     7    0             0            0           0   \n",
              "10             0        0     0    0             0            0           0   \n",
              "56             0        0     0    0             0            0           0   \n",
              "165            0        0     0    0             0            0           0   \n",
              "100            0        0     2    0             0            0           0   \n",
              "\n",
              "     ﬂuorometry  \\\n",
              "233           0   \n",
              "109           0   \n",
              "139           0   \n",
              "131           0   \n",
              "1             0   \n",
              "208           0   \n",
              "10            0   \n",
              "56            0   \n",
              "165           0   \n",
              "100           0   \n",
              "\n",
              "     ﬃﬃﬃﬃﬃﬃﬃﬃﬃﬃﬃﬃﬃﬃﬃﬃﬃﬃﬃﬃﬃﬃﬃﬃﬃﬃﬃﬃﬃﬃﬃﬃﬃﬃﬃﬃﬃﬃﬃﬃﬃﬃﬃﬃﬃﬃﬃﬃﬃﬃﬃﬃﬃﬃﬃﬃﬃﬃﬃﬃﬃﬃﬃﬃﬃﬃﬃﬃﬃﬃﬃﬃﬃﬃﬃﬃﬃﬃﬃﬃﬃﬃﬃﬃﬃﬃﬃﬃﬃﬃﬃ  \n",
              "233                                                  0                                            \n",
              "109                                                  0                                            \n",
              "139                                                  0                                            \n",
              "131                                                  0                                            \n",
              "1                                                    0                                            \n",
              "208                                                  0                                            \n",
              "10                                                   0                                            \n",
              "56                                                   0                                            \n",
              "165                                                  0                                            \n",
              "100                                                  0                                            \n",
              "\n",
              "[10 rows x 37787 columns]"
            ],
            "text/html": [
              "\n",
              "  <div id=\"df-fc837a17-f8ca-420b-a72a-2f48d8a3eaad\" class=\"colab-df-container\">\n",
              "    <div>\n",
              "<style scoped>\n",
              "    .dataframe tbody tr th:only-of-type {\n",
              "        vertical-align: middle;\n",
              "    }\n",
              "\n",
              "    .dataframe tbody tr th {\n",
              "        vertical-align: top;\n",
              "    }\n",
              "\n",
              "    .dataframe thead th {\n",
              "        text-align: right;\n",
              "    }\n",
              "</style>\n",
              "<table border=\"1\" class=\"dataframe\">\n",
              "  <thead>\n",
              "    <tr style=\"text-align: right;\">\n",
              "      <th></th>\n",
              "      <th>__</th>\n",
              "      <th>___</th>\n",
              "      <th>_i</th>\n",
              "      <th>_l</th>\n",
              "      <th>_l_</th>\n",
              "      <th>_l_l</th>\n",
              "      <th>_ma</th>\n",
              "      <th>_rre</th>\n",
              "      <th>_u</th>\n",
              "      <th>a__l</th>\n",
              "      <th>...</th>\n",
              "      <th>ﬂuctuating</th>\n",
              "      <th>ﬂuctuations</th>\n",
              "      <th>ﬂuenzae</th>\n",
              "      <th>ﬂuid</th>\n",
              "      <th>ﬂuo</th>\n",
              "      <th>ﬂuorenscence</th>\n",
              "      <th>ﬂuorescence</th>\n",
              "      <th>ﬂuorescent</th>\n",
              "      <th>ﬂuorometry</th>\n",
              "      <th>ﬃﬃﬃﬃﬃﬃﬃﬃﬃﬃﬃﬃﬃﬃﬃﬃﬃﬃﬃﬃﬃﬃﬃﬃﬃﬃﬃﬃﬃﬃﬃﬃﬃﬃﬃﬃﬃﬃﬃﬃﬃﬃﬃﬃﬃﬃﬃﬃﬃﬃﬃﬃﬃﬃﬃﬃﬃﬃﬃﬃﬃﬃﬃﬃﬃﬃﬃﬃﬃﬃﬃﬃﬃﬃﬃﬃﬃﬃﬃﬃﬃﬃﬃﬃﬃﬃﬃﬃﬃﬃﬃ</th>\n",
              "    </tr>\n",
              "  </thead>\n",
              "  <tbody>\n",
              "    <tr>\n",
              "      <th>233</th>\n",
              "      <td>0</td>\n",
              "      <td>0</td>\n",
              "      <td>0</td>\n",
              "      <td>0</td>\n",
              "      <td>0</td>\n",
              "      <td>0</td>\n",
              "      <td>0</td>\n",
              "      <td>0</td>\n",
              "      <td>0</td>\n",
              "      <td>0</td>\n",
              "      <td>...</td>\n",
              "      <td>0</td>\n",
              "      <td>0</td>\n",
              "      <td>0</td>\n",
              "      <td>0</td>\n",
              "      <td>0</td>\n",
              "      <td>0</td>\n",
              "      <td>0</td>\n",
              "      <td>0</td>\n",
              "      <td>0</td>\n",
              "      <td>0</td>\n",
              "    </tr>\n",
              "    <tr>\n",
              "      <th>109</th>\n",
              "      <td>1</td>\n",
              "      <td>0</td>\n",
              "      <td>0</td>\n",
              "      <td>0</td>\n",
              "      <td>0</td>\n",
              "      <td>0</td>\n",
              "      <td>0</td>\n",
              "      <td>0</td>\n",
              "      <td>0</td>\n",
              "      <td>0</td>\n",
              "      <td>...</td>\n",
              "      <td>0</td>\n",
              "      <td>0</td>\n",
              "      <td>0</td>\n",
              "      <td>0</td>\n",
              "      <td>0</td>\n",
              "      <td>0</td>\n",
              "      <td>0</td>\n",
              "      <td>0</td>\n",
              "      <td>0</td>\n",
              "      <td>0</td>\n",
              "    </tr>\n",
              "    <tr>\n",
              "      <th>139</th>\n",
              "      <td>0</td>\n",
              "      <td>0</td>\n",
              "      <td>0</td>\n",
              "      <td>0</td>\n",
              "      <td>0</td>\n",
              "      <td>0</td>\n",
              "      <td>0</td>\n",
              "      <td>0</td>\n",
              "      <td>0</td>\n",
              "      <td>0</td>\n",
              "      <td>...</td>\n",
              "      <td>0</td>\n",
              "      <td>0</td>\n",
              "      <td>0</td>\n",
              "      <td>1</td>\n",
              "      <td>0</td>\n",
              "      <td>0</td>\n",
              "      <td>0</td>\n",
              "      <td>0</td>\n",
              "      <td>0</td>\n",
              "      <td>0</td>\n",
              "    </tr>\n",
              "    <tr>\n",
              "      <th>131</th>\n",
              "      <td>0</td>\n",
              "      <td>0</td>\n",
              "      <td>0</td>\n",
              "      <td>0</td>\n",
              "      <td>0</td>\n",
              "      <td>0</td>\n",
              "      <td>0</td>\n",
              "      <td>0</td>\n",
              "      <td>0</td>\n",
              "      <td>0</td>\n",
              "      <td>...</td>\n",
              "      <td>0</td>\n",
              "      <td>0</td>\n",
              "      <td>0</td>\n",
              "      <td>0</td>\n",
              "      <td>0</td>\n",
              "      <td>0</td>\n",
              "      <td>0</td>\n",
              "      <td>0</td>\n",
              "      <td>0</td>\n",
              "      <td>0</td>\n",
              "    </tr>\n",
              "    <tr>\n",
              "      <th>1</th>\n",
              "      <td>0</td>\n",
              "      <td>0</td>\n",
              "      <td>0</td>\n",
              "      <td>0</td>\n",
              "      <td>0</td>\n",
              "      <td>0</td>\n",
              "      <td>0</td>\n",
              "      <td>0</td>\n",
              "      <td>0</td>\n",
              "      <td>0</td>\n",
              "      <td>...</td>\n",
              "      <td>0</td>\n",
              "      <td>0</td>\n",
              "      <td>0</td>\n",
              "      <td>0</td>\n",
              "      <td>0</td>\n",
              "      <td>0</td>\n",
              "      <td>0</td>\n",
              "      <td>0</td>\n",
              "      <td>0</td>\n",
              "      <td>0</td>\n",
              "    </tr>\n",
              "    <tr>\n",
              "      <th>208</th>\n",
              "      <td>0</td>\n",
              "      <td>0</td>\n",
              "      <td>0</td>\n",
              "      <td>0</td>\n",
              "      <td>0</td>\n",
              "      <td>0</td>\n",
              "      <td>0</td>\n",
              "      <td>0</td>\n",
              "      <td>0</td>\n",
              "      <td>0</td>\n",
              "      <td>...</td>\n",
              "      <td>0</td>\n",
              "      <td>0</td>\n",
              "      <td>0</td>\n",
              "      <td>7</td>\n",
              "      <td>0</td>\n",
              "      <td>0</td>\n",
              "      <td>0</td>\n",
              "      <td>0</td>\n",
              "      <td>0</td>\n",
              "      <td>0</td>\n",
              "    </tr>\n",
              "    <tr>\n",
              "      <th>10</th>\n",
              "      <td>0</td>\n",
              "      <td>0</td>\n",
              "      <td>0</td>\n",
              "      <td>0</td>\n",
              "      <td>0</td>\n",
              "      <td>0</td>\n",
              "      <td>0</td>\n",
              "      <td>0</td>\n",
              "      <td>0</td>\n",
              "      <td>0</td>\n",
              "      <td>...</td>\n",
              "      <td>0</td>\n",
              "      <td>0</td>\n",
              "      <td>0</td>\n",
              "      <td>0</td>\n",
              "      <td>0</td>\n",
              "      <td>0</td>\n",
              "      <td>0</td>\n",
              "      <td>0</td>\n",
              "      <td>0</td>\n",
              "      <td>0</td>\n",
              "    </tr>\n",
              "    <tr>\n",
              "      <th>56</th>\n",
              "      <td>0</td>\n",
              "      <td>0</td>\n",
              "      <td>0</td>\n",
              "      <td>0</td>\n",
              "      <td>0</td>\n",
              "      <td>0</td>\n",
              "      <td>0</td>\n",
              "      <td>0</td>\n",
              "      <td>0</td>\n",
              "      <td>0</td>\n",
              "      <td>...</td>\n",
              "      <td>0</td>\n",
              "      <td>0</td>\n",
              "      <td>0</td>\n",
              "      <td>0</td>\n",
              "      <td>0</td>\n",
              "      <td>0</td>\n",
              "      <td>0</td>\n",
              "      <td>0</td>\n",
              "      <td>0</td>\n",
              "      <td>0</td>\n",
              "    </tr>\n",
              "    <tr>\n",
              "      <th>165</th>\n",
              "      <td>0</td>\n",
              "      <td>0</td>\n",
              "      <td>0</td>\n",
              "      <td>0</td>\n",
              "      <td>0</td>\n",
              "      <td>0</td>\n",
              "      <td>0</td>\n",
              "      <td>0</td>\n",
              "      <td>0</td>\n",
              "      <td>0</td>\n",
              "      <td>...</td>\n",
              "      <td>0</td>\n",
              "      <td>0</td>\n",
              "      <td>0</td>\n",
              "      <td>0</td>\n",
              "      <td>0</td>\n",
              "      <td>0</td>\n",
              "      <td>0</td>\n",
              "      <td>0</td>\n",
              "      <td>0</td>\n",
              "      <td>0</td>\n",
              "    </tr>\n",
              "    <tr>\n",
              "      <th>100</th>\n",
              "      <td>0</td>\n",
              "      <td>0</td>\n",
              "      <td>0</td>\n",
              "      <td>0</td>\n",
              "      <td>0</td>\n",
              "      <td>0</td>\n",
              "      <td>0</td>\n",
              "      <td>0</td>\n",
              "      <td>0</td>\n",
              "      <td>0</td>\n",
              "      <td>...</td>\n",
              "      <td>0</td>\n",
              "      <td>0</td>\n",
              "      <td>0</td>\n",
              "      <td>2</td>\n",
              "      <td>0</td>\n",
              "      <td>0</td>\n",
              "      <td>0</td>\n",
              "      <td>0</td>\n",
              "      <td>0</td>\n",
              "      <td>0</td>\n",
              "    </tr>\n",
              "  </tbody>\n",
              "</table>\n",
              "<p>10 rows × 37787 columns</p>\n",
              "</div>\n",
              "    <div class=\"colab-df-buttons\">\n",
              "\n",
              "  <div class=\"colab-df-container\">\n",
              "    <button class=\"colab-df-convert\" onclick=\"convertToInteractive('df-fc837a17-f8ca-420b-a72a-2f48d8a3eaad')\"\n",
              "            title=\"Convert this dataframe to an interactive table.\"\n",
              "            style=\"display:none;\">\n",
              "\n",
              "  <svg xmlns=\"http://www.w3.org/2000/svg\" height=\"24px\" viewBox=\"0 -960 960 960\">\n",
              "    <path d=\"M120-120v-720h720v720H120Zm60-500h600v-160H180v160Zm220 220h160v-160H400v160Zm0 220h160v-160H400v160ZM180-400h160v-160H180v160Zm440 0h160v-160H620v160ZM180-180h160v-160H180v160Zm440 0h160v-160H620v160Z\"/>\n",
              "  </svg>\n",
              "    </button>\n",
              "\n",
              "  <style>\n",
              "    .colab-df-container {\n",
              "      display:flex;\n",
              "      gap: 12px;\n",
              "    }\n",
              "\n",
              "    .colab-df-convert {\n",
              "      background-color: #E8F0FE;\n",
              "      border: none;\n",
              "      border-radius: 50%;\n",
              "      cursor: pointer;\n",
              "      display: none;\n",
              "      fill: #1967D2;\n",
              "      height: 32px;\n",
              "      padding: 0 0 0 0;\n",
              "      width: 32px;\n",
              "    }\n",
              "\n",
              "    .colab-df-convert:hover {\n",
              "      background-color: #E2EBFA;\n",
              "      box-shadow: 0px 1px 2px rgba(60, 64, 67, 0.3), 0px 1px 3px 1px rgba(60, 64, 67, 0.15);\n",
              "      fill: #174EA6;\n",
              "    }\n",
              "\n",
              "    .colab-df-buttons div {\n",
              "      margin-bottom: 4px;\n",
              "    }\n",
              "\n",
              "    [theme=dark] .colab-df-convert {\n",
              "      background-color: #3B4455;\n",
              "      fill: #D2E3FC;\n",
              "    }\n",
              "\n",
              "    [theme=dark] .colab-df-convert:hover {\n",
              "      background-color: #434B5C;\n",
              "      box-shadow: 0px 1px 3px 1px rgba(0, 0, 0, 0.15);\n",
              "      filter: drop-shadow(0px 1px 2px rgba(0, 0, 0, 0.3));\n",
              "      fill: #FFFFFF;\n",
              "    }\n",
              "  </style>\n",
              "\n",
              "    <script>\n",
              "      const buttonEl =\n",
              "        document.querySelector('#df-fc837a17-f8ca-420b-a72a-2f48d8a3eaad button.colab-df-convert');\n",
              "      buttonEl.style.display =\n",
              "        google.colab.kernel.accessAllowed ? 'block' : 'none';\n",
              "\n",
              "      async function convertToInteractive(key) {\n",
              "        const element = document.querySelector('#df-fc837a17-f8ca-420b-a72a-2f48d8a3eaad');\n",
              "        const dataTable =\n",
              "          await google.colab.kernel.invokeFunction('convertToInteractive',\n",
              "                                                    [key], {});\n",
              "        if (!dataTable) return;\n",
              "\n",
              "        const docLinkHtml = 'Like what you see? Visit the ' +\n",
              "          '<a target=\"_blank\" href=https://colab.research.google.com/notebooks/data_table.ipynb>data table notebook</a>'\n",
              "          + ' to learn more about interactive tables.';\n",
              "        element.innerHTML = '';\n",
              "        dataTable['output_type'] = 'display_data';\n",
              "        await google.colab.output.renderOutput(dataTable, element);\n",
              "        const docLink = document.createElement('div');\n",
              "        docLink.innerHTML = docLinkHtml;\n",
              "        element.appendChild(docLink);\n",
              "      }\n",
              "    </script>\n",
              "  </div>\n",
              "\n",
              "\n",
              "<div id=\"df-7c6e8a07-3757-4aad-b400-0a7075d8ee6c\">\n",
              "  <button class=\"colab-df-quickchart\" onclick=\"quickchart('df-7c6e8a07-3757-4aad-b400-0a7075d8ee6c')\"\n",
              "            title=\"Suggest charts\"\n",
              "            style=\"display:none;\">\n",
              "\n",
              "<svg xmlns=\"http://www.w3.org/2000/svg\" height=\"24px\"viewBox=\"0 0 24 24\"\n",
              "     width=\"24px\">\n",
              "    <g>\n",
              "        <path d=\"M19 3H5c-1.1 0-2 .9-2 2v14c0 1.1.9 2 2 2h14c1.1 0 2-.9 2-2V5c0-1.1-.9-2-2-2zM9 17H7v-7h2v7zm4 0h-2V7h2v10zm4 0h-2v-4h2v4z\"/>\n",
              "    </g>\n",
              "</svg>\n",
              "  </button>\n",
              "\n",
              "<style>\n",
              "  .colab-df-quickchart {\n",
              "      --bg-color: #E8F0FE;\n",
              "      --fill-color: #1967D2;\n",
              "      --hover-bg-color: #E2EBFA;\n",
              "      --hover-fill-color: #174EA6;\n",
              "      --disabled-fill-color: #AAA;\n",
              "      --disabled-bg-color: #DDD;\n",
              "  }\n",
              "\n",
              "  [theme=dark] .colab-df-quickchart {\n",
              "      --bg-color: #3B4455;\n",
              "      --fill-color: #D2E3FC;\n",
              "      --hover-bg-color: #434B5C;\n",
              "      --hover-fill-color: #FFFFFF;\n",
              "      --disabled-bg-color: #3B4455;\n",
              "      --disabled-fill-color: #666;\n",
              "  }\n",
              "\n",
              "  .colab-df-quickchart {\n",
              "    background-color: var(--bg-color);\n",
              "    border: none;\n",
              "    border-radius: 50%;\n",
              "    cursor: pointer;\n",
              "    display: none;\n",
              "    fill: var(--fill-color);\n",
              "    height: 32px;\n",
              "    padding: 0;\n",
              "    width: 32px;\n",
              "  }\n",
              "\n",
              "  .colab-df-quickchart:hover {\n",
              "    background-color: var(--hover-bg-color);\n",
              "    box-shadow: 0 1px 2px rgba(60, 64, 67, 0.3), 0 1px 3px 1px rgba(60, 64, 67, 0.15);\n",
              "    fill: var(--button-hover-fill-color);\n",
              "  }\n",
              "\n",
              "  .colab-df-quickchart-complete:disabled,\n",
              "  .colab-df-quickchart-complete:disabled:hover {\n",
              "    background-color: var(--disabled-bg-color);\n",
              "    fill: var(--disabled-fill-color);\n",
              "    box-shadow: none;\n",
              "  }\n",
              "\n",
              "  .colab-df-spinner {\n",
              "    border: 2px solid var(--fill-color);\n",
              "    border-color: transparent;\n",
              "    border-bottom-color: var(--fill-color);\n",
              "    animation:\n",
              "      spin 1s steps(1) infinite;\n",
              "  }\n",
              "\n",
              "  @keyframes spin {\n",
              "    0% {\n",
              "      border-color: transparent;\n",
              "      border-bottom-color: var(--fill-color);\n",
              "      border-left-color: var(--fill-color);\n",
              "    }\n",
              "    20% {\n",
              "      border-color: transparent;\n",
              "      border-left-color: var(--fill-color);\n",
              "      border-top-color: var(--fill-color);\n",
              "    }\n",
              "    30% {\n",
              "      border-color: transparent;\n",
              "      border-left-color: var(--fill-color);\n",
              "      border-top-color: var(--fill-color);\n",
              "      border-right-color: var(--fill-color);\n",
              "    }\n",
              "    40% {\n",
              "      border-color: transparent;\n",
              "      border-right-color: var(--fill-color);\n",
              "      border-top-color: var(--fill-color);\n",
              "    }\n",
              "    60% {\n",
              "      border-color: transparent;\n",
              "      border-right-color: var(--fill-color);\n",
              "    }\n",
              "    80% {\n",
              "      border-color: transparent;\n",
              "      border-right-color: var(--fill-color);\n",
              "      border-bottom-color: var(--fill-color);\n",
              "    }\n",
              "    90% {\n",
              "      border-color: transparent;\n",
              "      border-bottom-color: var(--fill-color);\n",
              "    }\n",
              "  }\n",
              "</style>\n",
              "\n",
              "  <script>\n",
              "    async function quickchart(key) {\n",
              "      const quickchartButtonEl =\n",
              "        document.querySelector('#' + key + ' button');\n",
              "      quickchartButtonEl.disabled = true;  // To prevent multiple clicks.\n",
              "      quickchartButtonEl.classList.add('colab-df-spinner');\n",
              "      try {\n",
              "        const charts = await google.colab.kernel.invokeFunction(\n",
              "            'suggestCharts', [key], {});\n",
              "      } catch (error) {\n",
              "        console.error('Error during call to suggestCharts:', error);\n",
              "      }\n",
              "      quickchartButtonEl.classList.remove('colab-df-spinner');\n",
              "      quickchartButtonEl.classList.add('colab-df-quickchart-complete');\n",
              "    }\n",
              "    (() => {\n",
              "      let quickchartButtonEl =\n",
              "        document.querySelector('#df-7c6e8a07-3757-4aad-b400-0a7075d8ee6c button');\n",
              "      quickchartButtonEl.style.display =\n",
              "        google.colab.kernel.accessAllowed ? 'block' : 'none';\n",
              "    })();\n",
              "  </script>\n",
              "</div>\n",
              "\n",
              "    </div>\n",
              "  </div>\n"
            ]
          },
          "metadata": {},
          "execution_count": 22
        }
      ]
    },
    {
      "cell_type": "code",
      "source": [
        "import gensim\n",
        "from gensim.utils import simple_preprocess\n",
        "import nltk"
      ],
      "metadata": {
        "id": "TgPpBe7ZHPLh",
        "colab": {
          "base_uri": "https://localhost:8080/"
        },
        "outputId": "1869871d-60a8-4cf4-d572-f46cd395e59c"
      },
      "execution_count": null,
      "outputs": [
        {
          "output_type": "stream",
          "name": "stderr",
          "text": [
            "/usr/local/lib/python3.10/dist-packages/ipykernel/ipkernel.py:283: DeprecationWarning: `should_run_async` will not call `transform_cell` automatically in the future. Please pass the result to `transformed_cell` argument and any exception that happen during thetransform in `preprocessing_exc_tuple` in IPython 7.17 and above.\n",
            "  and should_run_async(code)\n"
          ]
        }
      ]
    },
    {
      "cell_type": "code",
      "source": [
        "nltk.download('stopwords')"
      ],
      "metadata": {
        "colab": {
          "base_uri": "https://localhost:8080/"
        },
        "id": "50vp0RCcHTWv",
        "outputId": "aadfe8e9-22a2-422b-db4f-078523d6ebb0"
      },
      "execution_count": null,
      "outputs": [
        {
          "output_type": "stream",
          "name": "stderr",
          "text": [
            "/usr/local/lib/python3.10/dist-packages/ipykernel/ipkernel.py:283: DeprecationWarning: `should_run_async` will not call `transform_cell` automatically in the future. Please pass the result to `transformed_cell` argument and any exception that happen during thetransform in `preprocessing_exc_tuple` in IPython 7.17 and above.\n",
            "  and should_run_async(code)\n",
            "[nltk_data] Downloading package stopwords to /root/nltk_data...\n",
            "[nltk_data]   Package stopwords is already up-to-date!\n"
          ]
        },
        {
          "output_type": "execute_result",
          "data": {
            "text/plain": [
              "True"
            ]
          },
          "metadata": {},
          "execution_count": 24
        }
      ]
    },
    {
      "cell_type": "code",
      "source": [
        "from nltk.corpus import stopwords"
      ],
      "metadata": {
        "id": "QMVEshOTHVgf",
        "colab": {
          "base_uri": "https://localhost:8080/"
        },
        "outputId": "bcdb374c-a254-438c-c550-c1f07ba2631b"
      },
      "execution_count": null,
      "outputs": [
        {
          "output_type": "stream",
          "name": "stderr",
          "text": [
            "/usr/local/lib/python3.10/dist-packages/ipykernel/ipkernel.py:283: DeprecationWarning: `should_run_async` will not call `transform_cell` automatically in the future. Please pass the result to `transformed_cell` argument and any exception that happen during thetransform in `preprocessing_exc_tuple` in IPython 7.17 and above.\n",
            "  and should_run_async(code)\n"
          ]
        }
      ]
    },
    {
      "cell_type": "code",
      "source": [
        "stop_words = stopwords.words('english')\n",
        "stop_words.extend(['has', 'been', 're', 'com', 'edu', 'use'])"
      ],
      "metadata": {
        "id": "oe6-YaLCHadJ",
        "colab": {
          "base_uri": "https://localhost:8080/"
        },
        "outputId": "2b72cc43-0905-486e-d980-32b12e54d056"
      },
      "execution_count": null,
      "outputs": [
        {
          "output_type": "stream",
          "name": "stderr",
          "text": [
            "/usr/local/lib/python3.10/dist-packages/ipykernel/ipkernel.py:283: DeprecationWarning: `should_run_async` will not call `transform_cell` automatically in the future. Please pass the result to `transformed_cell` argument and any exception that happen during thetransform in `preprocessing_exc_tuple` in IPython 7.17 and above.\n",
            "  and should_run_async(code)\n"
          ]
        }
      ]
    },
    {
      "cell_type": "code",
      "source": [
        "def convert_sentences_to_words(sentences):\n",
        "    for sentence in sentences:\n",
        "        yield(gensim.utils.simple_preprocess(str(sentence), deacc=True))"
      ],
      "metadata": {
        "id": "mufKJ9S9HgBZ",
        "colab": {
          "base_uri": "https://localhost:8080/"
        },
        "outputId": "f9a6d5f8-e675-4aca-ca3c-c302e80fbc1f"
      },
      "execution_count": null,
      "outputs": [
        {
          "output_type": "stream",
          "name": "stderr",
          "text": [
            "/usr/local/lib/python3.10/dist-packages/ipykernel/ipkernel.py:283: DeprecationWarning: `should_run_async` will not call `transform_cell` automatically in the future. Please pass the result to `transformed_cell` argument and any exception that happen during thetransform in `preprocessing_exc_tuple` in IPython 7.17 and above.\n",
            "  and should_run_async(code)\n"
          ]
        }
      ]
    },
    {
      "cell_type": "code",
      "source": [
        "def remove_all_stop_words(texts):\n",
        "    return [[word for word in simple_preprocess(str(doc))\n",
        "             if word not in stop_words] for doc in texts]"
      ],
      "metadata": {
        "id": "1pST2-SUHi5z",
        "colab": {
          "base_uri": "https://localhost:8080/"
        },
        "outputId": "2805dd5a-aef2-44f4-fdbe-c84573598d91"
      },
      "execution_count": null,
      "outputs": [
        {
          "output_type": "stream",
          "name": "stderr",
          "text": [
            "/usr/local/lib/python3.10/dist-packages/ipykernel/ipkernel.py:283: DeprecationWarning: `should_run_async` will not call `transform_cell` automatically in the future. Please pass the result to `transformed_cell` argument and any exception that happen during thetransform in `preprocessing_exc_tuple` in IPython 7.17 and above.\n",
            "  and should_run_async(code)\n"
          ]
        }
      ]
    },
    {
      "cell_type": "code",
      "source": [
        "text_to_list = papers.clean_text.values.tolist()"
      ],
      "metadata": {
        "id": "sNooZfhPHkap",
        "colab": {
          "base_uri": "https://localhost:8080/"
        },
        "outputId": "d1e7ad9e-0565-4daa-e462-59c34e09654b"
      },
      "execution_count": null,
      "outputs": [
        {
          "output_type": "stream",
          "name": "stderr",
          "text": [
            "/usr/local/lib/python3.10/dist-packages/ipykernel/ipkernel.py:283: DeprecationWarning: `should_run_async` will not call `transform_cell` automatically in the future. Please pass the result to `transformed_cell` argument and any exception that happen during thetransform in `preprocessing_exc_tuple` in IPython 7.17 and above.\n",
            "  and should_run_async(code)\n"
          ]
        }
      ]
    },
    {
      "cell_type": "code",
      "source": [
        "len(text_to_list)"
      ],
      "metadata": {
        "colab": {
          "base_uri": "https://localhost:8080/"
        },
        "id": "YRFyjXq3HoBr",
        "outputId": "b4dc1c8d-83e4-4e0f-9b71-7b5cf858c81c"
      },
      "execution_count": null,
      "outputs": [
        {
          "output_type": "stream",
          "name": "stderr",
          "text": [
            "/usr/local/lib/python3.10/dist-packages/ipykernel/ipkernel.py:283: DeprecationWarning: `should_run_async` will not call `transform_cell` automatically in the future. Please pass the result to `transformed_cell` argument and any exception that happen during thetransform in `preprocessing_exc_tuple` in IPython 7.17 and above.\n",
            "  and should_run_async(code)\n"
          ]
        },
        {
          "output_type": "execute_result",
          "data": {
            "text/plain": [
              "284"
            ]
          },
          "metadata": {},
          "execution_count": 30
        }
      ]
    },
    {
      "cell_type": "code",
      "source": [
        "text_to_list[0]"
      ],
      "metadata": {
        "colab": {
          "base_uri": "https://localhost:8080/",
          "height": 242
        },
        "id": "jsSoazk_HtKU",
        "outputId": "37155570-0e25-4964-9d2b-54cbe32035f8"
      },
      "execution_count": null,
      "outputs": [
        {
          "output_type": "stream",
          "name": "stderr",
          "text": [
            "/usr/local/lib/python3.10/dist-packages/ipykernel/ipkernel.py:283: DeprecationWarning: `should_run_async` will not call `transform_cell` automatically in the future. Please pass the result to `transformed_cell` argument and any exception that happen during thetransform in `preprocessing_exc_tuple` in IPython 7.17 and above.\n",
            "  and should_run_async(code)\n"
          ]
        },
        {
          "output_type": "execute_result",
          "data": {
            "text/plain": [
              "\"©  John Wiley & Sons A/S\\nPublished by John Wiley & Sons Ltd\\n\\nTransplant Infectious Disease ISSN -\\n\\nA cross-sectional study of tetanus and diphtheria\\nantibody concentrations post vaccination among\\nlung transplant patients compared with healthy\\nindividuals\\n\\nKA Rohde KC Cunningham KM Henriquez AR Nielsen SL\\nWorzella MS Hayney A cross-sectional study of tetanus and\\ndiphtheria antibody concentrations post vaccination among lung\\ntransplant patients compared with healthy individuals\\nTranspl Infect Dis : : – All rights reserved\\n\\nAbstract: Background Lung transplant (LuTx) patients are\\nroutinely immunized against tetanus and diphtheria However few\\nstudies have been done to measure serologic immunity in the\\ntransplant population\\nObjectives The primary objective of this study was to compare\\ntetanus and diphtheria antibody concentrations in LuTx vs healthy\\nsubjects\\nMethods Serum was used from an available sample of  total\\nindividuals (n =  healthy; n =  LuTx) Tetanus and diphtheria\\nantibody concentrations were measured using an enzyme-linked\\nimmunosorbant assay method\\nResults A statistically signiﬁcant difference in both tetanus and\\ndiphtheria antibody concentrations was found between the groups\\nThe median concentration of tetanus antibody was higher for\\nhealthy individuals compared with the LuTx group ( IU/mL [–\\n interquartile range {IQR}] vs  IU/mL [– IQR]\\nrespectively; P = ) No difference in time was found since the\\nlast tetanus-diphtheria vaccine or tetanus-diphtheria-pertussis\\nvaccine dose between the groups (healthy  months [–\\nIQR] vs LuTx  months [– IQR]; P = )\\nConclusions Tetanus and diphtheria immunizations are\\nrecommended for LuTx patients to reduce the risk of infection\\nBecause the LuTx group has lower antibody concentrations further\\nstudies should investigate the possible need for more frequent\\ntetanus and diphtheria boosters\\n\\nKA  KC \\nKM  AR \\nSL  MS \\n of Pharmacy University of Wisconsin-Madison\\nMadison Wisconsin USA  of Pharmacy\\nUniversity of Wisconsin Hospital and Clinics Madison\\nWisconsin USA\\n\\nKey words: tetanus vaccine; diphtheria vaccine;\\nlung transplantation; antibody response;\\nseroprotection\\n\\nCorrespondence to:\\nMary S Hayney PharmD MPH FCCP BCPS\\nProfessor of Pharmacy (CHS) University of\\nWisconsin School of Pharmacy  Highland\\nAvenue Madison WI - USA\\nTel: --\\nFax: --\\nE-mail: mshayney@pharmacywiscedu\\n\\nReceived  April  revised  June  \\nJuly  accepted for publication  July \\n\\nDOI: /\\nTranspl Infect Dis : : –\\n\\nDisease caused by tetanus and diphtheria is rare\\namong healthy individuals because of the widespread\\nimmunization that began after World War II Healthy\\nindividuals are able to mount a protective immune\\nresponse after immunization with the combination of\\ntetanus and diphtheria (Td) or the tetanus diphtheria\\nand pertussis (Tdap) vaccines This protection is\\nmaintained over time with a required booster every\\n years\\nlimited\\ninformation regarding duration of protection after Td\\n\\n() Although viewed as\\n\\nsafe\\n\\nor Tdap vaccination in solid organ transplant (SOT)\\npatients is available ( ) Because of the acute onset\\nand potentially fatal outcomes associated with these\\ninfections reduced immunity over time poses a signif-\\nicant threat for immunosuppressed individuals Current\\nrecommendations are to vaccinate SOT patients at the\\nsame interval as healthy individuals ( ) It may be\\nreasonable to consider alternative tetanus and diphthe-\\nria vaccination schedules for this group if protective\\nlevels are not maintained throughout\\nthe booster\\n\\n\\n\\n\\x0cRohde et al: Duration of tetanus and diphtheria protection\\n\\nperiod Protection rates were found to differ among\\nliver and renal\\nindicating that\\npersistence of antibody concentrations may vary based\\non type of transplant ()\\n\\ntransplant patients\\n\\nThe primary objective of this cross-sectional study\\nwas to compare antibody concentrations at the time of\\nserum collection between lung transplant\\n(LuTx)\\nrecipients and healthy individuals Secondary objec-\\ntives included comparisons of tetanus and diphtheria\\nseroprotection rates at the time of serum collection\\nantibody concentrations for those vaccinated with Td or\\nTdap – years and > years before serum collection\\nand differences in antibody concentrations based on\\ngender Correlations between age and antibody con-\\ncentration as well as time since last Td or Tdap dose\\nand antibody concentration were also determined\\nPertussis antibody concentrations were not evaluated\\nbecause of the lack of correlation between vaccine\\nantibody response and protection ()\\n\\n(Table ) Those\\n\\nfor each season prior to inﬂuenza immunization All\\ntransplanted individuals were recruited through the\\nUniversity of Wisconsin Hospital and Clinics Lung\\nTransplant Clinic Transplant patients are maintained\\non a -drug immunosuppression regimen that included\\na calcineurin inhibitor antiproliferative agent and\\nprednisone\\ntransplanted more\\nrecently than April  received an interleukin-\\nreceptor antibody for induction Healthy individuals\\nwere enrolled from a pool of employees at the Univer-\\nsity of Wisconsin Hospital and Clinics or from the\\ncommunity Subjects were included in this study if\\nserum was available from the previous inﬂuenza study\\nBased on the inclusion criteria a total of  subjects\\nwere enrolled of which  individuals represented the\\ntransplant group and  individuals represented the\\nhealthy control group\\n\\nThis study was approved by the University of\\nWisconsin Health Sciences Institutional Review Board\\nfor Human Investigation All participants provided\\nwritten informed consent for use of their serum in\\nfuture vaccine studies during the initial consent process\\n\\nMethods\\n\\nSubjects\\n\\nDemographic information\\n\\nMedian age (IQR)\\n\\nGender male (%)\\n\\nAzathioprine\\n\\nCyclosporine\\n\\nMycophenolate\\n\\nSirolimus\\n\\nTacrolimus\\n\\nTable \\n\\nSerum samples used for this study were obtained as\\npart of a -year study of inﬂuenza antibody response in\\nLuTx patients () In this previous study sera were\\ncollected from LuTx recipients and healthy individuals\\n\\nSerum samples were collected from  to  and\\nstored at (cid:)°C prior to analysis Tetanus and diph-\\ntheria antibody concentrations were determined using\\n\\nProtocols and procedures\\n\\nLung transplant patients\\n\\nHealthy individuals\\n\\nStatistical comparison\\n\\nN = \\n\\n (–)\\n\\n ()\\n\\nN = \\n\\n (–)\\n\\n ()\\n\\nMedian time since last Td or Tdap vaccination\\nin months (IQR; range)\\n\\n ((cid:) to ; –)\\n\\n (–; –)\\n\\nLast Td or Tdap given before transplant (%)\\n\\n/ ()\\n\\nMedian time since transplant in months (IQR; range)\\n\\n (–; –)\\n\\nTransplant medications (%)\\n\\n–\\n\\n–\\n\\n–\\n\\n–\\n\\n–\\n\\n–\\n\\n–\\n\\n ()\\n\\n ()\\n\\n ()\\n\\n ()\\n\\n ()\\n\\n since last vaccination was unknown for  (%) of healthy individuals and  (%) of lung transplant patients\\nIQR – percentile interquartile range; Td tetanus-diphtheria vaccine; Tdap tetanus-diphtheria-pertussis vaccine\\n\\nP = \\n\\nP = \\n\\nP = \\n\\n–\\n\\n–\\n\\n–\\n\\n–\\n\\n–\\n\\n–\\n\\n–\\n\\n\\n\\nTransplant Infectious Disease : : –\\n\\n\\x0cRohde et al: Duration of tetanus and diphtheria protection\\n\\nan enzyme-linked immunosorbant assay (IBL Interna-\\ntional Hamburg Germany) Time since last Td or Tdap\\nvaccination was determined by performing a retrospec-\\ntive review of paper or electronic medical records and\\nthe Wisconsin Immunization Registry which is an\\nonline database used to record and track immunization\\nrecords from Wisconsin Seroprotection was deﬁned as\\na tetanus antibody concentration of > IU/mL and\\ndiphtheria antibody concentration of ≥ IU/mL ()\\n\\nData analysis\\n\\nThe primary outcome of this study was to compare\\nantibody concentrations against tetanus and diphtheria\\nbetween the  groups which was evaluated using the\\nMann–Whitney U-test owing to its robustness () Our\\nantibody responses were not normally distributed so\\nthis nonparametric test was the best option and was\\nused for all antibody concentration comparisons The\\nFisher’s exact test was used to evaluate differences in\\ntetanus and diphtheria seroprotection rates between\\nthe groups A Spearman’s correlation was used to\\ndetermine if relationships existed between antibody\\nconcentration and age as well as antibody concentra-\\ntion and time since the last Td or Tdap vaccine dose in\\nsubjects with known vaccination dates\\n\\nBecause the participants were enrolled in another\\nthe sample size was predetermined Using\\nstudy\\npublished pre-Td vaccine antibody concentrations\\nfrom healthy individuals () our sample size yielded\\n% power to detect a tetanus antibody concentra-\\ntion in LuTx patients that was half that of healthy\\ncontrols In addition we had % power to detect a\\n% difference in diphtheria antibody concentrations\\nbetween groups\\n\\nResults\\n\\nBaseline demographics\\nincluding age and gender\\nwere compared between the  groups and only age\\nwas found to be signiﬁcantly different (P = )\\n(Table ) No difference was seen in time since last Td\\nor Tdap dose between the  groups for those with\\nknown vaccination dates\\n\\nAntibody concentrations for both tetanus and diph-\\ntheria were found to be signiﬁcantly higher in healthy\\nindividuals compared with the LuTx group at the time\\nof serum collection (Fig ) Median antibody concen-\\ntrations against tetanus were  IU/mL (– –\\n percentile interquartile range [IQR]) in healthy\\nindividuals and  IU/mL (– IQR) in the LuTx\\n\\nFig  Tetanus and diphtheria antibody concentrations at time of\\nserum collection Antibody concentrations are signiﬁcantly lower for\\nboth tetanus and diphtheria in the lung transplant group (LuTx)\\ncompared with healthy individuals Median tetanus concentrations\\nwere  IU/mL (– interquartile range [IQR]) in healthy\\nindividuals and  IU/mL (– IQR)\\nin the LuTx group\\n(P = ) Median diphtheria concentrations were  IU/mL\\n(– IQR) in healthy individuals and  IU/mL (– IQR) in\\nthe LuTx group (P = ) Whiskers indicate  and  percen-\\ntiles\\n\\ngroup (P = ) Median antibody concentrations\\nagainst diphtheria were  IU/mL (– IQR) in\\nhealthy individuals and  IU/mL (– IQR) in\\nthe LuTx group (P = )\\n\\nSeroprotection rates for both tetanus and diphtheria\\nwere found to be signiﬁcantly higher in healthy\\nindividuals compared with the LuTx group (Fig )\\nOf the healthy individuals % had antibody concen-\\ntrations that were considered seroprotective while only\\n% of\\nthe LuTx patients achieved this level of\\nseroprotection (P = ) Seroprotection against\\ndiphtheria was observed in % of healthy individuals\\nand in % of LuTx patients (P = )\\n\\nTetanus and diphtheria antibody concentrations for\\nthose vaccinated with Td or Tdap – years before\\nserum collection were found to be signiﬁcantly higher in\\nthe healthy individuals than in the LuTx group (Fig )\\nMedian tetanus antibody concentrations were  IU/\\nmL (– IQR) in healthy individuals and  IU/mL\\n(– IQR) in the LuTx group (P = ) Median\\ndiphtheria antibody concentrations were  IU/mL\\n(– IQR) in healthy individuals and  IU/mL\\n(– IQR) in the LuTx group (P = ) Median\\ntetanus antibody concentrations for those vaccinated\\n> years before serum collection were found to be\\nsigniﬁcantly higher in the healthy individuals compared\\nwith the LuTx group ( IU/mL [– IQR] vs\\n\\nTransplant Infectious Disease : : –\\n\\n\\n\\n\\x0cRohde et al: Duration of tetanus and diphtheria protection\\n\\nTime since last Td or Tdap dose did not correlate with\\ntetanus or diphtheria antibody concentrations when the\\nentire study cohort was used However a strong\\ncorrelation was detected when only the healthy individ-\\nuals were considered (Table ) Interestingly no differ-\\nence was observed in antibody concentrations or\\nseroprotection among transplant patients who received\\ntheir booster doses before as compared with after\\ntransplantation (Table ) However the time since last\\nTd or Tdap dose was longer for those immunized before\\ntransplantation\\n\\nNo difference was seen in antibody concentrations for\\neither tetanus or diphtheria when women were com-\\npared with men The antibody concentration for tetanus\\namong women was  IU/mL (– IQR) and\\n IU/mL (– IQR) among men (P = ) The\\nantibody concentration for diphtheria among women\\nwas  IU/mL (– IQR) and  IU/mL\\n(– IQR) among men (P = ) However women\\nwere more likely to be seronegative for diphtheria than\\nwere men (women % and men %; P =  chi-\\nsquare) A negative correlation was found between\\nsubject age and both tetanus and diphtheria antibody\\nconcentrations (Table )\\n\\nDiscussion and conclusion\\n\\nTetanus and diphtheria antibody concentrations are\\nsigniﬁcantly lower in LuTx recipients compared with\\nhealthy controls after vaccination In addition\\nthe\\nability to mount and maintain a protective response\\npost vaccination may be impaired as the seroprotection\\n\\nFig  Tetanus and diphtheria seroprotection rates at time of serum\\ncollection Seroprotection rates for both tetanus and diphtheria were\\nfound to be signiﬁcantly higher in healthy individuals compared with\\nthe lung transplant (LuTx) group Tetanus seroprotection for healthy\\nindividuals was % (/) while it was % (/) for LuTx\\ntest; P = ) Seroprotection against\\npatients (Fisher’s exact\\ndiphtheria was observed in % (/) of healthy individuals and\\n% (/) of LuTx patients (P = )\\n\\n IU/mL [– IQR]\\nrespectively; P = )\\nMedian diphtheria antibody concentrations for those\\nvaccinated > years were not signiﬁcantly different\\nbetween the healthy individuals and LuTx group\\n( IU/mL [– IQR] vs  IU/mL [–\\nIQR] respectively; P = ) (Fig ) Fourteen partic-\\nipants were beyond the -year booster time ( healthy\\nsubjects and  transplant patients) However only  of\\nthose individuals was tetanus and diphtheria seroneg-\\native; all others remained seropositive for both antigens\\n\\nFig  Tetanus and diphtheria antibody concentrations – years and > years post vaccination Tetanus antibody concentrations for healthy\\nand lung transplant (LuTx) patients were statistically signiﬁcantly different for those vaccinated – years ago (median  IU/mL [–\\ninterquartile range {IQR}] in healthy individuals vs  IU/mL [– IQR] in the LuTx group; P = ) Diphtheria antibody concentrations\\nwere statistically signiﬁcantly higher in the healthy individuals compared with the LuTx group (median  IU/mL [– IQR] vs  IU/mL\\n[– IQR]; P = ) Tetanus antibody concentrations for healthy and LuTx patients were statistically signiﬁcantly different for those\\nvaccinated > years ago ( IU/mL [– IQR] vs  IU/mL [– IQR] respectively; P = ) No statistically signiﬁcant differences\\nwere found for diphtheria antibody concentrations in the healthy individuals compared with the LuTx group ( IU/mL [– IQR] vs\\n IU/mL [– IQR] respectively; P = ) Whiskers indicate  and  percentiles\\n\\n\\n\\nTransplant Infectious Disease : : –\\n\\n\\x0cSpearman tests of correlation between time since last tetanus and\\ndiphtheria (Td) or age and antibody concentration\\n\\nCorrelation coefﬁcient\\n\\nP-value\\n\\nTime since last Td booster\\n\\nBoth groups\\n\\nTetanus antibody\\n\\nDiphtheria antibody\\n\\nHealthy\\n\\nTetanus antibody\\n\\nDiphtheria antibody\\n\\nLung transplant\\n\\n(cid:)\\n\\n(cid:)\\n\\n(cid:)\\n\\n(cid:)\\n\\nTetanus antibody\\n\\n(cid:)\\n\\nDiphtheria antibody\\n\\n\\n\\nAge\\n\\nBoth groups\\n\\nTetanus antibody\\n\\nDiphtheria antibody\\n\\nHealthy\\n\\nTetanus antibody\\n\\nDiphtheria antibody\\n\\nLung transplant\\n\\nTetanus antibody\\n\\nDiphtheria antibody\\n\\nTable \\n\\n(cid:)\\n\\n(cid:)\\n\\n(cid:)\\n\\n(cid:)\\n\\n(cid:)\\n\\n(cid:)\\n\\nRohde et al: Duration of tetanus and diphtheria protection\\n\\nences in time since the last Td or Tdap vaccination as\\nthis was not different between the groups These\\nﬁndings contribute to the current knowledge related\\nto antibody response after Td and Tdap vaccination in\\nSOT recipients A previous study evaluated antibody\\nresponse among adult renal transplant recipients Both\\ntetanus and diphtheria antibody levels were shown to\\nbe signiﬁcantly lower among the transplant group\\ncompared with healthy individuals at  weeks post\\nvaccination ()\\n\\nAlthough not a primary outcome of the study we did\\ncompare tetanus and diphtheria responses between\\nthose who received their Td or Tdap boosters before\\ntransplant to those who received them after transplant\\nInterestingly no statistically signiﬁcant differences\\nbetween groups in antibody concentrations or seropre-\\nvalence were found but the sample sizes for these\\ncomparisons\\nare relatively small This question\\nrequires further study as immunization before trans-\\nplantation has been recommended but this recommen-\\ndation is based on scant data ()\\n\\nWe also compared antibody concentrations in those\\nvaccinated with Td or Tdap – years and > years\\nbefore serum collection These assessments were used\\nto better understand if lower antibody concentrations\\nwere occurring at timepoints further from vaccination\\nInterestingly time since last Td or Tdap vaccination did\\nnot correlate with tetanus or diphtheria antibody\\nconcentrations among LuTx patients However\\nthe\\nhealthy individuals did have a strong correlation\\nbetween time since last Td or Tdap and antibody\\nconcentrations as would be expected for a vaccine that\\nrequires timed booster doses Although our study\\ncannot answer this question a timed booster dose may\\n\\n\\n\\n\\n\\n\\n\\n\\n\\n\\n\\n\\n\\n<\\n\\n<\\n\\n\\n\\n\\n\\n\\n\\n\\n\\nrates for both tetanus and diphtheria were signiﬁcantly\\nlower within the LuTx group compared with healthy\\ncontrols These outcomes are not attributed to differ-\\n\\nComparisons of those who received last Td or Tdap booster before or after transplant\\n\\nTd or Tdap before transplant\\n\\nTd or Tdap after transplant\\n\\nP-value\\n\\nN = \\n\\nN = \\n\\nMedian time since last Td or Tdap vaccination in months (IQR)\\n\\nTime in months between booster and transplant (IQR)\\n\\nTime in months between transplant and booster\\n\\nTetanus antibody concentration (median; IQR)\\n\\nDiphtheria antibody concentration (median; IQR)\\n\\nTT seropositive (%)\\n\\nDiphtheria seropositive (%)\\n\\n (–)\\n\\n (–)\\n\\n–\\n\\n (–)\\n\\n (–)\\n\\n ()\\n\\n ()\\n\\n (–)\\n\\n–\\n\\n (–)\\n\\n (–)\\n\\n (–)\\n\\n ()\\n\\n ()\\n\\n<\\n\\n\\n\\n\\n\\n\\n\\n\\n\\n–Whitney U-test\\n’s exact test\\nTd tetanus-diphtheria vaccine; Tdap tetanus-diphtheria-pertussis vaccine; IQR – percentile interquartile range; TT tetanus toxoid\\n\\nTable \\n\\nTransplant Infectious Disease : : –\\n\\n\\n\\n\\x0cRohde et al: Duration of tetanus and diphtheria protection\\n\\nnot be adequate for immunosuppressed LuTx patients\\nThe recommended -year\\ntime interval between\\nbooster doses for healthy individuals may fail to predict\\nwhen a LuTx patient needs a booster Td Little research\\nhas been done to examine duration of protection\\nfollowing Td booster in transplant patients One sys-\\ntematic review found no signiﬁcant difference in short-\\nterm protection rates (> weeks and ≤ months) in\\nSOT patients post vaccination () This study is the\\nﬁrst to examine tetanus and diphtheria antibody con-\\ncentrations over typical booster interval\\n\\nResults demonstrated that age correlated with teta-\\nnus and diphtheria antibody concentrations and the\\ntransplant patients were older than the healthy individ-\\nuals Consistent with other studies we found that older\\nindividuals were less likely to be protected from tetanus\\nand diphtheria (–) However unlike previous\\nresearch we did not ﬁnd that women had lower\\nantibody concentrations than men () We speculate\\nthat this may be a result of the type of participants\\nenrolled in our study LuTx patients have increased\\ncontact with the medical system and many opportuni-\\nties for immunization The healthy group was com-\\nposed of mostly healthcare providers who may have\\nhigher immunization rates However we were unable\\nto ﬁnd documentation of the last dose of Td for about\\n% in both groups which challenges our argument\\nthat our population was highly immunized\\n\\nthis study cannot detect\\n\\nThe cross-sectional study design limits our ability\\nto determine the true time course of\\ntetanus and\\ndiphtheria antibody response and antibody waning\\nfollowing Td booster Some of the LuTx patients may\\nhave failed to mount a seroprotective response follow-\\ning vaccination but\\nthis\\noutcome The duration of protection cannot be deter-\\nmined from our study either Another limitation of our\\nstudy is that we were unable to ﬁnd information about\\nlast dose of Td in about % of the study cohort\\nAlthough immunization registries are improving the\\nability to track records the uncertainty about immuni-\\nzation dates could lead to bias Those with unknown\\nTd booster dates were eliminated from any time\\nsince-Td analyses Most likely this led to an underes-\\ntimated correlation The unknown Td dates were likely\\nlonger ago than the dates included in the analysis and\\ntherefore not recorded in the paper or electronic\\nmedical records\\n\\nLuTx patients had consistently lower tetanus and\\ndiphtheria antibody concentrations and seroprotection\\nrates compared with healthy individuals This study\\npresents preliminary results that LuTx patients may\\nrequire different Td booster recommendations than\\nhealthy individuals A study of Td vaccine response and\\n\\nduration of protection will be required to determine if\\nan alternative vaccine schedule is needed\\n\\nAcknowledgements:\\n\\nAuthor contributions: KAR ARN and SLW: Con-\\ntributed to the data analysis/interpretation drafting of\\nthe manuscript critical revision of the manuscript and\\napproval of the manuscript KCC and KMH: Con-\\ntributed to the study concept/design data collection\\ndata analysis/interpretation critical revision of\\nthe\\nmanuscript and approval of the manuscript MSH:\\nContributed to the study concept/design data collec-\\ntion data analysis/interpretation drafting of the man-\\nuscript critical revision of the manuscript and approval\\nof the manuscript\\n\\nSupport: NATCO Research Grant Award partially\\nsupported this study The remaining funding was from\\nthe University of Wisconsin School of Pharmacy\\n\\nReferences\\n\\n Centers for Disease Control and Prevention Preventing tetanus\\n\\ndiphtheria and pertussis among adults: use of tetanus toxoid\\nreduced diphtheria toxoid and acellular pertussis vaccine\\nRecommendations of the Advisory Committee on Immunization\\nPractices (ACIP) MMWR Morb Mortal Wkly Rep ; : –\\n Avery RK Michaels M Update on immunizations in solid organ\\n\\ntransplant recipients: what clinicians need to know Am J\\nTransplant ;  (): –\\n\\n Danziger-Isakov L Kumar D the AST Infectious Diseases\\n\\nCommunity of Practice Vaccination in solid organ\\ntransplantation Am J Transplant ;  (): –\\n\\n Ballout A Gofﬁn E Yombi JC Vandercam B Vaccinations for\\n\\nadult solid organ transplant recipient: current recommendations\\nTransplant Proc ;  (): –\\n\\n Chesi D G€unther M Huzly D et al Immunization of liver and\\n\\nrenal transplant recipients: a seroepidemiological and\\nsociodemographic survey Transpl Infect Dis ;  ():\\n–\\n\\n Galazka AM Module : pertussis In: The Immunological Basis\\nfor Immunization Series World Health Organization ; –\\n\\n Moran JJ Rose WE Darga AJ Rohde KA Hayney MS\\n\\nPersistence of inﬂuenza vaccine-induced antibodies in lung\\ntransplant patients between seasons Transpl Infect Dis ;\\n (): –\\n\\n McQuillan GM Kruszon-Moran D Deforest A Chu SY Wharton\\n\\nM Serologic immunity to diphtheria and tetanus in the United\\nStates Ann Intern Med ;  (): –\\n\\n Sawilowsky S Misconceptions leading to choosing the t test over\\nthe Wilcoxon Mann-Whitney test for shift in location parameter\\nJMASM ;  (): –\\n\\n Laurichesse H Zimmermann U Galtier R et al Immunogenicity\\nand safety results from a randomized multicenter trial comparing a\\nTdap-IPV vaccine (REPEVAX(cid:)) and a tetanus monovalent vaccine\\nin healthy adults: new considerations for the management of\\n\\n\\n\\nTransplant Infectious Disease : : –\\n\\n\\x0cRohde et al: Duration of tetanus and diphtheria protection\\n\\npatients with tetanus-prone injuries Hum Vaccine Immunother\\n;  (): –\\n\\n Huzly D Neifer S Reinke P et al Routine immunizations in adult\\nrenal transplant recipients Transplantation ;  (): –\\n Eckerle I Rosenberger KD Zwahlen M Junghanss T Serological\\nvaccination response after solid organ transplantation: a systematic\\nreview PLoS One ;  (): \\n\\n Hayney MS Love GD Carlberg BM Buck JM Muller D Tetanus\\n\\nseroprevalence among farmers J Rural Health ;  ():\\n–\\n\\n Maple PA Jones CS Wall EC et al Immunity to diphtheria\\nand tetanus in England and Wales Vaccine ;  (–):\\n–\\n\\n Alagappan K Rennie W Kwiatkowski T Falck J Silverstone F\\n\\nSilverman R Seroprevalence of tetanus antibodies among\\nadults older than  years Ann Emerg Med ;  (): –\\n Gergen PJ McQuillan GM Kiely M Ezzati-Rice TM Sutter RW\\n\\nVirella G A population-based serologic survey of immunity to\\ntetanus in the United States N Engl J Med ;  ():\\n–\\n\\nTransplant Infectious Disease : : –\\n\\n\\n\\n\\x0cCopyright of Transplant Infectious Disease is the property of Wiley-Blackwell and its content\\nmay not be copied or emailed to multiple sites or posted to a listserv without the copyright\\nholder's express written permission However users may print download or email articles for\\nindividual use\\n\\n\\x0c\""
            ],
            "application/vnd.google.colaboratory.intrinsic+json": {
              "type": "string"
            }
          },
          "metadata": {},
          "execution_count": 31
        }
      ]
    },
    {
      "cell_type": "code",
      "source": [
        "text_as_words = list(convert_sentences_to_words(text_to_list))"
      ],
      "metadata": {
        "id": "YBY_Uq9ZHvD6",
        "colab": {
          "base_uri": "https://localhost:8080/"
        },
        "outputId": "4e9768a6-2b73-40c2-9b92-c616342c402c"
      },
      "execution_count": null,
      "outputs": [
        {
          "output_type": "stream",
          "name": "stderr",
          "text": [
            "/usr/local/lib/python3.10/dist-packages/ipykernel/ipkernel.py:283: DeprecationWarning: `should_run_async` will not call `transform_cell` automatically in the future. Please pass the result to `transformed_cell` argument and any exception that happen during thetransform in `preprocessing_exc_tuple` in IPython 7.17 and above.\n",
            "  and should_run_async(code)\n"
          ]
        }
      ]
    },
    {
      "cell_type": "code",
      "source": [
        "len(text_as_words)"
      ],
      "metadata": {
        "colab": {
          "base_uri": "https://localhost:8080/"
        },
        "id": "GksEP69NH0I9",
        "outputId": "cc06f484-0542-4e4a-a02a-bdb6123d281d"
      },
      "execution_count": null,
      "outputs": [
        {
          "output_type": "stream",
          "name": "stderr",
          "text": [
            "/usr/local/lib/python3.10/dist-packages/ipykernel/ipkernel.py:283: DeprecationWarning: `should_run_async` will not call `transform_cell` automatically in the future. Please pass the result to `transformed_cell` argument and any exception that happen during thetransform in `preprocessing_exc_tuple` in IPython 7.17 and above.\n",
            "  and should_run_async(code)\n"
          ]
        },
        {
          "output_type": "execute_result",
          "data": {
            "text/plain": [
              "284"
            ]
          },
          "metadata": {},
          "execution_count": 33
        }
      ]
    },
    {
      "cell_type": "code",
      "source": [
        "print(text_as_words[0])"
      ],
      "metadata": {
        "colab": {
          "base_uri": "https://localhost:8080/"
        },
        "id": "2f2hGwZ4H3cY",
        "outputId": "b027a0c8-2fef-45c5-e671-c280b5b3f502"
      },
      "execution_count": null,
      "outputs": [
        {
          "output_type": "stream",
          "name": "stdout",
          "text": [
            "['john', 'wiley', 'sons', 'published', 'by', 'john', 'wiley', 'sons', 'ltd', 'transplant', 'infectious', 'disease', 'issn', 'cross', 'sectional', 'study', 'of', 'tetanus', 'and', 'diphtheria', 'antibody', 'concentrations', 'post', 'vaccination', 'among', 'lung', 'transplant', 'patients', 'compared', 'with', 'healthy', 'individuals', 'ka', 'rohde', 'kc', 'cunningham', 'km', 'henriquez', 'ar', 'nielsen', 'sl', 'worzella', 'ms', 'hayney', 'cross', 'sectional', 'study', 'of', 'tetanus', 'and', 'diphtheria', 'antibody', 'concentrations', 'post', 'vaccination', 'among', 'lung', 'transplant', 'patients', 'compared', 'with', 'healthy', 'individuals', 'transpl', 'infect', 'dis', 'all', 'rights', 'reserved', 'abstract', 'background', 'lung', 'transplant', 'lutx', 'patients', 'are', 'routinely', 'immunized', 'against', 'tetanus', 'and', 'diphtheria', 'however', 'few', 'studies', 'have', 'been', 'done', 'to', 'measure', 'serologic', 'immunity', 'in', 'the', 'transplant', 'population', 'objectives', 'the', 'primary', 'objective', 'of', 'this', 'study', 'was', 'to', 'compare', 'tetanus', 'and', 'diphtheria', 'antibody', 'concentrations', 'in', 'lutx', 'vs', 'healthy', 'subjects', 'methods', 'serum', 'was', 'used', 'from', 'an', 'available', 'sample', 'of', 'total', 'individuals', 'healthy', 'lutx', 'tetanus', 'and', 'diphtheria', 'antibody', 'concentrations', 'were', 'measured', 'using', 'an', 'enzyme', 'linked', 'immunosorbant', 'assay', 'method', 'results', 'statistically', 'signiﬁcant', 'difference', 'in', 'both', 'tetanus', 'and', 'diphtheria', 'antibody', 'concentrations', 'was', 'found', 'between', 'the', 'groups', 'the', 'median', 'concentration', 'of', 'tetanus', 'antibody', 'was', 'higher', 'for', 'healthy', 'individuals', 'compared', 'with', 'the', 'lutx', 'group', 'iu', 'ml', 'interquartile', 'range', 'iqr', 'vs', 'iu', 'ml', 'iqr', 'respectively', 'no', 'difference', 'in', 'time', 'was', 'found', 'since', 'the', 'last', 'tetanus', 'diphtheria', 'vaccine', 'or', 'tetanus', 'diphtheria', 'pertussis', 'vaccine', 'dose', 'between', 'the', 'groups', 'healthy', 'months', 'iqr', 'vs', 'lutx', 'months', 'iqr', 'conclusions', 'tetanus', 'and', 'diphtheria', 'immunizations', 'are', 'recommended', 'for', 'lutx', 'patients', 'to', 'reduce', 'the', 'risk', 'of', 'infection', 'because', 'the', 'lutx', 'group', 'has', 'lower', 'antibody', 'concentrations', 'further', 'studies', 'should', 'investigate', 'the', 'possible', 'need', 'for', 'more', 'frequent', 'tetanus', 'and', 'diphtheria', 'boosters', 'ka', 'kc', 'km', 'ar', 'sl', 'ms', 'of', 'pharmacy', 'university', 'of', 'wisconsin', 'madison', 'madison', 'wisconsin', 'usa', 'of', 'pharmacy', 'university', 'of', 'wisconsin', 'hospital', 'and', 'clinics', 'madison', 'wisconsin', 'usa', 'key', 'words', 'tetanus', 'vaccine', 'diphtheria', 'vaccine', 'lung', 'transplantation', 'antibody', 'response', 'seroprotection', 'correspondence', 'to', 'mary', 'hayney', 'pharmd', 'mph', 'fccp', 'bcps', 'professor', 'of', 'pharmacy', 'chs', 'university', 'of', 'wisconsin', 'school', 'of', 'pharmacy', 'highland', 'avenue', 'madison', 'wi', 'usa', 'tel', 'fax', 'mail', 'mshayney', 'pharmacywiscedu', 'received', 'april', 'revised', 'june', 'july', 'accepted', 'for', 'publication', 'july', 'doi', 'transpl', 'infect', 'dis', 'disease', 'caused', 'by', 'tetanus', 'and', 'diphtheria', 'is', 'rare', 'among', 'healthy', 'individuals', 'because', 'of', 'the', 'widespread', 'immunization', 'that', 'began', 'after', 'world', 'war', 'ii', 'healthy', 'individuals', 'are', 'able', 'to', 'mount', 'protective', 'immune', 'response', 'after', 'immunization', 'with', 'the', 'combination', 'of', 'tetanus', 'and', 'diphtheria', 'td', 'or', 'the', 'tetanus', 'diphtheria', 'and', 'pertussis', 'tdap', 'vaccines', 'this', 'protection', 'is', 'maintained', 'over', 'time', 'with', 'required', 'booster', 'every', 'years', 'limited', 'information', 'regarding', 'duration', 'of', 'protection', 'after', 'td', 'although', 'viewed', 'as', 'safe', 'or', 'tdap', 'vaccination', 'in', 'solid', 'organ', 'transplant', 'sot', 'patients', 'is', 'available', 'because', 'of', 'the', 'acute', 'onset', 'and', 'potentially', 'fatal', 'outcomes', 'associated', 'with', 'these', 'infections', 'reduced', 'immunity', 'over', 'time', 'poses', 'signif', 'icant', 'threat', 'for', 'individuals', 'current', 'recommendations', 'are', 'to', 'vaccinate', 'sot', 'patients', 'at', 'the', 'same', 'interval', 'as', 'healthy', 'individuals', 'it', 'may', 'be', 'reasonable', 'to', 'consider', 'alternative', 'tetanus', 'and', 'diphthe', 'ria', 'vaccination', 'schedules', 'for', 'this', 'group', 'if', 'protective', 'levels', 'are', 'not', 'maintained', 'throughout', 'the', 'booster', 'rohde', 'et', 'al', 'duration', 'of', 'tetanus', 'and', 'diphtheria', 'protection', 'period', 'protection', 'rates', 'were', 'found', 'to', 'differ', 'among', 'liver', 'and', 'renal', 'indicating', 'that', 'persistence', 'of', 'antibody', 'concentrations', 'may', 'vary', 'based', 'on', 'type', 'of', 'transplant', 'transplant', 'patients', 'the', 'primary', 'objective', 'of', 'this', 'cross', 'sectional', 'study', 'was', 'to', 'compare', 'antibody', 'concentrations', 'at', 'the', 'time', 'of', 'serum', 'collection', 'between', 'lung', 'transplant', 'lutx', 'recipients', 'and', 'healthy', 'individuals', 'secondary', 'objec', 'tives', 'included', 'comparisons', 'of', 'tetanus', 'and', 'diphtheria', 'seroprotection', 'rates', 'at', 'the', 'time', 'of', 'serum', 'collection', 'antibody', 'concentrations', 'for', 'those', 'vaccinated', 'with', 'td', 'or', 'tdap', 'years', 'and', 'years', 'before', 'serum', 'collection', 'and', 'differences', 'in', 'antibody', 'concentrations', 'based', 'on', 'gender', 'correlations', 'between', 'age', 'and', 'antibody', 'con', 'centration', 'as', 'well', 'as', 'time', 'since', 'last', 'td', 'or', 'tdap', 'dose', 'and', 'antibody', 'concentration', 'were', 'also', 'determined', 'pertussis', 'antibody', 'concentrations', 'were', 'not', 'evaluated', 'because', 'of', 'the', 'lack', 'of', 'correlation', 'between', 'vaccine', 'antibody', 'response', 'and', 'protection', 'table', 'those', 'for', 'each', 'season', 'prior', 'to', 'inﬂuenza', 'immunization', 'all', 'transplanted', 'individuals', 'were', 'recruited', 'through', 'the', 'university', 'of', 'wisconsin', 'hospital', 'and', 'clinics', 'lung', 'transplant', 'clinic', 'transplant', 'patients', 'are', 'maintained', 'on', 'drug', 'regimen', 'that', 'included', 'calcineurin', 'inhibitor', 'agent', 'and', 'prednisone', 'transplanted', 'more', 'recently', 'than', 'april', 'received', 'an', 'interleukin', 'receptor', 'antibody', 'for', 'induction', 'healthy', 'individuals', 'were', 'enrolled', 'from', 'pool', 'of', 'employees', 'at', 'the', 'univer', 'sity', 'of', 'wisconsin', 'hospital', 'and', 'clinics', 'or', 'from', 'the', 'community', 'subjects', 'were', 'included', 'in', 'this', 'study', 'if', 'serum', 'was', 'available', 'from', 'the', 'previous', 'inﬂuenza', 'study', 'based', 'on', 'the', 'inclusion', 'criteria', 'total', 'of', 'subjects', 'were', 'enrolled', 'of', 'which', 'individuals', 'represented', 'the', 'transplant', 'group', 'and', 'individuals', 'represented', 'the', 'healthy', 'control', 'group', 'this', 'study', 'was', 'approved', 'by', 'the', 'university', 'of', 'wisconsin', 'health', 'sciences', 'institutional', 'review', 'board', 'for', 'human', 'investigation', 'all', 'participants', 'provided', 'written', 'informed', 'consent', 'for', 'use', 'of', 'their', 'serum', 'in', 'future', 'vaccine', 'studies', 'during', 'the', 'initial', 'consent', 'process', 'methods', 'subjects', 'demographic', 'information', 'median', 'age', 'iqr', 'gender', 'male', 'azathioprine', 'cyclosporine', 'mycophenolate', 'sirolimus', 'tacrolimus', 'table', 'serum', 'samples', 'used', 'for', 'this', 'study', 'were', 'obtained', 'as', 'part', 'of', 'year', 'study', 'of', 'inﬂuenza', 'antibody', 'response', 'in', 'lutx', 'patients', 'in', 'this', 'previous', 'study', 'sera', 'were', 'collected', 'from', 'lutx', 'recipients', 'and', 'healthy', 'individuals', 'serum', 'samples', 'were', 'collected', 'from', 'to', 'and', 'stored', 'at', 'cid', 'prior', 'to', 'analysis', 'tetanus', 'and', 'diph', 'theria', 'antibody', 'concentrations', 'were', 'determined', 'using', 'protocols', 'and', 'procedures', 'lung', 'transplant', 'patients', 'healthy', 'individuals', 'statistical', 'comparison', 'median', 'time', 'since', 'last', 'td', 'or', 'tdap', 'vaccination', 'in', 'months', 'iqr', 'range', 'cid', 'to', 'last', 'td', 'or', 'tdap', 'given', 'before', 'transplant', 'median', 'time', 'since', 'transplant', 'in', 'months', 'iqr', 'range', 'transplant', 'medications', 'since', 'last', 'vaccination', 'was', 'unknown', 'for', 'of', 'healthy', 'individuals', 'and', 'of', 'lung', 'transplant', 'patients', 'iqr', 'percentile', 'interquartile', 'range', 'td', 'tetanus', 'diphtheria', 'vaccine', 'tdap', 'tetanus', 'diphtheria', 'pertussis', 'vaccine', 'transplant', 'infectious', 'disease', 'rohde', 'et', 'al', 'duration', 'of', 'tetanus', 'and', 'diphtheria', 'protection', 'an', 'enzyme', 'linked', 'immunosorbant', 'assay', 'ibl', 'interna', 'tional', 'hamburg', 'germany', 'time', 'since', 'last', 'td', 'or', 'tdap', 'vaccination', 'was', 'determined', 'by', 'performing', 'retrospec', 'tive', 'review', 'of', 'paper', 'or', 'electronic', 'medical', 'records', 'and', 'the', 'wisconsin', 'immunization', 'registry', 'which', 'is', 'an', 'online', 'database', 'used', 'to', 'record', 'and', 'track', 'immunization', 'records', 'from', 'wisconsin', 'seroprotection', 'was', 'deﬁned', 'as', 'tetanus', 'antibody', 'concentration', 'of', 'iu', 'ml', 'and', 'diphtheria', 'antibody', 'concentration', 'of', 'iu', 'ml', 'data', 'analysis', 'the', 'primary', 'outcome', 'of', 'this', 'study', 'was', 'to', 'compare', 'antibody', 'concentrations', 'against', 'tetanus', 'and', 'diphtheria', 'between', 'the', 'groups', 'which', 'was', 'evaluated', 'using', 'the', 'mann', 'whitney', 'test', 'owing', 'to', 'its', 'robustness', 'our', 'antibody', 'responses', 'were', 'not', 'normally', 'distributed', 'so', 'this', 'nonparametric', 'test', 'was', 'the', 'best', 'option', 'and', 'was', 'used', 'for', 'all', 'antibody', 'concentration', 'comparisons', 'the', 'fisher', 'exact', 'test', 'was', 'used', 'to', 'evaluate', 'differences', 'in', 'tetanus', 'and', 'diphtheria', 'seroprotection', 'rates', 'between', 'the', 'groups', 'spearman', 'correlation', 'was', 'used', 'to', 'determine', 'if', 'relationships', 'existed', 'between', 'antibody', 'concentration', 'and', 'age', 'as', 'well', 'as', 'antibody', 'concentra', 'tion', 'and', 'time', 'since', 'the', 'last', 'td', 'or', 'tdap', 'vaccine', 'dose', 'in', 'subjects', 'with', 'known', 'vaccination', 'dates', 'because', 'the', 'participants', 'were', 'enrolled', 'in', 'another', 'the', 'sample', 'size', 'was', 'predetermined', 'using', 'study', 'published', 'pre', 'td', 'vaccine', 'antibody', 'concentrations', 'from', 'healthy', 'individuals', 'our', 'sample', 'size', 'yielded', 'power', 'to', 'detect', 'tetanus', 'antibody', 'concentra', 'tion', 'in', 'lutx', 'patients', 'that', 'was', 'half', 'that', 'of', 'healthy', 'controls', 'in', 'addition', 'we', 'had', 'power', 'to', 'detect', 'difference', 'in', 'diphtheria', 'antibody', 'concentrations', 'between', 'groups', 'results', 'baseline', 'demographics', 'including', 'age', 'and', 'gender', 'were', 'compared', 'between', 'the', 'groups', 'and', 'only', 'age', 'was', 'found', 'to', 'be', 'signiﬁcantly', 'different', 'table', 'no', 'difference', 'was', 'seen', 'in', 'time', 'since', 'last', 'td', 'or', 'tdap', 'dose', 'between', 'the', 'groups', 'for', 'those', 'with', 'known', 'vaccination', 'dates', 'antibody', 'concentrations', 'for', 'both', 'tetanus', 'and', 'diph', 'theria', 'were', 'found', 'to', 'be', 'signiﬁcantly', 'higher', 'in', 'healthy', 'individuals', 'compared', 'with', 'the', 'lutx', 'group', 'at', 'the', 'time', 'of', 'serum', 'collection', 'fig', 'median', 'antibody', 'concen', 'trations', 'against', 'tetanus', 'were', 'iu', 'ml', 'percentile', 'interquartile', 'range', 'iqr', 'in', 'healthy', 'individuals', 'and', 'iu', 'ml', 'iqr', 'in', 'the', 'lutx', 'fig', 'tetanus', 'and', 'diphtheria', 'antibody', 'concentrations', 'at', 'time', 'of', 'serum', 'collection', 'antibody', 'concentrations', 'are', 'signiﬁcantly', 'lower', 'for', 'both', 'tetanus', 'and', 'diphtheria', 'in', 'the', 'lung', 'transplant', 'group', 'lutx', 'compared', 'with', 'healthy', 'individuals', 'median', 'tetanus', 'concentrations', 'were', 'iu', 'ml', 'interquartile', 'range', 'iqr', 'in', 'healthy', 'individuals', 'and', 'iu', 'ml', 'iqr', 'in', 'the', 'lutx', 'group', 'median', 'diphtheria', 'concentrations', 'were', 'iu', 'ml', 'iqr', 'in', 'healthy', 'individuals', 'and', 'iu', 'ml', 'iqr', 'in', 'the', 'lutx', 'group', 'whiskers', 'indicate', 'and', 'percen', 'tiles', 'group', 'median', 'antibody', 'concentrations', 'against', 'diphtheria', 'were', 'iu', 'ml', 'iqr', 'in', 'healthy', 'individuals', 'and', 'iu', 'ml', 'iqr', 'in', 'the', 'lutx', 'group', 'seroprotection', 'rates', 'for', 'both', 'tetanus', 'and', 'diphtheria', 'were', 'found', 'to', 'be', 'signiﬁcantly', 'higher', 'in', 'healthy', 'individuals', 'compared', 'with', 'the', 'lutx', 'group', 'fig', 'of', 'the', 'healthy', 'individuals', 'had', 'antibody', 'concen', 'trations', 'that', 'were', 'considered', 'seroprotective', 'while', 'only', 'of', 'the', 'lutx', 'patients', 'achieved', 'this', 'level', 'of', 'seroprotection', 'seroprotection', 'against', 'diphtheria', 'was', 'observed', 'in', 'of', 'healthy', 'individuals', 'and', 'in', 'of', 'lutx', 'patients', 'tetanus', 'and', 'diphtheria', 'antibody', 'concentrations', 'for', 'those', 'vaccinated', 'with', 'td', 'or', 'tdap', 'years', 'before', 'serum', 'collection', 'were', 'found', 'to', 'be', 'signiﬁcantly', 'higher', 'in', 'the', 'healthy', 'individuals', 'than', 'in', 'the', 'lutx', 'group', 'fig', 'median', 'tetanus', 'antibody', 'concentrations', 'were', 'iu', 'ml', 'iqr', 'in', 'healthy', 'individuals', 'and', 'iu', 'ml', 'iqr', 'in', 'the', 'lutx', 'group', 'median', 'diphtheria', 'antibody', 'concentrations', 'were', 'iu', 'ml', 'iqr', 'in', 'healthy', 'individuals', 'and', 'iu', 'ml', 'iqr', 'in', 'the', 'lutx', 'group', 'median', 'tetanus', 'antibody', 'concentrations', 'for', 'those', 'vaccinated', 'years', 'before', 'serum', 'collection', 'were', 'found', 'to', 'be', 'signiﬁcantly', 'higher', 'in', 'the', 'healthy', 'individuals', 'compared', 'with', 'the', 'lutx', 'group', 'iu', 'ml', 'iqr', 'vs', 'transplant', 'infectious', 'disease', 'rohde', 'et', 'al', 'duration', 'of', 'tetanus', 'and', 'diphtheria', 'protection', 'time', 'since', 'last', 'td', 'or', 'tdap', 'dose', 'did', 'not', 'correlate', 'with', 'tetanus', 'or', 'diphtheria', 'antibody', 'concentrations', 'when', 'the', 'entire', 'study', 'cohort', 'was', 'used', 'however', 'strong', 'correlation', 'was', 'detected', 'when', 'only', 'the', 'healthy', 'individ', 'uals', 'were', 'considered', 'table', 'interestingly', 'no', 'differ', 'ence', 'was', 'observed', 'in', 'antibody', 'concentrations', 'or', 'seroprotection', 'among', 'transplant', 'patients', 'who', 'received', 'their', 'booster', 'doses', 'before', 'as', 'compared', 'with', 'after', 'transplantation', 'table', 'however', 'the', 'time', 'since', 'last', 'td', 'or', 'tdap', 'dose', 'was', 'longer', 'for', 'those', 'immunized', 'before', 'transplantation', 'no', 'difference', 'was', 'seen', 'in', 'antibody', 'concentrations', 'for', 'either', 'tetanus', 'or', 'diphtheria', 'when', 'women', 'were', 'com', 'pared', 'with', 'men', 'the', 'antibody', 'concentration', 'for', 'tetanus', 'among', 'women', 'was', 'iu', 'ml', 'iqr', 'and', 'iu', 'ml', 'iqr', 'among', 'men', 'the', 'antibody', 'concentration', 'for', 'diphtheria', 'among', 'women', 'was', 'iu', 'ml', 'iqr', 'and', 'iu', 'ml', 'iqr', 'among', 'men', 'however', 'women', 'were', 'more', 'likely', 'to', 'be', 'seronegative', 'for', 'diphtheria', 'than', 'were', 'men', 'women', 'and', 'men', 'chi', 'square', 'negative', 'correlation', 'was', 'found', 'between', 'subject', 'age', 'and', 'both', 'tetanus', 'and', 'diphtheria', 'antibody', 'concentrations', 'table', 'discussion', 'and', 'conclusion', 'tetanus', 'and', 'diphtheria', 'antibody', 'concentrations', 'are', 'signiﬁcantly', 'lower', 'in', 'lutx', 'recipients', 'compared', 'with', 'healthy', 'controls', 'after', 'vaccination', 'in', 'addition', 'the', 'ability', 'to', 'mount', 'and', 'maintain', 'protective', 'response', 'post', 'vaccination', 'may', 'be', 'impaired', 'as', 'the', 'seroprotection', 'fig', 'tetanus', 'and', 'diphtheria', 'seroprotection', 'rates', 'at', 'time', 'of', 'serum', 'collection', 'seroprotection', 'rates', 'for', 'both', 'tetanus', 'and', 'diphtheria', 'were', 'found', 'to', 'be', 'signiﬁcantly', 'higher', 'in', 'healthy', 'individuals', 'compared', 'with', 'the', 'lung', 'transplant', 'lutx', 'group', 'tetanus', 'seroprotection', 'for', 'healthy', 'individuals', 'was', 'while', 'it', 'was', 'for', 'lutx', 'test', 'seroprotection', 'against', 'patients', 'fisher', 'exact', 'diphtheria', 'was', 'observed', 'in', 'of', 'healthy', 'individuals', 'and', 'of', 'lutx', 'patients', 'iu', 'ml', 'iqr', 'respectively', 'median', 'diphtheria', 'antibody', 'concentrations', 'for', 'those', 'vaccinated', 'years', 'were', 'not', 'signiﬁcantly', 'different', 'between', 'the', 'healthy', 'individuals', 'and', 'lutx', 'group', 'iu', 'ml', 'iqr', 'vs', 'iu', 'ml', 'iqr', 'respectively', 'fig', 'fourteen', 'partic', 'ipants', 'were', 'beyond', 'the', 'year', 'booster', 'time', 'healthy', 'subjects', 'and', 'transplant', 'patients', 'however', 'only', 'of', 'those', 'individuals', 'was', 'tetanus', 'and', 'diphtheria', 'seroneg', 'ative', 'all', 'others', 'remained', 'seropositive', 'for', 'both', 'antigens', 'fig', 'tetanus', 'and', 'diphtheria', 'antibody', 'concentrations', 'years', 'and', 'years', 'post', 'vaccination', 'tetanus', 'antibody', 'concentrations', 'for', 'healthy', 'and', 'lung', 'transplant', 'lutx', 'patients', 'were', 'statistically', 'signiﬁcantly', 'different', 'for', 'those', 'vaccinated', 'years', 'ago', 'median', 'iu', 'ml', 'interquartile', 'range', 'iqr', 'in', 'healthy', 'individuals', 'vs', 'iu', 'ml', 'iqr', 'in', 'the', 'lutx', 'group', 'diphtheria', 'antibody', 'concentrations', 'were', 'statistically', 'signiﬁcantly', 'higher', 'in', 'the', 'healthy', 'individuals', 'compared', 'with', 'the', 'lutx', 'group', 'median', 'iu', 'ml', 'iqr', 'vs', 'iu', 'ml', 'iqr', 'tetanus', 'antibody', 'concentrations', 'for', 'healthy', 'and', 'lutx', 'patients', 'were', 'statistically', 'signiﬁcantly', 'different', 'for', 'those', 'vaccinated', 'years', 'ago', 'iu', 'ml', 'iqr', 'vs', 'iu', 'ml', 'iqr', 'respectively', 'no', 'statistically', 'signiﬁcant', 'differences', 'were', 'found', 'for', 'diphtheria', 'antibody', 'concentrations', 'in', 'the', 'healthy', 'individuals', 'compared', 'with', 'the', 'lutx', 'group', 'iu', 'ml', 'iqr', 'vs', 'iu', 'ml', 'iqr', 'respectively', 'whiskers', 'indicate', 'and', 'percentiles', 'transplant', 'infectious', 'disease', 'spearman', 'tests', 'of', 'correlation', 'between', 'time', 'since', 'last', 'tetanus', 'and', 'diphtheria', 'td', 'or', 'age', 'and', 'antibody', 'concentration', 'correlation', 'coefﬁcient', 'value', 'time', 'since', 'last', 'td', 'booster', 'both', 'groups', 'tetanus', 'antibody', 'diphtheria', 'antibody', 'healthy', 'tetanus', 'antibody', 'diphtheria', 'antibody', 'lung', 'transplant', 'cid', 'cid', 'cid', 'cid', 'tetanus', 'antibody', 'cid', 'diphtheria', 'antibody', 'age', 'both', 'groups', 'tetanus', 'antibody', 'diphtheria', 'antibody', 'healthy', 'tetanus', 'antibody', 'diphtheria', 'antibody', 'lung', 'transplant', 'tetanus', 'antibody', 'diphtheria', 'antibody', 'table', 'cid', 'cid', 'cid', 'cid', 'cid', 'cid', 'rohde', 'et', 'al', 'duration', 'of', 'tetanus', 'and', 'diphtheria', 'protection', 'ences', 'in', 'time', 'since', 'the', 'last', 'td', 'or', 'tdap', 'vaccination', 'as', 'this', 'was', 'not', 'different', 'between', 'the', 'groups', 'these', 'ﬁndings', 'contribute', 'to', 'the', 'current', 'knowledge', 'related', 'to', 'antibody', 'response', 'after', 'td', 'and', 'tdap', 'vaccination', 'in', 'sot', 'recipients', 'previous', 'study', 'evaluated', 'antibody', 'response', 'among', 'adult', 'renal', 'transplant', 'recipients', 'both', 'tetanus', 'and', 'diphtheria', 'antibody', 'levels', 'were', 'shown', 'to', 'be', 'signiﬁcantly', 'lower', 'among', 'the', 'transplant', 'group', 'compared', 'with', 'healthy', 'individuals', 'at', 'weeks', 'post', 'vaccination', 'although', 'not', 'primary', 'outcome', 'of', 'the', 'study', 'we', 'did', 'compare', 'tetanus', 'and', 'diphtheria', 'responses', 'between', 'those', 'who', 'received', 'their', 'td', 'or', 'tdap', 'boosters', 'before', 'transplant', 'to', 'those', 'who', 'received', 'them', 'after', 'transplant', 'interestingly', 'no', 'statistically', 'signiﬁcant', 'differences', 'between', 'groups', 'in', 'antibody', 'concentrations', 'or', 'seropre', 'valence', 'were', 'found', 'but', 'the', 'sample', 'sizes', 'for', 'these', 'comparisons', 'are', 'relatively', 'small', 'this', 'question', 'requires', 'further', 'study', 'as', 'immunization', 'before', 'trans', 'plantation', 'has', 'been', 'recommended', 'but', 'this', 'recommen', 'dation', 'is', 'based', 'on', 'scant', 'data', 'we', 'also', 'compared', 'antibody', 'concentrations', 'in', 'those', 'vaccinated', 'with', 'td', 'or', 'tdap', 'years', 'and', 'years', 'before', 'serum', 'collection', 'these', 'assessments', 'were', 'used', 'to', 'better', 'understand', 'if', 'lower', 'antibody', 'concentrations', 'were', 'occurring', 'at', 'timepoints', 'further', 'from', 'vaccination', 'interestingly', 'time', 'since', 'last', 'td', 'or', 'tdap', 'vaccination', 'did', 'not', 'correlate', 'with', 'tetanus', 'or', 'diphtheria', 'antibody', 'concentrations', 'among', 'lutx', 'patients', 'however', 'the', 'healthy', 'individuals', 'did', 'have', 'strong', 'correlation', 'between', 'time', 'since', 'last', 'td', 'or', 'tdap', 'and', 'antibody', 'concentrations', 'as', 'would', 'be', 'expected', 'for', 'vaccine', 'that', 'requires', 'timed', 'booster', 'doses', 'although', 'our', 'study', 'cannot', 'answer', 'this', 'question', 'timed', 'booster', 'dose', 'may', 'rates', 'for', 'both', 'tetanus', 'and', 'diphtheria', 'were', 'signiﬁcantly', 'lower', 'within', 'the', 'lutx', 'group', 'compared', 'with', 'healthy', 'controls', 'these', 'outcomes', 'are', 'not', 'attributed', 'to', 'differ', 'comparisons', 'of', 'those', 'who', 'received', 'last', 'td', 'or', 'tdap', 'booster', 'before', 'or', 'after', 'transplant', 'td', 'or', 'tdap', 'before', 'transplant', 'td', 'or', 'tdap', 'after', 'transplant', 'value', 'median', 'time', 'since', 'last', 'td', 'or', 'tdap', 'vaccination', 'in', 'months', 'iqr', 'time', 'in', 'months', 'between', 'booster', 'and', 'transplant', 'iqr', 'time', 'in', 'months', 'between', 'transplant', 'and', 'booster', 'tetanus', 'antibody', 'concentration', 'median', 'iqr', 'diphtheria', 'antibody', 'concentration', 'median', 'iqr', 'tt', 'seropositive', 'diphtheria', 'seropositive', 'whitney', 'test', 'exact', 'test', 'td', 'tetanus', 'diphtheria', 'vaccine', 'tdap', 'tetanus', 'diphtheria', 'pertussis', 'vaccine', 'iqr', 'percentile', 'interquartile', 'range', 'tt', 'tetanus', 'toxoid', 'table', 'transplant', 'infectious', 'disease', 'rohde', 'et', 'al', 'duration', 'of', 'tetanus', 'and', 'diphtheria', 'protection', 'not', 'be', 'adequate', 'for', 'lutx', 'patients', 'the', 'recommended', 'year', 'time', 'interval', 'between', 'booster', 'doses', 'for', 'healthy', 'individuals', 'may', 'fail', 'to', 'predict', 'when', 'lutx', 'patient', 'needs', 'booster', 'td', 'little', 'research', 'has', 'been', 'done', 'to', 'examine', 'duration', 'of', 'protection', 'following', 'td', 'booster', 'in', 'transplant', 'patients', 'one', 'sys', 'tematic', 'review', 'found', 'no', 'signiﬁcant', 'difference', 'in', 'short', 'term', 'protection', 'rates', 'weeks', 'and', 'months', 'in', 'sot', 'patients', 'post', 'vaccination', 'this', 'study', 'is', 'the', 'ﬁrst', 'to', 'examine', 'tetanus', 'and', 'diphtheria', 'antibody', 'con', 'centrations', 'over', 'typical', 'booster', 'interval', 'results', 'demonstrated', 'that', 'age', 'correlated', 'with', 'teta', 'nus', 'and', 'diphtheria', 'antibody', 'concentrations', 'and', 'the', 'transplant', 'patients', 'were', 'older', 'than', 'the', 'healthy', 'individ', 'uals', 'consistent', 'with', 'other', 'studies', 'we', 'found', 'that', 'older', 'individuals', 'were', 'less', 'likely', 'to', 'be', 'protected', 'from', 'tetanus', 'and', 'diphtheria', 'however', 'unlike', 'previous', 'research', 'we', 'did', 'not', 'ﬁnd', 'that', 'women', 'had', 'lower', 'antibody', 'concentrations', 'than', 'men', 'we', 'speculate', 'that', 'this', 'may', 'be', 'result', 'of', 'the', 'type', 'of', 'participants', 'enrolled', 'in', 'our', 'study', 'lutx', 'patients', 'have', 'increased', 'contact', 'with', 'the', 'medical', 'system', 'and', 'many', 'opportuni', 'ties', 'for', 'immunization', 'the', 'healthy', 'group', 'was', 'com', 'posed', 'of', 'mostly', 'healthcare', 'providers', 'who', 'may', 'have', 'higher', 'immunization', 'rates', 'however', 'we', 'were', 'unable', 'to', 'ﬁnd', 'documentation', 'of', 'the', 'last', 'dose', 'of', 'td', 'for', 'about', 'in', 'both', 'groups', 'which', 'challenges', 'our', 'argument', 'that', 'our', 'population', 'was', 'highly', 'immunized', 'this', 'study', 'cannot', 'detect', 'the', 'cross', 'sectional', 'study', 'design', 'limits', 'our', 'ability', 'to', 'determine', 'the', 'true', 'time', 'course', 'of', 'tetanus', 'and', 'diphtheria', 'antibody', 'response', 'and', 'antibody', 'waning', 'following', 'td', 'booster', 'some', 'of', 'the', 'lutx', 'patients', 'may', 'have', 'failed', 'to', 'mount', 'seroprotective', 'response', 'follow', 'ing', 'vaccination', 'but', 'this', 'outcome', 'the', 'duration', 'of', 'protection', 'cannot', 'be', 'deter', 'mined', 'from', 'our', 'study', 'either', 'another', 'limitation', 'of', 'our', 'study', 'is', 'that', 'we', 'were', 'unable', 'to', 'ﬁnd', 'information', 'about', 'last', 'dose', 'of', 'td', 'in', 'about', 'of', 'the', 'study', 'cohort', 'although', 'immunization', 'registries', 'are', 'improving', 'the', 'ability', 'to', 'track', 'records', 'the', 'uncertainty', 'about', 'immuni', 'zation', 'dates', 'could', 'lead', 'to', 'bias', 'those', 'with', 'unknown', 'td', 'booster', 'dates', 'were', 'eliminated', 'from', 'any', 'time', 'since', 'td', 'analyses', 'most', 'likely', 'this', 'led', 'to', 'an', 'underes', 'timated', 'correlation', 'the', 'unknown', 'td', 'dates', 'were', 'likely', 'longer', 'ago', 'than', 'the', 'dates', 'included', 'in', 'the', 'analysis', 'and', 'therefore', 'not', 'recorded', 'in', 'the', 'paper', 'or', 'electronic', 'medical', 'records', 'lutx', 'patients', 'had', 'consistently', 'lower', 'tetanus', 'and', 'diphtheria', 'antibody', 'concentrations', 'and', 'seroprotection', 'rates', 'compared', 'with', 'healthy', 'individuals', 'this', 'study', 'presents', 'preliminary', 'results', 'that', 'lutx', 'patients', 'may', 'require', 'different', 'td', 'booster', 'recommendations', 'than', 'healthy', 'individuals', 'study', 'of', 'td', 'vaccine', 'response', 'and', 'duration', 'of', 'protection', 'will', 'be', 'required', 'to', 'determine', 'if', 'an', 'alternative', 'vaccine', 'schedule', 'is', 'needed', 'author', 'contributions', 'kar', 'arn', 'and', 'slw', 'con', 'tributed', 'to', 'the', 'data', 'analysis', 'interpretation', 'drafting', 'of', 'the', 'manuscript', 'critical', 'revision', 'of', 'the', 'manuscript', 'and', 'approval', 'of', 'the', 'manuscript', 'kcc', 'and', 'kmh', 'con', 'tributed', 'to', 'the', 'study', 'concept', 'design', 'data', 'collection', 'data', 'analysis', 'interpretation', 'critical', 'revision', 'of', 'the', 'manuscript', 'and', 'approval', 'of', 'the', 'manuscript', 'msh', 'contributed', 'to', 'the', 'study', 'concept', 'design', 'data', 'collec', 'tion', 'data', 'analysis', 'interpretation', 'drafting', 'of', 'the', 'man', 'uscript', 'critical', 'revision', 'of', 'the', 'manuscript', 'and', 'approval', 'of', 'the', 'manuscript', 'support', 'natco', 'research', 'grant', 'award', 'partially', 'supported', 'this', 'study', 'the', 'remaining', 'funding', 'was', 'from', 'the', 'university', 'of', 'wisconsin', 'school', 'of', 'pharmacy', 'references', 'centers', 'for', 'disease', 'control', 'and', 'prevention', 'preventing', 'tetanus', 'diphtheria', 'and', 'pertussis', 'among', 'adults', 'use', 'of', 'tetanus', 'toxoid', 'reduced', 'diphtheria', 'toxoid', 'and', 'acellular', 'pertussis', 'vaccine', 'recommendations', 'of', 'the', 'advisory', 'committee', 'on', 'immunization', 'practices', 'acip', 'mmwr', 'morb', 'mortal', 'wkly', 'rep', 'avery', 'rk', 'michaels', 'update', 'on', 'immunizations', 'in', 'solid', 'organ', 'transplant', 'recipients', 'what', 'clinicians', 'need', 'to', 'know', 'am', 'transplant', 'danziger', 'isakov', 'kumar', 'the', 'ast', 'infectious', 'diseases', 'community', 'of', 'practice', 'vaccination', 'in', 'solid', 'organ', 'transplantation', 'am', 'transplant', 'ballout', 'gofﬁn', 'yombi', 'jc', 'vandercam', 'vaccinations', 'for', 'adult', 'solid', 'organ', 'transplant', 'recipient', 'current', 'recommendations', 'transplant', 'proc', 'chesi', 'unther', 'huzly', 'et', 'al', 'immunization', 'of', 'liver', 'and', 'renal', 'transplant', 'recipients', 'and', 'survey', 'transpl', 'infect', 'dis', 'galazka', 'am', 'module', 'pertussis', 'in', 'the', 'immunological', 'basis', 'for', 'immunization', 'series', 'world', 'health', 'organization', 'moran', 'jj', 'rose', 'we', 'darga', 'aj', 'rohde', 'ka', 'hayney', 'ms', 'persistence', 'of', 'inﬂuenza', 'vaccine', 'induced', 'antibodies', 'in', 'lung', 'transplant', 'patients', 'between', 'seasons', 'transpl', 'infect', 'dis', 'mcquillan', 'gm', 'kruszon', 'moran', 'deforest', 'chu', 'sy', 'wharton', 'serologic', 'immunity', 'to', 'diphtheria', 'and', 'tetanus', 'in', 'the', 'united', 'states', 'ann', 'intern', 'med', 'sawilowsky', 'misconceptions', 'leading', 'to', 'choosing', 'the', 'test', 'over', 'the', 'wilcoxon', 'mann', 'whitney', 'test', 'for', 'shift', 'in', 'location', 'parameter', 'jmasm', 'laurichesse', 'zimmermann', 'galtier', 'et', 'al', 'immunogenicity', 'and', 'safety', 'results', 'from', 'randomized', 'multicenter', 'trial', 'comparing', 'tdap', 'ipv', 'vaccine', 'repevax', 'cid', 'and', 'tetanus', 'monovalent', 'vaccine', 'in', 'healthy', 'adults', 'new', 'considerations', 'for', 'the', 'management', 'of', 'transplant', 'infectious', 'disease', 'rohde', 'et', 'al', 'duration', 'of', 'tetanus', 'and', 'diphtheria', 'protection', 'patients', 'with', 'tetanus', 'prone', 'injuries', 'hum', 'vaccine', 'immunother', 'huzly', 'neifer', 'reinke', 'et', 'al', 'routine', 'immunizations', 'in', 'adult', 'renal', 'transplant', 'recipients', 'transplantation', 'eckerle', 'rosenberger', 'kd', 'zwahlen', 'junghanss', 'serological', 'vaccination', 'response', 'after', 'solid', 'organ', 'transplantation', 'systematic', 'review', 'plos', 'one', 'hayney', 'ms', 'love', 'gd', 'carlberg', 'bm', 'buck', 'jm', 'muller', 'tetanus', 'seroprevalence', 'among', 'farmers', 'rural', 'health', 'maple', 'pa', 'jones', 'cs', 'wall', 'ec', 'et', 'al', 'immunity', 'to', 'diphtheria', 'and', 'tetanus', 'in', 'england', 'and', 'wales', 'vaccine', 'alagappan', 'rennie', 'kwiatkowski', 'falck', 'silverstone', 'silverman', 'seroprevalence', 'of', 'tetanus', 'antibodies', 'among', 'adults', 'older', 'than', 'years', 'ann', 'emerg', 'med', 'gergen', 'pj', 'mcquillan', 'gm', 'kiely', 'ezzati', 'rice', 'tm', 'sutter', 'rw', 'virella', 'population', 'based', 'serologic', 'survey', 'of', 'immunity', 'to', 'tetanus', 'in', 'the', 'united', 'states', 'engl', 'med', 'transplant', 'infectious', 'disease', 'copyright', 'of', 'transplant', 'infectious', 'disease', 'is', 'the', 'property', 'of', 'wiley', 'blackwell', 'and', 'its', 'content', 'may', 'not', 'be', 'copied', 'or', 'emailed', 'to', 'multiple', 'sites', 'or', 'posted', 'to', 'listserv', 'without', 'the', 'copyright', 'holder', 'express', 'written', 'permission', 'however', 'users', 'may', 'print', 'download', 'or', 'email', 'articles', 'for', 'individual', 'use']\n"
          ]
        },
        {
          "output_type": "stream",
          "name": "stderr",
          "text": [
            "/usr/local/lib/python3.10/dist-packages/ipykernel/ipkernel.py:283: DeprecationWarning: `should_run_async` will not call `transform_cell` automatically in the future. Please pass the result to `transformed_cell` argument and any exception that happen during thetransform in `preprocessing_exc_tuple` in IPython 7.17 and above.\n",
            "  and should_run_async(code)\n"
          ]
        }
      ]
    },
    {
      "cell_type": "code",
      "source": [
        "clean_words = remove_all_stop_words(text_as_words)"
      ],
      "metadata": {
        "id": "LLmY7I0yIE-h",
        "colab": {
          "base_uri": "https://localhost:8080/"
        },
        "outputId": "7271ea3d-9877-4fd5-a983-34069d52d908"
      },
      "execution_count": null,
      "outputs": [
        {
          "output_type": "stream",
          "name": "stderr",
          "text": [
            "/usr/local/lib/python3.10/dist-packages/ipykernel/ipkernel.py:283: DeprecationWarning: `should_run_async` will not call `transform_cell` automatically in the future. Please pass the result to `transformed_cell` argument and any exception that happen during thetransform in `preprocessing_exc_tuple` in IPython 7.17 and above.\n",
            "  and should_run_async(code)\n"
          ]
        }
      ]
    },
    {
      "cell_type": "code",
      "source": [
        "len(clean_words)"
      ],
      "metadata": {
        "colab": {
          "base_uri": "https://localhost:8080/"
        },
        "id": "oV-GkqkfIG9X",
        "outputId": "02ffec69-0e16-48d5-cc03-db7bc2c16242"
      },
      "execution_count": null,
      "outputs": [
        {
          "output_type": "stream",
          "name": "stderr",
          "text": [
            "/usr/local/lib/python3.10/dist-packages/ipykernel/ipkernel.py:283: DeprecationWarning: `should_run_async` will not call `transform_cell` automatically in the future. Please pass the result to `transformed_cell` argument and any exception that happen during thetransform in `preprocessing_exc_tuple` in IPython 7.17 and above.\n",
            "  and should_run_async(code)\n"
          ]
        },
        {
          "output_type": "execute_result",
          "data": {
            "text/plain": [
              "284"
            ]
          },
          "metadata": {},
          "execution_count": 36
        }
      ]
    },
    {
      "cell_type": "code",
      "source": [
        "len(clean_words[0])"
      ],
      "metadata": {
        "colab": {
          "base_uri": "https://localhost:8080/"
        },
        "id": "8W4ePTI2ILp5",
        "outputId": "9e31897f-73ca-4585-bd7e-f4789c3bbd60"
      },
      "execution_count": null,
      "outputs": [
        {
          "output_type": "stream",
          "name": "stderr",
          "text": [
            "/usr/local/lib/python3.10/dist-packages/ipykernel/ipkernel.py:283: DeprecationWarning: `should_run_async` will not call `transform_cell` automatically in the future. Please pass the result to `transformed_cell` argument and any exception that happen during thetransform in `preprocessing_exc_tuple` in IPython 7.17 and above.\n",
            "  and should_run_async(code)\n"
          ]
        },
        {
          "output_type": "execute_result",
          "data": {
            "text/plain": [
              "2312"
            ]
          },
          "metadata": {},
          "execution_count": 37
        }
      ]
    },
    {
      "cell_type": "code",
      "source": [
        "print(clean_words[:1][0][:20])"
      ],
      "metadata": {
        "colab": {
          "base_uri": "https://localhost:8080/"
        },
        "id": "abLeaqjIIPXH",
        "outputId": "ee723950-1917-4ad5-e867-fc3fe0a96136"
      },
      "execution_count": null,
      "outputs": [
        {
          "output_type": "stream",
          "name": "stdout",
          "text": [
            "['john', 'wiley', 'sons', 'published', 'john', 'wiley', 'sons', 'ltd', 'transplant', 'infectious', 'disease', 'issn', 'cross', 'sectional', 'study', 'tetanus', 'diphtheria', 'antibody', 'concentrations', 'post']\n"
          ]
        },
        {
          "output_type": "stream",
          "name": "stderr",
          "text": [
            "/usr/local/lib/python3.10/dist-packages/ipykernel/ipkernel.py:283: DeprecationWarning: `should_run_async` will not call `transform_cell` automatically in the future. Please pass the result to `transformed_cell` argument and any exception that happen during thetransform in `preprocessing_exc_tuple` in IPython 7.17 and above.\n",
            "  and should_run_async(code)\n"
          ]
        }
      ]
    },
    {
      "cell_type": "code",
      "source": [
        "bigram = gensim.models.Phrases(clean_words, min_count=5, threshold=100)\n",
        "trigram = gensim.models.Phrases(bigram[clean_words], threshold=100)"
      ],
      "metadata": {
        "id": "WLY4RXlaIWPw",
        "colab": {
          "base_uri": "https://localhost:8080/"
        },
        "outputId": "9e9d3efb-ba67-4a78-b89e-f1b869c399ff"
      },
      "execution_count": null,
      "outputs": [
        {
          "output_type": "stream",
          "name": "stderr",
          "text": [
            "/usr/local/lib/python3.10/dist-packages/ipykernel/ipkernel.py:283: DeprecationWarning: `should_run_async` will not call `transform_cell` automatically in the future. Please pass the result to `transformed_cell` argument and any exception that happen during thetransform in `preprocessing_exc_tuple` in IPython 7.17 and above.\n",
            "  and should_run_async(code)\n"
          ]
        }
      ]
    },
    {
      "cell_type": "code",
      "source": [
        "bigram_mod = gensim.models.phrases.Phraser(bigram)\n",
        "trigram_mod = gensim.models.phrases.Phraser(trigram)"
      ],
      "metadata": {
        "id": "hVHEPOFdOYsf",
        "colab": {
          "base_uri": "https://localhost:8080/"
        },
        "outputId": "f1147c47-8c24-4e36-8109-4142863c1856"
      },
      "execution_count": null,
      "outputs": [
        {
          "output_type": "stream",
          "name": "stderr",
          "text": [
            "/usr/local/lib/python3.10/dist-packages/ipykernel/ipkernel.py:283: DeprecationWarning: `should_run_async` will not call `transform_cell` automatically in the future. Please pass the result to `transformed_cell` argument and any exception that happen during thetransform in `preprocessing_exc_tuple` in IPython 7.17 and above.\n",
            "  and should_run_async(code)\n"
          ]
        }
      ]
    },
    {
      "cell_type": "code",
      "source": [
        "def make_bigrams(texts):\n",
        "    return [bigram_mod[doc] for doc in texts]\n",
        "\n",
        "def make_trigrams(texts):\n",
        "    return [trigram_mod[bigram_mod[doc]] for doc in texts]"
      ],
      "metadata": {
        "id": "0McTz8ifP2K4",
        "colab": {
          "base_uri": "https://localhost:8080/"
        },
        "outputId": "71d418ff-0c55-4b6a-f3b5-b9a93a974157"
      },
      "execution_count": null,
      "outputs": [
        {
          "output_type": "stream",
          "name": "stderr",
          "text": [
            "/usr/local/lib/python3.10/dist-packages/ipykernel/ipkernel.py:283: DeprecationWarning: `should_run_async` will not call `transform_cell` automatically in the future. Please pass the result to `transformed_cell` argument and any exception that happen during thetransform in `preprocessing_exc_tuple` in IPython 7.17 and above.\n",
            "  and should_run_async(code)\n"
          ]
        }
      ]
    },
    {
      "cell_type": "code",
      "source": [
        "def lemmatization(texts, allowed_postags=['NOUN', 'ADJ', 'VERB', 'ADV']):\n",
        "    \"\"\"https://spacy.io/api/annotation\"\"\"\n",
        "    texts_out = []\n",
        "    for sent in texts:\n",
        "        doc = nlp(\" \".join(sent))\n",
        "        texts_out.append([token.lemma_ for token in doc if token.pos_ in allowed_postags])\n",
        "    return texts_out"
      ],
      "metadata": {
        "id": "dT1o7S_FP6tN",
        "colab": {
          "base_uri": "https://localhost:8080/"
        },
        "outputId": "ed4f26b0-be9b-43e1-eefa-0b0ce823b8de"
      },
      "execution_count": null,
      "outputs": [
        {
          "output_type": "stream",
          "name": "stderr",
          "text": [
            "/usr/local/lib/python3.10/dist-packages/ipykernel/ipkernel.py:283: DeprecationWarning: `should_run_async` will not call `transform_cell` automatically in the future. Please pass the result to `transformed_cell` argument and any exception that happen during thetransform in `preprocessing_exc_tuple` in IPython 7.17 and above.\n",
            "  and should_run_async(code)\n"
          ]
        }
      ]
    },
    {
      "cell_type": "code",
      "source": [
        "import spacy\n",
        "nlp = spacy.load('en_core_web_sm',disable=['parser', 'ner'])"
      ],
      "metadata": {
        "id": "aNkTACVgQFYz",
        "colab": {
          "base_uri": "https://localhost:8080/"
        },
        "outputId": "60150019-935b-4197-bb19-ed898c200577"
      },
      "execution_count": null,
      "outputs": [
        {
          "output_type": "stream",
          "name": "stderr",
          "text": [
            "/usr/local/lib/python3.10/dist-packages/ipykernel/ipkernel.py:283: DeprecationWarning: `should_run_async` will not call `transform_cell` automatically in the future. Please pass the result to `transformed_cell` argument and any exception that happen during thetransform in `preprocessing_exc_tuple` in IPython 7.17 and above.\n",
            "  and should_run_async(code)\n",
            "/usr/local/lib/python3.10/dist-packages/spacy/util.py:910: UserWarning: [W095] Model 'en_core_web_sm' (3.6.0) was trained with spaCy v3.6.0 and may not be 100% compatible with the current version (3.7.2). If you see errors or degraded performance, download a newer compatible model or retrain your custom model with the current spaCy version. For more details and available updates, run: python -m spacy validate\n",
            "  warnings.warn(warn_msg)\n"
          ]
        }
      ]
    },
    {
      "cell_type": "code",
      "source": [
        "clean_words_bigrams = make_bigrams(clean_words)"
      ],
      "metadata": {
        "id": "jOuPCBFMQKeW",
        "colab": {
          "base_uri": "https://localhost:8080/"
        },
        "outputId": "61363ae8-01c3-405f-c0e7-f7c3275b9e9c"
      },
      "execution_count": null,
      "outputs": [
        {
          "output_type": "stream",
          "name": "stderr",
          "text": [
            "/usr/local/lib/python3.10/dist-packages/ipykernel/ipkernel.py:283: DeprecationWarning: `should_run_async` will not call `transform_cell` automatically in the future. Please pass the result to `transformed_cell` argument and any exception that happen during thetransform in `preprocessing_exc_tuple` in IPython 7.17 and above.\n",
            "  and should_run_async(code)\n"
          ]
        }
      ]
    },
    {
      "cell_type": "code",
      "source": [
        "clean_words_lemmatized = lemmatization(clean_words_bigrams, allowed_postags=['NOUN', 'ADJ', 'VERB', 'ADV'])"
      ],
      "metadata": {
        "id": "3vigBbKpQupO",
        "colab": {
          "base_uri": "https://localhost:8080/"
        },
        "outputId": "d995b234-a493-4f33-b4e9-ac438cd76ac1"
      },
      "execution_count": null,
      "outputs": [
        {
          "output_type": "stream",
          "name": "stderr",
          "text": [
            "/usr/local/lib/python3.10/dist-packages/ipykernel/ipkernel.py:283: DeprecationWarning: `should_run_async` will not call `transform_cell` automatically in the future. Please pass the result to `transformed_cell` argument and any exception that happen during thetransform in `preprocessing_exc_tuple` in IPython 7.17 and above.\n",
            "  and should_run_async(code)\n"
          ]
        }
      ]
    },
    {
      "cell_type": "code",
      "source": [
        "print(clean_words_lemmatized[:1][0][:100])"
      ],
      "metadata": {
        "colab": {
          "base_uri": "https://localhost:8080/"
        },
        "id": "sGiSQSBFQ6MC",
        "outputId": "130973bf-cfb1-44b3-ddea-6e40601d508b"
      },
      "execution_count": null,
      "outputs": [
        {
          "output_type": "stream",
          "name": "stdout",
          "text": [
            "['john_wiley', 'son', 'transplant', 'infectious', 'disease', 'issn', 'study', 'diphtheria', 'antibody', 'concentration', 'post', 'vaccination', 'lung_transplant', 'patient', 'compare', 'healthy_individual', 'diphtheria', 'antibody', 'concentration', 'post', 'vaccination', 'lung_transplant', 'patient', 'compare', 'healthy_individual', 'transpl', 'rights_reserve', 'lung_transplant', 'lutx', 'patient', 'routinely', 'immunize', 'tetanus', 'diphtheria', 'however', 'study', 'do', 'measure', 'serologic', 'immunity', 'transplant', 'population', 'objective', 'primary', 'objective', 'study', 'compare', 'diphtheria', 'antibody', 'concentration', 'lutx', 'healthy', 'subject', 'method', 'use', 'available', 'sample', 'total', 'individual', 'healthy', 'diphtheria', 'antibody', 'concentration', 'measure', 'use', 'enzyme_linked', 'immunosorbant', 'assay', 'method', 'result', 'statistically_signiﬁcant', 'difference', 'tetanus', 'diphtheria', 'antibody', 'concentration', 'find', 'group', 'median', 'concentration', 'antibody', 'high', 'healthy_individual', 'compare', 'group', 'interquartile_range', 'iqr', 'iu_ml', 'iqr', 'respectively', 'difference', 'time', 'find', 'since_last', 'diphtheria', 'pertussis', 'vaccine', 'dose', 'group', 'healthy']\n"
          ]
        },
        {
          "output_type": "stream",
          "name": "stderr",
          "text": [
            "/usr/local/lib/python3.10/dist-packages/ipykernel/ipkernel.py:283: DeprecationWarning: `should_run_async` will not call `transform_cell` automatically in the future. Please pass the result to `transformed_cell` argument and any exception that happen during thetransform in `preprocessing_exc_tuple` in IPython 7.17 and above.\n",
            "  and should_run_async(code)\n"
          ]
        }
      ]
    },
    {
      "cell_type": "code",
      "source": [
        "print(len(clean_words))\n",
        "print(len(clean_words[0]))\n",
        "print(len(clean_words[99]))"
      ],
      "metadata": {
        "colab": {
          "base_uri": "https://localhost:8080/"
        },
        "id": "mjlCv1JIR_lU",
        "outputId": "ed86d206-f7a4-4659-e020-845b60d934da"
      },
      "execution_count": null,
      "outputs": [
        {
          "output_type": "stream",
          "name": "stdout",
          "text": [
            "284\n",
            "2312\n",
            "1963\n"
          ]
        },
        {
          "output_type": "stream",
          "name": "stderr",
          "text": [
            "/usr/local/lib/python3.10/dist-packages/ipykernel/ipkernel.py:283: DeprecationWarning: `should_run_async` will not call `transform_cell` automatically in the future. Please pass the result to `transformed_cell` argument and any exception that happen during thetransform in `preprocessing_exc_tuple` in IPython 7.17 and above.\n",
            "  and should_run_async(code)\n"
          ]
        }
      ]
    },
    {
      "cell_type": "code",
      "source": [
        "print(len(clean_words_lemmatized))\n",
        "print(len(clean_words_lemmatized[0]))\n",
        "print(len(clean_words_lemmatized[99]))"
      ],
      "metadata": {
        "colab": {
          "base_uri": "https://localhost:8080/"
        },
        "id": "7C-4syrQSBdG",
        "outputId": "d5706546-38e4-4910-b055-a717edbebd19"
      },
      "execution_count": null,
      "outputs": [
        {
          "output_type": "stream",
          "name": "stdout",
          "text": [
            "284\n",
            "1634\n",
            "1547\n"
          ]
        },
        {
          "output_type": "stream",
          "name": "stderr",
          "text": [
            "/usr/local/lib/python3.10/dist-packages/ipykernel/ipkernel.py:283: DeprecationWarning: `should_run_async` will not call `transform_cell` automatically in the future. Please pass the result to `transformed_cell` argument and any exception that happen during thetransform in `preprocessing_exc_tuple` in IPython 7.17 and above.\n",
            "  and should_run_async(code)\n"
          ]
        }
      ]
    },
    {
      "cell_type": "code",
      "source": [
        "import gensim.corpora as corpora"
      ],
      "metadata": {
        "id": "wjbBhHMxSZFv",
        "colab": {
          "base_uri": "https://localhost:8080/"
        },
        "outputId": "aa85e38b-1301-4058-8381-5a0a12c24237"
      },
      "execution_count": null,
      "outputs": [
        {
          "output_type": "stream",
          "name": "stderr",
          "text": [
            "/usr/local/lib/python3.10/dist-packages/ipykernel/ipkernel.py:283: DeprecationWarning: `should_run_async` will not call `transform_cell` automatically in the future. Please pass the result to `transformed_cell` argument and any exception that happen during thetransform in `preprocessing_exc_tuple` in IPython 7.17 and above.\n",
            "  and should_run_async(code)\n"
          ]
        }
      ]
    },
    {
      "cell_type": "code",
      "source": [
        "id2word = corpora.Dictionary(clean_words_lemmatized)\n",
        "texts = clean_words_lemmatized\n",
        "corpus = [id2word.doc2bow(text) for text in texts]"
      ],
      "metadata": {
        "id": "VSEjNKwaSjta",
        "colab": {
          "base_uri": "https://localhost:8080/"
        },
        "outputId": "94df34f7-e110-4321-85ac-467e92f96b44"
      },
      "execution_count": null,
      "outputs": [
        {
          "output_type": "stream",
          "name": "stderr",
          "text": [
            "/usr/local/lib/python3.10/dist-packages/ipykernel/ipkernel.py:283: DeprecationWarning: `should_run_async` will not call `transform_cell` automatically in the future. Please pass the result to `transformed_cell` argument and any exception that happen during thetransform in `preprocessing_exc_tuple` in IPython 7.17 and above.\n",
            "  and should_run_async(code)\n"
          ]
        }
      ]
    },
    {
      "cell_type": "code",
      "source": [
        "print(corpus[:1][0][:100])"
      ],
      "metadata": {
        "colab": {
          "base_uri": "https://localhost:8080/"
        },
        "id": "dE3Jp3AySoHm",
        "outputId": "aaf51457-aa22-4e80-f31a-bc7b7f052ebd"
      },
      "execution_count": null,
      "outputs": [
        {
          "output_type": "stream",
          "name": "stdout",
          "text": [
            "[(0, 3), (1, 1), (2, 1), (3, 1), (4, 2), (5, 1), (6, 6), (7, 9), (8, 1), (9, 3), (10, 2), (11, 2), (12, 7), (13, 1), (14, 1), (15, 1), (16, 2), (17, 81), (18, 1), (19, 3), (20, 1), (21, 1), (22, 1), (23, 2), (24, 1), (25, 1), (26, 1), (27, 1), (28, 3), (29, 1), (30, 5), (31, 1), (32, 1), (33, 1), (34, 1), (35, 1), (36, 18), (37, 1), (38, 1), (39, 1), (40, 1), (41, 1), (42, 1), (43, 6), (44, 4), (45, 1), (46, 2), (47, 1), (48, 2), (49, 9), (50, 1), (51, 1), (52, 2), (53, 21), (54, 5), (55, 2), (56, 2), (57, 2), (58, 55), (59, 2), (60, 2), (61, 2), (62, 3), (63, 1), (64, 1), (65, 1), (66, 1), (67, 1), (68, 2), (69, 4), (70, 1), (71, 1), (72, 2), (73, 2), (74, 7), (75, 1), (76, 1), (77, 1), (78, 3), (79, 2), (80, 3), (81, 1), (82, 6), (83, 1), (84, 7), (85, 2), (86, 1), (87, 3), (88, 2), (89, 1), (90, 6), (91, 1), (92, 2), (93, 1), (94, 10), (95, 6), (96, 1), (97, 64), (98, 1), (99, 9)]\n"
          ]
        },
        {
          "output_type": "stream",
          "name": "stderr",
          "text": [
            "/usr/local/lib/python3.10/dist-packages/ipykernel/ipkernel.py:283: DeprecationWarning: `should_run_async` will not call `transform_cell` automatically in the future. Please pass the result to `transformed_cell` argument and any exception that happen during thetransform in `preprocessing_exc_tuple` in IPython 7.17 and above.\n",
            "  and should_run_async(code)\n"
          ]
        }
      ]
    },
    {
      "cell_type": "code",
      "source": [
        "print(len(clean_words_lemmatized))\n",
        "print(len(clean_words_lemmatized[0]))\n",
        "print(len(clean_words_lemmatized[99]))"
      ],
      "metadata": {
        "colab": {
          "base_uri": "https://localhost:8080/"
        },
        "id": "lihSrLhBS3E5",
        "outputId": "44c69d58-d317-44fe-9a0d-42fd566ebcde"
      },
      "execution_count": null,
      "outputs": [
        {
          "output_type": "stream",
          "name": "stdout",
          "text": [
            "284\n",
            "1634\n",
            "1547\n"
          ]
        },
        {
          "output_type": "stream",
          "name": "stderr",
          "text": [
            "/usr/local/lib/python3.10/dist-packages/ipykernel/ipkernel.py:283: DeprecationWarning: `should_run_async` will not call `transform_cell` automatically in the future. Please pass the result to `transformed_cell` argument and any exception that happen during thetransform in `preprocessing_exc_tuple` in IPython 7.17 and above.\n",
            "  and should_run_async(code)\n"
          ]
        }
      ]
    },
    {
      "cell_type": "code",
      "source": [
        "num_topics = 10"
      ],
      "metadata": {
        "id": "snaFUWVoTIcK",
        "colab": {
          "base_uri": "https://localhost:8080/"
        },
        "outputId": "a7a46cf1-5188-4c4a-d78d-6ed29e888bf4"
      },
      "execution_count": null,
      "outputs": [
        {
          "output_type": "stream",
          "name": "stderr",
          "text": [
            "/usr/local/lib/python3.10/dist-packages/ipykernel/ipkernel.py:283: DeprecationWarning: `should_run_async` will not call `transform_cell` automatically in the future. Please pass the result to `transformed_cell` argument and any exception that happen during thetransform in `preprocessing_exc_tuple` in IPython 7.17 and above.\n",
            "  and should_run_async(code)\n"
          ]
        }
      ]
    },
    {
      "cell_type": "code",
      "source": [
        "lda_model = gensim.models.LdaMulticore(corpus=corpus,\n",
        "                                       id2word=id2word,\n",
        "                                       num_topics=num_topics,\n",
        "                                       random_state=100,chunksize=100,passes=10,per_word_topics=True)"
      ],
      "metadata": {
        "id": "pBO2XJzxVoj1",
        "colab": {
          "base_uri": "https://localhost:8080/"
        },
        "outputId": "bc0c7097-da21-4708-f119-c4b789bfcd3a"
      },
      "execution_count": null,
      "outputs": [
        {
          "output_type": "stream",
          "name": "stderr",
          "text": [
            "/usr/local/lib/python3.10/dist-packages/ipykernel/ipkernel.py:283: DeprecationWarning: `should_run_async` will not call `transform_cell` automatically in the future. Please pass the result to `transformed_cell` argument and any exception that happen during thetransform in `preprocessing_exc_tuple` in IPython 7.17 and above.\n",
            "  and should_run_async(code)\n"
          ]
        }
      ]
    },
    {
      "cell_type": "code",
      "source": [
        "from pprint import pprint\n",
        "pprint(lda_model.print_topics())"
      ],
      "metadata": {
        "colab": {
          "base_uri": "https://localhost:8080/"
        },
        "id": "jkHUbbRPV14Z",
        "outputId": "424b124b-d93a-4f07-c28b-5ea3c9a2371e"
      },
      "execution_count": null,
      "outputs": [
        {
          "output_type": "stream",
          "name": "stdout",
          "text": [
            "[(0,\n",
            "  '0.032*\"pertussis\" + 0.029*\"case\" + 0.021*\"child\" + 0.019*\"vaccine\" + '\n",
            "  '0.018*\"year\" + 0.017*\"age\" + 0.013*\"vaccination\" + 0.011*\"study\" + '\n",
            "  '0.009*\"disease\" + 0.007*\"infant\"'),\n",
            " (1,\n",
            "  '0.036*\"vaccine\" + 0.019*\"child\" + 0.019*\"study\" + 0.017*\"vaccination\" + '\n",
            "  '0.014*\"group\" + 0.013*\"pertussis\" + 0.012*\"reaction\" + 0.011*\"dose\" + '\n",
            "  '0.011*\"booster\" + 0.009*\"diphtheria\"'),\n",
            " (2,\n",
            "  '0.015*\"child\" + 0.013*\"patient\" + 0.012*\"pertussis\" + 0.011*\"vaccine\" + '\n",
            "  '0.010*\"cid\" + 0.007*\"infection\" + 0.007*\"immunization\" + 0.007*\"disease\" + '\n",
            "  '0.006*\"case\" + 0.006*\"study\"'),\n",
            " (3,\n",
            "  '0.040*\"vaccine\" + 0.020*\"child\" + 0.018*\"vaccination\" + 0.017*\"reaction\" + '\n",
            "  '0.012*\"study\" + 0.010*\"report\" + 0.007*\"pertussis\" + 0.007*\"dose\" + '\n",
            "  '0.007*\"follow\" + 0.007*\"risk\"'),\n",
            " (4,\n",
            "  '0.033*\"child\" + 0.014*\"vaccine\" + 0.014*\"immunization\" + '\n",
            "  '0.011*\"vaccination\" + 0.011*\"cell\" + 0.010*\"pertussis\" + 0.009*\"study\" + '\n",
            "  '0.009*\"response\" + 0.007*\"month\" + 0.006*\"level\"'),\n",
            " (5,\n",
            "  '0.028*\"aluminium\" + 0.025*\"test\" + 0.014*\"patch_t\" + 0.008*\"positive\" + '\n",
            "  '0.006*\"contact_allergy\" + 0.006*\"por\" + 0.005*\"patch\" + 0.005*\"metal\" + '\n",
            "  '0.005*\"allergy\" + 0.005*\"result\"'),\n",
            " (6,\n",
            "  '0.041*\"vaccine\" + 0.035*\"report\" + 0.025*\"year\" + 0.023*\"aefi\" + '\n",
            "  '0.020*\"reaction\" + 0.019*\"follow\" + 0.019*\"rate\" + 0.019*\"immunisation\" + '\n",
            "  '0.017*\"adverse_event\" + 0.017*\"dose\"'),\n",
            " (7,\n",
            "  '0.049*\"pertussis\" + 0.044*\"vaccine\" + 0.017*\"child\" + 0.013*\"acellular\" + '\n",
            "  '0.012*\"study\" + 0.010*\"antibody\" + 0.010*\"year\" + 0.010*\"response\" + '\n",
            "  '0.010*\"group\" + 0.009*\"vaccination\"'),\n",
            " (8,\n",
            "  '0.037*\"vaccine\" + 0.016*\"case\" + 0.016*\"report\" + 0.014*\"vaccination\" + '\n",
            "  '0.013*\"study\" + 0.009*\"pertussis\" + 0.008*\"follow\" + 0.007*\"child\" + '\n",
            "  '0.007*\"year\" + 0.007*\"age\"'),\n",
            " (9,\n",
            "  '0.039*\"pertussis\" + 0.016*\"year\" + 0.014*\"vaccine\" + 0.013*\"age\" + '\n",
            "  '0.013*\"vaccination\" + 0.012*\"study\" + 0.011*\"child\" + 0.010*\"infection\" + '\n",
            "  '0.010*\"group\" + 0.008*\"antibody\"')]\n"
          ]
        },
        {
          "output_type": "stream",
          "name": "stderr",
          "text": [
            "/usr/local/lib/python3.10/dist-packages/ipykernel/ipkernel.py:283: DeprecationWarning: `should_run_async` will not call `transform_cell` automatically in the future. Please pass the result to `transformed_cell` argument and any exception that happen during thetransform in `preprocessing_exc_tuple` in IPython 7.17 and above.\n",
            "  and should_run_async(code)\n"
          ]
        }
      ]
    },
    {
      "cell_type": "code",
      "source": [
        "doc_lda = lda_model[corpus]"
      ],
      "metadata": {
        "id": "EGJYNr36Wnh8",
        "colab": {
          "base_uri": "https://localhost:8080/"
        },
        "outputId": "fd7aec22-7473-4084-8de0-19fcd878d20a"
      },
      "execution_count": null,
      "outputs": [
        {
          "output_type": "stream",
          "name": "stderr",
          "text": [
            "/usr/local/lib/python3.10/dist-packages/ipykernel/ipkernel.py:283: DeprecationWarning: `should_run_async` will not call `transform_cell` automatically in the future. Please pass the result to `transformed_cell` argument and any exception that happen during thetransform in `preprocessing_exc_tuple` in IPython 7.17 and above.\n",
            "  and should_run_async(code)\n"
          ]
        }
      ]
    },
    {
      "cell_type": "code",
      "source": [
        "doc_lda"
      ],
      "metadata": {
        "colab": {
          "base_uri": "https://localhost:8080/"
        },
        "id": "vptCemFtW29M",
        "outputId": "8212cd05-b7ca-4177-814a-32155d2a55b0"
      },
      "execution_count": null,
      "outputs": [
        {
          "output_type": "stream",
          "name": "stderr",
          "text": [
            "/usr/local/lib/python3.10/dist-packages/ipykernel/ipkernel.py:283: DeprecationWarning: `should_run_async` will not call `transform_cell` automatically in the future. Please pass the result to `transformed_cell` argument and any exception that happen during thetransform in `preprocessing_exc_tuple` in IPython 7.17 and above.\n",
            "  and should_run_async(code)\n"
          ]
        },
        {
          "output_type": "execute_result",
          "data": {
            "text/plain": [
              "<gensim.interfaces.TransformedCorpus at 0x79ae7bbe1d20>"
            ]
          },
          "metadata": {},
          "execution_count": 57
        }
      ]
    },
    {
      "cell_type": "code",
      "source": [
        "!pip install pyldavis"
      ],
      "metadata": {
        "colab": {
          "base_uri": "https://localhost:8080/"
        },
        "id": "vVEc3SgIFyE7",
        "outputId": "43e3195d-0188-43f8-80c3-e77aec55b823"
      },
      "execution_count": null,
      "outputs": [
        {
          "output_type": "stream",
          "name": "stdout",
          "text": [
            "Collecting pyldavis\n",
            "  Downloading pyLDAvis-3.4.1-py3-none-any.whl (2.6 MB)\n",
            "\u001b[2K     \u001b[90m━━━━━━━━━━━━━━━━━━━━━━━━━━━━━━━━━━━━━━━━\u001b[0m \u001b[32m2.6/2.6 MB\u001b[0m \u001b[31m9.8 MB/s\u001b[0m eta \u001b[36m0:00:00\u001b[0m\n",
            "\u001b[?25hCollecting numpy>=1.24.2 (from pyldavis)\n",
            "  Downloading numpy-1.26.3-cp310-cp310-manylinux_2_17_x86_64.manylinux2014_x86_64.whl (18.2 MB)\n",
            "\u001b[2K     \u001b[90m━━━━━━━━━━━━━━━━━━━━━━━━━━━━━━━━━━━━━━━━\u001b[0m \u001b[32m18.2/18.2 MB\u001b[0m \u001b[31m33.9 MB/s\u001b[0m eta \u001b[36m0:00:00\u001b[0m\n",
            "\u001b[?25hRequirement already satisfied: scipy in /usr/local/lib/python3.10/dist-packages (from pyldavis) (1.11.4)\n",
            "Collecting pandas>=2.0.0 (from pyldavis)\n",
            "  Downloading pandas-2.1.4-cp310-cp310-manylinux_2_17_x86_64.manylinux2014_x86_64.whl (12.3 MB)\n",
            "\u001b[2K     \u001b[90m━━━━━━━━━━━━━━━━━━━━━━━━━━━━━━━━━━━━━━━━\u001b[0m \u001b[32m12.3/12.3 MB\u001b[0m \u001b[31m37.1 MB/s\u001b[0m eta \u001b[36m0:00:00\u001b[0m\n",
            "\u001b[?25hRequirement already satisfied: joblib>=1.2.0 in /usr/local/lib/python3.10/dist-packages (from pyldavis) (1.3.2)\n",
            "Requirement already satisfied: jinja2 in /usr/local/lib/python3.10/dist-packages (from pyldavis) (3.1.2)\n",
            "Requirement already satisfied: numexpr in /usr/local/lib/python3.10/dist-packages (from pyldavis) (2.8.8)\n",
            "Collecting funcy (from pyldavis)\n",
            "  Downloading funcy-2.0-py2.py3-none-any.whl (30 kB)\n",
            "Requirement already satisfied: scikit-learn>=1.0.0 in /usr/local/lib/python3.10/dist-packages (from pyldavis) (1.2.2)\n",
            "Requirement already satisfied: gensim in /usr/local/lib/python3.10/dist-packages (from pyldavis) (4.3.2)\n",
            "Requirement already satisfied: setuptools in /usr/local/lib/python3.10/dist-packages (from pyldavis) (67.7.2)\n",
            "Requirement already satisfied: python-dateutil>=2.8.2 in /usr/local/lib/python3.10/dist-packages (from pandas>=2.0.0->pyldavis) (2.8.2)\n",
            "Requirement already satisfied: pytz>=2020.1 in /usr/local/lib/python3.10/dist-packages (from pandas>=2.0.0->pyldavis) (2023.3.post1)\n",
            "Collecting tzdata>=2022.1 (from pandas>=2.0.0->pyldavis)\n",
            "  Downloading tzdata-2023.4-py2.py3-none-any.whl (346 kB)\n",
            "\u001b[2K     \u001b[90m━━━━━━━━━━━━━━━━━━━━━━━━━━━━━━━━━━━━━━━━\u001b[0m \u001b[32m346.6/346.6 kB\u001b[0m \u001b[31m25.1 MB/s\u001b[0m eta \u001b[36m0:00:00\u001b[0m\n",
            "\u001b[?25hRequirement already satisfied: threadpoolctl>=2.0.0 in /usr/local/lib/python3.10/dist-packages (from scikit-learn>=1.0.0->pyldavis) (3.2.0)\n",
            "Requirement already satisfied: smart-open>=1.8.1 in /usr/local/lib/python3.10/dist-packages (from gensim->pyldavis) (6.4.0)\n",
            "Requirement already satisfied: MarkupSafe>=2.0 in /usr/local/lib/python3.10/dist-packages (from jinja2->pyldavis) (2.1.3)\n",
            "Requirement already satisfied: six>=1.5 in /usr/local/lib/python3.10/dist-packages (from python-dateutil>=2.8.2->pandas>=2.0.0->pyldavis) (1.16.0)\n",
            "Installing collected packages: funcy, tzdata, numpy, pandas, pyldavis\n",
            "  Attempting uninstall: numpy\n",
            "    Found existing installation: numpy 1.23.5\n",
            "    Uninstalling numpy-1.23.5:\n",
            "      Successfully uninstalled numpy-1.23.5\n",
            "  Attempting uninstall: pandas\n",
            "    Found existing installation: pandas 1.5.3\n",
            "    Uninstalling pandas-1.5.3:\n",
            "      Successfully uninstalled pandas-1.5.3\n",
            "\u001b[31mERROR: pip's dependency resolver does not currently take into account all the packages that are installed. This behaviour is the source of the following dependency conflicts.\n",
            "lida 0.0.10 requires fastapi, which is not installed.\n",
            "lida 0.0.10 requires kaleido, which is not installed.\n",
            "lida 0.0.10 requires python-multipart, which is not installed.\n",
            "lida 0.0.10 requires uvicorn, which is not installed.\n",
            "bigframes 0.18.0 requires pandas<2.1.4,>=1.5.0, but you have pandas 2.1.4 which is incompatible.\n",
            "google-colab 1.0.0 requires pandas==1.5.3, but you have pandas 2.1.4 which is incompatible.\u001b[0m\u001b[31m\n",
            "\u001b[0mSuccessfully installed funcy-2.0 numpy-1.26.3 pandas-2.1.4 pyldavis-3.4.1 tzdata-2023.4\n"
          ]
        }
      ]
    },
    {
      "cell_type": "code",
      "source": [
        "!pip install gensim\n",
        "!pip install pyLDAvis\n",
        "!pip install wordcloud\n",
        "!pip install -U pip setuptools wheel\n",
        "!pip install -U spacy"
      ],
      "metadata": {
        "colab": {
          "base_uri": "https://localhost:8080/"
        },
        "id": "jow05kblW4o6",
        "outputId": "953058b8-af2a-494d-c806-4767b8a9bde0"
      },
      "execution_count": null,
      "outputs": [
        {
          "output_type": "stream",
          "name": "stdout",
          "text": [
            "Requirement already satisfied: gensim in /usr/local/lib/python3.10/dist-packages (4.3.2)\n",
            "Requirement already satisfied: numpy>=1.18.5 in /usr/local/lib/python3.10/dist-packages (from gensim) (1.26.3)\n",
            "Requirement already satisfied: scipy>=1.7.0 in /usr/local/lib/python3.10/dist-packages (from gensim) (1.11.4)\n",
            "Requirement already satisfied: smart-open>=1.8.1 in /usr/local/lib/python3.10/dist-packages (from gensim) (6.4.0)\n",
            "\u001b[33mWARNING: Running pip as the 'root' user can result in broken permissions and conflicting behaviour with the system package manager. It is recommended to use a virtual environment instead: https://pip.pypa.io/warnings/venv\u001b[0m\u001b[33m\n",
            "\u001b[0mRequirement already satisfied: pyLDAvis in /usr/local/lib/python3.10/dist-packages (3.4.1)\n",
            "Requirement already satisfied: numpy>=1.24.2 in /usr/local/lib/python3.10/dist-packages (from pyLDAvis) (1.26.3)\n",
            "Requirement already satisfied: scipy in /usr/local/lib/python3.10/dist-packages (from pyLDAvis) (1.11.4)\n",
            "Requirement already satisfied: pandas>=2.0.0 in /usr/local/lib/python3.10/dist-packages (from pyLDAvis) (2.1.4)\n",
            "Requirement already satisfied: joblib>=1.2.0 in /usr/local/lib/python3.10/dist-packages (from pyLDAvis) (1.3.2)\n",
            "Requirement already satisfied: jinja2 in /usr/local/lib/python3.10/dist-packages (from pyLDAvis) (3.1.2)\n",
            "Requirement already satisfied: numexpr in /usr/local/lib/python3.10/dist-packages (from pyLDAvis) (2.8.8)\n",
            "Requirement already satisfied: funcy in /usr/local/lib/python3.10/dist-packages (from pyLDAvis) (2.0)\n",
            "Requirement already satisfied: scikit-learn>=1.0.0 in /usr/local/lib/python3.10/dist-packages (from pyLDAvis) (1.2.2)\n",
            "Requirement already satisfied: gensim in /usr/local/lib/python3.10/dist-packages (from pyLDAvis) (4.3.2)\n",
            "Requirement already satisfied: setuptools in /usr/local/lib/python3.10/dist-packages (from pyLDAvis) (69.0.3)\n",
            "Requirement already satisfied: python-dateutil>=2.8.2 in /usr/local/lib/python3.10/dist-packages (from pandas>=2.0.0->pyLDAvis) (2.8.2)\n",
            "Requirement already satisfied: pytz>=2020.1 in /usr/local/lib/python3.10/dist-packages (from pandas>=2.0.0->pyLDAvis) (2023.3.post1)\n",
            "Requirement already satisfied: tzdata>=2022.1 in /usr/local/lib/python3.10/dist-packages (from pandas>=2.0.0->pyLDAvis) (2023.4)\n",
            "Requirement already satisfied: threadpoolctl>=2.0.0 in /usr/local/lib/python3.10/dist-packages (from scikit-learn>=1.0.0->pyLDAvis) (3.2.0)\n",
            "Requirement already satisfied: smart-open>=1.8.1 in /usr/local/lib/python3.10/dist-packages (from gensim->pyLDAvis) (6.4.0)\n",
            "Requirement already satisfied: MarkupSafe>=2.0 in /usr/local/lib/python3.10/dist-packages (from jinja2->pyLDAvis) (2.1.3)\n",
            "Requirement already satisfied: six>=1.5 in /usr/local/lib/python3.10/dist-packages (from python-dateutil>=2.8.2->pandas>=2.0.0->pyLDAvis) (1.16.0)\n",
            "\u001b[33mWARNING: Running pip as the 'root' user can result in broken permissions and conflicting behaviour with the system package manager. It is recommended to use a virtual environment instead: https://pip.pypa.io/warnings/venv\u001b[0m\u001b[33m\n",
            "\u001b[0mRequirement already satisfied: wordcloud in /usr/local/lib/python3.10/dist-packages (1.9.3)\n",
            "Requirement already satisfied: numpy>=1.6.1 in /usr/local/lib/python3.10/dist-packages (from wordcloud) (1.26.3)\n",
            "Requirement already satisfied: pillow in /usr/local/lib/python3.10/dist-packages (from wordcloud) (9.4.0)\n",
            "Requirement already satisfied: matplotlib in /usr/local/lib/python3.10/dist-packages (from wordcloud) (3.7.1)\n",
            "Requirement already satisfied: contourpy>=1.0.1 in /usr/local/lib/python3.10/dist-packages (from matplotlib->wordcloud) (1.2.0)\n",
            "Requirement already satisfied: cycler>=0.10 in /usr/local/lib/python3.10/dist-packages (from matplotlib->wordcloud) (0.12.1)\n",
            "Requirement already satisfied: fonttools>=4.22.0 in /usr/local/lib/python3.10/dist-packages (from matplotlib->wordcloud) (4.47.0)\n",
            "Requirement already satisfied: kiwisolver>=1.0.1 in /usr/local/lib/python3.10/dist-packages (from matplotlib->wordcloud) (1.4.5)\n",
            "Requirement already satisfied: packaging>=20.0 in /usr/local/lib/python3.10/dist-packages (from matplotlib->wordcloud) (23.2)\n",
            "Requirement already satisfied: pyparsing>=2.3.1 in /usr/local/lib/python3.10/dist-packages (from matplotlib->wordcloud) (3.1.1)\n",
            "Requirement already satisfied: python-dateutil>=2.7 in /usr/local/lib/python3.10/dist-packages (from matplotlib->wordcloud) (2.8.2)\n",
            "Requirement already satisfied: six>=1.5 in /usr/local/lib/python3.10/dist-packages (from python-dateutil>=2.7->matplotlib->wordcloud) (1.16.0)\n",
            "\u001b[33mWARNING: Running pip as the 'root' user can result in broken permissions and conflicting behaviour with the system package manager. It is recommended to use a virtual environment instead: https://pip.pypa.io/warnings/venv\u001b[0m\u001b[33m\n",
            "\u001b[0mRequirement already satisfied: pip in /usr/local/lib/python3.10/dist-packages (23.3.2)\n",
            "Requirement already satisfied: setuptools in /usr/local/lib/python3.10/dist-packages (69.0.3)\n",
            "Requirement already satisfied: wheel in /usr/local/lib/python3.10/dist-packages (0.42.0)\n",
            "\u001b[33mWARNING: Running pip as the 'root' user can result in broken permissions and conflicting behaviour with the system package manager. It is recommended to use a virtual environment instead: https://pip.pypa.io/warnings/venv\u001b[0m\u001b[33m\n",
            "\u001b[0mRequirement already satisfied: spacy in /usr/local/lib/python3.10/dist-packages (3.7.2)\n",
            "Requirement already satisfied: spacy-legacy<3.1.0,>=3.0.11 in /usr/local/lib/python3.10/dist-packages (from spacy) (3.0.12)\n",
            "Requirement already satisfied: spacy-loggers<2.0.0,>=1.0.0 in /usr/local/lib/python3.10/dist-packages (from spacy) (1.0.5)\n",
            "Requirement already satisfied: murmurhash<1.1.0,>=0.28.0 in /usr/local/lib/python3.10/dist-packages (from spacy) (1.0.10)\n",
            "Requirement already satisfied: cymem<2.1.0,>=2.0.2 in /usr/local/lib/python3.10/dist-packages (from spacy) (2.0.8)\n",
            "Requirement already satisfied: preshed<3.1.0,>=3.0.2 in /usr/local/lib/python3.10/dist-packages (from spacy) (3.0.9)\n",
            "Requirement already satisfied: thinc<8.3.0,>=8.1.8 in /usr/local/lib/python3.10/dist-packages (from spacy) (8.1.12)\n",
            "Requirement already satisfied: wasabi<1.2.0,>=0.9.1 in /usr/local/lib/python3.10/dist-packages (from spacy) (1.1.2)\n",
            "Requirement already satisfied: srsly<3.0.0,>=2.4.3 in /usr/local/lib/python3.10/dist-packages (from spacy) (2.4.8)\n",
            "Requirement already satisfied: catalogue<2.1.0,>=2.0.6 in /usr/local/lib/python3.10/dist-packages (from spacy) (2.0.10)\n",
            "Requirement already satisfied: weasel<0.4.0,>=0.1.0 in /usr/local/lib/python3.10/dist-packages (from spacy) (0.3.4)\n",
            "Requirement already satisfied: typer<0.10.0,>=0.3.0 in /usr/local/lib/python3.10/dist-packages (from spacy) (0.9.0)\n",
            "Requirement already satisfied: smart-open<7.0.0,>=5.2.1 in /usr/local/lib/python3.10/dist-packages (from spacy) (6.4.0)\n",
            "Requirement already satisfied: tqdm<5.0.0,>=4.38.0 in /usr/local/lib/python3.10/dist-packages (from spacy) (4.66.1)\n",
            "Requirement already satisfied: requests<3.0.0,>=2.13.0 in /usr/local/lib/python3.10/dist-packages (from spacy) (2.31.0)\n",
            "Requirement already satisfied: pydantic!=1.8,!=1.8.1,<3.0.0,>=1.7.4 in /usr/local/lib/python3.10/dist-packages (from spacy) (1.10.13)\n",
            "Requirement already satisfied: jinja2 in /usr/local/lib/python3.10/dist-packages (from spacy) (3.1.2)\n",
            "Requirement already satisfied: setuptools in /usr/local/lib/python3.10/dist-packages (from spacy) (69.0.3)\n",
            "Requirement already satisfied: packaging>=20.0 in /usr/local/lib/python3.10/dist-packages (from spacy) (23.2)\n",
            "Requirement already satisfied: langcodes<4.0.0,>=3.2.0 in /usr/local/lib/python3.10/dist-packages (from spacy) (3.3.0)\n",
            "Requirement already satisfied: numpy>=1.19.0 in /usr/local/lib/python3.10/dist-packages (from spacy) (1.26.3)\n",
            "Requirement already satisfied: typing-extensions>=4.2.0 in /usr/local/lib/python3.10/dist-packages (from pydantic!=1.8,!=1.8.1,<3.0.0,>=1.7.4->spacy) (4.5.0)\n",
            "Requirement already satisfied: charset-normalizer<4,>=2 in /usr/local/lib/python3.10/dist-packages (from requests<3.0.0,>=2.13.0->spacy) (3.3.2)\n",
            "Requirement already satisfied: idna<4,>=2.5 in /usr/local/lib/python3.10/dist-packages (from requests<3.0.0,>=2.13.0->spacy) (3.6)\n",
            "Requirement already satisfied: urllib3<3,>=1.21.1 in /usr/local/lib/python3.10/dist-packages (from requests<3.0.0,>=2.13.0->spacy) (2.0.7)\n",
            "Requirement already satisfied: certifi>=2017.4.17 in /usr/local/lib/python3.10/dist-packages (from requests<3.0.0,>=2.13.0->spacy) (2023.11.17)\n",
            "Requirement already satisfied: blis<0.8.0,>=0.7.8 in /usr/local/lib/python3.10/dist-packages (from thinc<8.3.0,>=8.1.8->spacy) (0.7.11)\n",
            "Requirement already satisfied: confection<1.0.0,>=0.0.1 in /usr/local/lib/python3.10/dist-packages (from thinc<8.3.0,>=8.1.8->spacy) (0.1.4)\n",
            "Requirement already satisfied: click<9.0.0,>=7.1.1 in /usr/local/lib/python3.10/dist-packages (from typer<0.10.0,>=0.3.0->spacy) (8.1.7)\n",
            "Requirement already satisfied: cloudpathlib<0.17.0,>=0.7.0 in /usr/local/lib/python3.10/dist-packages (from weasel<0.4.0,>=0.1.0->spacy) (0.16.0)\n",
            "Requirement already satisfied: MarkupSafe>=2.0 in /usr/local/lib/python3.10/dist-packages (from jinja2->spacy) (2.1.3)\n",
            "\u001b[33mWARNING: Running pip as the 'root' user can result in broken permissions and conflicting behaviour with the system package manager. It is recommended to use a virtual environment instead: https://pip.pypa.io/warnings/venv\u001b[0m\u001b[33m\n",
            "\u001b[0m"
          ]
        }
      ]
    },
    {
      "cell_type": "code",
      "source": [
        "import pyLDAvis.gensim_models as gensimvis\n",
        "import pickle\n",
        "import pyLDAvis\n",
        "import os"
      ],
      "metadata": {
        "id": "ShWpTwUuBqXW"
      },
      "execution_count": null,
      "outputs": []
    },
    {
      "cell_type": "code",
      "source": [
        "pyLDAvis.enable_notebook()"
      ],
      "metadata": {
        "colab": {
          "base_uri": "https://localhost:8080/"
        },
        "id": "RBTJshzTfUah",
        "outputId": "12c05910-0459-4e13-acc9-18b7659a11be"
      },
      "execution_count": null,
      "outputs": [
        {
          "output_type": "stream",
          "name": "stderr",
          "text": [
            "/usr/local/lib/python3.10/dist-packages/ipykernel/ipkernel.py:283: DeprecationWarning: `should_run_async` will not call `transform_cell` automatically in the future. Please pass the result to `transformed_cell` argument and any exception that happen during thetransform in `preprocessing_exc_tuple` in IPython 7.17 and above.\n",
            "  and should_run_async(code)\n"
          ]
        }
      ]
    },
    {
      "cell_type": "code",
      "source": [
        "vis = pyLDAvis.gensim_models.prepare(lda_model, corpus, id2word)"
      ],
      "metadata": {
        "colab": {
          "base_uri": "https://localhost:8080/"
        },
        "id": "d__j2Ztu7wtG",
        "outputId": "2efa1004-ef55-4bde-a9b7-2573b1439a3e"
      },
      "execution_count": null,
      "outputs": [
        {
          "output_type": "stream",
          "name": "stderr",
          "text": [
            "/usr/local/lib/python3.10/dist-packages/ipykernel/ipkernel.py:283: DeprecationWarning: `should_run_async` will not call `transform_cell` automatically in the future. Please pass the result to `transformed_cell` argument and any exception that happen during thetransform in `preprocessing_exc_tuple` in IPython 7.17 and above.\n",
            "  and should_run_async(code)\n"
          ]
        }
      ]
    },
    {
      "cell_type": "code",
      "source": [
        "vis\n"
      ],
      "metadata": {
        "id": "tNbITa0w9UIE",
        "outputId": "1bcfd12d-6fec-4d24-f00c-8df1490f5d99",
        "colab": {
          "base_uri": "https://localhost:8080/",
          "height": 915
        }
      },
      "execution_count": null,
      "outputs": [
        {
          "output_type": "stream",
          "name": "stderr",
          "text": [
            "/usr/local/lib/python3.10/dist-packages/ipykernel/ipkernel.py:283: DeprecationWarning: `should_run_async` will not call `transform_cell` automatically in the future. Please pass the result to `transformed_cell` argument and any exception that happen during thetransform in `preprocessing_exc_tuple` in IPython 7.17 and above.\n",
            "  and should_run_async(code)\n"
          ]
        },
        {
          "output_type": "execute_result",
          "data": {
            "text/plain": [
              "PreparedData(topic_coordinates=              x         y  topics  cluster       Freq\n",
              "topic                                                \n",
              "7      0.050340 -0.085122       1        1  18.744843\n",
              "0      0.090479 -0.019616       2        1  18.655549\n",
              "1      0.081767 -0.034811       3        1  17.721356\n",
              "9      0.046547 -0.092659       4        1  16.157745\n",
              "8      0.054812  0.042487       5        1   9.181401\n",
              "3      0.040523  0.054663       6        1   7.788007\n",
              "6      0.068778  0.215570       7        1   4.495481\n",
              "2     -0.084344 -0.053452       8        1   3.604706\n",
              "4     -0.010307 -0.060379       9        1   3.298960\n",
              "5     -0.338595  0.033319      10        1   0.351951, topic_info=            Term          Freq         Total Category  logprob  loglift\n",
              "432      vaccine  16319.000000  16319.000000  Default  30.0000  30.0000\n",
              "396         test   1414.000000   1414.000000  Default  29.0000  29.0000\n",
              "523        child   9130.000000   9130.000000  Default  28.0000  28.0000\n",
              "808       report   3881.000000   3881.000000  Default  27.0000  27.0000\n",
              "1102    reaction   2969.000000   2969.000000  Default  26.0000  26.0000\n",
              "...          ...           ...           ...      ...      ...      ...\n",
              "903     variable      4.852058    238.590525  Topic10  -5.9914   1.7541\n",
              "523        child      6.724247   9130.522451  Topic10  -5.6651  -1.5642\n",
              "6          adult      5.044038    808.139165  Topic10  -5.9526   0.5729\n",
              "163   individual      4.474314    676.672689  Topic10  -6.0724   0.6306\n",
              "353          see      4.108703    410.553487  Topic10  -6.1577   1.0450\n",
              "\n",
              "[828 rows x 6 columns], token_table=       Topic      Freq         Term\n",
              "term                               \n",
              "14636      8  0.962275  abiotrophia\n",
              "7487       6  0.913326   aboriginal\n",
              "14638      8  0.882590         abpa\n",
              "16929      9  0.901475        abzug\n",
              "16699      2  0.924888          ace\n",
              "...      ...       ...          ...\n",
              "450        7  0.095395         year\n",
              "450        8  0.015103         year\n",
              "450        9  0.016490         year\n",
              "450       10  0.000462         year\n",
              "3569       5  0.942337   μg_organic\n",
              "\n",
              "[2315 rows x 3 columns], R=30, lambda_step=0.01, plot_opts={'xlab': 'PC1', 'ylab': 'PC2'}, topic_order=[8, 1, 2, 10, 9, 4, 7, 3, 5, 6])"
            ],
            "text/html": [
              "\n",
              "<link rel=\"stylesheet\" type=\"text/css\" href=\"https://cdn.jsdelivr.net/gh/bmabey/pyLDAvis@3.4.0/pyLDAvis/js/ldavis.v1.0.0.css\">\n",
              "\n",
              "\n",
              "<div id=\"ldavis_el24091337902116781447306013076\" style=\"background-color:white;\"></div>\n",
              "<script type=\"text/javascript\">\n",
              "\n",
              "var ldavis_el24091337902116781447306013076_data = {\"mdsDat\": {\"x\": [0.050340143406533165, 0.0904785897894021, 0.08176700472776484, 0.04654703613262758, 0.05481161569052841, 0.04052312647482966, 0.06877761957239867, -0.08434357484190931, -0.010306870793029818, -0.33859469015914506], \"y\": [-0.0851223336510572, -0.01961576116828742, -0.03481101676455155, -0.09265909487871234, 0.04248657101022017, 0.05466322786661357, 0.21557022802811673, -0.05345158725674527, -0.060379222085306876, 0.033318988899709835], \"topics\": [1, 2, 3, 4, 5, 6, 7, 8, 9, 10], \"cluster\": [1, 1, 1, 1, 1, 1, 1, 1, 1, 1], \"Freq\": [18.744843408779925, 18.655549393129558, 17.72135556650862, 16.15774463678831, 9.181400983728654, 7.788006806530258, 4.495481468173492, 3.60470587289062, 3.2989604998617974, 0.35195136360875506]}, \"tinfo\": {\"Term\": [\"vaccine\", \"test\", \"child\", \"report\", \"reaction\", \"case\", \"year\", \"aefi\", \"adverse_event\", \"pertussis\", \"positive\", \"follow\", \"rate\", \"immunisation\", \"antibody\", \"immunization\", \"response\", \"dose\", \"patient\", \"cell\", \"cid\", \"study\", \"infection\", \"vaccination\", \"age\", \"aluminium\", \"record\", \"surveillance\", \"result\", \"aged\", \"apdt\", \"serologie\", \"dtcap\", \"ajdc\", \"convalescent_phase\", \"gmvs\", \"placebo\", \"ifn_il\", \"recalled_lot\", \"lymphocytosis_promote\", \"wcpdt\", \"proliferative_response\", \"unvaccinated_partially\", \"cic\", \"triplicate\", \"ndtpw\", \"osaka_university\", \"kimura_kuno\", \"tree\", \"daycare_center\", \"passed_since\", \"pdt\", \"per_milliliter\", \"fourfold_rise\", \"coprimary\", \"tohama_strain\", \"gmv\", \"intermediate_low\", \"ifn\", \"cowell_jl\", \"agglutinin\", \"unimmunized\", \"japanese\", \"conventional\", \"takeda\", \"coughing_spasm\", \"fha\", \"agglutinogen\", \"purify\", \"filamentous_hemagglutinin\", \"gmts\", \"freeze_drie\", \"sakai\", \"component\", \"vaccinee\", \"acellular\", \"recipient\", \"response\", \"pertussis\", \"anti\", \"trial\", \"titer\", \"vaccine\", \"antibody\", \"whole_cell\", \"toxin\", \"sweden\", \"rise\", \"antigen\", \"fha_prn\", \"bordetella\", \"sample\", \"level\", \"dtap\", \"subject\", \"immunization\", \"dtwp\", \"child\", \"group\", \"efficacy\", \"diphtheria\", \"serum\", \"study\", \"booster\", \"type\", \"year\", \"show\", \"use\", \"vaccination\", \"age\", \"month\", \"dose\", \"receive\", \"high\", \"paed\", \"ppv\", \"dexamethasone\", \"screening_method\", \"centre_hospitali\", \"rge\", \"vep\", \"ontario\", \"egional\", \"epilink\", \"vei\", \"rotavirus_season\", \"acv\", \"sprt\", \"bootstrap\", \"paeds_network\", \"cste\", \"bacterio\", \"sar\", \"halloran\", \"ohip\", \"ace\", \"h\\u02c6opital\", \"wch\", \"demyelinate\", \"flucan\", \"infectiousness\", \"centre_hospitalier\", \"spasmodic_cough\", \"gnbsi\", \"unvac_cinated\", \"caretaker\", \"crude\", \"hospitalise\", \"season\", \"household\", \"paroxysm\", \"unvaccinated\", \"ghc\", \"point_estimate\", \"case\", \"unvaccinate\", \"effectiveness\", \"laboratory_confirmed\", \"adjust\", \"hospitalisation\", \"post_tussive\", \"fully_vaccinate\", \"estimate\", \"case_definition\", \"vaccinated\", \"status\", \"index\", \"notify\", \"cough\", \"sid\", \"contact\", \"coverage\", \"outbreak\", \"efficacy\", \"period\", \"disease\", \"illness\", \"date\", \"age\", \"vaccinate\", \"severity\", \"year\", \"pertussis\", \"aged\", \"child\", \"infant\", \"health\", \"surveillance\", \"person\", \"vaccination\", \"datum\", \"vaccine\", \"study\", \"month\", \"day\", \"dose\", \"rate\", \"use\", \"incidence\", \"receive\", \"result\", \"high\", \"include\", \"report\", \"table\", \"group\", \"solicit\", \"acute_lymphoblastic\", \"candidate_hib\", \"siipl_tdap\", \"guinea_bissau\", \"unsolicited\", \"lamivudine\", \"nutritional_status\", \"unsolicite\", \"nse\", \"mrr\", \"noninferiority\", \"sage_review\", \"born_prematurely\", \"seroprotection_seropositivity\", \"comparator_tdap\", \"weighing_session\", \"saes\", \"leukemia\", \"entire_thigh\", \"seroprotecte\", \"benn_c\", \"maintenance_therapy\", \"initially_seropositive\", \"loss_appetite\", \"initially_seronegative\", \"food_challenge\", \"non_inferiority\", \"prp\", \"gmc_gmt\", \"buttock_thigh\", \"seroprotection\", \"gelatin\", \"leukaemia\", \"redness_swelling\", \"swell\", \"seroprotective\", \"redness_swelle\", \"reactogenicity\", \"swelling\", \"redness\", \"immunogenicity\", \"local\", \"pain\", \"grade\", \"diameter\", \"chemotherapy\", \"arm\", \"gmc\", \"participant\", \"tenderness\", \"injection_site\", \"diphtheria\", \"post\", \"booster\", \"reaction\", \"dtpa\", \"preterm\", \"group\", \"cid\", \"systemic\", \"subject\", \"tetanus\", \"study\", \"vaccine\", \"dtap\", \"dose\", \"pre\", \"vaccination\", \"antibody\", \"child\", \"receive\", \"safety\", \"day\", \"response\", \"rate\", \"pertussis\", \"month\", \"age\", \"year\", \"acellular\", \"immunization\", \"report\", \"table\", \"level\", \"point_serology\", \"epitope_speci\\ufb01c\", \"detergent\", \"ptdg\", \"ptna\", \"lao_pdr\", \"np_specimen\", \"reemergence\", \"mlf\", \"translational_immunology\", \"versteegen\", \"peptide\", \"polish\", \"mab\", \"spaendonck\", \"periscope\", \"slide\", \"seroprevalence\", \"de_melker\", \"baht\", \"probable_definite\", \"ptna_titre\", \"barkoff\", \"frontiers_immunology\", \"toxin_subunit\", \"barko\\ufb00\", \"aps\", \"constant_dilution\", \"blood_donor\", \"khairpur\", \"finnish\", \"urea\", \"avidity\", \"colony\", \"mucosal\", \"positivity\", \"ref_ref\", \"ptx\", \"recognition\", \"epitope\", \"memory\", \"dutch\", \"finland\", \"bind\", \"transplantation\", \"pcr\", \"iu_ml\", \"memory_cell\", \"igg\", \"infection\", \"transplant\", \"circulation\", \"adolescent\", \"country\", \"bordetella\", \"cell\", \"pertussis\", \"antibodie\", \"immunity\", \"adult\", \"positive\", \"sample\", \"speci\\ufb01c\", \"strain\", \"patient\", \"year\", \"age\", \"high\", \"antibody\", \"culture\", \"level\", \"group\", \"vaccination\", \"study\", \"booster\", \"old\", \"increase\", \"vaccine\", \"child\", \"use\", \"anti\", \"population\", \"result\", \"incidence\", \"disease\", \"month\", \"thimerosal_containe\", \"asd\", \"organic_hg\", \"iha\", \"tinnitus\", \"sshl\", \"celiac_disease\", \"wisconsin\", \"diagnosed_asd\", \"thimerosal_free\", \"referent\", \"new_encounter\", \"sms\", \"\\u03bcg_organic\", \"lutx\", \"autistic\", \"covid\", \"evpm\", \"copyright_right\", \"article_protecte\", \"autism\", \"basic_resident\", \"lung_transplant\", \"smartvax\", \"principal_feature\", \"mercury\", \"case_centere\", \"adem\", \"cep\", \"hospitalized_outpatient\", \"vaer\", \"thimerosal\", \"dysfunction\", \"encephalopathy_encephalitis\", \"encephalitis\", \"brain\", \"encephalopathy\", \"disorder\", \"vaers_database\", \"report\", \"risk\", \"case\", \"onset\", \"vaccine\", \"exposure\", \"safety\", \"adverse_event\", \"vaccination\", \"follow\", \"study\", \"control\", \"event\", \"patient\", \"number\", \"diagnosis\", \"examine\", \"dtap\", \"datum\", \"immunization\", \"month\", \"age\", \"year\", \"use\", \"child\", \"pertussis\", \"receive\", \"day\", \"result\", \"analysis\", \"rate\", \"group\", \"table\", \"dose\", \"itching_nodule\", \"october_plo\", \"recurrent_presentation\", \"persistent_itche\", \"percent_confidence\", \"coincidence\", \"nodule\", \"aboriginal\", \"ir\", \"reference_reference\", \"nonfebrile_seizure\", \"crying_screame\", \"feery\", \"available_pmc\", \"granuloma\", \"bifap\", \"gladymar_pe\", \"ir_ma\", \"ir_ma_method\", \"survminer\", \"toxicology_mechanism\", \"anaphylaxis\", \"arthritic\", \"da_gei\", \"tracking_system\", \"alu_minium\", \"vermeer\", \"saefvic\", \"washington_personal\", \"granuloma_due\", \"bergfor\", \"subcutaneous_nodule\", \"high_pitche\", \"collapse\", \"convulsion\", \"itching\", \"febrile_seizure\", \"plain\", \"itch\", \"aluminium\", \"adsorbed\", \"persistent_crye\", \"inoculation\", \"adsorb\", \"febrile_convulsion\", \"seizure\", \"asthma\", \"irr\", \"endotoxin\", \"reaction\", \"database\", \"cry\", \"fever\", \"first\", \"thigh\", \"vaccine\", \"injection\", \"event\", \"relative_risk\", \"risk\", \"vaccination\", \"dtp\", \"child\", \"report\", \"study\", \"parent\", \"follow\", \"medical\", \"adverse\", \"local\", \"symptom\", \"dose\", \"receive\", \"table\", \"use\", \"datum\", \"incidence\", \"pertussis\", \"occur\", \"contain\", \"infant\", \"year\", \"case\", \"rate\", \"month\", \"time\", \"aefi_record\", \"adrac_database\", \"menccv\", \"causality_rating\", \"de\\ufb01_ne\", \"reaction_categorie\", \"causality_rate\", \"speci\\ufb01\", \"suspected_involvement\", \"certain_probable\", \"therapeutic_good\", \"probable_causality\", \"state_territory\", \"adrac\", \"cdi_vol\", \"listed_suspected\", \"health_agee\", \"assigned_certain\", \"in\\ufb02_uenza\", \"northern_territory\", \"listed_suspecte\", \"uenzae_type\", \"australian_capital\", \"typhoid\", \"generally_regarde\", \"noti\\ufb01_cation\", \"annual_report\", \"states_territorie\", \"anaphylactic_reaction\", \"south_australia\", \"immunisation_handbook\", \"aefis\", \"dis_intell\", \"aefi\", \"per_cent\", \"serious_unexpecte\", \"hhe\", \"tga\", \"reporting\", \"quarter\", \"immunisation\", \"australian\", \"adverse_event\", \"serious\", \"list\", \"report\", \"record\", \"follow\", \"reaction\", \"notification\", \"rate\", \"term\", \"surveillance\", \"injection_site\", \"year\", \"vaccine\", \"dose\", \"suspect\", \"aged\", \"age\", \"dtpa\", \"figure\", \"table\", \"number\", \"datum\", \"child\", \"vaccination\", \"group\", \"base\", \"population\", \"use\", \"mese\", \"dosis\", \"ultrasound\", \"drug_resistance\", \"liver_transplant\", \"paise\", \"hsv\", \"dengue\", \"aspergillosis\", \"paciente\", \"voriconazole\", \"vacunas_acelulare\", \"mayor\", \"adolescente\", \"reaccion\", \"aortitis\", \"abpa\", \"saude\", \"immunocompetent\", \"baja_carga\", \"vacunado\", \"ultrasound_examination\", \"cytomegalovirus\", \"abiotrophia\", \"cohorte\", \"genital\", \"chronic_granulomatous\", \"intractable\", \"toxoplasmosis\", \"in\\ufb01ltrate\", \"bell_palsy\", \"bacteremia\", \"aunque\", \"cmv\", \"segun\", \"coli\", \"els\", \"vacunacion\", \"por\", \"menores_de\", \"endocarditis\", \"que\", \"tos_ferina\", \"resistance\", \"hiv_infecte\", \"tissue\", \"cellulitis\", \"patient\", \"este\", \"neurologic\", \"cid\", \"lung\", \"infection\", \"normal\", \"child\", \"disease\", \"immunization\", \"seizure\", \"pertussis\", \"vaccine\", \"cause\", \"case\", \"pediatric\", \"test\", \"study\", \"clinical\", \"hospital\", \"positive\", \"year\", \"month\", \"subject\", \"negative\", \"report\", \"vaccination\", \"old\", \"result\", \"day\", \"time\", \"dose\", \"age\", \"reaction\", \"infant\", \"receive\", \"experimental_immunology\", \"bystander\", \"sop_nop\", \"nonrecipient\", \"epileptic_spike\", \"library_march\", \"mth\", \"reason_delay\", \"haart_treate\", \"onset_wheeze\", \"sleepy_usual\", \"agonist\", \"townsend\", \"san_diego\", \"leicestershire\", \"reverse_causation\", \"abzug\", \"conducting_everyday\", \"sop\", \"house_dust\", \"asthma_exacerbation\", \"dendritic\", \"freele\", \"reimmunization\", \"highly_active\", \"post_vaccinal\", \"transiently\", \"original_ppaper\", \"nop\", \"stringent_otitis\", \"haart\", \"op\", \"immigrant\", \"atopic\", \"cytokine_production\", \"hiv_rna\", \"wheeze\", \"allergen\", \"soreness\", \"pbmc\", \"sly\", \"ige\", \"recurrent\", \"cytokine\", \"asthma\", \"entry\", \"cell\", \"copy\", \"measle\", \"child\", \"immunization\", \"priming\", \"immunol\", \"response\", \"week\", \"specific\", \"first\", \"vaccination\", \"cid\", \"level\", \"month\", \"vaccine\", \"study\", \"infection\", \"immune\", \"tetanus\", \"antibody\", \"pertussis\", \"virus\", \"day\", \"time\", \"age\", \"year\", \"report\", \"dtap\", \"receive\", \"diphtheria\", \"record\", \"number\", \"metallic_aluminium\", \"rev_esp\", \"aurora_limia\", \"aluminium_salt\", \"participante\", \"muestral\", \"indeter_minado\", \"aluminium_chloride\", \"intere\", \"hexahydrate_pet\", \"vih\", \"estimacione\", \"muestrale\", \"anticuerpos_totale\", \"positivo_negativo\", \"hexahydrate\", \"residente\", \"sarampion\", \"negativo_indeter\", \"persona\", \"patch_t\", \"patch_test\", \"disc\", \"contact_allergy\", \"titulo\", \"elementos\", \"mue\", \"febrero\", \"ccaa\", \"cada_grupo\", \"patch_testing\", \"patch\", \"chamber\", \"metal\", \"gente_lidholm\", \"itchy_nodule\", \"reteste\", \"aluminium\", \"salt\", \"infeccion\", \"estudio\", \"por\", \"test\", \"enfermedade\", \"react\", \"allergy\", \"positive\", \"negative\", \"contact_dermatitis\", \"result\", \"second\", \"induce\", \"study\", \"positively\", \"variable\", \"child\", \"adult\", \"individual\", \"see\"], \"Freq\": [16319.0, 1414.0, 9130.0, 3881.0, 2969.0, 4756.0, 6488.0, 717.0, 1125.0, 14255.0, 931.0, 2595.0, 2778.0, 855.0, 2829.0, 2753.0, 2170.0, 3797.0, 2224.0, 1000.0, 1801.0, 6747.0, 1788.0, 6989.0, 5389.0, 215.0, 922.0, 903.0, 2074.0, 1045.0, 160.26290134441058, 40.22648476542002, 71.81180652200132, 41.91876496368803, 36.23724679163164, 23.303905387065672, 46.94287841496787, 22.08522040396439, 21.17817696458676, 19.66197377977722, 18.023784928569906, 16.50715007185851, 15.654240093873465, 14.107305479451712, 13.375009443911505, 13.271475871213937, 13.380439184558535, 13.02973659800847, 12.91442454913171, 12.722906616703051, 12.717311426895032, 12.189120244726602, 12.047300984134356, 12.062685499981484, 11.83475897559374, 11.731225402896174, 11.68993681272953, 11.164513895841115, 11.077009338676895, 10.932013454193644, 44.58542941802307, 35.05701971396079, 75.85963154777947, 74.751555345133, 32.18623912562936, 26.454704168122483, 600.9158288667767, 43.335885158230624, 52.29823913554867, 93.47747643127795, 23.554733835542606, 31.21887292215486, 17.70729722851253, 565.0189200238007, 134.57521647847022, 1364.608122895052, 247.50183740107798, 1026.084844702425, 5021.362928166223, 685.0231071062304, 425.80809480572026, 433.30978838565636, 4527.005936979212, 1082.584758534473, 431.3588600099297, 322.76378235069853, 121.28478765382326, 146.00793399285877, 439.867350840654, 133.43013982709329, 384.006275325353, 424.27960927683216, 623.4262039797364, 571.5078962811516, 489.06738297117465, 780.6886757650975, 286.89940983727286, 1759.7140996635533, 1019.5783488830084, 296.5511483541035, 570.4746752952701, 242.46912660975977, 1193.054357138719, 611.3137370833381, 386.64679580408506, 1043.4944763290675, 456.2196480182425, 601.7136427700688, 898.6132812042149, 781.7047622342336, 582.8296726126802, 629.8919812565501, 562.3254798788844, 517.071729103626, 81.82816108560245, 40.65983494974984, 40.87273865197722, 33.17482409272066, 21.19841153503116, 81.450255068155, 17.905038492607215, 17.42541837060476, 16.399957452898924, 15.527551945109868, 15.526557991329467, 15.524109032918718, 15.415435754982562, 14.33354251262708, 14.340016684464787, 14.02312206488121, 14.865720934604965, 14.910912899409679, 13.152936486996275, 13.595588713575834, 12.679760598464648, 12.165577380358899, 11.601949452433196, 11.437828822117728, 11.54721912394065, 11.236699131124908, 10.777572569710692, 9.6843207109611, 43.20082988795996, 9.3788737744131, 15.58955729675415, 13.798289420370661, 33.76942101580576, 85.86545164976005, 48.78160493194063, 259.4326905462458, 68.49598359609818, 339.8066912634471, 25.124729554676257, 49.08287172401307, 3030.775938350611, 118.25860893394861, 378.5649010257403, 44.981081942250114, 203.59325333893386, 82.50857633734785, 54.11683147844842, 100.42141976220057, 602.5539901357446, 159.95688607728326, 403.37207132908827, 384.3008047115442, 195.41152878323004, 78.30008022835273, 504.8768827489066, 86.9230783488413, 321.4465446867201, 387.3095626815541, 268.5277268973246, 380.0998530710027, 522.4440458144211, 880.0544371924248, 335.73945634473654, 282.98604204467733, 1702.168123082994, 443.096068856223, 187.5090333877386, 1844.7364464162197, 3270.0123263533656, 458.3506487597983, 2142.5955098662657, 755.4453976787554, 460.9920749435426, 395.5193574500442, 227.68824977095056, 1295.8676962619877, 587.4388990711345, 1941.794811587084, 1151.4895627248518, 715.4947307883021, 608.1469560827186, 723.7489061918545, 590.9537591455702, 567.0251002799364, 434.70360214838047, 534.1685330024924, 471.6530076358905, 459.27610355677956, 430.94190622669606, 466.16331707930425, 440.6963051699305, 454.58804271176075, 118.06067573675199, 51.16997725412214, 40.34066055959796, 70.25107715586337, 38.075357936960685, 40.0601194682662, 28.435498384998237, 27.949324990787144, 29.351279653210902, 26.944258930871214, 27.06192601979374, 25.301939200444, 25.580822287840007, 23.48180352476286, 20.551617150588882, 33.51980869079335, 19.295751689152713, 19.414266265507237, 89.57867645577859, 37.7127385410152, 20.603119075588097, 17.587071986449526, 18.47411688970708, 16.620518258091032, 21.519167672051122, 15.707808420839973, 15.18067692597239, 38.904664204016434, 14.518713877766764, 12.54993374117304, 30.95711476529885, 129.43684649440183, 43.221156584256555, 41.1647908966999, 81.18528037380874, 354.06466442051203, 40.140326475127395, 99.2232256277926, 339.0358797093024, 91.36377506715701, 166.00895511339212, 431.832363563345, 781.1091221415269, 264.9854993322871, 259.217283732375, 57.628167068217905, 86.9276732023029, 144.86389342029938, 111.36303375218858, 436.36115438921814, 62.81376065388944, 330.9931898526316, 877.466418290388, 415.6102937965418, 1048.9111464169446, 1172.708743284811, 273.9617676932425, 72.39464588747155, 1407.372439126619, 711.5708331064898, 195.05511369582575, 572.2444453182052, 392.0647950502539, 1834.405088901937, 3508.846049087662, 645.3900503879536, 1113.48445592688, 295.01726873462894, 1625.6364227353408, 869.9260780309928, 1879.9672873212098, 779.9012079740199, 346.11702966426776, 610.3847014538175, 583.3957873294656, 621.555837131275, 1237.5833715477497, 586.3338044306329, 721.9185067674712, 774.9543385159214, 544.6420185471081, 519.454373549364, 542.5358359557049, 476.14510386743774, 426.36940269833536, 48.76865595112946, 26.48857806694559, 24.42330839074341, 22.106015667053914, 42.60313563600008, 18.21093663999533, 17.831265892220898, 34.16146297283644, 15.486999592472314, 15.152798216770375, 14.184727527391537, 59.46475948704288, 16.215713989379324, 13.993970345641882, 14.688690646693606, 13.7818482247008, 16.04915588463726, 144.09235841855238, 23.643827143668382, 11.670291088154402, 11.665268466974258, 11.841443970764933, 11.46439084616105, 11.461708398246307, 17.367158322144128, 10.663060419055464, 10.517375233696395, 10.517086115337289, 10.427683069382258, 10.05286121247353, 77.99287971089437, 24.601669784908307, 124.60931785292924, 50.32335557010132, 58.223049290977826, 46.893421309026614, 20.156665598419284, 76.72851197023866, 55.39398336280578, 120.37423952504801, 213.24314302139732, 53.28278665183709, 42.51290218507193, 93.31476290093549, 62.72199025762595, 294.0996584000475, 372.66204163961373, 117.5451943407941, 118.21354263941286, 878.1071479415873, 63.19080799361584, 50.99230025636666, 295.61522980342386, 245.99922109804837, 423.01736358757194, 442.6828469132544, 3471.976623778588, 486.68824807874927, 297.0257954931652, 359.151735192877, 394.7597493674517, 439.4165510504433, 286.8311554344178, 129.4506786763482, 684.1910512213849, 1413.146896963609, 1195.7843229579723, 664.2741930956571, 722.020531589792, 279.8564070935977, 521.5983123835165, 869.5309483762827, 1163.1912298461634, 1064.2774241397115, 566.5578508078731, 422.1541676658449, 446.48541454787386, 1267.9133326323897, 943.4240208495002, 517.0583814346197, 388.9400431326992, 351.16159280292163, 388.4574566210425, 342.0246643863192, 367.76983747282856, 365.220783323697, 156.3547221462899, 74.02657199963298, 40.806524112582764, 39.91810281584921, 41.941500066604206, 31.252988642176017, 24.72949960899201, 23.642486694185767, 21.518006365822046, 25.242385278702518, 39.58293617839416, 17.65177019297226, 35.43758994915783, 16.159831176111457, 16.13577009137368, 16.00523760159999, 63.231911850974605, 15.086605130251405, 16.72074324245563, 16.716063634058372, 60.06385232831292, 12.938197799128545, 12.920823132182564, 12.940488980192063, 12.653111517408481, 54.180906795928266, 12.089430142505542, 114.19287676565045, 11.816312519164226, 11.335955726842323, 232.37754200614646, 80.83501323255841, 41.18423746668742, 30.430880461162506, 100.65606628932743, 38.17831105133592, 76.35112916183274, 103.44035077370742, 59.886846435372405, 820.1002164511576, 338.45785201180064, 824.9009052954068, 190.5129637392863, 1859.098038765934, 160.098373501814, 216.32177023288378, 245.92471363053292, 717.3948117317799, 381.86747901991674, 663.055293322266, 245.10197482219132, 145.1739353677245, 305.8934591065706, 256.4668222685732, 166.02417222394226, 101.20860191557766, 238.0268548477558, 255.326954532474, 289.7537608552514, 287.5737234380253, 347.5672460849724, 371.34779006744725, 265.99646167821584, 378.4427836432877, 430.7916885825374, 246.79604021170445, 230.13809595838592, 209.35139333204526, 196.55822803095157, 217.04464596227942, 230.58802203527065, 205.00114921145533, 191.26163035828696, 92.59693279813064, 21.218608572552927, 16.771316434959296, 32.527076668108585, 14.430391924672152, 14.769770949226642, 80.44628309810757, 12.322233309779214, 24.560613905566868, 22.322541825453538, 11.727636679430708, 11.029345242332491, 11.381524891353406, 10.851318826569276, 23.961319213573244, 10.100737550921323, 10.097721117885811, 8.988335538854093, 8.988304293432138, 8.985410967359128, 8.98388994021837, 105.36888146610475, 8.73643807159699, 9.49515003094601, 9.548585951573047, 11.321899877545572, 8.359430810290819, 7.913698618486708, 7.871304829978485, 8.896379012224347, 21.328080032913636, 18.012354599397405, 17.97013703506901, 37.82011863735686, 156.02078000502848, 51.615497353473586, 75.95883559403455, 50.06348475267163, 35.01247501024704, 147.76311990840338, 23.48483152803062, 34.27618289096744, 96.2394790962093, 134.05117896707466, 46.32666726710481, 197.38211978651535, 151.77092268949949, 25.96556305394591, 20.57164336519136, 743.3885995110359, 176.44252783275093, 67.52380148605667, 234.29157185374746, 260.1509029726809, 55.66532397728195, 1697.2135661144719, 144.0107197059993, 165.85980840129045, 63.42680177399788, 280.6230834110721, 782.9875975089238, 209.82563657597103, 864.7484979907224, 432.5679406158756, 524.9460454764377, 144.02536755981168, 298.58273198289936, 141.93086444412987, 141.74032236214845, 191.41045474838091, 173.4929999943614, 303.8233441341076, 260.767492630635, 234.37483965344003, 249.80157934432128, 223.18909857605516, 177.97082390847237, 316.60581126092853, 159.20842295505085, 160.44192222407972, 181.49516752547927, 214.26512610679413, 200.07040590175797, 166.29341486974238, 166.6551118742907, 161.93514343893162, 163.89791745651712, 61.87735849940636, 57.371850778173936, 53.91997063821044, 44.149695547709065, 37.67338170082767, 32.4023292033474, 30.83413488568131, 29.314403581413234, 51.98978410149743, 22.758629611546183, 16.905495749738535, 16.360894295975253, 22.08392917811579, 14.717607413426279, 11.425187873087703, 23.20641758213154, 10.636749849189517, 10.393748698989038, 10.990835157630833, 10.367629922386355, 9.979720206669136, 9.76790734592039, 10.516222848529265, 9.308781327244, 22.759394331002564, 23.344201270901838, 21.75822361870763, 17.30757225410195, 10.063952611922684, 22.98533430155779, 72.45920582022838, 25.893839424622016, 566.0519210868019, 90.24762501130175, 16.27236575453043, 56.20591043749982, 15.284020686099224, 181.7817909501497, 64.79294232747627, 462.3588716211098, 131.0074317524888, 432.7825011255444, 210.01864998857894, 114.687406661423, 867.953004683334, 277.1172474486503, 470.76208226817494, 500.7322977124459, 90.6899849166137, 468.1628902936812, 110.14576955304378, 223.08691480708185, 148.25433145349479, 618.9499610437771, 1028.3912158898283, 425.9889758766883, 99.13398252517499, 185.66928992127382, 349.5461646069383, 120.49500364390346, 130.96175635793932, 186.3618083180379, 167.33579601609432, 168.88244544522703, 248.99249339679278, 212.6017511114169, 168.95304203685316, 126.12660549353181, 130.6665573333732, 116.24377524198624, 33.05736440808388, 48.065852442900116, 16.62789072081078, 16.953741567914843, 16.130398460917746, 14.871417867051353, 28.89547289490304, 14.417663478946086, 12.750439994766072, 12.281331535755731, 11.06166226893422, 10.564172322969437, 10.365155982014922, 9.66255480808425, 9.463922579219288, 9.374802211139832, 9.37454652206817, 10.32334329853143, 12.45359308131579, 8.818719552502216, 8.79028773760833, 8.812370711865368, 8.525552941934084, 8.529741152067185, 7.6898690770959055, 7.68461588148559, 7.685455258958398, 7.681183168926224, 7.67813861783085, 14.4392165636338, 14.426256251503691, 19.49784898791225, 10.564373634727216, 24.72860180812749, 19.965921964030567, 26.244345136363673, 21.69717994164613, 38.14043769950646, 46.094931660684715, 11.408260953694883, 11.905003500834809, 38.87313382426094, 14.05544230760331, 37.71183802541054, 27.9997882920517, 27.458659973213916, 19.45744317280496, 253.6879679993237, 13.326476235188359, 41.02675312540952, 189.5893047055353, 21.987941223798043, 140.43560054645033, 42.543190632120805, 301.99203472773894, 135.10448571623346, 136.9668369849433, 54.22681598938989, 237.67712095538758, 227.33787865584813, 65.01976871239786, 127.37441040034184, 74.23575619352238, 75.50277537413042, 118.77120665418313, 73.2218437406486, 56.76265458678474, 60.187337815122945, 97.51532291094249, 78.67296814564067, 64.98961822729603, 48.84992703052497, 79.49728194553877, 89.58282515171187, 63.47883133337207, 66.2573871206572, 65.79294007010715, 59.328916712814944, 64.42693566680641, 65.06950891406699, 60.81008995299118, 58.575982971583066, 57.818004866765456, 15.619074301576324, 11.514087423890276, 9.946045754784725, 13.737412863261007, 9.545653621156674, 10.594261819561355, 17.05917197177419, 7.482452211436392, 6.883216139819616, 6.031450686388925, 6.0219778433697035, 5.520723993550577, 5.377393573323517, 15.290514408854435, 5.300720880635947, 5.182293666287228, 5.723865202359569, 5.017380008804951, 5.016975534872872, 5.749315295112042, 4.681053051871638, 4.331120894226905, 4.327386922181158, 7.823089145177366, 17.446237642289304, 9.073489600062588, 4.472032147395544, 4.195747863314125, 4.195463831554229, 4.195256035718705, 21.77545766786028, 11.171438708811738, 13.375643754817343, 93.74356369723849, 20.6233316724828, 7.348423103398719, 17.060873515252858, 25.53994526000214, 13.652470161027622, 32.37580459655163, 8.196790234617351, 41.876482198826345, 44.63573559820141, 43.94599530778516, 89.61546462848067, 36.90861477581956, 199.8755498113247, 25.639714790693372, 91.8027664759216, 603.921476469331, 257.64947120124475, 31.477442581429955, 47.482300307626765, 165.8932679337972, 91.2681578209418, 71.95611581260631, 95.48663034271213, 202.09205001779966, 108.29714566082654, 108.58516498309966, 130.67730244546738, 259.14191648067833, 170.35805025655154, 94.86844170264708, 61.18343757687463, 70.53407440932922, 108.05836627503874, 189.56791071425528, 44.36866844914288, 90.33680894487776, 79.53425469745096, 103.0275237431725, 107.11286292901652, 90.27125452057709, 64.60674823081122, 67.28887205136863, 63.4242019839452, 57.39693474390613, 60.93064772231912, 7.504647602737767, 4.337243977438813, 3.9082324935546744, 3.339069625043566, 3.0502574217116454, 3.0502535810006584, 3.0502420588676973, 3.0996641019243616, 2.6212545229461828, 2.241714785437363, 2.192267890721371, 2.1922674388730194, 2.1922620166928026, 2.192255464891707, 2.19225162418072, 4.0279573956834955, 1.7632628456762391, 1.7632610382828335, 1.7632555031405286, 1.7632469180218517, 27.671086404314984, 1.5758273384673163, 2.790376616472341, 12.17670849748343, 1.3342608506074793, 1.3342591561761616, 1.3342504580953969, 1.334251135867924, 1.3342475210811127, 1.3342405174316658, 4.932593943080232, 9.27793052449285, 4.159072039206382, 9.23388434719712, 3.2502990460766368, 4.317317013293153, 5.587309552523683, 55.05105595278167, 7.647918322458715, 4.766255461322953, 6.053308438757779, 11.630376848396688, 47.682403407610394, 3.47927703886611, 6.348499611190771, 8.937295607813208, 15.387758866135464, 8.831832395200033, 4.323805555619443, 8.922796697913071, 6.532540607659705, 6.5465492620985595, 8.574067369866219, 3.8171855025933263, 4.852057848469451, 6.724247211410359, 5.04403827232106, 4.474313530384971, 4.1087026960809805], \"Total\": [16319.0, 1414.0, 9130.0, 3881.0, 2969.0, 4756.0, 6488.0, 717.0, 1125.0, 14255.0, 931.0, 2595.0, 2778.0, 855.0, 2829.0, 2753.0, 2170.0, 3797.0, 2224.0, 1000.0, 1801.0, 6747.0, 1788.0, 6989.0, 5389.0, 215.0, 922.0, 903.0, 2074.0, 1045.0, 161.1085410583059, 41.053001672692304, 73.64845487578802, 43.24786794075388, 37.45791971143594, 24.124765341438838, 48.65769576664449, 22.90789729473371, 21.999393211727035, 20.48427131704091, 18.844490318602425, 17.32759668260888, 16.477197406593906, 14.933195152904679, 14.196847875380403, 14.097609964045136, 14.228205242027151, 13.855384614737078, 13.735337536595427, 13.544217870331337, 13.538540547205223, 13.009537399046081, 12.868631506031369, 12.896451644390462, 12.65586492989584, 12.553298949514872, 12.509996502145171, 11.985051514527404, 11.897952623987981, 11.752254205990422, 48.0602327098101, 38.27312670229174, 85.16118413772934, 83.90736122632194, 35.44449965622054, 29.071829709942804, 754.7672819057916, 48.957452635687865, 60.080047826463215, 113.00667286816332, 26.195017934949398, 35.822909592387305, 19.341799636030117, 881.0072938760463, 189.54615170192014, 2736.76323006678, 413.37888420802335, 2170.0076535806115, 14255.805153562078, 1491.4143364817369, 853.548973657752, 888.6684060052712, 16319.830891099085, 2829.1773206271196, 945.353367292548, 668.5411418678822, 195.8613046359551, 252.05429712076744, 1060.5630958733134, 226.02771887640688, 941.1965492192086, 1092.8918135784236, 1881.972027703299, 1701.457372792096, 1389.093022662522, 2753.507660148, 661.0632381455817, 9130.522451139812, 4322.828406387958, 717.1196533914853, 1964.3006159242043, 534.0404089360782, 6747.8602428600825, 2490.6135072759525, 1165.9301197223222, 6488.784463192246, 1563.1994869045484, 2785.754365763605, 6989.792832316931, 5389.68701237265, 2993.301565385679, 3797.1511536920893, 2818.623898517034, 2459.2260259637487, 82.6447270230545, 41.61563221109304, 42.142957845005974, 34.24306943336052, 22.019293151680145, 85.11090465955508, 18.716482374708416, 18.242027506648643, 17.21836681669834, 16.33972062595815, 16.339602390758014, 16.33921599256144, 16.255055939564922, 15.142314801253248, 15.151798707290899, 14.832423975365499, 15.742883760233529, 15.809028753640165, 13.963836579177803, 14.434081633360831, 13.49189251679075, 12.974546248498577, 12.417399412047006, 12.249981635512382, 12.375558528083648, 12.045572805137057, 11.587816939450999, 10.497159302320238, 46.890229131843455, 10.1876114239339, 16.944330056995643, 15.039414382780567, 37.48955902165228, 99.77084006390373, 55.38829159649718, 318.11499658036007, 79.31745669500802, 429.32982764566793, 27.935086040797483, 56.65284069086957, 4756.527844774671, 146.17451030398595, 511.09758403218, 52.023637838179006, 273.0149525418793, 101.7373485487712, 64.97243585335626, 128.6038719222886, 956.5182452532123, 219.3224858952271, 627.5841176389237, 594.6098004931213, 281.87424829563446, 101.74138887140715, 867.4668567866925, 115.59822124053984, 546.9863929905858, 687.6928259515797, 452.98540307504624, 717.1196533914853, 1062.2273697200583, 2079.733279150916, 634.7554368394236, 515.4313166500611, 5389.68701237265, 947.3681489168001, 311.5851751480608, 6488.784463192246, 14255.805153562078, 1045.1439908858652, 9130.522451139812, 2175.713341355707, 1102.065596558557, 903.2705897243393, 421.91029540422034, 6989.792832316931, 2046.3819104148295, 16319.830891099085, 6747.8602428600825, 2993.301565385679, 2292.013422136122, 3797.1511536920893, 2778.712966469168, 2785.754365763605, 1331.3185485396548, 2818.623898517034, 2074.74748907582, 2459.2260259637487, 1620.415665795945, 3881.684114830205, 2294.172074399118, 4322.828406387958, 119.7557315952107, 52.144077008597854, 41.1572865392153, 71.75364261982085, 38.898191716769354, 41.20493143212174, 29.26807796924359, 28.771920549918196, 30.236768531917235, 27.76549959488525, 27.88787114434578, 26.122950346225167, 26.42412575782575, 24.29826944859088, 21.37695469480224, 34.88165549054852, 20.108011786657304, 20.237769191609463, 93.38373428880966, 39.354291462586765, 21.526027119399494, 18.40056279803332, 19.353723871191434, 17.454100367917324, 22.653377486659735, 16.53934504936117, 16.005976012970237, 41.035419116928914, 15.330989038519723, 13.364134469528386, 32.994915138407485, 140.73194700071448, 46.28813874692299, 44.05640292563685, 88.15157272997916, 409.517993606076, 43.17143179334459, 113.09607675147181, 422.99790161233153, 107.5736876334112, 206.10658347211026, 592.6138198890617, 1200.4176833249453, 359.4446977169377, 365.87285272113905, 66.39966718571951, 107.37539042304357, 196.40500633811814, 144.49999504818965, 740.3792446702719, 74.53020335009245, 542.6802897954697, 1964.3006159242043, 780.4199536499721, 2490.6135072759525, 2969.4091933911477, 480.5346397185068, 89.59013924320224, 4322.828406387958, 1801.8492608783115, 329.01736875814186, 1389.093022662522, 840.8393255530369, 6747.8602428600825, 16319.830891099085, 1701.457372792096, 3797.1511536920893, 581.4900782669407, 6989.792832316931, 2829.1773206271196, 9130.522451139812, 2818.623898517034, 822.2352825499636, 2292.013422136122, 2170.0076535806115, 2778.712966469168, 14255.805153562078, 2993.301565385679, 5389.68701237265, 6488.784463192246, 2736.76323006678, 2753.507660148, 3881.684114830205, 2294.172074399118, 1881.972027703299, 49.5999395732477, 27.30114385160287, 25.23596750191856, 22.91805404864851, 44.39565203881816, 19.024026168731822, 18.67323354650807, 35.897429879936965, 16.304829643129896, 15.964314906846704, 14.997771850067195, 62.88992255233432, 17.155090834011087, 14.805401984942051, 15.544137139404791, 14.596390476654612, 17.00547182433725, 152.68772042017594, 25.16734637455353, 12.481803221621202, 12.478025268523249, 12.676573297923213, 12.276451919264627, 12.273904794570358, 18.600636438255123, 11.476367767952578, 11.328487535046106, 11.328464473087706, 11.241396558302181, 10.867373713685042, 85.62919698859784, 26.704716726714626, 139.22795678208365, 55.922157449587374, 64.8976342421785, 52.92703692588382, 22.016736518943425, 88.8353479579897, 64.16417405424198, 145.28239750318556, 279.17289331915686, 63.96108228002925, 50.23647259924097, 124.64445874334506, 79.53401476560738, 462.6741784070416, 626.4350072673541, 168.6504475519629, 170.70980075907056, 1788.1841996269754, 84.39863844103624, 65.45892918346482, 553.5346130467095, 456.3480370135699, 941.1965492192086, 1000.9290408925233, 14255.805153562078, 1150.856293169187, 614.6860185796005, 808.1391647541427, 931.5915683459754, 1092.8918135784236, 631.7479630477691, 213.66719852468606, 2224.3598456896593, 6488.784463192246, 5389.68701237265, 2459.2260259637487, 2829.1773206271196, 701.9793287345982, 1881.972027703299, 4322.828406387958, 6989.792832316931, 6747.8602428600825, 2490.6135072759525, 1555.7764223322267, 1803.639754169469, 16319.830891099085, 9130.522451139812, 2785.754365763605, 1491.4143364817369, 1296.335905905316, 2074.74748907582, 1331.3185485396548, 2079.733279150916, 2993.301565385679, 157.71095838658317, 74.85099750640866, 41.62826738455128, 40.7496156639026, 42.83563991279548, 32.0879156955066, 25.5520148711372, 24.473025446418795, 22.3375890602777, 26.24314993451571, 41.21426273193174, 18.50360194116948, 37.18024108195234, 16.9790589807283, 16.95489219231991, 16.826353465923514, 66.64851604688958, 15.907140028911094, 17.666057273638412, 17.666411903200938, 63.77406411416771, 13.757320671021105, 13.739590341449047, 13.762016191490515, 13.474627300393113, 57.84599816764745, 12.9172507582262, 122.07964815142184, 12.636282848022807, 12.15521526075444, 270.3416500097727, 93.71187614465711, 46.71463136016193, 34.07996663038592, 136.7622252422113, 51.69491252005818, 125.91557149031908, 193.4368154952446, 97.05004228356324, 3881.684114830205, 1243.8648765490955, 4756.527844774671, 579.4719344461612, 16319.830891099085, 464.61406873492683, 822.2352825499636, 1125.2383135579132, 6989.792832316931, 2595.8110762242877, 6747.8602428600825, 1243.531879566063, 529.2501621801833, 2224.3598456896593, 1740.4045974827222, 737.1420818504114, 282.9793388269952, 1701.457372792096, 2046.3819104148295, 2753.507660148, 2993.301565385679, 5389.68701237265, 6488.784463192246, 2785.754365763605, 9130.522451139812, 14255.805153562078, 2818.623898517034, 2292.013422136122, 2074.74748907582, 1656.5184356647208, 2778.712966469168, 4322.828406387958, 2294.172074399118, 3797.1511536920893, 93.62279410399822, 22.038411207784684, 17.588665706698055, 34.21001707096195, 15.292869106755742, 15.710947135833678, 85.72134776924797, 13.138789568304551, 26.283558831633812, 23.969590484103197, 12.595651692501647, 11.868893005727099, 12.253372319159563, 11.689041965236724, 25.87675938873605, 10.915740307635183, 10.913822891827078, 9.803240975528185, 9.803242744308895, 9.801330334570569, 9.801385790398857, 115.18030022275885, 9.556034900908434, 10.411162764032518, 10.480751876108945, 12.427780139459907, 9.202852636100815, 8.730129605878899, 8.68884650344571, 9.83186415334043, 23.616139001177803, 19.975973187458038, 19.991538552257538, 44.68721951975528, 202.92694790534068, 63.06688036511389, 95.59039045527497, 61.37200137342552, 42.93329344295115, 215.7734234579745, 28.969225942243767, 44.962963789525226, 149.36106391097394, 223.95210019924897, 66.73120647083185, 386.4813436665455, 283.0908382090445, 33.47763293532429, 25.29317074051127, 2969.4091933911477, 438.02759271952084, 122.33118022557596, 672.3249908730048, 969.3526265213933, 102.77683533471777, 16319.830891099085, 419.07172170113756, 529.2501621801833, 125.62648862645229, 1243.8648765490955, 6989.792832316931, 885.3155121922445, 9130.522451139812, 3881.684114830205, 6747.8602428600825, 600.7508706297677, 2595.8110762242877, 640.5973929757863, 642.5793269366977, 1200.4176833249453, 994.4121271248066, 3797.1511536920893, 2818.623898517034, 2294.172074399118, 2785.754365763605, 2046.3819104148295, 1331.3185485396548, 14255.805153562078, 901.3519419459637, 1007.1912480972953, 2175.713341355707, 6488.784463192246, 4756.527844774671, 2778.712966469168, 2993.301565385679, 1626.7988716481234, 164.97052061571205, 62.75539510250963, 58.28421361565243, 54.79314368140414, 45.008450556983306, 38.533831330617545, 33.256667859544876, 31.68432019997784, 30.16041290794451, 53.74476243934082, 23.608563655335505, 17.743314011497937, 17.27472130214129, 23.334953466208862, 15.554173850279836, 12.252235759494846, 24.96353186764463, 11.470205805978857, 11.220072639471002, 11.869362695696436, 11.207637684480177, 10.809011849249611, 10.603201763326517, 11.426333333996062, 10.13159220558885, 24.835606539705655, 25.56727838002729, 23.85560303347466, 19.08262911288859, 11.170119041601723, 25.559967374717626, 83.13089219403334, 28.963601797535077, 717.3657067684758, 117.67012059794084, 18.29715262759125, 72.74355657758446, 17.23100919605608, 279.55194429354475, 89.1800651911588, 855.954464532158, 243.9523905934424, 1125.2383135579132, 493.23143251057894, 228.92854869012723, 3881.684114830205, 922.0907013346285, 2595.8110762242877, 2969.4091933911477, 211.92529648629838, 2778.712966469168, 292.3009687125141, 903.2705897243393, 542.6802897954697, 6488.784463192246, 16319.830891099085, 3797.1511536920893, 277.2820059672506, 1045.1439908858652, 5389.68701237265, 480.5346397185068, 617.5638759832274, 2294.172074399118, 1740.4045974827222, 2046.3819104148295, 9130.522451139812, 6989.792832316931, 4322.828406387958, 999.803536812474, 1296.335905905316, 2785.754365763605, 33.87901606086572, 49.746885405687074, 17.452000633410616, 17.797189322989272, 16.949502449811547, 15.690377289501805, 30.51172349532565, 15.263820964602521, 13.575283265674031, 13.10010329023194, 11.886348444065563, 11.38274114181864, 11.183620088905968, 10.481009771235234, 10.28227558720194, 10.197244294538756, 10.197266032063029, 11.258254253622715, 13.592275641090964, 9.63693991352015, 9.608492867283141, 9.633058416934807, 9.34778868040583, 9.352837700610635, 8.50797603693964, 8.507129028945329, 8.508348610181336, 8.506301626786271, 8.506945865754764, 16.00947351012552, 16.116188005369768, 22.195191048880375, 11.811508167948531, 29.03119583646653, 23.3601370099986, 31.54716507167592, 25.766144796897812, 47.93029482642544, 59.70450655718767, 12.97243357174984, 13.641668867962533, 55.939470647016556, 16.698536987449536, 57.960680302876504, 43.89743187530083, 50.68858741548723, 30.43329774930888, 2224.3598456896593, 16.774597986648043, 119.96697824275981, 1801.8492608783115, 42.4617458230133, 1788.1841996269754, 161.1511347862839, 9130.522451139812, 2079.733279150916, 2753.507660148, 386.4813436665455, 14255.805153562078, 16319.830891099085, 671.2634543638476, 4756.527844774671, 1109.1088106074324, 1414.6057864682941, 6747.8602428600825, 1504.261137162263, 711.7058206841433, 931.5915683459754, 6488.784463192246, 2993.301565385679, 1389.093022662522, 465.45670997738466, 3881.684114830205, 6989.792832316931, 1555.7764223322267, 2074.74748907582, 2292.013422136122, 1626.7988716481234, 3797.1511536920893, 5389.68701237265, 2969.4091933911477, 2175.713341355707, 2818.623898517034, 16.47948634057381, 12.35321388594928, 10.768889015391105, 14.874503123758808, 10.365795810744736, 11.586946856877676, 18.734614614542053, 8.303265269925301, 7.703448844372447, 6.85312957669878, 6.854810823275214, 6.349417931602793, 6.19987731268735, 17.63147278474663, 6.129611773172977, 6.003635701086009, 6.655757589643281, 5.837888289833271, 5.838135583242098, 6.785485360749995, 5.539688655386081, 5.15465497770147, 5.155427249514826, 9.33517697985745, 20.82890382748437, 10.836575594041658, 5.343291469585015, 5.01606653499099, 5.016330866307526, 5.016308964316646, 26.821845575215743, 13.75358771042172, 16.5930269788522, 131.9611103490538, 26.92796314800572, 9.137095108090815, 23.225962491280217, 38.118896172715544, 19.166885956880968, 55.20164208620981, 10.598526971163587, 84.358083261978, 97.87078134135514, 101.99238757055174, 283.0908382090445, 85.63627782686483, 1000.9290408925233, 54.14727095564596, 415.6095532494925, 9130.522451139812, 2753.507660148, 93.63413316699126, 191.2985915405555, 2170.0076535806115, 716.0772447104462, 541.122490806767, 969.3526265213933, 6989.792832316931, 1801.8492608783115, 1881.972027703299, 2993.301565385679, 16319.830891099085, 6747.8602428600825, 1788.1841996269754, 567.8301535558113, 840.8393255530369, 2829.1773206271196, 14255.805153562078, 259.4706135270926, 2292.013422136122, 1626.7988716481234, 5389.68701237265, 6488.784463192246, 3881.684114830205, 1701.457372792096, 2818.623898517034, 1964.3006159242043, 922.0907013346285, 1740.4045974827222, 8.395086846270539, 5.201694964678557, 4.772577502239781, 4.202661268300657, 3.914293942682574, 3.9142995655214827, 3.9143049276783115, 4.019779481561133, 3.4851612652188084, 3.105130897577174, 3.0560127529484467, 3.0560171846767625, 3.056020661159614, 3.056020907559216, 3.0560257021172563, 5.9380181477514355, 2.6268804862594184, 2.626880097005171, 2.62688130908091, 2.6268861559983385, 41.645621604378555, 2.462133457606818, 4.444961926579201, 19.839937500828412, 2.1977350459047704, 2.1977367169000384, 2.197736337499526, 2.197737785857045, 2.1977385803509684, 2.197736844196014, 8.819909374949571, 18.192080250007752, 7.8512251169841685, 19.50606349242419, 6.071606986403949, 8.531653376955825, 11.961234820706116, 215.7734234579745, 18.306381142337308, 11.738425521141242, 17.420240639992674, 59.70450655718767, 1414.6057864682941, 7.705182118989875, 35.22017289783702, 157.62459412825132, 931.5915683459754, 465.45670997738466, 31.520303776676844, 2074.74748907582, 525.6558211235559, 533.424456820896, 6747.8602428600825, 23.70267106445712, 238.59052548981757, 9130.522451139812, 808.1391647541427, 676.6726893511586, 410.5534871460513], \"Category\": [\"Default\", \"Default\", \"Default\", \"Default\", \"Default\", \"Default\", \"Default\", \"Default\", \"Default\", \"Default\", \"Default\", \"Default\", \"Default\", \"Default\", \"Default\", \"Default\", \"Default\", \"Default\", \"Default\", \"Default\", \"Default\", \"Default\", \"Default\", \"Default\", \"Default\", \"Default\", \"Default\", \"Default\", \"Default\", \"Default\", \"Topic1\", \"Topic1\", \"Topic1\", \"Topic1\", \"Topic1\", \"Topic1\", \"Topic1\", \"Topic1\", \"Topic1\", \"Topic1\", \"Topic1\", \"Topic1\", \"Topic1\", \"Topic1\", \"Topic1\", \"Topic1\", \"Topic1\", \"Topic1\", \"Topic1\", \"Topic1\", \"Topic1\", \"Topic1\", \"Topic1\", \"Topic1\", \"Topic1\", \"Topic1\", \"Topic1\", \"Topic1\", \"Topic1\", \"Topic1\", \"Topic1\", \"Topic1\", \"Topic1\", \"Topic1\", \"Topic1\", \"Topic1\", \"Topic1\", \"Topic1\", \"Topic1\", \"Topic1\", \"Topic1\", \"Topic1\", \"Topic1\", \"Topic1\", \"Topic1\", \"Topic1\", \"Topic1\", \"Topic1\", \"Topic1\", \"Topic1\", \"Topic1\", \"Topic1\", \"Topic1\", \"Topic1\", \"Topic1\", \"Topic1\", \"Topic1\", \"Topic1\", \"Topic1\", \"Topic1\", \"Topic1\", \"Topic1\", \"Topic1\", \"Topic1\", \"Topic1\", \"Topic1\", \"Topic1\", \"Topic1\", \"Topic1\", \"Topic1\", \"Topic1\", \"Topic1\", \"Topic1\", \"Topic1\", \"Topic1\", \"Topic1\", \"Topic1\", \"Topic1\", \"Topic1\", \"Topic1\", \"Topic1\", \"Topic1\", \"Topic1\", \"Topic1\", \"Topic2\", \"Topic2\", \"Topic2\", \"Topic2\", \"Topic2\", \"Topic2\", \"Topic2\", \"Topic2\", \"Topic2\", \"Topic2\", \"Topic2\", \"Topic2\", \"Topic2\", \"Topic2\", \"Topic2\", \"Topic2\", \"Topic2\", \"Topic2\", \"Topic2\", \"Topic2\", \"Topic2\", \"Topic2\", \"Topic2\", \"Topic2\", \"Topic2\", \"Topic2\", \"Topic2\", \"Topic2\", \"Topic2\", \"Topic2\", \"Topic2\", \"Topic2\", \"Topic2\", \"Topic2\", \"Topic2\", \"Topic2\", \"Topic2\", \"Topic2\", \"Topic2\", \"Topic2\", \"Topic2\", \"Topic2\", \"Topic2\", \"Topic2\", \"Topic2\", \"Topic2\", \"Topic2\", \"Topic2\", \"Topic2\", \"Topic2\", \"Topic2\", \"Topic2\", \"Topic2\", \"Topic2\", \"Topic2\", \"Topic2\", \"Topic2\", \"Topic2\", \"Topic2\", \"Topic2\", \"Topic2\", \"Topic2\", \"Topic2\", \"Topic2\", \"Topic2\", \"Topic2\", \"Topic2\", \"Topic2\", \"Topic2\", \"Topic2\", \"Topic2\", \"Topic2\", \"Topic2\", \"Topic2\", \"Topic2\", \"Topic2\", \"Topic2\", \"Topic2\", \"Topic2\", \"Topic2\", \"Topic2\", \"Topic2\", \"Topic2\", \"Topic2\", \"Topic2\", \"Topic2\", \"Topic2\", \"Topic2\", \"Topic2\", \"Topic2\", \"Topic2\", \"Topic2\", \"Topic3\", \"Topic3\", \"Topic3\", \"Topic3\", \"Topic3\", \"Topic3\", \"Topic3\", \"Topic3\", \"Topic3\", \"Topic3\", \"Topic3\", \"Topic3\", \"Topic3\", \"Topic3\", \"Topic3\", \"Topic3\", \"Topic3\", \"Topic3\", \"Topic3\", \"Topic3\", \"Topic3\", \"Topic3\", \"Topic3\", \"Topic3\", \"Topic3\", \"Topic3\", \"Topic3\", \"Topic3\", \"Topic3\", \"Topic3\", \"Topic3\", \"Topic3\", \"Topic3\", \"Topic3\", \"Topic3\", \"Topic3\", \"Topic3\", \"Topic3\", \"Topic3\", \"Topic3\", \"Topic3\", \"Topic3\", \"Topic3\", \"Topic3\", \"Topic3\", \"Topic3\", \"Topic3\", \"Topic3\", \"Topic3\", \"Topic3\", \"Topic3\", \"Topic3\", \"Topic3\", \"Topic3\", \"Topic3\", \"Topic3\", \"Topic3\", \"Topic3\", \"Topic3\", \"Topic3\", \"Topic3\", \"Topic3\", \"Topic3\", \"Topic3\", \"Topic3\", \"Topic3\", \"Topic3\", \"Topic3\", \"Topic3\", \"Topic3\", \"Topic3\", \"Topic3\", \"Topic3\", \"Topic3\", \"Topic3\", \"Topic3\", \"Topic3\", \"Topic3\", \"Topic3\", \"Topic3\", \"Topic3\", \"Topic3\", \"Topic3\", \"Topic3\", \"Topic3\", \"Topic4\", \"Topic4\", \"Topic4\", \"Topic4\", \"Topic4\", \"Topic4\", \"Topic4\", \"Topic4\", \"Topic4\", \"Topic4\", \"Topic4\", \"Topic4\", \"Topic4\", \"Topic4\", \"Topic4\", \"Topic4\", \"Topic4\", \"Topic4\", \"Topic4\", \"Topic4\", \"Topic4\", \"Topic4\", \"Topic4\", \"Topic4\", \"Topic4\", \"Topic4\", \"Topic4\", \"Topic4\", \"Topic4\", \"Topic4\", \"Topic4\", \"Topic4\", \"Topic4\", \"Topic4\", \"Topic4\", \"Topic4\", \"Topic4\", \"Topic4\", \"Topic4\", \"Topic4\", \"Topic4\", \"Topic4\", \"Topic4\", \"Topic4\", \"Topic4\", \"Topic4\", \"Topic4\", \"Topic4\", \"Topic4\", \"Topic4\", \"Topic4\", \"Topic4\", \"Topic4\", \"Topic4\", \"Topic4\", \"Topic4\", \"Topic4\", \"Topic4\", \"Topic4\", \"Topic4\", \"Topic4\", \"Topic4\", \"Topic4\", \"Topic4\", \"Topic4\", \"Topic4\", \"Topic4\", \"Topic4\", \"Topic4\", \"Topic4\", \"Topic4\", \"Topic4\", \"Topic4\", \"Topic4\", \"Topic4\", \"Topic4\", \"Topic4\", \"Topic4\", \"Topic4\", \"Topic4\", \"Topic4\", \"Topic4\", \"Topic4\", \"Topic4\", \"Topic4\", \"Topic4\", \"Topic5\", \"Topic5\", \"Topic5\", \"Topic5\", \"Topic5\", \"Topic5\", \"Topic5\", \"Topic5\", \"Topic5\", \"Topic5\", \"Topic5\", \"Topic5\", \"Topic5\", \"Topic5\", \"Topic5\", \"Topic5\", \"Topic5\", \"Topic5\", \"Topic5\", \"Topic5\", \"Topic5\", \"Topic5\", \"Topic5\", \"Topic5\", \"Topic5\", \"Topic5\", \"Topic5\", \"Topic5\", \"Topic5\", \"Topic5\", \"Topic5\", \"Topic5\", \"Topic5\", \"Topic5\", \"Topic5\", \"Topic5\", \"Topic5\", \"Topic5\", \"Topic5\", \"Topic5\", \"Topic5\", \"Topic5\", \"Topic5\", \"Topic5\", \"Topic5\", \"Topic5\", \"Topic5\", \"Topic5\", \"Topic5\", \"Topic5\", \"Topic5\", \"Topic5\", \"Topic5\", \"Topic5\", \"Topic5\", \"Topic5\", \"Topic5\", \"Topic5\", \"Topic5\", \"Topic5\", \"Topic5\", \"Topic5\", \"Topic5\", \"Topic5\", \"Topic5\", \"Topic5\", \"Topic5\", \"Topic5\", \"Topic5\", \"Topic5\", \"Topic5\", \"Topic5\", \"Topic5\", \"Topic6\", \"Topic6\", \"Topic6\", \"Topic6\", \"Topic6\", \"Topic6\", \"Topic6\", \"Topic6\", \"Topic6\", \"Topic6\", \"Topic6\", \"Topic6\", \"Topic6\", \"Topic6\", \"Topic6\", \"Topic6\", \"Topic6\", \"Topic6\", \"Topic6\", \"Topic6\", \"Topic6\", \"Topic6\", \"Topic6\", \"Topic6\", \"Topic6\", \"Topic6\", \"Topic6\", \"Topic6\", \"Topic6\", \"Topic6\", \"Topic6\", \"Topic6\", \"Topic6\", \"Topic6\", \"Topic6\", \"Topic6\", \"Topic6\", \"Topic6\", \"Topic6\", \"Topic6\", \"Topic6\", \"Topic6\", \"Topic6\", \"Topic6\", \"Topic6\", \"Topic6\", \"Topic6\", \"Topic6\", \"Topic6\", \"Topic6\", \"Topic6\", \"Topic6\", \"Topic6\", \"Topic6\", \"Topic6\", \"Topic6\", \"Topic6\", \"Topic6\", \"Topic6\", \"Topic6\", \"Topic6\", \"Topic6\", \"Topic6\", \"Topic6\", \"Topic6\", \"Topic6\", \"Topic6\", \"Topic6\", \"Topic6\", \"Topic6\", \"Topic6\", \"Topic6\", \"Topic6\", \"Topic6\", \"Topic6\", \"Topic6\", \"Topic6\", \"Topic6\", \"Topic6\", \"Topic6\", \"Topic6\", \"Topic6\", \"Topic6\", \"Topic6\", \"Topic6\", \"Topic6\", \"Topic7\", \"Topic7\", \"Topic7\", \"Topic7\", \"Topic7\", \"Topic7\", \"Topic7\", \"Topic7\", \"Topic7\", \"Topic7\", \"Topic7\", \"Topic7\", \"Topic7\", \"Topic7\", \"Topic7\", \"Topic7\", \"Topic7\", \"Topic7\", \"Topic7\", \"Topic7\", \"Topic7\", \"Topic7\", \"Topic7\", \"Topic7\", \"Topic7\", \"Topic7\", \"Topic7\", \"Topic7\", \"Topic7\", \"Topic7\", \"Topic7\", \"Topic7\", \"Topic7\", \"Topic7\", \"Topic7\", \"Topic7\", \"Topic7\", \"Topic7\", \"Topic7\", \"Topic7\", \"Topic7\", \"Topic7\", \"Topic7\", \"Topic7\", \"Topic7\", \"Topic7\", \"Topic7\", \"Topic7\", \"Topic7\", \"Topic7\", \"Topic7\", \"Topic7\", \"Topic7\", \"Topic7\", \"Topic7\", \"Topic7\", \"Topic7\", \"Topic7\", \"Topic7\", \"Topic7\", \"Topic7\", \"Topic7\", \"Topic7\", \"Topic7\", \"Topic7\", \"Topic7\", \"Topic7\", \"Topic7\", \"Topic7\", \"Topic7\", \"Topic7\", \"Topic8\", \"Topic8\", \"Topic8\", \"Topic8\", \"Topic8\", \"Topic8\", \"Topic8\", \"Topic8\", \"Topic8\", \"Topic8\", \"Topic8\", \"Topic8\", \"Topic8\", \"Topic8\", \"Topic8\", \"Topic8\", \"Topic8\", \"Topic8\", \"Topic8\", \"Topic8\", \"Topic8\", \"Topic8\", \"Topic8\", \"Topic8\", \"Topic8\", \"Topic8\", \"Topic8\", \"Topic8\", \"Topic8\", \"Topic8\", \"Topic8\", \"Topic8\", \"Topic8\", \"Topic8\", \"Topic8\", \"Topic8\", \"Topic8\", \"Topic8\", \"Topic8\", \"Topic8\", \"Topic8\", \"Topic8\", \"Topic8\", \"Topic8\", \"Topic8\", \"Topic8\", \"Topic8\", \"Topic8\", \"Topic8\", \"Topic8\", \"Topic8\", \"Topic8\", \"Topic8\", \"Topic8\", \"Topic8\", \"Topic8\", \"Topic8\", \"Topic8\", \"Topic8\", \"Topic8\", \"Topic8\", \"Topic8\", \"Topic8\", \"Topic8\", \"Topic8\", \"Topic8\", \"Topic8\", \"Topic8\", \"Topic8\", \"Topic8\", \"Topic8\", \"Topic8\", \"Topic8\", \"Topic8\", \"Topic8\", \"Topic8\", \"Topic8\", \"Topic8\", \"Topic8\", \"Topic8\", \"Topic8\", \"Topic8\", \"Topic8\", \"Topic9\", \"Topic9\", \"Topic9\", \"Topic9\", \"Topic9\", \"Topic9\", \"Topic9\", \"Topic9\", \"Topic9\", \"Topic9\", \"Topic9\", \"Topic9\", \"Topic9\", \"Topic9\", \"Topic9\", \"Topic9\", \"Topic9\", \"Topic9\", \"Topic9\", \"Topic9\", \"Topic9\", \"Topic9\", \"Topic9\", \"Topic9\", \"Topic9\", \"Topic9\", \"Topic9\", \"Topic9\", \"Topic9\", \"Topic9\", \"Topic9\", \"Topic9\", \"Topic9\", \"Topic9\", \"Topic9\", \"Topic9\", \"Topic9\", \"Topic9\", \"Topic9\", \"Topic9\", \"Topic9\", \"Topic9\", \"Topic9\", \"Topic9\", \"Topic9\", \"Topic9\", \"Topic9\", \"Topic9\", \"Topic9\", \"Topic9\", \"Topic9\", \"Topic9\", \"Topic9\", \"Topic9\", \"Topic9\", \"Topic9\", \"Topic9\", \"Topic9\", \"Topic9\", \"Topic9\", \"Topic9\", \"Topic9\", \"Topic9\", \"Topic9\", \"Topic9\", \"Topic9\", \"Topic9\", \"Topic9\", \"Topic9\", \"Topic9\", \"Topic9\", \"Topic9\", \"Topic9\", \"Topic9\", \"Topic9\", \"Topic9\", \"Topic9\", \"Topic9\", \"Topic9\", \"Topic10\", \"Topic10\", \"Topic10\", \"Topic10\", \"Topic10\", \"Topic10\", \"Topic10\", \"Topic10\", \"Topic10\", \"Topic10\", \"Topic10\", \"Topic10\", \"Topic10\", \"Topic10\", \"Topic10\", \"Topic10\", \"Topic10\", \"Topic10\", \"Topic10\", \"Topic10\", \"Topic10\", \"Topic10\", \"Topic10\", \"Topic10\", \"Topic10\", \"Topic10\", \"Topic10\", \"Topic10\", \"Topic10\", \"Topic10\", \"Topic10\", \"Topic10\", \"Topic10\", \"Topic10\", \"Topic10\", \"Topic10\", \"Topic10\", \"Topic10\", \"Topic10\", \"Topic10\", \"Topic10\", \"Topic10\", \"Topic10\", \"Topic10\", \"Topic10\", \"Topic10\", \"Topic10\", \"Topic10\", \"Topic10\", \"Topic10\", \"Topic10\", \"Topic10\", \"Topic10\", \"Topic10\", \"Topic10\", \"Topic10\", \"Topic10\", \"Topic10\", \"Topic10\"], \"logprob\": [30.0, 29.0, 28.0, 27.0, 26.0, 25.0, 24.0, 23.0, 22.0, 21.0, 20.0, 19.0, 18.0, 17.0, 16.0, 15.0, 14.0, 13.0, 12.0, 11.0, 10.0, 9.0, 8.0, 7.0, 6.0, 5.0, 4.0, 3.0, 2.0, 1.0, -6.4692, -7.8514, -7.2719, -7.8102, -7.9559, -8.3974, -7.697, -8.4511, -8.493, -8.5673, -8.6543, -8.7422, -8.7952, -8.8993, -8.9526, -8.9604, -8.9522, -8.9787, -8.9876, -9.0026, -9.003, -9.0454, -9.0571, -9.0559, -9.0749, -9.0837, -9.0872, -9.1332, -9.1411, -9.1543, -7.7486, -7.989, -7.2171, -7.2318, -8.0744, -8.2705, -5.1475, -7.777, -7.589, -7.0083, -8.3866, -8.1049, -8.672, -5.2091, -6.6438, -4.3273, -6.0346, -4.6125, -3.0245, -5.0165, -5.492, -5.4745, -3.1282, -4.5589, -5.479, -5.7691, -6.7478, -6.5623, -5.4595, -6.6524, -5.5953, -5.4956, -5.1107, -5.1977, -5.3535, -4.8858, -5.8868, -4.0731, -4.6188, -5.8538, -5.1995, -6.0551, -4.4617, -5.1304, -5.5885, -4.5956, -5.423, -5.1462, -4.7451, -4.8845, -5.1781, -5.1004, -5.2139, -5.2978, -7.1366, -7.836, -7.8307, -8.0394, -8.4873, -7.1412, -8.6561, -8.6833, -8.7439, -8.7986, -8.7986, -8.7988, -8.8058, -8.8786, -8.8781, -8.9005, -8.8421, -8.8391, -8.9646, -8.9315, -9.0012, -9.0426, -9.09, -9.1043, -9.0948, -9.122, -9.1637, -9.2707, -7.7753, -9.3027, -8.7946, -8.9167, -8.0216, -7.0884, -7.6538, -5.9827, -7.3144, -5.7128, -8.3173, -7.6477, -3.5246, -6.7683, -5.6048, -7.735, -6.2251, -7.1283, -7.5501, -6.9318, -5.14, -6.4663, -5.5413, -5.5898, -6.2661, -7.1806, -5.3169, -7.0762, -5.7684, -5.582, -5.9482, -5.6008, -5.2827, -4.7612, -5.7249, -5.8958, -4.1015, -5.4474, -6.3074, -4.0211, -3.4486, -5.4136, -3.8714, -4.9139, -5.4078, -5.561, -6.1132, -4.3743, -5.1654, -3.9698, -4.4924, -4.9682, -5.1308, -4.9568, -5.1595, -5.2008, -5.4665, -5.2605, -5.385, -5.4115, -5.4752, -5.3967, -5.4528, -5.4218, -6.7186, -7.5547, -7.7925, -7.2377, -7.8503, -7.7994, -8.1422, -8.1594, -8.1105, -8.1961, -8.1917, -8.2589, -8.248, -8.3336, -8.4669, -7.9777, -8.5299, -8.5238, -6.9947, -7.8598, -8.4644, -8.6227, -8.5735, -8.6792, -8.4209, -8.7357, -8.7698, -7.8287, -8.8144, -8.9601, -8.0572, -6.6266, -7.7235, -7.7722, -7.0931, -5.6203, -7.7974, -6.8925, -5.6637, -6.975, -6.3778, -5.4218, -4.8291, -5.9101, -5.9322, -7.4358, -7.0247, -6.514, -6.777, -5.4114, -7.3496, -5.6877, -4.7128, -5.4601, -4.5343, -4.4228, -5.8768, -7.2077, -4.2403, -4.9223, -6.2165, -5.1403, -5.5184, -3.9753, -3.3268, -5.02, -4.4746, -5.8028, -4.0962, -4.7214, -3.9508, -4.8307, -5.643, -5.0757, -5.121, -5.0576, -4.3689, -5.1159, -4.9079, -4.837, -5.1897, -5.237, -5.1936, -5.3241, -5.4345, -7.5104, -8.1207, -8.2019, -8.3016, -7.6455, -8.4954, -8.5165, -7.8664, -8.6575, -8.6793, -8.7453, -7.3121, -8.6115, -8.7588, -8.7104, -8.7741, -8.6218, -6.427, -8.2344, -8.9404, -8.9408, -8.9258, -8.9582, -8.9584, -8.5429, -9.0307, -9.0444, -9.0445, -9.053, -9.0896, -7.0408, -8.1946, -6.5723, -7.479, -7.3332, -7.5496, -8.3939, -7.0572, -7.383, -6.6068, -6.035, -7.4218, -7.6476, -6.8615, -7.2587, -5.7135, -5.4768, -6.6306, -6.625, -4.6197, -7.2513, -7.4658, -5.7084, -5.8921, -5.35, -5.3046, -3.245, -5.2098, -5.7036, -5.5137, -5.4192, -5.312, -5.7386, -6.5342, -4.8692, -4.1439, -4.3109, -4.8988, -4.8154, -5.7632, -5.1406, -4.6295, -4.3385, -4.4274, -5.0579, -5.3521, -5.296, -4.2523, -4.5479, -5.1493, -5.434, -5.5362, -5.4353, -5.5626, -5.49, -5.497, -5.7801, -6.5278, -7.1234, -7.1454, -7.096, -7.3901, -7.6242, -7.6692, -7.7633, -7.6037, -7.1538, -7.9614, -7.2645, -8.0497, -8.0512, -8.0593, -6.6854, -8.1184, -8.0156, -8.0159, -6.7368, -8.272, -8.2734, -8.2719, -8.2943, -6.8399, -8.3399, -6.0943, -8.3628, -8.4043, -5.3839, -6.4398, -7.1142, -7.4168, -6.2205, -7.19, -6.4969, -6.1932, -6.7398, -4.1228, -5.0078, -4.117, -5.5825, -3.3044, -5.7564, -5.4555, -5.3272, -4.2566, -4.8872, -4.3354, -5.3306, -5.8543, -5.109, -5.2852, -5.7201, -6.215, -5.3598, -5.2897, -5.1632, -5.1708, -4.9813, -4.9151, -5.2487, -4.8962, -4.7666, -5.3237, -5.3936, -5.4882, -5.5513, -5.4521, -5.3916, -5.5092, -5.5786, -6.1394, -7.6128, -7.848, -7.1856, -7.9983, -7.9751, -6.28, -8.1562, -7.4665, -7.562, -8.2057, -8.2671, -8.2356, -8.2834, -7.4912, -8.355, -8.3553, -8.4717, -8.4717, -8.472, -8.4722, -6.0102, -8.5001, -8.4169, -8.4112, -8.2409, -8.5442, -8.599, -8.6044, -8.482, -7.6076, -7.7766, -7.7789, -7.0348, -5.6176, -6.7238, -6.3374, -6.7543, -7.1119, -5.672, -7.5113, -7.1332, -6.1008, -5.7694, -6.8319, -5.3825, -5.6453, -7.4109, -7.6437, -4.0564, -5.4946, -6.4552, -5.2111, -5.1064, -6.6483, -3.2309, -5.6978, -5.5565, -6.5178, -5.0306, -4.0045, -5.3214, -3.9052, -4.5979, -4.4043, -5.6976, -4.9686, -5.7123, -5.7136, -5.4132, -5.5115, -4.9512, -5.104, -5.2107, -5.147, -5.2596, -5.486, -4.91, -5.5974, -5.5897, -5.4664, -5.3004, -5.369, -5.5539, -5.5517, -5.5804, -5.0189, -5.993, -6.0686, -6.1306, -6.3305, -6.4892, -6.6399, -6.6895, -6.74, -6.1671, -6.9932, -7.2905, -7.3232, -7.0233, -7.4291, -7.6823, -6.9737, -7.7538, -7.7769, -7.7211, -7.7794, -7.8176, -7.839, -7.7652, -7.8872, -6.9931, -6.9678, -7.0381, -7.267, -7.8092, -6.9833, -5.8351, -6.8641, -3.7794, -5.6156, -7.3287, -6.0891, -7.3913, -4.9153, -5.9469, -3.9818, -5.2429, -4.0479, -4.7709, -5.3759, -3.352, -4.4937, -3.9638, -3.9021, -5.6107, -3.9693, -5.4163, -4.7106, -5.1192, -3.6901, -3.1824, -4.0637, -5.5217, -4.8942, -4.2615, -5.3265, -5.2432, -4.8904, -4.9981, -4.9889, -4.6007, -4.7587, -4.9885, -5.2808, -5.2455, -5.3624, -6.399, -6.0247, -7.0862, -7.0668, -7.1166, -7.1979, -6.5336, -7.2288, -7.3517, -7.3892, -7.4938, -7.5398, -7.5588, -7.629, -7.6498, -7.6593, -7.6593, -7.5629, -7.3753, -7.7204, -7.7236, -7.7211, -7.7542, -7.7537, -7.8574, -7.8581, -7.858, -7.8585, -7.8589, -7.2273, -7.2282, -6.927, -7.5398, -6.6893, -6.9033, -6.6298, -6.8201, -6.256, -6.0666, -7.463, -7.4203, -6.237, -7.2543, -6.2673, -6.5651, -6.5846, -6.9291, -4.3612, -7.3075, -6.1831, -4.6524, -6.8068, -4.9525, -6.1468, -4.1869, -4.9912, -4.9776, -5.9041, -4.4264, -4.4709, -5.7226, -5.0502, -5.59, -5.5731, -5.1201, -5.6038, -5.8584, -5.7998, -5.3173, -5.532, -5.7231, -6.0085, -5.5216, -5.4021, -5.7466, -5.7037, -5.7108, -5.8142, -5.7318, -5.7218, -5.7895, -5.827, -5.84, -7.0602, -7.3651, -7.5115, -7.1885, -7.5526, -7.4483, -6.972, -7.7961, -7.8796, -8.0117, -8.0132, -8.1002, -8.1265, -7.0814, -8.1408, -8.1634, -8.064, -8.1958, -8.1958, -8.0596, -8.2651, -8.3428, -8.3437, -7.7516, -6.9495, -7.6033, -8.3108, -8.3746, -8.3747, -8.3747, -6.7279, -7.3953, -7.2152, -5.2681, -6.7822, -7.8142, -6.9719, -6.5684, -7.1947, -6.3312, -7.7049, -6.0739, -6.0101, -6.0257, -5.3131, -6.2002, -4.511, -6.5645, -5.289, -3.4052, -4.2571, -6.3594, -5.9483, -4.6973, -5.2949, -5.5326, -5.2497, -4.4999, -5.1238, -5.1211, -4.9359, -4.2513, -4.6708, -5.2562, -5.6948, -5.5526, -5.126, -4.5639, -6.0161, -5.3051, -5.4325, -5.1737, -5.1348, -5.3058, -5.6403, -5.5997, -5.6588, -5.7587, -5.6989, -5.5553, -6.1036, -6.2077, -6.3651, -6.4556, -6.4556, -6.4556, -6.4395, -6.6071, -6.7635, -6.7859, -6.7859, -6.7859, -6.7859, -6.7859, -6.1775, -7.0036, -7.0036, -7.0036, -7.0036, -4.2504, -7.116, -6.5446, -5.0713, -7.2824, -7.2824, -7.2824, -7.2824, -7.2824, -7.2824, -5.9749, -5.3432, -6.1455, -5.3479, -6.392, -6.1082, -5.8503, -3.5625, -5.5364, -6.0092, -5.7702, -5.1172, -3.7062, -6.324, -5.7226, -5.3806, -4.8372, -5.3924, -6.1067, -5.3822, -5.694, -5.6919, -5.422, -6.2313, -5.9914, -5.6651, -5.9526, -6.0724, -6.1577], \"loglift\": [30.0, 29.0, 28.0, 27.0, 26.0, 25.0, 24.0, 23.0, 22.0, 21.0, 20.0, 19.0, 18.0, 17.0, 16.0, 15.0, 14.0, 13.0, 12.0, 11.0, 10.0, 9.0, 8.0, 7.0, 6.0, 5.0, 4.0, 3.0, 2.0, 1.0, 1.669, 1.6539, 1.649, 1.643, 1.6411, 1.6396, 1.6384, 1.6377, 1.6362, 1.6333, 1.6297, 1.6257, 1.623, 1.6174, 1.6146, 1.6139, 1.6128, 1.6128, 1.6126, 1.6117, 1.6117, 1.6091, 1.6083, 1.6074, 1.6072, 1.6065, 1.6065, 1.6033, 1.6028, 1.6019, 1.5992, 1.5865, 1.5586, 1.5587, 1.5778, 1.5799, 1.4463, 1.5523, 1.5355, 1.4845, 1.568, 1.5367, 1.586, 1.23, 1.3317, 0.9783, 1.1613, 0.9253, 0.6308, 0.8962, 0.9788, 0.956, 0.3919, 0.7136, 0.8896, 0.9461, 1.195, 1.1283, 0.7942, 1.1472, 0.7778, 0.7281, 0.5694, 0.5833, 0.6303, 0.4138, 0.8395, 0.0278, 0.2297, 0.7912, 0.4378, 0.8847, -0.0585, 0.2696, 0.5705, -0.1532, 0.4427, 0.1418, -0.3771, -0.2565, 0.038, -0.1222, 0.0623, 0.1148, 1.6691, 1.6558, 1.6484, 1.6473, 1.641, 1.6351, 1.6347, 1.6332, 1.6303, 1.628, 1.628, 1.6279, 1.626, 1.6241, 1.624, 1.6229, 1.6217, 1.6205, 1.6192, 1.6192, 1.6169, 1.6146, 1.6111, 1.6104, 1.6097, 1.6095, 1.6065, 1.5984, 1.5971, 1.5963, 1.5957, 1.5929, 1.5745, 1.5289, 1.552, 1.4751, 1.5323, 1.4452, 1.573, 1.5356, 1.2283, 1.4671, 1.3789, 1.5336, 1.3856, 1.4695, 1.4962, 1.4317, 1.2169, 1.3634, 1.237, 1.2425, 1.3127, 1.4171, 1.1378, 1.3939, 1.1474, 1.1049, 1.1561, 1.0442, 0.9694, 0.819, 1.0421, 1.0794, 0.5264, 0.9191, 1.1712, 0.4213, 0.2067, 0.8548, 0.2294, 0.6212, 0.8075, 0.8532, 1.0622, -0.0062, 0.431, -0.4497, -0.0891, 0.2479, 0.3523, 0.0215, 0.131, 0.0872, 0.5598, 0.0157, 0.1977, 0.0011, 0.3546, -0.4405, 0.0293, -0.5732, 1.7161, 1.7115, 1.7104, 1.7092, 1.709, 1.7022, 1.7015, 1.7014, 1.7007, 1.7004, 1.7003, 1.6985, 1.698, 1.6962, 1.691, 1.6906, 1.6892, 1.6889, 1.6888, 1.6878, 1.6866, 1.6852, 1.6839, 1.6815, 1.679, 1.6788, 1.6775, 1.6771, 1.676, 1.6675, 1.6666, 1.6467, 1.6618, 1.6625, 1.6481, 1.5849, 1.6576, 1.5995, 1.5091, 1.5671, 1.514, 1.4139, 1.3007, 1.4255, 1.3858, 1.5887, 1.5191, 1.426, 1.4699, 1.2017, 1.5594, 1.236, 0.9245, 1.1003, 0.8656, 0.8014, 1.1685, 1.5173, 0.6082, 0.8013, 1.2076, 0.8436, 0.9674, 0.4279, 0.1933, 0.761, 0.5036, 1.0518, 0.2718, 0.5511, 0.15, 0.4456, 0.8652, 0.4073, 0.4168, 0.2329, -0.7136, 0.1002, -0.2799, -0.3946, 0.116, 0.0625, -0.2374, 0.158, 0.2456, 1.8059, 1.7926, 1.79, 1.7867, 1.7816, 1.7791, 1.7766, 1.7732, 1.7713, 1.7706, 1.767, 1.7668, 1.7665, 1.7664, 1.7662, 1.7653, 1.7649, 1.7648, 1.7603, 1.7555, 1.7554, 1.7546, 1.7543, 1.7543, 1.7542, 1.7493, 1.7485, 1.7485, 1.7476, 1.7449, 1.7294, 1.7407, 1.7118, 1.7173, 1.7142, 1.7017, 1.7345, 1.6763, 1.6758, 1.6347, 1.5534, 1.6401, 1.6558, 1.5333, 1.5853, 1.3697, 1.3034, 1.4618, 1.4553, 1.1116, 1.5334, 1.573, 1.1955, 1.2048, 1.023, 1.0069, 0.4103, 0.9621, 1.0955, 1.0118, 0.9642, 0.9116, 1.0332, 1.3217, 0.6438, 0.2985, 0.3171, 0.5139, 0.4571, 0.9031, 0.5396, 0.2191, 0.0295, -0.0242, 0.3421, 0.5184, 0.4266, -0.7322, -0.4471, 0.1387, 0.4787, 0.5167, 0.1474, 0.4637, 0.0902, -0.2809, 2.3794, 2.3769, 2.3681, 2.3674, 2.3669, 2.3616, 2.3553, 2.3535, 2.3506, 2.3491, 2.3476, 2.3409, 2.34, 2.3385, 2.3385, 2.338, 2.3354, 2.335, 2.333, 2.3327, 2.3281, 2.3266, 2.3265, 2.3264, 2.3251, 2.3225, 2.3218, 2.3212, 2.3209, 2.3182, 2.2367, 2.2402, 2.262, 2.2747, 2.0815, 2.0849, 1.8877, 1.762, 1.9052, 0.8334, 1.0864, 0.636, 1.2756, 0.2157, 1.3226, 1.0527, 0.8673, 0.1114, 0.4714, 0.0679, 0.764, 1.0945, 0.404, 0.4731, 0.8973, 1.3598, 0.4211, 0.3067, 0.1364, 0.0453, -0.3533, -0.4727, 0.0392, -0.7953, -1.1113, -0.0475, 0.0895, 0.0944, 0.2565, -0.1616, -0.543, -0.0271, -0.6004, 2.5416, 2.5147, 2.505, 2.5021, 2.4945, 2.4908, 2.4891, 2.4884, 2.4848, 2.4814, 2.4812, 2.4792, 2.4788, 2.4782, 2.4757, 2.475, 2.4749, 2.4658, 2.4658, 2.4657, 2.4655, 2.4636, 2.4629, 2.4605, 2.4594, 2.4594, 2.4565, 2.4544, 2.4538, 2.4526, 2.4507, 2.4491, 2.446, 2.3857, 2.2897, 2.3522, 2.3227, 2.3489, 2.3486, 2.174, 2.3427, 2.2812, 2.1131, 2.0394, 2.1876, 1.8806, 1.9292, 2.2985, 2.346, 1.1677, 1.6433, 1.9583, 1.4984, 1.2372, 1.9394, 0.2892, 1.4844, 1.3923, 1.8692, 1.0636, 0.3635, 1.1129, 0.1956, 0.3583, -0.0011, 1.1244, 0.39, 1.0455, 1.0411, 0.7166, 0.8066, 0.027, 0.1722, 0.2714, 0.141, 0.3368, 0.5403, -1.2547, 0.8189, 0.7156, 0.0687, -0.858, -0.616, -0.2634, -0.3356, 0.2454, 3.0956, 3.088, 3.0863, 3.086, 3.0828, 3.0795, 3.0761, 3.0749, 3.0736, 3.0689, 3.0654, 3.0537, 3.0477, 3.047, 3.0468, 3.0322, 3.0291, 3.0267, 3.0256, 3.0252, 3.0242, 3.0223, 3.02, 3.0191, 3.0174, 3.0148, 3.0111, 3.0101, 3.0045, 2.9978, 2.9959, 2.9647, 2.9901, 2.8652, 2.8368, 2.9848, 2.8442, 2.9822, 2.6717, 2.7826, 2.4862, 2.4804, 2.1466, 2.2483, 2.4109, 1.6042, 1.8999, 1.3948, 1.3221, 2.2533, 1.3212, 2.1261, 1.7036, 1.8045, 0.7523, 0.3377, 0.9145, 2.0735, 1.3742, 0.3665, 1.7188, 1.5512, 0.5917, 0.7602, 0.6075, -0.4999, -0.3907, -0.1399, 1.0318, 0.8074, -0.0745, 3.2984, 3.2886, 3.2746, 3.2744, 3.2734, 3.2693, 3.2685, 3.2659, 3.2602, 3.2584, 3.251, 3.2483, 3.2469, 3.2416, 3.24, 3.2388, 3.2388, 3.2362, 3.2354, 3.2342, 3.2339, 3.2339, 3.2309, 3.2308, 3.2218, 3.2212, 3.2212, 3.2209, 3.2204, 3.2197, 3.2122, 3.1934, 3.2113, 3.1625, 3.1659, 3.1389, 3.1511, 3.0945, 3.0642, 3.1944, 3.1868, 2.959, 3.1506, 2.8931, 2.8733, 2.7099, 2.8756, 1.1518, 3.0928, 2.2499, 1.0712, 2.6648, 0.7787, 1.9911, -0.086, 0.589, 0.322, 1.359, -0.7711, -0.9508, 0.9885, -0.2972, 0.6189, 0.3925, -0.7169, 0.3004, 0.7941, 0.5835, -0.8749, -0.3159, 0.2608, 1.0687, -0.5654, -1.0341, 0.1239, -0.1211, -0.2277, 0.0117, -0.7535, -1.0939, -0.5654, -0.2919, -0.5638, 3.3579, 3.3412, 3.3321, 3.332, 3.3291, 3.322, 3.3179, 3.3075, 3.299, 3.2838, 3.282, 3.2717, 3.2692, 3.2691, 3.2663, 3.2644, 3.2607, 3.2601, 3.26, 3.2459, 3.2431, 3.2375, 3.2365, 3.2349, 3.2343, 3.234, 3.2336, 3.233, 3.2329, 3.2328, 3.2031, 3.2036, 3.196, 3.0696, 3.1448, 3.1937, 3.1031, 3.0111, 3.0723, 2.878, 3.1546, 2.7112, 2.6264, 2.5696, 2.2613, 2.5699, 1.8006, 2.664, 1.9015, 0.6956, 1.0425, 2.3214, 2.0181, 0.8404, 1.3516, 1.394, 1.0939, -0.1319, 0.5999, 0.559, 0.2802, -0.7312, -0.2675, 0.4751, 1.1836, 0.9333, 0.1465, -0.9086, 1.6455, 0.1779, 0.3934, -0.5457, -0.6924, -0.3496, 0.1406, -0.3234, -0.0215, 0.6349, 0.0594, 5.5373, 5.4677, 5.4496, 5.4194, 5.4, 5.4, 5.4, 5.3895, 5.3646, 5.3236, 5.3173, 5.3173, 5.3173, 5.3172, 5.3172, 5.2613, 5.2508, 5.2508, 5.2508, 5.2508, 5.2406, 5.2032, 5.1838, 5.1613, 5.1504, 5.1504, 5.1504, 5.1504, 5.1504, 5.1504, 5.0683, 4.9761, 5.0141, 4.9016, 5.0246, 4.9683, 4.8883, 4.2835, 4.7766, 4.7481, 4.5924, 4.0136, 2.2594, 4.8544, 3.936, 2.7794, 1.5461, 1.6848, 3.6629, 0.2004, 1.2616, 1.2491, -1.0188, 3.8234, 1.7541, -1.5642, 0.5729, 0.6306, 1.045]}, \"token.table\": {\"Topic\": [8, 6, 8, 9, 2, 1, 2, 3, 4, 5, 6, 7, 8, 9, 3, 2, 2, 5, 1, 2, 3, 4, 5, 6, 8, 9, 1, 2, 3, 4, 5, 6, 7, 8, 9, 8, 3, 7, 7, 1, 3, 4, 6, 8, 1, 6, 1, 2, 3, 4, 5, 6, 7, 8, 9, 10, 1, 2, 3, 4, 5, 6, 7, 8, 9, 1, 2, 3, 4, 5, 6, 7, 8, 9, 5, 6, 7, 7, 5, 7, 1, 2, 3, 4, 5, 6, 7, 8, 9, 10, 1, 2, 3, 4, 5, 6, 7, 8, 9, 10, 1, 3, 1, 4, 5, 6, 9, 1, 8, 1, 6, 9, 10, 1, 2, 3, 6, 8, 9, 10, 6, 1, 3, 6, 8, 10, 10, 10, 1, 2, 3, 4, 5, 6, 7, 8, 9, 1, 7, 3, 6, 7, 2, 7, 1, 2, 3, 4, 6, 8, 9, 1, 2, 3, 4, 5, 8, 9, 1, 2, 3, 4, 5, 6, 7, 8, 9, 10, 1, 2, 3, 4, 5, 6, 7, 8, 9, 8, 1, 4, 1, 2, 3, 5, 6, 7, 8, 9, 6, 5, 5, 8, 7, 1, 2, 3, 5, 6, 8, 9, 9, 1, 6, 8, 9, 8, 10, 1, 2, 3, 4, 5, 6, 7, 8, 9, 7, 3, 5, 6, 5, 6, 3, 4, 1, 5, 8, 2, 4, 8, 4, 4, 1, 2, 3, 4, 5, 6, 7, 8, 9, 5, 5, 8, 3, 2, 6, 6, 1, 2, 3, 4, 5, 8, 9, 4, 1, 2, 3, 4, 5, 6, 7, 8, 9, 2, 1, 2, 3, 4, 5, 6, 8, 9, 3, 5, 6, 8, 1, 3, 9, 10, 3, 2, 5, 1, 2, 3, 4, 5, 6, 7, 8, 9, 5, 1, 2, 4, 5, 6, 7, 7, 7, 1, 2, 3, 4, 5, 6, 7, 8, 9, 10, 7, 5, 1, 2, 3, 4, 5, 6, 8, 9, 3, 5, 6, 8, 2, 2, 5, 3, 7, 4, 6, 10, 1, 2, 3, 8, 1, 2, 3, 4, 5, 6, 7, 8, 9, 10, 8, 1, 1, 2, 3, 4, 5, 6, 7, 8, 9, 1, 2, 4, 9, 1, 2, 3, 4, 5, 6, 7, 8, 9, 10, 4, 8, 8, 6, 1, 2, 8, 2, 5, 6, 8, 1, 4, 8, 1, 3, 1, 2, 3, 4, 5, 6, 7, 8, 9, 9, 4, 1, 2, 3, 4, 5, 6, 7, 8, 6, 8, 10, 1, 5, 6, 8, 10, 1, 2, 3, 4, 5, 6, 7, 8, 9, 10, 1, 2, 3, 4, 5, 6, 7, 8, 9, 10, 1, 1, 2, 3, 4, 6, 1, 2, 3, 4, 5, 6, 7, 8, 9, 1, 1, 2, 3, 4, 5, 7, 8, 9, 5, 1, 2, 3, 4, 5, 6, 7, 8, 9, 1, 4, 1, 2, 3, 4, 5, 6, 7, 8, 9, 1, 2, 3, 4, 5, 6, 7, 8, 9, 3, 4, 5, 1, 2, 4, 6, 9, 1, 3, 5, 6, 7, 6, 2, 1, 2, 3, 4, 5, 8, 9, 1, 3, 4, 8, 9, 1, 3, 9, 8, 6, 1, 2, 3, 4, 5, 6, 7, 8, 9, 1, 2, 3, 4, 5, 6, 7, 8, 9, 1, 2, 3, 4, 5, 6, 7, 8, 9, 1, 2, 3, 4, 5, 6, 7, 8, 9, 1, 1, 4, 2, 9, 8, 4, 2, 8, 7, 5, 1, 2, 3, 4, 5, 6, 7, 8, 9, 1, 3, 6, 8, 1, 2, 3, 4, 5, 6, 7, 8, 9, 10, 2, 7, 1, 10, 1, 2, 3, 4, 5, 6, 7, 8, 9, 10, 1, 3, 5, 6, 8, 9, 1, 2, 3, 4, 5, 6, 7, 8, 9, 8, 10, 8, 1, 2, 3, 4, 5, 6, 8, 9, 1, 3, 1, 2, 3, 4, 5, 6, 7, 8, 9, 1, 2, 3, 5, 7, 8, 1, 3, 4, 5, 6, 7, 8, 9, 1, 2, 4, 6, 9, 5, 6, 9, 1, 2, 3, 4, 5, 8, 1, 2, 3, 4, 5, 6, 9, 2, 10, 1, 3, 8, 2, 3, 4, 5, 6, 7, 8, 9, 1, 2, 3, 5, 6, 7, 8, 9, 5, 8, 2, 8, 1, 6, 1, 6, 8, 10, 1, 3, 1, 2, 3, 5, 6, 7, 8, 9, 9, 2, 1, 2, 3, 4, 4, 3, 8, 10, 10, 1, 2, 3, 4, 5, 6, 7, 8, 9, 8, 10, 1, 2, 3, 5, 6, 7, 8, 9, 5, 1, 2, 3, 4, 5, 6, 8, 9, 10, 9, 1, 2, 3, 4, 5, 6, 7, 8, 9, 10, 10, 2, 5, 6, 7, 8, 9, 1, 2, 3, 5, 6, 9, 6, 1, 2, 3, 4, 5, 6, 7, 8, 9, 1, 3, 4, 1, 3, 4, 1, 2, 3, 4, 5, 6, 7, 8, 9, 10, 1, 3, 4, 5, 1, 2, 3, 4, 1, 2, 4, 1, 2, 3, 4, 5, 6, 7, 8, 9, 2, 1, 2, 3, 4, 5, 6, 7, 8, 9, 3, 1, 9, 1, 3, 4, 4, 1, 2, 4, 8, 9, 3, 5, 7, 8, 6, 8, 10, 1, 2, 6, 1, 3, 4, 5, 8, 9, 3, 1, 4, 1, 1, 2, 1, 2, 3, 4, 5, 6, 8, 6, 8, 6, 1, 2, 3, 4, 5, 6, 7, 8, 9, 3, 8, 9, 9, 2, 1, 2, 3, 4, 5, 6, 7, 8, 9, 5, 7, 6, 10, 10, 1, 5, 6, 7, 1, 2, 3, 4, 5, 6, 7, 8, 9, 10, 1, 6, 8, 9, 8, 9, 8, 9, 1, 2, 3, 4, 5, 6, 7, 8, 9, 2, 4, 5, 7, 8, 2, 4, 5, 7, 5, 9, 1, 2, 3, 4, 5, 8, 2, 1, 1, 1, 3, 8, 9, 1, 4, 5, 1, 2, 3, 4, 5, 6, 7, 8, 9, 5, 6, 9, 1, 2, 3, 4, 5, 6, 8, 9, 10, 1, 2, 3, 4, 5, 6, 7, 8, 9, 3, 7, 1, 2, 3, 4, 5, 6, 7, 8, 9, 10, 1, 2, 3, 4, 5, 6, 7, 8, 9, 10, 8, 1, 3, 4, 6, 7, 8, 1, 2, 3, 4, 5, 6, 8, 9, 1, 2, 3, 4, 5, 6, 7, 8, 9, 1, 2, 3, 4, 5, 6, 7, 8, 9, 10, 1, 2, 3, 4, 5, 6, 7, 8, 9, 10, 1, 2, 3, 4, 5, 6, 8, 1, 2, 3, 4, 5, 6, 7, 8, 9, 10, 1, 2, 3, 4, 5, 6, 7, 8, 9, 10, 1, 2, 3, 4, 5, 6, 7, 8, 9, 8, 10, 1, 2, 3, 4, 5, 6, 7, 8, 9, 10, 2, 3, 3, 1, 2, 3, 4, 5, 6, 7, 8, 9, 1, 3, 5, 6, 7, 8, 9, 1, 3, 4, 5, 6, 8, 10, 1, 8, 7, 8, 7, 4, 6, 6, 6, 5, 6, 3, 6, 3, 6, 8, 6, 6, 8, 10, 1, 3, 4, 9, 1, 4, 5, 9, 4, 1, 1, 2, 4, 3, 4, 9, 2, 3, 3, 4, 8, 1, 2, 3, 4, 5, 6, 7, 8, 9, 9, 1, 2, 3, 4, 5, 6, 7, 8, 9, 7, 7, 8, 1, 2, 3, 4, 5, 6, 7, 8, 9, 3, 2, 4, 6, 8, 9, 5, 5, 1, 4, 3, 8, 1, 2, 3, 4, 5, 6, 7, 8, 9, 10, 1, 2, 3, 4, 5, 6, 7, 8, 9, 1, 3, 4, 9, 1, 4, 9, 7, 1, 8, 4, 5, 6, 8, 1, 3, 5, 6, 10, 10, 4, 1, 2, 3, 4, 5, 6, 7, 8, 9, 3, 8, 9, 1, 4, 8, 9, 10, 10, 10, 1, 1, 2, 3, 4, 5, 6, 8, 9, 10, 10, 1, 2, 5, 6, 8, 9, 5, 6, 7, 8, 10, 1, 3, 6, 3, 9, 9, 1, 2, 3, 4, 5, 6, 8, 9, 7, 2, 4, 5, 6, 7, 8, 1, 2, 3, 5, 6, 7, 8, 4, 7, 4, 3, 1, 2, 3, 4, 5, 6, 7, 8, 9, 3, 1, 2, 3, 4, 5, 6, 7, 8, 9, 6, 2, 1, 2, 3, 4, 5, 6, 7, 8, 9, 1, 2, 3, 4, 5, 6, 7, 8, 9, 9, 2, 3, 8, 9, 5, 9, 1, 1, 2, 4, 5, 8, 9, 8, 2, 2, 1, 3, 5, 6, 7, 8, 9, 8, 1, 2, 3, 4, 5, 6, 7, 8, 9, 1, 2, 4, 1, 2, 3, 4, 5, 6, 8, 10, 1, 6, 10, 6, 8, 10, 10, 6, 10, 1, 2, 3, 4, 5, 6, 7, 8, 9, 1, 4, 9, 1, 2, 4, 8, 1, 1, 2, 3, 4, 5, 6, 7, 8, 9, 1, 4, 8, 1, 2, 6, 7, 9, 1, 6, 1, 2, 3, 4, 5, 6, 7, 8, 9, 4, 1, 3, 6, 8, 3, 6, 1, 2, 3, 4, 5, 6, 7, 8, 9, 10, 1, 2, 3, 4, 5, 6, 7, 8, 9, 1, 4, 1, 2, 3, 4, 6, 1, 2, 5, 4, 4, 1, 2, 3, 4, 5, 6, 7, 8, 9, 10, 6, 8, 10, 1, 2, 3, 4, 5, 6, 8, 9, 10, 3, 4, 6, 10, 1, 4, 10, 1, 2, 3, 4, 5, 6, 7, 8, 9, 2, 4, 6, 9, 2, 1, 2, 3, 4, 5, 6, 7, 8, 9, 2, 3, 8, 1, 2, 3, 4, 9, 5, 7, 4, 1, 3, 4, 2, 4, 4, 1, 4, 1, 4, 6, 9, 2, 3, 4, 5, 6, 7, 8, 1, 2, 3, 5, 6, 8, 10, 1, 2, 3, 4, 5, 6, 7, 8, 9, 8, 1, 3, 4, 5, 6, 8, 10, 1, 2, 3, 4, 5, 6, 7, 8, 9, 10, 7, 1, 2, 3, 4, 5, 6, 8, 9, 1, 1, 2, 3, 4, 5, 6, 7, 8, 9, 1, 2, 3, 4, 5, 6, 8, 9, 1, 2, 4, 5, 8, 9, 1, 2, 3, 4, 5, 6, 7, 8, 9, 1, 2, 3, 4, 5, 6, 8, 9, 6, 1, 3, 5, 6, 8, 9, 1, 3, 6, 9, 3, 6, 1, 4, 1, 4, 1, 6, 2, 5, 1, 9, 1, 2, 3, 4, 5, 6, 9, 1, 2, 3, 4, 5, 6, 7, 8, 9, 1, 2, 3, 4, 5, 6, 7, 8, 9, 10, 1, 2, 4, 8, 9, 1, 2, 3, 4, 5, 6, 7, 8, 9, 1, 2, 3, 4, 5, 6, 7, 8, 9, 10, 1, 4, 6, 8, 9, 10, 10, 9, 2, 5, 1, 2, 3, 4, 5, 7, 8, 9, 1, 2, 3, 4, 5, 6, 7, 8, 9, 2, 6, 3, 1, 2, 3, 4, 5, 6, 7, 8, 9, 3, 1, 3, 1, 3, 6, 10, 1, 2, 3, 4, 5, 6, 8, 9, 10, 1, 5, 9, 2, 10, 8, 2, 2, 5, 1, 2, 3, 4, 5, 6, 7, 8, 9, 10, 1, 2, 3, 4, 5, 6, 7, 8, 9, 10, 8, 10, 1, 2, 3, 4, 5, 6, 7, 8, 9, 1, 2, 3, 4, 5, 6, 7, 8, 3, 7, 1, 1, 4, 8, 3, 1, 3, 4, 8, 3, 1, 3, 1, 2, 3, 4, 5, 6, 7, 8, 9, 1, 2, 3, 4, 5, 6, 7, 8, 9, 1, 2, 3, 4, 5, 6, 7, 8, 9, 10, 2, 5, 6, 1, 3, 9, 4, 3, 9, 5, 2, 5, 3, 9, 9, 9, 3, 9, 7, 4, 1, 2, 4, 1, 2, 3, 4, 5, 6, 7, 8, 9, 7, 1, 2, 3, 4, 5, 6, 8, 9, 2, 5, 7, 5, 7, 1, 2, 3, 4, 5, 6, 8, 9, 10, 1, 2, 4, 5, 8, 9, 9, 1, 2, 3, 4, 5, 6, 7, 8, 9, 10, 6, 10, 1, 2, 3, 4, 5, 6, 7, 8, 9, 1, 2, 3, 4, 5, 6, 7, 8, 9, 6, 1, 2, 3, 4, 5, 6, 7, 8, 7, 1, 2, 3, 4, 5, 6, 1, 3, 6, 7, 8, 9, 1, 2, 3, 6, 7, 8, 9, 1, 2, 3, 4, 5, 6, 7, 8, 9, 1, 2, 3, 4, 5, 6, 7, 8, 9, 1, 2, 3, 4, 5, 6, 7, 8, 9, 1, 6, 1, 3, 8, 1, 2, 3, 4, 5, 6, 7, 8, 9, 1, 2, 3, 4, 5, 6, 8, 9, 10, 1, 2, 3, 4, 5, 6, 7, 8, 9, 5, 7, 7, 1, 3, 6, 1, 3, 5, 6, 5, 6, 5, 1, 2, 3, 4, 5, 6, 7, 8, 9, 10, 5, 1, 3, 4, 5, 6, 8, 1, 2, 3, 4, 8, 9, 10, 1, 1, 8, 9, 6, 1, 2, 3, 4, 5, 6, 8, 9, 4, 8, 6, 9, 4, 3, 4, 5, 8, 1, 2, 3, 4, 8, 1, 1, 2, 3, 4, 5, 6, 7, 8, 9, 1, 1, 2, 3, 4, 5, 6, 7, 8, 9, 7, 7, 8, 8, 1, 9, 3, 3, 2, 1, 2, 3, 4, 8, 1, 2, 3, 4, 5, 6, 1, 4, 8, 1, 2, 3, 4, 5, 6, 7, 8, 9, 1, 2, 3, 4, 5, 6, 7, 8, 9, 1, 2, 3, 4, 5, 6, 8, 9, 1, 2, 3, 4, 5, 6, 7, 8, 9, 10, 1, 2, 3, 4, 5, 6, 7, 8, 9, 10, 1, 2, 3, 4, 5, 6, 7, 9, 2, 8, 10, 8, 8, 3, 5, 6, 7, 8, 5, 6, 1, 2, 3, 4, 5, 6, 7, 8, 9, 10, 2, 2, 6, 4, 10, 1, 2, 3, 4, 5, 6, 7, 8, 9, 10, 8, 6, 2, 1, 1, 2, 3, 4, 5, 6, 7, 8, 9, 3, 1, 5, 6, 8, 9, 1, 2, 3, 4, 5, 6, 7, 8, 9, 5, 1, 2, 3, 4, 5, 6, 7, 8, 9, 10, 5], \"Freq\": [0.9622747970289702, 0.9133261429917625, 0.8825895070013381, 0.9014751392593271, 0.9248878357798946, 0.4987643742811805, 0.10450301175415211, 0.19914035456647866, 0.08806023018444285, 0.03727030489134096, 0.03434714372339265, 0.023385289343586486, 0.010231064087819087, 0.004384741751922466, 0.9780593103909153, 0.9227898111067027, 0.057339614800638435, 0.9338165838961117, 0.021976818280968057, 0.7472118215529139, 0.08424447007704422, 0.021976818280968057, 0.03296522742145209, 0.036628030468280094, 0.018314015234140047, 0.03296522742145209, 0.16078488662187745, 0.05058400927429853, 0.18427031949923034, 0.5347452408997273, 0.016259145838167382, 0.010839430558778255, 0.03432486343613114, 0.005419715279389128, 0.0036131435195927517, 0.9541065430016725, 0.04285416730948665, 0.9427916808087062, 0.9879628659611542, 0.16967914105825133, 0.2143315465998964, 0.004465240554164508, 0.5983422342580441, 0.008930481108329016, 0.1725969485677163, 0.7939459634114949, 0.20664757665940595, 0.08661874470753543, 0.12497847450658683, 0.4442304192857888, 0.03093526596697694, 0.00989928510943262, 0.06434535321131203, 0.01979857021886524, 0.00494964255471631, 0.006187053193395388, 0.2832335127674117, 0.0062249123685145435, 0.21475947671375173, 0.0015562280921286359, 0.10582351026474723, 0.22098438908226628, 0.1042672821726186, 0.02645587756618681, 0.03579324611895862, 0.029327120843989616, 0.003554802526544196, 0.24083787117336927, 0.000888700631636049, 0.21862035538246805, 0.11730848337595846, 0.3848073734984092, 0.004443503158180245, 0.000888700631636049, 0.18818853302611271, 0.022303826136428173, 0.7889978495761467, 0.9941170058014619, 0.12029222514127838, 0.8661040210172044, 0.14509191316765305, 0.31578828160018607, 0.13395954131335744, 0.2219052789622929, 0.06456775675491466, 0.022635822770401118, 0.06493883581672451, 0.012060069508820267, 0.0191105716832075, 0.00018553953090492717, 0.09376698412334084, 0.43821712988255207, 0.04975390994299718, 0.1827499384444704, 0.03922904437813239, 0.008611253643980282, 0.17796590864225914, 0.0028704178813267604, 0.0047840298022112674, 0.0009568059604422534, 0.9363250542649694, 0.041614446856220864, 0.8783136720772694, 0.040851798701268344, 0.061277698051902516, 0.020425899350634172, 0.9449685096544608, 0.9711461396787616, 0.02312252713520861, 0.07870112467074315, 0.18363595756506734, 0.6820764138131074, 0.02623370822358105, 0.05075350102719882, 0.044409313398798965, 0.19666981648039542, 0.40602800821759055, 0.031720938141999264, 0.20935819173719514, 0.05709768865559867, 0.8851138237530844, 0.018537964202894833, 0.018537964202894833, 0.6859046755071089, 0.018537964202894833, 0.254897007789804, 0.7463095957778538, 0.7138334042355613, 0.14307115145681892, 0.2541474884528302, 0.20464607740025997, 0.12496087912051272, 0.11892412167507732, 0.09356974040424866, 0.01992129956993681, 0.007847784679066017, 0.03320216594989468, 0.05240368054549624, 0.8908625692734361, 0.043410201139691365, 0.9116142239335188, 0.0347281609117531, 0.03911249313032796, 0.8995873419975431, 0.4592955714881504, 0.0013410089678486143, 0.2702133070214958, 0.2608262442465555, 0.0006705044839243071, 0.0060345403553187646, 0.0006705044839243071, 0.3241064954972318, 0.0034756728739649525, 0.22418090037073943, 0.42316317240523293, 0.0017378364369824762, 0.013033773277368571, 0.010427018621894856, 0.3827967911745951, 0.001060378922921316, 0.3075098876471817, 0.2551978607830634, 0.0007069192819475441, 0.00035345964097377203, 0.0007069192819475441, 0.013431466357003338, 0.03817364122516738, 0.6544457844031443, 0.4148739492370183, 0.010371848730925459, 0.2574104275947864, 0.20932276529685923, 0.024515278818551083, 0.01791501144432579, 0.008486058052575374, 0.00565737203505025, 0.05091634831545225, 0.8825913884224631, 0.9931192905663226, 0.9710034076455583, 0.05091519909011203, 0.015274559727033609, 0.7382703868066244, 0.005091519909011203, 0.09673887827121286, 0.010183039818022406, 0.06618975881714563, 0.020366079636044813, 0.9418132199521817, 0.9622780275444505, 0.988630779351527, 0.9576227431564046, 0.9590063322374075, 0.010597305158228723, 0.08831087631857269, 0.021194610316457446, 0.01412974021097163, 0.536930128016922, 0.010597305158228723, 0.3179191547468617, 0.9025778001329808, 0.19702774500174117, 0.08335789211612127, 0.00757799019237466, 0.712331078083218, 0.9312951270566258, 0.8381215387540152, 0.004099160486057892, 0.31153619694039975, 0.032793283888463136, 0.004099160486057892, 0.012297481458173675, 0.08608237020721572, 0.5369900236735838, 0.008198320972115784, 0.004099160486057892, 0.9431113566646613, 0.015680355547198776, 0.9408213328319266, 0.03136071109439755, 0.9508893315716306, 0.9410523148701203, 0.10055451737981383, 0.8978081908911949, 0.04505480479071815, 0.04505480479071815, 0.8560412910236448, 0.9488248920128076, 0.9613995499635329, 0.9339064143560183, 0.8960243621154436, 0.9584914166586034, 0.09801925717570367, 0.2720534484876673, 0.12002358021514735, 0.1650324227958276, 0.11302220470259709, 0.054010611096816305, 0.12602475922590473, 0.0180035370322721, 0.03200628805737263, 0.944951441553852, 0.06204941265681494, 0.8686917771954091, 0.9782309485622835, 0.04234392421005513, 0.8892224084111577, 0.9161082728402165, 0.08825101501423388, 0.008022819546748534, 0.04011409773374267, 0.7461222178476137, 0.024068458640245604, 0.024068458640245604, 0.06418255637398827, 0.8895691872567768, 0.2453210818198229, 0.05179446735639469, 0.42118136633223274, 0.22765475186880454, 0.0020075374944339025, 0.016863314953244782, 0.006424119982188488, 0.004818089986641366, 0.02409044993320683, 0.9239827079581868, 0.40799129609915813, 0.11581002936147979, 0.007437341335140904, 0.4494279121092289, 0.0010624773335915576, 0.0021249546671831153, 0.007437341335140904, 0.008499818668732461, 0.9465694686060793, 0.7350820060921003, 0.09672131659106582, 0.15475410654570532, 0.03030770031700907, 0.9395387098272813, 0.9714071261770161, 0.45501353023265373, 0.9718813693387532, 0.9308873100823228, 0.06649195072016592, 0.04225771540911096, 0.6372295293781858, 0.011142581675039209, 0.05529243359500589, 0.17344584682844053, 0.042047478019015885, 0.00735830865332778, 0.026700148542075086, 0.004625222582091747, 0.9289902491331556, 0.14134437640292416, 0.7295193620796085, 0.018237984051990213, 0.045594960129975534, 0.04103546411697798, 0.022797480064987767, 0.9622130555937761, 0.9855247640833333, 0.11917824436877102, 0.17280845433471798, 0.11768851631416138, 0.1847262787715951, 0.13258579686025776, 0.12513715658720956, 0.022345920819144566, 0.09683232354962645, 0.029794561092192754, 0.4550131707840815, 0.9643713735223638, 0.9783964249425693, 0.27774196635568577, 0.00799257457138664, 0.02597586735700658, 0.4425888168905352, 0.01898236460704327, 0.00199814364284666, 0.02597586735700658, 0.199814364284666, 0.1314349839097157, 0.032858745977428924, 0.16429372988714463, 0.6243161735711495, 0.9537090884499001, 0.9526386817612315, 0.9496463591646838, 0.01860646423228036, 0.9675361400785788, 0.12736865713310772, 0.25473731426621543, 0.5094746285324309, 0.03725248387214777, 0.1396968145205541, 0.8102415242192138, 0.009313120968036942, 0.19276005392005688, 0.23470727019925106, 0.20590278486915167, 0.1032799607083032, 0.04139960248964858, 0.09473718559139159, 0.027271166719371683, 0.033075872888555215, 0.06615174577711043, 0.0007666593053638626, 0.9402529640624937, 0.9375086749118683, 0.10433725177896368, 0.15040103846861255, 0.39514959184373477, 0.14596115541418855, 0.007769795345241976, 0.011099707636059965, 0.01997947374490794, 0.10544722254256968, 0.059938421234723815, 0.0916605278278158, 0.10693728246578509, 0.7791144865364342, 0.030553509275938598, 0.23400192380429102, 0.27987161909547303, 0.07511993576671842, 0.21538813441076787, 0.05916525914369858, 0.05916525914369858, 0.009306894696761575, 0.04852880806168535, 0.01861378939352315, 0.0006647781926258267, 0.10333711421668873, 0.861142618472406, 0.940294138731218, 0.9547482955873396, 0.06339713871138505, 0.09509570806707758, 0.8241628032480057, 0.04475552566245125, 0.022377762831225625, 0.8503549875865738, 0.06713328849367688, 0.07152799860423686, 0.8940999825529609, 0.017881999651059216, 0.02866836409960412, 0.97472437938654, 0.6413113761115954, 0.026106480797463177, 0.15777394916727744, 0.09080515059987192, 0.02951167394495837, 0.02951167394495837, 0.0034051931474951965, 0.01021557944248559, 0.01021557944248559, 0.8564740796269672, 0.9710053843689038, 0.19378909851935633, 0.5868518926859753, 0.027422985639531557, 0.09323815117440729, 0.016453791383718934, 0.07129976266278204, 0.001828199042635437, 0.009140995213177185, 0.3024203075110227, 0.05040338458517045, 0.6048406150220454, 0.031725582566876805, 0.031725582566876805, 0.6979628164712897, 0.09517674770063042, 0.12690233026750722, 0.3048080496926077, 0.03475010338515072, 0.18864341837653248, 0.10027886976857779, 0.14892901450778878, 0.1588576154749747, 0.04269298415889945, 0.010921461063904512, 0.008935740870467328, 0.000992860096718592, 0.12544913609648434, 0.31121035685473997, 0.18254457624296117, 0.12384081383883709, 0.19701947656178628, 0.023320672735884906, 0.0024124833864708523, 0.021712350478237673, 0.012062416932354263, 0.0008041611288236175, 0.9610784655777124, 0.8938429108466865, 0.03575371643386746, 0.01191790547795582, 0.03575371643386746, 0.02383581095591164, 0.009855763468797352, 0.009855763468797352, 0.004927881734398676, 0.004927881734398676, 0.04927881734398676, 0.7687495505661934, 0.12812492509436557, 0.019711526937594703, 0.004927881734398676, 0.948176996710312, 0.11080890863206797, 0.09234075719338997, 0.018468151438677992, 0.12927706007074596, 0.11080890863206797, 0.018468151438677992, 0.05540445431603398, 0.4801719374056278, 0.9622973443750624, 0.20634794124937453, 0.5821548063180678, 0.0034583453840677293, 0.18790343253434663, 0.002305563589378486, 0.001152781794689243, 0.0069166907681354585, 0.004611127178756972, 0.004611127178756972, 0.8943365539564848, 0.06879511953511422, 0.0964176383620373, 0.1227133579153202, 0.08326977858539586, 0.5390622508422995, 0.05040012914379223, 0.06573929888320726, 0.006573929888320725, 0.01314785977664145, 0.02191309962773575, 0.024720339312070946, 0.5627512537512621, 0.04798654101754948, 0.24429511790752464, 0.06107377947688116, 0.005816550426369635, 0.04507826580436467, 0.0014541376065924088, 0.007270688032962044, 0.015004085001629515, 0.015004085001629515, 0.9452573551026594, 0.9359906454706384, 0.906919176626301, 0.02667409343018532, 0.05334818686037064, 0.02667409343018532, 0.15531608511390493, 0.22888686227312305, 0.01634906159093736, 0.5558680940918703, 0.0408726539773434, 0.9267924139759427, 0.9528114561761518, 0.3176731719465076, 0.2407478298608062, 0.0028490867439148666, 0.3988721441480813, 0.0028490867439148666, 0.03133995418306353, 0.005698173487829733, 0.49023266530958726, 0.009804653306191746, 0.03921861322476698, 0.01960930661238349, 0.4314047454724368, 0.07427223474004642, 0.14854446948009284, 0.7798584647704874, 0.9627945504229422, 0.8644567570389287, 0.0022829612029494294, 0.19633466345365091, 0.009131844811797718, 0.052508107667836874, 0.20318354706249922, 0.40180117171909957, 0.12099694375631975, 0.0022829612029494294, 0.011414806014747148, 0.02134134974857992, 0.5490547253498289, 0.031041963270661704, 0.02716171786182899, 0.15326969364889215, 0.023281472452996277, 0.14550920283122673, 0.009700613522081783, 0.040742576792743485, 0.09675613285687358, 0.28684772720699386, 0.11337082233734681, 0.15637354805151285, 0.1246101711035493, 0.10897281629839801, 0.08258478006470522, 0.005375340714270754, 0.024433366883048882, 0.16492050018088888, 0.2652689526719059, 0.26614154791095823, 0.06849872626560728, 0.10034845249101704, 0.06457204768987183, 0.0017451904781046442, 0.02879564288872663, 0.0392667857573545, 0.9598191733519402, 0.03973402619082204, 0.9536166285797288, 0.969653205773994, 0.775997621044203, 0.9172015337749717, 0.951023573721729, 0.9728790311963967, 0.0237287568584487, 0.9775941952121514, 0.9848869517938251, 0.06511634755610203, 0.33914764352136473, 0.012209315166769132, 0.2672483430948354, 0.22519403529818618, 0.0529070323893329, 0.001356590574085459, 0.029844992629880097, 0.005426362296341836, 0.045180949350378766, 0.8734983541073228, 0.045180949350378766, 0.03012063290025251, 0.29017961679547444, 0.009163566846172876, 0.44646934022742296, 0.10232649644893045, 0.057017749265075676, 0.03309065805562428, 0.018327133692345753, 0.01069082798720169, 0.032072483961605065, 0.0005090870470096043, 0.06905218535942613, 0.8976784096725398, 0.2249738055168428, 0.6749214165505284, 0.15050006803169835, 0.4231311816865641, 0.08077958923107133, 0.1769457668871086, 0.04471727261005734, 0.018271573754647087, 0.01490575753668578, 0.06491216991782517, 0.025003206190569695, 0.00048083088828018646, 0.04652682053805447, 0.05169646726450497, 0.5324736128244012, 0.25331268959607434, 0.041357173811603976, 0.06720540744385646, 0.16591385870626488, 0.19066925984656471, 0.2931144837144013, 0.07479291408345909, 0.05030086827443903, 0.0800600207090548, 0.11218937112518863, 0.016854741201906272, 0.01606467520806692, 0.9648845271127794, 0.020101760981516236, 0.955207010021548, 0.3361823864334294, 0.019982869123665384, 0.37908678190482864, 0.017044211899596946, 0.1398800838656577, 0.06758911615357409, 0.0023509257792547512, 0.03820254391288971, 0.9776172510534237, 0.013578017375741996, 0.29029198795309596, 0.10504729525150942, 0.2857738247164719, 0.0293680610380564, 0.030497601847212414, 0.23720356992276323, 0.0011295408091560155, 0.0146840305190282, 0.004518163236624062, 0.0707545246268134, 0.01872913887180355, 0.570198227874908, 0.012486092581202366, 0.24972185162404734, 0.0749165554872142, 0.4341490850483442, 0.39481850591504475, 0.054457724953799275, 0.009076287492299879, 0.05899586869994922, 0.009076287492299879, 0.00151271458204998, 0.03933057913329947, 0.04690352153307291, 0.01563450717769097, 0.8286288804176214, 0.07817253588845484, 0.01563450717769097, 0.8776693469739044, 0.06421970831516374, 0.042813138876775826, 0.06652349974297525, 0.7415413647819888, 0.007826294087408854, 0.16630874935743814, 0.0019565735218522134, 0.013696014652965494, 0.41415682668212095, 0.5298976233643298, 0.020917011448591965, 0.029283816028028754, 0.002788934859812262, 0.001394467429906131, 0.001394467429906131, 0.9292402798901479, 0.45501355658767195, 0.07762123576363646, 0.03881061788181823, 0.8538335934000011, 0.10236744814005072, 0.007311960581432194, 0.007311960581432194, 0.7385080187246517, 0.029247842325728777, 0.04387176348859317, 0.058495684651457554, 0.021935881744296584, 0.1270692719782489, 0.02382548849592167, 0.02382548849592167, 0.6035790418966823, 0.06353463598912445, 0.02382548849592167, 0.11912744247960835, 0.015883658997281114, 0.8802825520742091, 0.08802825520742091, 0.07330481407216242, 0.8796577688659492, 0.1581454551917181, 0.83026363975652, 0.12978278573525748, 0.12978278573525748, 0.25956557147051496, 0.3893483572057724, 0.025410189405917202, 0.9655871974248537, 0.046709176315287794, 0.12845023486704144, 0.21019129341879508, 0.011677294078821948, 0.1167729407882195, 0.011677294078821948, 0.03503188223646585, 0.4320598809164121, 0.9647112660307694, 0.979208908540428, 0.15142921908015466, 0.006883146321825211, 0.006883146321825211, 0.8259775586190253, 0.9523410499327309, 0.059613947278853587, 0.7749813146250967, 0.11922789455770717, 0.6544465816580615, 0.03554558438244889, 0.630411393606373, 0.05018200148110431, 0.06586387694394942, 0.03240920928987987, 0.08677304422774287, 0.08259121077098419, 0.015681875462845097, 0.0010454583641896732, 0.631449371298962, 0.3444269297994338, 0.020784122114742117, 0.049126106816663184, 0.17760977079870535, 0.273972518785237, 0.31365129736792646, 0.1360415265692211, 0.009447328233973689, 0.018894656467947378, 0.9429727765479919, 0.10248098013166149, 0.15902221054912988, 0.12368394153821213, 0.11308246083493681, 0.35691651701026933, 0.0424059228131013, 0.028270615208734202, 0.0706765380218355, 0.0035338269010917753, 0.9709040481805992, 0.1420533824550512, 0.16142429824437635, 0.03228485964887527, 0.1399010584784595, 0.34437183625466955, 0.12483479064231771, 0.004304647953183369, 0.010761619882958423, 0.03443718362546695, 0.004304647953183369, 0.45501333527376797, 0.029970985177290303, 0.1798259110637418, 0.6893326590776769, 0.014985492588645151, 0.014985492588645151, 0.059941970354580605, 0.020922605195715403, 0.020922605195715403, 0.052306512989288505, 0.052306512989288505, 0.7950589974371852, 0.0627678155871462, 0.89771205130201, 0.09221730687043754, 0.011899007338120972, 0.2900383038666987, 0.005949503669060486, 0.11006581787761899, 0.34804596464003845, 0.09221730687043754, 0.0342096460970978, 0.014873759172651215, 0.7962719296502514, 0.1298413462657648, 0.07287014331241902, 0.5884234051520251, 0.2566056954798305, 0.15042402838472824, 0.09877520750850512, 0.17002289817037766, 0.0696284249650118, 0.33356873355331235, 0.05181650229954367, 0.025908251149771834, 0.21212380628875688, 0.011334859878025176, 0.025908251149771834, 0.0016192656968607396, 0.8229602521657845, 0.1238864895733439, 0.035396139878098254, 0.008849034969524563, 0.07962342483537423, 0.019905856208843557, 0.03981171241768711, 0.8559518169802729, 0.07006955817650543, 0.011678259696084239, 0.9109042562945706, 0.13823658835162053, 0.1980703355485906, 0.1206991107249224, 0.040233036908307464, 0.10728809842215324, 0.26822024605538314, 0.01856909395768037, 0.009284546978840185, 0.09800355144331306, 0.9131985815825086, 0.15409441914463828, 0.1452339900438216, 0.15640583543180786, 0.061637767657855315, 0.14716017028312955, 0.11518557831061713, 0.1814461785428116, 0.018106094249494997, 0.020802746584526167, 0.9371499737251225, 0.9304885041940673, 0.7758813782846877, 0.8653680103803679, 0.055830194218088255, 0.055830194218088255, 0.8962103083010796, 0.007775815650436012, 0.7775815650436012, 0.08553397215479613, 0.031103262601744047, 0.09330978780523214, 0.9289636862501505, 0.04320761331396049, 0.8883105258653586, 0.9403877586410371, 0.16470104244877573, 0.16470104244877573, 0.49410312734632716, 0.07159455306774866, 0.8949319133468582, 0.9162692210708859, 0.1314878937792603, 0.7681661162893628, 0.06228373915859699, 0.013840830924132663, 0.013840830924132663, 0.013840830924132663, 0.972752858005234, 0.9162047554080578, 0.07635039628400482, 0.9592328821148975, 0.9533771489372027, 0.8834259205112763, 0.10659440761986519, 0.016399139633825416, 0.7078961941934637, 0.112060787497807, 0.027331899389709025, 0.008199569816912708, 0.02186551951176722, 0.9274731676968412, 0.03864471532070171, 0.9153910041507439, 0.235956624716521, 0.10525516102550692, 0.32548134409425983, 0.2012571210817385, 0.05343723559756505, 0.019663052059710084, 0.03909477409518829, 0.008790540920811567, 0.011566501211594167, 0.9769091652560771, 0.14913216873100374, 0.8202269280205206, 0.9086839078724676, 0.9699266192067559, 0.05172105923458193, 0.41830540889723283, 0.11160860150620312, 0.08075744336627705, 0.12794156758028163, 0.11160860150620312, 0.05353583324281288, 0.006351709028808308, 0.03811025417284984, 0.040058434251288993, 0.9213439877796469, 0.16840635631581433, 0.6736254252632573, 0.6440952301110818, 0.027493844047436766, 0.013746922023718383, 0.17870998630833898, 0.7698276333282295, 0.21022874454876198, 0.18664408848719874, 0.16468596042988123, 0.27000364870479293, 0.04472952011675787, 0.05977490415603096, 0.038223408099774904, 0.01179232803078162, 0.013825488036088796, 0.00040663200106143515, 0.050021162572656284, 0.9003809263078132, 0.1440306232554307, 0.816173531780774, 0.6378505257332463, 0.3417056387856677, 0.10944397406069561, 0.7661078184248693, 0.04355732256088695, 0.3568890300150092, 0.06744359622330884, 0.17282421532222889, 0.08992479496441178, 0.13488719244661768, 0.029506573347697615, 0.08008927051517924, 0.02529134858374081, 0.8158262544085388, 0.08846308782743192, 0.009829231980825769, 0.07863385584660615, 0.009829231980825769, 0.8619753020513464, 0.11025265491354432, 0.010022968628504028, 0.010022968628504028, 0.9049613490199317, 0.8842403573230647, 0.11631014066529023, 0.8141709846570316, 0.006287034630556228, 0.05972682899028417, 0.03277428756698056, 0.9504543394424362, 0.9663859236385635, 0.9245288116059918, 0.9603674975903429, 0.367481085407406, 0.11854228561529224, 0.011854228561529226, 0.49787759958422745, 0.30461051309754406, 0.6912315489521192, 0.9816043500855239, 0.20007705744492527, 0.5293377267834244, 0.025206558418258303, 0.05198852673765775, 0.10082623367303321, 0.017329508912552583, 0.006301639604564576, 0.04253606733081089, 0.025206558418258303, 0.060266279400045523, 0.12053255880009105, 0.7834616322005918, 0.28001330856476275, 0.02465525987362691, 0.2606413186640559, 0.23774714878140232, 0.04931051974725382, 0.012327629936813455, 0.02465525987362691, 0.10742648944937438, 0.0017610899909733507, 0.04906803076604792, 0.1261749362555518, 0.036216879851130604, 0.13668951427684778, 0.047899744319237256, 0.053741176553290575, 0.5397483384265271, 0.004673145787242659, 0.005841432234053323, 0.07824736122231044, 0.8998446540565701, 0.2928324291740668, 0.08296918826598561, 0.058566485834813366, 0.4831735081372103, 0.0032536936574896315, 0.0016268468287448158, 0.0016268468287448158, 0.008134234143724078, 0.06507387314979263, 0.0016268468287448158, 0.28363821583050236, 0.13691627063777131, 0.1884868553342263, 0.07263462633303518, 0.10532020818290101, 0.055928662276437086, 0.013437405871611508, 0.0497547190381291, 0.09369866796961537, 0.0003631731316651759, 0.8828543738270479, 0.1822434718451517, 0.7289738873806068, 0.06243526350250567, 0.0033748791082435494, 0.0033748791082435494, 0.0202492746494613, 0.33455552121214616, 0.005227430018939784, 0.08886631032197632, 0.2718263609848688, 0.015682290056819353, 0.015682290056819353, 0.010454860037879567, 0.24568921089016985, 0.09013620378956634, 0.326743738737178, 0.05858853246321812, 0.2568881808002641, 0.10666117448432018, 0.13370203562119007, 0.009013620378956635, 0.006009080252637756, 0.012018160505275512, 0.11663673956593328, 0.26598113625882136, 0.16970954169646377, 0.1450245174497054, 0.09750584577469554, 0.07282082152793717, 0.0678838166785855, 0.02838777788377212, 0.03579328515779963, 0.0006171256061689592, 0.13583643819872243, 0.2001508334275053, 0.1713202424628785, 0.2472777609658376, 0.09037281398527248, 0.04934466530484203, 0.0532257063962341, 0.02661285319811705, 0.02550398431486217, 0.7664195956699233, 0.08869203253281789, 0.6917978537559796, 0.06385826342362888, 0.08514435123150518, 0.046119856917065306, 0.010643043903938148, 0.007095362602625431, 0.1596044907672541, 0.17881614243368282, 0.06650187115302254, 0.3325093557651127, 0.1285702842291769, 0.05172367756346198, 0.05320149692241803, 0.007389096794780283, 0.016256012948516623, 0.005911277435824226, 0.3711865803454921, 0.024370836083289885, 0.06373910975629662, 0.35431446305706066, 0.029994875179433705, 0.08061122704472808, 0.0018746796987146065, 0.022496156384575278, 0.039368273673006736, 0.013122757891002246, 0.18706508447771641, 0.34701262599674665, 0.12961266295507623, 0.12823380483853286, 0.07445833829334167, 0.08319110636478297, 0.005055813093992336, 0.027117542958686163, 0.018384774887244857, 0.5111418042559309, 0.42595150354660904, 0.15322806233113895, 0.15266883582628077, 0.025724419223475882, 0.4910008712654744, 0.03187591077691577, 0.010066077087447084, 0.003355359029149028, 0.07829171068014398, 0.05312651796152627, 0.0005592265048581713, 0.949272849016991, 0.9673901809441963, 0.9739831696652774, 0.06681433881136055, 0.05965565965300049, 0.4295207495016035, 0.004772452772240039, 0.009544905544480078, 0.34361659960128277, 0.009544905544480078, 0.0023862263861200196, 0.07635924435584063, 0.011056233500319932, 0.6099355481009828, 0.005528116750159966, 0.0866071624191728, 0.27272042634122495, 0.0036854111667733104, 0.009213527916933275, 0.14059889137183013, 0.04686629712394337, 0.026780741213681927, 0.013390370606840963, 0.6427377891283662, 0.12051333546156867, 0.8607923053487889, 0.917809989107398, 0.9404792295170992, 0.06246301599909138, 0.8744822239872793, 0.8912598270372226, 0.03804659811883774, 0.9511649529709435, 0.9180637324397805, 0.9180635667952624, 0.20909483097336534, 0.776637943615357, 0.16304362974858783, 0.8152181487429391, 0.15856183058535436, 0.8245215190438427, 0.015856183058535436, 0.9933478368173203, 0.11721057523281724, 0.23442115046563447, 0.46884230093126894, 0.16282614926797628, 0.2218905367475363, 0.5954328791858349, 0.019156017560938387, 0.8924253551604784, 0.03522731665107152, 0.058712194418452525, 0.011742438883690505, 0.9201855262791986, 0.9382633800127598, 0.03844406279739714, 0.8649914129414358, 0.09611015699349286, 0.95667368487346, 0.9461719533158062, 0.8157123460711059, 0.04539635256595541, 0.9306252276020859, 0.9637652711729784, 0.010708503013033093, 0.021417006026066186, 0.33103573848559803, 0.017003440821090107, 0.22635830593076206, 0.27736862839403237, 0.05738661277117912, 0.01540936824411291, 0.013815295667135713, 0.003188145153954395, 0.05791797029683818, 0.9493441314500134, 0.026209050965161497, 0.087363503217205, 0.09609985353892549, 0.10046802869978574, 0.12667707966494723, 0.03931357644774225, 0.5023401434989287, 0.0087363503217205, 0.013104525482580748, 0.8922486862550474, 0.897795326169395, 0.9439805119576177, 0.12828867996466625, 0.019159997657060546, 0.6506068769636646, 0.009996520516727241, 0.006664347011151494, 0.15911128489124193, 0.013328694022302988, 0.007497390387545431, 0.0049982602583636205, 0.9711576127204652, 0.23550609627973015, 0.023550609627973014, 0.07065182888391905, 0.5181134118154063, 0.11775304813986508, 0.946170859314642, 0.9436804326746207, 0.9763588702011555, 0.9456008026150731, 0.9300535710749449, 0.8941648518550709, 0.0024061044607405716, 0.009624417842962286, 0.34647904234664234, 0.2213616103881326, 0.1708334167125806, 0.016842731225184003, 0.007218313382221715, 0.0024061044607405716, 0.2213616103881326, 0.0024061044607405716, 0.09054048710777741, 0.17951993133438623, 0.09990674439478887, 0.14673803082984616, 0.14673803082984616, 0.2216680891259378, 0.02029355745519149, 0.03746502914804582, 0.05619754372206874, 0.08238622212402932, 0.0465661255483644, 0.7629680570616629, 0.10387828006942829, 0.08894135899270797, 0.6996720240759693, 0.21345926158249912, 0.9779663559652532, 0.07708653850251407, 0.8479519235276547, 0.03457456113392084, 0.9335131506158628, 0.01728728056696042, 0.9740542623998726, 0.05126611017073652, 0.05126611017073652, 0.35886277119515564, 0.05126611017073652, 0.46139499153662866, 0.9529383252960565, 0.9199728134737248, 0.19476821404891825, 0.23886667760716387, 0.19577045185706018, 0.12193893332393681, 0.09621482958162685, 0.05579123798656835, 0.026726341550451903, 0.026392262281071253, 0.04376438428886499, 0.9681628210432335, 0.053377132146811654, 0.9074112464957981, 0.015408882183105474, 0.8937151666201175, 0.030817764366210948, 0.04622664654931642, 0.4550136351377571, 0.7664206455798752, 0.6544458371695352, 0.9221421243143693, 0.19550690332602888, 0.18906162079879715, 0.06445282527231722, 0.34159997394328123, 0.03652326765431309, 0.03652326765431309, 0.10527294794478477, 0.010742137545386202, 0.019335847581695164, 0.7613591040775868, 0.06668501713706215, 0.1333700342741243, 0.2667400685482486, 0.16671254284265538, 0.3417607128274435, 0.016671254284265538, 0.9727835724757462, 0.9332564417366701, 0.023331411043416753, 0.011665705521708376, 0.011665705521708376, 0.024369191823057464, 0.9503984810992411, 0.9527097361023212, 0.9570128821078039, 0.941207910174695, 0.797395567917226, 0.08687496999984877, 0.024821419999956792, 0.2606249099995463, 0.14272316499975155, 0.12410709999978396, 0.03102677499994599, 0.2668302649995355, 0.06205354999989198, 0.9267557392941032, 0.5237694689608539, 0.009437287729024394, 0.018874575458048787, 0.009437287729024394, 0.4293965916706099, 0.004718643864512197, 0.019657683290797586, 0.7666496483411059, 0.009828841645398793, 0.009828841645398793, 0.08845957480858914, 0.09828841645398793, 0.009828841645398793, 0.04026477059866691, 0.9260897237693391, 0.9639466006339344, 0.9724298281660935, 0.11778870286627999, 0.22178750881162965, 0.11606496575116369, 0.17639576478023394, 0.14709223382325695, 0.07526985402674477, 0.09595469940814029, 0.01378989692093034, 0.03504932134069795, 0.9731710454093969, 0.13313334605007598, 0.2174511318817908, 0.1741827944155161, 0.0798800076300456, 0.09097445313421859, 0.1764016835163507, 0.077661118529211, 0.029955002861267097, 0.0199700019075114, 0.95288175731026, 0.9635416220386734, 0.26289124460883523, 0.2133982719074164, 0.11441232650457867, 0.27124720103894495, 0.03792318687511315, 0.03342382572043871, 0.015426381101740943, 0.040494250392069976, 0.010284254067827295, 0.13287960196656268, 0.27783916774826745, 0.053496982609914846, 0.022434218513835258, 0.3296104412417334, 0.07938261935664784, 0.05867410995926144, 0.027611345863181855, 0.01725709116448866, 0.8755124112056055, 0.9319139549484856, 0.07270830135777986, 0.07270830135777986, 0.7997913149355785, 0.9849076739431044, 0.7974375882171557, 0.9136781328962497, 0.13907732914202264, 0.5938381196699062, 0.24724858514137357, 0.01324545991828787, 0.0044151533060959565, 0.0044151533060959565, 0.9160233117358525, 0.9921988123588981, 0.9438780891951286, 0.10015448893434495, 0.7372483213222614, 0.03894896791891192, 0.050077244467172474, 0.055641382741302745, 0.016692414822390825, 0.0027820691370651373, 0.9559999561027939, 0.15813543457775, 0.10986251244348948, 0.3595500407241474, 0.016645835218710527, 0.04161458804677632, 0.2397000271494316, 0.006658334087484211, 0.02330416930619474, 0.04494375509051843, 0.01260756511451453, 0.857314427786988, 0.11346808603063076, 0.07158493485808555, 0.03511713785490989, 0.5888873886438737, 0.26202787476355843, 0.0027013182965315305, 0.03511713785490989, 0.0027013182965315305, 0.7664217465344508, 0.960221668995452, 0.4397517980384124, 0.49472077279321397, 0.24012128081547512, 0.07203638424464254, 0.6723395862833303, 0.8123036522739878, 0.34013954933830065, 0.5668992488971677, 0.08811523925852496, 0.15105469587175707, 0.17398264078086306, 0.30750420231036263, 0.13756766945463592, 0.014835729058833284, 0.0022478377361868614, 0.11419015699829256, 0.010340053586459562, 0.2717310469962853, 0.1268078219315998, 0.5796929002587421, 0.038904267495482196, 0.2917820062161165, 0.6354363690928759, 0.030258874718708376, 0.9224002077798626, 0.23261919618030946, 0.12803072037830987, 0.24524194325986115, 0.07303160810312041, 0.13885021787506843, 0.05860561144077564, 0.007212998331172386, 0.06672023456334457, 0.049589363526810155, 0.015900798719665182, 0.9381471244602457, 0.015900798719665182, 0.04249167056677171, 0.12747501170031514, 0.04249167056677171, 0.7648500702018908, 0.008498334113354341, 0.9325000870819674, 0.9154593492084093, 0.06401642617994383, 0.4914202127342746, 0.09696605730197372, 0.0687235163402338, 0.1044974015584377, 0.12238434416753965, 0.025418286865565926, 0.01694552457704395, 0.009414180320579973, 0.9591412358001469, 0.1112026338700747, 0.1112026338700747, 0.7561779103165079, 0.02224052677401494, 0.029231204355311975, 0.9646297437252951, 0.0829560225982812, 0.5403992329259462, 0.030812236965075877, 0.17776290556774543, 0.0829560225982812, 0.023701720742366057, 0.04503326941049551, 0.004740344148473212, 0.009480688296946423, 0.7613576992794754, 0.3522073952270181, 0.22938023947268454, 0.08684181543338944, 0.24354990564194517, 0.03023329761857096, 0.02223655532502783, 0.005611748977925005, 0.016694953209326888, 0.013327903822571886, 0.9659314782476638, 0.020551733579737528, 0.03258815021903479, 0.016294075109517393, 0.09776445065710436, 0.016294075109517393, 0.8147037554758696, 0.07060546216607737, 0.8649169115344478, 0.05295409662455803, 0.9879044293519404, 0.9326677517952254, 0.07791190503935407, 0.3108762151570266, 0.06094099503078189, 0.27076315513676513, 0.0995112450502641, 0.03857025001948221, 0.1010540550510434, 0.016199505008182527, 0.023142150011689327, 0.0007714050003896442, 0.01674915442173791, 0.7704611033999439, 0.20098985306085493, 0.2425955833856022, 0.20287860734459653, 0.0032202953546761354, 0.4240055550323578, 0.009660886064028406, 0.03649668068632954, 0.06440590709352272, 0.0010734317848920451, 0.01610147677338068, 0.21094668978036205, 0.5062720554728689, 0.08437867591214482, 0.16875735182428964, 0.09446967543264762, 0.8880149490668876, 0.6544447576518655, 0.12685477804223688, 0.024345866492954553, 0.533046340056268, 0.15120064453519144, 0.08841393621125601, 0.03459675764788279, 0.0076881683661961745, 0.015376336732392349, 0.020501782309856467, 0.8311216793822968, 0.15391142210783273, 0.09228007420995948, 0.8305206678896353, 0.9852067077109322, 0.23216217274480558, 0.07222823152060617, 0.5073173404423529, 0.09114514929981256, 0.032674676164083746, 0.01891691777920638, 0.024076077173535392, 0.006878879192438683, 0.012038038586767696, 0.16742914037984535, 0.8036598738232577, 0.011161942691989689, 0.18155772286246777, 0.09611879445660058, 0.08543892840586718, 0.28835638336980174, 0.33107584757273534, 0.9647762205356681, 0.9581073743599274, 0.961690631471223, 0.9810939342247227, 0.9784104575583414, 0.9599418848258345, 0.02252472830279937, 0.9685633170203729, 0.9466280609102734, 0.12382458393928854, 0.8667720875750198, 0.8655119608126506, 0.03328892156971733, 0.03328892156971733, 0.04993338235457599, 0.08970614657941638, 0.011213268322427047, 0.07849287825698933, 0.022426536644854094, 0.06727960993456228, 0.7288624409577581, 0.011213268322427047, 0.05362939558241959, 0.07150586077655946, 0.03575293038827973, 0.05362939558241959, 0.03575293038827973, 0.6971821425714547, 0.05362939558241959, 0.1216390480336251, 0.21268839463867584, 0.22384463868909707, 0.11876001731093574, 0.07809370835294865, 0.05973988749580404, 0.16842329727732705, 0.014755032453782926, 0.0021592730420170137, 0.8752926260021708, 0.08517845749088414, 0.14196409581814023, 0.08517845749088414, 0.028392819163628045, 0.4826779257816768, 0.028392819163628045, 0.17035691498176828, 0.13133925794666554, 0.0067353465613674635, 0.39502807582420174, 0.013133925794666554, 0.009429485185914448, 0.25021812475480126, 0.16872043136225495, 0.020542807012170764, 0.004714742592957224, 0.00033676732806837316, 0.9861464247861234, 0.1323883635983679, 0.004728155842798854, 0.8014224153544057, 0.009456311685597707, 0.002364077921399427, 0.03782524674239083, 0.009456311685597707, 0.8430418362465462, 0.9545717828619793, 0.19938807738616202, 0.18945415182243863, 0.2767307835608654, 0.08053575367732878, 0.08763141479427405, 0.09259837757613573, 0.029446993635322858, 0.020577417239141273, 0.023770464741766646, 0.599933885048661, 0.06531538264642679, 0.1838507067084606, 0.08466808861573843, 0.0024190882461639553, 0.05321994141560702, 0.0024190882461639553, 0.007257264738491866, 0.015585020998706187, 0.04675506299611856, 0.8571761549288403, 0.015585020998706187, 0.031170041997412374, 0.015585020998706187, 0.07049198078444928, 0.18111016601543123, 0.11387166126718731, 0.046633156518943376, 0.10194224913443435, 0.1073647091947766, 0.3004042873429608, 0.016267380181026758, 0.06181604468790168, 0.020435108135331736, 0.04087021627066347, 0.05108777033832934, 0.06130532440599521, 0.010217554067665868, 0.2656564057593126, 0.08174043254132694, 0.45978993304496407, 0.9665315313557934, 0.06792602043153288, 0.80540852797389, 0.009703717204504698, 0.09703717204504698, 0.009703717204504698, 0.009703717204504698, 0.026526119085390452, 0.875361929817885, 0.07957835725617136, 0.00884203969513015, 0.9188718645793711, 0.0680645825614349, 0.027857147526845618, 0.947143015912751, 0.04541999215640292, 0.9083998431280583, 0.04171952794367543, 0.9178296147608594, 0.024263445072504622, 0.9705378029001849, 0.10712169701310474, 0.8569735761048379, 0.007960104679622774, 0.21492282634981488, 0.11144146551471883, 0.007960104679622774, 0.14328188423320992, 0.5014865948162347, 0.007960104679622774, 0.06363217425558196, 0.12005098462794005, 0.13988773530680568, 0.08656036659868638, 0.21124851372298462, 0.11154952005128334, 0.22361428037993983, 0.020351990956238762, 0.023185812481790996, 0.03934868000220167, 0.12877749818902365, 0.010731458182418638, 0.021462916364837277, 0.11089173455165925, 0.03577152727472879, 0.651041796400064, 0.0035771527274728794, 0.0035771527274728794, 0.7613593425591763, 0.017253075615649243, 0.1207715293095447, 0.1207715293095447, 0.6556168733946712, 0.06901230246259697, 0.47280939231115304, 0.013824836032489855, 0.26866264689805286, 0.13317925377965226, 0.008294901619493913, 0.011059868825991883, 0.0013824836032489854, 0.014285663900239515, 0.07649742604644386, 0.18026290041039905, 0.2274975641543004, 0.1629113912799863, 0.18701070951667068, 0.10073515022934064, 0.07037000925111835, 0.011085686388874808, 0.03181110007242336, 0.023617331871950677, 0.004337877282603185, 0.16720681685287178, 0.08360340842643589, 0.08360340842643589, 0.08360340842643589, 0.08360340842643589, 0.5016204505586153, 0.7689801165123075, 0.8328286806435542, 0.9516994364470833, 0.0352481272758179, 0.579240273495701, 0.19440255754307773, 0.059510987002982976, 0.09521757920477275, 0.019836995667660992, 0.003967399133532198, 0.015869596534128793, 0.027771793934725387, 0.018490754448995964, 0.2886165585734587, 0.07155118025915828, 0.05868804672942197, 0.2717336958156798, 0.22590878261599415, 0.0080394584560852, 0.020098646140213002, 0.03778545474360044, 0.9792391512104455, 0.9163666934122917, 0.9388386546021763, 0.0681070262836807, 0.017026756570920176, 0.4208041266813129, 0.008513378285460088, 0.26269852995133985, 0.07783660146706366, 0.11067391771098115, 0.03283731624391748, 0.0012161968979228696, 0.9839492983906898, 0.9306269498557622, 0.05170149721420901, 0.3277545656538175, 0.10925152188460584, 0.10925152188460584, 0.43700608753842335, 0.3879615481899432, 0.08052032132244104, 0.08692534688218068, 0.4016866029608138, 0.019215076679218884, 0.00823503286252238, 0.006405025559739629, 0.006405025559739629, 0.0009150036513913755, 0.056716759411336394, 0.056716759411336394, 0.850751391170046, 0.9309762346678399, 0.761359455378318, 0.8882371791152407, 0.9636986562848981, 0.8846635017552846, 0.09027178589339639, 0.1674099219750018, 0.14267891077414926, 0.21496955889971822, 0.09321688837244418, 0.11414312861931941, 0.1369717543431833, 0.032340553108807166, 0.028535782154829853, 0.05897394978664836, 0.013316698338920597, 0.267930984497687, 0.1242225473580185, 0.1778087442575559, 0.1242225473580185, 0.08525076779471859, 0.0755078229038936, 0.09012224024013107, 0.029228834672474942, 0.014614417336237471, 0.009742944890824981, 0.8561593620550944, 0.12842390430826414, 0.02328702315774694, 0.051748940350548764, 0.020699576140219503, 0.007762341052582314, 0.12937235087637192, 0.5097270624529053, 0.002587447017527438, 0.13972213894648167, 0.11384766877120728, 0.06487826584189493, 0.03446657872850668, 0.15003098975938203, 0.004054891615118433, 0.1561133271820597, 0.16016821879717813, 0.4257636195874355, 0.00608233742267765, 0.054653312477267464, 0.8744529996362794, 0.9743501904906324, 0.0458452060240139, 0.9431013810654288, 0.0065493151462877, 0.975563204650735, 0.028422828542119808, 0.9166362204833639, 0.014211414271059904, 0.03552853567764976, 0.9823663052018398, 0.046326932346689616, 0.9265386469337924, 0.4531492298159897, 0.005617552435735409, 0.14792888080769911, 0.3520332859727523, 0.0018725174785784698, 0.0018725174785784698, 0.0018725174785784698, 0.020597692264363168, 0.011235104871470818, 0.06097851090306679, 0.6033663184092924, 0.17972613739851265, 0.012837581242750903, 0.06097851090306679, 0.03530334841756498, 0.012837581242750903, 0.025675162485501807, 0.009628185932063178, 0.2917094099761844, 0.08764076571652908, 0.1362590007125598, 0.2136643485351877, 0.0652507890736202, 0.08124362953284082, 0.07164792525730845, 0.025588544734753017, 0.025588544734753017, 0.0006397136183688254, 0.7526067362141161, 0.04325326070196069, 0.1989649992290192, 0.013936574694868038, 0.9755602286407626, 0.8752976784752774, 0.9408736296926337, 0.18870546873556948, 0.7548218749422779, 0.9446290295776797, 0.026896006343686944, 0.941360222029043, 0.9853390600030294, 0.008350331016974825, 0.8564378008541119, 0.9286008970570507, 0.260866580583216, 0.7304264256330048, 0.8952456068513004, 0.9649940595270876, 0.042652809274540036, 0.9170353994026108, 0.021326404637270018, 0.2457853854895376, 0.2642654896616833, 0.08131245835744101, 0.11272863545008868, 0.08131245835744101, 0.031416177092647664, 0.04620026043036421, 0.0018480104172145684, 0.13305675003944892, 0.9784019289144061, 0.1867833485852926, 0.0791454866886833, 0.08706003535755164, 0.45429509359304215, 0.053818930948304644, 0.04273856281188899, 0.017412007071510326, 0.08072839642245697, 0.9245614150645776, 0.9660957817942988, 0.9262088643952083, 0.04191887325576218, 0.9222152116267679, 0.03531727862975736, 0.6458016663727061, 0.05213503035821325, 0.16817751728455888, 0.03363550345691177, 0.0033635503456911774, 0.02522662759268383, 0.03531727862975736, 0.0016817751728455887, 0.22464842676567556, 0.060842282249037136, 0.6037426469327531, 0.05148193113380065, 0.03744140446094593, 0.018720702230472966, 0.7973990494712094, 0.17679678550875658, 0.17057259021004093, 0.27178986137725025, 0.1576796142341299, 0.09825336864401141, 0.07780244123394568, 0.002815707397038034, 0.017635220013027687, 0.02519317144718241, 0.0013337561354390688, 0.9010825070240553, 0.05006013927911419, 0.35202826018283284, 0.015837672237264466, 0.41177947816887606, 0.12094222435729227, 0.013677989659455674, 0.008638730311235162, 0.0007198941926029301, 0.04679312251919046, 0.02879576770411721, 0.039855166778967645, 0.4384068345686441, 0.02103467135556626, 0.06531818999886364, 0.1505639633872111, 0.02103467135556626, 0.2468806164363829, 0.01217796762690678, 0.005535439830412173, 0.9182426969383766, 0.16589608777366172, 0.2308119482068337, 0.01081931007219533, 0.1226188474848804, 0.06491586043317198, 0.02163862014439066, 0.3570372323824459, 0.02524505683512244, 0.9615252976978028, 0.6177841009733962, 0.005105653727052861, 0.025528268635264306, 0.061267844724634334, 0.15827526553863872, 0.1327469969033744, 0.0244189514407985, 0.8644308810042669, 0.0293027417289582, 0.017093266008558948, 0.053721693169756696, 0.0097675805763194, 0.018591907035999222, 0.02788786055399883, 0.8459317701379645, 0.02788786055399883, 0.02788786055399883, 0.02788786055399883, 0.018591907035999222, 0.1407866981719028, 0.17799461126019142, 0.23229805198363965, 0.08547763817579813, 0.0703933490859514, 0.1739721341695656, 0.04726410581485309, 0.02916295890703701, 0.04223600945157085, 0.19755795946377835, 0.003039353222519667, 0.592673878391335, 0.015196766112598334, 0.006078706445039334, 0.10029865634314901, 0.06686577089543266, 0.012157412890078668, 0.006078706445039334, 0.17217540236316278, 0.19222620871431592, 0.2074822570249759, 0.12684314452577308, 0.08935685439100853, 0.10199758013412681, 0.0810749995937931, 0.010461290270166852, 0.01743548378361142, 0.9028199102927376, 0.08463936658994416, 0.1341737919729907, 0.8452948894298415, 0.013417379197299071, 0.07526488912062962, 0.08210715176795959, 0.24290032398021377, 0.06158036382596969, 0.08210715176795959, 0.04447470720764478, 0.3763244456031481, 0.020526787941989897, 0.013684525294659931, 0.23328053875976165, 0.22550452080110292, 0.11734718010339526, 0.21631468139541535, 0.03958700051680804, 0.06715651873387078, 0.05372521498709662, 0.014138214470288585, 0.0339317147286926, 0.24023614721771075, 0.005946439287567098, 0.4662008401452605, 0.08681801359847963, 0.07135727145080517, 0.023785757150268393, 0.011892878575134196, 0.010703590717620776, 0.08443943788345279, 0.05803490605929716, 0.8705235908894574, 0.9742227581389531, 0.019459637898817505, 0.4281120337739851, 0.5448698611668901, 0.010671006078849207, 0.021342012157698414, 0.8643514923867858, 0.10671006078849207, 0.9891513030921463, 0.006340713481359912, 0.9526295457055373, 0.14875840167926094, 0.2249817149364029, 0.14691428926174943, 0.14138195200921494, 0.11372026574654245, 0.09958207054562096, 0.03872636076774148, 0.03626754421105949, 0.04917633113363998, 0.0006147041391704998, 0.9804919474881975, 0.039456613450406124, 0.11836984035121838, 0.13809814707642143, 0.11836984035121838, 0.039456613450406124, 0.5326642815804827, 0.4872458580432887, 0.003375837353648651, 0.3769685044907661, 0.07314314266238744, 0.0348836526543694, 0.023630861475540558, 0.4550139025463449, 0.9559240203121065, 0.11977097164279608, 0.8383968014995726, 0.8064675715063044, 0.9182375015598436, 0.48314154473357995, 0.005983177024564457, 0.12115933474743026, 0.36796538701071413, 0.007478971280705572, 0.0104705597929878, 0.0029915885122822287, 0.0029915885122822287, 0.9139472219905787, 0.9404080061452482, 0.9541300202703179, 0.7486022469050633, 0.9395955972759512, 0.10663679137771524, 0.7464575396440067, 0.09478825900241356, 0.04739412950120678, 0.03771971035086336, 0.02514647356724224, 0.01257323678362112, 0.7921139173681305, 0.1257323678362112, 0.9464638175336975, 0.49909262754361117, 0.09372631503166408, 0.24251684014443078, 0.03280421026108243, 0.029289473447395024, 0.08435368352849766, 0.001171578937895801, 0.01171578937895801, 0.007029473627374805, 0.9156962245502449, 0.33192383784730417, 0.10978359494691198, 0.14066023102573097, 0.08748380222332047, 0.09005685522988872, 0.11578738529557123, 0.08148001187466124, 0.006861474684181999, 0.03688042642747824, 0.9626885264472708, 0.9251539492663453, 0.9741003542857263, 0.934282717955712, 0.9144797672854946, 0.05225598670202826, 0.9590971988090682, 0.9707575916220935, 0.9442686695892254, 0.027364552080123686, 0.8072542863636487, 0.08209365624037106, 0.06841138020030922, 0.0068411380200309214, 0.06754713540176882, 0.7919319322965999, 0.05590107757387764, 0.06987634696734706, 0.01397526939346941, 0.002329211565578235, 0.9710389215581687, 0.9361642085868196, 0.037446568343472784, 0.21609945492627286, 0.20353553312823372, 0.14681840043994285, 0.18558707341674927, 0.0954858056650973, 0.08974229855742227, 0.04164042653064394, 0.009692168244201606, 0.011487014215350052, 0.12983337062855183, 0.46761124543454036, 0.14038892921623897, 0.11400003274702113, 0.029555564045523994, 0.05277779293843571, 0.001055555858768714, 0.020055561316605568, 0.04327779020951728, 0.047802356938006996, 0.6421449948672273, 0.12587953993675174, 0.11313224475328322, 0.03664847365247203, 0.007967059489667833, 0.0015934118979335666, 0.023901178469003498, 0.128616115179197, 0.18541322054754095, 0.23262492022399814, 0.16638547492036274, 0.10257814747884789, 0.11202048741413932, 0.030473006154804184, 0.012875918093579233, 0.02889928283225561, 0.0002861315131906496, 0.2773925802423019, 0.11899633108693401, 0.21501448289601, 0.07769688353153055, 0.11391049407343477, 0.10398392062540011, 0.06299084879370143, 0.013909457856196714, 0.015870262487907263, 0.00018382543422286405, 0.7122275962231125, 0.010551519944046111, 0.07913639958034584, 0.042206079776184444, 0.015827279916069165, 0.0474818397482075, 0.08441215955236889, 0.010551519944046111, 0.10431815656688485, 0.7928179899083249, 0.08345452525350788, 0.9366713515128834, 0.9663753100373599, 0.0036990230693785086, 0.858173352095814, 0.08137850752632719, 0.05178632297129912, 0.0036990230693785086, 0.618237752279288, 0.3709426513675728, 0.07125178154119752, 0.36045018897311687, 0.062869219006939, 0.23052046969210963, 0.062869219006939, 0.05448665647268046, 0.04610409393842193, 0.02095640633564633, 0.06706050027406825, 0.02095640633564633, 0.9792159942061932, 0.9617191756247638, 0.869295675627546, 0.9334719943707688, 0.6544475307147839, 0.015416003938273882, 0.11176602855248564, 0.131036033475328, 0.19270004922842351, 0.17728404529014963, 0.007708001969136941, 0.023124005907410823, 0.1580140403673073, 0.1695760433210127, 0.007708001969136941, 0.9254313931451265, 0.920720603917616, 0.897960529843676, 0.9551863539780229, 0.16339019409464722, 0.3630893202103272, 0.10473730390682515, 0.07820385358376278, 0.04887740848985173, 0.04887740848985173, 0.006982486927121677, 0.05865289018782208, 0.1270812620736145, 0.9448969993446827, 0.0430552662941496, 0.0430552662941496, 0.1291657988824488, 0.0430552662941496, 0.7319395270005432, 0.4559141744365557, 0.10154932887681982, 0.11741641151382291, 0.10683835642248753, 0.04548563689274221, 0.15020838229696265, 0.0031734165274006194, 0.011635860600468938, 0.006346833054801239, 0.9806715582650606, 0.16073888814098194, 0.2843367676127629, 0.11943685360427708, 0.21776035373270133, 0.05717557766088619, 0.03297998280169716, 0.09539537081425487, 0.015102982778347296, 0.01648999140084858, 0.0004623362075004274, 0.9423372648720074], \"Term\": [\"abiotrophia\", \"aboriginal\", \"abpa\", \"abzug\", \"ace\", \"acellular\", \"acellular\", \"acellular\", \"acellular\", \"acellular\", \"acellular\", \"acellular\", \"acellular\", \"acellular\", \"acute_lymphoblastic\", \"acv\", \"adem\", \"adem\", \"adjust\", \"adjust\", \"adjust\", \"adjust\", \"adjust\", \"adjust\", \"adjust\", \"adjust\", \"adolescent\", \"adolescent\", \"adolescent\", \"adolescent\", \"adolescent\", \"adolescent\", \"adolescent\", \"adolescent\", \"adolescent\", \"adolescente\", \"adrac\", \"adrac\", \"adrac_database\", \"adsorb\", \"adsorb\", \"adsorb\", \"adsorb\", \"adsorb\", \"adsorbed\", \"adsorbed\", \"adult\", \"adult\", \"adult\", \"adult\", \"adult\", \"adult\", \"adult\", \"adult\", \"adult\", \"adult\", \"adverse\", \"adverse\", \"adverse\", \"adverse\", \"adverse\", \"adverse\", \"adverse\", \"adverse\", \"adverse\", \"adverse_event\", \"adverse_event\", \"adverse_event\", \"adverse_event\", \"adverse_event\", \"adverse_event\", \"adverse_event\", \"adverse_event\", \"adverse_event\", \"aefi\", \"aefi\", \"aefi\", \"aefi_record\", \"aefis\", \"aefis\", \"age\", \"age\", \"age\", \"age\", \"age\", \"age\", \"age\", \"age\", \"age\", \"age\", \"aged\", \"aged\", \"aged\", \"aged\", \"aged\", \"aged\", \"aged\", \"aged\", \"aged\", \"aged\", \"agglutinin\", \"agglutinin\", \"agglutinogen\", \"agglutinogen\", \"agglutinogen\", \"agglutinogen\", \"agonist\", \"ajdc\", \"ajdc\", \"allergen\", \"allergen\", \"allergen\", \"allergen\", \"allergy\", \"allergy\", \"allergy\", \"allergy\", \"allergy\", \"allergy\", \"allergy\", \"alu_minium\", \"aluminium\", \"aluminium\", \"aluminium\", \"aluminium\", \"aluminium\", \"aluminium_chloride\", \"aluminium_salt\", \"analysis\", \"analysis\", \"analysis\", \"analysis\", \"analysis\", \"analysis\", \"analysis\", \"analysis\", \"analysis\", \"anaphylactic_reaction\", \"anaphylactic_reaction\", \"anaphylaxis\", \"anaphylaxis\", \"anaphylaxis\", \"annual_report\", \"annual_report\", \"anti\", \"anti\", \"anti\", \"anti\", \"anti\", \"anti\", \"anti\", \"antibodie\", \"antibodie\", \"antibodie\", \"antibodie\", \"antibodie\", \"antibodie\", \"antibodie\", \"antibody\", \"antibody\", \"antibody\", \"antibody\", \"antibody\", \"antibody\", \"antibody\", \"antibody\", \"antibody\", \"anticuerpos_totale\", \"antigen\", \"antigen\", \"antigen\", \"antigen\", \"antigen\", \"antigen\", \"antigen\", \"antigen\", \"antigen\", \"aortitis\", \"apdt\", \"aps\", \"arm\", \"arm\", \"arm\", \"arm\", \"arm\", \"arm\", \"arm\", \"arm\", \"arthritic\", \"article_protecte\", \"asd\", \"aspergillosis\", \"assigned_certain\", \"asthma\", \"asthma\", \"asthma\", \"asthma\", \"asthma\", \"asthma\", \"asthma\", \"asthma_exacerbation\", \"atopic\", \"atopic\", \"atopic\", \"atopic\", \"aunque\", \"aurora_limia\", \"australian\", \"australian\", \"australian\", \"australian\", \"australian\", \"australian\", \"australian\", \"australian\", \"australian\", \"australian_capital\", \"autism\", \"autism\", \"autism\", \"autistic\", \"available_pmc\", \"avidity\", \"avidity\", \"bacteremia\", \"bacteremia\", \"bacteremia\", \"bacterio\", \"baht\", \"baja_carga\", \"barkoff\", \"barko\\ufb00\", \"base\", \"base\", \"base\", \"base\", \"base\", \"base\", \"base\", \"base\", \"base\", \"basic_resident\", \"bell_palsy\", \"bell_palsy\", \"benn_c\", \"bergfor\", \"bergfor\", \"bifap\", \"bind\", \"bind\", \"bind\", \"bind\", \"bind\", \"bind\", \"bind\", \"blood_donor\", \"booster\", \"booster\", \"booster\", \"booster\", \"booster\", \"booster\", \"booster\", \"booster\", \"booster\", \"bootstrap\", \"bordetella\", \"bordetella\", \"bordetella\", \"bordetella\", \"bordetella\", \"bordetella\", \"bordetella\", \"bordetella\", \"born_prematurely\", \"brain\", \"brain\", \"brain\", \"buttock_thigh\", \"buttock_thigh\", \"bystander\", \"cada_grupo\", \"candidate_hib\", \"caretaker\", \"caretaker\", \"case\", \"case\", \"case\", \"case\", \"case\", \"case\", \"case\", \"case\", \"case\", \"case_centere\", \"case_definition\", \"case_definition\", \"case_definition\", \"case_definition\", \"case_definition\", \"case_definition\", \"causality_rate\", \"causality_rating\", \"cause\", \"cause\", \"cause\", \"cause\", \"cause\", \"cause\", \"cause\", \"cause\", \"cause\", \"ccaa\", \"cdi_vol\", \"celiac_disease\", \"cell\", \"cell\", \"cell\", \"cell\", \"cell\", \"cell\", \"cell\", \"cell\", \"cellulitis\", \"cellulitis\", \"cellulitis\", \"cellulitis\", \"centre_hospitali\", \"centre_hospitalier\", \"cep\", \"certain_probable\", \"certain_probable\", \"chamber\", \"chamber\", \"chamber\", \"chemotherapy\", \"chemotherapy\", \"chemotherapy\", \"chemotherapy\", \"child\", \"child\", \"child\", \"child\", \"child\", \"child\", \"child\", \"child\", \"child\", \"child\", \"chronic_granulomatous\", \"cic\", \"cid\", \"cid\", \"cid\", \"cid\", \"cid\", \"cid\", \"cid\", \"cid\", \"cid\", \"circulation\", \"circulation\", \"circulation\", \"circulation\", \"clinical\", \"clinical\", \"clinical\", \"clinical\", \"clinical\", \"clinical\", \"clinical\", \"clinical\", \"clinical\", \"clinical\", \"cmv\", \"cmv\", \"cohorte\", \"coincidence\", \"coli\", \"coli\", \"coli\", \"collapse\", \"collapse\", \"collapse\", \"collapse\", \"colony\", \"colony\", \"colony\", \"comparator_tdap\", \"comparator_tdap\", \"component\", \"component\", \"component\", \"component\", \"component\", \"component\", \"component\", \"component\", \"component\", \"conducting_everyday\", \"constant_dilution\", \"contact\", \"contact\", \"contact\", \"contact\", \"contact\", \"contact\", \"contact\", \"contact\", \"contact_allergy\", \"contact_allergy\", \"contact_allergy\", \"contact_dermatitis\", \"contact_dermatitis\", \"contact_dermatitis\", \"contact_dermatitis\", \"contact_dermatitis\", \"contain\", \"contain\", \"contain\", \"contain\", \"contain\", \"contain\", \"contain\", \"contain\", \"contain\", \"contain\", \"control\", \"control\", \"control\", \"control\", \"control\", \"control\", \"control\", \"control\", \"control\", \"control\", \"convalescent_phase\", \"conventional\", \"conventional\", \"conventional\", \"conventional\", \"conventional\", \"convulsion\", \"convulsion\", \"convulsion\", \"convulsion\", \"convulsion\", \"convulsion\", \"convulsion\", \"convulsion\", \"convulsion\", \"coprimary\", \"copy\", \"copy\", \"copy\", \"copy\", \"copy\", \"copy\", \"copy\", \"copy\", \"copyright_right\", \"cough\", \"cough\", \"cough\", \"cough\", \"cough\", \"cough\", \"cough\", \"cough\", \"cough\", \"coughing_spasm\", \"coughing_spasm\", \"country\", \"country\", \"country\", \"country\", \"country\", \"country\", \"country\", \"country\", \"country\", \"coverage\", \"coverage\", \"coverage\", \"coverage\", \"coverage\", \"coverage\", \"coverage\", \"coverage\", \"coverage\", \"covid\", \"covid\", \"covid\", \"cowell_jl\", \"crude\", \"crude\", \"crude\", \"crude\", \"cry\", \"cry\", \"cry\", \"cry\", \"cry\", \"crying_screame\", \"cste\", \"culture\", \"culture\", \"culture\", \"culture\", \"culture\", \"culture\", \"culture\", \"cytokine\", \"cytokine\", \"cytokine\", \"cytokine\", \"cytokine\", \"cytokine_production\", \"cytokine_production\", \"cytokine_production\", \"cytomegalovirus\", \"da_gei\", \"database\", \"database\", \"database\", \"database\", \"database\", \"database\", \"database\", \"database\", \"database\", \"date\", \"date\", \"date\", \"date\", \"date\", \"date\", \"date\", \"date\", \"date\", \"datum\", \"datum\", \"datum\", \"datum\", \"datum\", \"datum\", \"datum\", \"datum\", \"datum\", \"day\", \"day\", \"day\", \"day\", \"day\", \"day\", \"day\", \"day\", \"day\", \"daycare_center\", \"de_melker\", \"de_melker\", \"demyelinate\", \"dendritic\", \"dengue\", \"detergent\", \"dexamethasone\", \"dexamethasone\", \"de\\ufb01_ne\", \"diagnosed_asd\", \"diagnosis\", \"diagnosis\", \"diagnosis\", \"diagnosis\", \"diagnosis\", \"diagnosis\", \"diagnosis\", \"diagnosis\", \"diagnosis\", \"diameter\", \"diameter\", \"diameter\", \"diameter\", \"diphtheria\", \"diphtheria\", \"diphtheria\", \"diphtheria\", \"diphtheria\", \"diphtheria\", \"diphtheria\", \"diphtheria\", \"diphtheria\", \"diphtheria\", \"dis_intell\", \"dis_intell\", \"disc\", \"disc\", \"disease\", \"disease\", \"disease\", \"disease\", \"disease\", \"disease\", \"disease\", \"disease\", \"disease\", \"disease\", \"disorder\", \"disorder\", \"disorder\", \"disorder\", \"disorder\", \"disorder\", \"dose\", \"dose\", \"dose\", \"dose\", \"dose\", \"dose\", \"dose\", \"dose\", \"dose\", \"dosis\", \"dosis\", \"drug_resistance\", \"dtap\", \"dtap\", \"dtap\", \"dtap\", \"dtap\", \"dtap\", \"dtap\", \"dtap\", \"dtcap\", \"dtcap\", \"dtp\", \"dtp\", \"dtp\", \"dtp\", \"dtp\", \"dtp\", \"dtp\", \"dtp\", \"dtp\", \"dtpa\", \"dtpa\", \"dtpa\", \"dtpa\", \"dtpa\", \"dtpa\", \"dtwp\", \"dtwp\", \"dtwp\", \"dtwp\", \"dtwp\", \"dtwp\", \"dtwp\", \"dtwp\", \"dutch\", \"dutch\", \"dutch\", \"dutch\", \"dutch\", \"dysfunction\", \"dysfunction\", \"dysfunction\", \"effectiveness\", \"effectiveness\", \"effectiveness\", \"effectiveness\", \"effectiveness\", \"effectiveness\", \"efficacy\", \"efficacy\", \"efficacy\", \"efficacy\", \"efficacy\", \"efficacy\", \"efficacy\", \"egional\", \"elementos\", \"els\", \"els\", \"els\", \"encephalitis\", \"encephalitis\", \"encephalitis\", \"encephalitis\", \"encephalitis\", \"encephalitis\", \"encephalitis\", \"encephalitis\", \"encephalopathy\", \"encephalopathy\", \"encephalopathy\", \"encephalopathy\", \"encephalopathy\", \"encephalopathy\", \"encephalopathy\", \"encephalopathy\", \"encephalopathy_encephalitis\", \"encephalopathy_encephalitis\", \"endocarditis\", \"endocarditis\", \"endotoxin\", \"endotoxin\", \"enfermedade\", \"enfermedade\", \"enfermedade\", \"enfermedade\", \"entire_thigh\", \"entire_thigh\", \"entry\", \"entry\", \"entry\", \"entry\", \"entry\", \"entry\", \"entry\", \"entry\", \"epileptic_spike\", \"epilink\", \"epitope\", \"epitope\", \"epitope\", \"epitope\", \"epitope_speci\\ufb01c\", \"este\", \"este\", \"este\", \"estimacione\", \"estimate\", \"estimate\", \"estimate\", \"estimate\", \"estimate\", \"estimate\", \"estimate\", \"estimate\", \"estimate\", \"estudio\", \"estudio\", \"event\", \"event\", \"event\", \"event\", \"event\", \"event\", \"event\", \"event\", \"evpm\", \"examine\", \"examine\", \"examine\", \"examine\", \"examine\", \"examine\", \"examine\", \"examine\", \"examine\", \"experimental_immunology\", \"exposure\", \"exposure\", \"exposure\", \"exposure\", \"exposure\", \"exposure\", \"exposure\", \"exposure\", \"exposure\", \"exposure\", \"febrero\", \"febrile_convulsion\", \"febrile_convulsion\", \"febrile_convulsion\", \"febrile_convulsion\", \"febrile_convulsion\", \"febrile_convulsion\", \"febrile_seizure\", \"febrile_seizure\", \"febrile_seizure\", \"febrile_seizure\", \"febrile_seizure\", \"febrile_seizure\", \"feery\", \"fever\", \"fever\", \"fever\", \"fever\", \"fever\", \"fever\", \"fever\", \"fever\", \"fever\", \"fha\", \"fha\", \"fha\", \"fha_prn\", \"fha_prn\", \"fha_prn\", \"figure\", \"figure\", \"figure\", \"figure\", \"figure\", \"figure\", \"figure\", \"figure\", \"figure\", \"figure\", \"filamentous_hemagglutinin\", \"filamentous_hemagglutinin\", \"filamentous_hemagglutinin\", \"filamentous_hemagglutinin\", \"finland\", \"finland\", \"finland\", \"finland\", \"finnish\", \"finnish\", \"finnish\", \"first\", \"first\", \"first\", \"first\", \"first\", \"first\", \"first\", \"first\", \"first\", \"flucan\", \"follow\", \"follow\", \"follow\", \"follow\", \"follow\", \"follow\", \"follow\", \"follow\", \"follow\", \"food_challenge\", \"fourfold_rise\", \"freele\", \"freeze_drie\", \"freeze_drie\", \"freeze_drie\", \"frontiers_immunology\", \"fully_vaccinate\", \"fully_vaccinate\", \"fully_vaccinate\", \"fully_vaccinate\", \"fully_vaccinate\", \"gelatin\", \"gelatin\", \"generally_regarde\", \"genital\", \"gente_lidholm\", \"gente_lidholm\", \"gente_lidholm\", \"ghc\", \"ghc\", \"gladymar_pe\", \"gmc\", \"gmc\", \"gmc\", \"gmc\", \"gmc\", \"gmc\", \"gmc_gmt\", \"gmts\", \"gmts\", \"gmv\", \"gmvs\", \"gnbsi\", \"grade\", \"grade\", \"grade\", \"grade\", \"grade\", \"grade\", \"grade\", \"granuloma\", \"granuloma\", \"granuloma_due\", \"group\", \"group\", \"group\", \"group\", \"group\", \"group\", \"group\", \"group\", \"group\", \"guinea_bissau\", \"haart\", \"haart\", \"haart_treate\", \"halloran\", \"health\", \"health\", \"health\", \"health\", \"health\", \"health\", \"health\", \"health\", \"health\", \"health_agee\", \"health_agee\", \"hexahydrate\", \"hexahydrate\", \"hexahydrate_pet\", \"hhe\", \"hhe\", \"hhe\", \"hhe\", \"high\", \"high\", \"high\", \"high\", \"high\", \"high\", \"high\", \"high\", \"high\", \"high\", \"high_pitche\", \"high_pitche\", \"highly_active\", \"highly_active\", \"hiv_infecte\", \"hiv_infecte\", \"hiv_rna\", \"hiv_rna\", \"hospital\", \"hospital\", \"hospital\", \"hospital\", \"hospital\", \"hospital\", \"hospital\", \"hospital\", \"hospital\", \"hospitalisation\", \"hospitalisation\", \"hospitalisation\", \"hospitalisation\", \"hospitalisation\", \"hospitalise\", \"hospitalise\", \"hospitalise\", \"hospitalise\", \"hospitalized_outpatient\", \"house_dust\", \"household\", \"household\", \"household\", \"household\", \"hsv\", \"hsv\", \"h\\u02c6opital\", \"ifn\", \"ifn_il\", \"ige\", \"ige\", \"ige\", \"ige\", \"igg\", \"igg\", \"iha\", \"illness\", \"illness\", \"illness\", \"illness\", \"illness\", \"illness\", \"illness\", \"illness\", \"illness\", \"immigrant\", \"immigrant\", \"immigrant\", \"immune\", \"immune\", \"immune\", \"immune\", \"immune\", \"immune\", \"immune\", \"immune\", \"immune\", \"immunisation\", \"immunisation\", \"immunisation\", \"immunisation\", \"immunisation\", \"immunisation\", \"immunisation\", \"immunisation\", \"immunisation\", \"immunisation_handbook\", \"immunisation_handbook\", \"immunity\", \"immunity\", \"immunity\", \"immunity\", \"immunity\", \"immunity\", \"immunity\", \"immunity\", \"immunity\", \"immunity\", \"immunization\", \"immunization\", \"immunization\", \"immunization\", \"immunization\", \"immunization\", \"immunization\", \"immunization\", \"immunization\", \"immunization\", \"immunocompetent\", \"immunogenicity\", \"immunogenicity\", \"immunogenicity\", \"immunogenicity\", \"immunogenicity\", \"immunogenicity\", \"immunol\", \"immunol\", \"immunol\", \"immunol\", \"immunol\", \"immunol\", \"immunol\", \"immunol\", \"incidence\", \"incidence\", \"incidence\", \"incidence\", \"incidence\", \"incidence\", \"incidence\", \"incidence\", \"incidence\", \"include\", \"include\", \"include\", \"include\", \"include\", \"include\", \"include\", \"include\", \"include\", \"include\", \"increase\", \"increase\", \"increase\", \"increase\", \"increase\", \"increase\", \"increase\", \"increase\", \"increase\", \"indeter_minado\", \"index\", \"index\", \"index\", \"index\", \"index\", \"index\", \"index\", \"individual\", \"individual\", \"individual\", \"individual\", \"individual\", \"individual\", \"individual\", \"individual\", \"individual\", \"individual\", \"induce\", \"induce\", \"induce\", \"induce\", \"induce\", \"induce\", \"induce\", \"induce\", \"induce\", \"induce\", \"infant\", \"infant\", \"infant\", \"infant\", \"infant\", \"infant\", \"infant\", \"infant\", \"infant\", \"infeccion\", \"infeccion\", \"infection\", \"infection\", \"infection\", \"infection\", \"infection\", \"infection\", \"infection\", \"infection\", \"infection\", \"infection\", \"infectiousness\", \"initially_seronegative\", \"initially_seropositive\", \"injection\", \"injection\", \"injection\", \"injection\", \"injection\", \"injection\", \"injection\", \"injection\", \"injection\", \"injection_site\", \"injection_site\", \"injection_site\", \"injection_site\", \"injection_site\", \"injection_site\", \"injection_site\", \"inoculation\", \"inoculation\", \"inoculation\", \"inoculation\", \"inoculation\", \"inoculation\", \"intere\", \"intermediate_low\", \"intractable\", \"in\\ufb01ltrate\", \"in\\ufb01ltrate\", \"in\\ufb02_uenza\", \"ir\", \"ir\", \"ir_ma\", \"ir_ma_method\", \"irr\", \"irr\", \"itch\", \"itch\", \"itching\", \"itching\", \"itching\", \"itching_nodule\", \"itchy_nodule\", \"itchy_nodule\", \"itchy_nodule\", \"iu_ml\", \"iu_ml\", \"iu_ml\", \"iu_ml\", \"japanese\", \"japanese\", \"japanese\", \"japanese\", \"khairpur\", \"kimura_kuno\", \"laboratory_confirmed\", \"laboratory_confirmed\", \"laboratory_confirmed\", \"lamivudine\", \"lao_pdr\", \"leicestershire\", \"leukaemia\", \"leukaemia\", \"leukemia\", \"leukemia\", \"leukemia\", \"level\", \"level\", \"level\", \"level\", \"level\", \"level\", \"level\", \"level\", \"level\", \"library_march\", \"list\", \"list\", \"list\", \"list\", \"list\", \"list\", \"list\", \"list\", \"list\", \"listed_suspecte\", \"listed_suspected\", \"liver_transplant\", \"local\", \"local\", \"local\", \"local\", \"local\", \"local\", \"local\", \"local\", \"local\", \"loss_appetite\", \"lung\", \"lung\", \"lung\", \"lung\", \"lung\", \"lung_transplant\", \"lutx\", \"lymphocytosis_promote\", \"mab\", \"maintenance_therapy\", \"mayor\", \"measle\", \"measle\", \"measle\", \"measle\", \"measle\", \"measle\", \"measle\", \"measle\", \"measle\", \"measle\", \"medical\", \"medical\", \"medical\", \"medical\", \"medical\", \"medical\", \"medical\", \"medical\", \"medical\", \"memory\", \"memory\", \"memory\", \"memory\", \"memory_cell\", \"memory_cell\", \"memory_cell\", \"menccv\", \"menores_de\", \"menores_de\", \"mercury\", \"mercury\", \"mercury\", \"mese\", \"metal\", \"metal\", \"metal\", \"metal\", \"metal\", \"metallic_aluminium\", \"mlf\", \"month\", \"month\", \"month\", \"month\", \"month\", \"month\", \"month\", \"month\", \"month\", \"mrr\", \"mth\", \"mth\", \"mucosal\", \"mucosal\", \"mucosal\", \"mucosal\", \"mue\", \"muestral\", \"muestrale\", \"ndtpw\", \"negative\", \"negative\", \"negative\", \"negative\", \"negative\", \"negative\", \"negative\", \"negative\", \"negative\", \"negativo_indeter\", \"neurologic\", \"neurologic\", \"neurologic\", \"neurologic\", \"neurologic\", \"neurologic\", \"new_encounter\", \"nodule\", \"nodule\", \"nodule\", \"nodule\", \"non_inferiority\", \"non_inferiority\", \"nonfebrile_seizure\", \"noninferiority\", \"nonrecipient\", \"nop\", \"normal\", \"normal\", \"normal\", \"normal\", \"normal\", \"normal\", \"normal\", \"normal\", \"northern_territory\", \"notification\", \"notification\", \"notification\", \"notification\", \"notification\", \"notification\", \"notify\", \"notify\", \"notify\", \"notify\", \"notify\", \"notify\", \"notify\", \"noti\\ufb01_cation\", \"noti\\ufb01_cation\", \"np_specimen\", \"nse\", \"number\", \"number\", \"number\", \"number\", \"number\", \"number\", \"number\", \"number\", \"number\", \"nutritional_status\", \"occur\", \"occur\", \"occur\", \"occur\", \"occur\", \"occur\", \"occur\", \"occur\", \"occur\", \"october_plo\", \"ohip\", \"old\", \"old\", \"old\", \"old\", \"old\", \"old\", \"old\", \"old\", \"old\", \"onset\", \"onset\", \"onset\", \"onset\", \"onset\", \"onset\", \"onset\", \"onset\", \"onset\", \"onset_wheeze\", \"ontario\", \"op\", \"op\", \"op\", \"organic_hg\", \"original_ppaper\", \"osaka_university\", \"outbreak\", \"outbreak\", \"outbreak\", \"outbreak\", \"outbreak\", \"outbreak\", \"paciente\", \"paed\", \"paeds_network\", \"pain\", \"pain\", \"pain\", \"pain\", \"pain\", \"pain\", \"pain\", \"paise\", \"parent\", \"parent\", \"parent\", \"parent\", \"parent\", \"parent\", \"parent\", \"parent\", \"parent\", \"paroxysm\", \"paroxysm\", \"paroxysm\", \"participant\", \"participant\", \"participant\", \"participant\", \"participant\", \"participant\", \"participant\", \"participante\", \"passed_since\", \"patch\", \"patch\", \"patch_t\", \"patch_t\", \"patch_t\", \"patch_test\", \"patch_testing\", \"patch_testing\", \"patient\", \"patient\", \"patient\", \"patient\", \"patient\", \"patient\", \"patient\", \"patient\", \"patient\", \"pbmc\", \"pbmc\", \"pbmc\", \"pcr\", \"pcr\", \"pcr\", \"pcr\", \"pdt\", \"pediatric\", \"pediatric\", \"pediatric\", \"pediatric\", \"pediatric\", \"pediatric\", \"pediatric\", \"pediatric\", \"pediatric\", \"peptide\", \"peptide\", \"peptide\", \"per_cent\", \"per_cent\", \"per_cent\", \"per_cent\", \"per_cent\", \"per_milliliter\", \"percent_confidence\", \"period\", \"period\", \"period\", \"period\", \"period\", \"period\", \"period\", \"period\", \"period\", \"periscope\", \"persistent_crye\", \"persistent_crye\", \"persistent_crye\", \"persistent_crye\", \"persistent_itche\", \"persistent_itche\", \"person\", \"person\", \"person\", \"person\", \"person\", \"person\", \"person\", \"person\", \"person\", \"persona\", \"pertussis\", \"pertussis\", \"pertussis\", \"pertussis\", \"pertussis\", \"pertussis\", \"pertussis\", \"pertussis\", \"pertussis\", \"placebo\", \"placebo\", \"plain\", \"plain\", \"plain\", \"plain\", \"plain\", \"point_estimate\", \"point_estimate\", \"point_estimate\", \"point_serology\", \"polish\", \"population\", \"population\", \"population\", \"population\", \"population\", \"population\", \"population\", \"population\", \"population\", \"population\", \"por\", \"por\", \"por\", \"positive\", \"positive\", \"positive\", \"positive\", \"positive\", \"positive\", \"positive\", \"positive\", \"positive\", \"positively\", \"positively\", \"positively\", \"positively\", \"positivity\", \"positivity\", \"positivo_negativo\", \"post\", \"post\", \"post\", \"post\", \"post\", \"post\", \"post\", \"post\", \"post\", \"post_tussive\", \"post_tussive\", \"post_vaccinal\", \"post_vaccinal\", \"ppv\", \"pre\", \"pre\", \"pre\", \"pre\", \"pre\", \"pre\", \"pre\", \"pre\", \"pre\", \"preterm\", \"preterm\", \"preterm\", \"priming\", \"priming\", \"priming\", \"priming\", \"priming\", \"principal_feature\", \"probable_causality\", \"probable_definite\", \"proliferative_response\", \"prp\", \"ptdg\", \"ptna\", \"ptna\", \"ptna_titre\", \"ptx\", \"ptx\", \"purify\", \"purify\", \"purify\", \"purify\", \"quarter\", \"quarter\", \"quarter\", \"quarter\", \"quarter\", \"quarter\", \"quarter\", \"que\", \"que\", \"que\", \"que\", \"que\", \"que\", \"que\", \"rate\", \"rate\", \"rate\", \"rate\", \"rate\", \"rate\", \"rate\", \"rate\", \"rate\", \"reaccion\", \"react\", \"react\", \"react\", \"react\", \"react\", \"react\", \"react\", \"reaction\", \"reaction\", \"reaction\", \"reaction\", \"reaction\", \"reaction\", \"reaction\", \"reaction\", \"reaction\", \"reaction\", \"reaction_categorie\", \"reactogenicity\", \"reactogenicity\", \"reactogenicity\", \"reactogenicity\", \"reactogenicity\", \"reactogenicity\", \"reactogenicity\", \"reason_delay\", \"recalled_lot\", \"receive\", \"receive\", \"receive\", \"receive\", \"receive\", \"receive\", \"receive\", \"receive\", \"receive\", \"recipient\", \"recipient\", \"recipient\", \"recipient\", \"recipient\", \"recipient\", \"recipient\", \"recipient\", \"recognition\", \"recognition\", \"recognition\", \"recognition\", \"recognition\", \"recognition\", \"record\", \"record\", \"record\", \"record\", \"record\", \"record\", \"record\", \"record\", \"record\", \"recurrent\", \"recurrent\", \"recurrent\", \"recurrent\", \"recurrent\", \"recurrent\", \"recurrent\", \"recurrent\", \"recurrent_presentation\", \"redness\", \"redness\", \"redness\", \"redness\", \"redness\", \"redness\", \"redness_swelle\", \"redness_swelle\", \"redness_swelle\", \"redness_swelle\", \"redness_swelling\", \"redness_swelling\", \"reemergence\", \"reemergence\", \"ref_ref\", \"ref_ref\", \"reference_reference\", \"reference_reference\", \"referent\", \"referent\", \"reimmunization\", \"reimmunization\", \"relative_risk\", \"relative_risk\", \"relative_risk\", \"relative_risk\", \"relative_risk\", \"relative_risk\", \"relative_risk\", \"report\", \"report\", \"report\", \"report\", \"report\", \"report\", \"report\", \"report\", \"report\", \"reporting\", \"reporting\", \"reporting\", \"reporting\", \"reporting\", \"reporting\", \"reporting\", \"reporting\", \"reporting\", \"residente\", \"resistance\", \"resistance\", \"resistance\", \"resistance\", \"resistance\", \"response\", \"response\", \"response\", \"response\", \"response\", \"response\", \"response\", \"response\", \"response\", \"result\", \"result\", \"result\", \"result\", \"result\", \"result\", \"result\", \"result\", \"result\", \"result\", \"reteste\", \"reteste\", \"reteste\", \"reteste\", \"reteste\", \"reteste\", \"rev_esp\", \"reverse_causation\", \"rge\", \"rge\", \"rise\", \"rise\", \"rise\", \"rise\", \"rise\", \"rise\", \"rise\", \"rise\", \"risk\", \"risk\", \"risk\", \"risk\", \"risk\", \"risk\", \"risk\", \"risk\", \"risk\", \"rotavirus_season\", \"saefvic\", \"saes\", \"safety\", \"safety\", \"safety\", \"safety\", \"safety\", \"safety\", \"safety\", \"safety\", \"safety\", \"sage_review\", \"sakai\", \"sakai\", \"salt\", \"salt\", \"salt\", \"salt\", \"sample\", \"sample\", \"sample\", \"sample\", \"sample\", \"sample\", \"sample\", \"sample\", \"sample\", \"san_diego\", \"san_diego\", \"san_diego\", \"sar\", \"sarampion\", \"saude\", \"screening_method\", \"season\", \"season\", \"second\", \"second\", \"second\", \"second\", \"second\", \"second\", \"second\", \"second\", \"second\", \"second\", \"see\", \"see\", \"see\", \"see\", \"see\", \"see\", \"see\", \"see\", \"see\", \"see\", \"segun\", \"segun\", \"seizure\", \"seizure\", \"seizure\", \"seizure\", \"seizure\", \"seizure\", \"seizure\", \"seizure\", \"seizure\", \"serious\", \"serious\", \"serious\", \"serious\", \"serious\", \"serious\", \"serious\", \"serious\", \"serious_unexpecte\", \"serious_unexpecte\", \"serologie\", \"seroprevalence\", \"seroprevalence\", \"seroprevalence\", \"seroprotecte\", \"seroprotection\", \"seroprotection\", \"seroprotection\", \"seroprotection\", \"seroprotection_seropositivity\", \"seroprotective\", \"seroprotective\", \"serum\", \"serum\", \"serum\", \"serum\", \"serum\", \"serum\", \"serum\", \"serum\", \"serum\", \"severity\", \"severity\", \"severity\", \"severity\", \"severity\", \"severity\", \"severity\", \"severity\", \"severity\", \"show\", \"show\", \"show\", \"show\", \"show\", \"show\", \"show\", \"show\", \"show\", \"show\", \"sid\", \"sid\", \"sid\", \"siipl_tdap\", \"siipl_tdap\", \"sleepy_usual\", \"slide\", \"sly\", \"sly\", \"smartvax\", \"sms\", \"sms\", \"solicit\", \"solicit\", \"sop\", \"sop_nop\", \"soreness\", \"soreness\", \"south_australia\", \"spaendonck\", \"spasmodic_cough\", \"spasmodic_cough\", \"spasmodic_cough\", \"specific\", \"specific\", \"specific\", \"specific\", \"specific\", \"specific\", \"specific\", \"specific\", \"specific\", \"speci\\ufb01\", \"speci\\ufb01c\", \"speci\\ufb01c\", \"speci\\ufb01c\", \"speci\\ufb01c\", \"speci\\ufb01c\", \"speci\\ufb01c\", \"speci\\ufb01c\", \"speci\\ufb01c\", \"sprt\", \"sshl\", \"state_territory\", \"states_territorie\", \"states_territorie\", \"status\", \"status\", \"status\", \"status\", \"status\", \"status\", \"status\", \"status\", \"status\", \"strain\", \"strain\", \"strain\", \"strain\", \"strain\", \"strain\", \"stringent_otitis\", \"study\", \"study\", \"study\", \"study\", \"study\", \"study\", \"study\", \"study\", \"study\", \"study\", \"subcutaneous_nodule\", \"subcutaneous_nodule\", \"subject\", \"subject\", \"subject\", \"subject\", \"subject\", \"subject\", \"subject\", \"subject\", \"subject\", \"surveillance\", \"surveillance\", \"surveillance\", \"surveillance\", \"surveillance\", \"surveillance\", \"surveillance\", \"surveillance\", \"surveillance\", \"survminer\", \"suspect\", \"suspect\", \"suspect\", \"suspect\", \"suspect\", \"suspect\", \"suspect\", \"suspect\", \"suspected_involvement\", \"sweden\", \"sweden\", \"sweden\", \"sweden\", \"sweden\", \"sweden\", \"swell\", \"swell\", \"swell\", \"swell\", \"swell\", \"swell\", \"swelling\", \"swelling\", \"swelling\", \"swelling\", \"swelling\", \"swelling\", \"swelling\", \"symptom\", \"symptom\", \"symptom\", \"symptom\", \"symptom\", \"symptom\", \"symptom\", \"symptom\", \"symptom\", \"systemic\", \"systemic\", \"systemic\", \"systemic\", \"systemic\", \"systemic\", \"systemic\", \"systemic\", \"systemic\", \"table\", \"table\", \"table\", \"table\", \"table\", \"table\", \"table\", \"table\", \"table\", \"takeda\", \"takeda\", \"tenderness\", \"tenderness\", \"tenderness\", \"term\", \"term\", \"term\", \"term\", \"term\", \"term\", \"term\", \"term\", \"term\", \"test\", \"test\", \"test\", \"test\", \"test\", \"test\", \"test\", \"test\", \"test\", \"tetanus\", \"tetanus\", \"tetanus\", \"tetanus\", \"tetanus\", \"tetanus\", \"tetanus\", \"tetanus\", \"tetanus\", \"tga\", \"tga\", \"therapeutic_good\", \"thigh\", \"thigh\", \"thigh\", \"thimerosal\", \"thimerosal\", \"thimerosal\", \"thimerosal\", \"thimerosal_containe\", \"thimerosal_containe\", \"thimerosal_free\", \"time\", \"time\", \"time\", \"time\", \"time\", \"time\", \"time\", \"time\", \"time\", \"time\", \"tinnitus\", \"tissue\", \"tissue\", \"tissue\", \"tissue\", \"tissue\", \"tissue\", \"titer\", \"titer\", \"titer\", \"titer\", \"titer\", \"titer\", \"titulo\", \"tohama_strain\", \"tos_ferina\", \"tos_ferina\", \"townsend\", \"toxicology_mechanism\", \"toxin\", \"toxin\", \"toxin\", \"toxin\", \"toxin\", \"toxin\", \"toxin\", \"toxin\", \"toxin_subunit\", \"toxoplasmosis\", \"tracking_system\", \"transiently\", \"translational_immunology\", \"transplant\", \"transplant\", \"transplant\", \"transplant\", \"transplantation\", \"transplantation\", \"transplantation\", \"transplantation\", \"transplantation\", \"tree\", \"trial\", \"trial\", \"trial\", \"trial\", \"trial\", \"trial\", \"trial\", \"trial\", \"trial\", \"triplicate\", \"type\", \"type\", \"type\", \"type\", \"type\", \"type\", \"type\", \"type\", \"type\", \"typhoid\", \"uenzae_type\", \"ultrasound\", \"ultrasound_examination\", \"unimmunized\", \"unimmunized\", \"unsolicite\", \"unsolicited\", \"unvac_cinated\", \"unvaccinate\", \"unvaccinate\", \"unvaccinate\", \"unvaccinate\", \"unvaccinate\", \"unvaccinated\", \"unvaccinated\", \"unvaccinated\", \"unvaccinated\", \"unvaccinated\", \"unvaccinated\", \"unvaccinated_partially\", \"urea\", \"urea\", \"use\", \"use\", \"use\", \"use\", \"use\", \"use\", \"use\", \"use\", \"use\", \"vaccinate\", \"vaccinate\", \"vaccinate\", \"vaccinate\", \"vaccinate\", \"vaccinate\", \"vaccinate\", \"vaccinate\", \"vaccinate\", \"vaccinated\", \"vaccinated\", \"vaccinated\", \"vaccinated\", \"vaccinated\", \"vaccinated\", \"vaccinated\", \"vaccinated\", \"vaccination\", \"vaccination\", \"vaccination\", \"vaccination\", \"vaccination\", \"vaccination\", \"vaccination\", \"vaccination\", \"vaccination\", \"vaccination\", \"vaccine\", \"vaccine\", \"vaccine\", \"vaccine\", \"vaccine\", \"vaccine\", \"vaccine\", \"vaccine\", \"vaccine\", \"vaccine\", \"vaccinee\", \"vaccinee\", \"vaccinee\", \"vaccinee\", \"vaccinee\", \"vaccinee\", \"vaccinee\", \"vaccinee\", \"vacunacion\", \"vacunacion\", \"vacunacion\", \"vacunado\", \"vacunas_acelulare\", \"vaer\", \"vaer\", \"vaer\", \"vaer\", \"vaer\", \"vaers_database\", \"vaers_database\", \"variable\", \"variable\", \"variable\", \"variable\", \"variable\", \"variable\", \"variable\", \"variable\", \"variable\", \"variable\", \"vei\", \"vep\", \"vermeer\", \"versteegen\", \"vih\", \"virus\", \"virus\", \"virus\", \"virus\", \"virus\", \"virus\", \"virus\", \"virus\", \"virus\", \"virus\", \"voriconazole\", \"washington_personal\", \"wch\", \"wcpdt\", \"week\", \"week\", \"week\", \"week\", \"week\", \"week\", \"week\", \"week\", \"week\", \"weighing_session\", \"wheeze\", \"wheeze\", \"wheeze\", \"wheeze\", \"wheeze\", \"whole_cell\", \"whole_cell\", \"whole_cell\", \"whole_cell\", \"whole_cell\", \"whole_cell\", \"whole_cell\", \"whole_cell\", \"whole_cell\", \"wisconsin\", \"year\", \"year\", \"year\", \"year\", \"year\", \"year\", \"year\", \"year\", \"year\", \"year\", \"\\u03bcg_organic\"]}, \"R\": 30, \"lambda.step\": 0.01, \"plot.opts\": {\"xlab\": \"PC1\", \"ylab\": \"PC2\"}, \"topic.order\": [8, 1, 2, 10, 9, 4, 7, 3, 5, 6]};\n",
              "\n",
              "function LDAvis_load_lib(url, callback){\n",
              "  var s = document.createElement('script');\n",
              "  s.src = url;\n",
              "  s.async = true;\n",
              "  s.onreadystatechange = s.onload = callback;\n",
              "  s.onerror = function(){console.warn(\"failed to load library \" + url);};\n",
              "  document.getElementsByTagName(\"head\")[0].appendChild(s);\n",
              "}\n",
              "\n",
              "if(typeof(LDAvis) !== \"undefined\"){\n",
              "   // already loaded: just create the visualization\n",
              "   !function(LDAvis){\n",
              "       new LDAvis(\"#\" + \"ldavis_el24091337902116781447306013076\", ldavis_el24091337902116781447306013076_data);\n",
              "   }(LDAvis);\n",
              "}else if(typeof define === \"function\" && define.amd){\n",
              "   // require.js is available: use it to load d3/LDAvis\n",
              "   require.config({paths: {d3: \"https://d3js.org/d3.v5\"}});\n",
              "   require([\"d3\"], function(d3){\n",
              "      window.d3 = d3;\n",
              "      LDAvis_load_lib(\"https://cdn.jsdelivr.net/gh/bmabey/pyLDAvis@3.4.0/pyLDAvis/js/ldavis.v3.0.0.js\", function(){\n",
              "        new LDAvis(\"#\" + \"ldavis_el24091337902116781447306013076\", ldavis_el24091337902116781447306013076_data);\n",
              "      });\n",
              "    });\n",
              "}else{\n",
              "    // require.js not available: dynamically load d3 & LDAvis\n",
              "    LDAvis_load_lib(\"https://d3js.org/d3.v5.js\", function(){\n",
              "         LDAvis_load_lib(\"https://cdn.jsdelivr.net/gh/bmabey/pyLDAvis@3.4.0/pyLDAvis/js/ldavis.v3.0.0.js\", function(){\n",
              "                 new LDAvis(\"#\" + \"ldavis_el24091337902116781447306013076\", ldavis_el24091337902116781447306013076_data);\n",
              "            })\n",
              "         });\n",
              "}\n",
              "</script>"
            ]
          },
          "metadata": {},
          "execution_count": 60
        }
      ]
    }
  ],
  "metadata": {
    "colab": {
      "provenance": [],
      "mount_file_id": "1doiAWwiuzDyOANtelhGgbDm-K0vEMAG7",
      "authorship_tag": "ABX9TyNDvAB49c/ZgarYY5mhpKk8",
      "include_colab_link": true
    },
    "kernelspec": {
      "display_name": "Python 3",
      "name": "python3"
    },
    "language_info": {
      "name": "python"
    }
  },
  "nbformat": 4,
  "nbformat_minor": 0
}