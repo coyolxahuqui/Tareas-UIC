{
  "cells": [
    {
      "cell_type": "markdown",
      "metadata": {
        "id": "view-in-github",
        "colab_type": "text"
      },
      "source": [
        "<a href=\"https://colab.research.google.com/github/coyolxahuqui/Tareas-UIC/blob/main/Ejercicio_visualizacion.ipynb\" target=\"_parent\"><img src=\"https://colab.research.google.com/assets/colab-badge.svg\" alt=\"Open In Colab\"/></a>"
      ]
    },
    {
      "cell_type": "code",
      "execution_count": 1,
      "metadata": {
        "id": "Cpuys71qAo7R"
      },
      "outputs": [],
      "source": [
        "import pandas as pd\n"
      ]
    },
    {
      "cell_type": "code",
      "source": [
        "!ls /content/workshop/papers.csv"
      ],
      "metadata": {
        "colab": {
          "base_uri": "https://localhost:8080/"
        },
        "id": "z1dQIM_iF08-",
        "outputId": "dc60f7e3-c45e-4bbf-a472-49b4f33117d2"
      },
      "execution_count": 2,
      "outputs": [
        {
          "output_type": "stream",
          "name": "stdout",
          "text": [
            "/content/workshop/papers.csv\n"
          ]
        }
      ]
    },
    {
      "cell_type": "code",
      "source": [
        "papers_location = '/content/workshop/papers.csv'"
      ],
      "metadata": {
        "id": "ffAlQZN_F4vJ"
      },
      "execution_count": 4,
      "outputs": []
    },
    {
      "cell_type": "code",
      "source": [
        "papers = pd.read_csv(papers_location)"
      ],
      "metadata": {
        "id": "wycNPLc6GDBh"
      },
      "execution_count": 5,
      "outputs": []
    },
    {
      "cell_type": "code",
      "source": [
        "papers.sample(10)"
      ],
      "metadata": {
        "colab": {
          "base_uri": "https://localhost:8080/",
          "height": 835
        },
        "id": "PBFm0_QrGHC1",
        "outputId": "fd7ce4c2-b0c2-431c-d19b-257ed702a622"
      },
      "execution_count": 6,
      "outputs": [
        {
          "output_type": "execute_result",
          "data": {
            "text/plain": [
              "        id  year                                              title  \\\n",
              "1551   241  1989  TRAFFIC: Recognizing Objects Using Hierarchica...   \n",
              "1554  2412  2003  A Biologically Plausible Algorithm for Reinfor...   \n",
              "4625  5186  2013     Adaptive Step-Size for Policy Gradient Methods   \n",
              "2405  3182  2007    Random Features for Large-Scale Kernel Machines   \n",
              "465   1423  1997                 Gradients for Retinotectal Mapping   \n",
              "4988  5515  2014      Robust Logistic Regression and Classification   \n",
              "6018  6444  2016  Variational Information Maximization for Featu...   \n",
              "513    147  1988       A Network for Image Segmentation Using Color   \n",
              "2096  2903  2005  Assessing Approximations for Gaussian Process ...   \n",
              "3894  4525  2012  Patient Risk Stratification for Hospital-Assoc...   \n",
              "\n",
              "     event_type                                           pdf_name  \\\n",
              "1551        NaN  241-traffic-recognizing-objects-using-hierarch...   \n",
              "1554        NaN  2412-a-biologically-plausible-algorithm-for-re...   \n",
              "4625     Poster  5186-adaptive-step-size-for-policy-gradient-me...   \n",
              "2405        NaN  3182-random-features-for-large-scale-kernel-ma...   \n",
              "465         NaN        1423-gradients-for-retinotectal-mapping.pdf   \n",
              "4988     Poster  5515-robust-logistic-regression-and-classifica...   \n",
              "6018     Poster  6444-variational-information-maximization-for-...   \n",
              "513         NaN  147-a-network-for-image-segmentation-using-col...   \n",
              "2096        NaN  2903-assessing-approximations-for-gaussian-pro...   \n",
              "3894        NaN  4525-patient-risk-stratification-for-hospital-...   \n",
              "\n",
              "                                               abstract  \\\n",
              "1551                                   Abstract Missing   \n",
              "1554                                   Abstract Missing   \n",
              "4625  In the last decade, policy gradient methods ha...   \n",
              "2405                                   Abstract Missing   \n",
              "465                                    Abstract Missing   \n",
              "4988  We consider logistic regression with arbitrary...   \n",
              "6018  Feature selection is one of the most fundament...   \n",
              "513                                    Abstract Missing   \n",
              "2096                                   Abstract Missing   \n",
              "3894  A patient's risk for adverse events is affecte...   \n",
              "\n",
              "                                             paper_text  \n",
              "1551  266\\n\\nZemel, Mozer and Hinton\\n\\nTRAFFIC: Rec...  \n",
              "1554  A Biologically Plausible Algorithm\\nfor Reinfo...  \n",
              "4625  Adaptive Step?Size for Policy Gradient Methods...  \n",
              "2405  Random Features for Large-Scale Kernel Machine...  \n",
              "465   Gradients for retinotectal mapping\\nGeoffrey J...  \n",
              "4988  Robust Logistic Regression and Classification\\...  \n",
              "6018  Variational Information Maximization for\\nFeat...  \n",
              "513   297\\n\\nA NETWORK FOR IMAGE SEGMENTATION\\nUSING...  \n",
              "2096  Assessing Approximations for\\nGaussian Process...  \n",
              "3894  Patient Risk Stratification for Hospital-Assoc...  "
            ],
            "text/html": [
              "\n",
              "  <div id=\"df-b0694459-89bb-4782-a228-df6f5487833a\" class=\"colab-df-container\">\n",
              "    <div>\n",
              "<style scoped>\n",
              "    .dataframe tbody tr th:only-of-type {\n",
              "        vertical-align: middle;\n",
              "    }\n",
              "\n",
              "    .dataframe tbody tr th {\n",
              "        vertical-align: top;\n",
              "    }\n",
              "\n",
              "    .dataframe thead th {\n",
              "        text-align: right;\n",
              "    }\n",
              "</style>\n",
              "<table border=\"1\" class=\"dataframe\">\n",
              "  <thead>\n",
              "    <tr style=\"text-align: right;\">\n",
              "      <th></th>\n",
              "      <th>id</th>\n",
              "      <th>year</th>\n",
              "      <th>title</th>\n",
              "      <th>event_type</th>\n",
              "      <th>pdf_name</th>\n",
              "      <th>abstract</th>\n",
              "      <th>paper_text</th>\n",
              "    </tr>\n",
              "  </thead>\n",
              "  <tbody>\n",
              "    <tr>\n",
              "      <th>1551</th>\n",
              "      <td>241</td>\n",
              "      <td>1989</td>\n",
              "      <td>TRAFFIC: Recognizing Objects Using Hierarchica...</td>\n",
              "      <td>NaN</td>\n",
              "      <td>241-traffic-recognizing-objects-using-hierarch...</td>\n",
              "      <td>Abstract Missing</td>\n",
              "      <td>266\\n\\nZemel, Mozer and Hinton\\n\\nTRAFFIC: Rec...</td>\n",
              "    </tr>\n",
              "    <tr>\n",
              "      <th>1554</th>\n",
              "      <td>2412</td>\n",
              "      <td>2003</td>\n",
              "      <td>A Biologically Plausible Algorithm for Reinfor...</td>\n",
              "      <td>NaN</td>\n",
              "      <td>2412-a-biologically-plausible-algorithm-for-re...</td>\n",
              "      <td>Abstract Missing</td>\n",
              "      <td>A Biologically Plausible Algorithm\\nfor Reinfo...</td>\n",
              "    </tr>\n",
              "    <tr>\n",
              "      <th>4625</th>\n",
              "      <td>5186</td>\n",
              "      <td>2013</td>\n",
              "      <td>Adaptive Step-Size for Policy Gradient Methods</td>\n",
              "      <td>Poster</td>\n",
              "      <td>5186-adaptive-step-size-for-policy-gradient-me...</td>\n",
              "      <td>In the last decade, policy gradient methods ha...</td>\n",
              "      <td>Adaptive Step?Size for Policy Gradient Methods...</td>\n",
              "    </tr>\n",
              "    <tr>\n",
              "      <th>2405</th>\n",
              "      <td>3182</td>\n",
              "      <td>2007</td>\n",
              "      <td>Random Features for Large-Scale Kernel Machines</td>\n",
              "      <td>NaN</td>\n",
              "      <td>3182-random-features-for-large-scale-kernel-ma...</td>\n",
              "      <td>Abstract Missing</td>\n",
              "      <td>Random Features for Large-Scale Kernel Machine...</td>\n",
              "    </tr>\n",
              "    <tr>\n",
              "      <th>465</th>\n",
              "      <td>1423</td>\n",
              "      <td>1997</td>\n",
              "      <td>Gradients for Retinotectal Mapping</td>\n",
              "      <td>NaN</td>\n",
              "      <td>1423-gradients-for-retinotectal-mapping.pdf</td>\n",
              "      <td>Abstract Missing</td>\n",
              "      <td>Gradients for retinotectal mapping\\nGeoffrey J...</td>\n",
              "    </tr>\n",
              "    <tr>\n",
              "      <th>4988</th>\n",
              "      <td>5515</td>\n",
              "      <td>2014</td>\n",
              "      <td>Robust Logistic Regression and Classification</td>\n",
              "      <td>Poster</td>\n",
              "      <td>5515-robust-logistic-regression-and-classifica...</td>\n",
              "      <td>We consider logistic regression with arbitrary...</td>\n",
              "      <td>Robust Logistic Regression and Classification\\...</td>\n",
              "    </tr>\n",
              "    <tr>\n",
              "      <th>6018</th>\n",
              "      <td>6444</td>\n",
              "      <td>2016</td>\n",
              "      <td>Variational Information Maximization for Featu...</td>\n",
              "      <td>Poster</td>\n",
              "      <td>6444-variational-information-maximization-for-...</td>\n",
              "      <td>Feature selection is one of the most fundament...</td>\n",
              "      <td>Variational Information Maximization for\\nFeat...</td>\n",
              "    </tr>\n",
              "    <tr>\n",
              "      <th>513</th>\n",
              "      <td>147</td>\n",
              "      <td>1988</td>\n",
              "      <td>A Network for Image Segmentation Using Color</td>\n",
              "      <td>NaN</td>\n",
              "      <td>147-a-network-for-image-segmentation-using-col...</td>\n",
              "      <td>Abstract Missing</td>\n",
              "      <td>297\\n\\nA NETWORK FOR IMAGE SEGMENTATION\\nUSING...</td>\n",
              "    </tr>\n",
              "    <tr>\n",
              "      <th>2096</th>\n",
              "      <td>2903</td>\n",
              "      <td>2005</td>\n",
              "      <td>Assessing Approximations for Gaussian Process ...</td>\n",
              "      <td>NaN</td>\n",
              "      <td>2903-assessing-approximations-for-gaussian-pro...</td>\n",
              "      <td>Abstract Missing</td>\n",
              "      <td>Assessing Approximations for\\nGaussian Process...</td>\n",
              "    </tr>\n",
              "    <tr>\n",
              "      <th>3894</th>\n",
              "      <td>4525</td>\n",
              "      <td>2012</td>\n",
              "      <td>Patient Risk Stratification for Hospital-Assoc...</td>\n",
              "      <td>NaN</td>\n",
              "      <td>4525-patient-risk-stratification-for-hospital-...</td>\n",
              "      <td>A patient's risk for adverse events is affecte...</td>\n",
              "      <td>Patient Risk Stratification for Hospital-Assoc...</td>\n",
              "    </tr>\n",
              "  </tbody>\n",
              "</table>\n",
              "</div>\n",
              "    <div class=\"colab-df-buttons\">\n",
              "\n",
              "  <div class=\"colab-df-container\">\n",
              "    <button class=\"colab-df-convert\" onclick=\"convertToInteractive('df-b0694459-89bb-4782-a228-df6f5487833a')\"\n",
              "            title=\"Convert this dataframe to an interactive table.\"\n",
              "            style=\"display:none;\">\n",
              "\n",
              "  <svg xmlns=\"http://www.w3.org/2000/svg\" height=\"24px\" viewBox=\"0 -960 960 960\">\n",
              "    <path d=\"M120-120v-720h720v720H120Zm60-500h600v-160H180v160Zm220 220h160v-160H400v160Zm0 220h160v-160H400v160ZM180-400h160v-160H180v160Zm440 0h160v-160H620v160ZM180-180h160v-160H180v160Zm440 0h160v-160H620v160Z\"/>\n",
              "  </svg>\n",
              "    </button>\n",
              "\n",
              "  <style>\n",
              "    .colab-df-container {\n",
              "      display:flex;\n",
              "      gap: 12px;\n",
              "    }\n",
              "\n",
              "    .colab-df-convert {\n",
              "      background-color: #E8F0FE;\n",
              "      border: none;\n",
              "      border-radius: 50%;\n",
              "      cursor: pointer;\n",
              "      display: none;\n",
              "      fill: #1967D2;\n",
              "      height: 32px;\n",
              "      padding: 0 0 0 0;\n",
              "      width: 32px;\n",
              "    }\n",
              "\n",
              "    .colab-df-convert:hover {\n",
              "      background-color: #E2EBFA;\n",
              "      box-shadow: 0px 1px 2px rgba(60, 64, 67, 0.3), 0px 1px 3px 1px rgba(60, 64, 67, 0.15);\n",
              "      fill: #174EA6;\n",
              "    }\n",
              "\n",
              "    .colab-df-buttons div {\n",
              "      margin-bottom: 4px;\n",
              "    }\n",
              "\n",
              "    [theme=dark] .colab-df-convert {\n",
              "      background-color: #3B4455;\n",
              "      fill: #D2E3FC;\n",
              "    }\n",
              "\n",
              "    [theme=dark] .colab-df-convert:hover {\n",
              "      background-color: #434B5C;\n",
              "      box-shadow: 0px 1px 3px 1px rgba(0, 0, 0, 0.15);\n",
              "      filter: drop-shadow(0px 1px 2px rgba(0, 0, 0, 0.3));\n",
              "      fill: #FFFFFF;\n",
              "    }\n",
              "  </style>\n",
              "\n",
              "    <script>\n",
              "      const buttonEl =\n",
              "        document.querySelector('#df-b0694459-89bb-4782-a228-df6f5487833a button.colab-df-convert');\n",
              "      buttonEl.style.display =\n",
              "        google.colab.kernel.accessAllowed ? 'block' : 'none';\n",
              "\n",
              "      async function convertToInteractive(key) {\n",
              "        const element = document.querySelector('#df-b0694459-89bb-4782-a228-df6f5487833a');\n",
              "        const dataTable =\n",
              "          await google.colab.kernel.invokeFunction('convertToInteractive',\n",
              "                                                    [key], {});\n",
              "        if (!dataTable) return;\n",
              "\n",
              "        const docLinkHtml = 'Like what you see? Visit the ' +\n",
              "          '<a target=\"_blank\" href=https://colab.research.google.com/notebooks/data_table.ipynb>data table notebook</a>'\n",
              "          + ' to learn more about interactive tables.';\n",
              "        element.innerHTML = '';\n",
              "        dataTable['output_type'] = 'display_data';\n",
              "        await google.colab.output.renderOutput(dataTable, element);\n",
              "        const docLink = document.createElement('div');\n",
              "        docLink.innerHTML = docLinkHtml;\n",
              "        element.appendChild(docLink);\n",
              "      }\n",
              "    </script>\n",
              "  </div>\n",
              "\n",
              "\n",
              "<div id=\"df-946601fc-3844-42a4-a71e-ab261598b0c1\">\n",
              "  <button class=\"colab-df-quickchart\" onclick=\"quickchart('df-946601fc-3844-42a4-a71e-ab261598b0c1')\"\n",
              "            title=\"Suggest charts\"\n",
              "            style=\"display:none;\">\n",
              "\n",
              "<svg xmlns=\"http://www.w3.org/2000/svg\" height=\"24px\"viewBox=\"0 0 24 24\"\n",
              "     width=\"24px\">\n",
              "    <g>\n",
              "        <path d=\"M19 3H5c-1.1 0-2 .9-2 2v14c0 1.1.9 2 2 2h14c1.1 0 2-.9 2-2V5c0-1.1-.9-2-2-2zM9 17H7v-7h2v7zm4 0h-2V7h2v10zm4 0h-2v-4h2v4z\"/>\n",
              "    </g>\n",
              "</svg>\n",
              "  </button>\n",
              "\n",
              "<style>\n",
              "  .colab-df-quickchart {\n",
              "      --bg-color: #E8F0FE;\n",
              "      --fill-color: #1967D2;\n",
              "      --hover-bg-color: #E2EBFA;\n",
              "      --hover-fill-color: #174EA6;\n",
              "      --disabled-fill-color: #AAA;\n",
              "      --disabled-bg-color: #DDD;\n",
              "  }\n",
              "\n",
              "  [theme=dark] .colab-df-quickchart {\n",
              "      --bg-color: #3B4455;\n",
              "      --fill-color: #D2E3FC;\n",
              "      --hover-bg-color: #434B5C;\n",
              "      --hover-fill-color: #FFFFFF;\n",
              "      --disabled-bg-color: #3B4455;\n",
              "      --disabled-fill-color: #666;\n",
              "  }\n",
              "\n",
              "  .colab-df-quickchart {\n",
              "    background-color: var(--bg-color);\n",
              "    border: none;\n",
              "    border-radius: 50%;\n",
              "    cursor: pointer;\n",
              "    display: none;\n",
              "    fill: var(--fill-color);\n",
              "    height: 32px;\n",
              "    padding: 0;\n",
              "    width: 32px;\n",
              "  }\n",
              "\n",
              "  .colab-df-quickchart:hover {\n",
              "    background-color: var(--hover-bg-color);\n",
              "    box-shadow: 0 1px 2px rgba(60, 64, 67, 0.3), 0 1px 3px 1px rgba(60, 64, 67, 0.15);\n",
              "    fill: var(--button-hover-fill-color);\n",
              "  }\n",
              "\n",
              "  .colab-df-quickchart-complete:disabled,\n",
              "  .colab-df-quickchart-complete:disabled:hover {\n",
              "    background-color: var(--disabled-bg-color);\n",
              "    fill: var(--disabled-fill-color);\n",
              "    box-shadow: none;\n",
              "  }\n",
              "\n",
              "  .colab-df-spinner {\n",
              "    border: 2px solid var(--fill-color);\n",
              "    border-color: transparent;\n",
              "    border-bottom-color: var(--fill-color);\n",
              "    animation:\n",
              "      spin 1s steps(1) infinite;\n",
              "  }\n",
              "\n",
              "  @keyframes spin {\n",
              "    0% {\n",
              "      border-color: transparent;\n",
              "      border-bottom-color: var(--fill-color);\n",
              "      border-left-color: var(--fill-color);\n",
              "    }\n",
              "    20% {\n",
              "      border-color: transparent;\n",
              "      border-left-color: var(--fill-color);\n",
              "      border-top-color: var(--fill-color);\n",
              "    }\n",
              "    30% {\n",
              "      border-color: transparent;\n",
              "      border-left-color: var(--fill-color);\n",
              "      border-top-color: var(--fill-color);\n",
              "      border-right-color: var(--fill-color);\n",
              "    }\n",
              "    40% {\n",
              "      border-color: transparent;\n",
              "      border-right-color: var(--fill-color);\n",
              "      border-top-color: var(--fill-color);\n",
              "    }\n",
              "    60% {\n",
              "      border-color: transparent;\n",
              "      border-right-color: var(--fill-color);\n",
              "    }\n",
              "    80% {\n",
              "      border-color: transparent;\n",
              "      border-right-color: var(--fill-color);\n",
              "      border-bottom-color: var(--fill-color);\n",
              "    }\n",
              "    90% {\n",
              "      border-color: transparent;\n",
              "      border-bottom-color: var(--fill-color);\n",
              "    }\n",
              "  }\n",
              "</style>\n",
              "\n",
              "  <script>\n",
              "    async function quickchart(key) {\n",
              "      const quickchartButtonEl =\n",
              "        document.querySelector('#' + key + ' button');\n",
              "      quickchartButtonEl.disabled = true;  // To prevent multiple clicks.\n",
              "      quickchartButtonEl.classList.add('colab-df-spinner');\n",
              "      try {\n",
              "        const charts = await google.colab.kernel.invokeFunction(\n",
              "            'suggestCharts', [key], {});\n",
              "      } catch (error) {\n",
              "        console.error('Error during call to suggestCharts:', error);\n",
              "      }\n",
              "      quickchartButtonEl.classList.remove('colab-df-spinner');\n",
              "      quickchartButtonEl.classList.add('colab-df-quickchart-complete');\n",
              "    }\n",
              "    (() => {\n",
              "      let quickchartButtonEl =\n",
              "        document.querySelector('#df-946601fc-3844-42a4-a71e-ab261598b0c1 button');\n",
              "      quickchartButtonEl.style.display =\n",
              "        google.colab.kernel.accessAllowed ? 'block' : 'none';\n",
              "    })();\n",
              "  </script>\n",
              "</div>\n",
              "\n",
              "    </div>\n",
              "  </div>\n"
            ]
          },
          "metadata": {},
          "execution_count": 6
        }
      ]
    },
    {
      "cell_type": "code",
      "source": [
        "papers.columns"
      ],
      "metadata": {
        "colab": {
          "base_uri": "https://localhost:8080/"
        },
        "id": "18SAQRxnGJDe",
        "outputId": "02308ce6-d5be-41ab-ef01-537327ac9a5f"
      },
      "execution_count": 7,
      "outputs": [
        {
          "output_type": "execute_result",
          "data": {
            "text/plain": [
              "Index(['id', 'year', 'title', 'event_type', 'pdf_name', 'abstract',\n",
              "       'paper_text'],\n",
              "      dtype='object')"
            ]
          },
          "metadata": {},
          "execution_count": 7
        }
      ]
    },
    {
      "cell_type": "code",
      "source": [
        "papers = papers.drop(columns=['id', 'event_type', 'pdf_name'], axis=1)"
      ],
      "metadata": {
        "id": "CWmN7CvgGMvq"
      },
      "execution_count": 8,
      "outputs": []
    },
    {
      "cell_type": "code",
      "source": [
        "papers"
      ],
      "metadata": {
        "colab": {
          "base_uri": "https://localhost:8080/",
          "height": 589
        },
        "id": "7VNlDUkkGUKZ",
        "outputId": "58bb2930-aea1-4c1a-ace4-5e62be1bac2d"
      },
      "execution_count": 9,
      "outputs": [
        {
          "output_type": "execute_result",
          "data": {
            "text/plain": [
              "      year                                              title  \\\n",
              "0     1987  Self-Organization of Associative Database and ...   \n",
              "1     1987  A Mean Field Theory of Layer IV of Visual Cort...   \n",
              "2     1988  Storing Covariance by the Associative Long-Ter...   \n",
              "3     1994  Bayesian Query Construction for Neural Network...   \n",
              "4     1994  Neural Network Ensembles, Cross Validation, an...   \n",
              "...    ...                                                ...   \n",
              "7236  1994                Single Transistor Learning Synapses   \n",
              "7237  1994  Bias, Variance and the Combination of Least Sq...   \n",
              "7238  1994          A Real Time Clustering CMOS Neural Engine   \n",
              "7239  1994  Learning direction in global motion: two class...   \n",
              "7240  1994  Correlation and Interpolation Networks for Rea...   \n",
              "\n",
              "              abstract                                         paper_text  \n",
              "0     Abstract Missing  767\\n\\nSELF-ORGANIZATION OF ASSOCIATIVE DATABA...  \n",
              "1     Abstract Missing  683\\n\\nA MEAN FIELD THEORY OF LAYER IV OF VISU...  \n",
              "2     Abstract Missing  394\\n\\nSTORING COVARIANCE BY THE ASSOCIATIVE\\n...  \n",
              "3     Abstract Missing  Bayesian Query Construction for Neural\\nNetwor...  \n",
              "4     Abstract Missing  Neural Network Ensembles, Cross\\nValidation, a...  \n",
              "...                ...                                                ...  \n",
              "7236  Abstract Missing  Single Transistor Learning Synapses\\n\\nPaul Ha...  \n",
              "7237  Abstract Missing  Bias, Variance and the Combination of\\nLeast S...  \n",
              "7238  Abstract Missing  A Real Time Clustering CMOS\\nNeural Engine\\nT....  \n",
              "7239  Abstract Missing  Learning direction in global motion: two\\nclas...  \n",
              "7240  Abstract Missing  Correlation and Interpolation Networks for\\nRe...  \n",
              "\n",
              "[7241 rows x 4 columns]"
            ],
            "text/html": [
              "\n",
              "  <div id=\"df-b2b66eda-1fcb-49ee-ac9c-c08b9bedca02\" class=\"colab-df-container\">\n",
              "    <div>\n",
              "<style scoped>\n",
              "    .dataframe tbody tr th:only-of-type {\n",
              "        vertical-align: middle;\n",
              "    }\n",
              "\n",
              "    .dataframe tbody tr th {\n",
              "        vertical-align: top;\n",
              "    }\n",
              "\n",
              "    .dataframe thead th {\n",
              "        text-align: right;\n",
              "    }\n",
              "</style>\n",
              "<table border=\"1\" class=\"dataframe\">\n",
              "  <thead>\n",
              "    <tr style=\"text-align: right;\">\n",
              "      <th></th>\n",
              "      <th>year</th>\n",
              "      <th>title</th>\n",
              "      <th>abstract</th>\n",
              "      <th>paper_text</th>\n",
              "    </tr>\n",
              "  </thead>\n",
              "  <tbody>\n",
              "    <tr>\n",
              "      <th>0</th>\n",
              "      <td>1987</td>\n",
              "      <td>Self-Organization of Associative Database and ...</td>\n",
              "      <td>Abstract Missing</td>\n",
              "      <td>767\\n\\nSELF-ORGANIZATION OF ASSOCIATIVE DATABA...</td>\n",
              "    </tr>\n",
              "    <tr>\n",
              "      <th>1</th>\n",
              "      <td>1987</td>\n",
              "      <td>A Mean Field Theory of Layer IV of Visual Cort...</td>\n",
              "      <td>Abstract Missing</td>\n",
              "      <td>683\\n\\nA MEAN FIELD THEORY OF LAYER IV OF VISU...</td>\n",
              "    </tr>\n",
              "    <tr>\n",
              "      <th>2</th>\n",
              "      <td>1988</td>\n",
              "      <td>Storing Covariance by the Associative Long-Ter...</td>\n",
              "      <td>Abstract Missing</td>\n",
              "      <td>394\\n\\nSTORING COVARIANCE BY THE ASSOCIATIVE\\n...</td>\n",
              "    </tr>\n",
              "    <tr>\n",
              "      <th>3</th>\n",
              "      <td>1994</td>\n",
              "      <td>Bayesian Query Construction for Neural Network...</td>\n",
              "      <td>Abstract Missing</td>\n",
              "      <td>Bayesian Query Construction for Neural\\nNetwor...</td>\n",
              "    </tr>\n",
              "    <tr>\n",
              "      <th>4</th>\n",
              "      <td>1994</td>\n",
              "      <td>Neural Network Ensembles, Cross Validation, an...</td>\n",
              "      <td>Abstract Missing</td>\n",
              "      <td>Neural Network Ensembles, Cross\\nValidation, a...</td>\n",
              "    </tr>\n",
              "    <tr>\n",
              "      <th>...</th>\n",
              "      <td>...</td>\n",
              "      <td>...</td>\n",
              "      <td>...</td>\n",
              "      <td>...</td>\n",
              "    </tr>\n",
              "    <tr>\n",
              "      <th>7236</th>\n",
              "      <td>1994</td>\n",
              "      <td>Single Transistor Learning Synapses</td>\n",
              "      <td>Abstract Missing</td>\n",
              "      <td>Single Transistor Learning Synapses\\n\\nPaul Ha...</td>\n",
              "    </tr>\n",
              "    <tr>\n",
              "      <th>7237</th>\n",
              "      <td>1994</td>\n",
              "      <td>Bias, Variance and the Combination of Least Sq...</td>\n",
              "      <td>Abstract Missing</td>\n",
              "      <td>Bias, Variance and the Combination of\\nLeast S...</td>\n",
              "    </tr>\n",
              "    <tr>\n",
              "      <th>7238</th>\n",
              "      <td>1994</td>\n",
              "      <td>A Real Time Clustering CMOS Neural Engine</td>\n",
              "      <td>Abstract Missing</td>\n",
              "      <td>A Real Time Clustering CMOS\\nNeural Engine\\nT....</td>\n",
              "    </tr>\n",
              "    <tr>\n",
              "      <th>7239</th>\n",
              "      <td>1994</td>\n",
              "      <td>Learning direction in global motion: two class...</td>\n",
              "      <td>Abstract Missing</td>\n",
              "      <td>Learning direction in global motion: two\\nclas...</td>\n",
              "    </tr>\n",
              "    <tr>\n",
              "      <th>7240</th>\n",
              "      <td>1994</td>\n",
              "      <td>Correlation and Interpolation Networks for Rea...</td>\n",
              "      <td>Abstract Missing</td>\n",
              "      <td>Correlation and Interpolation Networks for\\nRe...</td>\n",
              "    </tr>\n",
              "  </tbody>\n",
              "</table>\n",
              "<p>7241 rows × 4 columns</p>\n",
              "</div>\n",
              "    <div class=\"colab-df-buttons\">\n",
              "\n",
              "  <div class=\"colab-df-container\">\n",
              "    <button class=\"colab-df-convert\" onclick=\"convertToInteractive('df-b2b66eda-1fcb-49ee-ac9c-c08b9bedca02')\"\n",
              "            title=\"Convert this dataframe to an interactive table.\"\n",
              "            style=\"display:none;\">\n",
              "\n",
              "  <svg xmlns=\"http://www.w3.org/2000/svg\" height=\"24px\" viewBox=\"0 -960 960 960\">\n",
              "    <path d=\"M120-120v-720h720v720H120Zm60-500h600v-160H180v160Zm220 220h160v-160H400v160Zm0 220h160v-160H400v160ZM180-400h160v-160H180v160Zm440 0h160v-160H620v160ZM180-180h160v-160H180v160Zm440 0h160v-160H620v160Z\"/>\n",
              "  </svg>\n",
              "    </button>\n",
              "\n",
              "  <style>\n",
              "    .colab-df-container {\n",
              "      display:flex;\n",
              "      gap: 12px;\n",
              "    }\n",
              "\n",
              "    .colab-df-convert {\n",
              "      background-color: #E8F0FE;\n",
              "      border: none;\n",
              "      border-radius: 50%;\n",
              "      cursor: pointer;\n",
              "      display: none;\n",
              "      fill: #1967D2;\n",
              "      height: 32px;\n",
              "      padding: 0 0 0 0;\n",
              "      width: 32px;\n",
              "    }\n",
              "\n",
              "    .colab-df-convert:hover {\n",
              "      background-color: #E2EBFA;\n",
              "      box-shadow: 0px 1px 2px rgba(60, 64, 67, 0.3), 0px 1px 3px 1px rgba(60, 64, 67, 0.15);\n",
              "      fill: #174EA6;\n",
              "    }\n",
              "\n",
              "    .colab-df-buttons div {\n",
              "      margin-bottom: 4px;\n",
              "    }\n",
              "\n",
              "    [theme=dark] .colab-df-convert {\n",
              "      background-color: #3B4455;\n",
              "      fill: #D2E3FC;\n",
              "    }\n",
              "\n",
              "    [theme=dark] .colab-df-convert:hover {\n",
              "      background-color: #434B5C;\n",
              "      box-shadow: 0px 1px 3px 1px rgba(0, 0, 0, 0.15);\n",
              "      filter: drop-shadow(0px 1px 2px rgba(0, 0, 0, 0.3));\n",
              "      fill: #FFFFFF;\n",
              "    }\n",
              "  </style>\n",
              "\n",
              "    <script>\n",
              "      const buttonEl =\n",
              "        document.querySelector('#df-b2b66eda-1fcb-49ee-ac9c-c08b9bedca02 button.colab-df-convert');\n",
              "      buttonEl.style.display =\n",
              "        google.colab.kernel.accessAllowed ? 'block' : 'none';\n",
              "\n",
              "      async function convertToInteractive(key) {\n",
              "        const element = document.querySelector('#df-b2b66eda-1fcb-49ee-ac9c-c08b9bedca02');\n",
              "        const dataTable =\n",
              "          await google.colab.kernel.invokeFunction('convertToInteractive',\n",
              "                                                    [key], {});\n",
              "        if (!dataTable) return;\n",
              "\n",
              "        const docLinkHtml = 'Like what you see? Visit the ' +\n",
              "          '<a target=\"_blank\" href=https://colab.research.google.com/notebooks/data_table.ipynb>data table notebook</a>'\n",
              "          + ' to learn more about interactive tables.';\n",
              "        element.innerHTML = '';\n",
              "        dataTable['output_type'] = 'display_data';\n",
              "        await google.colab.output.renderOutput(dataTable, element);\n",
              "        const docLink = document.createElement('div');\n",
              "        docLink.innerHTML = docLinkHtml;\n",
              "        element.appendChild(docLink);\n",
              "      }\n",
              "    </script>\n",
              "  </div>\n",
              "\n",
              "\n",
              "<div id=\"df-570e0b7d-df2f-43b5-aab0-8b25387bbc37\">\n",
              "  <button class=\"colab-df-quickchart\" onclick=\"quickchart('df-570e0b7d-df2f-43b5-aab0-8b25387bbc37')\"\n",
              "            title=\"Suggest charts\"\n",
              "            style=\"display:none;\">\n",
              "\n",
              "<svg xmlns=\"http://www.w3.org/2000/svg\" height=\"24px\"viewBox=\"0 0 24 24\"\n",
              "     width=\"24px\">\n",
              "    <g>\n",
              "        <path d=\"M19 3H5c-1.1 0-2 .9-2 2v14c0 1.1.9 2 2 2h14c1.1 0 2-.9 2-2V5c0-1.1-.9-2-2-2zM9 17H7v-7h2v7zm4 0h-2V7h2v10zm4 0h-2v-4h2v4z\"/>\n",
              "    </g>\n",
              "</svg>\n",
              "  </button>\n",
              "\n",
              "<style>\n",
              "  .colab-df-quickchart {\n",
              "      --bg-color: #E8F0FE;\n",
              "      --fill-color: #1967D2;\n",
              "      --hover-bg-color: #E2EBFA;\n",
              "      --hover-fill-color: #174EA6;\n",
              "      --disabled-fill-color: #AAA;\n",
              "      --disabled-bg-color: #DDD;\n",
              "  }\n",
              "\n",
              "  [theme=dark] .colab-df-quickchart {\n",
              "      --bg-color: #3B4455;\n",
              "      --fill-color: #D2E3FC;\n",
              "      --hover-bg-color: #434B5C;\n",
              "      --hover-fill-color: #FFFFFF;\n",
              "      --disabled-bg-color: #3B4455;\n",
              "      --disabled-fill-color: #666;\n",
              "  }\n",
              "\n",
              "  .colab-df-quickchart {\n",
              "    background-color: var(--bg-color);\n",
              "    border: none;\n",
              "    border-radius: 50%;\n",
              "    cursor: pointer;\n",
              "    display: none;\n",
              "    fill: var(--fill-color);\n",
              "    height: 32px;\n",
              "    padding: 0;\n",
              "    width: 32px;\n",
              "  }\n",
              "\n",
              "  .colab-df-quickchart:hover {\n",
              "    background-color: var(--hover-bg-color);\n",
              "    box-shadow: 0 1px 2px rgba(60, 64, 67, 0.3), 0 1px 3px 1px rgba(60, 64, 67, 0.15);\n",
              "    fill: var(--button-hover-fill-color);\n",
              "  }\n",
              "\n",
              "  .colab-df-quickchart-complete:disabled,\n",
              "  .colab-df-quickchart-complete:disabled:hover {\n",
              "    background-color: var(--disabled-bg-color);\n",
              "    fill: var(--disabled-fill-color);\n",
              "    box-shadow: none;\n",
              "  }\n",
              "\n",
              "  .colab-df-spinner {\n",
              "    border: 2px solid var(--fill-color);\n",
              "    border-color: transparent;\n",
              "    border-bottom-color: var(--fill-color);\n",
              "    animation:\n",
              "      spin 1s steps(1) infinite;\n",
              "  }\n",
              "\n",
              "  @keyframes spin {\n",
              "    0% {\n",
              "      border-color: transparent;\n",
              "      border-bottom-color: var(--fill-color);\n",
              "      border-left-color: var(--fill-color);\n",
              "    }\n",
              "    20% {\n",
              "      border-color: transparent;\n",
              "      border-left-color: var(--fill-color);\n",
              "      border-top-color: var(--fill-color);\n",
              "    }\n",
              "    30% {\n",
              "      border-color: transparent;\n",
              "      border-left-color: var(--fill-color);\n",
              "      border-top-color: var(--fill-color);\n",
              "      border-right-color: var(--fill-color);\n",
              "    }\n",
              "    40% {\n",
              "      border-color: transparent;\n",
              "      border-right-color: var(--fill-color);\n",
              "      border-top-color: var(--fill-color);\n",
              "    }\n",
              "    60% {\n",
              "      border-color: transparent;\n",
              "      border-right-color: var(--fill-color);\n",
              "    }\n",
              "    80% {\n",
              "      border-color: transparent;\n",
              "      border-right-color: var(--fill-color);\n",
              "      border-bottom-color: var(--fill-color);\n",
              "    }\n",
              "    90% {\n",
              "      border-color: transparent;\n",
              "      border-bottom-color: var(--fill-color);\n",
              "    }\n",
              "  }\n",
              "</style>\n",
              "\n",
              "  <script>\n",
              "    async function quickchart(key) {\n",
              "      const quickchartButtonEl =\n",
              "        document.querySelector('#' + key + ' button');\n",
              "      quickchartButtonEl.disabled = true;  // To prevent multiple clicks.\n",
              "      quickchartButtonEl.classList.add('colab-df-spinner');\n",
              "      try {\n",
              "        const charts = await google.colab.kernel.invokeFunction(\n",
              "            'suggestCharts', [key], {});\n",
              "      } catch (error) {\n",
              "        console.error('Error during call to suggestCharts:', error);\n",
              "      }\n",
              "      quickchartButtonEl.classList.remove('colab-df-spinner');\n",
              "      quickchartButtonEl.classList.add('colab-df-quickchart-complete');\n",
              "    }\n",
              "    (() => {\n",
              "      let quickchartButtonEl =\n",
              "        document.querySelector('#df-570e0b7d-df2f-43b5-aab0-8b25387bbc37 button');\n",
              "      quickchartButtonEl.style.display =\n",
              "        google.colab.kernel.accessAllowed ? 'block' : 'none';\n",
              "    })();\n",
              "  </script>\n",
              "</div>\n",
              "\n",
              "  <div id=\"id_1e37616f-bb2a-42c3-9ef4-c61521510df7\">\n",
              "    <style>\n",
              "      .colab-df-generate {\n",
              "        background-color: #E8F0FE;\n",
              "        border: none;\n",
              "        border-radius: 50%;\n",
              "        cursor: pointer;\n",
              "        display: none;\n",
              "        fill: #1967D2;\n",
              "        height: 32px;\n",
              "        padding: 0 0 0 0;\n",
              "        width: 32px;\n",
              "      }\n",
              "\n",
              "      .colab-df-generate:hover {\n",
              "        background-color: #E2EBFA;\n",
              "        box-shadow: 0px 1px 2px rgba(60, 64, 67, 0.3), 0px 1px 3px 1px rgba(60, 64, 67, 0.15);\n",
              "        fill: #174EA6;\n",
              "      }\n",
              "\n",
              "      [theme=dark] .colab-df-generate {\n",
              "        background-color: #3B4455;\n",
              "        fill: #D2E3FC;\n",
              "      }\n",
              "\n",
              "      [theme=dark] .colab-df-generate:hover {\n",
              "        background-color: #434B5C;\n",
              "        box-shadow: 0px 1px 3px 1px rgba(0, 0, 0, 0.15);\n",
              "        filter: drop-shadow(0px 1px 2px rgba(0, 0, 0, 0.3));\n",
              "        fill: #FFFFFF;\n",
              "      }\n",
              "    </style>\n",
              "    <button class=\"colab-df-generate\" onclick=\"generateWithVariable('papers')\"\n",
              "            title=\"Generate code using this dataframe.\"\n",
              "            style=\"display:none;\">\n",
              "\n",
              "  <svg xmlns=\"http://www.w3.org/2000/svg\" height=\"24px\"viewBox=\"0 0 24 24\"\n",
              "       width=\"24px\">\n",
              "    <path d=\"M7,19H8.4L18.45,9,17,7.55,7,17.6ZM5,21V16.75L18.45,3.32a2,2,0,0,1,2.83,0l1.4,1.43a1.91,1.91,0,0,1,.58,1.4,1.91,1.91,0,0,1-.58,1.4L9.25,21ZM18.45,9,17,7.55Zm-12,3A5.31,5.31,0,0,0,4.9,8.1,5.31,5.31,0,0,0,1,6.5,5.31,5.31,0,0,0,4.9,4.9,5.31,5.31,0,0,0,6.5,1,5.31,5.31,0,0,0,8.1,4.9,5.31,5.31,0,0,0,12,6.5,5.46,5.46,0,0,0,6.5,12Z\"/>\n",
              "  </svg>\n",
              "    </button>\n",
              "    <script>\n",
              "      (() => {\n",
              "      const buttonEl =\n",
              "        document.querySelector('#id_1e37616f-bb2a-42c3-9ef4-c61521510df7 button.colab-df-generate');\n",
              "      buttonEl.style.display =\n",
              "        google.colab.kernel.accessAllowed ? 'block' : 'none';\n",
              "\n",
              "      buttonEl.onclick = () => {\n",
              "        google.colab.notebook.generateWithVariable('papers');\n",
              "      }\n",
              "      })();\n",
              "    </script>\n",
              "  </div>\n",
              "\n",
              "    </div>\n",
              "  </div>\n"
            ]
          },
          "metadata": {},
          "execution_count": 9
        }
      ]
    },
    {
      "cell_type": "code",
      "source": [
        "papers = papers.sample(100)"
      ],
      "metadata": {
        "id": "DJxdToQHGXvE"
      },
      "execution_count": 10,
      "outputs": []
    },
    {
      "cell_type": "code",
      "source": [
        "papers.sample(10)"
      ],
      "metadata": {
        "colab": {
          "base_uri": "https://localhost:8080/",
          "height": 529
        },
        "id": "h5hPy4bNGan9",
        "outputId": "f714d120-4a2f-4c3a-c7d6-cb357d4281c7"
      },
      "execution_count": 11,
      "outputs": [
        {
          "output_type": "execute_result",
          "data": {
            "text/plain": [
              "      year                                              title  \\\n",
              "4748  1987    The Connectivity Analysis of Simple Association   \n",
              "2997  2009             Time-Varying Dynamic Bayesian Networks   \n",
              "1319  2002                 A Bilinear Model for Sparse Coding   \n",
              "1866  2004        Breaking SVM Complexity with Cross-Training   \n",
              "2079  2005  AER Building Blocks for Multi-Layer Multi-Chip...   \n",
              "6308  2017  Revisiting Perceptron: Efficient and Label-Opt...   \n",
              "2529  2007  Modeling homophily and stochastic equivalence ...   \n",
              "4805  2014  Learning to Discover Efficient Mathematical Id...   \n",
              "1900  2004           ??-norm Minimization for Basis Selection   \n",
              "3291  2010  Exact learning curves for Gaussian process reg...   \n",
              "\n",
              "                                               abstract  \\\n",
              "4748                                   Abstract Missing   \n",
              "2997  Directed graphical models such as Bayesian net...   \n",
              "1319                                   Abstract Missing   \n",
              "1866                                   Abstract Missing   \n",
              "2079                                   Abstract Missing   \n",
              "6308  It has been a long-standing problem to efficie...   \n",
              "2529  This article discusses a latent variable model...   \n",
              "4805  In this paper we explore how machine learning ...   \n",
              "1900                                   Abstract Missing   \n",
              "3291  We study learning curves for Gaussian process ...   \n",
              "\n",
              "                                             paper_text  \n",
              "4748  338\\n\\nThe Connectivity Analysis of Simple Ass...  \n",
              "2997  Time-Varying Dynamic Bayesian Networks\\n\\nLe S...  \n",
              "1319  A Bilinear Model for Sparse Coding\\n\\nDavid B....  \n",
              "1866  Breaking SVM Complexity\\nwith Cross-Training\\n...  \n",
              "2079  AER Building Blocks for Multi-Layer Multi-Chip...  \n",
              "6308  Revisiting Perceptron:\\nEf?cient and Label-Opt...  \n",
              "2529  Modeling homophily and stochastic equivalence ...  \n",
              "4805  Learning to Discover\\nEfficient Mathematical I...  \n",
              "1900  ?0-norm Minimization for Basis Selection\\nDavi...  \n",
              "3291  Exact learning curves for Gaussian process reg...  "
            ],
            "text/html": [
              "\n",
              "  <div id=\"df-e02fb374-01fe-43fb-88f0-7445a2783db3\" class=\"colab-df-container\">\n",
              "    <div>\n",
              "<style scoped>\n",
              "    .dataframe tbody tr th:only-of-type {\n",
              "        vertical-align: middle;\n",
              "    }\n",
              "\n",
              "    .dataframe tbody tr th {\n",
              "        vertical-align: top;\n",
              "    }\n",
              "\n",
              "    .dataframe thead th {\n",
              "        text-align: right;\n",
              "    }\n",
              "</style>\n",
              "<table border=\"1\" class=\"dataframe\">\n",
              "  <thead>\n",
              "    <tr style=\"text-align: right;\">\n",
              "      <th></th>\n",
              "      <th>year</th>\n",
              "      <th>title</th>\n",
              "      <th>abstract</th>\n",
              "      <th>paper_text</th>\n",
              "    </tr>\n",
              "  </thead>\n",
              "  <tbody>\n",
              "    <tr>\n",
              "      <th>4748</th>\n",
              "      <td>1987</td>\n",
              "      <td>The Connectivity Analysis of Simple Association</td>\n",
              "      <td>Abstract Missing</td>\n",
              "      <td>338\\n\\nThe Connectivity Analysis of Simple Ass...</td>\n",
              "    </tr>\n",
              "    <tr>\n",
              "      <th>2997</th>\n",
              "      <td>2009</td>\n",
              "      <td>Time-Varying Dynamic Bayesian Networks</td>\n",
              "      <td>Directed graphical models such as Bayesian net...</td>\n",
              "      <td>Time-Varying Dynamic Bayesian Networks\\n\\nLe S...</td>\n",
              "    </tr>\n",
              "    <tr>\n",
              "      <th>1319</th>\n",
              "      <td>2002</td>\n",
              "      <td>A Bilinear Model for Sparse Coding</td>\n",
              "      <td>Abstract Missing</td>\n",
              "      <td>A Bilinear Model for Sparse Coding\\n\\nDavid B....</td>\n",
              "    </tr>\n",
              "    <tr>\n",
              "      <th>1866</th>\n",
              "      <td>2004</td>\n",
              "      <td>Breaking SVM Complexity with Cross-Training</td>\n",
              "      <td>Abstract Missing</td>\n",
              "      <td>Breaking SVM Complexity\\nwith Cross-Training\\n...</td>\n",
              "    </tr>\n",
              "    <tr>\n",
              "      <th>2079</th>\n",
              "      <td>2005</td>\n",
              "      <td>AER Building Blocks for Multi-Layer Multi-Chip...</td>\n",
              "      <td>Abstract Missing</td>\n",
              "      <td>AER Building Blocks for Multi-Layer Multi-Chip...</td>\n",
              "    </tr>\n",
              "    <tr>\n",
              "      <th>6308</th>\n",
              "      <td>2017</td>\n",
              "      <td>Revisiting Perceptron: Efficient and Label-Opt...</td>\n",
              "      <td>It has been a long-standing problem to efficie...</td>\n",
              "      <td>Revisiting Perceptron:\\nEf?cient and Label-Opt...</td>\n",
              "    </tr>\n",
              "    <tr>\n",
              "      <th>2529</th>\n",
              "      <td>2007</td>\n",
              "      <td>Modeling homophily and stochastic equivalence ...</td>\n",
              "      <td>This article discusses a latent variable model...</td>\n",
              "      <td>Modeling homophily and stochastic equivalence ...</td>\n",
              "    </tr>\n",
              "    <tr>\n",
              "      <th>4805</th>\n",
              "      <td>2014</td>\n",
              "      <td>Learning to Discover Efficient Mathematical Id...</td>\n",
              "      <td>In this paper we explore how machine learning ...</td>\n",
              "      <td>Learning to Discover\\nEfficient Mathematical I...</td>\n",
              "    </tr>\n",
              "    <tr>\n",
              "      <th>1900</th>\n",
              "      <td>2004</td>\n",
              "      <td>??-norm Minimization for Basis Selection</td>\n",
              "      <td>Abstract Missing</td>\n",
              "      <td>?0-norm Minimization for Basis Selection\\nDavi...</td>\n",
              "    </tr>\n",
              "    <tr>\n",
              "      <th>3291</th>\n",
              "      <td>2010</td>\n",
              "      <td>Exact learning curves for Gaussian process reg...</td>\n",
              "      <td>We study learning curves for Gaussian process ...</td>\n",
              "      <td>Exact learning curves for Gaussian process reg...</td>\n",
              "    </tr>\n",
              "  </tbody>\n",
              "</table>\n",
              "</div>\n",
              "    <div class=\"colab-df-buttons\">\n",
              "\n",
              "  <div class=\"colab-df-container\">\n",
              "    <button class=\"colab-df-convert\" onclick=\"convertToInteractive('df-e02fb374-01fe-43fb-88f0-7445a2783db3')\"\n",
              "            title=\"Convert this dataframe to an interactive table.\"\n",
              "            style=\"display:none;\">\n",
              "\n",
              "  <svg xmlns=\"http://www.w3.org/2000/svg\" height=\"24px\" viewBox=\"0 -960 960 960\">\n",
              "    <path d=\"M120-120v-720h720v720H120Zm60-500h600v-160H180v160Zm220 220h160v-160H400v160Zm0 220h160v-160H400v160ZM180-400h160v-160H180v160Zm440 0h160v-160H620v160ZM180-180h160v-160H180v160Zm440 0h160v-160H620v160Z\"/>\n",
              "  </svg>\n",
              "    </button>\n",
              "\n",
              "  <style>\n",
              "    .colab-df-container {\n",
              "      display:flex;\n",
              "      gap: 12px;\n",
              "    }\n",
              "\n",
              "    .colab-df-convert {\n",
              "      background-color: #E8F0FE;\n",
              "      border: none;\n",
              "      border-radius: 50%;\n",
              "      cursor: pointer;\n",
              "      display: none;\n",
              "      fill: #1967D2;\n",
              "      height: 32px;\n",
              "      padding: 0 0 0 0;\n",
              "      width: 32px;\n",
              "    }\n",
              "\n",
              "    .colab-df-convert:hover {\n",
              "      background-color: #E2EBFA;\n",
              "      box-shadow: 0px 1px 2px rgba(60, 64, 67, 0.3), 0px 1px 3px 1px rgba(60, 64, 67, 0.15);\n",
              "      fill: #174EA6;\n",
              "    }\n",
              "\n",
              "    .colab-df-buttons div {\n",
              "      margin-bottom: 4px;\n",
              "    }\n",
              "\n",
              "    [theme=dark] .colab-df-convert {\n",
              "      background-color: #3B4455;\n",
              "      fill: #D2E3FC;\n",
              "    }\n",
              "\n",
              "    [theme=dark] .colab-df-convert:hover {\n",
              "      background-color: #434B5C;\n",
              "      box-shadow: 0px 1px 3px 1px rgba(0, 0, 0, 0.15);\n",
              "      filter: drop-shadow(0px 1px 2px rgba(0, 0, 0, 0.3));\n",
              "      fill: #FFFFFF;\n",
              "    }\n",
              "  </style>\n",
              "\n",
              "    <script>\n",
              "      const buttonEl =\n",
              "        document.querySelector('#df-e02fb374-01fe-43fb-88f0-7445a2783db3 button.colab-df-convert');\n",
              "      buttonEl.style.display =\n",
              "        google.colab.kernel.accessAllowed ? 'block' : 'none';\n",
              "\n",
              "      async function convertToInteractive(key) {\n",
              "        const element = document.querySelector('#df-e02fb374-01fe-43fb-88f0-7445a2783db3');\n",
              "        const dataTable =\n",
              "          await google.colab.kernel.invokeFunction('convertToInteractive',\n",
              "                                                    [key], {});\n",
              "        if (!dataTable) return;\n",
              "\n",
              "        const docLinkHtml = 'Like what you see? Visit the ' +\n",
              "          '<a target=\"_blank\" href=https://colab.research.google.com/notebooks/data_table.ipynb>data table notebook</a>'\n",
              "          + ' to learn more about interactive tables.';\n",
              "        element.innerHTML = '';\n",
              "        dataTable['output_type'] = 'display_data';\n",
              "        await google.colab.output.renderOutput(dataTable, element);\n",
              "        const docLink = document.createElement('div');\n",
              "        docLink.innerHTML = docLinkHtml;\n",
              "        element.appendChild(docLink);\n",
              "      }\n",
              "    </script>\n",
              "  </div>\n",
              "\n",
              "\n",
              "<div id=\"df-bd7763ca-9770-4dd5-b56d-085e2d2e753c\">\n",
              "  <button class=\"colab-df-quickchart\" onclick=\"quickchart('df-bd7763ca-9770-4dd5-b56d-085e2d2e753c')\"\n",
              "            title=\"Suggest charts\"\n",
              "            style=\"display:none;\">\n",
              "\n",
              "<svg xmlns=\"http://www.w3.org/2000/svg\" height=\"24px\"viewBox=\"0 0 24 24\"\n",
              "     width=\"24px\">\n",
              "    <g>\n",
              "        <path d=\"M19 3H5c-1.1 0-2 .9-2 2v14c0 1.1.9 2 2 2h14c1.1 0 2-.9 2-2V5c0-1.1-.9-2-2-2zM9 17H7v-7h2v7zm4 0h-2V7h2v10zm4 0h-2v-4h2v4z\"/>\n",
              "    </g>\n",
              "</svg>\n",
              "  </button>\n",
              "\n",
              "<style>\n",
              "  .colab-df-quickchart {\n",
              "      --bg-color: #E8F0FE;\n",
              "      --fill-color: #1967D2;\n",
              "      --hover-bg-color: #E2EBFA;\n",
              "      --hover-fill-color: #174EA6;\n",
              "      --disabled-fill-color: #AAA;\n",
              "      --disabled-bg-color: #DDD;\n",
              "  }\n",
              "\n",
              "  [theme=dark] .colab-df-quickchart {\n",
              "      --bg-color: #3B4455;\n",
              "      --fill-color: #D2E3FC;\n",
              "      --hover-bg-color: #434B5C;\n",
              "      --hover-fill-color: #FFFFFF;\n",
              "      --disabled-bg-color: #3B4455;\n",
              "      --disabled-fill-color: #666;\n",
              "  }\n",
              "\n",
              "  .colab-df-quickchart {\n",
              "    background-color: var(--bg-color);\n",
              "    border: none;\n",
              "    border-radius: 50%;\n",
              "    cursor: pointer;\n",
              "    display: none;\n",
              "    fill: var(--fill-color);\n",
              "    height: 32px;\n",
              "    padding: 0;\n",
              "    width: 32px;\n",
              "  }\n",
              "\n",
              "  .colab-df-quickchart:hover {\n",
              "    background-color: var(--hover-bg-color);\n",
              "    box-shadow: 0 1px 2px rgba(60, 64, 67, 0.3), 0 1px 3px 1px rgba(60, 64, 67, 0.15);\n",
              "    fill: var(--button-hover-fill-color);\n",
              "  }\n",
              "\n",
              "  .colab-df-quickchart-complete:disabled,\n",
              "  .colab-df-quickchart-complete:disabled:hover {\n",
              "    background-color: var(--disabled-bg-color);\n",
              "    fill: var(--disabled-fill-color);\n",
              "    box-shadow: none;\n",
              "  }\n",
              "\n",
              "  .colab-df-spinner {\n",
              "    border: 2px solid var(--fill-color);\n",
              "    border-color: transparent;\n",
              "    border-bottom-color: var(--fill-color);\n",
              "    animation:\n",
              "      spin 1s steps(1) infinite;\n",
              "  }\n",
              "\n",
              "  @keyframes spin {\n",
              "    0% {\n",
              "      border-color: transparent;\n",
              "      border-bottom-color: var(--fill-color);\n",
              "      border-left-color: var(--fill-color);\n",
              "    }\n",
              "    20% {\n",
              "      border-color: transparent;\n",
              "      border-left-color: var(--fill-color);\n",
              "      border-top-color: var(--fill-color);\n",
              "    }\n",
              "    30% {\n",
              "      border-color: transparent;\n",
              "      border-left-color: var(--fill-color);\n",
              "      border-top-color: var(--fill-color);\n",
              "      border-right-color: var(--fill-color);\n",
              "    }\n",
              "    40% {\n",
              "      border-color: transparent;\n",
              "      border-right-color: var(--fill-color);\n",
              "      border-top-color: var(--fill-color);\n",
              "    }\n",
              "    60% {\n",
              "      border-color: transparent;\n",
              "      border-right-color: var(--fill-color);\n",
              "    }\n",
              "    80% {\n",
              "      border-color: transparent;\n",
              "      border-right-color: var(--fill-color);\n",
              "      border-bottom-color: var(--fill-color);\n",
              "    }\n",
              "    90% {\n",
              "      border-color: transparent;\n",
              "      border-bottom-color: var(--fill-color);\n",
              "    }\n",
              "  }\n",
              "</style>\n",
              "\n",
              "  <script>\n",
              "    async function quickchart(key) {\n",
              "      const quickchartButtonEl =\n",
              "        document.querySelector('#' + key + ' button');\n",
              "      quickchartButtonEl.disabled = true;  // To prevent multiple clicks.\n",
              "      quickchartButtonEl.classList.add('colab-df-spinner');\n",
              "      try {\n",
              "        const charts = await google.colab.kernel.invokeFunction(\n",
              "            'suggestCharts', [key], {});\n",
              "      } catch (error) {\n",
              "        console.error('Error during call to suggestCharts:', error);\n",
              "      }\n",
              "      quickchartButtonEl.classList.remove('colab-df-spinner');\n",
              "      quickchartButtonEl.classList.add('colab-df-quickchart-complete');\n",
              "    }\n",
              "    (() => {\n",
              "      let quickchartButtonEl =\n",
              "        document.querySelector('#df-bd7763ca-9770-4dd5-b56d-085e2d2e753c button');\n",
              "      quickchartButtonEl.style.display =\n",
              "        google.colab.kernel.accessAllowed ? 'block' : 'none';\n",
              "    })();\n",
              "  </script>\n",
              "</div>\n",
              "\n",
              "    </div>\n",
              "  </div>\n"
            ]
          },
          "metadata": {},
          "execution_count": 11
        }
      ]
    },
    {
      "cell_type": "code",
      "source": [
        "import re"
      ],
      "metadata": {
        "id": "z7KOehgdGdqv"
      },
      "execution_count": 12,
      "outputs": []
    },
    {
      "cell_type": "code",
      "source": [
        "papers['clean_text'] = papers['paper_text'].map(lambda x: re.sub('[,\\.!?]', '', x))"
      ],
      "metadata": {
        "id": "1kXVEAEvGiln"
      },
      "execution_count": 13,
      "outputs": []
    },
    {
      "cell_type": "code",
      "source": [
        "papers['clean_text']"
      ],
      "metadata": {
        "colab": {
          "base_uri": "https://localhost:8080/"
        },
        "id": "F88AYhB6Gl0o",
        "outputId": "83ccfb7d-2c4d-4deb-cbc9-803983591b2c"
      },
      "execution_count": 14,
      "outputs": [
        {
          "output_type": "execute_result",
          "data": {
            "text/plain": [
              "4748    338\\n\\nThe Connectivity Analysis of Simple Ass...\n",
              "6489    Holographic Recurrent Networks\\n\\nTony A Plate...\n",
              "1319    A Bilinear Model for Sparse Coding\\n\\nDavid B ...\n",
              "309     Unification of Information Maximization\\nand M...\n",
              "1747    Spike-Timing Dependent Plasticity and Mutual\\n...\n",
              "                              ...                        \n",
              "4892    Fast Multivariate Spatio-temporal Analysis\\nvi...\n",
              "3241    Relaxed Clipping: A Global Training Method\\nfo...\n",
              "700     Approximate inference algorithms for two-layer...\n",
              "2137    Active Learning For Identifying Function\\nThre...\n",
              "4805    Learning to Discover\\nEfficient Mathematical I...\n",
              "Name: clean_text, Length: 100, dtype: object"
            ]
          },
          "metadata": {},
          "execution_count": 14
        }
      ]
    },
    {
      "cell_type": "code",
      "source": [
        "papers['clean_text'] = papers['clean_text'].apply(lambda x: re.sub('\\w*\\d\\w*','', x))"
      ],
      "metadata": {
        "id": "VpPZFf_qGoHw"
      },
      "execution_count": 15,
      "outputs": []
    },
    {
      "cell_type": "code",
      "source": [
        "papers['clean_text'].sample(10)"
      ],
      "metadata": {
        "colab": {
          "base_uri": "https://localhost:8080/"
        },
        "id": "UGM0cC3kGrvx",
        "outputId": "c12b8ff7-b7dd-4913-d882-361c7e157bb7"
      },
      "execution_count": 16,
      "outputs": [
        {
          "output_type": "execute_result",
          "data": {
            "text/plain": [
              "2093    Nonparametric inference of prior probabilities...\n",
              "4277    Correlations strike back (again): the case of\\...\n",
              "2018    Walk-Sum Interpretation and Analysis of\\nGauss...\n",
              "2275    Data Integration for Classification Problems\\n...\n",
              "1932    From Batch to Transductive Online Learning\\n\\n...\n",
              "4453    Refining PIn Controllers using Neural Networks...\n",
              "6842    Central and Pairwise Data Clustering by\\nCompe...\n",
              "6906    Learning Linear Dynamical Systems\\nvia Spectra...\n",
              "3975    On-line Reinforcement Learning Using Increment...\n",
              "5561    The Pareto Regret Frontier for Bandits\\nTor La...\n",
              "Name: clean_text, dtype: object"
            ]
          },
          "metadata": {},
          "execution_count": 16
        }
      ]
    },
    {
      "cell_type": "code",
      "source": [
        "from wordcloud import WordCloud\n",
        "def create_word_cloud(target_df, column_name):\n",
        "  print('Joining all words into long text....')\n",
        "  full_text = ','.join(list(target_df[column_name].values))\n",
        "  wordcloud = WordCloud(background_color=\"black\",\n",
        "                        max_words=100,  # top 100 words in the\n",
        "                        contour_width=2,\n",
        "                        contour_color='yellow')\n",
        "  print('Creating word cloud')\n",
        "  wordcloud.generate(full_text)\n",
        "  return wordcloud"
      ],
      "metadata": {
        "id": "0bVk3tqsGx6U"
      },
      "execution_count": 17,
      "outputs": []
    },
    {
      "cell_type": "code",
      "source": [
        "wordcloud = create_word_cloud(papers, 'clean_text')\n",
        "wordcloud.to_image()"
      ],
      "metadata": {
        "colab": {
          "base_uri": "https://localhost:8080/",
          "height": 251
        },
        "id": "v1fIIXXjGzWQ",
        "outputId": "0ed6f52e-5ca0-4fb7-8935-d0901e4c7004"
      },
      "execution_count": 18,
      "outputs": [
        {
          "output_type": "stream",
          "name": "stdout",
          "text": [
            "Joining all words into long text....\n",
            "Creating word cloud\n"
          ]
        },
        {
          "output_type": "execute_result",
          "data": {
            "text/plain": [
              "<PIL.Image.Image image mode=RGB size=400x200>"
            ],
            "image/png": "[encoded data removed]"
          },
          "metadata": {},
          "execution_count": 18
        }
      ]
    },
    {
      "cell_type": "code",
      "source": [
        "from sklearn.feature_extraction.text import CountVectorizer\n",
        "def create_document_term_matrix(dataframe, column_name):\n",
        "  cv = CountVectorizer(analyzer='word')\n",
        "  data = cv.fit_transform(dataframe[column_name])\n",
        "  df_dtm = pd.DataFrame(data.toarray(), columns=cv.get_feature_names_out())\n",
        "  df_dtm.index=dataframe.index\n",
        "  return df_dtm"
      ],
      "metadata": {
        "id": "7520VyPeHDiu"
      },
      "execution_count": 19,
      "outputs": []
    },
    {
      "cell_type": "code",
      "source": [
        "df_dtm = create_document_term_matrix(papers, 'clean_text')"
      ],
      "metadata": {
        "id": "vXAE0c0BHHjw"
      },
      "execution_count": 20,
      "outputs": []
    },
    {
      "cell_type": "code",
      "source": [
        "df_dtm.sample(10)"
      ],
      "metadata": {
        "colab": {
          "base_uri": "https://localhost:8080/",
          "height": 408
        },
        "id": "Kaw3lYiCHKVX",
        "outputId": "9aae3ee3-8c1d-4b7c-f175-72dae83b8cf8"
      },
      "execution_count": 21,
      "outputs": [
        {
          "output_type": "execute_result",
          "data": {
            "text/plain": [
              "      __  ___  _____  ________  ________________________  __j_  _d  \\\n",
              "1319   0    0      0         0                         0     0   0   \n",
              "6223   2    0      0         0                         0     0   0   \n",
              "4240   0    0      0         0                         0     0   0   \n",
              "2018   0    0      0         0                         0     0   0   \n",
              "2665   0    0      0         0                         0     0   0   \n",
              "3114   0    0      0         0                         0     0   0   \n",
              "3364   0    0      0         0                         0     0   0   \n",
              "2589   0    0      0         0                         0     0   0   \n",
              "5654   0    0      0         0                         0     0   0   \n",
              "6528   0    0      0         0                         0     0   0   \n",
              "\n",
              "      _d_r_t__df_t_  _df_t  _dr_t  ...  zpj  zr  zt  ztijk  zuben  zucker  \\\n",
              "1319              0      0      0  ...    0   0   0      0      0       0   \n",
              "6223              0      0      0  ...    0   0   0      0      0       0   \n",
              "4240              0      0      0  ...    0   0   3      0      0       0   \n",
              "2018              0      0      0  ...    0   0   0      0      0       0   \n",
              "2665              0      0      0  ...    0   3   0      0      0       0   \n",
              "3114              0      0      0  ...    0   0   0      0      0       0   \n",
              "3364              0      0      0  ...    0   0   5      0      0       0   \n",
              "2589              0      0      0  ...    0   0   0      0      0       0   \n",
              "5654              0      0      0  ...    0   0   0      0      0       0   \n",
              "6528              0      0      0  ...    0   0   0      0      0       0   \n",
              "\n",
              "      zui  zur  zurich  zvi  \n",
              "1319    0    0       0    0  \n",
              "6223    0    0       0    0  \n",
              "4240    0    0       0    0  \n",
              "2018    0    0       0    0  \n",
              "2665    0    0       0    0  \n",
              "3114    0    0       0    0  \n",
              "3364    0    0       0    0  \n",
              "2589    0    0       0    0  \n",
              "5654    0    0       0    0  \n",
              "6528    0    0       0    0  \n",
              "\n",
              "[10 rows x 16452 columns]"
            ],
            "text/html": [
              "\n",
              "  <div id=\"df-380030a8-0a5d-4f28-a56a-29df4f40967b\" class=\"colab-df-container\">\n",
              "    <div>\n",
              "<style scoped>\n",
              "    .dataframe tbody tr th:only-of-type {\n",
              "        vertical-align: middle;\n",
              "    }\n",
              "\n",
              "    .dataframe tbody tr th {\n",
              "        vertical-align: top;\n",
              "    }\n",
              "\n",
              "    .dataframe thead th {\n",
              "        text-align: right;\n",
              "    }\n",
              "</style>\n",
              "<table border=\"1\" class=\"dataframe\">\n",
              "  <thead>\n",
              "    <tr style=\"text-align: right;\">\n",
              "      <th></th>\n",
              "      <th>__</th>\n",
              "      <th>___</th>\n",
              "      <th>_____</th>\n",
              "      <th>________</th>\n",
              "      <th>________________________</th>\n",
              "      <th>__j_</th>\n",
              "      <th>_d</th>\n",
              "      <th>_d_r_t__df_t_</th>\n",
              "      <th>_df_t</th>\n",
              "      <th>_dr_t</th>\n",
              "      <th>...</th>\n",
              "      <th>zpj</th>\n",
              "      <th>zr</th>\n",
              "      <th>zt</th>\n",
              "      <th>ztijk</th>\n",
              "      <th>zuben</th>\n",
              "      <th>zucker</th>\n",
              "      <th>zui</th>\n",
              "      <th>zur</th>\n",
              "      <th>zurich</th>\n",
              "      <th>zvi</th>\n",
              "    </tr>\n",
              "  </thead>\n",
              "  <tbody>\n",
              "    <tr>\n",
              "      <th>1319</th>\n",
              "      <td>0</td>\n",
              "      <td>0</td>\n",
              "      <td>0</td>\n",
              "      <td>0</td>\n",
              "      <td>0</td>\n",
              "      <td>0</td>\n",
              "      <td>0</td>\n",
              "      <td>0</td>\n",
              "      <td>0</td>\n",
              "      <td>0</td>\n",
              "      <td>...</td>\n",
              "      <td>0</td>\n",
              "      <td>0</td>\n",
              "      <td>0</td>\n",
              "      <td>0</td>\n",
              "      <td>0</td>\n",
              "      <td>0</td>\n",
              "      <td>0</td>\n",
              "      <td>0</td>\n",
              "      <td>0</td>\n",
              "      <td>0</td>\n",
              "    </tr>\n",
              "    <tr>\n",
              "      <th>6223</th>\n",
              "      <td>2</td>\n",
              "      <td>0</td>\n",
              "      <td>0</td>\n",
              "      <td>0</td>\n",
              "      <td>0</td>\n",
              "      <td>0</td>\n",
              "      <td>0</td>\n",
              "      <td>0</td>\n",
              "      <td>0</td>\n",
              "      <td>0</td>\n",
              "      <td>...</td>\n",
              "      <td>0</td>\n",
              "      <td>0</td>\n",
              "      <td>0</td>\n",
              "      <td>0</td>\n",
              "      <td>0</td>\n",
              "      <td>0</td>\n",
              "      <td>0</td>\n",
              "      <td>0</td>\n",
              "      <td>0</td>\n",
              "      <td>0</td>\n",
              "    </tr>\n",
              "    <tr>\n",
              "      <th>4240</th>\n",
              "      <td>0</td>\n",
              "      <td>0</td>\n",
              "      <td>0</td>\n",
              "      <td>0</td>\n",
              "      <td>0</td>\n",
              "      <td>0</td>\n",
              "      <td>0</td>\n",
              "      <td>0</td>\n",
              "      <td>0</td>\n",
              "      <td>0</td>\n",
              "      <td>...</td>\n",
              "      <td>0</td>\n",
              "      <td>0</td>\n",
              "      <td>3</td>\n",
              "      <td>0</td>\n",
              "      <td>0</td>\n",
              "      <td>0</td>\n",
              "      <td>0</td>\n",
              "      <td>0</td>\n",
              "      <td>0</td>\n",
              "      <td>0</td>\n",
              "    </tr>\n",
              "    <tr>\n",
              "      <th>2018</th>\n",
              "      <td>0</td>\n",
              "      <td>0</td>\n",
              "      <td>0</td>\n",
              "      <td>0</td>\n",
              "      <td>0</td>\n",
              "      <td>0</td>\n",
              "      <td>0</td>\n",
              "      <td>0</td>\n",
              "      <td>0</td>\n",
              "      <td>0</td>\n",
              "      <td>...</td>\n",
              "      <td>0</td>\n",
              "      <td>0</td>\n",
              "      <td>0</td>\n",
              "      <td>0</td>\n",
              "      <td>0</td>\n",
              "      <td>0</td>\n",
              "      <td>0</td>\n",
              "      <td>0</td>\n",
              "      <td>0</td>\n",
              "      <td>0</td>\n",
              "    </tr>\n",
              "    <tr>\n",
              "      <th>2665</th>\n",
              "      <td>0</td>\n",
              "      <td>0</td>\n",
              "      <td>0</td>\n",
              "      <td>0</td>\n",
              "      <td>0</td>\n",
              "      <td>0</td>\n",
              "      <td>0</td>\n",
              "      <td>0</td>\n",
              "      <td>0</td>\n",
              "      <td>0</td>\n",
              "      <td>...</td>\n",
              "      <td>0</td>\n",
              "      <td>3</td>\n",
              "      <td>0</td>\n",
              "      <td>0</td>\n",
              "      <td>0</td>\n",
              "      <td>0</td>\n",
              "      <td>0</td>\n",
              "      <td>0</td>\n",
              "      <td>0</td>\n",
              "      <td>0</td>\n",
              "    </tr>\n",
              "    <tr>\n",
              "      <th>3114</th>\n",
              "      <td>0</td>\n",
              "      <td>0</td>\n",
              "      <td>0</td>\n",
              "      <td>0</td>\n",
              "      <td>0</td>\n",
              "      <td>0</td>\n",
              "      <td>0</td>\n",
              "      <td>0</td>\n",
              "      <td>0</td>\n",
              "      <td>0</td>\n",
              "      <td>...</td>\n",
              "      <td>0</td>\n",
              "      <td>0</td>\n",
              "      <td>0</td>\n",
              "      <td>0</td>\n",
              "      <td>0</td>\n",
              "      <td>0</td>\n",
              "      <td>0</td>\n",
              "      <td>0</td>\n",
              "      <td>0</td>\n",
              "      <td>0</td>\n",
              "    </tr>\n",
              "    <tr>\n",
              "      <th>3364</th>\n",
              "      <td>0</td>\n",
              "      <td>0</td>\n",
              "      <td>0</td>\n",
              "      <td>0</td>\n",
              "      <td>0</td>\n",
              "      <td>0</td>\n",
              "      <td>0</td>\n",
              "      <td>0</td>\n",
              "      <td>0</td>\n",
              "      <td>0</td>\n",
              "      <td>...</td>\n",
              "      <td>0</td>\n",
              "      <td>0</td>\n",
              "      <td>5</td>\n",
              "      <td>0</td>\n",
              "      <td>0</td>\n",
              "      <td>0</td>\n",
              "      <td>0</td>\n",
              "      <td>0</td>\n",
              "      <td>0</td>\n",
              "      <td>0</td>\n",
              "    </tr>\n",
              "    <tr>\n",
              "      <th>2589</th>\n",
              "      <td>0</td>\n",
              "      <td>0</td>\n",
              "      <td>0</td>\n",
              "      <td>0</td>\n",
              "      <td>0</td>\n",
              "      <td>0</td>\n",
              "      <td>0</td>\n",
              "      <td>0</td>\n",
              "      <td>0</td>\n",
              "      <td>0</td>\n",
              "      <td>...</td>\n",
              "      <td>0</td>\n",
              "      <td>0</td>\n",
              "      <td>0</td>\n",
              "      <td>0</td>\n",
              "      <td>0</td>\n",
              "      <td>0</td>\n",
              "      <td>0</td>\n",
              "      <td>0</td>\n",
              "      <td>0</td>\n",
              "      <td>0</td>\n",
              "    </tr>\n",
              "    <tr>\n",
              "      <th>5654</th>\n",
              "      <td>0</td>\n",
              "      <td>0</td>\n",
              "      <td>0</td>\n",
              "      <td>0</td>\n",
              "      <td>0</td>\n",
              "      <td>0</td>\n",
              "      <td>0</td>\n",
              "      <td>0</td>\n",
              "      <td>0</td>\n",
              "      <td>0</td>\n",
              "      <td>...</td>\n",
              "      <td>0</td>\n",
              "      <td>0</td>\n",
              "      <td>0</td>\n",
              "      <td>0</td>\n",
              "      <td>0</td>\n",
              "      <td>0</td>\n",
              "      <td>0</td>\n",
              "      <td>0</td>\n",
              "      <td>0</td>\n",
              "      <td>0</td>\n",
              "    </tr>\n",
              "    <tr>\n",
              "      <th>6528</th>\n",
              "      <td>0</td>\n",
              "      <td>0</td>\n",
              "      <td>0</td>\n",
              "      <td>0</td>\n",
              "      <td>0</td>\n",
              "      <td>0</td>\n",
              "      <td>0</td>\n",
              "      <td>0</td>\n",
              "      <td>0</td>\n",
              "      <td>0</td>\n",
              "      <td>...</td>\n",
              "      <td>0</td>\n",
              "      <td>0</td>\n",
              "      <td>0</td>\n",
              "      <td>0</td>\n",
              "      <td>0</td>\n",
              "      <td>0</td>\n",
              "      <td>0</td>\n",
              "      <td>0</td>\n",
              "      <td>0</td>\n",
              "      <td>0</td>\n",
              "    </tr>\n",
              "  </tbody>\n",
              "</table>\n",
              "<p>10 rows × 16452 columns</p>\n",
              "</div>\n",
              "    <div class=\"colab-df-buttons\">\n",
              "\n",
              "  <div class=\"colab-df-container\">\n",
              "    <button class=\"colab-df-convert\" onclick=\"convertToInteractive('df-380030a8-0a5d-4f28-a56a-29df4f40967b')\"\n",
              "            title=\"Convert this dataframe to an interactive table.\"\n",
              "            style=\"display:none;\">\n",
              "\n",
              "  <svg xmlns=\"http://www.w3.org/2000/svg\" height=\"24px\" viewBox=\"0 -960 960 960\">\n",
              "    <path d=\"M120-120v-720h720v720H120Zm60-500h600v-160H180v160Zm220 220h160v-160H400v160Zm0 220h160v-160H400v160ZM180-400h160v-160H180v160Zm440 0h160v-160H620v160ZM180-180h160v-160H180v160Zm440 0h160v-160H620v160Z\"/>\n",
              "  </svg>\n",
              "    </button>\n",
              "\n",
              "  <style>\n",
              "    .colab-df-container {\n",
              "      display:flex;\n",
              "      gap: 12px;\n",
              "    }\n",
              "\n",
              "    .colab-df-convert {\n",
              "      background-color: #E8F0FE;\n",
              "      border: none;\n",
              "      border-radius: 50%;\n",
              "      cursor: pointer;\n",
              "      display: none;\n",
              "      fill: #1967D2;\n",
              "      height: 32px;\n",
              "      padding: 0 0 0 0;\n",
              "      width: 32px;\n",
              "    }\n",
              "\n",
              "    .colab-df-convert:hover {\n",
              "      background-color: #E2EBFA;\n",
              "      box-shadow: 0px 1px 2px rgba(60, 64, 67, 0.3), 0px 1px 3px 1px rgba(60, 64, 67, 0.15);\n",
              "      fill: #174EA6;\n",
              "    }\n",
              "\n",
              "    .colab-df-buttons div {\n",
              "      margin-bottom: 4px;\n",
              "    }\n",
              "\n",
              "    [theme=dark] .colab-df-convert {\n",
              "      background-color: #3B4455;\n",
              "      fill: #D2E3FC;\n",
              "    }\n",
              "\n",
              "    [theme=dark] .colab-df-convert:hover {\n",
              "      background-color: #434B5C;\n",
              "      box-shadow: 0px 1px 3px 1px rgba(0, 0, 0, 0.15);\n",
              "      filter: drop-shadow(0px 1px 2px rgba(0, 0, 0, 0.3));\n",
              "      fill: #FFFFFF;\n",
              "    }\n",
              "  </style>\n",
              "\n",
              "    <script>\n",
              "      const buttonEl =\n",
              "        document.querySelector('#df-380030a8-0a5d-4f28-a56a-29df4f40967b button.colab-df-convert');\n",
              "      buttonEl.style.display =\n",
              "        google.colab.kernel.accessAllowed ? 'block' : 'none';\n",
              "\n",
              "      async function convertToInteractive(key) {\n",
              "        const element = document.querySelector('#df-380030a8-0a5d-4f28-a56a-29df4f40967b');\n",
              "        const dataTable =\n",
              "          await google.colab.kernel.invokeFunction('convertToInteractive',\n",
              "                                                    [key], {});\n",
              "        if (!dataTable) return;\n",
              "\n",
              "        const docLinkHtml = 'Like what you see? Visit the ' +\n",
              "          '<a target=\"_blank\" href=https://colab.research.google.com/notebooks/data_table.ipynb>data table notebook</a>'\n",
              "          + ' to learn more about interactive tables.';\n",
              "        element.innerHTML = '';\n",
              "        dataTable['output_type'] = 'display_data';\n",
              "        await google.colab.output.renderOutput(dataTable, element);\n",
              "        const docLink = document.createElement('div');\n",
              "        docLink.innerHTML = docLinkHtml;\n",
              "        element.appendChild(docLink);\n",
              "      }\n",
              "    </script>\n",
              "  </div>\n",
              "\n",
              "\n",
              "<div id=\"df-9d39f4b3-663e-4f8d-8f8a-c6750dc2659a\">\n",
              "  <button class=\"colab-df-quickchart\" onclick=\"quickchart('df-9d39f4b3-663e-4f8d-8f8a-c6750dc2659a')\"\n",
              "            title=\"Suggest charts\"\n",
              "            style=\"display:none;\">\n",
              "\n",
              "<svg xmlns=\"http://www.w3.org/2000/svg\" height=\"24px\"viewBox=\"0 0 24 24\"\n",
              "     width=\"24px\">\n",
              "    <g>\n",
              "        <path d=\"M19 3H5c-1.1 0-2 .9-2 2v14c0 1.1.9 2 2 2h14c1.1 0 2-.9 2-2V5c0-1.1-.9-2-2-2zM9 17H7v-7h2v7zm4 0h-2V7h2v10zm4 0h-2v-4h2v4z\"/>\n",
              "    </g>\n",
              "</svg>\n",
              "  </button>\n",
              "\n",
              "<style>\n",
              "  .colab-df-quickchart {\n",
              "      --bg-color: #E8F0FE;\n",
              "      --fill-color: #1967D2;\n",
              "      --hover-bg-color: #E2EBFA;\n",
              "      --hover-fill-color: #174EA6;\n",
              "      --disabled-fill-color: #AAA;\n",
              "      --disabled-bg-color: #DDD;\n",
              "  }\n",
              "\n",
              "  [theme=dark] .colab-df-quickchart {\n",
              "      --bg-color: #3B4455;\n",
              "      --fill-color: #D2E3FC;\n",
              "      --hover-bg-color: #434B5C;\n",
              "      --hover-fill-color: #FFFFFF;\n",
              "      --disabled-bg-color: #3B4455;\n",
              "      --disabled-fill-color: #666;\n",
              "  }\n",
              "\n",
              "  .colab-df-quickchart {\n",
              "    background-color: var(--bg-color);\n",
              "    border: none;\n",
              "    border-radius: 50%;\n",
              "    cursor: pointer;\n",
              "    display: none;\n",
              "    fill: var(--fill-color);\n",
              "    height: 32px;\n",
              "    padding: 0;\n",
              "    width: 32px;\n",
              "  }\n",
              "\n",
              "  .colab-df-quickchart:hover {\n",
              "    background-color: var(--hover-bg-color);\n",
              "    box-shadow: 0 1px 2px rgba(60, 64, 67, 0.3), 0 1px 3px 1px rgba(60, 64, 67, 0.15);\n",
              "    fill: var(--button-hover-fill-color);\n",
              "  }\n",
              "\n",
              "  .colab-df-quickchart-complete:disabled,\n",
              "  .colab-df-quickchart-complete:disabled:hover {\n",
              "    background-color: var(--disabled-bg-color);\n",
              "    fill: var(--disabled-fill-color);\n",
              "    box-shadow: none;\n",
              "  }\n",
              "\n",
              "  .colab-df-spinner {\n",
              "    border: 2px solid var(--fill-color);\n",
              "    border-color: transparent;\n",
              "    border-bottom-color: var(--fill-color);\n",
              "    animation:\n",
              "      spin 1s steps(1) infinite;\n",
              "  }\n",
              "\n",
              "  @keyframes spin {\n",
              "    0% {\n",
              "      border-color: transparent;\n",
              "      border-bottom-color: var(--fill-color);\n",
              "      border-left-color: var(--fill-color);\n",
              "    }\n",
              "    20% {\n",
              "      border-color: transparent;\n",
              "      border-left-color: var(--fill-color);\n",
              "      border-top-color: var(--fill-color);\n",
              "    }\n",
              "    30% {\n",
              "      border-color: transparent;\n",
              "      border-left-color: var(--fill-color);\n",
              "      border-top-color: var(--fill-color);\n",
              "      border-right-color: var(--fill-color);\n",
              "    }\n",
              "    40% {\n",
              "      border-color: transparent;\n",
              "      border-right-color: var(--fill-color);\n",
              "      border-top-color: var(--fill-color);\n",
              "    }\n",
              "    60% {\n",
              "      border-color: transparent;\n",
              "      border-right-color: var(--fill-color);\n",
              "    }\n",
              "    80% {\n",
              "      border-color: transparent;\n",
              "      border-right-color: var(--fill-color);\n",
              "      border-bottom-color: var(--fill-color);\n",
              "    }\n",
              "    90% {\n",
              "      border-color: transparent;\n",
              "      border-bottom-color: var(--fill-color);\n",
              "    }\n",
              "  }\n",
              "</style>\n",
              "\n",
              "  <script>\n",
              "    async function quickchart(key) {\n",
              "      const quickchartButtonEl =\n",
              "        document.querySelector('#' + key + ' button');\n",
              "      quickchartButtonEl.disabled = true;  // To prevent multiple clicks.\n",
              "      quickchartButtonEl.classList.add('colab-df-spinner');\n",
              "      try {\n",
              "        const charts = await google.colab.kernel.invokeFunction(\n",
              "            'suggestCharts', [key], {});\n",
              "      } catch (error) {\n",
              "        console.error('Error during call to suggestCharts:', error);\n",
              "      }\n",
              "      quickchartButtonEl.classList.remove('colab-df-spinner');\n",
              "      quickchartButtonEl.classList.add('colab-df-quickchart-complete');\n",
              "    }\n",
              "    (() => {\n",
              "      let quickchartButtonEl =\n",
              "        document.querySelector('#df-9d39f4b3-663e-4f8d-8f8a-c6750dc2659a button');\n",
              "      quickchartButtonEl.style.display =\n",
              "        google.colab.kernel.accessAllowed ? 'block' : 'none';\n",
              "    })();\n",
              "  </script>\n",
              "</div>\n",
              "\n",
              "    </div>\n",
              "  </div>\n"
            ]
          },
          "metadata": {},
          "execution_count": 21
        }
      ]
    },
    {
      "cell_type": "code",
      "source": [
        "import gensim\n",
        "from gensim.utils import simple_preprocess\n",
        "import nltk"
      ],
      "metadata": {
        "id": "TgPpBe7ZHPLh"
      },
      "execution_count": 22,
      "outputs": []
    },
    {
      "cell_type": "code",
      "source": [
        "nltk.download('stopwords')"
      ],
      "metadata": {
        "colab": {
          "base_uri": "https://localhost:8080/"
        },
        "id": "50vp0RCcHTWv",
        "outputId": "b8276bd5-f485-494b-e5cc-fc3229189fab"
      },
      "execution_count": 23,
      "outputs": [
        {
          "output_type": "stream",
          "name": "stderr",
          "text": [
            "[nltk_data] Downloading package stopwords to /root/nltk_data...\n",
            "[nltk_data]   Unzipping corpora/stopwords.zip.\n"
          ]
        },
        {
          "output_type": "execute_result",
          "data": {
            "text/plain": [
              "True"
            ]
          },
          "metadata": {},
          "execution_count": 23
        }
      ]
    },
    {
      "cell_type": "code",
      "source": [
        "from nltk.corpus import stopwords"
      ],
      "metadata": {
        "id": "QMVEshOTHVgf"
      },
      "execution_count": 24,
      "outputs": []
    },
    {
      "cell_type": "code",
      "source": [
        "stop_words = stopwords.words('english')\n",
        "stop_words.extend(['has', 'been', 're', 'com', 'edu', 'use'])"
      ],
      "metadata": {
        "id": "oe6-YaLCHadJ"
      },
      "execution_count": 25,
      "outputs": []
    },
    {
      "cell_type": "code",
      "source": [
        "def convert_sentences_to_words(sentences):\n",
        "    for sentence in sentences:\n",
        "        yield(gensim.utils.simple_preprocess(str(sentence), deacc=True))"
      ],
      "metadata": {
        "id": "mufKJ9S9HgBZ"
      },
      "execution_count": 26,
      "outputs": []
    },
    {
      "cell_type": "code",
      "source": [
        "def remove_all_stop_words(texts):\n",
        "    return [[word for word in simple_preprocess(str(doc))\n",
        "             if word not in stop_words] for doc in texts]"
      ],
      "metadata": {
        "id": "1pST2-SUHi5z"
      },
      "execution_count": 27,
      "outputs": []
    },
    {
      "cell_type": "code",
      "source": [
        "text_to_list = papers.clean_text.values.tolist()"
      ],
      "metadata": {
        "id": "sNooZfhPHkap"
      },
      "execution_count": 28,
      "outputs": []
    },
    {
      "cell_type": "code",
      "source": [
        "len(text_to_list)"
      ],
      "metadata": {
        "colab": {
          "base_uri": "https://localhost:8080/"
        },
        "id": "YRFyjXq3HoBr",
        "outputId": "b36978e6-dfdc-4ef5-c027-d401b81a3918"
      },
      "execution_count": 29,
      "outputs": [
        {
          "output_type": "execute_result",
          "data": {
            "text/plain": [
              "100"
            ]
          },
          "metadata": {},
          "execution_count": 29
        }
      ]
    },
    {
      "cell_type": "code",
      "source": [
        "text_to_list[0]"
      ],
      "metadata": {
        "colab": {
          "base_uri": "https://localhost:8080/",
          "height": 188
        },
        "id": "jsSoazk_HtKU",
        "outputId": "b63a774e-5d17-499a-dc83-3f03d760a783"
      },
      "execution_count": 30,
      "outputs": [
        {
          "output_type": "execute_result",
          "data": {
            "text/plain": [
              "'\\n\\nThe Connectivity Analysis of Simple Association\\n- orHow Many Connections Do You Need\\nDan Hammerstrom *\\nOregon Graduate Center Beaverton OR \\nABSTRACT\\nThe efficient realization using current silicon technology of Very Large Connection\\nNetworks (VLCN) with more than a billion connections requires that these networks exhibit\\na high degree of communication locality Real neural networks exhibit significant locality\\nyet most connectionist/neural network models have little In this paper the connectivity\\nrequirements of a simple associative network are analyzed using communication theory\\nSeveral techniques based on communication theory are presented that improve the robustness of the network in the face of sparse local interconnect structures Also discussed are\\nsome potential problems when information is distributed too widely\\n\\nINTRODUCTION\\nConnectionist/neural network researchers are learning to program networks that exhibit a broad range of cognitive behavior Unfortunately existing computer systems are limited in their ability to emulate such networks efficiently The cost of emulating a network\\nwhether with special purpose highly parallel silicon-based architectures or with traditional\\nparallel architectures is directly proportional to the number of connections in the network\\nThis number tends to increase geometrically as the number of nodes increases Even with\\nlarge massively parallel architectures connections take time and silicon area Many existing neural network models scale poorly in learning time and connections precluding large\\nimplementations\\nThe connectivity \\'costs of a network are directly related to its locality A network\\nexhibits locality  communication  if most of its processing elements connect to other physically adjacent processing elements in any reasonable mapping of the elements onto a planar\\nsurface There is much evidence that real neural networks exhibit  In this paper\\na technique is presented for analyzing the effects of locality on the process of association\\nThese networks use a complex node similar to the higher-order learning units of Maxwell et\\nal \\n\\nNETWORK MODEL\\nThe network model used in this paper is now defined (see Figure )\\nDefinition : A recursive neural network called a c-graph is a graph structure\\n\\nr( VE e) where:\\n\\n\\nThere is a set of CNs (network nodes) V whose outputs can take a range of positive\\nreal values Vi between  and  There are N nodes in the set\\n\\n\\n\\nThere is a set of codons E that can take a range of positive real values eij (for\\ncodon j of node i) between  and  There are Ne codons dedicated to each CN (the\\noutput of each codon is only used by its local CN) so there are a total of Ne N codons\\nin the network The fan-in or order of a codon is Ie It is assumed that leis the\\nsame for each codon and Ne is the same for each CN\\n\\n*This work was supported in part by the Semiconductor Research Corporation contract no -- and\\njointly by the Office of Naval Research and Air Force Office of Scientific Research ONR contract no   K\\n\\n\\n American Institute of Physics \\n\\n\\x0c\\n\\nIe\\n\\ncodon j\\n\\nFigure  - A ON\\n\\n\\n\\nCijk E C is a set of connections of ONs to codons <i k<N and <j <Ne  Cijk can\\ntake two values {Ol} indicating the existence of a connection from ON k to codon j\\nof ON i  \\n\\nDefinition : The value of ON i is\\n\\nVi\\n\\n=\\n\\nF[+~eijl\\n\\n()\\n\\nJ-l\\n\\nThe function F is a continuous non-linear monotonic function such as the sigmoid function \\n\\nDefinition : Define a mapping D(ijx)_y where x is an input vector to rand y is\\nthe Ie element input vector of codon j of ON i That is y has as its elements those elements of Zk of x where Cijk= \\\\;/ k \\nThe D function indicates the subset of x seen by codon j of ON i Different input vectors may map to the same codon vectors eg D(ijx)-y and D(ijZj-y where x~\\n\\nDefinition : The codon values eij are determined as follows Let X( m) be input vector\\nm of the M learned input vectors for ON i For codon eij of ON i let Tij be the set of I cdimensional vectors such that lij(m)E T ij  and D(ijX(m))-lij(m) That is each vector\\nlij( m) in Tij consists of those subvectors of X( m) that are in codon ii\\'s receptive field\\nThe variable  indexes the L ( i i) vectors of T ij  The number of distinct vectors in Tij\\nmay be less than the total number of learned vectors (L(ij)<M) Though the X(m) are\\ndistinct the subsets lij(m) need not be since there is a possible many to one mapping of\\nthe x vectors onto each vector lij\\nLet Xl be the subset of vectors where vi=l (ON i is supposed to output a ) and\\nthose vectors where vi=O then define\\n\\n#(/) - izeof {D(ii Z\\'( m)) \"\\n\\n-q}\\n\\nfor q= and \\\\;/ m that map to this I That is ni~(I) is the number of\\n\\nxo be\\n()\\n\\nx vectors that map\\n\\n\\x0c\\n\\ninto \"Iij{l) where\\n\\ntlj-O\\n\\nand ni}{I) is the number of  vectors that map into \"Iii (I) where\\n\\ntI;-\\n\\nThe compreaaion of a codon for a vector \"Iii() then is defined as\\n\\n(/)\\n\\nHe( I) = _ _I:;;J- \\' - - IJ\\n\\n()\\n\\nnj}(I)+nj~(I)\\n\\n(Hqj(l)=O when both nt nO-O) The output of codon\\n\\nI)\\n\\neii\\' is the maximum-likelyhood\\n\\ndecoding\\n\\n()\\nWhere He indicates the likely hood of t l j - l when a vector  that maps to  is input and\\'\\nis that vector \\'(\\') where min[d(\\'(\\')y)] \\\\I I D()-V and  is the current input vector In other words  is that vector (of the set of subset learned vectors that codon ij\\nreceives) that is closest (using distance measure d) to V (the subset input vector) \\nThe output of a codon is the \"most-likely\" output according to its inputs For example when there is no code compression at a codon eji- if the \"closest\" (in terms of some\\nmeasure of vector distance eg Hamming distance) subvector in the receptive field of the\\ncodon belongs to a learned vector where the CN is to output a  The codons described here\\nare very similar to those proposed by Marr  and implement ne\\'Lrest-neighbor classification\\nIt is assumed that codon function is determined statically prior to network operation that\\nis the desired categories have already been learned\\nTo measure performance network capacity is used\\n\\nDefinition : The input noiae Or is the average d between an input vector and the\\nclosest (minimum d) learned vector where d is a measure of the \"difference\" between two\\nvectors - for bit vectors this can be Hamming distance The output noise    is the average\\ndistance between network output and the learned output vector associated with the closest\\nlearned input vector The in/ormation gain Gr  is just\\nGt\\n\\n=-[ ~~\\n\\nI\\n\\n()\\n\\no\\nDefinition : The capacity of a network is the maximum number of learned vectors such\\nthat the information gain Gr  is strictly positive (>) \\n\\nCOMMUNICATION ANALOGY\\nConsider a single connection network node or CN (The remainder of this paper will\\nbe restricted to a single CN) Assume that the CN output value space is restricted to two\\nvalues  and  Therefore the CN must decide whether the input it sees belongs to the\\nclass of \"\" codes those codes for which it remains off or the class of \"I\" codes those codes\\nfor which it becomes active The inputs it sees in its receptive field constitute a subset of\\nthe input vectors (the D(  ) function) to the network It is also assumed that the CN is an\\nideal I-NN (Nearest Neighbor) classifier or feature detector That is given a particular set\\nof learned vectors the CN will classify an arbitrary input according to the class of the\\nnearest (using d as a measure of distance) learned vector This situation is equivalent to\\nthe case where a single CN has a single codon whose receptive field size is equivalent to that\\nof the CN\\nImagine a sender who wishes to send one bit of information over a noisy channel The\\nsender has a probabilistic encoder that choses a code word (learned vector) according to\\nsome probability distribution The receiver knows this code set though it has no knowledge\\nof which bit is being sent Noise is added to the code word during its transmission over the\\n\\n\\x0c\\nchannel which is analogous to applying an input vector to a network\\'s inputs where the\\nvector lies within some learned vector\\'s region The \"noise\" is represented by the distance\\n( d) between the input vector and the associated learned vector\\nThe code word sent over the channel consists of those bits that are seen in the receptive field of the ON being modeled In the associative mapping of input vectors to output\\nvectors each ON must respond with the appropriate output ( or ) for the associated\\nlearned output vector Therefore a ON is a decoder that estimates in which class the\\nreceived code word belongs This is a classic block encoding problem where increasing the\\nfield size is equivalent to increasing code length As the receptive field size increases the\\nperformance of the decoder improves in the presence of noise Using communication theory\\nthen the trade-off between interconnection costs as they relate to field size and the functionality of a node as it relates to the correctness of its decision making process (output\\nerrors) can be characterized\\nAs the receptive field size of a node increases so does the redundancy of the input\\nthough this is dependent on the particular codes being used for the learned vectors since\\nthere are situations where increasing the field size provides no additional information\\nThere is a point of diminishing returns where each additional bit provides ever less reduction in output error Another factor is that interconnection costs increase exponentially\\nwith field size The result of these two trends is a cost performance measure that has a single global maximum value In other words given a set of learned vectors and their probabilities and a set of interconnection costs a \"best\" receptive field size can be determined\\nbeyond which increasing connectivity brings diminishing returns\\n\\nSINGLE CODON WITH NO CODE COMPRESSION\\nA single neural element with a single codon and with no code compression can be\\nmodelled exactly as a communication channel (see Figure ) Each network node is assumed\\nto have a single codon whose receptive field size is equal to that of the receptive field size of\\nthe node\\n\\nsender\\n\\nI I\\nencoder\\n\\n~\\n\\nnOIsy\\n\\nI\\n\\nI\\n\\n~ : ~\\n\\ntransmitter\\n\\nreceiver\\n\\nI\\n\\ndecoder\\nON\\n\\nFigure  - A Transmission Channel\\n\\nrecelver\\n\\n\\x0c\\n\\nThe operation of the channel is as follows A bit is input into the channel encoder\\nwhich selects a random code of length N and transmits that code over the channel The\\nreceiver then using nearest neighbor classification decides if the original message was either\\na  or a \\nLet M be the number of code words used by the encoder The rate* then indicates the\\ndensity of the code space\\n\\nDefinition : The rate R of a communication channel is\\n\\nR = \\n\\n-\\n\\n()\\n\\nN\\n\\no\\nThe block length N corresponds directly to the receptive field size of the codon ie\\n\\nN=/e The derivations in later sections use a related measure:\\nDefinition : The code utilization b is the number of learned vectors assigned to a particular code or\\n()\\nb can be written in terms of R\\nb\\n\\n=\\n\\n (R-l)\\n\\n()\\n\\nAs b approaches  code compression increases b is essentially unbounded since M may be\\nsignificantly larger than  \\nThe decode error (information loss) due to code compression is a random variable that\\ndepends on the compression rate and the a priori probabilities therefore it will be different\\nwith different learned vector sets and codons within a set As the average code utilization\\nfor all codons approaches  code compression occurs more often and codon decode error is\\nunavoidable\\nLet Zi be the vector output of the encoder and the input to the channel where each\\nelement of Zi is either a  or o Let Vi be the vector output of the channel and the input to\\nthe decoder where each element is either a  or a o The Noisy Channel Coding Theorem is\\nnow presented for a general case where the individual M input codes are to be distinguished The result is then extended to a CN where even though M input codes are\\nused the ON need only distinguish those codes where it must output a  from those where it\\nmust output a o The theorem is from Gallager () Random codes are assumed\\nthroughout\\n\\nTheorem : Let a discrete memoryless channel have transition probabilities PNU/k)\\nand for any positive integer N and positive number R consider the ensemble of (NR)\\nblock codes in which each letter of each code word is independently selected according to\\n\\nfe\\n\\nl\\n\\nthe probability assignment Q(k) Then for each message m l<m< NR\\nand all p\\nO<p<l the ensemble average probability of decoding error using maximum-likelyhood\\ndecoding satisfies\\n\\n()\\nwhere\\nIn the definitions given here and the theorems below the notation of Gall ager  is used Many of the\\ndefinitions and theorems are also from Gallager\\n\\n\\x0c\\n\\nEo(pQ)=-ln~ [ ~ Q(k)PU/kpp ]\\ni-il\\n\\nl+P\\n\\n()\\n\\nk-il\\n\\no\\n\\nThese results are now adjusted ror our special case\\n\\nTheorem : For a single CN the average channel error rate ror random code vectors is\\nPc~(l-q )Pe  m\\n\\nwhere q=Q(k)\\n\\n\\\\I k\\n\\n()\\n\\nis the probability or an input vector bit being a  \\n\\nThese results cover a wide range or models A more easily computable expression can\\nbe derived by recognizing some or the restrictions inherent in the CN model First assume\\nthat all channel code bits are equally likely that is \\\\I k Q( k )=q that the error model is\\nthe Binary Symmetric Channel (BSC) and that the errors are identically distributed and\\nindependent - that is each bit has the same probability f or being in error independent\\nor the code word and the bit position in the code word\\nA simplified version or the above theorem can be derived Maximizing P gives the\\ntightest bounds:\\n\\nPc\\n\\n<  O$p~l\\nmaxPe(p)\\n\\n()\\n\\nwhere (letting codon input be the block length N = I c)\\n\\nP(p)\\n\\n:\\'> eXP{-fIE(P)-}\\n\\n()\\n\\nThe minimum value or this expression is obtained when p= (for q=):\\n\\nEo; -log  [\\n\\n(osV+OSVl-)\\'\\n\\n\\n\\n()\\n\\nSINGLE-CODON WITH CODE COMPRESSION\\nUnfortunately the implementation complexity of a codon grows exponentially with the\\nsize or the codon which limits its practical size An alternative is to approximate single\\ncodon function of a single CN with many smaller overlapped codons The goal is to maintain performance and reduce implementation costs thus improving the cost/performance of\\nthe decoding process As codons get smaller the receptive field size becomes smaller relative\\nto the number of CNs in the network When this happens there is codon compression or\\nvector  that introduces its own errors into the decoding process due to information\\nloss Networks can overcome this error by using multiple redundant codons (with overlapping receptive fields) that tend to correct the compression error\\nCompression occurs when two code words requiring different decoder output share the\\nsame representation (within the receptive field or the codon)  The following theorem gives\\nthe probability of incorrect codon output with and without compression error\\n\\nTheorem : For a BSC model where q= the codon receptive field is Ic the code utilization is b and the channel bits are selected randomly and independently the probability\\nof a codon decoding error when b >  is approximately\\n\\nPc\\n\\n< (l-f)\"Pc- [-(I-f)\"\\n\\n]\\n\\nwhere the expected compression error per codon is approximated by\\n\\n()\\n\\n\\x0c\\n\\nPc = \\n\\n()\\n\\nand from equations - when <\\n\\nP < exp { -\\n\\nj [-log [\\n\\n[(O V+O Vl-\\' J\\'\\n\\nI-RI}\\n\\n()\\n\\nProof is given in   \\n\\nAs  grows Pc approaches  asymptotically Thus the performance of a single codon\\ndegrades rapidly in the presence of even small amounts of compression\\n\\nMULTIPLE CODONS WITH CODE COMPRESSION\\nThe use or mUltiple small codons is more efficient than a few large codons but there\\nare some fundamental performance constraints When a codon is split into two or more\\nsmaller codons (and the original receptive field is subdivided accordingly) there are several\\neffects to be considered First the error rate of each new codon increases due to a decrease\\nin receptive field size (the codon\\'s block code length) The second effect is that the code\\nutilization II will increase for each codon since the same number of learned vectors is\\nmapped into a smaller receptive field This change also increases the error rate per codon\\ndue to code compression In fact as the individual codon receptive fields get smaller\\nsignificant code compression occurs For higher-order input codes there is an added error\\nthat occurs when the order of the individual codons is decreased (since random codes are\\nbeing assumed this effect is not considered here) The third effect is the mass action of\\nlarge numbers of codons Even though individual codons may be in error if the majority\\nare correct then the ON will have correct output This effect decreases the total error rate\\nAssume that each ON has more than one codon c> The union of the receptive fields\\nfor these codons is the receptive field for the ON with no no restrictions on the degree of\\noverlap of the various codon receptive fields within or between ONs For a ON with a large\\nnumber of codons the codon overlap will generally be random and uniformly distributed\\nAlso assume that the transmission errors seen by different receptive fields are independent\\nNow consider what happens to a codon\\'s compression error rate (ignoring transmission\\nerror for the time being) when a codon is replaced by two or more smaller co dons covering\\nthe same receptive field This replacement process can continue until there are only \\ncodons which incidentally is analogous to most current neural models For a multiple\\ncodon ON assume that each codon votes a  or o The summation unit then totals this\\ninformation and outputs a  if the majority of codons vote for a  etc\\n\\nTheorem : The probability of a ON error due to compression error is\\n\\n\\nPc = \"\\'\\\\\\';\\n\\n\\n\\nJ\\n\\n -cp-\\nV cP(i-p)\\n\\nwhere\\n\\nPc\\n\\n\\ne  dy\\n\\n()\\n\\nis given in equation  and q=\\n\\nPc incorporates the two effects of moving to mUltiple smaller codons and adding more\\ncodons Using equation  gives the total error probability (per bit) PeN:\\n\\n()\\nProof is in   \\n\\n\\x0c\\n\\nFor networks that perform association as defined in this paper the connection weights\\nrapidly approach a single uniform value as the size of the network grows In information\\ntheoretic terms the information content of those weights approaches zero as the compression increases Why then do simple non-conjunctive networks (-codon equivalent) work at\\nalI In the next section I define connectivity cost constraints and show that the answer to\\nthe first question is that the general associative structures defined here do not scale costeffectively and more importantly that there are limits to the degree of distribution of information\\n\\nCONNECTIVITY COSTS\\nIt is much easier to assess costs if some implementation medium is assumed I have\\nchosen standard silicon which is a two dimensional surface where ON\\'s and codons take up\\nsurface area according to their receptive field sizes In addition there is area devoted to\\nthe metal lines that interconnect the ONs A specific VLSI technology need not be assumed\\nsince the comparisons are relative thus keeping ONs codons and metal in the proper proportions according to a standard metal width m (which also includes the inter-metal\\npitch) For the analyses performed here it is assumed that\\nlevels of metal are possible\\n\\nm\\n\\nIn the previous section I established the relationship of network performance  in terms\\nof the transmission error rate E and the network capacity M In this section I present an\\nimplementation cost which is total silicon area A This figure can then be used to derive a\\ncost/performance figure that can be used to compare such factors as codon size and receptive field size There are two components to the total area: A ON  the area of a ON and\\nAMI the area of the metal interconnect between ONs AON consists of the silicon area\\nrequirements of the codons for all ONs The metal area for local intra-ON interconnect is\\nconsidered to be much smaller than that of the codons themselves and of that of the more\\nglobal inter-ON interconnect and is not considered here The area per ON is roughly\\nm\\n\\nAON = cfeme(-)\\n\\n\\n\\n()\\n\\nm\\n\\nwhere me is the maximum number of vectors that each codon must distinguish for >\\nme = \"\\n\\nTheorem : Assume a rectangular * grid of ONs (all ONs are equi-distant\\nfrom their four nearest neighbors) where each ON has a bounded receptive field of its nON\\nnearest ONs where \"ON is the receptive field size for the ON nON =\\n\\nC~e\\n\\n\\n\\nwhere c is the\\n\\nnumber of codons and R is the intra-ON redundancy that is the ratio of inputs to\\nsynapses (eg when R=l each ON input is used once at the ON when R= each input is\\nused on the average at two sites) The metal area required to support each ON\\'s receptive\\nfield is (proof is giving by  ):\\n\\nAMI = [\\n\\n----w-+\\n\"\\n\\n\"ON\\n\\n\\n\\n~\\n\\n+\"ON\\n\\n [ \\nm\\n\\n()\\n\\nThe total area per ON A then is\\nAnother implementation IItrategy ill to place &II eNII along a diagonal which givell n  area However thill\\ntechnique only works ror a bounded number or eNII and when dendritic computation can be lipread over a large\\narea which limits the range or  eN implementationll The theorem IItated here covers an infinite plane or\\neNII each with a bounded receptive Held\\n\\n\\x0c\\n\\n()\\no\\n\\nEven with the assumption of maximum locality the total metal interconnect area\\nincreases as the cube of the per CN receptive field size\\n\\nSINGLE CN SIMULATION\\nWhat do the bounds tell us about CN connectivity requirements From simulations\\nincreasing the CN\\'s receptive field size improves the performance (increases capacity) but\\nthere is also an increasing cost which increases faster than the performance Another\\nobservation is that redundancy is quite effective as a means for increasing the effectiveness\\nof a CN with constrained connectivity (There are some limits to R since it can reach a\\npoint where the intra-CN connectivity approaches that of inter-CN for some situations)\\nWith a fixed nON increasing cost-effectiveness (A ) is possible by increasing both order\\nand redundancy\\nIn order to verify the derived bounds I also wrote a discrete event simulation of a CN\\nwhere a random set of learned vectors were chosen and the CN\\'s codons were programmed\\naccording to the model presented earlier Learned vectors were chosen randomly and subjected to random noise L The CN then attempted to categorize these inputs into two\\nmajor groups (CN output =  and CN output = ) For the most part the analytic bounds\\nagreed with the simulation though they tended to be optimistic in slightly underestimating\\nthe error These differences can be easily explained by the simplifying assumptions that\\nwere made to make the analytic bounds mathematically tractable\\n\\nDISTRmUTED VS LOCALIZED\\nThroughout this paper it has been tacitly assumed that representations are distributed\\nacross a number of CNs and that any single CN participates in a number of representations In a local representation each CN represents a single concept or feature  It is the distribution of representation that makes the CN\\'s decode job difficult since it is the cause of\\nthe code compression problem\\nThere has been much debate in the connectionist/neuromodelling community as to the\\nadvantages and disadvantages of each approach; the interested reader is referred to   Baum et al  and BallardQ  Some of the results derived here are relevant to this\\ndebate  the distribution of representation increases the compression per CN increases\\naccordingly It was shown above that the mean error in a codon\\'s response quickly\\napproaches  independent of the input noise  This result also holds at the CN level For\\neach individual CN this error can be offset by adding more codons but this is expensive\\nand tends to obviate one of the arguments in favor of distributed representations that is\\nthe multi-use advantage where fewer CNs are needed because of more complex redundant\\nencodings  the degree of distribution increases the required connectivity and the code\\ncompression increases so the added information that each codon adds to its CN\\'s decoding\\nprocess goes to zero (equivalent to all weights approaching a uniform value) \\n\\nSUMMARY AND CONCLUSIONS\\nIn this paper a single CN (node) performance model was developed that was based on\\nCommunication Theory Likewise an implementation cost model was derived \\nThe communication model introduced the codon as a higher-order decoding element\\nand showed that for small codons (much less than total CN fan-in or convergence) code\\ncompression or vector aliasing within the codon\\'s receptive field is a severe problem for\\n\\n\\x0c\\n\\nlarge networks As code compression increases the information added by any individual\\ncodon to the CN\\'s decoding task rapidly approaches zero \\nThe cost model showed that for -dimensional silicon the area required for inter-node\\nmetal connectivity grows as the cube of a CN\\'s fan-in\\nThe combination of these two trends indicates that past a certain point which is\\nhighly dependent on the probability structure of the learned vector space increasing the\\nfan-in of a CN (as is done for example when the distribution of representation is increased)\\nyields diminishing returns in terms of total cost-performance Though the rate of diminishing returns can be decreased by the use of redundant higher-order connections\\nThe next step is to apply these techniques to ensembles of nodes (CNs) operating in a\\ncompetitive learning or feature extraction environment\\n\\nREFERENCES\\n[I]\\n\\nJ Bailey \"A VLSI Interconnect Structure for Neural Networks\" PhD\\nDissertation Department of Computer SciencejEngineering OGC In Preparation\\n\\n[]\\n\\nV B Mountcastle \"An Organizing Principle for Cerebral Function: The Unit\\nModule and the Distributed System\" in The Mindful Brain MIT Press Cambridge\\n\\n\\n[]\\n\\nT Maxwell C  L Giles Y  C Lee and H H Chen \"Transformation Invariance\\nUsing High Order Correlations in Neural Net Architectures\" \\nInternational Con on  Man and  \\n\\n[]\\n\\nD Marr \"A Theory for Cerebral Neocortex\" Proc Roy Soc  London vol\\n() pp  -\\n\\n[]\\n\\nR G Gallager Information Theory and Reliable Communication John Wiley and\\nSons New York \\n\\n[]\\n\\nD Hammerstrom \"A Connectivity Analysis of Recursive Auto-Associative\\nConnection Networks\" Tech Report CS/E-- Dept of Computer\\nSciencejEngineering Oregon Graduate Center Beaverton Oregon August \\n\\n[]\\n\\nG E  Hinton \"Distributed Representations\" Technical Report CMU-CS--\\nComputer Science Dept Carnegie-Mellon University Pittsburgh PA  \\n\\n[]\\n\\nE B Baum J Moody and F  Wilczek \"Internal Representations for Associative\\nMemory\" Technical Report NSF-ITP-- Institute for Theoretical Physics\\nSanta Barbara CA \\n\\n[]\\n\\nD H  Ballard \"Cortical Connections and Parallel Processing: Structure and\\nFunction\" Technical Report  Computer Science Department Rochester NY\\nJanuary \\n\\n\\x0c'"
            ],
            "application/vnd.google.colaboratory.intrinsic+json": {
              "type": "string"
            }
          },
          "metadata": {},
          "execution_count": 30
        }
      ]
    },
    {
      "cell_type": "code",
      "source": [
        "text_as_words = list(convert_sentences_to_words(text_to_list))"
      ],
      "metadata": {
        "id": "YBY_Uq9ZHvD6"
      },
      "execution_count": 31,
      "outputs": []
    },
    {
      "cell_type": "code",
      "source": [
        "len(text_as_words)"
      ],
      "metadata": {
        "colab": {
          "base_uri": "https://localhost:8080/"
        },
        "id": "GksEP69NH0I9",
        "outputId": "16fa812d-90a9-4adc-e0b2-dfaea024d29a"
      },
      "execution_count": 32,
      "outputs": [
        {
          "output_type": "execute_result",
          "data": {
            "text/plain": [
              "100"
            ]
          },
          "metadata": {},
          "execution_count": 32
        }
      ]
    },
    {
      "cell_type": "code",
      "source": [
        "print(text_as_words[0])"
      ],
      "metadata": {
        "colab": {
          "base_uri": "https://localhost:8080/"
        },
        "id": "2f2hGwZ4H3cY",
        "outputId": "cb673726-e680-4f32-d370-36cddc75753f"
      },
      "execution_count": 33,
      "outputs": [
        {
          "output_type": "stream",
          "name": "stdout",
          "text": [
            "['the', 'connectivity', 'analysis', 'of', 'simple', 'association', 'orhow', 'many', 'connections', 'do', 'you', 'need', 'dan', 'hammerstrom', 'oregon', 'graduate', 'center', 'beaverton', 'or', 'abstract', 'the', 'efficient', 'realization', 'using', 'current', 'silicon', 'technology', 'of', 'very', 'large', 'connection', 'networks', 'vlcn', 'with', 'more', 'than', 'billion', 'connections', 'requires', 'that', 'these', 'networks', 'exhibit', 'high', 'degree', 'of', 'communication', 'locality', 'real', 'neural', 'networks', 'exhibit', 'significant', 'locality', 'yet', 'most', 'connectionist', 'neural', 'network', 'models', 'have', 'little', 'in', 'this', 'paper', 'the', 'connectivity', 'requirements', 'of', 'simple', 'associative', 'network', 'are', 'analyzed', 'using', 'communication', 'theory', 'several', 'techniques', 'based', 'on', 'communication', 'theory', 'are', 'presented', 'that', 'improve', 'the', 'robustness', 'of', 'the', 'network', 'in', 'the', 'face', 'of', 'sparse', 'local', 'interconnect', 'structures', 'also', 'discussed', 'are', 'some', 'potential', 'problems', 'when', 'information', 'is', 'distributed', 'too', 'widely', 'introduction', 'connectionist', 'neural', 'network', 'researchers', 'are', 'learning', 'to', 'program', 'networks', 'that', 'exhibit', 'broad', 'range', 'of', 'cognitive', 'behavior', 'unfortunately', 'existing', 'computer', 'systems', 'are', 'limited', 'in', 'their', 'ability', 'to', 'emulate', 'such', 'networks', 'efficiently', 'the', 'cost', 'of', 'emulating', 'network', 'whether', 'with', 'special', 'purpose', 'highly', 'parallel', 'silicon', 'based', 'architectures', 'or', 'with', 'traditional', 'parallel', 'architectures', 'is', 'directly', 'proportional', 'to', 'the', 'number', 'of', 'connections', 'in', 'the', 'network', 'this', 'number', 'tends', 'to', 'increase', 'geometrically', 'as', 'the', 'number', 'of', 'nodes', 'increases', 'even', 'with', 'large', 'massively', 'parallel', 'architectures', 'connections', 'take', 'time', 'and', 'silicon', 'area', 'many', 'existing', 'neural', 'network', 'models', 'scale', 'poorly', 'in', 'learning', 'time', 'and', 'connections', 'precluding', 'large', 'implementations', 'the', 'connectivity', 'costs', 'of', 'network', 'are', 'directly', 'related', 'to', 'its', 'locality', 'network', 'exhibits', 'locality', 'communication', 'if', 'most', 'of', 'its', 'processing', 'elements', 'connect', 'to', 'other', 'physically', 'adjacent', 'processing', 'elements', 'in', 'any', 'reasonable', 'mapping', 'of', 'the', 'elements', 'onto', 'planar', 'surface', 'there', 'is', 'much', 'evidence', 'that', 'real', 'neural', 'networks', 'exhibit', 'in', 'this', 'paper', 'technique', 'is', 'presented', 'for', 'analyzing', 'the', 'effects', 'of', 'locality', 'on', 'the', 'process', 'of', 'association', 'these', 'networks', 'use', 'complex', 'node', 'similar', 'to', 'the', 'higher', 'order', 'learning', 'units', 'of', 'maxwell', 'et', 'al', 'network', 'model', 'the', 'network', 'model', 'used', 'in', 'this', 'paper', 'is', 'now', 'defined', 'see', 'figure', 'definition', 'recursive', 'neural', 'network', 'called', 'graph', 'is', 'graph', 'structure', 've', 'where', 'there', 'is', 'set', 'of', 'cns', 'network', 'nodes', 'whose', 'outputs', 'can', 'take', 'range', 'of', 'positive', 'real', 'values', 'vi', 'between', 'and', 'there', 'are', 'nodes', 'in', 'the', 'set', 'there', 'is', 'set', 'of', 'codons', 'that', 'can', 'take', 'range', 'of', 'positive', 'real', 'values', 'eij', 'for', 'codon', 'of', 'node', 'between', 'and', 'there', 'are', 'ne', 'codons', 'dedicated', 'to', 'each', 'cn', 'the', 'output', 'of', 'each', 'codon', 'is', 'only', 'used', 'by', 'its', 'local', 'cn', 'so', 'there', 'are', 'total', 'of', 'ne', 'codons', 'in', 'the', 'network', 'the', 'fan', 'in', 'or', 'order', 'of', 'codon', 'is', 'ie', 'it', 'is', 'assumed', 'that', 'leis', 'the', 'same', 'for', 'each', 'codon', 'and', 'ne', 'is', 'the', 'same', 'for', 'each', 'cn', 'this', 'work', 'was', 'supported', 'in', 'part', 'by', 'the', 'semiconductor', 'research', 'corporation', 'contract', 'no', 'and', 'jointly', 'by', 'the', 'office', 'of', 'naval', 'research', 'and', 'air', 'force', 'office', 'of', 'scientific', 'research', 'onr', 'contract', 'no', 'american', 'institute', 'of', 'physics', 'ie', 'codon', 'figure', 'on', 'cijk', 'is', 'set', 'of', 'connections', 'of', 'ons', 'to', 'codons', 'and', 'ne', 'cijk', 'can', 'take', 'two', 'values', 'ol', 'indicating', 'the', 'existence', 'of', 'connection', 'from', 'on', 'to', 'codon', 'of', 'on', 'definition', 'the', 'value', 'of', 'on', 'is', 'vi', 'eijl', 'the', 'function', 'is', 'continuous', 'non', 'linear', 'monotonic', 'function', 'such', 'as', 'the', 'sigmoid', 'function', 'definition', 'define', 'mapping', 'ijx', 'where', 'is', 'an', 'input', 'vector', 'to', 'rand', 'is', 'the', 'ie', 'element', 'input', 'vector', 'of', 'codon', 'of', 'on', 'that', 'is', 'has', 'as', 'its', 'elements', 'those', 'elements', 'of', 'zk', 'of', 'where', 'cijk', 'the', 'function', 'indicates', 'the', 'subset', 'of', 'seen', 'by', 'codon', 'of', 'on', 'different', 'input', 'vectors', 'may', 'map', 'to', 'the', 'same', 'codon', 'vectors', 'eg', 'ijx', 'and', 'ijzj', 'where', 'definition', 'the', 'codon', 'values', 'eij', 'are', 'determined', 'as', 'follows', 'let', 'be', 'input', 'vector', 'of', 'the', 'learned', 'input', 'vectors', 'for', 'on', 'for', 'codon', 'eij', 'of', 'on', 'let', 'tij', 'be', 'the', 'set', 'of', 'cdimensional', 'vectors', 'such', 'that', 'lij', 'ij', 'and', 'ijx', 'lij', 'that', 'is', 'each', 'vector', 'lij', 'in', 'tij', 'consists', 'of', 'those', 'subvectors', 'of', 'that', 'are', 'in', 'codon', 'ii', 'receptive', 'field', 'the', 'variable', 'indexes', 'the', 'vectors', 'of', 'ij', 'the', 'number', 'of', 'distinct', 'vectors', 'in', 'tij', 'may', 'be', 'less', 'than', 'the', 'total', 'number', 'of', 'learned', 'vectors', 'ij', 'though', 'the', 'are', 'distinct', 'the', 'subsets', 'lij', 'need', 'not', 'be', 'since', 'there', 'is', 'possible', 'many', 'to', 'one', 'mapping', 'of', 'the', 'vectors', 'onto', 'each', 'vector', 'lij', 'let', 'xl', 'be', 'the', 'subset', 'of', 'vectors', 'where', 'vi', 'on', 'is', 'supposed', 'to', 'output', 'and', 'those', 'vectors', 'where', 'vi', 'then', 'define', 'izeof', 'ii', 'for', 'and', 'that', 'map', 'to', 'this', 'that', 'is', 'ni', 'is', 'the', 'number', 'of', 'xo', 'be', 'vectors', 'that', 'map', 'into', 'iij', 'where', 'tlj', 'and', 'ni', 'is', 'the', 'number', 'of', 'vectors', 'that', 'map', 'into', 'iii', 'where', 'ti', 'the', 'compreaaion', 'of', 'codon', 'for', 'vector', 'iii', 'then', 'is', 'defined', 'as', 'he', 'ij', 'nj', 'nj', 'hqj', 'when', 'both', 'nt', 'no', 'the', 'output', 'of', 'codon', 'eii', 'is', 'the', 'maximum', 'likelyhood', 'decoding', 'where', 'he', 'indicates', 'the', 'likely', 'hood', 'of', 'when', 'vector', 'that', 'maps', 'to', 'is', 'input', 'and', 'is', 'that', 'vector', 'where', 'min', 'and', 'is', 'the', 'current', 'input', 'vector', 'in', 'other', 'words', 'is', 'that', 'vector', 'of', 'the', 'set', 'of', 'subset', 'learned', 'vectors', 'that', 'codon', 'ij', 'receives', 'that', 'is', 'closest', 'using', 'distance', 'measure', 'to', 'the', 'subset', 'input', 'vector', 'the', 'output', 'of', 'codon', 'is', 'the', 'most', 'likely', 'output', 'according', 'to', 'its', 'inputs', 'for', 'example', 'when', 'there', 'is', 'no', 'code', 'compression', 'at', 'codon', 'eji', 'if', 'the', 'closest', 'in', 'terms', 'of', 'some', 'measure', 'of', 'vector', 'distance', 'eg', 'hamming', 'distance', 'subvector', 'in', 'the', 'receptive', 'field', 'of', 'the', 'codon', 'belongs', 'to', 'learned', 'vector', 'where', 'the', 'cn', 'is', 'to', 'output', 'the', 'codons', 'described', 'here', 'are', 'very', 'similar', 'to', 'those', 'proposed', 'by', 'marr', 'and', 'implement', 'ne', 'lrest', 'neighbor', 'classification', 'it', 'is', 'assumed', 'that', 'codon', 'function', 'is', 'determined', 'statically', 'prior', 'to', 'network', 'operation', 'that', 'is', 'the', 'desired', 'categories', 'have', 'already', 'been', 'learned', 'to', 'measure', 'performance', 'network', 'capacity', 'is', 'used', 'definition', 'the', 'input', 'noiae', 'or', 'is', 'the', 'average', 'between', 'an', 'input', 'vector', 'and', 'the', 'closest', 'minimum', 'learned', 'vector', 'where', 'is', 'measure', 'of', 'the', 'difference', 'between', 'two', 'vectors', 'for', 'bit', 'vectors', 'this', 'can', 'be', 'hamming', 'distance', 'the', 'output', 'noise', 'is', 'the', 'average', 'distance', 'between', 'network', 'output', 'and', 'the', 'learned', 'output', 'vector', 'associated', 'with', 'the', 'closest', 'learned', 'input', 'vector', 'the', 'in', 'ormation', 'gain', 'gr', 'is', 'just', 'gt', 'definition', 'the', 'capacity', 'of', 'network', 'is', 'the', 'maximum', 'number', 'of', 'learned', 'vectors', 'such', 'that', 'the', 'information', 'gain', 'gr', 'is', 'strictly', 'positive', 'communication', 'analogy', 'consider', 'single', 'connection', 'network', 'node', 'or', 'cn', 'the', 'remainder', 'of', 'this', 'paper', 'will', 'be', 'restricted', 'to', 'single', 'cn', 'assume', 'that', 'the', 'cn', 'output', 'value', 'space', 'is', 'restricted', 'to', 'two', 'values', 'and', 'therefore', 'the', 'cn', 'must', 'decide', 'whether', 'the', 'input', 'it', 'sees', 'belongs', 'to', 'the', 'class', 'of', 'codes', 'those', 'codes', 'for', 'which', 'it', 'remains', 'off', 'or', 'the', 'class', 'of', 'codes', 'those', 'codes', 'for', 'which', 'it', 'becomes', 'active', 'the', 'inputs', 'it', 'sees', 'in', 'its', 'receptive', 'field', 'constitute', 'subset', 'of', 'the', 'input', 'vectors', 'the', 'function', 'to', 'the', 'network', 'it', 'is', 'also', 'assumed', 'that', 'the', 'cn', 'is', 'an', 'ideal', 'nn', 'nearest', 'neighbor', 'classifier', 'or', 'feature', 'detector', 'that', 'is', 'given', 'particular', 'set', 'of', 'learned', 'vectors', 'the', 'cn', 'will', 'classify', 'an', 'arbitrary', 'input', 'according', 'to', 'the', 'class', 'of', 'the', 'nearest', 'using', 'as', 'measure', 'of', 'distance', 'learned', 'vector', 'this', 'situation', 'is', 'equivalent', 'to', 'the', 'case', 'where', 'single', 'cn', 'has', 'single', 'codon', 'whose', 'receptive', 'field', 'size', 'is', 'equivalent', 'to', 'that', 'of', 'the', 'cn', 'imagine', 'sender', 'who', 'wishes', 'to', 'send', 'one', 'bit', 'of', 'information', 'over', 'noisy', 'channel', 'the', 'sender', 'has', 'probabilistic', 'encoder', 'that', 'choses', 'code', 'word', 'learned', 'vector', 'according', 'to', 'some', 'probability', 'distribution', 'the', 'receiver', 'knows', 'this', 'code', 'set', 'though', 'it', 'has', 'no', 'knowledge', 'of', 'which', 'bit', 'is', 'being', 'sent', 'noise', 'is', 'added', 'to', 'the', 'code', 'word', 'during', 'its', 'transmission', 'over', 'the', 'channel', 'which', 'is', 'analogous', 'to', 'applying', 'an', 'input', 'vector', 'to', 'network', 'inputs', 'where', 'the', 'vector', 'lies', 'within', 'some', 'learned', 'vector', 'region', 'the', 'noise', 'is', 'represented', 'by', 'the', 'distance', 'between', 'the', 'input', 'vector', 'and', 'the', 'associated', 'learned', 'vector', 'the', 'code', 'word', 'sent', 'over', 'the', 'channel', 'consists', 'of', 'those', 'bits', 'that', 'are', 'seen', 'in', 'the', 'receptive', 'field', 'of', 'the', 'on', 'being', 'modeled', 'in', 'the', 'associative', 'mapping', 'of', 'input', 'vectors', 'to', 'output', 'vectors', 'each', 'on', 'must', 'respond', 'with', 'the', 'appropriate', 'output', 'or', 'for', 'the', 'associated', 'learned', 'output', 'vector', 'therefore', 'on', 'is', 'decoder', 'that', 'estimates', 'in', 'which', 'class', 'the', 'received', 'code', 'word', 'belongs', 'this', 'is', 'classic', 'block', 'encoding', 'problem', 'where', 'increasing', 'the', 'field', 'size', 'is', 'equivalent', 'to', 'increasing', 'code', 'length', 'as', 'the', 'receptive', 'field', 'size', 'increases', 'the', 'performance', 'of', 'the', 'decoder', 'improves', 'in', 'the', 'presence', 'of', 'noise', 'using', 'communication', 'theory', 'then', 'the', 'trade', 'off', 'between', 'interconnection', 'costs', 'as', 'they', 'relate', 'to', 'field', 'size', 'and', 'the', 'functionality', 'of', 'node', 'as', 'it', 'relates', 'to', 'the', 'correctness', 'of', 'its', 'decision', 'making', 'process', 'output', 'errors', 'can', 'be', 'characterized', 'as', 'the', 'receptive', 'field', 'size', 'of', 'node', 'increases', 'so', 'does', 'the', 'redundancy', 'of', 'the', 'input', 'though', 'this', 'is', 'dependent', 'on', 'the', 'particular', 'codes', 'being', 'used', 'for', 'the', 'learned', 'vectors', 'since', 'there', 'are', 'situations', 'where', 'increasing', 'the', 'field', 'size', 'provides', 'no', 'additional', 'information', 'there', 'is', 'point', 'of', 'diminishing', 'returns', 'where', 'each', 'additional', 'bit', 'provides', 'ever', 'less', 'reduction', 'in', 'output', 'error', 'another', 'factor', 'is', 'that', 'interconnection', 'costs', 'increase', 'exponentially', 'with', 'field', 'size', 'the', 'result', 'of', 'these', 'two', 'trends', 'is', 'cost', 'performance', 'measure', 'that', 'has', 'single', 'global', 'maximum', 'value', 'in', 'other', 'words', 'given', 'set', 'of', 'learned', 'vectors', 'and', 'their', 'probabilities', 'and', 'set', 'of', 'interconnection', 'costs', 'best', 'receptive', 'field', 'size', 'can', 'be', 'determined', 'beyond', 'which', 'increasing', 'connectivity', 'brings', 'diminishing', 'returns', 'single', 'codon', 'with', 'no', 'code', 'compression', 'single', 'neural', 'element', 'with', 'single', 'codon', 'and', 'with', 'no', 'code', 'compression', 'can', 'be', 'modelled', 'exactly', 'as', 'communication', 'channel', 'see', 'figure', 'each', 'network', 'node', 'is', 'assumed', 'to', 'have', 'single', 'codon', 'whose', 'receptive', 'field', 'size', 'is', 'equal', 'to', 'that', 'of', 'the', 'receptive', 'field', 'size', 'of', 'the', 'node', 'sender', 'encoder', 'noisy', 'transmitter', 'receiver', 'decoder', 'on', 'figure', 'transmission', 'channel', 'recelver', 'the', 'operation', 'of', 'the', 'channel', 'is', 'as', 'follows', 'bit', 'is', 'input', 'into', 'the', 'channel', 'encoder', 'which', 'selects', 'random', 'code', 'of', 'length', 'and', 'transmits', 'that', 'code', 'over', 'the', 'channel', 'the', 'receiver', 'then', 'using', 'nearest', 'neighbor', 'classification', 'decides', 'if', 'the', 'original', 'message', 'was', 'either', 'or', 'let', 'be', 'the', 'number', 'of', 'code', 'words', 'used', 'by', 'the', 'encoder', 'the', 'rate', 'then', 'indicates', 'the', 'density', 'of', 'the', 'code', 'space', 'definition', 'the', 'rate', 'of', 'communication', 'channel', 'is', 'the', 'block', 'length', 'corresponds', 'directly', 'to', 'the', 'receptive', 'field', 'size', 'of', 'the', 'codon', 'ie', 'the', 'derivations', 'in', 'later', 'sections', 'use', 'related', 'measure', 'definition', 'the', 'code', 'utilization', 'is', 'the', 'number', 'of', 'learned', 'vectors', 'assigned', 'to', 'particular', 'code', 'or', 'can', 'be', 'written', 'in', 'terms', 'of', 'as', 'approaches', 'code', 'compression', 'increases', 'is', 'essentially', 'unbounded', 'since', 'may', 'be', 'significantly', 'larger', 'than', 'the', 'decode', 'error', 'information', 'loss', 'due', 'to', 'code', 'compression', 'is', 'random', 'variable', 'that', 'depends', 'on', 'the', 'compression', 'rate', 'and', 'the', 'priori', 'probabilities', 'therefore', 'it', 'will', 'be', 'different', 'with', 'different', 'learned', 'vector', 'sets', 'and', 'codons', 'within', 'set', 'as', 'the', 'average', 'code', 'utilization', 'for', 'all', 'codons', 'approaches', 'code', 'compression', 'occurs', 'more', 'often', 'and', 'codon', 'decode', 'error', 'is', 'unavoidable', 'let', 'zi', 'be', 'the', 'vector', 'output', 'of', 'the', 'encoder', 'and', 'the', 'input', 'to', 'the', 'channel', 'where', 'each', 'element', 'of', 'zi', 'is', 'either', 'or', 'let', 'vi', 'be', 'the', 'vector', 'output', 'of', 'the', 'channel', 'and', 'the', 'input', 'to', 'the', 'decoder', 'where', 'each', 'element', 'is', 'either', 'or', 'the', 'noisy', 'channel', 'coding', 'theorem', 'is', 'now', 'presented', 'for', 'general', 'case', 'where', 'the', 'individual', 'input', 'codes', 'are', 'to', 'be', 'distinguished', 'the', 'result', 'is', 'then', 'extended', 'to', 'cn', 'where', 'even', 'though', 'input', 'codes', 'are', 'used', 'the', 'on', 'need', 'only', 'distinguish', 'those', 'codes', 'where', 'it', 'must', 'output', 'from', 'those', 'where', 'it', 'must', 'output', 'the', 'theorem', 'is', 'from', 'gallager', 'random', 'codes', 'are', 'assumed', 'throughout', 'theorem', 'let', 'discrete', 'memoryless', 'channel', 'have', 'transition', 'probabilities', 'pnu', 'and', 'for', 'any', 'positive', 'integer', 'and', 'positive', 'number', 'consider', 'the', 'ensemble', 'of', 'nr', 'block', 'codes', 'in', 'which', 'each', 'letter', 'of', 'each', 'code', 'word', 'is', 'independently', 'selected', 'according', 'to', 'fe', 'the', 'probability', 'assignment', 'then', 'for', 'each', 'message', 'nr', 'and', 'all', 'the', 'ensemble', 'average', 'probability', 'of', 'decoding', 'error', 'using', 'maximum', 'likelyhood', 'decoding', 'satisfies', 'where', 'in', 'the', 'definitions', 'given', 'here', 'and', 'the', 'theorems', 'below', 'the', 'notation', 'of', 'gall', 'ager', 'is', 'used', 'many', 'of', 'the', 'definitions', 'and', 'theorems', 'are', 'also', 'from', 'gallager', 'eo', 'pq', 'ln', 'pu', 'kpp', 'il', 'il', 'these', 'results', 'are', 'now', 'adjusted', 'ror', 'our', 'special', 'case', 'theorem', 'for', 'single', 'cn', 'the', 'average', 'channel', 'error', 'rate', 'ror', 'random', 'code', 'vectors', 'is', 'pc', 'pe', 'where', 'is', 'the', 'probability', 'or', 'an', 'input', 'vector', 'bit', 'being', 'these', 'results', 'cover', 'wide', 'range', 'or', 'models', 'more', 'easily', 'computable', 'expression', 'can', 'be', 'derived', 'by', 'recognizing', 'some', 'or', 'the', 'restrictions', 'inherent', 'in', 'the', 'cn', 'model', 'first', 'assume', 'that', 'all', 'channel', 'code', 'bits', 'are', 'equally', 'likely', 'that', 'is', 'that', 'the', 'error', 'model', 'is', 'the', 'binary', 'symmetric', 'channel', 'bsc', 'and', 'that', 'the', 'errors', 'are', 'identically', 'distributed', 'and', 'independent', 'that', 'is', 'each', 'bit', 'has', 'the', 'same', 'probability', 'or', 'being', 'in', 'error', 'independent', 'or', 'the', 'code', 'word', 'and', 'the', 'bit', 'position', 'in', 'the', 'code', 'word', 'simplified', 'version', 'or', 'the', 'above', 'theorem', 'can', 'be', 'derived', 'maximizing', 'gives', 'the', 'tightest', 'bounds', 'pc', 'maxpe', 'where', 'letting', 'codon', 'input', 'be', 'the', 'block', 'length', 'exp', 'fie', 'the', 'minimum', 'value', 'or', 'this', 'expression', 'is', 'obtained', 'when', 'for', 'eo', 'log', 'osv', 'osvl', 'single', 'codon', 'with', 'code', 'compression', 'unfortunately', 'the', 'implementation', 'complexity', 'of', 'codon', 'grows', 'exponentially', 'with', 'the', 'size', 'or', 'the', 'codon', 'which', 'limits', 'its', 'practical', 'size', 'an', 'alternative', 'is', 'to', 'approximate', 'single', 'codon', 'function', 'of', 'single', 'cn', 'with', 'many', 'smaller', 'overlapped', 'codons', 'the', 'goal', 'is', 'to', 'maintain', 'performance', 'and', 'reduce', 'implementation', 'costs', 'thus', 'improving', 'the', 'cost', 'performance', 'of', 'the', 'decoding', 'process', 'as', 'codons', 'get', 'smaller', 'the', 'receptive', 'field', 'size', 'becomes', 'smaller', 'relative', 'to', 'the', 'number', 'of', 'cns', 'in', 'the', 'network', 'when', 'this', 'happens', 'there', 'is', 'codon', 'compression', 'or', 'vector', 'that', 'introduces', 'its', 'own', 'errors', 'into', 'the', 'decoding', 'process', 'due', 'to', 'information', 'loss', 'networks', 'can', 'overcome', 'this', 'error', 'by', 'using', 'multiple', 'redundant', 'codons', 'with', 'overlapping', 'receptive', 'fields', 'that', 'tend', 'to', 'correct', 'the', 'compression', 'error', 'compression', 'occurs', 'when', 'two', 'code', 'words', 'requiring', 'different', 'decoder', 'output', 'share', 'the', 'same', 'representation', 'within', 'the', 'receptive', 'field', 'or', 'the', 'codon', 'the', 'following', 'theorem', 'gives', 'the', 'probability', 'of', 'incorrect', 'codon', 'output', 'with', 'and', 'without', 'compression', 'error', 'theorem', 'for', 'bsc', 'model', 'where', 'the', 'codon', 'receptive', 'field', 'is', 'ic', 'the', 'code', 'utilization', 'is', 'and', 'the', 'channel', 'bits', 'are', 'selected', 'randomly', 'and', 'independently', 'the', 'probability', 'of', 'codon', 'decoding', 'error', 'when', 'is', 'approximately', 'pc', 'pc', 'where', 'the', 'expected', 'compression', 'error', 'per', 'codon', 'is', 'approximated', 'by', 'pc', 'and', 'from', 'equations', 'when', 'exp', 'log', 'vl', 'ri', 'proof', 'is', 'given', 'in', 'as', 'grows', 'pc', 'approaches', 'asymptotically', 'thus', 'the', 'performance', 'of', 'single', 'codon', 'degrades', 'rapidly', 'in', 'the', 'presence', 'of', 'even', 'small', 'amounts', 'of', 'compression', 'multiple', 'codons', 'with', 'code', 'compression', 'the', 'use', 'or', 'multiple', 'small', 'codons', 'is', 'more', 'efficient', 'than', 'few', 'large', 'codons', 'but', 'there', 'are', 'some', 'fundamental', 'performance', 'constraints', 'when', 'codon', 'is', 'split', 'into', 'two', 'or', 'more', 'smaller', 'codons', 'and', 'the', 'original', 'receptive', 'field', 'is', 'subdivided', 'accordingly', 'there', 'are', 'several', 'effects', 'to', 'be', 'considered', 'first', 'the', 'error', 'rate', 'of', 'each', 'new', 'codon', 'increases', 'due', 'to', 'decrease', 'in', 'receptive', 'field', 'size', 'the', 'codon', 'block', 'code', 'length', 'the', 'second', 'effect', 'is', 'that', 'the', 'code', 'utilization', 'ii', 'will', 'increase', 'for', 'each', 'codon', 'since', 'the', 'same', 'number', 'of', 'learned', 'vectors', 'is', 'mapped', 'into', 'smaller', 'receptive', 'field', 'this', 'change', 'also', 'increases', 'the', 'error', 'rate', 'per', 'codon', 'due', 'to', 'code', 'compression', 'in', 'fact', 'as', 'the', 'individual', 'codon', 'receptive', 'fields', 'get', 'smaller', 'significant', 'code', 'compression', 'occurs', 'for', 'higher', 'order', 'input', 'codes', 'there', 'is', 'an', 'added', 'error', 'that', 'occurs', 'when', 'the', 'order', 'of', 'the', 'individual', 'codons', 'is', 'decreased', 'since', 'random', 'codes', 'are', 'being', 'assumed', 'this', 'effect', 'is', 'not', 'considered', 'here', 'the', 'third', 'effect', 'is', 'the', 'mass', 'action', 'of', 'large', 'numbers', 'of', 'codons', 'even', 'though', 'individual', 'codons', 'may', 'be', 'in', 'error', 'if', 'the', 'majority', 'are', 'correct', 'then', 'the', 'on', 'will', 'have', 'correct', 'output', 'this', 'effect', 'decreases', 'the', 'total', 'error', 'rate', 'assume', 'that', 'each', 'on', 'has', 'more', 'than', 'one', 'codon', 'the', 'union', 'of', 'the', 'receptive', 'fields', 'for', 'these', 'codons', 'is', 'the', 'receptive', 'field', 'for', 'the', 'on', 'with', 'no', 'no', 'restrictions', 'on', 'the', 'degree', 'of', 'overlap', 'of', 'the', 'various', 'codon', 'receptive', 'fields', 'within', 'or', 'between', 'ons', 'for', 'on', 'with', 'large', 'number', 'of', 'codons', 'the', 'codon', 'overlap', 'will', 'generally', 'be', 'random', 'and', 'uniformly', 'distributed', 'also', 'assume', 'that', 'the', 'transmission', 'errors', 'seen', 'by', 'different', 'receptive', 'fields', 'are', 'independent', 'now', 'consider', 'what', 'happens', 'to', 'codon', 'compression', 'error', 'rate', 'ignoring', 'transmission', 'error', 'for', 'the', 'time', 'being', 'when', 'codon', 'is', 'replaced', 'by', 'two', 'or', 'more', 'smaller', 'co', 'dons', 'covering', 'the', 'same', 'receptive', 'field', 'this', 'replacement', 'process', 'can', 'continue', 'until', 'there', 'are', 'only', 'codons', 'which', 'incidentally', 'is', 'analogous', 'to', 'most', 'current', 'neural', 'models', 'for', 'multiple', 'codon', 'on', 'assume', 'that', 'each', 'codon', 'votes', 'or', 'the', 'summation', 'unit', 'then', 'totals', 'this', 'information', 'and', 'outputs', 'if', 'the', 'majority', 'of', 'codons', 'vote', 'for', 'etc', 'theorem', 'the', 'probability', 'of', 'on', 'error', 'due', 'to', 'compression', 'error', 'is', 'pc', 'cp', 'cp', 'where', 'pc', 'dy', 'is', 'given', 'in', 'equation', 'and', 'pc', 'incorporates', 'the', 'two', 'effects', 'of', 'moving', 'to', 'multiple', 'smaller', 'codons', 'and', 'adding', 'more', 'codons', 'using', 'equation', 'gives', 'the', 'total', 'error', 'probability', 'per', 'bit', 'pen', 'proof', 'is', 'in', 'for', 'networks', 'that', 'perform', 'association', 'as', 'defined', 'in', 'this', 'paper', 'the', 'connection', 'weights', 'rapidly', 'approach', 'single', 'uniform', 'value', 'as', 'the', 'size', 'of', 'the', 'network', 'grows', 'in', 'information', 'theoretic', 'terms', 'the', 'information', 'content', 'of', 'those', 'weights', 'approaches', 'zero', 'as', 'the', 'compression', 'increases', 'why', 'then', 'do', 'simple', 'non', 'conjunctive', 'networks', 'codon', 'equivalent', 'work', 'at', 'ali', 'in', 'the', 'next', 'section', 'define', 'connectivity', 'cost', 'constraints', 'and', 'show', 'that', 'the', 'answer', 'to', 'the', 'first', 'question', 'is', 'that', 'the', 'general', 'associative', 'structures', 'defined', 'here', 'do', 'not', 'scale', 'costeffectively', 'and', 'more', 'importantly', 'that', 'there', 'are', 'limits', 'to', 'the', 'degree', 'of', 'distribution', 'of', 'information', 'connectivity', 'costs', 'it', 'is', 'much', 'easier', 'to', 'assess', 'costs', 'if', 'some', 'implementation', 'medium', 'is', 'assumed', 'have', 'chosen', 'standard', 'silicon', 'which', 'is', 'two', 'dimensional', 'surface', 'where', 'on', 'and', 'codons', 'take', 'up', 'surface', 'area', 'according', 'to', 'their', 'receptive', 'field', 'sizes', 'in', 'addition', 'there', 'is', 'area', 'devoted', 'to', 'the', 'metal', 'lines', 'that', 'interconnect', 'the', 'ons', 'specific', 'vlsi', 'technology', 'need', 'not', 'be', 'assumed', 'since', 'the', 'comparisons', 'are', 'relative', 'thus', 'keeping', 'ons', 'codons', 'and', 'metal', 'in', 'the', 'proper', 'proportions', 'according', 'to', 'standard', 'metal', 'width', 'which', 'also', 'includes', 'the', 'inter', 'metal', 'pitch', 'for', 'the', 'analyses', 'performed', 'here', 'it', 'is', 'assumed', 'that', 'levels', 'of', 'metal', 'are', 'possible', 'in', 'the', 'previous', 'section', 'established', 'the', 'relationship', 'of', 'network', 'performance', 'in', 'terms', 'of', 'the', 'transmission', 'error', 'rate', 'and', 'the', 'network', 'capacity', 'in', 'this', 'section', 'present', 'an', 'implementation', 'cost', 'which', 'is', 'total', 'silicon', 'area', 'this', 'figure', 'can', 'then', 'be', 'used', 'to', 'derive', 'cost', 'performance', 'figure', 'that', 'can', 'be', 'used', 'to', 'compare', 'such', 'factors', 'as', 'codon', 'size', 'and', 'receptive', 'field', 'size', 'there', 'are', 'two', 'components', 'to', 'the', 'total', 'area', 'on', 'the', 'area', 'of', 'on', 'and', 'ami', 'the', 'area', 'of', 'the', 'metal', 'interconnect', 'between', 'ons', 'aon', 'consists', 'of', 'the', 'silicon', 'area', 'requirements', 'of', 'the', 'codons', 'for', 'all', 'ons', 'the', 'metal', 'area', 'for', 'local', 'intra', 'on', 'interconnect', 'is', 'considered', 'to', 'be', 'much', 'smaller', 'than', 'that', 'of', 'the', 'codons', 'themselves', 'and', 'of', 'that', 'of', 'the', 'more', 'global', 'inter', 'on', 'interconnect', 'and', 'is', 'not', 'considered', 'here', 'the', 'area', 'per', 'on', 'is', 'roughly', 'aon', 'cfeme', 'where', 'me', 'is', 'the', 'maximum', 'number', 'of', 'vectors', 'that', 'each', 'codon', 'must', 'distinguish', 'for', 'me', 'theorem', 'assume', 'rectangular', 'grid', 'of', 'ons', 'all', 'ons', 'are', 'equi', 'distant', 'from', 'their', 'four', 'nearest', 'neighbors', 'where', 'each', 'on', 'has', 'bounded', 'receptive', 'field', 'of', 'its', 'non', 'nearest', 'ons', 'where', 'on', 'is', 'the', 'receptive', 'field', 'size', 'for', 'the', 'on', 'non', 'where', 'is', 'the', 'number', 'of', 'codons', 'and', 'is', 'the', 'intra', 'on', 'redundancy', 'that', 'is', 'the', 'ratio', 'of', 'inputs', 'to', 'synapses', 'eg', 'when', 'each', 'on', 'input', 'is', 'used', 'once', 'at', 'the', 'on', 'when', 'each', 'input', 'is', 'used', 'on', 'the', 'average', 'at', 'two', 'sites', 'the', 'metal', 'area', 'required', 'to', 'support', 'each', 'on', 'receptive', 'field', 'is', 'proof', 'is', 'giving', 'by', 'ami', 'on', 'on', 'the', 'total', 'area', 'per', 'on', 'then', 'is', 'another', 'implementation', 'iitrategy', 'ill', 'to', 'place', 'ii', 'enii', 'along', 'diagonal', 'which', 'givell', 'area', 'however', 'thill', 'technique', 'only', 'works', 'ror', 'bounded', 'number', 'or', 'enii', 'and', 'when', 'dendritic', 'computation', 'can', 'be', 'lipread', 'over', 'large', 'area', 'which', 'limits', 'the', 'range', 'or', 'en', 'the', 'theorem', 'iitated', 'here', 'covers', 'an', 'infinite', 'plane', 'or', 'enii', 'each', 'with', 'bounded', 'receptive', 'held', 'even', 'with', 'the', 'assumption', 'of', 'maximum', 'locality', 'the', 'total', 'metal', 'interconnect', 'area', 'increases', 'as', 'the', 'cube', 'of', 'the', 'per', 'cn', 'receptive', 'field', 'size', 'single', 'cn', 'simulation', 'what', 'do', 'the', 'bounds', 'tell', 'us', 'about', 'cn', 'connectivity', 'requirements', 'from', 'simulations', 'increasing', 'the', 'cn', 'receptive', 'field', 'size', 'improves', 'the', 'performance', 'increases', 'capacity', 'but', 'there', 'is', 'also', 'an', 'increasing', 'cost', 'which', 'increases', 'faster', 'than', 'the', 'performance', 'another', 'observation', 'is', 'that', 'redundancy', 'is', 'quite', 'effective', 'as', 'means', 'for', 'increasing', 'the', 'effectiveness', 'of', 'cn', 'with', 'constrained', 'connectivity', 'there', 'are', 'some', 'limits', 'to', 'since', 'it', 'can', 'reach', 'point', 'where', 'the', 'intra', 'cn', 'connectivity', 'approaches', 'that', 'of', 'inter', 'cn', 'for', 'some', 'situations', 'with', 'fixed', 'non', 'increasing', 'cost', 'effectiveness', 'is', 'possible', 'by', 'increasing', 'both', 'order', 'and', 'redundancy', 'in', 'order', 'to', 'verify', 'the', 'derived', 'bounds', 'also', 'wrote', 'discrete', 'event', 'simulation', 'of', 'cn', 'where', 'random', 'set', 'of', 'learned', 'vectors', 'were', 'chosen', 'and', 'the', 'cn', 'codons', 'were', 'programmed', 'according', 'to', 'the', 'model', 'presented', 'earlier', 'learned', 'vectors', 'were', 'chosen', 'randomly', 'and', 'subjected', 'to', 'random', 'noise', 'the', 'cn', 'then', 'attempted', 'to', 'categorize', 'these', 'inputs', 'into', 'two', 'major', 'groups', 'cn', 'output', 'and', 'cn', 'output', 'for', 'the', 'most', 'part', 'the', 'analytic', 'bounds', 'agreed', 'with', 'the', 'simulation', 'though', 'they', 'tended', 'to', 'be', 'optimistic', 'in', 'slightly', 'underestimating', 'the', 'error', 'these', 'differences', 'can', 'be', 'easily', 'explained', 'by', 'the', 'simplifying', 'assumptions', 'that', 'were', 'made', 'to', 'make', 'the', 'analytic', 'bounds', 'mathematically', 'tractable', 'distrmuted', 'vs', 'localized', 'throughout', 'this', 'paper', 'it', 'has', 'been', 'tacitly', 'assumed', 'that', 'representations', 'are', 'distributed', 'across', 'number', 'of', 'cns', 'and', 'that', 'any', 'single', 'cn', 'participates', 'in', 'number', 'of', 'representations', 'in', 'local', 'representation', 'each', 'cn', 'represents', 'single', 'concept', 'or', 'feature', 'it', 'is', 'the', 'distribution', 'of', 'representation', 'that', 'makes', 'the', 'cn', 'decode', 'job', 'difficult', 'since', 'it', 'is', 'the', 'cause', 'of', 'the', 'code', 'compression', 'problem', 'there', 'has', 'been', 'much', 'debate', 'in', 'the', 'connectionist', 'neuromodelling', 'community', 'as', 'to', 'the', 'advantages', 'and', 'disadvantages', 'of', 'each', 'approach', 'the', 'interested', 'reader', 'is', 'referred', 'to', 'baum', 'et', 'al', 'and', 'ballardq', 'some', 'of', 'the', 'results', 'derived', 'here', 'are', 'relevant', 'to', 'this', 'debate', 'the', 'distribution', 'of', 'representation', 'increases', 'the', 'compression', 'per', 'cn', 'increases', 'accordingly', 'it', 'was', 'shown', 'above', 'that', 'the', 'mean', 'error', 'in', 'codon', 'response', 'quickly', 'approaches', 'independent', 'of', 'the', 'input', 'noise', 'this', 'result', 'also', 'holds', 'at', 'the', 'cn', 'level', 'for', 'each', 'individual', 'cn', 'this', 'error', 'can', 'be', 'offset', 'by', 'adding', 'more', 'codons', 'but', 'this', 'is', 'expensive', 'and', 'tends', 'to', 'obviate', 'one', 'of', 'the', 'arguments', 'in', 'favor', 'of', 'distributed', 'representations', 'that', 'is', 'the', 'multi', 'use', 'advantage', 'where', 'fewer', 'cns', 'are', 'needed', 'because', 'of', 'more', 'complex', 'redundant', 'encodings', 'the', 'degree', 'of', 'distribution', 'increases', 'the', 'required', 'connectivity', 'and', 'the', 'code', 'compression', 'increases', 'so', 'the', 'added', 'information', 'that', 'each', 'codon', 'adds', 'to', 'its', 'cn', 'decoding', 'process', 'goes', 'to', 'zero', 'equivalent', 'to', 'all', 'weights', 'approaching', 'uniform', 'value', 'summary', 'and', 'conclusions', 'in', 'this', 'paper', 'single', 'cn', 'node', 'performance', 'model', 'was', 'developed', 'that', 'was', 'based', 'on', 'communication', 'theory', 'likewise', 'an', 'implementation', 'cost', 'model', 'was', 'derived', 'the', 'communication', 'model', 'introduced', 'the', 'codon', 'as', 'higher', 'order', 'decoding', 'element', 'and', 'showed', 'that', 'for', 'small', 'codons', 'much', 'less', 'than', 'total', 'cn', 'fan', 'in', 'or', 'convergence', 'code', 'compression', 'or', 'vector', 'aliasing', 'within', 'the', 'codon', 'receptive', 'field', 'is', 'severe', 'problem', 'for', 'large', 'networks', 'as', 'code', 'compression', 'increases', 'the', 'information', 'added', 'by', 'any', 'individual', 'codon', 'to', 'the', 'cn', 'decoding', 'task', 'rapidly', 'approaches', 'zero', 'the', 'cost', 'model', 'showed', 'that', 'for', 'dimensional', 'silicon', 'the', 'area', 'required', 'for', 'inter', 'node', 'metal', 'connectivity', 'grows', 'as', 'the', 'cube', 'of', 'cn', 'fan', 'in', 'the', 'combination', 'of', 'these', 'two', 'trends', 'indicates', 'that', 'past', 'certain', 'point', 'which', 'is', 'highly', 'dependent', 'on', 'the', 'probability', 'structure', 'of', 'the', 'learned', 'vector', 'space', 'increasing', 'the', 'fan', 'in', 'of', 'cn', 'as', 'is', 'done', 'for', 'example', 'when', 'the', 'distribution', 'of', 'representation', 'is', 'increased', 'yields', 'diminishing', 'returns', 'in', 'terms', 'of', 'total', 'cost', 'performance', 'though', 'the', 'rate', 'of', 'diminishing', 'returns', 'can', 'be', 'decreased', 'by', 'the', 'use', 'of', 'redundant', 'higher', 'order', 'connections', 'the', 'next', 'step', 'is', 'to', 'apply', 'these', 'techniques', 'to', 'ensembles', 'of', 'nodes', 'cns', 'operating', 'in', 'competitive', 'learning', 'or', 'feature', 'extraction', 'environment', 'references', 'bailey', 'vlsi', 'interconnect', 'structure', 'for', 'neural', 'networks', 'phd', 'dissertation', 'department', 'of', 'computer', 'ogc', 'in', 'preparation', 'mountcastle', 'an', 'organizing', 'principle', 'for', 'cerebral', 'function', 'the', 'unit', 'module', 'and', 'the', 'distributed', 'system', 'in', 'the', 'mindful', 'brain', 'mit', 'press', 'cambridge', 'maxwell', 'giles', 'lee', 'and', 'chen', 'transformation', 'invariance', 'using', 'high', 'order', 'correlations', 'in', 'neural', 'net', 'architectures', 'international', 'con', 'on', 'man', 'and', 'marr', 'theory', 'for', 'cerebral', 'neocortex', 'proc', 'roy', 'soc', 'london', 'vol', 'pp', 'gallager', 'information', 'theory', 'and', 'reliable', 'communication', 'john', 'wiley', 'and', 'sons', 'new', 'york', 'hammerstrom', 'connectivity', 'analysis', 'of', 'recursive', 'auto', 'associative', 'connection', 'networks', 'tech', 'report', 'cs', 'dept', 'of', 'computer', 'oregon', 'graduate', 'center', 'beaverton', 'oregon', 'august', 'hinton', 'distributed', 'representations', 'technical', 'report', 'cmu', 'cs', 'computer', 'science', 'dept', 'carnegie', 'mellon', 'university', 'pittsburgh', 'pa', 'baum', 'moody', 'and', 'wilczek', 'internal', 'representations', 'for', 'associative', 'memory', 'technical', 'report', 'nsf', 'itp', 'institute', 'for', 'theoretical', 'physics', 'santa', 'barbara', 'ca', 'ballard', 'cortical', 'connections', 'and', 'parallel', 'processing', 'structure', 'and', 'function', 'technical', 'report', 'computer', 'science', 'department', 'rochester', 'ny', 'january']\n"
          ]
        }
      ]
    },
    {
      "cell_type": "code",
      "source": [
        "clean_words = remove_all_stop_words(text_as_words)"
      ],
      "metadata": {
        "id": "LLmY7I0yIE-h"
      },
      "execution_count": 35,
      "outputs": []
    },
    {
      "cell_type": "code",
      "source": [
        "len(clean_words)"
      ],
      "metadata": {
        "colab": {
          "base_uri": "https://localhost:8080/"
        },
        "id": "oV-GkqkfIG9X",
        "outputId": "f5796180-5b5a-4065-9ea3-7b6474346932"
      },
      "execution_count": 36,
      "outputs": [
        {
          "output_type": "execute_result",
          "data": {
            "text/plain": [
              "100"
            ]
          },
          "metadata": {},
          "execution_count": 36
        }
      ]
    },
    {
      "cell_type": "code",
      "source": [
        "len(clean_words[0])"
      ],
      "metadata": {
        "colab": {
          "base_uri": "https://localhost:8080/"
        },
        "id": "8W4ePTI2ILp5",
        "outputId": "43577e81-0bbd-48bb-8cb5-6052d880b2da"
      },
      "execution_count": 37,
      "outputs": [
        {
          "output_type": "execute_result",
          "data": {
            "text/plain": [
              "2362"
            ]
          },
          "metadata": {},
          "execution_count": 37
        }
      ]
    },
    {
      "cell_type": "code",
      "source": [
        "print(clean_words[:1][0][:20])"
      ],
      "metadata": {
        "colab": {
          "base_uri": "https://localhost:8080/"
        },
        "id": "abLeaqjIIPXH",
        "outputId": "52067f10-341c-4b10-a0a9-c45b19b139ab"
      },
      "execution_count": 38,
      "outputs": [
        {
          "output_type": "stream",
          "name": "stdout",
          "text": [
            "['connectivity', 'analysis', 'simple', 'association', 'orhow', 'many', 'connections', 'need', 'dan', 'hammerstrom', 'oregon', 'graduate', 'center', 'beaverton', 'abstract', 'efficient', 'realization', 'using', 'current', 'silicon']\n"
          ]
        }
      ]
    },
    {
      "cell_type": "code",
      "source": [
        "bigram = gensim.models.Phrases(clean_words, min_count=5, threshold=100)\n",
        "trigram = gensim.models.Phrases(bigram[clean_words], threshold=100)"
      ],
      "metadata": {
        "id": "WLY4RXlaIWPw"
      },
      "execution_count": 39,
      "outputs": []
    },
    {
      "cell_type": "code",
      "source": [
        "bigram_mod = gensim.models.phrases.Phraser(bigram)\n",
        "trigram_mod = gensim.models.phrases.Phraser(trigram)"
      ],
      "metadata": {
        "id": "hVHEPOFdOYsf"
      },
      "execution_count": 40,
      "outputs": []
    },
    {
      "cell_type": "code",
      "source": [
        "def make_bigrams(texts):\n",
        "    return [bigram_mod[doc] for doc in texts]\n",
        "\n",
        "def make_trigrams(texts):\n",
        "    return [trigram_mod[bigram_mod[doc]] for doc in texts]"
      ],
      "metadata": {
        "id": "0McTz8ifP2K4"
      },
      "execution_count": 41,
      "outputs": []
    },
    {
      "cell_type": "code",
      "source": [
        "def lemmatization(texts, allowed_postags=['NOUN', 'ADJ', 'VERB', 'ADV']):\n",
        "    \"\"\"https://spacy.io/api/annotation\"\"\"\n",
        "    texts_out = []\n",
        "    for sent in texts:\n",
        "        doc = nlp(\" \".join(sent))\n",
        "        texts_out.append([token.lemma_ for token in doc if token.pos_ in allowed_postags])\n",
        "    return texts_out"
      ],
      "metadata": {
        "id": "dT1o7S_FP6tN"
      },
      "execution_count": 42,
      "outputs": []
    },
    {
      "cell_type": "code",
      "source": [
        "import spacy\n",
        "nlp = spacy.load('en_core_web_sm',disable=['parser', 'ner'])"
      ],
      "metadata": {
        "id": "aNkTACVgQFYz"
      },
      "execution_count": 43,
      "outputs": []
    },
    {
      "cell_type": "code",
      "source": [
        "clean_words_bigrams = make_bigrams(clean_words)"
      ],
      "metadata": {
        "id": "jOuPCBFMQKeW"
      },
      "execution_count": 44,
      "outputs": []
    },
    {
      "cell_type": "code",
      "source": [
        "clean_words_lemmatized = lemmatization(clean_words_bigrams, allowed_postags=['NOUN', 'ADJ', 'VERB', 'ADV'])"
      ],
      "metadata": {
        "id": "3vigBbKpQupO"
      },
      "execution_count": 45,
      "outputs": []
    },
    {
      "cell_type": "code",
      "source": [
        "print(clean_words_lemmatized[:1][0][:100])"
      ],
      "metadata": {
        "colab": {
          "base_uri": "https://localhost:8080/"
        },
        "id": "sGiSQSBFQ6MC",
        "outputId": "1fd046bd-07e9-46b0-8b0e-073e264946aa"
      },
      "execution_count": 46,
      "outputs": [
        {
          "output_type": "stream",
          "name": "stdout",
          "text": [
            "['connectivity', 'analysis', 'simple', 'association', 'orhow', 'many', 'connection', 'need', 'abstract', 'efficient', 'realization', 'use', 'current', 'silicon', 'technology', 'large', 'connection', 'network', 'connection', 'require', 'network', 'exhibit', 'high', 'degree', 'communication', 'locality', 'real', 'neural', 'network', 'exhibit', 'significant', 'locality', 'connectionist', 'neural', 'network', 'model', 'little', 'paper', 'connectivity', 'requirement', 'simple', 'associative', 'network', 'analyze', 'use', 'communication', 'theory', 'several', 'technique', 'base', 'communication', 'theory', 'present', 'improve', 'robustness', 'network', 'face', 'sparse', 'local', 'interconnect', 'structure', 'also', 'discuss', 'potential', 'problem', 'information', 'distribute', 'widely', 'introduction', 'connectionist', 'neural', 'network', 'researcher', 'learn', 'program', 'network', 'exhibit', 'broad_range', 'cognitive', 'behavior', 'unfortunately', 'exist', 'computer', 'system', 'limited', 'ability', 'emulate', 'network', 'efficiently', 'cost', 'emulating', 'network', 'special', 'purpose', 'highly', 'parallel', 'silicon', 'base', 'architecture', 'traditional']\n"
          ]
        }
      ]
    },
    {
      "cell_type": "code",
      "source": [
        "print(len(clean_words))\n",
        "print(len(clean_words[0]))\n",
        "print(len(clean_words[99]))"
      ],
      "metadata": {
        "colab": {
          "base_uri": "https://localhost:8080/"
        },
        "id": "mjlCv1JIR_lU",
        "outputId": "7bbc300d-f3cd-4517-b66a-a5fbc5f7c4f0"
      },
      "execution_count": 47,
      "outputs": [
        {
          "output_type": "stream",
          "name": "stdout",
          "text": [
            "100\n",
            "2362\n",
            "3086\n"
          ]
        }
      ]
    },
    {
      "cell_type": "code",
      "source": [
        "print(len(clean_words_lemmatized))\n",
        "print(len(clean_words_lemmatized[0]))\n",
        "print(len(clean_words_lemmatized[99]))"
      ],
      "metadata": {
        "colab": {
          "base_uri": "https://localhost:8080/"
        },
        "id": "7C-4syrQSBdG",
        "outputId": "218887e6-71d3-4776-88b4-5ae365dfaa82"
      },
      "execution_count": 48,
      "outputs": [
        {
          "output_type": "stream",
          "name": "stdout",
          "text": [
            "100\n",
            "1879\n",
            "2557\n"
          ]
        }
      ]
    },
    {
      "cell_type": "code",
      "source": [
        "import gensim.corpora as corpora"
      ],
      "metadata": {
        "id": "wjbBhHMxSZFv"
      },
      "execution_count": 49,
      "outputs": []
    },
    {
      "cell_type": "code",
      "source": [
        "id2word = corpora.Dictionary(clean_words_lemmatized)\n",
        "texts = clean_words_lemmatized\n",
        "corpus = [id2word.doc2bow(text) for text in texts]"
      ],
      "metadata": {
        "id": "VSEjNKwaSjta"
      },
      "execution_count": 50,
      "outputs": []
    },
    {
      "cell_type": "code",
      "source": [
        "print(corpus[:1][0][:100])"
      ],
      "metadata": {
        "colab": {
          "base_uri": "https://localhost:8080/"
        },
        "id": "dE3Jp3AySoHm",
        "outputId": "29658419-eebc-4607-db1c-55e4b79340b7"
      },
      "execution_count": 51,
      "outputs": [
        {
          "output_type": "stream",
          "name": "stdout",
          "text": [
            "[(0, 1), (1, 1), (2, 7), (3, 2), (4, 1), (5, 1), (6, 7), (7, 1), (8, 2), (9, 1), (10, 1), (11, 2), (12, 1), (13, 1), (14, 1), (15, 1), (16, 9), (17, 1), (18, 1), (19, 1), (20, 2), (21, 1), (22, 3), (23, 2), (24, 2), (25, 1), (26, 2), (27, 10), (28, 1), (29, 2), (30, 1), (31, 1), (32, 4), (33, 15), (34, 1), (35, 1), (36, 1), (37, 1), (38, 2), (39, 3), (40, 2), (41, 1), (42, 15), (43, 2), (44, 1), (45, 1), (46, 1), (47, 6), (48, 1), (49, 1), (50, 1), (51, 3), (52, 1), (53, 2), (54, 1), (55, 3), (56, 1), (57, 12), (58, 5), (59, 8), (60, 1), (61, 1), (62, 1), (63, 1), (64, 4), (65, 2), (66, 1), (67, 1), (68, 1), (69, 1), (70, 1), (71, 1), (72, 1), (73, 1), (74, 16), (75, 1), (76, 3), (77, 1), (78, 4), (79, 1), (80, 2), (81, 1), (82, 4), (83, 10), (84, 5), (85, 1), (86, 35), (87, 12), (88, 41), (89, 1), (90, 1), (91, 11), (92, 1), (93, 1), (94, 1), (95, 1), (96, 1), (97, 1), (98, 1), (99, 1)]\n"
          ]
        }
      ]
    },
    {
      "cell_type": "code",
      "source": [
        "print(len(clean_words_lemmatized))\n",
        "print(len(clean_words_lemmatized[0]))\n",
        "print(len(clean_words_lemmatized[99]))"
      ],
      "metadata": {
        "colab": {
          "base_uri": "https://localhost:8080/"
        },
        "id": "lihSrLhBS3E5",
        "outputId": "3896d1cc-431a-4a93-a769-7299a8f1854e"
      },
      "execution_count": 52,
      "outputs": [
        {
          "output_type": "stream",
          "name": "stdout",
          "text": [
            "100\n",
            "1879\n",
            "2557\n"
          ]
        }
      ]
    },
    {
      "cell_type": "code",
      "source": [
        "num_topics = 10"
      ],
      "metadata": {
        "id": "snaFUWVoTIcK"
      },
      "execution_count": 53,
      "outputs": []
    },
    {
      "cell_type": "code",
      "source": [
        "lda_model = gensim.models.LdaMulticore(corpus=corpus,\n",
        "                                       id2word=id2word,\n",
        "                                       num_topics=num_topics,\n",
        "                                       random_state=100,chunksize=100,passes=10,per_word_topics=True)"
      ],
      "metadata": {
        "id": "pBO2XJzxVoj1"
      },
      "execution_count": 54,
      "outputs": []
    },
    {
      "cell_type": "code",
      "source": [
        "from pprint import pprint\n",
        "pprint(lda_model.print_topics())"
      ],
      "metadata": {
        "colab": {
          "base_uri": "https://localhost:8080/"
        },
        "id": "jkHUbbRPV14Z",
        "outputId": "4a971f18-35fe-4f5d-f154-85d98a82757c"
      },
      "execution_count": 55,
      "outputs": [
        {
          "output_type": "stream",
          "name": "stdout",
          "text": [
            "[(0,\n",
            "  '0.012*\"model\" + 0.011*\"function\" + 0.010*\"set\" + 0.009*\"example\" + '\n",
            "  '0.007*\"number\" + 0.007*\"network\" + 0.007*\"time\" + 0.007*\"learn\" + '\n",
            "  '0.007*\"use\" + 0.006*\"kernel\"'),\n",
            " (1,\n",
            "  '0.013*\"datum\" + 0.011*\"model\" + 0.010*\"method\" + 0.009*\"use\" + 0.008*\"set\" '\n",
            "  '+ 0.008*\"learn\" + 0.008*\"function\" + 0.008*\"training\" + 0.007*\"problem\" + '\n",
            "  '0.006*\"result\"'),\n",
            " (2,\n",
            "  '0.014*\"model\" + 0.009*\"pattern\" + 0.007*\"edge\" + 0.006*\"function\" + '\n",
            "  '0.006*\"neural\" + 0.006*\"use\" + 0.006*\"neuron\" + 0.006*\"network\" + '\n",
            "  '0.006*\"filter\" + 0.006*\"show\"'),\n",
            " (3,\n",
            "  '0.012*\"model\" + 0.008*\"function\" + 0.007*\"use\" + 0.006*\"datum\" + '\n",
            "  '0.006*\"show\" + 0.006*\"set\" + 0.006*\"learn\" + 0.006*\"problem\" + '\n",
            "  '0.006*\"result\" + 0.005*\"system\"'),\n",
            " (4,\n",
            "  '0.011*\"model\" + 0.008*\"use\" + 0.008*\"image\" + 0.008*\"set\" + 0.007*\"datum\" + '\n",
            "  '0.007*\"cluster\" + 0.007*\"value\" + 0.006*\"word\" + 0.006*\"object\" + '\n",
            "  '0.006*\"learn\"'),\n",
            " (5,\n",
            "  '0.009*\"result\" + 0.009*\"use\" + 0.007*\"label\" + 0.007*\"spatial\" + '\n",
            "  '0.006*\"let\" + 0.006*\"metric\" + 0.006*\"set\" + 0.006*\"sample\" + '\n",
            "  '0.006*\"distribution\" + 0.005*\"average\"'),\n",
            " (6,\n",
            "  '0.008*\"catfish\" + 0.008*\"gustatory\" + 0.008*\"system\" + 0.007*\"information\" '\n",
            "  '+ 0.007*\"neuron\" + 0.006*\"fig\" + 0.005*\"search\" + 0.005*\"stimulus\" + '\n",
            "  '0.005*\"target\" + 0.004*\"reticular\"'),\n",
            " (7,\n",
            "  '0.029*\"network\" + 0.012*\"layer\" + 0.011*\"input\" + 0.010*\"use\" + '\n",
            "  '0.010*\"learn\" + 0.009*\"neural\" + 0.008*\"class\" + 0.008*\"number\" + '\n",
            "  '0.007*\"output\" + 0.007*\"vector\"'),\n",
            " (8,\n",
            "  '0.013*\"arm\" + 0.012*\"time\" + 0.011*\"regret\" + 0.010*\"bandit\" + '\n",
            "  '0.008*\"vector\" + 0.008*\"distribution\" + 0.007*\"show\" + 0.007*\"use\" + '\n",
            "  '0.006*\"hyperplane\" + 0.006*\"datum\"'),\n",
            " (9,\n",
            "  '0.010*\"information\" + 0.008*\"use\" + 0.008*\"learn\" + 0.008*\"input\" + '\n",
            "  '0.007*\"expression\" + 0.007*\"chip\" + 0.006*\"graph\" + 0.006*\"output\" + '\n",
            "  '0.006*\"model\" + 0.006*\"show\"')]\n"
          ]
        }
      ]
    },
    {
      "cell_type": "code",
      "source": [
        "doc_lda = lda_model[corpus]"
      ],
      "metadata": {
        "id": "EGJYNr36Wnh8"
      },
      "execution_count": 56,
      "outputs": []
    },
    {
      "cell_type": "code",
      "source": [
        "doc_lda"
      ],
      "metadata": {
        "colab": {
          "base_uri": "https://localhost:8080/"
        },
        "id": "vptCemFtW29M",
        "outputId": "888506b1-6c71-46c6-ee9b-a33dee5d4edc"
      },
      "execution_count": 57,
      "outputs": [
        {
          "output_type": "execute_result",
          "data": {
            "text/plain": [
              "<gensim.interfaces.TransformedCorpus at 0x7b41553e9c60>"
            ]
          },
          "metadata": {},
          "execution_count": 57
        }
      ]
    },
    {
      "cell_type": "code",
      "source": [
        "!pip install pyLDAvis\n"
      ],
      "metadata": {
        "id": "yAxeio-hscAP",
        "colab": {
          "base_uri": "https://localhost:8080/"
        },
        "outputId": "4af18b26-5190-4c46-9453-0950db215f4e"
      },
      "execution_count": 64,
      "outputs": [
        {
          "output_type": "stream",
          "name": "stderr",
          "text": [
            "/usr/local/lib/python3.10/dist-packages/ipykernel/ipkernel.py:283: DeprecationWarning: `should_run_async` will not call `transform_cell` automatically in the future. Please pass the result to `transformed_cell` argument and any exception that happen during thetransform in `preprocessing_exc_tuple` in IPython 7.17 and above.\n",
            "  and should_run_async(code)\n"
          ]
        },
        {
          "output_type": "stream",
          "name": "stdout",
          "text": [
            "Requirement already satisfied: pyLDAvis in /usr/local/lib/python3.10/dist-packages (3.4.1)\n",
            "Requirement already satisfied: numpy>=1.24.2 in /usr/local/lib/python3.10/dist-packages (from pyLDAvis) (1.26.3)\n",
            "Requirement already satisfied: scipy in /usr/local/lib/python3.10/dist-packages (from pyLDAvis) (1.11.4)\n",
            "Requirement already satisfied: pandas>=2.0.0 in /usr/local/lib/python3.10/dist-packages (from pyLDAvis) (2.1.4)\n",
            "Requirement already satisfied: joblib>=1.2.0 in /usr/local/lib/python3.10/dist-packages (from pyLDAvis) (1.3.2)\n",
            "Requirement already satisfied: jinja2 in /usr/local/lib/python3.10/dist-packages (from pyLDAvis) (3.1.2)\n",
            "Requirement already satisfied: numexpr in /usr/local/lib/python3.10/dist-packages (from pyLDAvis) (2.8.8)\n",
            "Requirement already satisfied: funcy in /usr/local/lib/python3.10/dist-packages (from pyLDAvis) (2.0)\n",
            "Requirement already satisfied: scikit-learn>=1.0.0 in /usr/local/lib/python3.10/dist-packages (from pyLDAvis) (1.2.2)\n",
            "Requirement already satisfied: gensim in /usr/local/lib/python3.10/dist-packages (from pyLDAvis) (4.3.2)\n",
            "Requirement already satisfied: setuptools in /usr/local/lib/python3.10/dist-packages (from pyLDAvis) (67.7.2)\n",
            "Requirement already satisfied: python-dateutil>=2.8.2 in /usr/local/lib/python3.10/dist-packages (from pandas>=2.0.0->pyLDAvis) (2.8.2)\n",
            "Requirement already satisfied: pytz>=2020.1 in /usr/local/lib/python3.10/dist-packages (from pandas>=2.0.0->pyLDAvis) (2023.3.post1)\n",
            "Requirement already satisfied: tzdata>=2022.1 in /usr/local/lib/python3.10/dist-packages (from pandas>=2.0.0->pyLDAvis) (2023.4)\n",
            "Requirement already satisfied: threadpoolctl>=2.0.0 in /usr/local/lib/python3.10/dist-packages (from scikit-learn>=1.0.0->pyLDAvis) (3.2.0)\n",
            "Requirement already satisfied: smart-open>=1.8.1 in /usr/local/lib/python3.10/dist-packages (from gensim->pyLDAvis) (6.4.0)\n",
            "Requirement already satisfied: MarkupSafe>=2.0 in /usr/local/lib/python3.10/dist-packages (from jinja2->pyLDAvis) (2.1.3)\n",
            "Requirement already satisfied: six>=1.5 in /usr/local/lib/python3.10/dist-packages (from python-dateutil>=2.8.2->pandas>=2.0.0->pyLDAvis) (1.16.0)\n"
          ]
        }
      ]
    },
    {
      "cell_type": "code",
      "source": [
        "import pyLDAvis.gensim_models as gensimvis\n",
        "import pickle\n",
        "import pyLDAvis\n",
        "import os"
      ],
      "metadata": {
        "colab": {
          "base_uri": "https://localhost:8080/"
        },
        "id": "lbsbj0vQpmzV",
        "outputId": "b2791868-ab83-4047-86fc-6fd59ddb9b48"
      },
      "execution_count": 65,
      "outputs": [
        {
          "output_type": "stream",
          "name": "stderr",
          "text": [
            "/usr/local/lib/python3.10/dist-packages/ipykernel/ipkernel.py:283: DeprecationWarning: `should_run_async` will not call `transform_cell` automatically in the future. Please pass the result to `transformed_cell` argument and any exception that happen during thetransform in `preprocessing_exc_tuple` in IPython 7.17 and above.\n",
            "  and should_run_async(code)\n"
          ]
        }
      ]
    },
    {
      "cell_type": "code",
      "source": [
        "pyLDAvis.enable_notebook()"
      ],
      "metadata": {
        "colab": {
          "base_uri": "https://localhost:8080/"
        },
        "id": "RBTJshzTfUah",
        "outputId": "e96f951f-c1a9-4568-f7e0-32861f922bed"
      },
      "execution_count": 66,
      "outputs": [
        {
          "output_type": "stream",
          "name": "stderr",
          "text": [
            "/usr/local/lib/python3.10/dist-packages/ipykernel/ipkernel.py:283: DeprecationWarning: `should_run_async` will not call `transform_cell` automatically in the future. Please pass the result to `transformed_cell` argument and any exception that happen during thetransform in `preprocessing_exc_tuple` in IPython 7.17 and above.\n",
            "  and should_run_async(code)\n"
          ]
        }
      ]
    },
    {
      "cell_type": "code",
      "source": [
        "vis = pyLDAvis.gensim_models.prepare(lda_model, corpus, id2word)"
      ],
      "metadata": {
        "colab": {
          "base_uri": "https://localhost:8080/",
          "height": 626
        },
        "id": "d__j2Ztu7wtG",
        "outputId": "4371c8e1-ae61-47cb-81da-caf9ed2f5f0c"
      },
      "execution_count": 63,
      "outputs": [
        {
          "output_type": "stream",
          "name": "stderr",
          "text": [
            "/usr/local/lib/python3.10/dist-packages/ipykernel/ipkernel.py:283: DeprecationWarning: `should_run_async` will not call `transform_cell` automatically in the future. Please pass the result to `transformed_cell` argument and any exception that happen during thetransform in `preprocessing_exc_tuple` in IPython 7.17 and above.\n",
            "  and should_run_async(code)\n"
          ]
        },
        {
          "output_type": "error",
          "ename": "BrokenProcessPool",
          "evalue": "A task has failed to un-serialize. Please ensure that the arguments of the function are all picklable.",
          "traceback": [
            "\u001b[0;31m---------------------------------------------------------------------------\u001b[0m",
            "\u001b[0;31m_RemoteTraceback\u001b[0m                          Traceback (most recent call last)",
            "\u001b[0;31m_RemoteTraceback\u001b[0m: \n\"\"\"\nTraceback (most recent call last):\n  File \"/usr/local/lib/python3.10/dist-packages/joblib/externals/loky/process_executor.py\", line 426, in _process_worker\n    call_item = call_queue.get(block=True, timeout=timeout)\n  File \"/usr/lib/python3.10/multiprocessing/queues.py\", line 122, in get\n    return _ForkingPickler.loads(res)\nModuleNotFoundError: No module named 'pandas.core.indexes.numeric'\n\"\"\"",
            "\nThe above exception was the direct cause of the following exception:\n",
            "\u001b[0;31mBrokenProcessPool\u001b[0m                         Traceback (most recent call last)",
            "\u001b[0;32m<ipython-input-63-09b60efe8c17>\u001b[0m in \u001b[0;36m<cell line: 1>\u001b[0;34m()\u001b[0m\n\u001b[0;32m----> 1\u001b[0;31m \u001b[0mvis\u001b[0m \u001b[0;34m=\u001b[0m \u001b[0mpyLDAvis\u001b[0m\u001b[0;34m.\u001b[0m\u001b[0mgensim_models\u001b[0m\u001b[0;34m.\u001b[0m\u001b[0mprepare\u001b[0m\u001b[0;34m(\u001b[0m\u001b[0mlda_model\u001b[0m\u001b[0;34m,\u001b[0m \u001b[0mcorpus\u001b[0m\u001b[0;34m,\u001b[0m \u001b[0mid2word\u001b[0m\u001b[0;34m)\u001b[0m\u001b[0;34m\u001b[0m\u001b[0;34m\u001b[0m\u001b[0m\n\u001b[0m",
            "\u001b[0;32m/usr/local/lib/python3.10/dist-packages/pyLDAvis/gensim_models.py\u001b[0m in \u001b[0;36mprepare\u001b[0;34m(topic_model, corpus, dictionary, doc_topic_dist, **kwargs)\u001b[0m\n\u001b[1;32m    121\u001b[0m     \"\"\"\n\u001b[1;32m    122\u001b[0m     \u001b[0mopts\u001b[0m \u001b[0;34m=\u001b[0m \u001b[0mfp\u001b[0m\u001b[0;34m.\u001b[0m\u001b[0mmerge\u001b[0m\u001b[0;34m(\u001b[0m\u001b[0m_extract_data\u001b[0m\u001b[0;34m(\u001b[0m\u001b[0mtopic_model\u001b[0m\u001b[0;34m,\u001b[0m \u001b[0mcorpus\u001b[0m\u001b[0;34m,\u001b[0m \u001b[0mdictionary\u001b[0m\u001b[0;34m,\u001b[0m \u001b[0mdoc_topic_dist\u001b[0m\u001b[0;34m)\u001b[0m\u001b[0;34m,\u001b[0m \u001b[0mkwargs\u001b[0m\u001b[0;34m)\u001b[0m\u001b[0;34m\u001b[0m\u001b[0;34m\u001b[0m\u001b[0m\n\u001b[0;32m--> 123\u001b[0;31m     \u001b[0;32mreturn\u001b[0m \u001b[0mpyLDAvis\u001b[0m\u001b[0;34m.\u001b[0m\u001b[0mprepare\u001b[0m\u001b[0;34m(\u001b[0m\u001b[0;34m**\u001b[0m\u001b[0mopts\u001b[0m\u001b[0;34m)\u001b[0m\u001b[0;34m\u001b[0m\u001b[0;34m\u001b[0m\u001b[0m\n\u001b[0m",
            "\u001b[0;32m/usr/local/lib/python3.10/dist-packages/pyLDAvis/_prepare.py\u001b[0m in \u001b[0;36mprepare\u001b[0;34m(topic_term_dists, doc_topic_dists, doc_lengths, vocab, term_frequency, R, lambda_step, mds, n_jobs, plot_opts, sort_topics, start_index)\u001b[0m\n\u001b[1;32m    430\u001b[0m     \u001b[0mterm_frequency\u001b[0m \u001b[0;34m=\u001b[0m \u001b[0mnp\u001b[0m\u001b[0;34m.\u001b[0m\u001b[0msum\u001b[0m\u001b[0;34m(\u001b[0m\u001b[0mterm_topic_freq\u001b[0m\u001b[0;34m,\u001b[0m \u001b[0maxis\u001b[0m\u001b[0;34m=\u001b[0m\u001b[0;36m0\u001b[0m\u001b[0;34m)\u001b[0m\u001b[0;34m\u001b[0m\u001b[0;34m\u001b[0m\u001b[0m\n\u001b[1;32m    431\u001b[0m \u001b[0;34m\u001b[0m\u001b[0m\n\u001b[0;32m--> 432\u001b[0;31m     topic_info = _topic_info(topic_term_dists, topic_proportion,\n\u001b[0m\u001b[1;32m    433\u001b[0m                              \u001b[0mterm_frequency\u001b[0m\u001b[0;34m,\u001b[0m \u001b[0mterm_topic_freq\u001b[0m\u001b[0;34m,\u001b[0m \u001b[0mvocab\u001b[0m\u001b[0;34m,\u001b[0m \u001b[0mlambda_step\u001b[0m\u001b[0;34m,\u001b[0m \u001b[0mR\u001b[0m\u001b[0;34m,\u001b[0m\u001b[0;34m\u001b[0m\u001b[0;34m\u001b[0m\u001b[0m\n\u001b[1;32m    434\u001b[0m                              n_jobs, start_index)\n",
            "\u001b[0;32m/usr/local/lib/python3.10/dist-packages/pyLDAvis/_prepare.py\u001b[0m in \u001b[0;36m_topic_info\u001b[0;34m(topic_term_dists, topic_proportion, term_frequency, term_topic_freq, vocab, lambda_step, R, n_jobs, start_index)\u001b[0m\n\u001b[1;32m    271\u001b[0m         ])\n\u001b[1;32m    272\u001b[0m \u001b[0;34m\u001b[0m\u001b[0m\n\u001b[0;32m--> 273\u001b[0;31m     top_terms = pd.concat(Parallel(n_jobs=n_jobs)\n\u001b[0m\u001b[1;32m    274\u001b[0m                           (delayed(_find_relevance_chunks)(log_ttd, log_lift, R, ls)\n\u001b[1;32m    275\u001b[0m                           for ls in _job_chunks(lambda_seq, n_jobs)))\n",
            "\u001b[0;32m/usr/local/lib/python3.10/dist-packages/joblib/parallel.py\u001b[0m in \u001b[0;36m__call__\u001b[0;34m(self, iterable)\u001b[0m\n\u001b[1;32m   1950\u001b[0m         \u001b[0mnext\u001b[0m\u001b[0;34m(\u001b[0m\u001b[0moutput\u001b[0m\u001b[0;34m)\u001b[0m\u001b[0;34m\u001b[0m\u001b[0;34m\u001b[0m\u001b[0m\n\u001b[1;32m   1951\u001b[0m \u001b[0;34m\u001b[0m\u001b[0m\n\u001b[0;32m-> 1952\u001b[0;31m         \u001b[0;32mreturn\u001b[0m \u001b[0moutput\u001b[0m \u001b[0;32mif\u001b[0m \u001b[0mself\u001b[0m\u001b[0;34m.\u001b[0m\u001b[0mreturn_generator\u001b[0m \u001b[0;32melse\u001b[0m \u001b[0mlist\u001b[0m\u001b[0;34m(\u001b[0m\u001b[0moutput\u001b[0m\u001b[0;34m)\u001b[0m\u001b[0;34m\u001b[0m\u001b[0;34m\u001b[0m\u001b[0m\n\u001b[0m\u001b[1;32m   1953\u001b[0m \u001b[0;34m\u001b[0m\u001b[0m\n\u001b[1;32m   1954\u001b[0m     \u001b[0;32mdef\u001b[0m \u001b[0m__repr__\u001b[0m\u001b[0;34m(\u001b[0m\u001b[0mself\u001b[0m\u001b[0;34m)\u001b[0m\u001b[0;34m:\u001b[0m\u001b[0;34m\u001b[0m\u001b[0;34m\u001b[0m\u001b[0m\n",
            "\u001b[0;32m/usr/local/lib/python3.10/dist-packages/joblib/parallel.py\u001b[0m in \u001b[0;36m_get_outputs\u001b[0;34m(self, iterator, pre_dispatch)\u001b[0m\n\u001b[1;32m   1593\u001b[0m \u001b[0;34m\u001b[0m\u001b[0m\n\u001b[1;32m   1594\u001b[0m             \u001b[0;32mwith\u001b[0m \u001b[0mself\u001b[0m\u001b[0;34m.\u001b[0m\u001b[0m_backend\u001b[0m\u001b[0;34m.\u001b[0m\u001b[0mretrieval_context\u001b[0m\u001b[0;34m(\u001b[0m\u001b[0;34m)\u001b[0m\u001b[0;34m:\u001b[0m\u001b[0;34m\u001b[0m\u001b[0;34m\u001b[0m\u001b[0m\n\u001b[0;32m-> 1595\u001b[0;31m                 \u001b[0;32myield\u001b[0m \u001b[0;32mfrom\u001b[0m \u001b[0mself\u001b[0m\u001b[0;34m.\u001b[0m\u001b[0m_retrieve\u001b[0m\u001b[0;34m(\u001b[0m\u001b[0;34m)\u001b[0m\u001b[0;34m\u001b[0m\u001b[0;34m\u001b[0m\u001b[0m\n\u001b[0m\u001b[1;32m   1596\u001b[0m \u001b[0;34m\u001b[0m\u001b[0m\n\u001b[1;32m   1597\u001b[0m         \u001b[0;32mexcept\u001b[0m \u001b[0mGeneratorExit\u001b[0m\u001b[0;34m:\u001b[0m\u001b[0;34m\u001b[0m\u001b[0;34m\u001b[0m\u001b[0m\n",
            "\u001b[0;32m/usr/local/lib/python3.10/dist-packages/joblib/parallel.py\u001b[0m in \u001b[0;36m_retrieve\u001b[0;34m(self)\u001b[0m\n\u001b[1;32m   1697\u001b[0m             \u001b[0;31m# worker traceback.\u001b[0m\u001b[0;34m\u001b[0m\u001b[0;34m\u001b[0m\u001b[0m\n\u001b[1;32m   1698\u001b[0m             \u001b[0;32mif\u001b[0m \u001b[0mself\u001b[0m\u001b[0;34m.\u001b[0m\u001b[0m_aborting\u001b[0m\u001b[0;34m:\u001b[0m\u001b[0;34m\u001b[0m\u001b[0;34m\u001b[0m\u001b[0m\n\u001b[0;32m-> 1699\u001b[0;31m                 \u001b[0mself\u001b[0m\u001b[0;34m.\u001b[0m\u001b[0m_raise_error_fast\u001b[0m\u001b[0;34m(\u001b[0m\u001b[0;34m)\u001b[0m\u001b[0;34m\u001b[0m\u001b[0;34m\u001b[0m\u001b[0m\n\u001b[0m\u001b[1;32m   1700\u001b[0m                 \u001b[0;32mbreak\u001b[0m\u001b[0;34m\u001b[0m\u001b[0;34m\u001b[0m\u001b[0m\n\u001b[1;32m   1701\u001b[0m \u001b[0;34m\u001b[0m\u001b[0m\n",
            "\u001b[0;32m/usr/local/lib/python3.10/dist-packages/joblib/parallel.py\u001b[0m in \u001b[0;36m_raise_error_fast\u001b[0;34m(self)\u001b[0m\n\u001b[1;32m   1732\u001b[0m         \u001b[0;31m# called directly or if the generator is gc'ed.\u001b[0m\u001b[0;34m\u001b[0m\u001b[0;34m\u001b[0m\u001b[0m\n\u001b[1;32m   1733\u001b[0m         \u001b[0;32mif\u001b[0m \u001b[0merror_job\u001b[0m \u001b[0;32mis\u001b[0m \u001b[0;32mnot\u001b[0m \u001b[0;32mNone\u001b[0m\u001b[0;34m:\u001b[0m\u001b[0;34m\u001b[0m\u001b[0;34m\u001b[0m\u001b[0m\n\u001b[0;32m-> 1734\u001b[0;31m             \u001b[0merror_job\u001b[0m\u001b[0;34m.\u001b[0m\u001b[0mget_result\u001b[0m\u001b[0;34m(\u001b[0m\u001b[0mself\u001b[0m\u001b[0;34m.\u001b[0m\u001b[0mtimeout\u001b[0m\u001b[0;34m)\u001b[0m\u001b[0;34m\u001b[0m\u001b[0;34m\u001b[0m\u001b[0m\n\u001b[0m\u001b[1;32m   1735\u001b[0m \u001b[0;34m\u001b[0m\u001b[0m\n\u001b[1;32m   1736\u001b[0m     \u001b[0;32mdef\u001b[0m \u001b[0m_warn_exit_early\u001b[0m\u001b[0;34m(\u001b[0m\u001b[0mself\u001b[0m\u001b[0;34m)\u001b[0m\u001b[0;34m:\u001b[0m\u001b[0;34m\u001b[0m\u001b[0;34m\u001b[0m\u001b[0m\n",
            "\u001b[0;32m/usr/local/lib/python3.10/dist-packages/joblib/parallel.py\u001b[0m in \u001b[0;36mget_result\u001b[0;34m(self, timeout)\u001b[0m\n\u001b[1;32m    734\u001b[0m             \u001b[0;31m# callback thread, and is stored internally. It's just waiting to\u001b[0m\u001b[0;34m\u001b[0m\u001b[0;34m\u001b[0m\u001b[0m\n\u001b[1;32m    735\u001b[0m             \u001b[0;31m# be returned.\u001b[0m\u001b[0;34m\u001b[0m\u001b[0;34m\u001b[0m\u001b[0m\n\u001b[0;32m--> 736\u001b[0;31m             \u001b[0;32mreturn\u001b[0m \u001b[0mself\u001b[0m\u001b[0;34m.\u001b[0m\u001b[0m_return_or_raise\u001b[0m\u001b[0;34m(\u001b[0m\u001b[0;34m)\u001b[0m\u001b[0;34m\u001b[0m\u001b[0;34m\u001b[0m\u001b[0m\n\u001b[0m\u001b[1;32m    737\u001b[0m \u001b[0;34m\u001b[0m\u001b[0m\n\u001b[1;32m    738\u001b[0m         \u001b[0;31m# For other backends, the main thread needs to run the retrieval step.\u001b[0m\u001b[0;34m\u001b[0m\u001b[0;34m\u001b[0m\u001b[0m\n",
            "\u001b[0;32m/usr/local/lib/python3.10/dist-packages/joblib/parallel.py\u001b[0m in \u001b[0;36m_return_or_raise\u001b[0;34m(self)\u001b[0m\n\u001b[1;32m    752\u001b[0m         \u001b[0;32mtry\u001b[0m\u001b[0;34m:\u001b[0m\u001b[0;34m\u001b[0m\u001b[0;34m\u001b[0m\u001b[0m\n\u001b[1;32m    753\u001b[0m             \u001b[0;32mif\u001b[0m \u001b[0mself\u001b[0m\u001b[0;34m.\u001b[0m\u001b[0mstatus\u001b[0m \u001b[0;34m==\u001b[0m \u001b[0mTASK_ERROR\u001b[0m\u001b[0;34m:\u001b[0m\u001b[0;34m\u001b[0m\u001b[0;34m\u001b[0m\u001b[0m\n\u001b[0;32m--> 754\u001b[0;31m                 \u001b[0;32mraise\u001b[0m \u001b[0mself\u001b[0m\u001b[0;34m.\u001b[0m\u001b[0m_result\u001b[0m\u001b[0;34m\u001b[0m\u001b[0;34m\u001b[0m\u001b[0m\n\u001b[0m\u001b[1;32m    755\u001b[0m             \u001b[0;32mreturn\u001b[0m \u001b[0mself\u001b[0m\u001b[0;34m.\u001b[0m\u001b[0m_result\u001b[0m\u001b[0;34m\u001b[0m\u001b[0;34m\u001b[0m\u001b[0m\n\u001b[1;32m    756\u001b[0m         \u001b[0;32mfinally\u001b[0m\u001b[0;34m:\u001b[0m\u001b[0;34m\u001b[0m\u001b[0;34m\u001b[0m\u001b[0m\n",
            "\u001b[0;31mBrokenProcessPool\u001b[0m: A task has failed to un-serialize. Please ensure that the arguments of the function are all picklable."
          ]
        }
      ]
    },
    {
      "cell_type": "code",
      "source": [
        "vis\n"
      ],
      "metadata": {
        "id": "tNbITa0w9UIE",
        "outputId": "7032b9e0-2517-4da2-d3c8-6577935b2822",
        "colab": {
          "base_uri": "https://localhost:8080/",
          "height": 228
        }
      },
      "execution_count": 70,
      "outputs": [
        {
          "output_type": "stream",
          "name": "stderr",
          "text": [
            "/usr/local/lib/python3.10/dist-packages/ipykernel/ipkernel.py:283: DeprecationWarning: `should_run_async` will not call `transform_cell` automatically in the future. Please pass the result to `transformed_cell` argument and any exception that happen during thetransform in `preprocessing_exc_tuple` in IPython 7.17 and above.\n",
            "  and should_run_async(code)\n"
          ]
        },
        {
          "output_type": "error",
          "ename": "NameError",
          "evalue": "name 'vis' is not defined",
          "traceback": [
            "\u001b[0;31m---------------------------------------------------------------------------\u001b[0m",
            "\u001b[0;31mNameError\u001b[0m                                 Traceback (most recent call last)",
            "\u001b[0;32m<ipython-input-70-e81aa82d637a>\u001b[0m in \u001b[0;36m<cell line: 1>\u001b[0;34m()\u001b[0m\n\u001b[0;32m----> 1\u001b[0;31m \u001b[0mvis\u001b[0m\u001b[0;34m\u001b[0m\u001b[0;34m\u001b[0m\u001b[0m\n\u001b[0m",
            "\u001b[0;31mNameError\u001b[0m: name 'vis' is not defined"
          ]
        }
      ]
    }
  ],
  "metadata": {
    "colab": {
      "provenance": [],
      "mount_file_id": "1doiAWwiuzDyOANtelhGgbDm-K0vEMAG7",
      "authorship_tag": "ABX9TyN4F8cY9R4fnppXaNi25+Zh",
      "include_colab_link": true
    },
    "kernelspec": {
      "display_name": "Python 3",
      "name": "python3"
    },
    "language_info": {
      "name": "python"
    }
  },
  "nbformat": 4,
  "nbformat_minor": 0
}